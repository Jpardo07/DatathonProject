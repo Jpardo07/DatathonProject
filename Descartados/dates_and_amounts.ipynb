{
 "cells": [
  {
   "cell_type": "code",
   "execution_count": 2,
   "metadata": {},
   "outputs": [],
   "source": [
    "import pandas as pd\n",
    "import numpy as np\n",
    "import datetime as dt\n",
    "\n",
    "from pmdarima.arima import auto_arima\n",
    "from pmdarima.arima import ADFTest\n",
    "import matplotlib as plt\n",
    "from sklearn.metrics import r2_score"
   ]
  },
  {
   "cell_type": "code",
   "execution_count": 3,
   "metadata": {},
   "outputs": [],
   "source": [
    "df_ventas = pd.read_csv(\"D:/Escritorio/items_ordered_2years.csv\", sep=\",\")"
   ]
  },
  {
   "cell_type": "code",
   "execution_count": 4,
   "metadata": {},
   "outputs": [],
   "source": [
    "#df_ventas[\"created_at\"] = pd.to_datetime(df_ventas[\"created_at\"], format=\"%Y-%m-%d, %H:%M:%S\")\n",
    "#df_ventas[\"created_at\"] = df_ventas[\"created_at\"].dt.week\n",
    "\n",
    "df_ventas[\"date\"] = df_ventas[\"created_at\"].apply(lambda x: x[0:10])\n",
    "\n",
    "df_ventas[\"year\"] = df_ventas[\"created_at\"].apply(lambda x: x[0:4])\n",
    "\n",
    "df_ventas[\"hour\"] = df_ventas[\"created_at\"].apply(lambda x: x[11:13])\n",
    "\n",
    "\n"
   ]
  },
  {
   "cell_type": "code",
   "execution_count": 5,
   "metadata": {},
   "outputs": [],
   "source": [
    "df_ventas[\"week\"] = df_ventas[\"date\"]\n",
    "df_ventas[\"date\"] = pd.to_datetime(df_ventas[\"date\"])\n",
    "#Convert with datetime\n",
    "df_ventas[\"week\"] = df_ventas[\"week\"].apply(lambda _: dt.datetime.strptime(_,\"%Y-%m-%d\"))"
   ]
  },
  {
   "cell_type": "code",
   "execution_count": 6,
   "metadata": {},
   "outputs": [
    {
     "data": {
      "text/plain": [
       "0          Tuesday\n",
       "1          Tuesday\n",
       "2          Tuesday\n",
       "3           Monday\n",
       "4         Thursday\n",
       "            ...   \n",
       "930955      Sunday\n",
       "930956      Sunday\n",
       "930957      Sunday\n",
       "930958      Sunday\n",
       "930959      Sunday\n",
       "Name: day, Length: 930960, dtype: object"
      ]
     },
     "execution_count": 6,
     "metadata": {},
     "output_type": "execute_result"
    }
   ],
   "source": [
    "df_ventas[\"day\"] = df_ventas[\"date\"].apply(lambda x: pd.Timestamp(x).day_name())\n",
    "\n",
    "df_ventas[\"day\"] "
   ]
  },
  {
   "cell_type": "code",
   "execution_count": 7,
   "metadata": {},
   "outputs": [],
   "source": [
    "df_ventas[\"week\"] = df_ventas[\"week\"].dt.isocalendar().week\n"
   ]
  },
  {
   "cell_type": "code",
   "execution_count": 8,
   "metadata": {},
   "outputs": [
    {
     "data": {
      "text/html": [
       "<div>\n",
       "<style scoped>\n",
       "    .dataframe tbody tr th:only-of-type {\n",
       "        vertical-align: middle;\n",
       "    }\n",
       "\n",
       "    .dataframe tbody tr th {\n",
       "        vertical-align: top;\n",
       "    }\n",
       "\n",
       "    .dataframe thead th {\n",
       "        text-align: right;\n",
       "    }\n",
       "</style>\n",
       "<table border=\"1\" class=\"dataframe\">\n",
       "  <thead>\n",
       "    <tr style=\"text-align: right;\">\n",
       "      <th></th>\n",
       "      <th>num_order</th>\n",
       "      <th>item_id</th>\n",
       "      <th>created_at</th>\n",
       "      <th>product_id</th>\n",
       "      <th>qty_ordered</th>\n",
       "      <th>base_cost</th>\n",
       "      <th>price</th>\n",
       "      <th>discount_percent</th>\n",
       "      <th>customer_id</th>\n",
       "      <th>city</th>\n",
       "      <th>zipcode</th>\n",
       "      <th>date</th>\n",
       "      <th>year</th>\n",
       "      <th>hour</th>\n",
       "      <th>week</th>\n",
       "      <th>day</th>\n",
       "    </tr>\n",
       "  </thead>\n",
       "  <tbody>\n",
       "    <tr>\n",
       "      <th>0</th>\n",
       "      <td>ce30c2f02458457e3c7b563a636ae2a1</td>\n",
       "      <td>0916c05c5c3f65f59d813a78ac35c8d2</td>\n",
       "      <td>2018-11-06 16:52:13</td>\n",
       "      <td>86434</td>\n",
       "      <td>1.0</td>\n",
       "      <td>9.3750</td>\n",
       "      <td>15.38</td>\n",
       "      <td>8.0</td>\n",
       "      <td>eccbc87e4b5ce2fe28308fd9f2a7baf3</td>\n",
       "      <td>TARAZONA DE LA MANCHA</td>\n",
       "      <td>02100</td>\n",
       "      <td>2018-11-06</td>\n",
       "      <td>2018</td>\n",
       "      <td>16</td>\n",
       "      <td>45</td>\n",
       "      <td>Tuesday</td>\n",
       "    </tr>\n",
       "    <tr>\n",
       "      <th>1</th>\n",
       "      <td>ce30c2f02458457e3c7b563a636ae2a1</td>\n",
       "      <td>ff323b39ae36843396d2e53ce549fb10</td>\n",
       "      <td>2018-11-06 16:52:13</td>\n",
       "      <td>87652</td>\n",
       "      <td>1.0</td>\n",
       "      <td>7.0000</td>\n",
       "      <td>15.41</td>\n",
       "      <td>8.0</td>\n",
       "      <td>eccbc87e4b5ce2fe28308fd9f2a7baf3</td>\n",
       "      <td>TARAZONA DE LA MANCHA</td>\n",
       "      <td>02100</td>\n",
       "      <td>2018-11-06</td>\n",
       "      <td>2018</td>\n",
       "      <td>16</td>\n",
       "      <td>45</td>\n",
       "      <td>Tuesday</td>\n",
       "    </tr>\n",
       "    <tr>\n",
       "      <th>2</th>\n",
       "      <td>ce30c2f02458457e3c7b563a636ae2a1</td>\n",
       "      <td>199916dffc95259f4d2daab6664ca9c0</td>\n",
       "      <td>2018-11-06 16:52:13</td>\n",
       "      <td>2785</td>\n",
       "      <td>1.0</td>\n",
       "      <td>9.1587</td>\n",
       "      <td>12.23</td>\n",
       "      <td>8.0</td>\n",
       "      <td>eccbc87e4b5ce2fe28308fd9f2a7baf3</td>\n",
       "      <td>TARAZONA DE LA MANCHA</td>\n",
       "      <td>02100</td>\n",
       "      <td>2018-11-06</td>\n",
       "      <td>2018</td>\n",
       "      <td>16</td>\n",
       "      <td>45</td>\n",
       "      <td>Tuesday</td>\n",
       "    </tr>\n",
       "    <tr>\n",
       "      <th>3</th>\n",
       "      <td>83e75d608f11c8163599806420903ab9</td>\n",
       "      <td>8ca334ec2493501139327ce0165a1a84</td>\n",
       "      <td>2018-12-17 12:26:54</td>\n",
       "      <td>13000</td>\n",
       "      <td>5.0</td>\n",
       "      <td>13.7936</td>\n",
       "      <td>15.03</td>\n",
       "      <td>50.0</td>\n",
       "      <td>eccbc87e4b5ce2fe28308fd9f2a7baf3</td>\n",
       "      <td>TARAZONA DE LA MANCHA</td>\n",
       "      <td>02100</td>\n",
       "      <td>2018-12-17</td>\n",
       "      <td>2018</td>\n",
       "      <td>12</td>\n",
       "      <td>51</td>\n",
       "      <td>Monday</td>\n",
       "    </tr>\n",
       "    <tr>\n",
       "      <th>4</th>\n",
       "      <td>9b687270d8e7eed9717022af5961a190</td>\n",
       "      <td>ce0a1683c6b1a0248b330344ec592ddf</td>\n",
       "      <td>2017-01-12 14:19:03</td>\n",
       "      <td>41947</td>\n",
       "      <td>1.0</td>\n",
       "      <td>5.5924</td>\n",
       "      <td>7.00</td>\n",
       "      <td>5.0</td>\n",
       "      <td>1679091c5a880faf6fb5e6087eb1b2dc</td>\n",
       "      <td>Alboraya</td>\n",
       "      <td>46120</td>\n",
       "      <td>2017-01-12</td>\n",
       "      <td>2017</td>\n",
       "      <td>14</td>\n",
       "      <td>2</td>\n",
       "      <td>Thursday</td>\n",
       "    </tr>\n",
       "    <tr>\n",
       "      <th>...</th>\n",
       "      <td>...</td>\n",
       "      <td>...</td>\n",
       "      <td>...</td>\n",
       "      <td>...</td>\n",
       "      <td>...</td>\n",
       "      <td>...</td>\n",
       "      <td>...</td>\n",
       "      <td>...</td>\n",
       "      <td>...</td>\n",
       "      <td>...</td>\n",
       "      <td>...</td>\n",
       "      <td>...</td>\n",
       "      <td>...</td>\n",
       "      <td>...</td>\n",
       "      <td>...</td>\n",
       "      <td>...</td>\n",
       "    </tr>\n",
       "    <tr>\n",
       "      <th>930955</th>\n",
       "      <td>479ed436c26a511c4c3356e679bccbc9</td>\n",
       "      <td>37d700d54a6acc0ff49392cce34b6427</td>\n",
       "      <td>2018-12-30 23:51:57</td>\n",
       "      <td>1868</td>\n",
       "      <td>1.0</td>\n",
       "      <td>4.0700</td>\n",
       "      <td>4.79</td>\n",
       "      <td>10.0</td>\n",
       "      <td>d9cd4886b615a36059f72a74d7019113</td>\n",
       "      <td>Ubeda</td>\n",
       "      <td>23400</td>\n",
       "      <td>2018-12-30</td>\n",
       "      <td>2018</td>\n",
       "      <td>23</td>\n",
       "      <td>52</td>\n",
       "      <td>Sunday</td>\n",
       "    </tr>\n",
       "    <tr>\n",
       "      <th>930956</th>\n",
       "      <td>479ed436c26a511c4c3356e679bccbc9</td>\n",
       "      <td>05fd04261f1c951b07f2ac3a67254d81</td>\n",
       "      <td>2018-12-30 23:51:57</td>\n",
       "      <td>23539</td>\n",
       "      <td>1.0</td>\n",
       "      <td>4.0700</td>\n",
       "      <td>5.35</td>\n",
       "      <td>10.0</td>\n",
       "      <td>d9cd4886b615a36059f72a74d7019113</td>\n",
       "      <td>Ubeda</td>\n",
       "      <td>23400</td>\n",
       "      <td>2018-12-30</td>\n",
       "      <td>2018</td>\n",
       "      <td>23</td>\n",
       "      <td>52</td>\n",
       "      <td>Sunday</td>\n",
       "    </tr>\n",
       "    <tr>\n",
       "      <th>930957</th>\n",
       "      <td>bf923aa16e0608a5ed95347a9f411dce</td>\n",
       "      <td>8d8600ea4e451330f8614ba08ad4f047</td>\n",
       "      <td>2018-12-30 23:57:37</td>\n",
       "      <td>92793</td>\n",
       "      <td>1.0</td>\n",
       "      <td>33.7360</td>\n",
       "      <td>32.93</td>\n",
       "      <td>10.0</td>\n",
       "      <td>d73f27d3ab96df71f0fdc47511f326bc</td>\n",
       "      <td>Vic</td>\n",
       "      <td>08500</td>\n",
       "      <td>2018-12-30</td>\n",
       "      <td>2018</td>\n",
       "      <td>23</td>\n",
       "      <td>52</td>\n",
       "      <td>Sunday</td>\n",
       "    </tr>\n",
       "    <tr>\n",
       "      <th>930958</th>\n",
       "      <td>bf923aa16e0608a5ed95347a9f411dce</td>\n",
       "      <td>b74b2e1a096c656a247142e24eefb738</td>\n",
       "      <td>2018-12-30 23:57:37</td>\n",
       "      <td>93036</td>\n",
       "      <td>1.0</td>\n",
       "      <td>0.0000</td>\n",
       "      <td>16.32</td>\n",
       "      <td>10.0</td>\n",
       "      <td>d73f27d3ab96df71f0fdc47511f326bc</td>\n",
       "      <td>Vic</td>\n",
       "      <td>08500</td>\n",
       "      <td>2018-12-30</td>\n",
       "      <td>2018</td>\n",
       "      <td>23</td>\n",
       "      <td>52</td>\n",
       "      <td>Sunday</td>\n",
       "    </tr>\n",
       "    <tr>\n",
       "      <th>930959</th>\n",
       "      <td>bf923aa16e0608a5ed95347a9f411dce</td>\n",
       "      <td>fd0c1bb9a90dce3f3b2099990f019262</td>\n",
       "      <td>2018-12-30 23:57:37</td>\n",
       "      <td>11850</td>\n",
       "      <td>1.0</td>\n",
       "      <td>10.4414</td>\n",
       "      <td>12.53</td>\n",
       "      <td>10.0</td>\n",
       "      <td>d73f27d3ab96df71f0fdc47511f326bc</td>\n",
       "      <td>Vic</td>\n",
       "      <td>08500</td>\n",
       "      <td>2018-12-30</td>\n",
       "      <td>2018</td>\n",
       "      <td>23</td>\n",
       "      <td>52</td>\n",
       "      <td>Sunday</td>\n",
       "    </tr>\n",
       "  </tbody>\n",
       "</table>\n",
       "<p>930960 rows × 16 columns</p>\n",
       "</div>"
      ],
      "text/plain": [
       "                               num_order                           item_id  \\\n",
       "0       ce30c2f02458457e3c7b563a636ae2a1  0916c05c5c3f65f59d813a78ac35c8d2   \n",
       "1       ce30c2f02458457e3c7b563a636ae2a1  ff323b39ae36843396d2e53ce549fb10   \n",
       "2       ce30c2f02458457e3c7b563a636ae2a1  199916dffc95259f4d2daab6664ca9c0   \n",
       "3       83e75d608f11c8163599806420903ab9  8ca334ec2493501139327ce0165a1a84   \n",
       "4       9b687270d8e7eed9717022af5961a190  ce0a1683c6b1a0248b330344ec592ddf   \n",
       "...                                  ...                               ...   \n",
       "930955  479ed436c26a511c4c3356e679bccbc9  37d700d54a6acc0ff49392cce34b6427   \n",
       "930956  479ed436c26a511c4c3356e679bccbc9  05fd04261f1c951b07f2ac3a67254d81   \n",
       "930957  bf923aa16e0608a5ed95347a9f411dce  8d8600ea4e451330f8614ba08ad4f047   \n",
       "930958  bf923aa16e0608a5ed95347a9f411dce  b74b2e1a096c656a247142e24eefb738   \n",
       "930959  bf923aa16e0608a5ed95347a9f411dce  fd0c1bb9a90dce3f3b2099990f019262   \n",
       "\n",
       "                 created_at  product_id  qty_ordered  base_cost  price  \\\n",
       "0       2018-11-06 16:52:13       86434          1.0     9.3750  15.38   \n",
       "1       2018-11-06 16:52:13       87652          1.0     7.0000  15.41   \n",
       "2       2018-11-06 16:52:13        2785          1.0     9.1587  12.23   \n",
       "3       2018-12-17 12:26:54       13000          5.0    13.7936  15.03   \n",
       "4       2017-01-12 14:19:03       41947          1.0     5.5924   7.00   \n",
       "...                     ...         ...          ...        ...    ...   \n",
       "930955  2018-12-30 23:51:57        1868          1.0     4.0700   4.79   \n",
       "930956  2018-12-30 23:51:57       23539          1.0     4.0700   5.35   \n",
       "930957  2018-12-30 23:57:37       92793          1.0    33.7360  32.93   \n",
       "930958  2018-12-30 23:57:37       93036          1.0     0.0000  16.32   \n",
       "930959  2018-12-30 23:57:37       11850          1.0    10.4414  12.53   \n",
       "\n",
       "        discount_percent                       customer_id  \\\n",
       "0                    8.0  eccbc87e4b5ce2fe28308fd9f2a7baf3   \n",
       "1                    8.0  eccbc87e4b5ce2fe28308fd9f2a7baf3   \n",
       "2                    8.0  eccbc87e4b5ce2fe28308fd9f2a7baf3   \n",
       "3                   50.0  eccbc87e4b5ce2fe28308fd9f2a7baf3   \n",
       "4                    5.0  1679091c5a880faf6fb5e6087eb1b2dc   \n",
       "...                  ...                               ...   \n",
       "930955              10.0  d9cd4886b615a36059f72a74d7019113   \n",
       "930956              10.0  d9cd4886b615a36059f72a74d7019113   \n",
       "930957              10.0  d73f27d3ab96df71f0fdc47511f326bc   \n",
       "930958              10.0  d73f27d3ab96df71f0fdc47511f326bc   \n",
       "930959              10.0  d73f27d3ab96df71f0fdc47511f326bc   \n",
       "\n",
       "                         city zipcode       date  year hour  week       day  \n",
       "0       TARAZONA DE LA MANCHA   02100 2018-11-06  2018   16    45   Tuesday  \n",
       "1       TARAZONA DE LA MANCHA   02100 2018-11-06  2018   16    45   Tuesday  \n",
       "2       TARAZONA DE LA MANCHA   02100 2018-11-06  2018   16    45   Tuesday  \n",
       "3       TARAZONA DE LA MANCHA   02100 2018-12-17  2018   12    51    Monday  \n",
       "4                    Alboraya   46120 2017-01-12  2017   14     2  Thursday  \n",
       "...                       ...     ...        ...   ...  ...   ...       ...  \n",
       "930955                  Ubeda   23400 2018-12-30  2018   23    52    Sunday  \n",
       "930956                  Ubeda   23400 2018-12-30  2018   23    52    Sunday  \n",
       "930957                    Vic   08500 2018-12-30  2018   23    52    Sunday  \n",
       "930958                    Vic   08500 2018-12-30  2018   23    52    Sunday  \n",
       "930959                    Vic   08500 2018-12-30  2018   23    52    Sunday  \n",
       "\n",
       "[930960 rows x 16 columns]"
      ]
     },
     "execution_count": 8,
     "metadata": {},
     "output_type": "execute_result"
    }
   ],
   "source": [
    "df_ventas"
   ]
  },
  {
   "cell_type": "code",
   "execution_count": 9,
   "metadata": {},
   "outputs": [],
   "source": [
    "df_ventas[\"week\"][df_ventas[\"year\"] == \"2018\"] = df_ventas[\"week\"][df_ventas[\"year\"] == \"2018\"] + 52"
   ]
  },
  {
   "cell_type": "code",
   "execution_count": 10,
   "metadata": {},
   "outputs": [
    {
     "data": {
      "text/plain": [
       "0          97\n",
       "1          97\n",
       "2          97\n",
       "3         103\n",
       "39         56\n",
       "         ... \n",
       "930955    104\n",
       "930956    104\n",
       "930957    104\n",
       "930958    104\n",
       "930959    104\n",
       "Name: week, Length: 615829, dtype: UInt32"
      ]
     },
     "execution_count": 10,
     "metadata": {},
     "output_type": "execute_result"
    }
   ],
   "source": [
    "df_ventas[\"week\"][df_ventas[\"year\"] == \"2018\"]"
   ]
  },
  {
   "cell_type": "code",
   "execution_count": 11,
   "metadata": {},
   "outputs": [
    {
     "data": {
      "text/plain": [
       "104"
      ]
     },
     "execution_count": 11,
     "metadata": {},
     "output_type": "execute_result"
    }
   ],
   "source": [
    "len(df_ventas[\"week\"].unique())"
   ]
  },
  {
   "cell_type": "code",
   "execution_count": 12,
   "metadata": {},
   "outputs": [],
   "source": [
    "df_ventas[\"margin_total\"] = (df_ventas[\"price\"] - df_ventas[\"base_cost\"]) * df_ventas[\"qty_ordered\"]\n",
    "df_ventas[\"price_total\"] = df_ventas[\"price\"] * df_ventas[\"qty_ordered\"]"
   ]
  },
  {
   "cell_type": "code",
   "execution_count": 13,
   "metadata": {},
   "outputs": [
    {
     "data": {
      "text/plain": [
       "147"
      ]
     },
     "execution_count": 13,
     "metadata": {},
     "output_type": "execute_result"
    }
   ],
   "source": [
    "(df_ventas[\"discount_percent\"][df_ventas[\"margin_total\"] < -10]).count()"
   ]
  },
  {
   "cell_type": "code",
   "execution_count": 14,
   "metadata": {},
   "outputs": [
    {
     "data": {
      "text/html": [
       "<div>\n",
       "<style scoped>\n",
       "    .dataframe tbody tr th:only-of-type {\n",
       "        vertical-align: middle;\n",
       "    }\n",
       "\n",
       "    .dataframe tbody tr th {\n",
       "        vertical-align: top;\n",
       "    }\n",
       "\n",
       "    .dataframe thead th {\n",
       "        text-align: right;\n",
       "    }\n",
       "</style>\n",
       "<table border=\"1\" class=\"dataframe\">\n",
       "  <thead>\n",
       "    <tr style=\"text-align: right;\">\n",
       "      <th></th>\n",
       "      <th>num_order</th>\n",
       "      <th>item_id</th>\n",
       "      <th>created_at</th>\n",
       "      <th>product_id</th>\n",
       "      <th>qty_ordered</th>\n",
       "      <th>base_cost</th>\n",
       "      <th>price</th>\n",
       "      <th>discount_percent</th>\n",
       "      <th>customer_id</th>\n",
       "      <th>city</th>\n",
       "      <th>zipcode</th>\n",
       "      <th>date</th>\n",
       "      <th>year</th>\n",
       "      <th>hour</th>\n",
       "      <th>week</th>\n",
       "      <th>day</th>\n",
       "      <th>margin_total</th>\n",
       "      <th>price_total</th>\n",
       "    </tr>\n",
       "  </thead>\n",
       "  <tbody>\n",
       "    <tr>\n",
       "      <th>0</th>\n",
       "      <td>ce30c2f02458457e3c7b563a636ae2a1</td>\n",
       "      <td>0916c05c5c3f65f59d813a78ac35c8d2</td>\n",
       "      <td>2018-11-06 16:52:13</td>\n",
       "      <td>86434</td>\n",
       "      <td>1.0</td>\n",
       "      <td>9.375</td>\n",
       "      <td>15.38</td>\n",
       "      <td>8.0</td>\n",
       "      <td>eccbc87e4b5ce2fe28308fd9f2a7baf3</td>\n",
       "      <td>TARAZONA DE LA MANCHA</td>\n",
       "      <td>02100</td>\n",
       "      <td>2018-11-06</td>\n",
       "      <td>2018</td>\n",
       "      <td>16</td>\n",
       "      <td>97</td>\n",
       "      <td>Tuesday</td>\n",
       "      <td>6.005</td>\n",
       "      <td>15.38</td>\n",
       "    </tr>\n",
       "  </tbody>\n",
       "</table>\n",
       "</div>"
      ],
      "text/plain": [
       "                          num_order                           item_id  \\\n",
       "0  ce30c2f02458457e3c7b563a636ae2a1  0916c05c5c3f65f59d813a78ac35c8d2   \n",
       "\n",
       "            created_at  product_id  qty_ordered  base_cost  price  \\\n",
       "0  2018-11-06 16:52:13       86434          1.0      9.375  15.38   \n",
       "\n",
       "   discount_percent                       customer_id                   city  \\\n",
       "0               8.0  eccbc87e4b5ce2fe28308fd9f2a7baf3  TARAZONA DE LA MANCHA   \n",
       "\n",
       "  zipcode       date  year hour  week      day  margin_total  price_total  \n",
       "0   02100 2018-11-06  2018   16    97  Tuesday         6.005        15.38  "
      ]
     },
     "execution_count": 14,
     "metadata": {},
     "output_type": "execute_result"
    }
   ],
   "source": [
    "df_ventas.head(1)"
   ]
  },
  {
   "cell_type": "code",
   "execution_count": 22,
   "metadata": {},
   "outputs": [],
   "source": [
    "df_ventas.to_excel('df_ventas.xlsx')"
   ]
  },
  {
   "cell_type": "code",
   "execution_count": 15,
   "metadata": {},
   "outputs": [],
   "source": [
    "df_by_weeks = df_ventas.groupby(\"week\").agg({\"price_total\" : \"sum\"})\n",
    "df_by_weeks.to_csv('df_by_weeks.csv')\n",
    "df_ventas.to_csv('df_ventas.csv')"
   ]
  },
  {
   "cell_type": "code",
   "execution_count": 74,
   "metadata": {},
   "outputs": [
    {
     "data": {
      "text/plain": [
       "week\n",
       "1        2983.3181\n",
       "2       27144.7247\n",
       "3       27524.5502\n",
       "4        7610.8697\n",
       "5        2686.9283\n",
       "          ...     \n",
       "100     14997.8325\n",
       "101      2056.5827\n",
       "102     91446.2920\n",
       "103     69791.3662\n",
       "104    114626.6857\n",
       "Name: margin_total, Length: 104, dtype: float64"
      ]
     },
     "execution_count": 74,
     "metadata": {},
     "output_type": "execute_result"
    }
   ],
   "source": [
    "df_by_weeks[\"margin_total\"]"
   ]
  },
  {
   "cell_type": "code",
   "execution_count": 75,
   "metadata": {},
   "outputs": [
    {
     "data": {
      "text/plain": [
       "<AxesSubplot:xlabel='week'>"
      ]
     },
     "execution_count": 75,
     "metadata": {},
     "output_type": "execute_result"
    },
    {
     "data": {
      "image/png": "[encoded data removed]",
      "text/plain": [
       "<Figure size 432x288 with 1 Axes>"
      ]
     },
     "metadata": {
      "needs_background": "light"
     },
     "output_type": "display_data"
    }
   ],
   "source": [
    "df_by_weeks.plot()"
   ]
  },
  {
   "cell_type": "code",
   "execution_count": 56,
   "metadata": {},
   "outputs": [
    {
     "data": {
      "text/plain": [
       "(0.01, False)"
      ]
     },
     "execution_count": 56,
     "metadata": {},
     "output_type": "execute_result"
    }
   ],
   "source": [
    "adf_test = ADFTest(alpha = 0.05)\n",
    "adf_test.should_diff(df_by_weeks)"
   ]
  },
  {
   "cell_type": "code",
   "execution_count": 57,
   "metadata": {},
   "outputs": [
    {
     "data": {
      "text/plain": [
       "[<matplotlib.lines.Line2D at 0x21298a2bbb0>]"
      ]
     },
     "execution_count": 57,
     "metadata": {},
     "output_type": "execute_result"
    },
    {
     "data": {
      "image/png": "[encoded data removed]",
      "text/plain": [
       "<Figure size 432x288 with 1 Axes>"
      ]
     },
     "metadata": {
      "needs_background": "light"
     },
     "output_type": "display_data"
    }
   ],
   "source": [
    "# Train and Test split\n",
    "\n",
    "train = df_by_weeks[:661]\n",
    "test = df_by_weeks[-61:]\n",
    "plt.pyplot.plot(train)\n",
    "plt.pyplot.plot(test)"
   ]
  },
  {
   "cell_type": "code",
   "execution_count": 58,
   "metadata": {},
   "outputs": [
    {
     "name": "stdout",
     "output_type": "stream",
     "text": [
      "Performing stepwise search to minimize aic\n",
      " ARIMA(0,1,0)(0,0,0)[0] intercept   : AIC=13453.550, Time=0.06 sec\n",
      " ARIMA(1,1,0)(0,0,0)[0] intercept   : AIC=13308.114, Time=0.14 sec\n",
      " ARIMA(0,1,1)(0,0,0)[0] intercept   : AIC=13336.599, Time=0.11 sec\n",
      " ARIMA(0,1,0)(0,0,0)[0]             : AIC=13451.552, Time=0.02 sec\n",
      " ARIMA(2,1,0)(0,0,0)[0] intercept   : AIC=13309.594, Time=0.09 sec\n",
      " ARIMA(1,1,1)(0,0,0)[0] intercept   : AIC=13309.747, Time=0.12 sec\n",
      " ARIMA(2,1,1)(0,0,0)[0] intercept   : AIC=13311.184, Time=0.33 sec\n",
      " ARIMA(1,1,0)(0,0,0)[0]             : AIC=13306.115, Time=0.08 sec\n",
      " ARIMA(2,1,0)(0,0,0)[0]             : AIC=13307.594, Time=0.06 sec\n",
      " ARIMA(1,1,1)(0,0,0)[0]             : AIC=13307.747, Time=0.10 sec\n",
      " ARIMA(0,1,1)(0,0,0)[0]             : AIC=13334.599, Time=0.07 sec\n",
      " ARIMA(2,1,1)(0,0,0)[0]             : AIC=13309.184, Time=0.22 sec\n",
      "\n",
      "Best model:  ARIMA(1,1,0)(0,0,0)[0]          \n",
      "Total fit time: 1.416 seconds\n"
     ]
    }
   ],
   "source": [
    "arima_model = auto_arima(\n",
    "    train, start_p = 0,\n",
    "    start_q = 0, \n",
    "    max_p = 5,\n",
    "    max_q = 5, \n",
    "    start_P = 0,\n",
    "    start_Q = 0, \n",
    "    max_P = 5,\n",
    "    max_Q = 5, \n",
    "    max_D=5,\n",
    "    seasonal = True,\n",
    "    error_action=\"warn\",\n",
    "    trace = True,\n",
    "    suppress_warnings=True,\n",
    "    stepwise=True,\n",
    "    random_state=20,\n",
    "    n_fits=50,\n",
    "    )"
   ]
  },
  {
   "cell_type": "code",
   "execution_count": 59,
   "metadata": {},
   "outputs": [
    {
     "data": {
      "text/html": [
       "<table class=\"simpletable\">\n",
       "<caption>SARIMAX Results</caption>\n",
       "<tr>\n",
       "  <th>Dep. Variable:</th>           <td>y</td>        <th>  No. Observations:  </th>    <td>661</td>   \n",
       "</tr>\n",
       "<tr>\n",
       "  <th>Model:</th>           <td>SARIMAX(1, 1, 0)</td> <th>  Log Likelihood     </th> <td>-6651.057</td>\n",
       "</tr>\n",
       "<tr>\n",
       "  <th>Date:</th>            <td>Sat, 19 Mar 2022</td> <th>  AIC                </th> <td>13306.115</td>\n",
       "</tr>\n",
       "<tr>\n",
       "  <th>Time:</th>                <td>10:18:50</td>     <th>  BIC                </th> <td>13315.099</td>\n",
       "</tr>\n",
       "<tr>\n",
       "  <th>Sample:</th>                  <td>0</td>        <th>  HQIC               </th> <td>13309.597</td>\n",
       "</tr>\n",
       "<tr>\n",
       "  <th></th>                      <td> - 661</td>      <th>                     </th>     <td> </td>    \n",
       "</tr>\n",
       "<tr>\n",
       "  <th>Covariance Type:</th>        <td>opg</td>       <th>                     </th>     <td> </td>    \n",
       "</tr>\n",
       "</table>\n",
       "<table class=\"simpletable\">\n",
       "<tr>\n",
       "     <td></td>       <th>coef</th>     <th>std err</th>      <th>z</th>      <th>P>|z|</th>  <th>[0.025</th>    <th>0.975]</th>  \n",
       "</tr>\n",
       "<tr>\n",
       "  <th>ar.L1</th>  <td>   -0.4471</td> <td>    0.008</td> <td>  -54.844</td> <td> 0.000</td> <td>   -0.463</td> <td>   -0.431</td>\n",
       "</tr>\n",
       "<tr>\n",
       "  <th>sigma2</th> <td> 3.321e+07</td> <td> 4.53e-12</td> <td> 7.33e+18</td> <td> 0.000</td> <td> 3.32e+07</td> <td> 3.32e+07</td>\n",
       "</tr>\n",
       "</table>\n",
       "<table class=\"simpletable\">\n",
       "<tr>\n",
       "  <th>Ljung-Box (L1) (Q):</th>     <td>0.11</td> <th>  Jarque-Bera (JB):  </th> <td>183928.58</td>\n",
       "</tr>\n",
       "<tr>\n",
       "  <th>Prob(Q):</th>                <td>0.74</td> <th>  Prob(JB):          </th>   <td>0.00</td>   \n",
       "</tr>\n",
       "<tr>\n",
       "  <th>Heteroskedasticity (H):</th> <td>0.34</td> <th>  Skew:              </th>   <td>-2.48</td>  \n",
       "</tr>\n",
       "<tr>\n",
       "  <th>Prob(H) (two-sided):</th>    <td>0.00</td> <th>  Kurtosis:          </th>   <td>84.63</td>  \n",
       "</tr>\n",
       "</table><br/><br/>Warnings:<br/>[1] Covariance matrix calculated using the outer product of gradients (complex-step)."
      ],
      "text/plain": [
       "<class 'statsmodels.iolib.summary.Summary'>\n",
       "\"\"\"\n",
       "                               SARIMAX Results                                \n",
       "==============================================================================\n",
       "Dep. Variable:                      y   No. Observations:                  661\n",
       "Model:               SARIMAX(1, 1, 0)   Log Likelihood               -6651.057\n",
       "Date:                Sat, 19 Mar 2022   AIC                          13306.115\n",
       "Time:                        10:18:50   BIC                          13315.099\n",
       "Sample:                             0   HQIC                         13309.597\n",
       "                                - 661                                         \n",
       "Covariance Type:                  opg                                         \n",
       "==============================================================================\n",
       "                 coef    std err          z      P>|z|      [0.025      0.975]\n",
       "------------------------------------------------------------------------------\n",
       "ar.L1         -0.4471      0.008    -54.844      0.000      -0.463      -0.431\n",
       "sigma2      3.321e+07   4.53e-12   7.33e+18      0.000    3.32e+07    3.32e+07\n",
       "===================================================================================\n",
       "Ljung-Box (L1) (Q):                   0.11   Jarque-Bera (JB):            183928.58\n",
       "Prob(Q):                              0.74   Prob(JB):                         0.00\n",
       "Heteroskedasticity (H):               0.34   Skew:                            -2.48\n",
       "Prob(H) (two-sided):                  0.00   Kurtosis:                        84.63\n",
       "===================================================================================\n",
       "\n",
       "Warnings:\n",
       "[1] Covariance matrix calculated using the outer product of gradients (complex-step).\n",
       "\"\"\""
      ]
     },
     "execution_count": 59,
     "metadata": {},
     "output_type": "execute_result"
    }
   ],
   "source": [
    "arima_model.summary()"
   ]
  },
  {
   "cell_type": "code",
   "execution_count": 60,
   "metadata": {},
   "outputs": [
    {
     "data": {
      "text/plain": [
       "array([274.77746348, 272.07918574, 273.28568606, 272.7462149 ,\n",
       "       272.98743252, 272.87957515, 272.92780219, 272.90623809,\n",
       "       272.9158802 , 272.91156885, 272.91349661, 272.91263464,\n",
       "       272.91302006, 272.91284772, 272.91292478, 272.91289033,\n",
       "       272.91290573, 272.91289884, 272.91290192])"
      ]
     },
     "execution_count": 60,
     "metadata": {},
     "output_type": "execute_result"
    }
   ],
   "source": [
    "arima_model.predict(n_periods = 19)"
   ]
  },
  {
   "cell_type": "code",
   "execution_count": 62,
   "metadata": {},
   "outputs": [
    {
     "data": {
      "text/html": [
       "<div>\n",
       "<style scoped>\n",
       "    .dataframe tbody tr th:only-of-type {\n",
       "        vertical-align: middle;\n",
       "    }\n",
       "\n",
       "    .dataframe tbody tr th {\n",
       "        vertical-align: top;\n",
       "    }\n",
       "\n",
       "    .dataframe thead th {\n",
       "        text-align: right;\n",
       "    }\n",
       "</style>\n",
       "<table border=\"1\" class=\"dataframe\">\n",
       "  <thead>\n",
       "    <tr style=\"text-align: right;\">\n",
       "      <th></th>\n",
       "      <th>predicted_price</th>\n",
       "    </tr>\n",
       "    <tr>\n",
       "      <th>fecha</th>\n",
       "      <th></th>\n",
       "    </tr>\n",
       "  </thead>\n",
       "  <tbody>\n",
       "    <tr>\n",
       "      <th>2018-10-31</th>\n",
       "      <td>274.777463</td>\n",
       "    </tr>\n",
       "    <tr>\n",
       "      <th>2018-11-01</th>\n",
       "      <td>272.079186</td>\n",
       "    </tr>\n",
       "    <tr>\n",
       "      <th>2018-11-02</th>\n",
       "      <td>273.285686</td>\n",
       "    </tr>\n",
       "    <tr>\n",
       "      <th>2018-11-03</th>\n",
       "      <td>272.746215</td>\n",
       "    </tr>\n",
       "    <tr>\n",
       "      <th>2018-11-04</th>\n",
       "      <td>272.987433</td>\n",
       "    </tr>\n",
       "    <tr>\n",
       "      <th>...</th>\n",
       "      <td>...</td>\n",
       "    </tr>\n",
       "    <tr>\n",
       "      <th>2018-12-26</th>\n",
       "      <td>272.912901</td>\n",
       "    </tr>\n",
       "    <tr>\n",
       "      <th>2018-12-27</th>\n",
       "      <td>272.912901</td>\n",
       "    </tr>\n",
       "    <tr>\n",
       "      <th>2018-12-28</th>\n",
       "      <td>272.912901</td>\n",
       "    </tr>\n",
       "    <tr>\n",
       "      <th>2018-12-29</th>\n",
       "      <td>272.912901</td>\n",
       "    </tr>\n",
       "    <tr>\n",
       "      <th>2018-12-30</th>\n",
       "      <td>272.912901</td>\n",
       "    </tr>\n",
       "  </tbody>\n",
       "</table>\n",
       "<p>61 rows × 1 columns</p>\n",
       "</div>"
      ],
      "text/plain": [
       "            predicted_price\n",
       "fecha                      \n",
       "2018-10-31       274.777463\n",
       "2018-11-01       272.079186\n",
       "2018-11-02       273.285686\n",
       "2018-11-03       272.746215\n",
       "2018-11-04       272.987433\n",
       "...                     ...\n",
       "2018-12-26       272.912901\n",
       "2018-12-27       272.912901\n",
       "2018-12-28       272.912901\n",
       "2018-12-29       272.912901\n",
       "2018-12-30       272.912901\n",
       "\n",
       "[61 rows x 1 columns]"
      ]
     },
     "execution_count": 62,
     "metadata": {},
     "output_type": "execute_result"
    }
   ],
   "source": [
    "prediction = pd.DataFrame(arima_model.predict(n_periods = 61), index = test.index)\n",
    "prediction.columns = ['predicted_price']\n",
    "prediction"
   ]
  },
  {
   "cell_type": "code",
   "execution_count": 63,
   "metadata": {},
   "outputs": [
    {
     "name": "stderr",
     "output_type": "stream",
     "text": [
      "<ipython-input-63-8cfe27087c56>:1: SettingWithCopyWarning: \n",
      "A value is trying to be set on a copy of a slice from a DataFrame.\n",
      "Try using .loc[row_indexer,col_indexer] = value instead\n",
      "\n",
      "See the caveats in the documentation: https://pandas.pydata.org/pandas-docs/stable/user_guide/indexing.html#returning-a-view-versus-a-copy\n",
      "  test[\"predicted_price\"] = prediction\n"
     ]
    },
    {
     "data": {
      "text/plain": [
       "-1.4024396415594116"
      ]
     },
     "execution_count": 63,
     "metadata": {},
     "output_type": "execute_result"
    }
   ],
   "source": [
    "test[\"predicted_price\"] = prediction\n",
    "r2_score(test[\"margin_total\"], test[\"predicted_price\"])"
   ]
  }
 ],
 "metadata": {
  "interpreter": {
   "hash": "67ff2b08a60b3c8d3383ece141b44d84ac527aa0fb2b4d51a958291ceaf46288"
  },
  "kernelspec": {
   "display_name": "Python 3.9.4 64-bit",
   "language": "python",
   "name": "python3"
  },
  "language_info": {
   "codemirror_mode": {
    "name": "ipython",
    "version": 3
   },
   "file_extension": ".py",
   "mimetype": "text/x-python",
   "name": "python",
   "nbconvert_exporter": "python",
   "pygments_lexer": "ipython3",
   "version": "3.8.8"
  },
  "orig_nbformat": 4
 },
 "nbformat": 4,
 "nbformat_minor": 2
}
