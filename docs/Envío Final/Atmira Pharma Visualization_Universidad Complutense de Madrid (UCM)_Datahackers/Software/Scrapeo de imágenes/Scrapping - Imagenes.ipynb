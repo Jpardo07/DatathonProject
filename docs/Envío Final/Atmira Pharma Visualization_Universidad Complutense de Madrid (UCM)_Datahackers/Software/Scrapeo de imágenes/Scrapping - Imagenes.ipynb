{
 "cells": [
  {
   "cell_type": "markdown",
   "metadata": {},
   "source": [
    "### Importación de librerías"
   ]
  },
  {
   "cell_type": "code",
   "execution_count": 1,
   "metadata": {},
   "outputs": [],
   "source": [
    "from selenium import webdriver # Webscrapping bot\n",
    "from selenium.webdriver.common.by import By\n",
    "from selenium.webdriver.common.keys import Keys\n",
    "from selenium.common.exceptions import NoSuchElementException\n",
    "\n",
    "from selenium.webdriver.firefox.options import Options as FirefoxOptions\n",
    "from selenium.webdriver.chrome.options import Options as ChromiumOptions\n",
    "\n",
    "from selenium.webdriver.common.by import By"
   ]
  },
  {
   "cell_type": "code",
   "execution_count": 2,
   "metadata": {},
   "outputs": [],
   "source": [
    "import logging # Para generar logs\n",
    "from logging.handlers import TimedRotatingFileHandler\n",
    "from logging import Formatter\n",
    "\n",
    "import datetime\n",
    "import os\n",
    "import time"
   ]
  },
  {
   "cell_type": "code",
   "execution_count": 3,
   "metadata": {},
   "outputs": [],
   "source": [
    "import pandas as pd #Manejo de dataframes"
   ]
  },
  {
   "cell_type": "markdown",
   "metadata": {},
   "source": [
    "### Variables a modificar para adaptar el código"
   ]
  },
  {
   "cell_type": "code",
   "execution_count": 4,
   "metadata": {},
   "outputs": [],
   "source": [
    "urlToScrap =\"https://images.google.com/\"\n",
    "deleteOldLogs = True\n",
    "\n",
    "pathToDF = \"../Outputs/\"\n",
    "fileToDF = \"ProdsToScrap.csv\"\n",
    "\n",
    "webdriverToUse = \"chromium\""
   ]
  },
  {
   "cell_type": "markdown",
   "metadata": {},
   "source": [
    "### Pequeñas funciones de apoyo"
   ]
  },
  {
   "cell_type": "code",
   "execution_count": 5,
   "metadata": {},
   "outputs": [],
   "source": [
    "# Esta función se ha creado para mejorar comprensión de código en la configuración de logs\n",
    "\n",
    "def UTCFormatter(logFormatter):\n",
    "    '''\n",
    "    Recibe un formatter de logeo\n",
    "    Devuelve el horario a tiempo GMT\n",
    "    '''\n",
    "    logFormatter.converter = time.gmtime\n",
    "    return logFormatter"
   ]
  },
  {
   "cell_type": "markdown",
   "metadata": {},
   "source": [
    "### Configuración de logs"
   ]
  },
  {
   "cell_type": "code",
   "execution_count": 6,
   "metadata": {},
   "outputs": [],
   "source": [
    "# Se inicia el proceso de registro de logs a nivel de INFO.\n",
    "logger = logging.getLogger('ScrapLog')\n",
    "logger.setLevel(logging.INFO)\n",
    "\n",
    "# Variables que determinan apartados posteriores\n",
    "timestamp = datetime.datetime.utcnow().strftime('%Y%m%d_%H-%M-%S')\n",
    "filename=f'ScrapImages{timestamp}.log'\n",
    "formatter = logging.Formatter('[%(asctime)s] %(name)s {%(filename)s:%(lineno)d} %(levelname)s - %(message)s')"
   ]
  },
  {
   "cell_type": "code",
   "execution_count": 7,
   "metadata": {},
   "outputs": [],
   "source": [
    "'''\n",
    "Indican como se debe crear el archivo de log\n",
    "Si \"deleteOldLogs\" es True, sólo se conservará el último archivo de log\n",
    "'''\n",
    "\n",
    "if deleteOldLogs ==True:\n",
    "    listFilesinCWD = os.listdir(os.getcwd())\n",
    "    for element in listFilesinCWD:\n",
    "        if element.endswith(\".log\"):\n",
    "            os.remove(os.path.join(os.getcwd(), element))\n",
    "\n",
    "fileHandler = logging.FileHandler(filename=filename)\n",
    "logging.Formatter.converter = time.gmtime\n",
    "\n",
    "fileHandler.setLevel(logging.INFO)\n",
    "fileHandler.setFormatter(UTCFormatter(formatter))\n",
    "logger.addHandler(fileHandler)"
   ]
  },
  {
   "cell_type": "markdown",
   "metadata": {},
   "source": [
    "### Importación de datos"
   ]
  },
  {
   "cell_type": "markdown",
   "metadata": {},
   "source": [
    "Se importa el dataset especificado en las variables generales definidas anteriormente."
   ]
  },
  {
   "cell_type": "code",
   "execution_count": 8,
   "metadata": {},
   "outputs": [],
   "source": [
    "df = pd.read_csv(f\"{pathToDF}{fileToDF}\")\n",
    "# df.drop(columns=df.columns[0], axis=1, inplace=True)"
   ]
  },
  {
   "cell_type": "markdown",
   "metadata": {},
   "source": [
    "Comprobación de tamaño y composición del dataset importado como dataframe de Pandas."
   ]
  },
  {
   "cell_type": "code",
   "execution_count": 9,
   "metadata": {},
   "outputs": [
    {
     "name": "stdout",
     "output_type": "stream",
     "text": [
      "(19778, 3)\n"
     ]
    },
    {
     "data": {
      "text/html": [
       "<div>\n",
       "<style scoped>\n",
       "    .dataframe tbody tr th:only-of-type {\n",
       "        vertical-align: middle;\n",
       "    }\n",
       "\n",
       "    .dataframe tbody tr th {\n",
       "        vertical-align: top;\n",
       "    }\n",
       "\n",
       "    .dataframe thead th {\n",
       "        text-align: right;\n",
       "    }\n",
       "</style>\n",
       "<table border=\"1\" class=\"dataframe\">\n",
       "  <thead>\n",
       "    <tr style=\"text-align: right;\">\n",
       "      <th></th>\n",
       "      <th>id</th>\n",
       "      <th>product_id</th>\n",
       "      <th>name</th>\n",
       "    </tr>\n",
       "  </thead>\n",
       "  <tbody>\n",
       "    <tr>\n",
       "      <th>0</th>\n",
       "      <td>0</td>\n",
       "      <td>5645</td>\n",
       "      <td>Weleda Hombre Crema Hidratante</td>\n",
       "    </tr>\n",
       "    <tr>\n",
       "      <th>1</th>\n",
       "      <td>1</td>\n",
       "      <td>28743</td>\n",
       "      <td>Gynea Gestagyn Men</td>\n",
       "    </tr>\n",
       "  </tbody>\n",
       "</table>\n",
       "</div>"
      ],
      "text/plain": [
       "   id  product_id                            name\n",
       "0   0        5645  Weleda Hombre Crema Hidratante\n",
       "1   1       28743              Gynea Gestagyn Men"
      ]
     },
     "execution_count": 9,
     "metadata": {},
     "output_type": "execute_result"
    }
   ],
   "source": [
    "print(df.shape)\n",
    "df.head(2)"
   ]
  },
  {
   "cell_type": "markdown",
   "metadata": {},
   "source": [
    "### Lógica del Scrapping"
   ]
  },
  {
   "cell_type": "markdown",
   "metadata": {},
   "source": [
    "La siguiente función obtiene la url del primer resultado que aparece en google imágenes con el nombre del producto que recibe."
   ]
  },
  {
   "cell_type": "code",
   "execution_count": 25,
   "metadata": {},
   "outputs": [],
   "source": [
    "def ScrapFunction(prodToScrap, urlToScrap, driver):\n",
    "    try:\n",
    "        logger.info(f\"Started with: {prodToScrap}\")\n",
    "\n",
    "        driver.implicitly_wait(5)\n",
    "        driver.delete_all_cookies()\n",
    "        driver.implicitly_wait(5)\n",
    "        driver.get(urlToScrap)\n",
    "        driver.implicitly_wait(5)\n",
    "        \n",
    "        try:\n",
    "            acceptCookie = driver.find_element(By.XPATH, \"/html/body/div[2]/div[2]/div[3]/span/div/div/div/div[3]/button[2]/div\")\n",
    "            acceptCookie.click()\n",
    "        except:\n",
    "            pass\n",
    "        \n",
    "        selectImageBox = driver.find_element(By.XPATH, \"/html/body/div[1]/div[3]/form/div[1]/div[1]/div[1]/div/div[2]/input\")\n",
    "\n",
    "        selectImageBox.send_keys(prodToScrap)\n",
    "        selectImageBox.send_keys(Keys.ENTER)\n",
    "        driver.implicitly_wait(5)\n",
    "        \n",
    "        selectImage = driver.find_element(By.XPATH, \"/html/body/div[2]/c-wiz/div[4]/div[1]/div/div/div/div[1]/div[1]/span/div[1]/div[1]/div[1]/a[1]/div[1]/img\")\n",
    "        selectImage.click()\n",
    "\n",
    "        driver.implicitly_wait(5)\n",
    "        driver.refresh()\n",
    "        driver.implicitly_wait(5)\n",
    "\n",
    "        urlImage = driver.find_element(By.XPATH, \"/html/body/div[2]/c-wiz/div[4]/div[2]/div[3]/div/div/div[3]/div[2]/c-wiz/div/div[1]/div[1]/div[2]/div/a/img\").get_attribute(\"src\")\n",
    "\n",
    "        logger.info(f\"Scrapped: {urlImage}\")\n",
    "\n",
    "        return urlImage\n",
    "\n",
    "    except:\n",
    "        logger.info(f\"FUNCTIONERROR: {prodToScrap}\")\n",
    "        return None"
   ]
  },
  {
   "cell_type": "markdown",
   "metadata": {},
   "source": [
    "**Ejecución de Selenium**. Tiene configurado tanto webdriver de *Chromium* como de *Firefox* por cuestiones de *debugging* (especialmente en términos de rendimiento). Finalmente se empleó geckodriver con *Firefox* (definido en variables generales anteriormente) en una instancia 'C2-standard-4' de *Google Cloud* con una duración total de 28 horas de cálculo."
   ]
  },
  {
   "cell_type": "markdown",
   "metadata": {},
   "source": [
    "El siguiente código traslada los nombres de los productos de uno en uno a la función anterior de Scrapeo y, con la url obtenida, lo graba en la columna generada \"url\" en el índice apropiado."
   ]
  },
  {
   "cell_type": "code",
   "execution_count": null,
   "metadata": {},
   "outputs": [],
   "source": [
    "print(\"Starting Webscrapping!\")\n",
    "\n",
    "if webdriverToUse != \"firefox\":\n",
    "    opts = ChromiumOptions()\n",
    "    opts.add_argument(\"--no-sandbox\")\n",
    "    opts.add_argument(\"--incognito\")\n",
    "    opts.add_argument(\"start-maximized\")\n",
    "    opts.add_argument(\"window-size=1920,1080\")\n",
    "    opts.add_argument(\"--headless\")\n",
    "    opts.add_experimental_option(\"excludeSwitches\", [\"enable-automation\"])\n",
    "    opts.add_experimental_option('useAutomationExtension', False)\n",
    "    driver = webdriver.Chrome(options=opts)\n",
    "else:\n",
    "    opts = FirefoxOptions()\n",
    "    opts.add_argument(\"--no-sandbox\")\n",
    "    opts.add_argument(\"--incognito\")\n",
    "    opts.add_argument(\"start-maximized\")\n",
    "    opts.add_argument(\"window-size=1920,1080\")\n",
    "    opts.add_argument(\"--headless\")\n",
    "    driver = webdriver.Firefox(options=opts)\n",
    "\n",
    "driver.set_page_load_timeout(30)\n",
    "driver.set_window_size(1920, 1080)\n",
    "\n",
    "for position, element in enumerate(df[\"name\"].tolist()):\n",
    "    try:\n",
    "        urlScrapped = ScrapFunction(element,urlToScrap,driver)\n",
    "        df.loc[df.index[position], 'url'] = urlScrapped\n",
    "        if position % 10:\n",
    "            df.to_csv(\"Scrap.csv\")\n",
    "    except:\n",
    "        logger.info(f\"Scrapped: {urlImage}\")\n",
    "        if position % 10:\n",
    "            df.to_csv(\"Scrap.csv\")\n",
    "        continue\n",
    "\n",
    "driver.close()"
   ]
  },
  {
   "cell_type": "code",
   "execution_count": 16,
   "metadata": {},
   "outputs": [
    {
     "data": {
      "text/html": [
       "<div>\n",
       "<style scoped>\n",
       "    .dataframe tbody tr th:only-of-type {\n",
       "        vertical-align: middle;\n",
       "    }\n",
       "\n",
       "    .dataframe tbody tr th {\n",
       "        vertical-align: top;\n",
       "    }\n",
       "\n",
       "    .dataframe thead th {\n",
       "        text-align: right;\n",
       "    }\n",
       "</style>\n",
       "<table border=\"1\" class=\"dataframe\">\n",
       "  <thead>\n",
       "    <tr style=\"text-align: right;\">\n",
       "      <th></th>\n",
       "      <th>id</th>\n",
       "      <th>product_id</th>\n",
       "      <th>name</th>\n",
       "      <th>url</th>\n",
       "    </tr>\n",
       "  </thead>\n",
       "  <tbody>\n",
       "    <tr>\n",
       "      <th>0</th>\n",
       "      <td>0</td>\n",
       "      <td>5645</td>\n",
       "      <td>Weleda Hombre Crema Hidratante</td>\n",
       "      <td>https://weledaint-prod.global.ssl.fastly.net/b...</td>\n",
       "    </tr>\n",
       "    <tr>\n",
       "      <th>1</th>\n",
       "      <td>1</td>\n",
       "      <td>28743</td>\n",
       "      <td>Gynea Gestagyn Men</td>\n",
       "      <td>https://www.gynea.com/wp-content/uploads/2018/...</td>\n",
       "    </tr>\n",
       "    <tr>\n",
       "      <th>2</th>\n",
       "      <td>2</td>\n",
       "      <td>68986</td>\n",
       "      <td>Endocare Tensage Ampollas</td>\n",
       "      <td>https://www.cantabrialabs.es/wp-content/upload...</td>\n",
       "    </tr>\n",
       "    <tr>\n",
       "      <th>3</th>\n",
       "      <td>3</td>\n",
       "      <td>9692</td>\n",
       "      <td>Lacer Colutorio Fluor+Xilitol  Sabor Fresa</td>\n",
       "      <td>https://statics.promofarma.com/static/promofar...</td>\n",
       "    </tr>\n",
       "    <tr>\n",
       "      <th>4</th>\n",
       "      <td>4</td>\n",
       "      <td>81921</td>\n",
       "      <td>Age Protect Sérum Intensivo Multiacción Uriage</td>\n",
       "      <td>https://cdns3-2.primor.eu/62309-thickbox/age-p...</td>\n",
       "    </tr>\n",
       "  </tbody>\n",
       "</table>\n",
       "</div>"
      ],
      "text/plain": [
       "   id  product_id                                            name  \\\n",
       "0   0        5645                  Weleda Hombre Crema Hidratante   \n",
       "1   1       28743                              Gynea Gestagyn Men   \n",
       "2   2       68986                       Endocare Tensage Ampollas   \n",
       "3   3        9692      Lacer Colutorio Fluor+Xilitol  Sabor Fresa   \n",
       "4   4       81921  Age Protect Sérum Intensivo Multiacción Uriage   \n",
       "\n",
       "                                                 url  \n",
       "0  https://weledaint-prod.global.ssl.fastly.net/b...  \n",
       "1  https://www.gynea.com/wp-content/uploads/2018/...  \n",
       "2  https://www.cantabrialabs.es/wp-content/upload...  \n",
       "3  https://statics.promofarma.com/static/promofar...  \n",
       "4  https://cdns3-2.primor.eu/62309-thickbox/age-p...  "
      ]
     },
     "execution_count": 16,
     "metadata": {},
     "output_type": "execute_result"
    }
   ],
   "source": [
    "# Chequeo preliminar de resultados obtenidos\n",
    "df.head()"
   ]
  },
  {
   "cell_type": "markdown",
   "metadata": {},
   "source": [
    "### Exportación de resultados a formato CSV"
   ]
  },
  {
   "cell_type": "code",
   "execution_count": 17,
   "metadata": {},
   "outputs": [],
   "source": [
    "# Importante no eliminar \"index=False\" para manteener homogeneidad de los datos.\n",
    "df.to_csv(\"ScrapDef.csv\", index=False)"
   ]
  }
 ],
 "metadata": {
  "interpreter": {
   "hash": "bf572a60f2270a32a2287ee5441c31c3f27de4f092d16eee7937505d14960a51"
  },
  "kernelspec": {
   "display_name": "Python 3.10.4 ('venv': venv)",
   "language": "python",
   "name": "python3"
  },
  "language_info": {
   "codemirror_mode": {
    "name": "ipython",
    "version": 3
   },
   "file_extension": ".py",
   "mimetype": "text/x-python",
   "name": "python",
   "nbconvert_exporter": "python",
   "pygments_lexer": "ipython3",
   "version": "3.10.4"
  },
  "orig_nbformat": 4
 },
 "nbformat": 4,
 "nbformat_minor": 2
}
