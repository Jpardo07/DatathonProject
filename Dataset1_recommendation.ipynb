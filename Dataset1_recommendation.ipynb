{
 "cells": [
  {
   "cell_type": "code",
   "execution_count": 1,
   "id": "7c0a7966",
   "metadata": {},
   "outputs": [],
   "source": [
    "import pandas as pd\n",
    "import numpy as np\n",
    "from sklearn.preprocessing import OneHotEncoder"
   ]
  },
  {
   "cell_type": "code",
   "execution_count": 2,
   "id": "3c10b00e",
   "metadata": {},
   "outputs": [],
   "source": [
    "df_ventas = pd.read_excel(\"df_ventas_4_1.xlsx\")"
   ]
  },
  {
   "cell_type": "code",
   "execution_count": 3,
   "id": "eea1412c",
   "metadata": {},
   "outputs": [],
   "source": [
    "df_ventas.drop(columns=df_ventas.columns[0], axis=1, inplace=True)"
   ]
  },
  {
   "cell_type": "code",
   "execution_count": 4,
   "id": "cbc03f8a",
   "metadata": {},
   "outputs": [
    {
     "data": {
      "text/html": [
       "<div>\n",
       "<style scoped>\n",
       "    .dataframe tbody tr th:only-of-type {\n",
       "        vertical-align: middle;\n",
       "    }\n",
       "\n",
       "    .dataframe tbody tr th {\n",
       "        vertical-align: top;\n",
       "    }\n",
       "\n",
       "    .dataframe thead th {\n",
       "        text-align: right;\n",
       "    }\n",
       "</style>\n",
       "<table border=\"1\" class=\"dataframe\">\n",
       "  <thead>\n",
       "    <tr style=\"text-align: right;\">\n",
       "      <th></th>\n",
       "      <th>item_id</th>\n",
       "      <th>num_order</th>\n",
       "      <th>created_at</th>\n",
       "      <th>product_id</th>\n",
       "      <th>qty_ordered</th>\n",
       "      <th>base_cost</th>\n",
       "      <th>price</th>\n",
       "      <th>discount_percent</th>\n",
       "      <th>customer_id</th>\n",
       "      <th>Zipcode</th>\n",
       "      <th>...</th>\n",
       "      <th>hour</th>\n",
       "      <th>week</th>\n",
       "      <th>day</th>\n",
       "      <th>margin_total</th>\n",
       "      <th>price_total</th>\n",
       "      <th>name</th>\n",
       "      <th>marca_value</th>\n",
       "      <th>analytic_category</th>\n",
       "      <th>nombre_corto</th>\n",
       "      <th>num_compras</th>\n",
       "    </tr>\n",
       "  </thead>\n",
       "  <tbody>\n",
       "    <tr>\n",
       "      <th>0</th>\n",
       "      <td>000010d95384a6ba3d57dd870e7b337c</td>\n",
       "      <td>65717498f0771a49497d80f11160093c</td>\n",
       "      <td>2017-09-22 15:46:37</td>\n",
       "      <td>5645</td>\n",
       "      <td>1</td>\n",
       "      <td>7.4441</td>\n",
       "      <td>10.38</td>\n",
       "      <td>7.0</td>\n",
       "      <td>da5b59745c6a4699dee7684eba901bba</td>\n",
       "      <td>28028</td>\n",
       "      <td>...</td>\n",
       "      <td>15</td>\n",
       "      <td>38</td>\n",
       "      <td>Friday</td>\n",
       "      <td>2.9359</td>\n",
       "      <td>10.38</td>\n",
       "      <td>Weleda Hombre Crema Hidratante 30 ml</td>\n",
       "      <td>weleda</td>\n",
       "      <td>cosmética y belleza</td>\n",
       "      <td>Weleda Hombre Crema Hidratante 30</td>\n",
       "      <td>1</td>\n",
       "    </tr>\n",
       "    <tr>\n",
       "      <th>1</th>\n",
       "      <td>00001a8fb0bd42b1e16ba731e30cc490</td>\n",
       "      <td>09b538e85ce396ecbb70695f91007830</td>\n",
       "      <td>2018-09-12 21:27:08</td>\n",
       "      <td>28743</td>\n",
       "      <td>2</td>\n",
       "      <td>35.3166</td>\n",
       "      <td>43.08</td>\n",
       "      <td>7.0</td>\n",
       "      <td>531a918355010bacbe506243a5f05c30</td>\n",
       "      <td>12194</td>\n",
       "      <td>...</td>\n",
       "      <td>21</td>\n",
       "      <td>89</td>\n",
       "      <td>Wednesday</td>\n",
       "      <td>15.5268</td>\n",
       "      <td>86.16</td>\n",
       "      <td>Gynea Gestagyn Men 60 Capsulas</td>\n",
       "      <td>gynea</td>\n",
       "      <td>vida íntima</td>\n",
       "      <td>Gynea Gestagyn Men 60 Capsulas</td>\n",
       "      <td>1</td>\n",
       "    </tr>\n",
       "    <tr>\n",
       "      <th>2</th>\n",
       "      <td>000039147df4aacf0aa8b3a552e8ecdb</td>\n",
       "      <td>434cf1eaf255b367ce2d3343bb96b1fe</td>\n",
       "      <td>2017-09-06 12:08:44</td>\n",
       "      <td>68986</td>\n",
       "      <td>1</td>\n",
       "      <td>27.3680</td>\n",
       "      <td>33.88</td>\n",
       "      <td>5.0</td>\n",
       "      <td>14e6f6400d1c114d509844be3687cb19</td>\n",
       "      <td>48901</td>\n",
       "      <td>...</td>\n",
       "      <td>12</td>\n",
       "      <td>36</td>\n",
       "      <td>Wednesday</td>\n",
       "      <td>6.5120</td>\n",
       "      <td>33.88</td>\n",
       "      <td>Endocare Tensage Ampollas 20uds x 2ml</td>\n",
       "      <td>endocare</td>\n",
       "      <td>cosmética y belleza</td>\n",
       "      <td>Endocare Tensage Ampollas 20Uds X</td>\n",
       "      <td>1</td>\n",
       "    </tr>\n",
       "    <tr>\n",
       "      <th>3</th>\n",
       "      <td>000091029a220c2fdf12700f07f70b1d</td>\n",
       "      <td>f268c24275ad1d887925fca2909e2c2d</td>\n",
       "      <td>2018-09-29 09:45:14</td>\n",
       "      <td>9692</td>\n",
       "      <td>1</td>\n",
       "      <td>3.1200</td>\n",
       "      <td>3.81</td>\n",
       "      <td>5.0</td>\n",
       "      <td>872bd419dfb24caf4f996a2cd2b8a9b4</td>\n",
       "      <td>28008</td>\n",
       "      <td>...</td>\n",
       "      <td>9</td>\n",
       "      <td>91</td>\n",
       "      <td>Saturday</td>\n",
       "      <td>0.6900</td>\n",
       "      <td>3.81</td>\n",
       "      <td>Lacer Colutorio Fluor+Xilitol  Sabor Fresa 500ml</td>\n",
       "      <td>lacer</td>\n",
       "      <td>higiene</td>\n",
       "      <td>Lacer Colutorio Fluor+Xilitol  Sabor</td>\n",
       "      <td>1</td>\n",
       "    </tr>\n",
       "    <tr>\n",
       "      <th>4</th>\n",
       "      <td>00009bfda77b2719d4ace04e419f275e</td>\n",
       "      <td>aabc0c490a4cb4d22651522f7149fdcf</td>\n",
       "      <td>2018-08-08 18:43:20</td>\n",
       "      <td>81921</td>\n",
       "      <td>1</td>\n",
       "      <td>19.0500</td>\n",
       "      <td>21.91</td>\n",
       "      <td>5.0</td>\n",
       "      <td>8a1b78fb0503a964a7fb19135d429b78</td>\n",
       "      <td>46002</td>\n",
       "      <td>...</td>\n",
       "      <td>18</td>\n",
       "      <td>84</td>\n",
       "      <td>Wednesday</td>\n",
       "      <td>2.8600</td>\n",
       "      <td>21.91</td>\n",
       "      <td>Age Protect Sérum Intensivo Multiacción Uriage...</td>\n",
       "      <td>uriage</td>\n",
       "      <td>cosmética y belleza</td>\n",
       "      <td>Age Protect Sérum Intensivo Multiacción</td>\n",
       "      <td>1</td>\n",
       "    </tr>\n",
       "  </tbody>\n",
       "</table>\n",
       "<p>5 rows × 26 columns</p>\n",
       "</div>"
      ],
      "text/plain": [
       "                            item_id                         num_order  \\\n",
       "0  000010d95384a6ba3d57dd870e7b337c  65717498f0771a49497d80f11160093c   \n",
       "1  00001a8fb0bd42b1e16ba731e30cc490  09b538e85ce396ecbb70695f91007830   \n",
       "2  000039147df4aacf0aa8b3a552e8ecdb  434cf1eaf255b367ce2d3343bb96b1fe   \n",
       "3  000091029a220c2fdf12700f07f70b1d  f268c24275ad1d887925fca2909e2c2d   \n",
       "4  00009bfda77b2719d4ace04e419f275e  aabc0c490a4cb4d22651522f7149fdcf   \n",
       "\n",
       "            created_at  product_id  qty_ordered  base_cost  price  \\\n",
       "0  2017-09-22 15:46:37        5645            1     7.4441  10.38   \n",
       "1  2018-09-12 21:27:08       28743            2    35.3166  43.08   \n",
       "2  2017-09-06 12:08:44       68986            1    27.3680  33.88   \n",
       "3  2018-09-29 09:45:14        9692            1     3.1200   3.81   \n",
       "4  2018-08-08 18:43:20       81921            1    19.0500  21.91   \n",
       "\n",
       "   discount_percent                       customer_id Zipcode  ...  hour week  \\\n",
       "0               7.0  da5b59745c6a4699dee7684eba901bba   28028  ...    15   38   \n",
       "1               7.0  531a918355010bacbe506243a5f05c30   12194  ...    21   89   \n",
       "2               5.0  14e6f6400d1c114d509844be3687cb19   48901  ...    12   36   \n",
       "3               5.0  872bd419dfb24caf4f996a2cd2b8a9b4   28008  ...     9   91   \n",
       "4               5.0  8a1b78fb0503a964a7fb19135d429b78   46002  ...    18   84   \n",
       "\n",
       "         day margin_total price_total  \\\n",
       "0     Friday       2.9359       10.38   \n",
       "1  Wednesday      15.5268       86.16   \n",
       "2  Wednesday       6.5120       33.88   \n",
       "3   Saturday       0.6900        3.81   \n",
       "4  Wednesday       2.8600       21.91   \n",
       "\n",
       "                                                name  marca_value  \\\n",
       "0               Weleda Hombre Crema Hidratante 30 ml       weleda   \n",
       "1                    Gynea Gestagyn Men 60 Capsulas         gynea   \n",
       "2              Endocare Tensage Ampollas 20uds x 2ml     endocare   \n",
       "3   Lacer Colutorio Fluor+Xilitol  Sabor Fresa 500ml        lacer   \n",
       "4  Age Protect Sérum Intensivo Multiacción Uriage...       uriage   \n",
       "\n",
       "     analytic_category                             nombre_corto  num_compras  \n",
       "0  cosmética y belleza        Weleda Hombre Crema Hidratante 30            1  \n",
       "1          vida íntima           Gynea Gestagyn Men 60 Capsulas            1  \n",
       "2  cosmética y belleza        Endocare Tensage Ampollas 20Uds X            1  \n",
       "3              higiene     Lacer Colutorio Fluor+Xilitol  Sabor            1  \n",
       "4  cosmética y belleza  Age Protect Sérum Intensivo Multiacción            1  \n",
       "\n",
       "[5 rows x 26 columns]"
      ]
     },
     "execution_count": 4,
     "metadata": {},
     "output_type": "execute_result"
    }
   ],
   "source": [
    "df_ventas.head()"
   ]
  },
  {
   "cell_type": "code",
   "execution_count": 5,
   "id": "6fe4981c",
   "metadata": {},
   "outputs": [],
   "source": [
    "# df_ventas.to_csv(\"dfVentasdefinitivo.csv\")"
   ]
  },
  {
   "cell_type": "code",
   "execution_count": 5,
   "id": "e0d6319a",
   "metadata": {},
   "outputs": [
    {
     "name": "stdout",
     "output_type": "stream",
     "text": [
      "<class 'pandas.core.frame.DataFrame'>\n",
      "RangeIndex: 810167 entries, 0 to 810166\n",
      "Data columns (total 27 columns):\n",
      " #   Column             Non-Null Count   Dtype  \n",
      "---  ------             --------------   -----  \n",
      " 0   Unnamed: 0         810167 non-null  int64  \n",
      " 1   item_id            810167 non-null  object \n",
      " 2   num_order          810167 non-null  object \n",
      " 3   created_at         810167 non-null  object \n",
      " 4   product_id         810167 non-null  int64  \n",
      " 5   qty_ordered        810167 non-null  int64  \n",
      " 6   base_cost          810167 non-null  float64\n",
      " 7   price              810167 non-null  float64\n",
      " 8   discount_percent   810167 non-null  float64\n",
      " 9   customer_id        810167 non-null  object \n",
      " 10  Zipcode            810167 non-null  object \n",
      " 11  longitud_zip       810167 non-null  int64  \n",
      " 12  Country            810167 non-null  object \n",
      " 13  Region             810167 non-null  object \n",
      " 14  City               810167 non-null  object \n",
      " 15  date               810167 non-null  object \n",
      " 16  year               810167 non-null  int64  \n",
      " 17  hour               810167 non-null  int64  \n",
      " 18  week               810167 non-null  int64  \n",
      " 19  day                810167 non-null  object \n",
      " 20  margin_total       810167 non-null  float64\n",
      " 21  price_total        810167 non-null  float64\n",
      " 22  name               810167 non-null  object \n",
      " 23  marca_value        810167 non-null  object \n",
      " 24  analytic_category  810167 non-null  object \n",
      " 25  nombre_corto       810167 non-null  object \n",
      " 26  num_compras        810167 non-null  int64  \n",
      "dtypes: float64(5), int64(8), object(14)\n",
      "memory usage: 166.9+ MB\n"
     ]
    }
   ],
   "source": [
    "df_ventas.info()"
   ]
  },
  {
   "cell_type": "code",
   "execution_count": 6,
   "id": "b83e689b",
   "metadata": {},
   "outputs": [
    {
     "data": {
      "text/plain": [
       "19787"
      ]
     },
     "execution_count": 6,
     "metadata": {},
     "output_type": "execute_result"
    }
   ],
   "source": [
    "len(df_ventas[\"product_id\"].unique())"
   ]
  },
  {
   "cell_type": "code",
   "execution_count": 7,
   "id": "a9c37c0d",
   "metadata": {},
   "outputs": [
    {
     "data": {
      "text/plain": [
       "17167"
      ]
     },
     "execution_count": 7,
     "metadata": {},
     "output_type": "execute_result"
    }
   ],
   "source": [
    "len(df_ventas[\"nombre_corto\"].unique())"
   ]
  },
  {
   "cell_type": "code",
   "execution_count": 8,
   "id": "3f023bc2",
   "metadata": {},
   "outputs": [
    {
     "data": {
      "text/plain": [
       "7349     2673\n",
       "7348     2493\n",
       "43862    2444\n",
       "10516    2161\n",
       "5036     2076\n",
       "         ... \n",
       "73740       1\n",
       "89622       1\n",
       "33821       1\n",
       "10719       1\n",
       "12708       1\n",
       "Name: product_id, Length: 19787, dtype: int64"
      ]
     },
     "execution_count": 8,
     "metadata": {},
     "output_type": "execute_result"
    }
   ],
   "source": [
    "df_ventas[\"product_id\"].value_counts()"
   ]
  },
  {
   "cell_type": "code",
   "execution_count": 9,
   "id": "6acc8ad8",
   "metadata": {},
   "outputs": [
    {
     "data": {
      "text/plain": [
       "18302"
      ]
     },
     "execution_count": 9,
     "metadata": {},
     "output_type": "execute_result"
    }
   ],
   "source": [
    "sum(df_ventas[\"product_id\"].value_counts()>1)"
   ]
  },
  {
   "cell_type": "code",
   "execution_count": 10,
   "id": "cad486f7",
   "metadata": {},
   "outputs": [
    {
     "data": {
      "text/plain": [
       "113522"
      ]
     },
     "execution_count": 10,
     "metadata": {},
     "output_type": "execute_result"
    }
   ],
   "source": [
    "len(df_ventas[\"customer_id\"].unique())"
   ]
  },
  {
   "cell_type": "code",
   "execution_count": 12,
   "id": "c394a801",
   "metadata": {},
   "outputs": [],
   "source": [
    "dic_agg = {\n",
    "    \"price_total\" : \"sum\",\n",
    "    \"qty_ordered\": \"sum\",\n",
    "    \"discount_percent\": \"mean\",\n",
    "    \"customer_id\": \"first\",\n",
    "    \"city\": \"first\",\n",
    "    \"num_compras\":\"first\",\n",
    "    'country': \"first\",\n",
    "    'region': \"first\",\n",
    "    'zipcode': \"first\",\n",
    "    'hour': \"first\",\n",
    "    }"
   ]
  },
  {
   "cell_type": "code",
   "execution_count": 14,
   "id": "e6d6d025",
   "metadata": {},
   "outputs": [],
   "source": [
    "df_ventas = df_ventas[[\"customer_id\", \"nombre_corto\"]]"
   ]
  },
  {
   "cell_type": "code",
   "execution_count": null,
   "id": "7ec59cd1",
   "metadata": {},
   "outputs": [],
   "source": [
    "df_ventas.set_index('customer_id')"
   ]
  },
  {
   "cell_type": "code",
   "execution_count": 15,
   "id": "b698f819",
   "metadata": {},
   "outputs": [
    {
     "data": {
      "text/html": [
       "<div>\n",
       "<style scoped>\n",
       "    .dataframe tbody tr th:only-of-type {\n",
       "        vertical-align: middle;\n",
       "    }\n",
       "\n",
       "    .dataframe tbody tr th {\n",
       "        vertical-align: top;\n",
       "    }\n",
       "\n",
       "    .dataframe thead th {\n",
       "        text-align: right;\n",
       "    }\n",
       "</style>\n",
       "<table border=\"1\" class=\"dataframe\">\n",
       "  <thead>\n",
       "    <tr style=\"text-align: right;\">\n",
       "      <th></th>\n",
       "      <th>customer_id</th>\n",
       "      <th>nombre_corto</th>\n",
       "    </tr>\n",
       "  </thead>\n",
       "  <tbody>\n",
       "    <tr>\n",
       "      <th>0</th>\n",
       "      <td>da5b59745c6a4699dee7684eba901bba</td>\n",
       "      <td>Weleda Hombre Crema Hidratante 30</td>\n",
       "    </tr>\n",
       "    <tr>\n",
       "      <th>1</th>\n",
       "      <td>531a918355010bacbe506243a5f05c30</td>\n",
       "      <td>Gynea Gestagyn Men 60 Capsulas</td>\n",
       "    </tr>\n",
       "    <tr>\n",
       "      <th>2</th>\n",
       "      <td>14e6f6400d1c114d509844be3687cb19</td>\n",
       "      <td>Endocare Tensage Ampollas 20Uds X</td>\n",
       "    </tr>\n",
       "    <tr>\n",
       "      <th>3</th>\n",
       "      <td>872bd419dfb24caf4f996a2cd2b8a9b4</td>\n",
       "      <td>Lacer Colutorio Fluor+Xilitol  Sabor</td>\n",
       "    </tr>\n",
       "    <tr>\n",
       "      <th>4</th>\n",
       "      <td>8a1b78fb0503a964a7fb19135d429b78</td>\n",
       "      <td>Age Protect Sérum Intensivo Multiacción</td>\n",
       "    </tr>\n",
       "    <tr>\n",
       "      <th>5</th>\n",
       "      <td>4f1beaf39805550dd06b5cac412cd19b</td>\n",
       "      <td>Vitis Cepillo Dental Duro Access</td>\n",
       "    </tr>\n",
       "    <tr>\n",
       "      <th>6</th>\n",
       "      <td>db2675993c7f3e9137332dbdf18550fc</td>\n",
       "      <td>Pañales Chelino Love Talla 6</td>\n",
       "    </tr>\n",
       "    <tr>\n",
       "      <th>7</th>\n",
       "      <td>35e9b290464778f48b5c74c255c844ef</td>\n",
       "      <td>Noxzema Espuma Roja Piel Sensible</td>\n",
       "    </tr>\n",
       "    <tr>\n",
       "      <th>8</th>\n",
       "      <td>a5b93aaec935a59987f8a5f2280e7cd7</td>\n",
       "      <td>Corpore Sano Desodorante Mineral Spray</td>\n",
       "    </tr>\n",
       "    <tr>\n",
       "      <th>9</th>\n",
       "      <td>0d7bb673f91226c759ecb157c53bad1e</td>\n",
       "      <td>Flores De Bach Mustard 20</td>\n",
       "    </tr>\n",
       "    <tr>\n",
       "      <th>10</th>\n",
       "      <td>0778515546b12e3422bdd91467244380</td>\n",
       "      <td>Bimanan Copa De Chocolate 210</td>\n",
       "    </tr>\n",
       "    <tr>\n",
       "      <th>11</th>\n",
       "      <td>3a0826d5e5996730fa93b2c1484c0409</td>\n",
       "      <td>Pañales Chelino Love Talla4 9-15</td>\n",
       "    </tr>\n",
       "    <tr>\n",
       "      <th>12</th>\n",
       "      <td>c191e85de59506a5089857d81e2b9ee8</td>\n",
       "      <td>Sensilis Ritual Care Crema Balsamo</td>\n",
       "    </tr>\n",
       "    <tr>\n",
       "      <th>13</th>\n",
       "      <td>5957da05c0c842b6ae12a1bb1dadc677</td>\n",
       "      <td>Visibly Clear Spot Proofing Crema</td>\n",
       "    </tr>\n",
       "    <tr>\n",
       "      <th>14</th>\n",
       "      <td>512cdcf39010ec5fa315d8f5a6552a66</td>\n",
       "      <td>Eucerin Ph5 Crema Tarro 100Ml</td>\n",
       "    </tr>\n",
       "    <tr>\n",
       "      <th>15</th>\n",
       "      <td>65785e43863a2dc70e8465177c43d219</td>\n",
       "      <td>Interapothek Gel Aloe Vera 1000</td>\n",
       "    </tr>\n",
       "    <tr>\n",
       "      <th>16</th>\n",
       "      <td>b492bc76d0ef136bd1410832e8b8c7dc</td>\n",
       "      <td>Isdin Foto Ultra 100 Active</td>\n",
       "    </tr>\n",
       "    <tr>\n",
       "      <th>17</th>\n",
       "      <td>b9eddbc16c03e3c49daddabbead85e66</td>\n",
       "      <td>Gel Mucus Lubricante Intimo Cumlaude</td>\n",
       "    </tr>\n",
       "    <tr>\n",
       "      <th>18</th>\n",
       "      <td>f64b1349dbab8763649a95630eefac57</td>\n",
       "      <td>Sesderma Estryses Crema Antiestrías 200Ml</td>\n",
       "    </tr>\n",
       "    <tr>\n",
       "      <th>19</th>\n",
       "      <td>9d938bce0c2408fefe5fd9e43d4c79ac</td>\n",
       "      <td>Triptofano Con Melatonina Ana Maria</td>\n",
       "    </tr>\n",
       "  </tbody>\n",
       "</table>\n",
       "</div>"
      ],
      "text/plain": [
       "                         customer_id  \\\n",
       "0   da5b59745c6a4699dee7684eba901bba   \n",
       "1   531a918355010bacbe506243a5f05c30   \n",
       "2   14e6f6400d1c114d509844be3687cb19   \n",
       "3   872bd419dfb24caf4f996a2cd2b8a9b4   \n",
       "4   8a1b78fb0503a964a7fb19135d429b78   \n",
       "5   4f1beaf39805550dd06b5cac412cd19b   \n",
       "6   db2675993c7f3e9137332dbdf18550fc   \n",
       "7   35e9b290464778f48b5c74c255c844ef   \n",
       "8   a5b93aaec935a59987f8a5f2280e7cd7   \n",
       "9   0d7bb673f91226c759ecb157c53bad1e   \n",
       "10  0778515546b12e3422bdd91467244380   \n",
       "11  3a0826d5e5996730fa93b2c1484c0409   \n",
       "12  c191e85de59506a5089857d81e2b9ee8   \n",
       "13  5957da05c0c842b6ae12a1bb1dadc677   \n",
       "14  512cdcf39010ec5fa315d8f5a6552a66   \n",
       "15  65785e43863a2dc70e8465177c43d219   \n",
       "16  b492bc76d0ef136bd1410832e8b8c7dc   \n",
       "17  b9eddbc16c03e3c49daddabbead85e66   \n",
       "18  f64b1349dbab8763649a95630eefac57   \n",
       "19  9d938bce0c2408fefe5fd9e43d4c79ac   \n",
       "\n",
       "                                 nombre_corto  \n",
       "0           Weleda Hombre Crema Hidratante 30  \n",
       "1              Gynea Gestagyn Men 60 Capsulas  \n",
       "2           Endocare Tensage Ampollas 20Uds X  \n",
       "3        Lacer Colutorio Fluor+Xilitol  Sabor  \n",
       "4     Age Protect Sérum Intensivo Multiacción  \n",
       "5            Vitis Cepillo Dental Duro Access  \n",
       "6                Pañales Chelino Love Talla 6  \n",
       "7           Noxzema Espuma Roja Piel Sensible  \n",
       "8      Corpore Sano Desodorante Mineral Spray  \n",
       "9                   Flores De Bach Mustard 20  \n",
       "10              Bimanan Copa De Chocolate 210  \n",
       "11           Pañales Chelino Love Talla4 9-15  \n",
       "12         Sensilis Ritual Care Crema Balsamo  \n",
       "13          Visibly Clear Spot Proofing Crema  \n",
       "14              Eucerin Ph5 Crema Tarro 100Ml  \n",
       "15            Interapothek Gel Aloe Vera 1000  \n",
       "16                Isdin Foto Ultra 100 Active  \n",
       "17       Gel Mucus Lubricante Intimo Cumlaude  \n",
       "18  Sesderma Estryses Crema Antiestrías 200Ml  \n",
       "19        Triptofano Con Melatonina Ana Maria  "
      ]
     },
     "execution_count": 15,
     "metadata": {},
     "output_type": "execute_result"
    }
   ],
   "source": [
    "df_ventas.head(20)"
   ]
  },
  {
   "cell_type": "code",
   "execution_count": 16,
   "id": "00e1229a",
   "metadata": {},
   "outputs": [],
   "source": [
    "df_ventas = pd.get_dummies(df_ventas[\"nombre_corto\"])"
   ]
  },
  {
   "cell_type": "code",
   "execution_count": 17,
   "id": "6bfa633f",
   "metadata": {},
   "outputs": [
    {
     "data": {
      "text/html": [
       "<div>\n",
       "<style scoped>\n",
       "    .dataframe tbody tr th:only-of-type {\n",
       "        vertical-align: middle;\n",
       "    }\n",
       "\n",
       "    .dataframe tbody tr th {\n",
       "        vertical-align: top;\n",
       "    }\n",
       "\n",
       "    .dataframe thead th {\n",
       "        text-align: right;\n",
       "    }\n",
       "</style>\n",
       "<table border=\"1\" class=\"dataframe\">\n",
       "  <thead>\n",
       "    <tr style=\"text-align: right;\">\n",
       "      <th></th>\n",
       "      <th>A-Derma Dermalibour Crema Avena</th>\n",
       "      <th>Acondicionador Urtekram Frutos Rojos</th>\n",
       "      <th>Activecomplex Marino Plus 60</th>\n",
       "      <th>Aquamed Active Pulsera Antimareo</th>\n",
       "      <th>Avent Crema Antigrietas Para</th>\n",
       "      <th>Avent Esterilizador A Vapor</th>\n",
       "      <th>Champu Aloe Vera Urtekram</th>\n",
       "      <th>Epaplus Arthicare Colágeno Silicio</th>\n",
       "      <th>Germinal Accion Inmediata 5</th>\n",
       "      <th>Isdin Aftersun Loción 200Ml</th>\n",
       "      <th>...</th>\n",
       "      <th>Ácido Fólico 1000Mg Y Vit.B12</th>\n",
       "      <th>Ácido Glicólico Vital Plus 15</th>\n",
       "      <th>Ácido Glicólico Vital Plus 35</th>\n",
       "      <th>Ácido Hialurónico 120Mg Integralia 30</th>\n",
       "      <th>Ácido Hialurónico Triform Bimaio 10</th>\n",
       "      <th>Ácido Hialurónico Vital Plus 15</th>\n",
       "      <th>Ácido Pantoténico 500Mg Solaray 100</th>\n",
       "      <th>Óculos De Visão Nórdica Para</th>\n",
       "      <th>Óleo Essencial De Tomilho Linalol</th>\n",
       "      <th>Óleo Vegetal Bio Borragem Pranarôm</th>\n",
       "    </tr>\n",
       "  </thead>\n",
       "  <tbody>\n",
       "    <tr>\n",
       "      <th>0</th>\n",
       "      <td>0</td>\n",
       "      <td>0</td>\n",
       "      <td>0</td>\n",
       "      <td>0</td>\n",
       "      <td>0</td>\n",
       "      <td>0</td>\n",
       "      <td>0</td>\n",
       "      <td>0</td>\n",
       "      <td>0</td>\n",
       "      <td>0</td>\n",
       "      <td>...</td>\n",
       "      <td>0</td>\n",
       "      <td>0</td>\n",
       "      <td>0</td>\n",
       "      <td>0</td>\n",
       "      <td>0</td>\n",
       "      <td>0</td>\n",
       "      <td>0</td>\n",
       "      <td>0</td>\n",
       "      <td>0</td>\n",
       "      <td>0</td>\n",
       "    </tr>\n",
       "    <tr>\n",
       "      <th>1</th>\n",
       "      <td>0</td>\n",
       "      <td>0</td>\n",
       "      <td>0</td>\n",
       "      <td>0</td>\n",
       "      <td>0</td>\n",
       "      <td>0</td>\n",
       "      <td>0</td>\n",
       "      <td>0</td>\n",
       "      <td>0</td>\n",
       "      <td>0</td>\n",
       "      <td>...</td>\n",
       "      <td>0</td>\n",
       "      <td>0</td>\n",
       "      <td>0</td>\n",
       "      <td>0</td>\n",
       "      <td>0</td>\n",
       "      <td>0</td>\n",
       "      <td>0</td>\n",
       "      <td>0</td>\n",
       "      <td>0</td>\n",
       "      <td>0</td>\n",
       "    </tr>\n",
       "  </tbody>\n",
       "</table>\n",
       "<p>2 rows × 17167 columns</p>\n",
       "</div>"
      ],
      "text/plain": [
       "    A-Derma Dermalibour Crema Avena   Acondicionador Urtekram Frutos Rojos  \\\n",
       "0                                 0                                      0   \n",
       "1                                 0                                      0   \n",
       "\n",
       "    Activecomplex Marino Plus 60   Aquamed Active Pulsera Antimareo  \\\n",
       "0                              0                                  0   \n",
       "1                              0                                  0   \n",
       "\n",
       "    Avent Crema Antigrietas Para   Avent Esterilizador A Vapor  \\\n",
       "0                              0                             0   \n",
       "1                              0                             0   \n",
       "\n",
       "    Champu Aloe Vera Urtekram   Epaplus Arthicare Colágeno Silicio  \\\n",
       "0                           0                                    0   \n",
       "1                           0                                    0   \n",
       "\n",
       "    Germinal Accion Inmediata 5   Isdin Aftersun Loción 200Ml  ...  \\\n",
       "0                             0                             0  ...   \n",
       "1                             0                             0  ...   \n",
       "\n",
       "   Ácido Fólico 1000Mg Y Vit.B12  Ácido Glicólico Vital Plus 15  \\\n",
       "0                              0                              0   \n",
       "1                              0                              0   \n",
       "\n",
       "   Ácido Glicólico Vital Plus 35  Ácido Hialurónico 120Mg Integralia 30  \\\n",
       "0                              0                                      0   \n",
       "1                              0                                      0   \n",
       "\n",
       "   Ácido Hialurónico Triform Bimaio 10  Ácido Hialurónico Vital Plus 15  \\\n",
       "0                                    0                                0   \n",
       "1                                    0                                0   \n",
       "\n",
       "   Ácido Pantoténico 500Mg Solaray 100  Óculos De Visão Nórdica Para  \\\n",
       "0                                    0                             0   \n",
       "1                                    0                             0   \n",
       "\n",
       "   Óleo Essencial De Tomilho Linalol  Óleo Vegetal Bio Borragem Pranarôm  \n",
       "0                                  0                                   0  \n",
       "1                                  0                                   0  \n",
       "\n",
       "[2 rows x 17167 columns]"
      ]
     },
     "execution_count": 17,
     "metadata": {},
     "output_type": "execute_result"
    }
   ],
   "source": [
    "df_ventas.head(2)"
   ]
  },
  {
   "cell_type": "code",
   "execution_count": 51,
   "id": "995cd6e0",
   "metadata": {},
   "outputs": [],
   "source": [
    "df_recommend_gb_list = df_recommend.groupby(\"customer_id\")[\"nombre_corto\"].apply(list).reset_index(name=\"new\")"
   ]
  },
  {
   "cell_type": "code",
   "execution_count": 57,
   "id": "5f2fe1e0",
   "metadata": {},
   "outputs": [
    {
     "data": {
      "text/plain": [
       "['Fullmarks Solucion Pediculicida 100 Ml',\n",
       " 'Fullmarks Solucion Pediculicida 100 Ml']"
      ]
     },
     "execution_count": 57,
     "metadata": {},
     "output_type": "execute_result"
    }
   ],
   "source": [
    "df_recommend_gb_list[\"new\"][1]"
   ]
  },
  {
   "cell_type": "code",
   "execution_count": 54,
   "id": "b0693caa",
   "metadata": {},
   "outputs": [
    {
     "data": {
      "text/html": [
       "<div>\n",
       "<style scoped>\n",
       "    .dataframe tbody tr th:only-of-type {\n",
       "        vertical-align: middle;\n",
       "    }\n",
       "\n",
       "    .dataframe tbody tr th {\n",
       "        vertical-align: top;\n",
       "    }\n",
       "\n",
       "    .dataframe thead th {\n",
       "        text-align: right;\n",
       "    }\n",
       "</style>\n",
       "<table border=\"1\" class=\"dataframe\">\n",
       "  <thead>\n",
       "    <tr style=\"text-align: right;\">\n",
       "      <th></th>\n",
       "      <th>0</th>\n",
       "    </tr>\n",
       "  </thead>\n",
       "  <tbody>\n",
       "    <tr>\n",
       "      <th>0</th>\n",
       "      <td>NaN</td>\n",
       "    </tr>\n",
       "    <tr>\n",
       "      <th>1</th>\n",
       "      <td>NaN</td>\n",
       "    </tr>\n",
       "    <tr>\n",
       "      <th>2</th>\n",
       "      <td>NaN</td>\n",
       "    </tr>\n",
       "    <tr>\n",
       "      <th>3</th>\n",
       "      <td>NaN</td>\n",
       "    </tr>\n",
       "    <tr>\n",
       "      <th>4</th>\n",
       "      <td>NaN</td>\n",
       "    </tr>\n",
       "    <tr>\n",
       "      <th>...</th>\n",
       "      <td>...</td>\n",
       "    </tr>\n",
       "    <tr>\n",
       "      <th>113517</th>\n",
       "      <td>NaN</td>\n",
       "    </tr>\n",
       "    <tr>\n",
       "      <th>113518</th>\n",
       "      <td>NaN</td>\n",
       "    </tr>\n",
       "    <tr>\n",
       "      <th>113519</th>\n",
       "      <td>NaN</td>\n",
       "    </tr>\n",
       "    <tr>\n",
       "      <th>113520</th>\n",
       "      <td>NaN</td>\n",
       "    </tr>\n",
       "    <tr>\n",
       "      <th>113521</th>\n",
       "      <td>NaN</td>\n",
       "    </tr>\n",
       "  </tbody>\n",
       "</table>\n",
       "<p>113522 rows × 1 columns</p>\n",
       "</div>"
      ],
      "text/plain": [
       "         0\n",
       "0      NaN\n",
       "1      NaN\n",
       "2      NaN\n",
       "3      NaN\n",
       "4      NaN\n",
       "...     ..\n",
       "113517 NaN\n",
       "113518 NaN\n",
       "113519 NaN\n",
       "113520 NaN\n",
       "113521 NaN\n",
       "\n",
       "[113522 rows x 1 columns]"
      ]
     },
     "execution_count": 54,
     "metadata": {},
     "output_type": "execute_result"
    }
   ],
   "source": [
    "df_recommend_gb_list[\"new\"].str.split(\",\", expand=True)"
   ]
  },
  {
   "cell_type": "code",
   "execution_count": 58,
   "id": "03eabbda",
   "metadata": {},
   "outputs": [
    {
     "ename": "MemoryError",
     "evalue": "Unable to allocate 13.0 GiB for an array with shape (17167, 810167) and data type uint8",
     "output_type": "error",
     "traceback": [
      "\u001b[1;31m---------------------------------------------------------------------------\u001b[0m",
      "\u001b[1;31mMemoryError\u001b[0m                               Traceback (most recent call last)",
      "\u001b[1;32m~\\AppData\\Local\\Temp/ipykernel_24248/3933361714.py\u001b[0m in \u001b[0;36m<module>\u001b[1;34m\u001b[0m\n\u001b[1;32m----> 1\u001b[1;33m \u001b[0mdf_recommend2\u001b[0m \u001b[1;33m=\u001b[0m \u001b[0mpd\u001b[0m\u001b[1;33m.\u001b[0m\u001b[0mget_dummies\u001b[0m\u001b[1;33m(\u001b[0m\u001b[0mdf_recommend\u001b[0m\u001b[1;33m[\u001b[0m\u001b[1;34m\"nombre_corto\"\u001b[0m\u001b[1;33m]\u001b[0m\u001b[1;33m)\u001b[0m\u001b[1;33m\u001b[0m\u001b[1;33m\u001b[0m\u001b[0m\n\u001b[0m",
      "\u001b[1;32m~\\anaconda3\\lib\\site-packages\\pandas\\core\\reshape\\reshape.py\u001b[0m in \u001b[0;36mget_dummies\u001b[1;34m(data, prefix, prefix_sep, dummy_na, columns, sparse, drop_first, dtype)\u001b[0m\n\u001b[0;32m    946\u001b[0m         \u001b[0mresult\u001b[0m \u001b[1;33m=\u001b[0m \u001b[0mconcat\u001b[0m\u001b[1;33m(\u001b[0m\u001b[0mwith_dummies\u001b[0m\u001b[1;33m,\u001b[0m \u001b[0maxis\u001b[0m\u001b[1;33m=\u001b[0m\u001b[1;36m1\u001b[0m\u001b[1;33m)\u001b[0m\u001b[1;33m\u001b[0m\u001b[1;33m\u001b[0m\u001b[0m\n\u001b[0;32m    947\u001b[0m     \u001b[1;32melse\u001b[0m\u001b[1;33m:\u001b[0m\u001b[1;33m\u001b[0m\u001b[1;33m\u001b[0m\u001b[0m\n\u001b[1;32m--> 948\u001b[1;33m         result = _get_dummies_1d(\n\u001b[0m\u001b[0;32m    949\u001b[0m             \u001b[0mdata\u001b[0m\u001b[1;33m,\u001b[0m\u001b[1;33m\u001b[0m\u001b[1;33m\u001b[0m\u001b[0m\n\u001b[0;32m    950\u001b[0m             \u001b[0mprefix\u001b[0m\u001b[1;33m,\u001b[0m\u001b[1;33m\u001b[0m\u001b[1;33m\u001b[0m\u001b[0m\n",
      "\u001b[1;32m~\\anaconda3\\lib\\site-packages\\pandas\\core\\reshape\\reshape.py\u001b[0m in \u001b[0;36m_get_dummies_1d\u001b[1;34m(data, prefix, prefix_sep, dummy_na, sparse, drop_first, dtype)\u001b[0m\n\u001b[0;32m   1057\u001b[0m     \u001b[1;32melse\u001b[0m\u001b[1;33m:\u001b[0m\u001b[1;33m\u001b[0m\u001b[1;33m\u001b[0m\u001b[0m\n\u001b[0;32m   1058\u001b[0m         \u001b[1;31m# take on axis=1 + transpose to ensure ndarray layout is column-major\u001b[0m\u001b[1;33m\u001b[0m\u001b[1;33m\u001b[0m\u001b[1;33m\u001b[0m\u001b[0m\n\u001b[1;32m-> 1059\u001b[1;33m         \u001b[0mdummy_mat\u001b[0m \u001b[1;33m=\u001b[0m \u001b[0mnp\u001b[0m\u001b[1;33m.\u001b[0m\u001b[0meye\u001b[0m\u001b[1;33m(\u001b[0m\u001b[0mnumber_of_cols\u001b[0m\u001b[1;33m,\u001b[0m \u001b[0mdtype\u001b[0m\u001b[1;33m=\u001b[0m\u001b[0mdtype\u001b[0m\u001b[1;33m)\u001b[0m\u001b[1;33m.\u001b[0m\u001b[0mtake\u001b[0m\u001b[1;33m(\u001b[0m\u001b[0mcodes\u001b[0m\u001b[1;33m,\u001b[0m \u001b[0maxis\u001b[0m\u001b[1;33m=\u001b[0m\u001b[1;36m1\u001b[0m\u001b[1;33m)\u001b[0m\u001b[1;33m.\u001b[0m\u001b[0mT\u001b[0m\u001b[1;33m\u001b[0m\u001b[1;33m\u001b[0m\u001b[0m\n\u001b[0m\u001b[0;32m   1060\u001b[0m \u001b[1;33m\u001b[0m\u001b[0m\n\u001b[0;32m   1061\u001b[0m         \u001b[1;32mif\u001b[0m \u001b[1;32mnot\u001b[0m \u001b[0mdummy_na\u001b[0m\u001b[1;33m:\u001b[0m\u001b[1;33m\u001b[0m\u001b[1;33m\u001b[0m\u001b[0m\n",
      "\u001b[1;31mMemoryError\u001b[0m: Unable to allocate 13.0 GiB for an array with shape (17167, 810167) and data type uint8"
     ]
    }
   ],
   "source": [
    "df_recommend2 = pd.get_dummies(df_recommend[\"nombre_corto\"])"
   ]
  },
  {
   "cell_type": "code",
   "execution_count": 60,
   "id": "434073e7",
   "metadata": {},
   "outputs": [],
   "source": [
    "names_sep = df_recommend[\"nombre_corto\"].str.split(\" \", expand=True)"
   ]
  },
  {
   "cell_type": "code",
   "execution_count": 61,
   "id": "463c7a7b",
   "metadata": {},
   "outputs": [],
   "source": [
    "nombre_corto2 = names_sep[0].astype(str) + \" \" + names_sep[1].astype(str) + \" \" + names_sep[2].astype(str)"
   ]
  },
  {
   "cell_type": "code",
   "execution_count": 62,
   "id": "7f7ea01a",
   "metadata": {},
   "outputs": [],
   "source": [
    "nombre_corto2 = nombre_corto2.str.replace(\" None\", \"\")"
   ]
  },
  {
   "cell_type": "code",
   "execution_count": null,
   "id": "0141027a",
   "metadata": {},
   "outputs": [],
   "source": []
  },
  {
   "cell_type": "code",
   "execution_count": null,
   "id": "ee953b6d",
   "metadata": {},
   "outputs": [],
   "source": []
  },
  {
   "cell_type": "code",
   "execution_count": null,
   "id": "9edb294c",
   "metadata": {},
   "outputs": [],
   "source": []
  },
  {
   "cell_type": "code",
   "execution_count": 21,
   "id": "c2b24a07",
   "metadata": {},
   "outputs": [
    {
     "ename": "KeyError",
     "evalue": "\"Column(s) ['city', 'country', 'region', 'zipcode'] do not exist\"",
     "output_type": "error",
     "traceback": [
      "\u001b[1;31m---------------------------------------------------------------------------\u001b[0m",
      "\u001b[1;31mKeyError\u001b[0m                                  Traceback (most recent call last)",
      "\u001b[1;32m~\\AppData\\Local\\Temp/ipykernel_24248/1241910895.py\u001b[0m in \u001b[0;36m<module>\u001b[1;34m\u001b[0m\n\u001b[1;32m----> 1\u001b[1;33m \u001b[0mdf_recommend\u001b[0m \u001b[1;33m=\u001b[0m \u001b[0mdf_ventas\u001b[0m\u001b[1;33m.\u001b[0m\u001b[0mgroupby\u001b[0m\u001b[1;33m(\u001b[0m\u001b[1;34m\"customer_id\"\u001b[0m\u001b[1;33m,\u001b[0m \u001b[0mas_index\u001b[0m \u001b[1;33m=\u001b[0m \u001b[1;32mFalse\u001b[0m\u001b[1;33m)\u001b[0m\u001b[1;33m.\u001b[0m\u001b[0magg\u001b[0m\u001b[1;33m(\u001b[0m\u001b[0mdic_agg\u001b[0m\u001b[1;33m)\u001b[0m\u001b[1;33m\u001b[0m\u001b[1;33m\u001b[0m\u001b[0m\n\u001b[0m",
      "\u001b[1;32m~\\anaconda3\\lib\\site-packages\\pandas\\core\\groupby\\generic.py\u001b[0m in \u001b[0;36maggregate\u001b[1;34m(self, func, engine, engine_kwargs, *args, **kwargs)\u001b[0m\n\u001b[0;32m    977\u001b[0m \u001b[1;33m\u001b[0m\u001b[0m\n\u001b[0;32m    978\u001b[0m         \u001b[0mop\u001b[0m \u001b[1;33m=\u001b[0m \u001b[0mGroupByApply\u001b[0m\u001b[1;33m(\u001b[0m\u001b[0mself\u001b[0m\u001b[1;33m,\u001b[0m \u001b[0mfunc\u001b[0m\u001b[1;33m,\u001b[0m \u001b[0margs\u001b[0m\u001b[1;33m,\u001b[0m \u001b[0mkwargs\u001b[0m\u001b[1;33m)\u001b[0m\u001b[1;33m\u001b[0m\u001b[1;33m\u001b[0m\u001b[0m\n\u001b[1;32m--> 979\u001b[1;33m         \u001b[0mresult\u001b[0m \u001b[1;33m=\u001b[0m \u001b[0mop\u001b[0m\u001b[1;33m.\u001b[0m\u001b[0magg\u001b[0m\u001b[1;33m(\u001b[0m\u001b[1;33m)\u001b[0m\u001b[1;33m\u001b[0m\u001b[1;33m\u001b[0m\u001b[0m\n\u001b[0m\u001b[0;32m    980\u001b[0m         \u001b[1;32mif\u001b[0m \u001b[1;32mnot\u001b[0m \u001b[0mis_dict_like\u001b[0m\u001b[1;33m(\u001b[0m\u001b[0mfunc\u001b[0m\u001b[1;33m)\u001b[0m \u001b[1;32mand\u001b[0m \u001b[0mresult\u001b[0m \u001b[1;32mis\u001b[0m \u001b[1;32mnot\u001b[0m \u001b[1;32mNone\u001b[0m\u001b[1;33m:\u001b[0m\u001b[1;33m\u001b[0m\u001b[1;33m\u001b[0m\u001b[0m\n\u001b[0;32m    981\u001b[0m             \u001b[1;32mreturn\u001b[0m \u001b[0mresult\u001b[0m\u001b[1;33m\u001b[0m\u001b[1;33m\u001b[0m\u001b[0m\n",
      "\u001b[1;32m~\\anaconda3\\lib\\site-packages\\pandas\\core\\apply.py\u001b[0m in \u001b[0;36magg\u001b[1;34m(self)\u001b[0m\n\u001b[0;32m    159\u001b[0m \u001b[1;33m\u001b[0m\u001b[0m\n\u001b[0;32m    160\u001b[0m         \u001b[1;32mif\u001b[0m \u001b[0mis_dict_like\u001b[0m\u001b[1;33m(\u001b[0m\u001b[0marg\u001b[0m\u001b[1;33m)\u001b[0m\u001b[1;33m:\u001b[0m\u001b[1;33m\u001b[0m\u001b[1;33m\u001b[0m\u001b[0m\n\u001b[1;32m--> 161\u001b[1;33m             \u001b[1;32mreturn\u001b[0m \u001b[0mself\u001b[0m\u001b[1;33m.\u001b[0m\u001b[0magg_dict_like\u001b[0m\u001b[1;33m(\u001b[0m\u001b[1;33m)\u001b[0m\u001b[1;33m\u001b[0m\u001b[1;33m\u001b[0m\u001b[0m\n\u001b[0m\u001b[0;32m    162\u001b[0m         \u001b[1;32melif\u001b[0m \u001b[0mis_list_like\u001b[0m\u001b[1;33m(\u001b[0m\u001b[0marg\u001b[0m\u001b[1;33m)\u001b[0m\u001b[1;33m:\u001b[0m\u001b[1;33m\u001b[0m\u001b[1;33m\u001b[0m\u001b[0m\n\u001b[0;32m    163\u001b[0m             \u001b[1;31m# we require a list, but not a 'str'\u001b[0m\u001b[1;33m\u001b[0m\u001b[1;33m\u001b[0m\u001b[1;33m\u001b[0m\u001b[0m\n",
      "\u001b[1;32m~\\anaconda3\\lib\\site-packages\\pandas\\core\\apply.py\u001b[0m in \u001b[0;36magg_dict_like\u001b[1;34m(self)\u001b[0m\n\u001b[0;32m    425\u001b[0m             \u001b[0mselection\u001b[0m \u001b[1;33m=\u001b[0m \u001b[0mobj\u001b[0m\u001b[1;33m.\u001b[0m\u001b[0m_selection\u001b[0m\u001b[1;33m\u001b[0m\u001b[1;33m\u001b[0m\u001b[0m\n\u001b[0;32m    426\u001b[0m \u001b[1;33m\u001b[0m\u001b[0m\n\u001b[1;32m--> 427\u001b[1;33m         \u001b[0marg\u001b[0m \u001b[1;33m=\u001b[0m \u001b[0mself\u001b[0m\u001b[1;33m.\u001b[0m\u001b[0mnormalize_dictlike_arg\u001b[0m\u001b[1;33m(\u001b[0m\u001b[1;34m\"agg\"\u001b[0m\u001b[1;33m,\u001b[0m \u001b[0mselected_obj\u001b[0m\u001b[1;33m,\u001b[0m \u001b[0marg\u001b[0m\u001b[1;33m)\u001b[0m\u001b[1;33m\u001b[0m\u001b[1;33m\u001b[0m\u001b[0m\n\u001b[0m\u001b[0;32m    428\u001b[0m \u001b[1;33m\u001b[0m\u001b[0m\n\u001b[0;32m    429\u001b[0m         \u001b[1;32mif\u001b[0m \u001b[0mselected_obj\u001b[0m\u001b[1;33m.\u001b[0m\u001b[0mndim\u001b[0m \u001b[1;33m==\u001b[0m \u001b[1;36m1\u001b[0m\u001b[1;33m:\u001b[0m\u001b[1;33m\u001b[0m\u001b[1;33m\u001b[0m\u001b[0m\n",
      "\u001b[1;32m~\\anaconda3\\lib\\site-packages\\pandas\\core\\apply.py\u001b[0m in \u001b[0;36mnormalize_dictlike_arg\u001b[1;34m(self, how, obj, func)\u001b[0m\n\u001b[0;32m    544\u001b[0m             \u001b[1;32mif\u001b[0m \u001b[0mlen\u001b[0m\u001b[1;33m(\u001b[0m\u001b[0mcols\u001b[0m\u001b[1;33m)\u001b[0m \u001b[1;33m>\u001b[0m \u001b[1;36m0\u001b[0m\u001b[1;33m:\u001b[0m\u001b[1;33m\u001b[0m\u001b[1;33m\u001b[0m\u001b[0m\n\u001b[0;32m    545\u001b[0m                 \u001b[0mcols_sorted\u001b[0m \u001b[1;33m=\u001b[0m \u001b[0mlist\u001b[0m\u001b[1;33m(\u001b[0m\u001b[0msafe_sort\u001b[0m\u001b[1;33m(\u001b[0m\u001b[0mlist\u001b[0m\u001b[1;33m(\u001b[0m\u001b[0mcols\u001b[0m\u001b[1;33m)\u001b[0m\u001b[1;33m)\u001b[0m\u001b[1;33m)\u001b[0m\u001b[1;33m\u001b[0m\u001b[1;33m\u001b[0m\u001b[0m\n\u001b[1;32m--> 546\u001b[1;33m                 \u001b[1;32mraise\u001b[0m \u001b[0mKeyError\u001b[0m\u001b[1;33m(\u001b[0m\u001b[1;34mf\"Column(s) {cols_sorted} do not exist\"\u001b[0m\u001b[1;33m)\u001b[0m\u001b[1;33m\u001b[0m\u001b[1;33m\u001b[0m\u001b[0m\n\u001b[0m\u001b[0;32m    547\u001b[0m \u001b[1;33m\u001b[0m\u001b[0m\n\u001b[0;32m    548\u001b[0m         \u001b[0mis_aggregator\u001b[0m \u001b[1;33m=\u001b[0m \u001b[1;32mlambda\u001b[0m \u001b[0mx\u001b[0m\u001b[1;33m:\u001b[0m \u001b[0misinstance\u001b[0m\u001b[1;33m(\u001b[0m\u001b[0mx\u001b[0m\u001b[1;33m,\u001b[0m \u001b[1;33m(\u001b[0m\u001b[0mlist\u001b[0m\u001b[1;33m,\u001b[0m \u001b[0mtuple\u001b[0m\u001b[1;33m,\u001b[0m \u001b[0mdict\u001b[0m\u001b[1;33m)\u001b[0m\u001b[1;33m)\u001b[0m\u001b[1;33m\u001b[0m\u001b[1;33m\u001b[0m\u001b[0m\n",
      "\u001b[1;31mKeyError\u001b[0m: \"Column(s) ['city', 'country', 'region', 'zipcode'] do not exist\""
     ]
    }
   ],
   "source": [
    "df_recommend = df_ventas.groupby(\"customer_id\", as_index = False).agg(dic_agg)"
   ]
  },
  {
   "cell_type": "code",
   "execution_count": 19,
   "id": "9c21407e",
   "metadata": {},
   "outputs": [
    {
     "data": {
      "text/plain": [
       "<pandas.core.groupby.generic.DataFrameGroupBy object at 0x0000017E5C1573D0>"
      ]
     },
     "execution_count": 19,
     "metadata": {},
     "output_type": "execute_result"
    }
   ],
   "source": [
    "df_recommend"
   ]
  },
  {
   "cell_type": "code",
   "execution_count": null,
   "id": "865fdbc5",
   "metadata": {},
   "outputs": [],
   "source": []
  },
  {
   "cell_type": "code",
   "execution_count": null,
   "id": "ffdd2678",
   "metadata": {},
   "outputs": [],
   "source": []
  }
 ],
 "metadata": {
  "kernelspec": {
   "display_name": "Python 3 (ipykernel)",
   "language": "python",
   "name": "python3"
  },
  "language_info": {
   "codemirror_mode": {
    "name": "ipython",
    "version": 3
   },
   "file_extension": ".py",
   "mimetype": "text/x-python",
   "name": "python",
   "nbconvert_exporter": "python",
   "pygments_lexer": "ipython3",
   "version": "3.10.4"
  }
 },
 "nbformat": 4,
 "nbformat_minor": 5
}
