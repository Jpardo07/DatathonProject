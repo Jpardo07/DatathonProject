{
 "cells": [
  {
   "cell_type": "markdown",
   "metadata": {},
   "source": [
    "### Libraries import"
   ]
  },
  {
   "cell_type": "code",
   "execution_count": 43,
   "metadata": {},
   "outputs": [],
   "source": [
    "import pandas as pd # Dataframes management\n",
    "from zipfile import ZipFile  # Files compressed management\n",
    "import os # Files management along OS "
   ]
  },
  {
   "cell_type": "markdown",
   "metadata": {},
   "source": [
    "### CSV Import"
   ]
  },
  {
   "cell_type": "code",
   "execution_count": 44,
   "metadata": {},
   "outputs": [],
   "source": [
    "productsCategories = pd.read_csv(\"Inputs/Modificados - Atmira_Pharma_Visualization/new_products_categories.csv\")"
   ]
  },
  {
   "cell_type": "code",
   "execution_count": 45,
   "metadata": {},
   "outputs": [],
   "source": [
    "products = pd.read_csv(\"Inputs/Modificados - Atmira_Pharma_Visualization/products.csv\")"
   ]
  },
  {
   "cell_type": "code",
   "execution_count": 46,
   "metadata": {},
   "outputs": [
    {
     "name": "stdout",
     "output_type": "stream",
     "text": [
      "File Name                                             Modified             Size\n",
      "items_ordered_2years.csv                       2022-01-10 08:27:40    167020440\n",
      "extraction...\n",
      "Done!\n",
      "CSV imported to Pandas successfully\n",
      "Original CSV removed to preserve repo health\n"
     ]
    }
   ],
   "source": [
    "# Specifying the name of the zip file\n",
    "file = \"Inputs/Modificados - Atmira_Pharma_Visualization/items_ordered_2years.zip\"\n",
    "  \n",
    "# Open the zip file in read mode\n",
    "with ZipFile(file, 'r') as zip: \n",
    "    # List all the contents of the zip file\n",
    "    zip.printdir() \n",
    "  \n",
    "    # Extract all files\n",
    "    print('extraction...') \n",
    "    zip.extractall(\"Inputs/Modificados - Atmira_Pharma_Visualization\") \n",
    "    print('Done!')\n",
    "\n",
    "#Import CSV to pandas\n",
    "itemsOrdered = pd.read_csv(\"Inputs/Modificados - Atmira_Pharma_Visualization/items_ordered_2years.csv\")\n",
    "print(\"CSV imported to Pandas successfully\")\n",
    "\n",
    "# Remove uncompressed CSV file\n",
    "os.remove(\"Inputs/Modificados - Atmira_Pharma_Visualization/items_ordered_2years.csv\")\n",
    "print(\"Original CSV removed to preserve repo health\")"
   ]
  },
  {
   "cell_type": "markdown",
   "metadata": {},
   "source": [
    "### First look to data"
   ]
  },
  {
   "cell_type": "markdown",
   "metadata": {},
   "source": [
    "**First Dataframe - productsCategories**"
   ]
  },
  {
   "cell_type": "code",
   "execution_count": 47,
   "metadata": {},
   "outputs": [
    {
     "data": {
      "text/html": [
       "<div>\n",
       "<style scoped>\n",
       "    .dataframe tbody tr th:only-of-type {\n",
       "        vertical-align: middle;\n",
       "    }\n",
       "\n",
       "    .dataframe tbody tr th {\n",
       "        vertical-align: top;\n",
       "    }\n",
       "\n",
       "    .dataframe thead th {\n",
       "        text-align: right;\n",
       "    }\n",
       "</style>\n",
       "<table border=\"1\" class=\"dataframe\">\n",
       "  <thead>\n",
       "    <tr style=\"text-align: right;\">\n",
       "      <th></th>\n",
       "      <th>sku</th>\n",
       "      <th>cat1</th>\n",
       "      <th>cat2</th>\n",
       "      <th>cat3</th>\n",
       "    </tr>\n",
       "  </thead>\n",
       "  <tbody>\n",
       "    <tr>\n",
       "      <th>0</th>\n",
       "      <td>00.01.10.014</td>\n",
       "      <td>Cosmética y Belleza</td>\n",
       "      <td>Corporal</td>\n",
       "      <td>Hidratación</td>\n",
       "    </tr>\n",
       "    <tr>\n",
       "      <th>1</th>\n",
       "      <td>00.071697.000.000</td>\n",
       "      <td>Infantil</td>\n",
       "      <td>Juguetes</td>\n",
       "      <td>Mordedores</td>\n",
       "    </tr>\n",
       "    <tr>\n",
       "      <th>2</th>\n",
       "      <td>000133</td>\n",
       "      <td>Infantil</td>\n",
       "      <td>Higiene infantil</td>\n",
       "      <td>Canastillas y kits bebé</td>\n",
       "    </tr>\n",
       "  </tbody>\n",
       "</table>\n",
       "</div>"
      ],
      "text/plain": [
       "                 sku                 cat1              cat2  \\\n",
       "0       00.01.10.014  Cosmética y Belleza          Corporal   \n",
       "1  00.071697.000.000             Infantil          Juguetes   \n",
       "2             000133             Infantil  Higiene infantil   \n",
       "\n",
       "                      cat3  \n",
       "0              Hidratación  \n",
       "1               Mordedores  \n",
       "2  Canastillas y kits bebé  "
      ]
     },
     "execution_count": 47,
     "metadata": {},
     "output_type": "execute_result"
    }
   ],
   "source": [
    "productsCategories.head(3)"
   ]
  },
  {
   "cell_type": "code",
   "execution_count": 48,
   "metadata": {},
   "outputs": [
    {
     "data": {
      "text/plain": [
       "(30, 4)"
      ]
     },
     "execution_count": 48,
     "metadata": {},
     "output_type": "execute_result"
    }
   ],
   "source": [
    "productsCategories.shape"
   ]
  },
  {
   "cell_type": "markdown",
   "metadata": {},
   "source": [
    "**Second Dataframe - Products**"
   ]
  },
  {
   "cell_type": "code",
   "execution_count": 49,
   "metadata": {},
   "outputs": [
    {
     "data": {
      "text/html": [
       "<div>\n",
       "<style scoped>\n",
       "    .dataframe tbody tr th:only-of-type {\n",
       "        vertical-align: middle;\n",
       "    }\n",
       "\n",
       "    .dataframe tbody tr th {\n",
       "        vertical-align: top;\n",
       "    }\n",
       "\n",
       "    .dataframe thead th {\n",
       "        text-align: right;\n",
       "    }\n",
       "</style>\n",
       "<table border=\"1\" class=\"dataframe\">\n",
       "  <thead>\n",
       "    <tr style=\"text-align: right;\">\n",
       "      <th></th>\n",
       "      <th>product_id</th>\n",
       "      <th>sku</th>\n",
       "      <th>name</th>\n",
       "      <th>marca_value</th>\n",
       "      <th>short_description</th>\n",
       "      <th>analytic_category</th>\n",
       "      <th>picture</th>\n",
       "    </tr>\n",
       "  </thead>\n",
       "  <tbody>\n",
       "    <tr>\n",
       "      <th>0</th>\n",
       "      <td>7349</td>\n",
       "      <td>165774</td>\n",
       "      <td>Pañales CHELINO LOVE Talla3 4-10 KG 36unidades</td>\n",
       "      <td>Chelino</td>\n",
       "      <td>&lt;p&gt;Los pañales &lt;strong&gt;Chelino&lt;/strong&gt;, que p...</td>\n",
       "      <td>Infantil</td>\n",
       "      <td>https://www.mifarma.es/media/catalog/product/1...</td>\n",
       "    </tr>\n",
       "    <tr>\n",
       "      <th>1</th>\n",
       "      <td>7347</td>\n",
       "      <td>165776</td>\n",
       "      <td>Pañales CHELINO LOVE Talla5 13-18 KG 30unidades</td>\n",
       "      <td>Chelino</td>\n",
       "      <td>&lt;p&gt;Los pañales Chelino que presentan un novedo...</td>\n",
       "      <td>Infantil</td>\n",
       "      <td>https://www.mifarma.es/media/catalog/product/1...</td>\n",
       "    </tr>\n",
       "    <tr>\n",
       "      <th>2</th>\n",
       "      <td>50282</td>\n",
       "      <td>230154</td>\n",
       "      <td>Pañales Pingo Maxi T4 40 uds</td>\n",
       "      <td>Pingo</td>\n",
       "      <td>&lt;p&gt;Pingo es el primer pañal ecológico con cuat...</td>\n",
       "      <td>Infantil</td>\n",
       "      <td>https://www.mifarma.es/media/catalog/product/2...</td>\n",
       "    </tr>\n",
       "  </tbody>\n",
       "</table>\n",
       "</div>"
      ],
      "text/plain": [
       "   product_id     sku                                             name  \\\n",
       "0        7349  165774   Pañales CHELINO LOVE Talla3 4-10 KG 36unidades   \n",
       "1        7347  165776  Pañales CHELINO LOVE Talla5 13-18 KG 30unidades   \n",
       "2       50282  230154                     Pañales Pingo Maxi T4 40 uds   \n",
       "\n",
       "  marca_value                                  short_description  \\\n",
       "0     Chelino  <p>Los pañales <strong>Chelino</strong>, que p...   \n",
       "1     Chelino  <p>Los pañales Chelino que presentan un novedo...   \n",
       "2       Pingo  <p>Pingo es el primer pañal ecológico con cuat...   \n",
       "\n",
       "  analytic_category                                            picture  \n",
       "0          Infantil  https://www.mifarma.es/media/catalog/product/1...  \n",
       "1          Infantil  https://www.mifarma.es/media/catalog/product/1...  \n",
       "2          Infantil  https://www.mifarma.es/media/catalog/product/2...  "
      ]
     },
     "execution_count": 49,
     "metadata": {},
     "output_type": "execute_result"
    }
   ],
   "source": [
    "products.head(3)"
   ]
  },
  {
   "cell_type": "code",
   "execution_count": 50,
   "metadata": {},
   "outputs": [
    {
     "data": {
      "text/plain": [
       "(27953, 7)"
      ]
     },
     "execution_count": 50,
     "metadata": {},
     "output_type": "execute_result"
    }
   ],
   "source": [
    "products.shape https://www.mifarma.es/media/catalog/product/2...\n"
   ]
  },
  {
   "cell_type": "code",
   "execution_count": 57,
   "metadata": {},
   "outputs": [
    {
     "data": {
      "text/plain": [
       "'https://www.mifarma.es/media/catalog/product/1/6/165774_.jpg'"
      ]
     },
     "execution_count": 57,
     "metadata": {},
     "output_type": "execute_result"
    }
   ],
   "source": [
    "products[\"picture\"][0]"
   ]
  },
  {
   "cell_type": "markdown",
   "metadata": {},
   "source": [
    "**Third Dataframe - itemsOrdered**"
   ]
  },
  {
   "cell_type": "code",
   "execution_count": 51,
   "metadata": {},
   "outputs": [
    {
     "data": {
      "text/html": [
       "<div>\n",
       "<style scoped>\n",
       "    .dataframe tbody tr th:only-of-type {\n",
       "        vertical-align: middle;\n",
       "    }\n",
       "\n",
       "    .dataframe tbody tr th {\n",
       "        vertical-align: top;\n",
       "    }\n",
       "\n",
       "    .dataframe thead th {\n",
       "        text-align: right;\n",
       "    }\n",
       "</style>\n",
       "<table border=\"1\" class=\"dataframe\">\n",
       "  <thead>\n",
       "    <tr style=\"text-align: right;\">\n",
       "      <th></th>\n",
       "      <th>num_order</th>\n",
       "      <th>item_id</th>\n",
       "      <th>created_at</th>\n",
       "      <th>product_id</th>\n",
       "      <th>qty_ordered</th>\n",
       "      <th>base_cost</th>\n",
       "      <th>price</th>\n",
       "      <th>discount_percent</th>\n",
       "      <th>customer_id</th>\n",
       "      <th>city</th>\n",
       "      <th>zipcode</th>\n",
       "    </tr>\n",
       "  </thead>\n",
       "  <tbody>\n",
       "    <tr>\n",
       "      <th>0</th>\n",
       "      <td>ce30c2f02458457e3c7b563a636ae2a1</td>\n",
       "      <td>0916c05c5c3f65f59d813a78ac35c8d2</td>\n",
       "      <td>2018-11-06 16:52:13</td>\n",
       "      <td>86434</td>\n",
       "      <td>1.0</td>\n",
       "      <td>9.3750</td>\n",
       "      <td>15.38</td>\n",
       "      <td>8.0</td>\n",
       "      <td>eccbc87e4b5ce2fe28308fd9f2a7baf3</td>\n",
       "      <td>TARAZONA DE LA MANCHA</td>\n",
       "      <td>02100</td>\n",
       "    </tr>\n",
       "    <tr>\n",
       "      <th>1</th>\n",
       "      <td>ce30c2f02458457e3c7b563a636ae2a1</td>\n",
       "      <td>ff323b39ae36843396d2e53ce549fb10</td>\n",
       "      <td>2018-11-06 16:52:13</td>\n",
       "      <td>87652</td>\n",
       "      <td>1.0</td>\n",
       "      <td>7.0000</td>\n",
       "      <td>15.41</td>\n",
       "      <td>8.0</td>\n",
       "      <td>eccbc87e4b5ce2fe28308fd9f2a7baf3</td>\n",
       "      <td>TARAZONA DE LA MANCHA</td>\n",
       "      <td>02100</td>\n",
       "    </tr>\n",
       "    <tr>\n",
       "      <th>2</th>\n",
       "      <td>ce30c2f02458457e3c7b563a636ae2a1</td>\n",
       "      <td>199916dffc95259f4d2daab6664ca9c0</td>\n",
       "      <td>2018-11-06 16:52:13</td>\n",
       "      <td>2785</td>\n",
       "      <td>1.0</td>\n",
       "      <td>9.1587</td>\n",
       "      <td>12.23</td>\n",
       "      <td>8.0</td>\n",
       "      <td>eccbc87e4b5ce2fe28308fd9f2a7baf3</td>\n",
       "      <td>TARAZONA DE LA MANCHA</td>\n",
       "      <td>02100</td>\n",
       "    </tr>\n",
       "  </tbody>\n",
       "</table>\n",
       "</div>"
      ],
      "text/plain": [
       "                          num_order                           item_id  \\\n",
       "0  ce30c2f02458457e3c7b563a636ae2a1  0916c05c5c3f65f59d813a78ac35c8d2   \n",
       "1  ce30c2f02458457e3c7b563a636ae2a1  ff323b39ae36843396d2e53ce549fb10   \n",
       "2  ce30c2f02458457e3c7b563a636ae2a1  199916dffc95259f4d2daab6664ca9c0   \n",
       "\n",
       "            created_at  product_id  qty_ordered  base_cost  price  \\\n",
       "0  2018-11-06 16:52:13       86434          1.0     9.3750  15.38   \n",
       "1  2018-11-06 16:52:13       87652          1.0     7.0000  15.41   \n",
       "2  2018-11-06 16:52:13        2785          1.0     9.1587  12.23   \n",
       "\n",
       "   discount_percent                       customer_id                   city  \\\n",
       "0               8.0  eccbc87e4b5ce2fe28308fd9f2a7baf3  TARAZONA DE LA MANCHA   \n",
       "1               8.0  eccbc87e4b5ce2fe28308fd9f2a7baf3  TARAZONA DE LA MANCHA   \n",
       "2               8.0  eccbc87e4b5ce2fe28308fd9f2a7baf3  TARAZONA DE LA MANCHA   \n",
       "\n",
       "  zipcode  \n",
       "0   02100  \n",
       "1   02100  \n",
       "2   02100  "
      ]
     },
     "execution_count": 51,
     "metadata": {},
     "output_type": "execute_result"
    }
   ],
   "source": [
    "itemsOrdered.head(3)"
   ]
  },
  {
   "cell_type": "code",
   "execution_count": 52,
   "metadata": {},
   "outputs": [
    {
     "data": {
      "text/plain": [
       "(930960, 11)"
      ]
     },
     "execution_count": 52,
     "metadata": {},
     "output_type": "execute_result"
    }
   ],
   "source": [
    "itemsOrdered.shape"
   ]
  },
  {
   "cell_type": "code",
   "execution_count": 53,
   "metadata": {},
   "outputs": [
    {
     "data": {
      "text/plain": [
       "10240560"
      ]
     },
     "execution_count": 53,
     "metadata": {},
     "output_type": "execute_result"
    }
   ],
   "source": [
    "itemsOrdered.shape[0]*itemsOrdered.shape[1]"
   ]
  },
  {
   "cell_type": "code",
   "execution_count": 54,
   "metadata": {},
   "outputs": [
    {
     "data": {
      "text/plain": [
       "Madrid                  69313\n",
       "Barcelona               30278\n",
       "MADRID                  21833\n",
       "Valencia                13048\n",
       "Sevilla                  9008\n",
       "                        ...  \n",
       "Arada                       1\n",
       "Fuentetoba                  1\n",
       "Si                          1\n",
       "Toralba de Calatrava        1\n",
       "Teia                        1\n",
       "Name: city, Length: 21012, dtype: int64"
      ]
     },
     "execution_count": 54,
     "metadata": {},
     "output_type": "execute_result"
    }
   ],
   "source": [
    "itemsOrdered[\"city\"].value_counts()"
   ]
  },
  {
   "cell_type": "code",
   "execution_count": null,
   "metadata": {},
   "outputs": [],
   "source": []
  }
 ],
 "metadata": {
  "interpreter": {
   "hash": "f876c6d03db2a1b556a458eeb23dadf5ec8e4266298f30cdd70e3128597d8f66"
  },
  "kernelspec": {
   "display_name": "Python 3.10.2 ('penv': venv)",
   "language": "python",
   "name": "python3"
  },
  "language_info": {
   "codemirror_mode": {
    "name": "ipython",
    "version": 3
   },
   "file_extension": ".py",
   "mimetype": "text/x-python",
   "name": "python",
   "nbconvert_exporter": "python",
   "pygments_lexer": "ipython3",
   "version": "3.10.2"
  },
  "orig_nbformat": 4
 },
 "nbformat": 4,
 "nbformat_minor": 2
}
