{
 "cells": [
  {
   "cell_type": "markdown",
   "metadata": {},
   "source": [
    "### Libraries import"
   ]
  },
  {
   "cell_type": "code",
   "execution_count": 1,
   "metadata": {},
   "outputs": [],
   "source": [
    "import pandas as pd # Dataframes management\n",
    "from zipfile import ZipFile  # Files compressed management\n",
    "import os # Files management along OS "
   ]
  },
  {
   "cell_type": "markdown",
   "metadata": {},
   "source": [
    "### CSV import"
   ]
  },
  {
   "cell_type": "code",
   "execution_count": 2,
   "metadata": {},
   "outputs": [],
   "source": [
    "productsCategories = pd.read_csv(\"Inputs/Modificados - Atmira_Pharma_Visualization/products_categories_V2.csv\")"
   ]
  },
  {
   "cell_type": "code",
   "execution_count": 3,
   "metadata": {},
   "outputs": [],
   "source": [
    "products = pd.read_csv(\"Inputs/Modificados - Atmira_Pharma_Visualization/products.csv\")"
   ]
  },
  {
   "cell_type": "code",
   "execution_count": 4,
   "metadata": {},
   "outputs": [
    {
     "name": "stdout",
     "output_type": "stream",
     "text": [
      "File Name                                             Modified             Size\n",
      "items_ordered_2years_V2.csv                    2022-02-23 01:28:04    150372498\n",
      "extraction...\n",
      "Done!\n",
      "CSV imported to Pandas successfully\n",
      "Original CSV removed to preserve repo health\n"
     ]
    }
   ],
   "source": [
    "# Specifying the name of the zip file\n",
    "file = \"Inputs/Modificados - Atmira_Pharma_Visualization/items_ordered_2years_V2.zip\"\n",
    "  \n",
    "# Open the zip file in read mode\n",
    "with ZipFile(file, 'r') as zip: \n",
    "    # List all the contents of the zip file\n",
    "    zip.printdir() \n",
    "  \n",
    "    # Extract all files\n",
    "    print('extraction...') \n",
    "    zip.extractall(\"Inputs/Modificados - Atmira_Pharma_Visualization\") \n",
    "    print('Done!')\n",
    "\n",
    "#Import CSV to pandas\n",
    "itemsOrdered = pd.read_csv(\"Inputs/Modificados - Atmira_Pharma_Visualization/items_ordered_2years_V2.csv\")\n",
    "print(\"CSV imported to Pandas successfully\")\n",
    "\n",
    "# Remove uncompressed CSV file\n",
    "os.remove(\"Inputs/Modificados - Atmira_Pharma_Visualization/items_ordered_2years_V2.csv\")\n",
    "print(\"Original CSV removed to preserve repo health\")"
   ]
  },
  {
   "cell_type": "markdown",
   "metadata": {},
   "source": [
    "### First Dataframe - ProductCategories"
   ]
  },
  {
   "cell_type": "code",
   "execution_count": 5,
   "metadata": {},
   "outputs": [
    {
     "data": {
      "text/html": [
       "<div>\n",
       "<style scoped>\n",
       "    .dataframe tbody tr th:only-of-type {\n",
       "        vertical-align: middle;\n",
       "    }\n",
       "\n",
       "    .dataframe tbody tr th {\n",
       "        vertical-align: top;\n",
       "    }\n",
       "\n",
       "    .dataframe thead th {\n",
       "        text-align: right;\n",
       "    }\n",
       "</style>\n",
       "<table border=\"1\" class=\"dataframe\">\n",
       "  <thead>\n",
       "    <tr style=\"text-align: right;\">\n",
       "      <th></th>\n",
       "      <th>Unnamed: 0</th>\n",
       "      <th>sku</th>\n",
       "      <th>cat1</th>\n",
       "      <th>cat2</th>\n",
       "      <th>cat3</th>\n",
       "    </tr>\n",
       "  </thead>\n",
       "  <tbody>\n",
       "    <tr>\n",
       "      <th>0</th>\n",
       "      <td>0</td>\n",
       "      <td>00.01.10.014</td>\n",
       "      <td>Cosmética y Belleza</td>\n",
       "      <td>Corporal</td>\n",
       "      <td>Hidratación</td>\n",
       "    </tr>\n",
       "    <tr>\n",
       "      <th>1</th>\n",
       "      <td>1</td>\n",
       "      <td>00.071697.000.000</td>\n",
       "      <td>Infantil</td>\n",
       "      <td>Juguetes</td>\n",
       "      <td>Mordedores</td>\n",
       "    </tr>\n",
       "    <tr>\n",
       "      <th>2</th>\n",
       "      <td>2</td>\n",
       "      <td>000133</td>\n",
       "      <td>Infantil</td>\n",
       "      <td>Higiene infantil</td>\n",
       "      <td>Canastillas y kits bebé</td>\n",
       "    </tr>\n",
       "  </tbody>\n",
       "</table>\n",
       "</div>"
      ],
      "text/plain": [
       "   Unnamed: 0                sku                 cat1              cat2  \\\n",
       "0           0       00.01.10.014  Cosmética y Belleza          Corporal   \n",
       "1           1  00.071697.000.000             Infantil          Juguetes   \n",
       "2           2             000133             Infantil  Higiene infantil   \n",
       "\n",
       "                      cat3  \n",
       "0              Hidratación  \n",
       "1               Mordedores  \n",
       "2  Canastillas y kits bebé  "
      ]
     },
     "execution_count": 5,
     "metadata": {},
     "output_type": "execute_result"
    }
   ],
   "source": [
    "productsCategories.head(3)"
   ]
  },
  {
   "cell_type": "code",
   "execution_count": 6,
   "metadata": {},
   "outputs": [
    {
     "data": {
      "text/plain": [
       "(11159, 5)"
      ]
     },
     "execution_count": 6,
     "metadata": {},
     "output_type": "execute_result"
    }
   ],
   "source": [
    "productsCategories.shape"
   ]
  },
  {
   "cell_type": "code",
   "execution_count": 7,
   "metadata": {},
   "outputs": [
    {
     "data": {
      "text/html": [
       "<div>\n",
       "<style scoped>\n",
       "    .dataframe tbody tr th:only-of-type {\n",
       "        vertical-align: middle;\n",
       "    }\n",
       "\n",
       "    .dataframe tbody tr th {\n",
       "        vertical-align: top;\n",
       "    }\n",
       "\n",
       "    .dataframe thead th {\n",
       "        text-align: right;\n",
       "    }\n",
       "</style>\n",
       "<table border=\"1\" class=\"dataframe\">\n",
       "  <thead>\n",
       "    <tr style=\"text-align: right;\">\n",
       "      <th></th>\n",
       "      <th>sku</th>\n",
       "      <th>cat1</th>\n",
       "      <th>cat2</th>\n",
       "      <th>cat3</th>\n",
       "    </tr>\n",
       "  </thead>\n",
       "  <tbody>\n",
       "    <tr>\n",
       "      <th>0</th>\n",
       "      <td>00.01.10.014</td>\n",
       "      <td>Cosmética y Belleza</td>\n",
       "      <td>Corporal</td>\n",
       "      <td>Hidratación</td>\n",
       "    </tr>\n",
       "    <tr>\n",
       "      <th>1</th>\n",
       "      <td>00.071697.000.000</td>\n",
       "      <td>Infantil</td>\n",
       "      <td>Juguetes</td>\n",
       "      <td>Mordedores</td>\n",
       "    </tr>\n",
       "  </tbody>\n",
       "</table>\n",
       "</div>"
      ],
      "text/plain": [
       "                 sku                 cat1      cat2         cat3\n",
       "0       00.01.10.014  Cosmética y Belleza  Corporal  Hidratación\n",
       "1  00.071697.000.000             Infantil  Juguetes   Mordedores"
      ]
     },
     "execution_count": 7,
     "metadata": {},
     "output_type": "execute_result"
    }
   ],
   "source": [
    "productsCategories.drop(productsCategories.columns[0], axis=1, inplace=True)\n",
    "productsCategories.head(2)"
   ]
  },
  {
   "cell_type": "markdown",
   "metadata": {},
   "source": [
    "**Cleaning SKU**"
   ]
  },
  {
   "cell_type": "markdown",
   "metadata": {},
   "source": [
    "Todas las SKU son únicas y coinciden con el número de filas del dataframe"
   ]
  },
  {
   "cell_type": "code",
   "execution_count": 8,
   "metadata": {},
   "outputs": [
    {
     "data": {
      "text/plain": [
       "0"
      ]
     },
     "execution_count": 8,
     "metadata": {},
     "output_type": "execute_result"
    }
   ],
   "source": [
    "productsCategories[\"sku\"].value_counts().sum() - productsCategories.shape[0]"
   ]
  },
  {
   "cell_type": "markdown",
   "metadata": {},
   "source": [
    "Hay un 89% de valores sin símbolos"
   ]
  },
  {
   "cell_type": "code",
   "execution_count": 9,
   "metadata": {},
   "outputs": [
    {
     "data": {
      "text/plain": [
       "0.89"
      ]
     },
     "execution_count": 9,
     "metadata": {},
     "output_type": "execute_result"
    }
   ],
   "source": [
    "round((productsCategories[\"sku\"].apply(lambda x: x.isalnum()).sum()/productsCategories.shape[0]),2)"
   ]
  },
  {
   "cell_type": "markdown",
   "metadata": {},
   "source": [
    "Los 1257 sku con símbolos quedan almacenados en una variable"
   ]
  },
  {
   "cell_type": "code",
   "execution_count": 10,
   "metadata": {},
   "outputs": [],
   "source": [
    "pCategoriesWithSymbols = productsCategories[\"sku\"].apply(lambda x: x if x.isalnum()==False else None).dropna()"
   ]
  },
  {
   "cell_type": "code",
   "execution_count": 11,
   "metadata": {},
   "outputs": [
    {
     "data": {
      "text/plain": [
       "1257"
      ]
     },
     "execution_count": 11,
     "metadata": {},
     "output_type": "execute_result"
    }
   ],
   "source": [
    "len(pCategoriesWithSymbols)"
   ]
  },
  {
   "cell_type": "code",
   "execution_count": 12,
   "metadata": {},
   "outputs": [
    {
     "data": {
      "text/plain": [
       "0             00.01.10.014\n",
       "1        00.071697.000.000\n",
       "19          000910.Ballena\n",
       "20          000910.Caracol\n",
       "21            000910.Pulpo\n",
       "               ...        \n",
       "11144          ZSE02-15462\n",
       "11145          ZSE04-15466\n",
       "11146          ZSE05-15467\n",
       "11149          ZSU04-15442\n",
       "11158          ZVA01-15417\n",
       "Name: sku, Length: 1257, dtype: object"
      ]
     },
     "execution_count": 12,
     "metadata": {},
     "output_type": "execute_result"
    }
   ],
   "source": [
    "pCategoriesWithSymbols"
   ]
  },
  {
   "cell_type": "markdown",
   "metadata": {},
   "source": [
    "Coleccionemos los símbolos encontrados"
   ]
  },
  {
   "cell_type": "code",
   "execution_count": 13,
   "metadata": {},
   "outputs": [
    {
     "data": {
      "text/plain": [
       "0             00.01.10.014\n",
       "1        00.071697.000.000\n",
       "19          000910.Ballena\n",
       "20          000910.Caracol\n",
       "21            000910.Pulpo\n",
       "               ...        \n",
       "11144          ZSE02-15462\n",
       "11145          ZSE04-15466\n",
       "11146          ZSE05-15467\n",
       "11149          ZSU04-15442\n",
       "11158          ZVA01-15417\n",
       "Name: sku, Length: 1257, dtype: object"
      ]
     },
     "execution_count": 13,
     "metadata": {},
     "output_type": "execute_result"
    }
   ],
   "source": [
    "skuSymbols = []\n",
    "\n",
    "pCategoriesWithSymbols"
   ]
  },
  {
   "cell_type": "markdown",
   "metadata": {},
   "source": [
    "### Second Dataframe - Products"
   ]
  },
  {
   "cell_type": "code",
   "execution_count": 14,
   "metadata": {},
   "outputs": [
    {
     "data": {
      "text/html": [
       "<div>\n",
       "<style scoped>\n",
       "    .dataframe tbody tr th:only-of-type {\n",
       "        vertical-align: middle;\n",
       "    }\n",
       "\n",
       "    .dataframe tbody tr th {\n",
       "        vertical-align: top;\n",
       "    }\n",
       "\n",
       "    .dataframe thead th {\n",
       "        text-align: right;\n",
       "    }\n",
       "</style>\n",
       "<table border=\"1\" class=\"dataframe\">\n",
       "  <thead>\n",
       "    <tr style=\"text-align: right;\">\n",
       "      <th></th>\n",
       "      <th>product_id</th>\n",
       "      <th>sku</th>\n",
       "      <th>name</th>\n",
       "      <th>marca_value</th>\n",
       "      <th>short_description</th>\n",
       "      <th>analytic_category</th>\n",
       "      <th>picture</th>\n",
       "    </tr>\n",
       "  </thead>\n",
       "  <tbody>\n",
       "    <tr>\n",
       "      <th>0</th>\n",
       "      <td>7349</td>\n",
       "      <td>165774</td>\n",
       "      <td>Pañales CHELINO LOVE Talla3 4-10 KG 36unidades</td>\n",
       "      <td>Chelino</td>\n",
       "      <td>&lt;p&gt;Los pañales &lt;strong&gt;Chelino&lt;/strong&gt;, que p...</td>\n",
       "      <td>Infantil</td>\n",
       "      <td>https://www.mifarma.es/media/catalog/product/1...</td>\n",
       "    </tr>\n",
       "    <tr>\n",
       "      <th>1</th>\n",
       "      <td>7347</td>\n",
       "      <td>165776</td>\n",
       "      <td>Pañales CHELINO LOVE Talla5 13-18 KG 30unidades</td>\n",
       "      <td>Chelino</td>\n",
       "      <td>&lt;p&gt;Los pañales Chelino que presentan un novedo...</td>\n",
       "      <td>Infantil</td>\n",
       "      <td>https://www.mifarma.es/media/catalog/product/1...</td>\n",
       "    </tr>\n",
       "    <tr>\n",
       "      <th>2</th>\n",
       "      <td>50282</td>\n",
       "      <td>230154</td>\n",
       "      <td>Pañales Pingo Maxi T4 40 uds</td>\n",
       "      <td>Pingo</td>\n",
       "      <td>&lt;p&gt;Pingo es el primer pañal ecológico con cuat...</td>\n",
       "      <td>Infantil</td>\n",
       "      <td>https://www.mifarma.es/media/catalog/product/2...</td>\n",
       "    </tr>\n",
       "  </tbody>\n",
       "</table>\n",
       "</div>"
      ],
      "text/plain": [
       "   product_id     sku                                             name  \\\n",
       "0        7349  165774   Pañales CHELINO LOVE Talla3 4-10 KG 36unidades   \n",
       "1        7347  165776  Pañales CHELINO LOVE Talla5 13-18 KG 30unidades   \n",
       "2       50282  230154                     Pañales Pingo Maxi T4 40 uds   \n",
       "\n",
       "  marca_value                                  short_description  \\\n",
       "0     Chelino  <p>Los pañales <strong>Chelino</strong>, que p...   \n",
       "1     Chelino  <p>Los pañales Chelino que presentan un novedo...   \n",
       "2       Pingo  <p>Pingo es el primer pañal ecológico con cuat...   \n",
       "\n",
       "  analytic_category                                            picture  \n",
       "0          Infantil  https://www.mifarma.es/media/catalog/product/1...  \n",
       "1          Infantil  https://www.mifarma.es/media/catalog/product/1...  \n",
       "2          Infantil  https://www.mifarma.es/media/catalog/product/2...  "
      ]
     },
     "execution_count": 14,
     "metadata": {},
     "output_type": "execute_result"
    }
   ],
   "source": [
    "products.head(3)"
   ]
  },
  {
   "cell_type": "code",
   "execution_count": 15,
   "metadata": {},
   "outputs": [
    {
     "data": {
      "text/plain": [
       "(27953, 7)"
      ]
     },
     "execution_count": 15,
     "metadata": {},
     "output_type": "execute_result"
    }
   ],
   "source": [
    "products.shape"
   ]
  },
  {
   "cell_type": "markdown",
   "metadata": {},
   "source": [
    "**Third Dataframe - itemsOrdered**"
   ]
  },
  {
   "cell_type": "code",
   "execution_count": 16,
   "metadata": {},
   "outputs": [
    {
     "data": {
      "text/html": [
       "<div>\n",
       "<style scoped>\n",
       "    .dataframe tbody tr th:only-of-type {\n",
       "        vertical-align: middle;\n",
       "    }\n",
       "\n",
       "    .dataframe tbody tr th {\n",
       "        vertical-align: top;\n",
       "    }\n",
       "\n",
       "    .dataframe thead th {\n",
       "        text-align: right;\n",
       "    }\n",
       "</style>\n",
       "<table border=\"1\" class=\"dataframe\">\n",
       "  <thead>\n",
       "    <tr style=\"text-align: right;\">\n",
       "      <th></th>\n",
       "      <th>num_order</th>\n",
       "      <th>item_id</th>\n",
       "      <th>created_at</th>\n",
       "      <th>product_id</th>\n",
       "      <th>qty_ordered</th>\n",
       "      <th>base_cost</th>\n",
       "      <th>price</th>\n",
       "      <th>discount_percent</th>\n",
       "      <th>customer_id</th>\n",
       "      <th>city</th>\n",
       "      <th>zipcode</th>\n",
       "    </tr>\n",
       "  </thead>\n",
       "  <tbody>\n",
       "    <tr>\n",
       "      <th>0</th>\n",
       "      <td>562ba4ba9aaf2a1e926842deca19271d</td>\n",
       "      <td>2bca87c2ab10b07feef290a9be47f316</td>\n",
       "      <td>2017-01-01 00:20:33</td>\n",
       "      <td>6409.0</td>\n",
       "      <td>1.0</td>\n",
       "      <td>13.4204</td>\n",
       "      <td>17.17</td>\n",
       "      <td>8.0</td>\n",
       "      <td>50d7f99947b472cc889d58845b9d23e2</td>\n",
       "      <td>Valencia</td>\n",
       "      <td>46019</td>\n",
       "    </tr>\n",
       "    <tr>\n",
       "      <th>1</th>\n",
       "      <td>562ba4ba9aaf2a1e926842deca19271d</td>\n",
       "      <td>53e12ac4b579f0c4b1c4f77d50bf8792</td>\n",
       "      <td>2017-01-01 00:20:33</td>\n",
       "      <td>5133.0</td>\n",
       "      <td>1.0</td>\n",
       "      <td>18.5351</td>\n",
       "      <td>22.68</td>\n",
       "      <td>8.0</td>\n",
       "      <td>50d7f99947b472cc889d58845b9d23e2</td>\n",
       "      <td>Valencia</td>\n",
       "      <td>46019</td>\n",
       "    </tr>\n",
       "    <tr>\n",
       "      <th>2</th>\n",
       "      <td>562ba4ba9aaf2a1e926842deca19271d</td>\n",
       "      <td>d19d6df5cd6a1e741408b70aa2767bf4</td>\n",
       "      <td>2017-01-01 00:20:33</td>\n",
       "      <td>5125.0</td>\n",
       "      <td>1.0</td>\n",
       "      <td>18.5260</td>\n",
       "      <td>22.68</td>\n",
       "      <td>8.0</td>\n",
       "      <td>50d7f99947b472cc889d58845b9d23e2</td>\n",
       "      <td>Valencia</td>\n",
       "      <td>46019</td>\n",
       "    </tr>\n",
       "  </tbody>\n",
       "</table>\n",
       "</div>"
      ],
      "text/plain": [
       "                          num_order                           item_id  \\\n",
       "0  562ba4ba9aaf2a1e926842deca19271d  2bca87c2ab10b07feef290a9be47f316   \n",
       "1  562ba4ba9aaf2a1e926842deca19271d  53e12ac4b579f0c4b1c4f77d50bf8792   \n",
       "2  562ba4ba9aaf2a1e926842deca19271d  d19d6df5cd6a1e741408b70aa2767bf4   \n",
       "\n",
       "            created_at  product_id  qty_ordered  base_cost  price  \\\n",
       "0  2017-01-01 00:20:33      6409.0          1.0    13.4204  17.17   \n",
       "1  2017-01-01 00:20:33      5133.0          1.0    18.5351  22.68   \n",
       "2  2017-01-01 00:20:33      5125.0          1.0    18.5260  22.68   \n",
       "\n",
       "   discount_percent                       customer_id      city zipcode  \n",
       "0               8.0  50d7f99947b472cc889d58845b9d23e2  Valencia   46019  \n",
       "1               8.0  50d7f99947b472cc889d58845b9d23e2  Valencia   46019  \n",
       "2               8.0  50d7f99947b472cc889d58845b9d23e2  Valencia   46019  "
      ]
     },
     "execution_count": 16,
     "metadata": {},
     "output_type": "execute_result"
    }
   ],
   "source": [
    "itemsOrdered.head(3)"
   ]
  },
  {
   "cell_type": "code",
   "execution_count": 17,
   "metadata": {},
   "outputs": [
    {
     "data": {
      "text/plain": [
       "(321671, 11)"
      ]
     },
     "execution_count": 17,
     "metadata": {},
     "output_type": "execute_result"
    }
   ],
   "source": [
    "itemsOrdered.shape"
   ]
  },
  {
   "cell_type": "code",
   "execution_count": 18,
   "metadata": {},
   "outputs": [
    {
     "data": {
      "text/plain": [
       "num_order              0\n",
       "item_id                0\n",
       "created_at             0\n",
       "product_id             1\n",
       "qty_ordered            1\n",
       "base_cost           1959\n",
       "price                  1\n",
       "discount_percent       1\n",
       "customer_id            1\n",
       "city                1207\n",
       "zipcode             1198\n",
       "dtype: int64"
      ]
     },
     "execution_count": 18,
     "metadata": {},
     "output_type": "execute_result"
    }
   ],
   "source": [
    "itemsOrdered.isna().sum()"
   ]
  },
  {
   "cell_type": "code",
   "execution_count": 1,
   "metadata": {},
   "outputs": [
    {
     "data": {
      "text/plain": [
       "<zip at 0x7f89b30d0480>"
      ]
     },
     "execution_count": 1,
     "metadata": {},
     "output_type": "execute_result"
    }
   ],
   "source": [
    "\n",
    "zip([1,2],[4,5])"
   ]
  },
  {
   "cell_type": "code",
   "execution_count": null,
   "metadata": {},
   "outputs": [],
   "source": []
  }
 ],
 "metadata": {
  "interpreter": {
   "hash": "f876c6d03db2a1b556a458eeb23dadf5ec8e4266298f30cdd70e3128597d8f66"
  },
  "kernelspec": {
   "display_name": "Python 3.10.2 ('penv': venv)",
   "language": "python",
   "name": "python3"
  },
  "language_info": {
   "codemirror_mode": {
    "name": "ipython",
    "version": 3
   },
   "file_extension": ".py",
   "mimetype": "text/x-python",
   "name": "python",
   "nbconvert_exporter": "python",
   "pygments_lexer": "ipython3",
   "version": "3.10.2"
  },
  "orig_nbformat": 4
 },
 "nbformat": 4,
 "nbformat_minor": 2
}
