{
 "cells": [
  {
   "cell_type": "code",
   "execution_count": 2,
   "metadata": {},
   "outputs": [],
   "source": [
    "import pandas as pd"
   ]
  },
  {
   "cell_type": "code",
   "execution_count": 6,
   "metadata": {},
   "outputs": [
    {
     "data": {
      "text/plain": [
       "'/workspaces/DatathonProject/Tests'"
      ]
     },
     "execution_count": 6,
     "metadata": {},
     "output_type": "execute_result"
    }
   ],
   "source": [
    "import os\n",
    "\n",
    "os.getcwd()"
   ]
  },
  {
   "cell_type": "code",
   "execution_count": 7,
   "metadata": {},
   "outputs": [],
   "source": []
  },
  {
   "cell_type": "code",
   "execution_count": 8,
   "metadata": {},
   "outputs": [
    {
     "data": {
      "text/html": [
       "<div>\n",
       "<style scoped>\n",
       "    .dataframe tbody tr th:only-of-type {\n",
       "        vertical-align: middle;\n",
       "    }\n",
       "\n",
       "    .dataframe tbody tr th {\n",
       "        vertical-align: top;\n",
       "    }\n",
       "\n",
       "    .dataframe thead th {\n",
       "        text-align: right;\n",
       "    }\n",
       "</style>\n",
       "<table border=\"1\" class=\"dataframe\">\n",
       "  <thead>\n",
       "    <tr style=\"text-align: right;\">\n",
       "      <th></th>\n",
       "      <th>product_id</th>\n",
       "      <th>id</th>\n",
       "      <th>name</th>\n",
       "      <th>url</th>\n",
       "    </tr>\n",
       "  </thead>\n",
       "  <tbody>\n",
       "    <tr>\n",
       "      <th>0</th>\n",
       "      <td>3757</td>\n",
       "      <td>17.0</td>\n",
       "      <td>Gel Mucus Lubricante Intimo Cumlaude Rilastil</td>\n",
       "      <td>data:image/jpeg;base64,/9j/4AAQSkZJRgABAQAAAQA...</td>\n",
       "    </tr>\n",
       "    <tr>\n",
       "      <th>1</th>\n",
       "      <td>84193</td>\n",
       "      <td>45.0</td>\n",
       "      <td>Pack Roseliane Crema Anti-Rojeces Uriage + Agu...</td>\n",
       "      <td>https://falabella.scene7.com/is/image/Falabell...</td>\n",
       "    </tr>\n",
       "    <tr>\n",
       "      <th>2</th>\n",
       "      <td>10862</td>\n",
       "      <td>55.0</td>\n",
       "      <td>Uresim Aceite Arbol de Te</td>\n",
       "      <td>data:image/jpeg;base64,/9j/4AAQSkZJRgABAQAAAQA...</td>\n",
       "    </tr>\n",
       "    <tr>\n",
       "      <th>3</th>\n",
       "      <td>3810</td>\n",
       "      <td>71.0</td>\n",
       "      <td>Suavinex Esponja Natural Canastilla</td>\n",
       "      <td>NaN</td>\n",
       "    </tr>\n",
       "    <tr>\n",
       "      <th>4</th>\n",
       "      <td>15484</td>\n",
       "      <td>111.0</td>\n",
       "      <td>Bioderma Sensibio Agua Micelar ROJA  +</td>\n",
       "      <td>data:image/jpeg;base64,/9j/4AAQSkZJRgABAQAAAQA...</td>\n",
       "    </tr>\n",
       "  </tbody>\n",
       "</table>\n",
       "</div>"
      ],
      "text/plain": [
       "   product_id     id                                               name  \\\n",
       "0        3757   17.0      Gel Mucus Lubricante Intimo Cumlaude Rilastil   \n",
       "1       84193   45.0  Pack Roseliane Crema Anti-Rojeces Uriage + Agu...   \n",
       "2       10862   55.0                          Uresim Aceite Arbol de Te   \n",
       "3        3810   71.0                Suavinex Esponja Natural Canastilla   \n",
       "4       15484  111.0             Bioderma Sensibio Agua Micelar ROJA  +   \n",
       "\n",
       "                                                 url  \n",
       "0  data:image/jpeg;base64,/9j/4AAQSkZJRgABAQAAAQA...  \n",
       "1  https://falabella.scene7.com/is/image/Falabell...  \n",
       "2  data:image/jpeg;base64,/9j/4AAQSkZJRgABAQAAAQA...  \n",
       "3                                                NaN  \n",
       "4  data:image/jpeg;base64,/9j/4AAQSkZJRgABAQAAAQA...  "
      ]
     },
     "execution_count": 8,
     "metadata": {},
     "output_type": "execute_result"
    }
   ],
   "source": [
    "df.head()"
   ]
  },
  {
   "cell_type": "code",
   "execution_count": 9,
   "metadata": {},
   "outputs": [
    {
     "data": {
      "text/html": [
       "<div>\n",
       "<style scoped>\n",
       "    .dataframe tbody tr th:only-of-type {\n",
       "        vertical-align: middle;\n",
       "    }\n",
       "\n",
       "    .dataframe tbody tr th {\n",
       "        vertical-align: top;\n",
       "    }\n",
       "\n",
       "    .dataframe thead th {\n",
       "        text-align: right;\n",
       "    }\n",
       "</style>\n",
       "<table border=\"1\" class=\"dataframe\">\n",
       "  <thead>\n",
       "    <tr style=\"text-align: right;\">\n",
       "      <th></th>\n",
       "      <th>product_id</th>\n",
       "      <th>id</th>\n",
       "      <th>name</th>\n",
       "      <th>url</th>\n",
       "    </tr>\n",
       "  </thead>\n",
       "  <tbody>\n",
       "    <tr>\n",
       "      <th>0</th>\n",
       "      <td>3757</td>\n",
       "      <td>17.0</td>\n",
       "      <td>Gel Mucus Lubricante Intimo Cumlaude Rilastil</td>\n",
       "      <td>data:image/jpeg;base64,/9j/4AAQSkZJRgABAQAAAQA...</td>\n",
       "    </tr>\n",
       "    <tr>\n",
       "      <th>2</th>\n",
       "      <td>10862</td>\n",
       "      <td>55.0</td>\n",
       "      <td>Uresim Aceite Arbol de Te</td>\n",
       "      <td>data:image/jpeg;base64,/9j/4AAQSkZJRgABAQAAAQA...</td>\n",
       "    </tr>\n",
       "    <tr>\n",
       "      <th>3</th>\n",
       "      <td>3810</td>\n",
       "      <td>71.0</td>\n",
       "      <td>Suavinex Esponja Natural Canastilla</td>\n",
       "      <td>NaN</td>\n",
       "    </tr>\n",
       "    <tr>\n",
       "      <th>4</th>\n",
       "      <td>15484</td>\n",
       "      <td>111.0</td>\n",
       "      <td>Bioderma Sensibio Agua Micelar ROJA  +</td>\n",
       "      <td>data:image/jpeg;base64,/9j/4AAQSkZJRgABAQAAAQA...</td>\n",
       "    </tr>\n",
       "    <tr>\n",
       "      <th>5</th>\n",
       "      <td>68318</td>\n",
       "      <td>119.0</td>\n",
       "      <td>Aceite de Ducha de Sandalo, Neroli y Rosa Gree...</td>\n",
       "      <td>NaN</td>\n",
       "    </tr>\n",
       "    <tr>\n",
       "      <th>...</th>\n",
       "      <td>...</td>\n",
       "      <td>...</td>\n",
       "      <td>...</td>\n",
       "      <td>...</td>\n",
       "    </tr>\n",
       "    <tr>\n",
       "      <th>1066</th>\n",
       "      <td>13554</td>\n",
       "      <td>733973.0</td>\n",
       "      <td>TH Pharma Ultra Shine Brillo De Labios</td>\n",
       "      <td>data:image/jpeg;base64,/9j/4AAQSkZJRgABAQAAAQA...</td>\n",
       "    </tr>\n",
       "    <tr>\n",
       "      <th>1069</th>\n",
       "      <td>82545</td>\n",
       "      <td>750121.0</td>\n",
       "      <td>Set Vaso Pajita+Botella Adultos \"As You\" Suavi...</td>\n",
       "      <td>data:image/jpeg;base64,/9j/4AAQSkZJRgABAQAAAQA...</td>\n",
       "    </tr>\n",
       "    <tr>\n",
       "      <th>1070</th>\n",
       "      <td>54262</td>\n",
       "      <td>759083.0</td>\n",
       "      <td>Aran Rose % Natural Complemento Alimenticio</td>\n",
       "      <td>data:image/jpeg;base64,/9j/4AAQSkZJRgABAQAAAQA...</td>\n",
       "    </tr>\n",
       "    <tr>\n",
       "      <th>1071</th>\n",
       "      <td>76511</td>\n",
       "      <td>763745.0</td>\n",
       "      <td>Puzzle de Madera Cocina Lena +</td>\n",
       "      <td>data:image/jpeg;base64,/9j/4AAQSkZJRgABAQAAAQA...</td>\n",
       "    </tr>\n",
       "    <tr>\n",
       "      <th>1072</th>\n",
       "      <td>94326</td>\n",
       "      <td>766095.0</td>\n",
       "      <td>Espelta Hinchada con Chocolate Bio Ecosana</td>\n",
       "      <td>data:image/jpeg;base64,/9j/4AAQSkZJRgABAQAAAQA...</td>\n",
       "    </tr>\n",
       "  </tbody>\n",
       "</table>\n",
       "<p>865 rows × 4 columns</p>\n",
       "</div>"
      ],
      "text/plain": [
       "      product_id        id                                               name  \\\n",
       "0           3757      17.0      Gel Mucus Lubricante Intimo Cumlaude Rilastil   \n",
       "2          10862      55.0                          Uresim Aceite Arbol de Te   \n",
       "3           3810      71.0                Suavinex Esponja Natural Canastilla   \n",
       "4          15484     111.0             Bioderma Sensibio Agua Micelar ROJA  +   \n",
       "5          68318     119.0  Aceite de Ducha de Sandalo, Neroli y Rosa Gree...   \n",
       "...          ...       ...                                                ...   \n",
       "1066       13554  733973.0             TH Pharma Ultra Shine Brillo De Labios   \n",
       "1069       82545  750121.0  Set Vaso Pajita+Botella Adultos \"As You\" Suavi...   \n",
       "1070       54262  759083.0        Aran Rose % Natural Complemento Alimenticio   \n",
       "1071       76511  763745.0                     Puzzle de Madera Cocina Lena +   \n",
       "1072       94326  766095.0         Espelta Hinchada con Chocolate Bio Ecosana   \n",
       "\n",
       "                                                    url  \n",
       "0     data:image/jpeg;base64,/9j/4AAQSkZJRgABAQAAAQA...  \n",
       "2     data:image/jpeg;base64,/9j/4AAQSkZJRgABAQAAAQA...  \n",
       "3                                                   NaN  \n",
       "4     data:image/jpeg;base64,/9j/4AAQSkZJRgABAQAAAQA...  \n",
       "5                                                   NaN  \n",
       "...                                                 ...  \n",
       "1066  data:image/jpeg;base64,/9j/4AAQSkZJRgABAQAAAQA...  \n",
       "1069  data:image/jpeg;base64,/9j/4AAQSkZJRgABAQAAAQA...  \n",
       "1070  data:image/jpeg;base64,/9j/4AAQSkZJRgABAQAAAQA...  \n",
       "1071  data:image/jpeg;base64,/9j/4AAQSkZJRgABAQAAAQA...  \n",
       "1072  data:image/jpeg;base64,/9j/4AAQSkZJRgABAQAAAQA...  \n",
       "\n",
       "[865 rows x 4 columns]"
      ]
     },
     "execution_count": 9,
     "metadata": {},
     "output_type": "execute_result"
    }
   ],
   "source": [
    "df.loc[df[\"url\"].str.startswith(\"data\", na=True)]"
   ]
  },
  {
   "cell_type": "code",
   "execution_count": 11,
   "metadata": {},
   "outputs": [],
   "source": [
    "df = pd.read_csv(\"../Outputs/Scrapping Images/ImageUrls(1073).csv\")\n",
    "df2 = pd.read_csv(\"../Outputs/Scrapping Images/UrlMissingScrapped(1073).csv\")"
   ]
  },
  {
   "cell_type": "code",
   "execution_count": 14,
   "metadata": {},
   "outputs": [],
   "source": [
    "df.set_index('product_id', inplace=True)\n",
    "df.update(df2.set_index('product_id'))\n",
    "df.reset_index(inplace=True)"
   ]
  },
  {
   "cell_type": "code",
   "execution_count": 17,
   "metadata": {},
   "outputs": [
    {
     "name": "stdout",
     "output_type": "stream",
     "text": [
      "(19778, 4)\n"
     ]
    },
    {
     "data": {
      "text/html": [
       "<div>\n",
       "<style scoped>\n",
       "    .dataframe tbody tr th:only-of-type {\n",
       "        vertical-align: middle;\n",
       "    }\n",
       "\n",
       "    .dataframe tbody tr th {\n",
       "        vertical-align: top;\n",
       "    }\n",
       "\n",
       "    .dataframe thead th {\n",
       "        text-align: right;\n",
       "    }\n",
       "</style>\n",
       "<table border=\"1\" class=\"dataframe\">\n",
       "  <thead>\n",
       "    <tr style=\"text-align: right;\">\n",
       "      <th></th>\n",
       "      <th>product_id</th>\n",
       "      <th>id</th>\n",
       "      <th>name</th>\n",
       "      <th>url</th>\n",
       "    </tr>\n",
       "  </thead>\n",
       "  <tbody>\n",
       "    <tr>\n",
       "      <th>45</th>\n",
       "      <td>84193</td>\n",
       "      <td>45.0</td>\n",
       "      <td>Pack Roseliane Crema Anti-Rojeces Uriage + Agu...</td>\n",
       "      <td>https://falabella.scene7.com/is/image/Falabell...</td>\n",
       "    </tr>\n",
       "  </tbody>\n",
       "</table>\n",
       "</div>"
      ],
      "text/plain": [
       "    product_id    id                                               name  \\\n",
       "45       84193  45.0  Pack Roseliane Crema Anti-Rojeces Uriage + Agu...   \n",
       "\n",
       "                                                  url  \n",
       "45  https://falabella.scene7.com/is/image/Falabell...  "
      ]
     },
     "execution_count": 17,
     "metadata": {},
     "output_type": "execute_result"
    }
   ],
   "source": [
    "print(df.shape)\n",
    "df.loc[df[\"product_id\"]==84193]"
   ]
  },
  {
   "cell_type": "code",
   "execution_count": 18,
   "metadata": {},
   "outputs": [],
   "source": [
    "\n",
    "\n",
    "df.to_csv(\"../Outputs/Scrapping Images/ImageUrls(865).csv\", index=False)\n",
    "\n"
   ]
  }
 ],
 "metadata": {
  "interpreter": {
   "hash": "f876c6d03db2a1b556a458eeb23dadf5ec8e4266298f30cdd70e3128597d8f66"
  },
  "kernelspec": {
   "display_name": "Python 3.10.2 ('penv': venv)",
   "language": "python",
   "name": "python3"
  },
  "language_info": {
   "codemirror_mode": {
    "name": "ipython",
    "version": 3
   },
   "file_extension": ".py",
   "mimetype": "text/x-python",
   "name": "python",
   "nbconvert_exporter": "python",
   "pygments_lexer": "ipython3",
   "version": "3.10.4"
  },
  "orig_nbformat": 4
 },
 "nbformat": 4,
 "nbformat_minor": 2
}
