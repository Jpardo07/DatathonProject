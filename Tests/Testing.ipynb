{
 "cells": [
  {
   "cell_type": "code",
   "execution_count": 2,
   "metadata": {},
   "outputs": [],
   "source": [
    "import pandas as pd"
   ]
  },
  {
   "cell_type": "code",
   "execution_count": 3,
   "metadata": {},
   "outputs": [],
   "source": [
    "df = pd.read_csv(\"../Outputs/Scrapping Images/ImageUrls.csv\")"
   ]
  },
  {
   "cell_type": "code",
   "execution_count": 4,
   "metadata": {},
   "outputs": [
    {
     "name": "stdout",
     "output_type": "stream",
     "text": [
      "(19778, 4)\n"
     ]
    },
    {
     "data": {
      "text/html": [
       "<div>\n",
       "<style scoped>\n",
       "    .dataframe tbody tr th:only-of-type {\n",
       "        vertical-align: middle;\n",
       "    }\n",
       "\n",
       "    .dataframe tbody tr th {\n",
       "        vertical-align: top;\n",
       "    }\n",
       "\n",
       "    .dataframe thead th {\n",
       "        text-align: right;\n",
       "    }\n",
       "</style>\n",
       "<table border=\"1\" class=\"dataframe\">\n",
       "  <thead>\n",
       "    <tr style=\"text-align: right;\">\n",
       "      <th></th>\n",
       "      <th>id</th>\n",
       "      <th>product_id</th>\n",
       "      <th>name</th>\n",
       "      <th>url</th>\n",
       "    </tr>\n",
       "  </thead>\n",
       "  <tbody>\n",
       "    <tr>\n",
       "      <th>0</th>\n",
       "      <td>0</td>\n",
       "      <td>5645</td>\n",
       "      <td>Weleda Hombre Crema Hidratante</td>\n",
       "      <td>https://weledaint-prod.global.ssl.fastly.net/b...</td>\n",
       "    </tr>\n",
       "    <tr>\n",
       "      <th>1</th>\n",
       "      <td>1</td>\n",
       "      <td>28743</td>\n",
       "      <td>Gynea Gestagyn Men</td>\n",
       "      <td>https://d3gr7hv60ouvr1.cloudfront.net/CACHE/im...</td>\n",
       "    </tr>\n",
       "    <tr>\n",
       "      <th>2</th>\n",
       "      <td>2</td>\n",
       "      <td>68986</td>\n",
       "      <td>Endocare Tensage Ampollas</td>\n",
       "      <td>https://www.apothekegt.com/11962-large_default...</td>\n",
       "    </tr>\n",
       "    <tr>\n",
       "      <th>3</th>\n",
       "      <td>3</td>\n",
       "      <td>9692</td>\n",
       "      <td>Lacer Colutorio Fluor+Xilitol  Sabor Fresa</td>\n",
       "      <td>https://www.lafarmaciadelbebe.eu/23365-pos_lar...</td>\n",
       "    </tr>\n",
       "    <tr>\n",
       "      <th>4</th>\n",
       "      <td>4</td>\n",
       "      <td>81921</td>\n",
       "      <td>Age Protect Sérum Intensivo Multiacción Uriage</td>\n",
       "      <td>https://www.uriage.com/system/products/images/...</td>\n",
       "    </tr>\n",
       "  </tbody>\n",
       "</table>\n",
       "</div>"
      ],
      "text/plain": [
       "   id  product_id                                            name  \\\n",
       "0   0        5645                  Weleda Hombre Crema Hidratante   \n",
       "1   1       28743                              Gynea Gestagyn Men   \n",
       "2   2       68986                       Endocare Tensage Ampollas   \n",
       "3   3        9692      Lacer Colutorio Fluor+Xilitol  Sabor Fresa   \n",
       "4   4       81921  Age Protect Sérum Intensivo Multiacción Uriage   \n",
       "\n",
       "                                                 url  \n",
       "0  https://weledaint-prod.global.ssl.fastly.net/b...  \n",
       "1  https://d3gr7hv60ouvr1.cloudfront.net/CACHE/im...  \n",
       "2  https://www.apothekegt.com/11962-large_default...  \n",
       "3  https://www.lafarmaciadelbebe.eu/23365-pos_lar...  \n",
       "4  https://www.uriage.com/system/products/images/...  "
      ]
     },
     "execution_count": 4,
     "metadata": {},
     "output_type": "execute_result"
    }
   ],
   "source": [
    "print(df.shape)\n",
    "df.head()"
   ]
  },
  {
   "cell_type": "code",
   "execution_count": 14,
   "metadata": {},
   "outputs": [
    {
     "data": {
      "text/html": [
       "<div>\n",
       "<style scoped>\n",
       "    .dataframe tbody tr th:only-of-type {\n",
       "        vertical-align: middle;\n",
       "    }\n",
       "\n",
       "    .dataframe tbody tr th {\n",
       "        vertical-align: top;\n",
       "    }\n",
       "\n",
       "    .dataframe thead th {\n",
       "        text-align: right;\n",
       "    }\n",
       "</style>\n",
       "<table border=\"1\" class=\"dataframe\">\n",
       "  <thead>\n",
       "    <tr style=\"text-align: right;\">\n",
       "      <th></th>\n",
       "      <th>product_id</th>\n",
       "      <th>id</th>\n",
       "      <th>name</th>\n",
       "      <th>url</th>\n",
       "    </tr>\n",
       "  </thead>\n",
       "  <tbody>\n",
       "    <tr>\n",
       "      <th>17</th>\n",
       "      <td>3757</td>\n",
       "      <td>17.0</td>\n",
       "      <td>Gel Mucus Lubricante Intimo Cumlaude Rilastil</td>\n",
       "      <td>data:image/jpeg;base64,/9j/4AAQSkZJRgABAQAAAQA...</td>\n",
       "    </tr>\n",
       "    <tr>\n",
       "      <th>45</th>\n",
       "      <td>84193</td>\n",
       "      <td>45.0</td>\n",
       "      <td>Pack Roseliane Crema Anti-Rojeces Uriage + Agu...</td>\n",
       "      <td>NaN</td>\n",
       "    </tr>\n",
       "    <tr>\n",
       "      <th>55</th>\n",
       "      <td>10862</td>\n",
       "      <td>55.0</td>\n",
       "      <td>Uresim Aceite Arbol de Te</td>\n",
       "      <td>data:image/jpeg;base64,/9j/4AAQSkZJRgABAQAAAQA...</td>\n",
       "    </tr>\n",
       "    <tr>\n",
       "      <th>70</th>\n",
       "      <td>3810</td>\n",
       "      <td>71.0</td>\n",
       "      <td>Suavinex Esponja Natural Canastilla</td>\n",
       "      <td>NaN</td>\n",
       "    </tr>\n",
       "    <tr>\n",
       "      <th>109</th>\n",
       "      <td>15484</td>\n",
       "      <td>111.0</td>\n",
       "      <td>Bioderma Sensibio Agua Micelar ROJA  +</td>\n",
       "      <td>data:image/jpeg;base64,/9j/4AAQSkZJRgABAQAAAQA...</td>\n",
       "    </tr>\n",
       "    <tr>\n",
       "      <th>...</th>\n",
       "      <td>...</td>\n",
       "      <td>...</td>\n",
       "      <td>...</td>\n",
       "      <td>...</td>\n",
       "    </tr>\n",
       "    <tr>\n",
       "      <th>19678</th>\n",
       "      <td>69433</td>\n",
       "      <td>747036.0</td>\n",
       "      <td>Locion Cara y Cuerpo Urtekram  Men</td>\n",
       "      <td>NaN</td>\n",
       "    </tr>\n",
       "    <tr>\n",
       "      <th>19685</th>\n",
       "      <td>82545</td>\n",
       "      <td>750121.0</td>\n",
       "      <td>Set Vaso Pajita+Botella Adultos \"As You\" Suavi...</td>\n",
       "      <td>data:image/jpeg;base64,/9j/4AAQSkZJRgABAQAAAQA...</td>\n",
       "    </tr>\n",
       "    <tr>\n",
       "      <th>19700</th>\n",
       "      <td>54262</td>\n",
       "      <td>759083.0</td>\n",
       "      <td>Aran Rose % Natural Complemento Alimenticio</td>\n",
       "      <td>data:image/jpeg;base64,/9j/4AAQSkZJRgABAQAAAQA...</td>\n",
       "    </tr>\n",
       "    <tr>\n",
       "      <th>19707</th>\n",
       "      <td>76511</td>\n",
       "      <td>763745.0</td>\n",
       "      <td>Puzzle de Madera Cocina Lena +</td>\n",
       "      <td>data:image/jpeg;base64,/9j/4AAQSkZJRgABAQAAAQA...</td>\n",
       "    </tr>\n",
       "    <tr>\n",
       "      <th>19710</th>\n",
       "      <td>94326</td>\n",
       "      <td>766095.0</td>\n",
       "      <td>Espelta Hinchada con Chocolate Bio Ecosana</td>\n",
       "      <td>data:image/jpeg;base64,/9j/4AAQSkZJRgABAQAAAQA...</td>\n",
       "    </tr>\n",
       "  </tbody>\n",
       "</table>\n",
       "<p>1073 rows × 4 columns</p>\n",
       "</div>"
      ],
      "text/plain": [
       "       product_id        id  \\\n",
       "17           3757      17.0   \n",
       "45          84193      45.0   \n",
       "55          10862      55.0   \n",
       "70           3810      71.0   \n",
       "109         15484     111.0   \n",
       "...           ...       ...   \n",
       "19678       69433  747036.0   \n",
       "19685       82545  750121.0   \n",
       "19700       54262  759083.0   \n",
       "19707       76511  763745.0   \n",
       "19710       94326  766095.0   \n",
       "\n",
       "                                                    name  \\\n",
       "17         Gel Mucus Lubricante Intimo Cumlaude Rilastil   \n",
       "45     Pack Roseliane Crema Anti-Rojeces Uriage + Agu...   \n",
       "55                             Uresim Aceite Arbol de Te   \n",
       "70                   Suavinex Esponja Natural Canastilla   \n",
       "109               Bioderma Sensibio Agua Micelar ROJA  +   \n",
       "...                                                  ...   \n",
       "19678                 Locion Cara y Cuerpo Urtekram  Men   \n",
       "19685  Set Vaso Pajita+Botella Adultos \"As You\" Suavi...   \n",
       "19700        Aran Rose % Natural Complemento Alimenticio   \n",
       "19707                     Puzzle de Madera Cocina Lena +   \n",
       "19710         Espelta Hinchada con Chocolate Bio Ecosana   \n",
       "\n",
       "                                                     url  \n",
       "17     data:image/jpeg;base64,/9j/4AAQSkZJRgABAQAAAQA...  \n",
       "45                                                   NaN  \n",
       "55     data:image/jpeg;base64,/9j/4AAQSkZJRgABAQAAAQA...  \n",
       "70                                                   NaN  \n",
       "109    data:image/jpeg;base64,/9j/4AAQSkZJRgABAQAAAQA...  \n",
       "...                                                  ...  \n",
       "19678                                                NaN  \n",
       "19685  data:image/jpeg;base64,/9j/4AAQSkZJRgABAQAAAQA...  \n",
       "19700  data:image/jpeg;base64,/9j/4AAQSkZJRgABAQAAAQA...  \n",
       "19707  data:image/jpeg;base64,/9j/4AAQSkZJRgABAQAAAQA...  \n",
       "19710  data:image/jpeg;base64,/9j/4AAQSkZJRgABAQAAAQA...  \n",
       "\n",
       "[1073 rows x 4 columns]"
      ]
     },
     "execution_count": 14,
     "metadata": {},
     "output_type": "execute_result"
    }
   ],
   "source": [
    "df.loc[df[\"url\"].str.startswith(\"data\", na=True)]\n"
   ]
  },
  {
   "cell_type": "code",
   "execution_count": 6,
   "metadata": {},
   "outputs": [],
   "source": [
    "df2 = pd.read_csv(\"../Outputs/Scrapping Images/Df - UrlMissingScrapped.csv\")\n",
    "df2.drop(columns=df2.columns[0], axis=1, inplace=True)"
   ]
  },
  {
   "cell_type": "code",
   "execution_count": 7,
   "metadata": {},
   "outputs": [
    {
     "name": "stdout",
     "output_type": "stream",
     "text": [
      "(2201, 4)\n"
     ]
    },
    {
     "data": {
      "text/html": [
       "<div>\n",
       "<style scoped>\n",
       "    .dataframe tbody tr th:only-of-type {\n",
       "        vertical-align: middle;\n",
       "    }\n",
       "\n",
       "    .dataframe tbody tr th {\n",
       "        vertical-align: top;\n",
       "    }\n",
       "\n",
       "    .dataframe thead th {\n",
       "        text-align: right;\n",
       "    }\n",
       "</style>\n",
       "<table border=\"1\" class=\"dataframe\">\n",
       "  <thead>\n",
       "    <tr style=\"text-align: right;\">\n",
       "      <th></th>\n",
       "      <th>id</th>\n",
       "      <th>product_id</th>\n",
       "      <th>name</th>\n",
       "      <th>url</th>\n",
       "    </tr>\n",
       "  </thead>\n",
       "  <tbody>\n",
       "    <tr>\n",
       "      <th>0</th>\n",
       "      <td>6</td>\n",
       "      <td>7346</td>\n",
       "      <td>Pañales CHELINO LOVE Talla</td>\n",
       "      <td>https://www.mifarma.fr/media/catalog/product/c...</td>\n",
       "    </tr>\n",
       "    <tr>\n",
       "      <th>1</th>\n",
       "      <td>11</td>\n",
       "      <td>7348</td>\n",
       "      <td>Pañales CHELINO LOVE Talla</td>\n",
       "      <td>https://www.mifarma.fr/media/catalog/product/c...</td>\n",
       "    </tr>\n",
       "    <tr>\n",
       "      <th>2</th>\n",
       "      <td>17</td>\n",
       "      <td>3757</td>\n",
       "      <td>Gel Mucus Lubricante Intimo Cumlaude Rilastil</td>\n",
       "      <td>data:image/jpeg;base64,/9j/4AAQSkZJRgABAQAAAQA...</td>\n",
       "    </tr>\n",
       "    <tr>\n",
       "      <th>3</th>\n",
       "      <td>20</td>\n",
       "      <td>3958</td>\n",
       "      <td>Bioderma Sensibio DS+ Gel Limpiador</td>\n",
       "      <td>https://static.beautytocare.com/media/catalog/...</td>\n",
       "    </tr>\n",
       "    <tr>\n",
       "      <th>4</th>\n",
       "      <td>37</td>\n",
       "      <td>16045</td>\n",
       "      <td>Isdin Everclean Gel Secante</td>\n",
       "      <td>https://www.isdin.com/assets/cms/images/rutina...</td>\n",
       "    </tr>\n",
       "  </tbody>\n",
       "</table>\n",
       "</div>"
      ],
      "text/plain": [
       "   id  product_id                                           name  \\\n",
       "0   6        7346                     Pañales CHELINO LOVE Talla   \n",
       "1  11        7348                     Pañales CHELINO LOVE Talla   \n",
       "2  17        3757  Gel Mucus Lubricante Intimo Cumlaude Rilastil   \n",
       "3  20        3958            Bioderma Sensibio DS+ Gel Limpiador   \n",
       "4  37       16045                    Isdin Everclean Gel Secante   \n",
       "\n",
       "                                                 url  \n",
       "0  https://www.mifarma.fr/media/catalog/product/c...  \n",
       "1  https://www.mifarma.fr/media/catalog/product/c...  \n",
       "2  data:image/jpeg;base64,/9j/4AAQSkZJRgABAQAAAQA...  \n",
       "3  https://static.beautytocare.com/media/catalog/...  \n",
       "4  https://www.isdin.com/assets/cms/images/rutina...  "
      ]
     },
     "execution_count": 7,
     "metadata": {},
     "output_type": "execute_result"
    }
   ],
   "source": [
    "print(df2.shape)\n",
    "df2.head()"
   ]
  },
  {
   "cell_type": "code",
   "execution_count": 8,
   "metadata": {},
   "outputs": [],
   "source": [
    "df.set_index('product_id', inplace=True)\n",
    "df.update(df2.set_index('product_id'))\n",
    "df.reset_index(inplace=True)"
   ]
  },
  {
   "cell_type": "code",
   "execution_count": 9,
   "metadata": {},
   "outputs": [
    {
     "data": {
      "text/html": [
       "<div>\n",
       "<style scoped>\n",
       "    .dataframe tbody tr th:only-of-type {\n",
       "        vertical-align: middle;\n",
       "    }\n",
       "\n",
       "    .dataframe tbody tr th {\n",
       "        vertical-align: top;\n",
       "    }\n",
       "\n",
       "    .dataframe thead th {\n",
       "        text-align: right;\n",
       "    }\n",
       "</style>\n",
       "<table border=\"1\" class=\"dataframe\">\n",
       "  <thead>\n",
       "    <tr style=\"text-align: right;\">\n",
       "      <th></th>\n",
       "      <th>product_id</th>\n",
       "      <th>id</th>\n",
       "      <th>name</th>\n",
       "      <th>url</th>\n",
       "    </tr>\n",
       "  </thead>\n",
       "  <tbody>\n",
       "    <tr>\n",
       "      <th>20</th>\n",
       "      <td>3958</td>\n",
       "      <td>20.0</td>\n",
       "      <td>Bioderma Sensibio DS+ Gel Limpiador</td>\n",
       "      <td>https://static.beautytocare.com/media/catalog/...</td>\n",
       "    </tr>\n",
       "  </tbody>\n",
       "</table>\n",
       "</div>"
      ],
      "text/plain": [
       "    product_id    id                                 name  \\\n",
       "20        3958  20.0  Bioderma Sensibio DS+ Gel Limpiador   \n",
       "\n",
       "                                                  url  \n",
       "20  https://static.beautytocare.com/media/catalog/...  "
      ]
     },
     "execution_count": 9,
     "metadata": {},
     "output_type": "execute_result"
    }
   ],
   "source": [
    "df.loc[df[\"product_id\"]==3958]"
   ]
  },
  {
   "cell_type": "code",
   "execution_count": 10,
   "metadata": {},
   "outputs": [
    {
     "data": {
      "text/html": [
       "<div>\n",
       "<style scoped>\n",
       "    .dataframe tbody tr th:only-of-type {\n",
       "        vertical-align: middle;\n",
       "    }\n",
       "\n",
       "    .dataframe tbody tr th {\n",
       "        vertical-align: top;\n",
       "    }\n",
       "\n",
       "    .dataframe thead th {\n",
       "        text-align: right;\n",
       "    }\n",
       "</style>\n",
       "<table border=\"1\" class=\"dataframe\">\n",
       "  <thead>\n",
       "    <tr style=\"text-align: right;\">\n",
       "      <th></th>\n",
       "      <th>id</th>\n",
       "      <th>product_id</th>\n",
       "      <th>name</th>\n",
       "      <th>url</th>\n",
       "    </tr>\n",
       "  </thead>\n",
       "  <tbody>\n",
       "    <tr>\n",
       "      <th>3</th>\n",
       "      <td>20</td>\n",
       "      <td>3958</td>\n",
       "      <td>Bioderma Sensibio DS+ Gel Limpiador</td>\n",
       "      <td>https://static.beautytocare.com/media/catalog/...</td>\n",
       "    </tr>\n",
       "  </tbody>\n",
       "</table>\n",
       "</div>"
      ],
      "text/plain": [
       "   id  product_id                                 name  \\\n",
       "3  20        3958  Bioderma Sensibio DS+ Gel Limpiador   \n",
       "\n",
       "                                                 url  \n",
       "3  https://static.beautytocare.com/media/catalog/...  "
      ]
     },
     "execution_count": 10,
     "metadata": {},
     "output_type": "execute_result"
    }
   ],
   "source": [
    "df2.loc[df2[\"product_id\"]==3958]"
   ]
  },
  {
   "cell_type": "code",
   "execution_count": 12,
   "metadata": {},
   "outputs": [
    {
     "name": "stdout",
     "output_type": "stream",
     "text": [
      "(19778, 4)\n"
     ]
    },
    {
     "data": {
      "text/html": [
       "<div>\n",
       "<style scoped>\n",
       "    .dataframe tbody tr th:only-of-type {\n",
       "        vertical-align: middle;\n",
       "    }\n",
       "\n",
       "    .dataframe tbody tr th {\n",
       "        vertical-align: top;\n",
       "    }\n",
       "\n",
       "    .dataframe thead th {\n",
       "        text-align: right;\n",
       "    }\n",
       "</style>\n",
       "<table border=\"1\" class=\"dataframe\">\n",
       "  <thead>\n",
       "    <tr style=\"text-align: right;\">\n",
       "      <th></th>\n",
       "      <th>product_id</th>\n",
       "      <th>id</th>\n",
       "      <th>name</th>\n",
       "      <th>url</th>\n",
       "    </tr>\n",
       "  </thead>\n",
       "  <tbody>\n",
       "    <tr>\n",
       "      <th>0</th>\n",
       "      <td>5645</td>\n",
       "      <td>0.0</td>\n",
       "      <td>Weleda Hombre Crema Hidratante</td>\n",
       "      <td>https://weledaint-prod.global.ssl.fastly.net/b...</td>\n",
       "    </tr>\n",
       "    <tr>\n",
       "      <th>1</th>\n",
       "      <td>28743</td>\n",
       "      <td>1.0</td>\n",
       "      <td>Gynea Gestagyn Men</td>\n",
       "      <td>https://d3gr7hv60ouvr1.cloudfront.net/CACHE/im...</td>\n",
       "    </tr>\n",
       "    <tr>\n",
       "      <th>2</th>\n",
       "      <td>68986</td>\n",
       "      <td>2.0</td>\n",
       "      <td>Endocare Tensage Ampollas</td>\n",
       "      <td>https://www.apothekegt.com/11962-large_default...</td>\n",
       "    </tr>\n",
       "    <tr>\n",
       "      <th>3</th>\n",
       "      <td>9692</td>\n",
       "      <td>3.0</td>\n",
       "      <td>Lacer Colutorio Fluor+Xilitol  Sabor Fresa</td>\n",
       "      <td>https://www.lafarmaciadelbebe.eu/23365-pos_lar...</td>\n",
       "    </tr>\n",
       "    <tr>\n",
       "      <th>4</th>\n",
       "      <td>81921</td>\n",
       "      <td>4.0</td>\n",
       "      <td>Age Protect Sérum Intensivo Multiacción Uriage</td>\n",
       "      <td>https://www.uriage.com/system/products/images/...</td>\n",
       "    </tr>\n",
       "  </tbody>\n",
       "</table>\n",
       "</div>"
      ],
      "text/plain": [
       "   product_id   id                                            name  \\\n",
       "0        5645  0.0                  Weleda Hombre Crema Hidratante   \n",
       "1       28743  1.0                              Gynea Gestagyn Men   \n",
       "2       68986  2.0                       Endocare Tensage Ampollas   \n",
       "3        9692  3.0      Lacer Colutorio Fluor+Xilitol  Sabor Fresa   \n",
       "4       81921  4.0  Age Protect Sérum Intensivo Multiacción Uriage   \n",
       "\n",
       "                                                 url  \n",
       "0  https://weledaint-prod.global.ssl.fastly.net/b...  \n",
       "1  https://d3gr7hv60ouvr1.cloudfront.net/CACHE/im...  \n",
       "2  https://www.apothekegt.com/11962-large_default...  \n",
       "3  https://www.lafarmaciadelbebe.eu/23365-pos_lar...  \n",
       "4  https://www.uriage.com/system/products/images/...  "
      ]
     },
     "execution_count": 12,
     "metadata": {},
     "output_type": "execute_result"
    }
   ],
   "source": [
    "print(df.shape)\n",
    "df.head()"
   ]
  },
  {
   "cell_type": "code",
   "execution_count": 13,
   "metadata": {},
   "outputs": [
    {
     "data": {
      "text/plain": [
       "product_id      0\n",
       "id              0\n",
       "name            0\n",
       "url           109\n",
       "dtype: int64"
      ]
     },
     "execution_count": 13,
     "metadata": {},
     "output_type": "execute_result"
    }
   ],
   "source": [
    "df.isna().sum()"
   ]
  },
  {
   "cell_type": "code",
   "execution_count": 138,
   "metadata": {},
   "outputs": [],
   "source": [
    "df3 = df.loc[df[\"url\"].str.startswith(\"data\", na=True)]"
   ]
  },
  {
   "cell_type": "code",
   "execution_count": 139,
   "metadata": {},
   "outputs": [],
   "source": [
    "df3.to_csv(\"MissingUrls(1073).csv\", index=False)"
   ]
  },
  {
   "cell_type": "code",
   "execution_count": 140,
   "metadata": {},
   "outputs": [
    {
     "data": {
      "text/plain": [
       "(1073, 4)"
      ]
     },
     "execution_count": 140,
     "metadata": {},
     "output_type": "execute_result"
    }
   ],
   "source": [
    "df3.shape"
   ]
  },
  {
   "cell_type": "code",
   "execution_count": 141,
   "metadata": {},
   "outputs": [
    {
     "data": {
      "text/html": [
       "<div>\n",
       "<style scoped>\n",
       "    .dataframe tbody tr th:only-of-type {\n",
       "        vertical-align: middle;\n",
       "    }\n",
       "\n",
       "    .dataframe tbody tr th {\n",
       "        vertical-align: top;\n",
       "    }\n",
       "\n",
       "    .dataframe thead th {\n",
       "        text-align: right;\n",
       "    }\n",
       "</style>\n",
       "<table border=\"1\" class=\"dataframe\">\n",
       "  <thead>\n",
       "    <tr style=\"text-align: right;\">\n",
       "      <th></th>\n",
       "      <th>product_id</th>\n",
       "      <th>id</th>\n",
       "      <th>name</th>\n",
       "      <th>url</th>\n",
       "    </tr>\n",
       "  </thead>\n",
       "  <tbody>\n",
       "    <tr>\n",
       "      <th>17</th>\n",
       "      <td>3757</td>\n",
       "      <td>17.0</td>\n",
       "      <td>Gel Mucus Lubricante Intimo Cumlaude Rilastil</td>\n",
       "      <td>data:image/jpeg;base64,/9j/4AAQSkZJRgABAQAAAQA...</td>\n",
       "    </tr>\n",
       "    <tr>\n",
       "      <th>45</th>\n",
       "      <td>84193</td>\n",
       "      <td>45.0</td>\n",
       "      <td>Pack Roseliane Crema Anti-Rojeces Uriage + Agu...</td>\n",
       "      <td>NaN</td>\n",
       "    </tr>\n",
       "    <tr>\n",
       "      <th>55</th>\n",
       "      <td>10862</td>\n",
       "      <td>55.0</td>\n",
       "      <td>Uresim Aceite Arbol de Te</td>\n",
       "      <td>data:image/jpeg;base64,/9j/4AAQSkZJRgABAQAAAQA...</td>\n",
       "    </tr>\n",
       "    <tr>\n",
       "      <th>70</th>\n",
       "      <td>3810</td>\n",
       "      <td>71.0</td>\n",
       "      <td>Suavinex Esponja Natural Canastilla</td>\n",
       "      <td>NaN</td>\n",
       "    </tr>\n",
       "    <tr>\n",
       "      <th>109</th>\n",
       "      <td>15484</td>\n",
       "      <td>111.0</td>\n",
       "      <td>Bioderma Sensibio Agua Micelar ROJA  +</td>\n",
       "      <td>data:image/jpeg;base64,/9j/4AAQSkZJRgABAQAAAQA...</td>\n",
       "    </tr>\n",
       "  </tbody>\n",
       "</table>\n",
       "</div>"
      ],
      "text/plain": [
       "     product_id     id                                               name  \\\n",
       "17         3757   17.0      Gel Mucus Lubricante Intimo Cumlaude Rilastil   \n",
       "45        84193   45.0  Pack Roseliane Crema Anti-Rojeces Uriage + Agu...   \n",
       "55        10862   55.0                          Uresim Aceite Arbol de Te   \n",
       "70         3810   71.0                Suavinex Esponja Natural Canastilla   \n",
       "109       15484  111.0             Bioderma Sensibio Agua Micelar ROJA  +   \n",
       "\n",
       "                                                   url  \n",
       "17   data:image/jpeg;base64,/9j/4AAQSkZJRgABAQAAAQA...  \n",
       "45                                                 NaN  \n",
       "55   data:image/jpeg;base64,/9j/4AAQSkZJRgABAQAAAQA...  \n",
       "70                                                 NaN  \n",
       "109  data:image/jpeg;base64,/9j/4AAQSkZJRgABAQAAAQA...  "
      ]
     },
     "execution_count": 141,
     "metadata": {},
     "output_type": "execute_result"
    }
   ],
   "source": [
    "df3.head()"
   ]
  },
  {
   "cell_type": "code",
   "execution_count": 22,
   "metadata": {},
   "outputs": [],
   "source": [
    "df.to_csv(\"../Outputs/Scrapping Images/ImageUrls_V2.csv\", index=False)"
   ]
  },
  {
   "cell_type": "code",
   "execution_count": 23,
   "metadata": {},
   "outputs": [],
   "source": [
    "df7 = pd.read_csv(\"../Outputs/Scrapping Images/ImageUrls_V2.csv\")"
   ]
  },
  {
   "cell_type": "code",
   "execution_count": 24,
   "metadata": {},
   "outputs": [
    {
     "data": {
      "text/plain": [
       "(19778, 4)"
      ]
     },
     "execution_count": 24,
     "metadata": {},
     "output_type": "execute_result"
    }
   ],
   "source": [
    "df7.shape"
   ]
  },
  {
   "cell_type": "code",
   "execution_count": 25,
   "metadata": {},
   "outputs": [
    {
     "data": {
      "text/html": [
       "<div>\n",
       "<style scoped>\n",
       "    .dataframe tbody tr th:only-of-type {\n",
       "        vertical-align: middle;\n",
       "    }\n",
       "\n",
       "    .dataframe tbody tr th {\n",
       "        vertical-align: top;\n",
       "    }\n",
       "\n",
       "    .dataframe thead th {\n",
       "        text-align: right;\n",
       "    }\n",
       "</style>\n",
       "<table border=\"1\" class=\"dataframe\">\n",
       "  <thead>\n",
       "    <tr style=\"text-align: right;\">\n",
       "      <th></th>\n",
       "      <th>product_id</th>\n",
       "      <th>id</th>\n",
       "      <th>name</th>\n",
       "      <th>url</th>\n",
       "    </tr>\n",
       "  </thead>\n",
       "  <tbody>\n",
       "    <tr>\n",
       "      <th>17</th>\n",
       "      <td>3757</td>\n",
       "      <td>17.0</td>\n",
       "      <td>Gel Mucus Lubricante Intimo Cumlaude Rilastil</td>\n",
       "      <td>data:image/jpeg;base64,/9j/4AAQSkZJRgABAQAAAQA...</td>\n",
       "    </tr>\n",
       "    <tr>\n",
       "      <th>45</th>\n",
       "      <td>84193</td>\n",
       "      <td>45.0</td>\n",
       "      <td>Pack Roseliane Crema Anti-Rojeces Uriage + Agu...</td>\n",
       "      <td>NaN</td>\n",
       "    </tr>\n",
       "    <tr>\n",
       "      <th>55</th>\n",
       "      <td>10862</td>\n",
       "      <td>55.0</td>\n",
       "      <td>Uresim Aceite Arbol de Te</td>\n",
       "      <td>data:image/jpeg;base64,/9j/4AAQSkZJRgABAQAAAQA...</td>\n",
       "    </tr>\n",
       "    <tr>\n",
       "      <th>70</th>\n",
       "      <td>3810</td>\n",
       "      <td>71.0</td>\n",
       "      <td>Suavinex Esponja Natural Canastilla</td>\n",
       "      <td>NaN</td>\n",
       "    </tr>\n",
       "    <tr>\n",
       "      <th>109</th>\n",
       "      <td>15484</td>\n",
       "      <td>111.0</td>\n",
       "      <td>Bioderma Sensibio Agua Micelar ROJA  +</td>\n",
       "      <td>data:image/jpeg;base64,/9j/4AAQSkZJRgABAQAAAQA...</td>\n",
       "    </tr>\n",
       "    <tr>\n",
       "      <th>...</th>\n",
       "      <td>...</td>\n",
       "      <td>...</td>\n",
       "      <td>...</td>\n",
       "      <td>...</td>\n",
       "    </tr>\n",
       "    <tr>\n",
       "      <th>19678</th>\n",
       "      <td>69433</td>\n",
       "      <td>747036.0</td>\n",
       "      <td>Locion Cara y Cuerpo Urtekram  Men</td>\n",
       "      <td>NaN</td>\n",
       "    </tr>\n",
       "    <tr>\n",
       "      <th>19685</th>\n",
       "      <td>82545</td>\n",
       "      <td>750121.0</td>\n",
       "      <td>Set Vaso Pajita+Botella Adultos \"As You\" Suavi...</td>\n",
       "      <td>data:image/jpeg;base64,/9j/4AAQSkZJRgABAQAAAQA...</td>\n",
       "    </tr>\n",
       "    <tr>\n",
       "      <th>19700</th>\n",
       "      <td>54262</td>\n",
       "      <td>759083.0</td>\n",
       "      <td>Aran Rose % Natural Complemento Alimenticio</td>\n",
       "      <td>data:image/jpeg;base64,/9j/4AAQSkZJRgABAQAAAQA...</td>\n",
       "    </tr>\n",
       "    <tr>\n",
       "      <th>19707</th>\n",
       "      <td>76511</td>\n",
       "      <td>763745.0</td>\n",
       "      <td>Puzzle de Madera Cocina Lena +</td>\n",
       "      <td>data:image/jpeg;base64,/9j/4AAQSkZJRgABAQAAAQA...</td>\n",
       "    </tr>\n",
       "    <tr>\n",
       "      <th>19710</th>\n",
       "      <td>94326</td>\n",
       "      <td>766095.0</td>\n",
       "      <td>Espelta Hinchada con Chocolate Bio Ecosana</td>\n",
       "      <td>data:image/jpeg;base64,/9j/4AAQSkZJRgABAQAAAQA...</td>\n",
       "    </tr>\n",
       "  </tbody>\n",
       "</table>\n",
       "<p>1073 rows × 4 columns</p>\n",
       "</div>"
      ],
      "text/plain": [
       "       product_id        id  \\\n",
       "17           3757      17.0   \n",
       "45          84193      45.0   \n",
       "55          10862      55.0   \n",
       "70           3810      71.0   \n",
       "109         15484     111.0   \n",
       "...           ...       ...   \n",
       "19678       69433  747036.0   \n",
       "19685       82545  750121.0   \n",
       "19700       54262  759083.0   \n",
       "19707       76511  763745.0   \n",
       "19710       94326  766095.0   \n",
       "\n",
       "                                                    name  \\\n",
       "17         Gel Mucus Lubricante Intimo Cumlaude Rilastil   \n",
       "45     Pack Roseliane Crema Anti-Rojeces Uriage + Agu...   \n",
       "55                             Uresim Aceite Arbol de Te   \n",
       "70                   Suavinex Esponja Natural Canastilla   \n",
       "109               Bioderma Sensibio Agua Micelar ROJA  +   \n",
       "...                                                  ...   \n",
       "19678                 Locion Cara y Cuerpo Urtekram  Men   \n",
       "19685  Set Vaso Pajita+Botella Adultos \"As You\" Suavi...   \n",
       "19700        Aran Rose % Natural Complemento Alimenticio   \n",
       "19707                     Puzzle de Madera Cocina Lena +   \n",
       "19710         Espelta Hinchada con Chocolate Bio Ecosana   \n",
       "\n",
       "                                                     url  \n",
       "17     data:image/jpeg;base64,/9j/4AAQSkZJRgABAQAAAQA...  \n",
       "45                                                   NaN  \n",
       "55     data:image/jpeg;base64,/9j/4AAQSkZJRgABAQAAAQA...  \n",
       "70                                                   NaN  \n",
       "109    data:image/jpeg;base64,/9j/4AAQSkZJRgABAQAAAQA...  \n",
       "...                                                  ...  \n",
       "19678                                                NaN  \n",
       "19685  data:image/jpeg;base64,/9j/4AAQSkZJRgABAQAAAQA...  \n",
       "19700  data:image/jpeg;base64,/9j/4AAQSkZJRgABAQAAAQA...  \n",
       "19707  data:image/jpeg;base64,/9j/4AAQSkZJRgABAQAAAQA...  \n",
       "19710  data:image/jpeg;base64,/9j/4AAQSkZJRgABAQAAAQA...  \n",
       "\n",
       "[1073 rows x 4 columns]"
      ]
     },
     "execution_count": 25,
     "metadata": {},
     "output_type": "execute_result"
    }
   ],
   "source": [
    "df7.loc[df7[\"url\"].str.startswith(\"data\", na=True)]"
   ]
  }
 ],
 "metadata": {
  "interpreter": {
   "hash": "f876c6d03db2a1b556a458eeb23dadf5ec8e4266298f30cdd70e3128597d8f66"
  },
  "kernelspec": {
   "display_name": "Python 3.10.2 ('penv': venv)",
   "language": "python",
   "name": "python3"
  },
  "language_info": {
   "codemirror_mode": {
    "name": "ipython",
    "version": 3
   },
   "file_extension": ".py",
   "mimetype": "text/x-python",
   "name": "python",
   "nbconvert_exporter": "python",
   "pygments_lexer": "ipython3",
   "version": "3.10.4"
  },
  "orig_nbformat": 4
 },
 "nbformat": 4,
 "nbformat_minor": 2
}
