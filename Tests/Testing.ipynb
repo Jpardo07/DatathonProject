{
 "cells": [
  {
   "cell_type": "code",
   "execution_count": 24,
   "metadata": {},
   "outputs": [],
   "source": [
    "import pandas as pd"
   ]
  },
  {
   "cell_type": "code",
   "execution_count": 43,
   "metadata": {},
   "outputs": [],
   "source": [
    "df = pd.read_csv(\"ImageUrls.csv\")"
   ]
  },
  {
   "cell_type": "code",
   "execution_count": 44,
   "metadata": {},
   "outputs": [
    {
     "data": {
      "text/html": [
       "<div>\n",
       "<style scoped>\n",
       "    .dataframe tbody tr th:only-of-type {\n",
       "        vertical-align: middle;\n",
       "    }\n",
       "\n",
       "    .dataframe tbody tr th {\n",
       "        vertical-align: top;\n",
       "    }\n",
       "\n",
       "    .dataframe thead th {\n",
       "        text-align: right;\n",
       "    }\n",
       "</style>\n",
       "<table border=\"1\" class=\"dataframe\">\n",
       "  <thead>\n",
       "    <tr style=\"text-align: right;\">\n",
       "      <th></th>\n",
       "      <th>id</th>\n",
       "      <th>product_id</th>\n",
       "      <th>name</th>\n",
       "      <th>url</th>\n",
       "    </tr>\n",
       "  </thead>\n",
       "  <tbody>\n",
       "    <tr>\n",
       "      <th>0</th>\n",
       "      <td>0</td>\n",
       "      <td>5645</td>\n",
       "      <td>Weleda Hombre Crema Hidratante</td>\n",
       "      <td>https://weledaint-prod.global.ssl.fastly.net/b...</td>\n",
       "    </tr>\n",
       "    <tr>\n",
       "      <th>1</th>\n",
       "      <td>1</td>\n",
       "      <td>28743</td>\n",
       "      <td>Gynea Gestagyn Men</td>\n",
       "      <td>https://d3gr7hv60ouvr1.cloudfront.net/CACHE/im...</td>\n",
       "    </tr>\n",
       "    <tr>\n",
       "      <th>2</th>\n",
       "      <td>2</td>\n",
       "      <td>68986</td>\n",
       "      <td>Endocare Tensage Ampollas</td>\n",
       "      <td>https://www.apothekegt.com/11962-large_default...</td>\n",
       "    </tr>\n",
       "    <tr>\n",
       "      <th>3</th>\n",
       "      <td>3</td>\n",
       "      <td>9692</td>\n",
       "      <td>Lacer Colutorio Fluor+Xilitol  Sabor Fresa</td>\n",
       "      <td>https://www.lafarmaciadelbebe.eu/23365-pos_lar...</td>\n",
       "    </tr>\n",
       "    <tr>\n",
       "      <th>4</th>\n",
       "      <td>4</td>\n",
       "      <td>81921</td>\n",
       "      <td>Age Protect Sérum Intensivo Multiacción Uriage</td>\n",
       "      <td>https://www.uriage.com/system/products/images/...</td>\n",
       "    </tr>\n",
       "  </tbody>\n",
       "</table>\n",
       "</div>"
      ],
      "text/plain": [
       "   id  product_id                                            name  \\\n",
       "0   0        5645                  Weleda Hombre Crema Hidratante   \n",
       "1   1       28743                              Gynea Gestagyn Men   \n",
       "2   2       68986                       Endocare Tensage Ampollas   \n",
       "3   3        9692      Lacer Colutorio Fluor+Xilitol  Sabor Fresa   \n",
       "4   4       81921  Age Protect Sérum Intensivo Multiacción Uriage   \n",
       "\n",
       "                                                 url  \n",
       "0  https://weledaint-prod.global.ssl.fastly.net/b...  \n",
       "1  https://d3gr7hv60ouvr1.cloudfront.net/CACHE/im...  \n",
       "2  https://www.apothekegt.com/11962-large_default...  \n",
       "3  https://www.lafarmaciadelbebe.eu/23365-pos_lar...  \n",
       "4  https://www.uriage.com/system/products/images/...  "
      ]
     },
     "execution_count": 44,
     "metadata": {},
     "output_type": "execute_result"
    }
   ],
   "source": [
    "df.head()"
   ]
  },
  {
   "cell_type": "code",
   "execution_count": 45,
   "metadata": {},
   "outputs": [],
   "source": [
    "df = df.loc[df[\"url\"].str.startswith(\"data\", na=True)]"
   ]
  },
  {
   "cell_type": "code",
   "execution_count": 46,
   "metadata": {},
   "outputs": [
    {
     "data": {
      "text/plain": [
       "(2201, 4)"
      ]
     },
     "execution_count": 46,
     "metadata": {},
     "output_type": "execute_result"
    }
   ],
   "source": [
    "df.shape"
   ]
  },
  {
   "cell_type": "code",
   "execution_count": 48,
   "metadata": {},
   "outputs": [],
   "source": [
    "df.to_csv(\"UrlMissing.csv\", index=False)"
   ]
  },
  {
   "cell_type": "code",
   "execution_count": null,
   "metadata": {},
   "outputs": [],
   "source": []
  }
 ],
 "metadata": {
  "interpreter": {
   "hash": "f876c6d03db2a1b556a458eeb23dadf5ec8e4266298f30cdd70e3128597d8f66"
  },
  "kernelspec": {
   "display_name": "Python 3.10.2 ('penv': venv)",
   "language": "python",
   "name": "python3"
  },
  "language_info": {
   "codemirror_mode": {
    "name": "ipython",
    "version": 3
   },
   "file_extension": ".py",
   "mimetype": "text/x-python",
   "name": "python",
   "nbconvert_exporter": "python",
   "pygments_lexer": "ipython3",
   "version": "3.10.4"
  },
  "orig_nbformat": 4
 },
 "nbformat": 4,
 "nbformat_minor": 2
}
