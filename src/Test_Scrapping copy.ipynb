{
 "cells": [
  {
   "cell_type": "markdown",
   "metadata": {},
   "source": [
    "### Libraries import"
   ]
  },
  {
   "cell_type": "code",
   "execution_count": 1,
   "metadata": {},
   "outputs": [],
   "source": [
    "import pandas as pd # Dataframes management\n",
    "from zipfile import ZipFile  # Files compressed management\n",
    "import os # Files management along OS\n",
    "import re\n"
   ]
  },
  {
   "cell_type": "code",
   "execution_count": 2,
   "metadata": {},
   "outputs": [],
   "source": [
    "from selenium import webdriver # Webscrapping bot\n",
    "from selenium.webdriver.chrome.options import Options\n",
    "from selenium.webdriver.common.by import By\n",
    "from selenium.webdriver.common.keys import Keys\n",
    "import time"
   ]
  },
  {
   "cell_type": "code",
   "execution_count": 3,
   "metadata": {},
   "outputs": [],
   "source": [
    "import nltk\n",
    "from nltk.tokenize import word_tokenize, sent_tokenize\n",
    "from nltk.corpus import stopwords"
   ]
  },
  {
   "cell_type": "markdown",
   "metadata": {},
   "source": [
    "### Data import"
   ]
  },
  {
   "cell_type": "code",
   "execution_count": 4,
   "metadata": {},
   "outputs": [
    {
     "name": "stdout",
     "output_type": "stream",
     "text": [
      "File Name                                             Modified             Size\n",
      "items_ordered_2years_V2.csv                    2022-02-23 01:28:04    150372498\n",
      "extraction...\n",
      "Done!\n",
      "CSV imported to Pandas successfully\n",
      "Original CSV removed to preserve repo health\n"
     ]
    }
   ],
   "source": [
    "# Specifying the name of the zip file\n",
    "fileZIP = \"/items_ordered_2years_V2.zip\"\n",
    "fileCSV = \"/items_ordered_2years_V2.csv\"\n",
    "\n",
    "path = \"../Inputs/Modificados - Atmira_Pharma_Visualization\"\n",
    "  \n",
    "# Open the zip file in read mode\n",
    "with ZipFile(f\"{path}{fileZIP}\", 'r') as zip: \n",
    "    # List all the contents of the zip file\n",
    "    zip.printdir() \n",
    "  \n",
    "    # Extract all files\n",
    "    print('extraction...') \n",
    "    zip.extractall(path) \n",
    "    print('Done!')\n",
    "\n",
    "#Import CSV to pandas\n",
    "itemsOrdered = pd.read_csv(f\"{path}{fileCSV}\")\n",
    "print(\"CSV imported to Pandas successfully\")\n",
    "\n",
    "# Remove uncompressed CSV file\n",
    "os.remove(f\"{path}{fileCSV}\")\n",
    "print(\"Original CSV removed to preserve repo health\")"
   ]
  },
  {
   "cell_type": "code",
   "execution_count": 5,
   "metadata": {},
   "outputs": [
    {
     "data": {
      "text/html": [
       "<div>\n",
       "<style scoped>\n",
       "    .dataframe tbody tr th:only-of-type {\n",
       "        vertical-align: middle;\n",
       "    }\n",
       "\n",
       "    .dataframe tbody tr th {\n",
       "        vertical-align: top;\n",
       "    }\n",
       "\n",
       "    .dataframe thead th {\n",
       "        text-align: right;\n",
       "    }\n",
       "</style>\n",
       "<table border=\"1\" class=\"dataframe\">\n",
       "  <thead>\n",
       "    <tr style=\"text-align: right;\">\n",
       "      <th></th>\n",
       "      <th>num_order</th>\n",
       "      <th>item_id</th>\n",
       "      <th>created_at</th>\n",
       "      <th>product_id</th>\n",
       "      <th>qty_ordered</th>\n",
       "      <th>base_cost</th>\n",
       "      <th>price</th>\n",
       "      <th>discount_percent</th>\n",
       "      <th>customer_id</th>\n",
       "      <th>city</th>\n",
       "      <th>zipcode</th>\n",
       "    </tr>\n",
       "  </thead>\n",
       "  <tbody>\n",
       "    <tr>\n",
       "      <th>0</th>\n",
       "      <td>562ba4ba9aaf2a1e926842deca19271d</td>\n",
       "      <td>2bca87c2ab10b07feef290a9be47f316</td>\n",
       "      <td>2017-01-01 00:20:33</td>\n",
       "      <td>6409.0</td>\n",
       "      <td>1.0</td>\n",
       "      <td>13.4204</td>\n",
       "      <td>17.17</td>\n",
       "      <td>8.0</td>\n",
       "      <td>50d7f99947b472cc889d58845b9d23e2</td>\n",
       "      <td>Valencia</td>\n",
       "      <td>46019</td>\n",
       "    </tr>\n",
       "    <tr>\n",
       "      <th>1</th>\n",
       "      <td>562ba4ba9aaf2a1e926842deca19271d</td>\n",
       "      <td>53e12ac4b579f0c4b1c4f77d50bf8792</td>\n",
       "      <td>2017-01-01 00:20:33</td>\n",
       "      <td>5133.0</td>\n",
       "      <td>1.0</td>\n",
       "      <td>18.5351</td>\n",
       "      <td>22.68</td>\n",
       "      <td>8.0</td>\n",
       "      <td>50d7f99947b472cc889d58845b9d23e2</td>\n",
       "      <td>Valencia</td>\n",
       "      <td>46019</td>\n",
       "    </tr>\n",
       "    <tr>\n",
       "      <th>2</th>\n",
       "      <td>562ba4ba9aaf2a1e926842deca19271d</td>\n",
       "      <td>d19d6df5cd6a1e741408b70aa2767bf4</td>\n",
       "      <td>2017-01-01 00:20:33</td>\n",
       "      <td>5125.0</td>\n",
       "      <td>1.0</td>\n",
       "      <td>18.5260</td>\n",
       "      <td>22.68</td>\n",
       "      <td>8.0</td>\n",
       "      <td>50d7f99947b472cc889d58845b9d23e2</td>\n",
       "      <td>Valencia</td>\n",
       "      <td>46019</td>\n",
       "    </tr>\n",
       "  </tbody>\n",
       "</table>\n",
       "</div>"
      ],
      "text/plain": [
       "                          num_order                           item_id  \\\n",
       "0  562ba4ba9aaf2a1e926842deca19271d  2bca87c2ab10b07feef290a9be47f316   \n",
       "1  562ba4ba9aaf2a1e926842deca19271d  53e12ac4b579f0c4b1c4f77d50bf8792   \n",
       "2  562ba4ba9aaf2a1e926842deca19271d  d19d6df5cd6a1e741408b70aa2767bf4   \n",
       "\n",
       "            created_at  product_id  qty_ordered  base_cost  price  \\\n",
       "0  2017-01-01 00:20:33      6409.0          1.0    13.4204  17.17   \n",
       "1  2017-01-01 00:20:33      5133.0          1.0    18.5351  22.68   \n",
       "2  2017-01-01 00:20:33      5125.0          1.0    18.5260  22.68   \n",
       "\n",
       "   discount_percent                       customer_id      city zipcode  \n",
       "0               8.0  50d7f99947b472cc889d58845b9d23e2  Valencia   46019  \n",
       "1               8.0  50d7f99947b472cc889d58845b9d23e2  Valencia   46019  \n",
       "2               8.0  50d7f99947b472cc889d58845b9d23e2  Valencia   46019  "
      ]
     },
     "execution_count": 5,
     "metadata": {},
     "output_type": "execute_result"
    }
   ],
   "source": [
    "itemsOrdered.head(3)"
   ]
  },
  {
   "cell_type": "markdown",
   "metadata": {},
   "source": [
    "### USO DE WEBSCRAPPING PARA CÓDIGO POSTAL"
   ]
  },
  {
   "cell_type": "code",
   "execution_count": 6,
   "metadata": {},
   "outputs": [],
   "source": [
    "def AcentosLimpiador(text):\n",
    "\tacentos = {'á': 'a', 'é': 'e', 'í': 'i', 'ó': 'o', 'ú': 'u', 'Á': 'A', 'E': 'E', 'Í': 'I', 'Ó': 'O', 'Ú': 'U'}\n",
    "\tfor ele in acentos:\n",
    "\t\tif ele in text:\n",
    "\t\t\ttext = text.replace(ele, acentos[ele])\n",
    "\treturn text"
   ]
  },
  {
   "cell_type": "code",
   "execution_count": 7,
   "metadata": {},
   "outputs": [],
   "source": [
    "def CityCleaner(text):\n",
    "    stopWordSpanish = set(stopwords.words('spanish'))\n",
    "    wordTokens = word_tokenize(AcentosLimpiador(text.lower()).rstrip()) \n",
    "    filteredSentence = [element for element in wordTokens if not element in stopWordSpanish] \n",
    "    return filteredSentence"
   ]
  },
  {
   "cell_type": "code",
   "execution_count": 8,
   "metadata": {},
   "outputs": [],
   "source": [
    "#Limpieza de zipcodes con RegEx\n",
    "def num_guion(string):\n",
    "    \"\"\" Get a string with the numbers and hyphens of another string\n",
    "    \n",
    "    Args:\n",
    "        df: string used to extract the string with numbers abd hyphens\n",
    "\n",
    "    Returns:\n",
    "        df: the string with numbers and hyphens\n",
    "    \"\"\"\n",
    "    aux = re.match(\"([\\d-]+)\", str(string))\n",
    "    try:\n",
    "        return str(aux.group())\n",
    "    except:\n",
    "        return string\n",
    "\n",
    "\n",
    "itemsOrdered[\"zipcode\"] = itemsOrdered[\"zipcode\"].apply(lambda x: num_guion(x))"
   ]
  },
  {
   "cell_type": "markdown",
   "metadata": {},
   "source": [
    "----------------------"
   ]
  },
  {
   "cell_type": "code",
   "execution_count": 51,
   "metadata": {},
   "outputs": [],
   "source": [
    "city = \"Aravaca-Madrid\"\n",
    "zipToAnalyze = \"28023\""
   ]
  },
  {
   "cell_type": "markdown",
   "metadata": {},
   "source": [
    "---------------------"
   ]
  },
  {
   "cell_type": "code",
   "execution_count": 26,
   "metadata": {},
   "outputs": [],
   "source": [
    "driver = webdriver.Firefox()\n",
    "    \n",
    "driver.get(\"https://worldpostalcode.com/lookup\")\n",
    "driver.set_page_load_timeout(5)\n",
    "\n",
    "insertZipcode =driver.find_element(By.ID,\"search\")\n",
    "insertZipcode.clear()\n",
    "insertZipcode.send_keys(zipToAnalyze)\n",
    "clickButtonZipcode =driver.find_element(By.CLASS_NAME,\"submit\")\n",
    "clickButtonZipcode.click()\n",
    "driver.set_page_load_timeout(5)\n",
    "\n",
    "getGeoInfo = driver.find_element(By.CLASS_NAME,\"search_units\")\n",
    "saveGeoInfo = getGeoInfo.text\n",
    "\n",
    "driver.close()"
   ]
  },
  {
   "cell_type": "code",
   "execution_count": 27,
   "metadata": {},
   "outputs": [
    {
     "data": {
      "text/plain": [
       "[\"AlgeriaM'silaAin Laaleg28023\",\n",
       " \"AlgeriaM'silaSaiat28023\",\n",
       " \"AlgeriaM'silaLoug28023\",\n",
       " \"AlgeriaM'silaEl Bayadh28023\",\n",
       " \"AlgeriaM'silaAin Fares28023\",\n",
       " \"AlgeriaM'silaBir Souid28023\",\n",
       " 'SpainMadridMadrid28023',\n",
       " 'FranceCentre-Val De Loire, Eure-Et-LoirChartres28023 CEDEX',\n",
       " 'MexicoColimaJardines De Guadalupe28023',\n",
       " 'UkraineKirovohradska, OleksandriiskyiPantañ\\x97Vka28023',\n",
       " 'United StatesNorth Carolina, RowanChina Grove28023']"
      ]
     },
     "execution_count": 27,
     "metadata": {},
     "output_type": "execute_result"
    }
   ],
   "source": [
    "listTestingZipcode = saveGeoInfo.split(\"\\n\")\n",
    "listTestingZipcode"
   ]
  },
  {
   "cell_type": "code",
   "execution_count": 28,
   "metadata": {},
   "outputs": [],
   "source": [
    "indexMatchRegex = list(map(lambda x: [(m.start(0), m.end(0)) for m in re.finditer(r\"[a-z][A-Z0-9]\", x)], listTestingZipcode))"
   ]
  },
  {
   "cell_type": "code",
   "execution_count": 29,
   "metadata": {},
   "outputs": [
    {
     "data": {
      "text/plain": [
       "3"
      ]
     },
     "execution_count": 29,
     "metadata": {},
     "output_type": "execute_result"
    }
   ],
   "source": [
    "len(indexMatchRegex[1])"
   ]
  },
  {
   "cell_type": "code",
   "execution_count": 30,
   "metadata": {},
   "outputs": [],
   "source": [
    "resultScrapClean = []\n",
    "for pas,resultScrap in enumerate(listTestingZipcode):\n",
    "    for pos,ele in enumerate(indexMatchRegex[pas]):\n",
    "        if len(indexMatchRegex[pas])==2:\n",
    "            if pos ==0:\n",
    "                txt = resultScrap[:ele[0]+1]+\",\"+resultScrap[ele[1]-1:]\n",
    "            elif pos ==1:\n",
    "                txt = txt[:ele[0]+2]+\",\"+txt[ele[1]:]\n",
    "                resultScrapClean.append(txt)\n",
    "        elif len(indexMatchRegex[pas])==3:\n",
    "            if pos ==0:\n",
    "                txt = resultScrap[:ele[0]+1]+\",\"+resultScrap[ele[1]-1:]\n",
    "            elif pos ==1:\n",
    "                txt = txt[:ele[0]+2]+\",\"+txt[ele[1]:]\n",
    "            elif pos ==2:\n",
    "                txt = txt[:ele[0]+3]+\",\"+txt[ele[1]+1:]\n",
    "                resultScrapClean.append(txt)\n",
    "\n"
   ]
  },
  {
   "cell_type": "code",
   "execution_count": 31,
   "metadata": {},
   "outputs": [
    {
     "data": {
      "text/plain": [
       "[\"Algeria,M'sila,Ain Laaleg,28023\",\n",
       " \"Algeria,M'sila,Saiat,28023\",\n",
       " \"Algeria,M'sila,Loug,28023\",\n",
       " \"Algeria,M'sila,El Bayadh,28023\",\n",
       " \"Algeria,M'sila,Ain Fares,28023\",\n",
       " \"Algeria,M'sila,Bir Souid,28023\",\n",
       " 'Spain,Madrid,Madrid,28023',\n",
       " 'France,Centre-Val De Loire, Eure-Et-Loir,Chartres,28023 CEDEX',\n",
       " 'Mexico,Colima,Jardines De Guadalupe,28023',\n",
       " 'Ukraine,Kirovohradska, Oleksandriiskyi,Pantañ\\x97Vka,28023',\n",
       " 'United States,North Carolina, Rowan,China Grove,28023']"
      ]
     },
     "execution_count": 31,
     "metadata": {},
     "output_type": "execute_result"
    }
   ],
   "source": [
    "resultScrapClean"
   ]
  },
  {
   "cell_type": "code",
   "execution_count": 32,
   "metadata": {},
   "outputs": [],
   "source": [
    "resultScrapListed = []\n",
    "for element in resultScrapClean:\n",
    "    resultScrapListed.append(element.split(\",\"))"
   ]
  },
  {
   "cell_type": "code",
   "execution_count": 33,
   "metadata": {},
   "outputs": [
    {
     "data": {
      "text/plain": [
       "[['Algeria', \"M'sila\", 'Ain Laaleg', '28023'],\n",
       " ['Algeria', \"M'sila\", 'Saiat', '28023'],\n",
       " ['Algeria', \"M'sila\", 'Loug', '28023'],\n",
       " ['Algeria', \"M'sila\", 'El Bayadh', '28023'],\n",
       " ['Algeria', \"M'sila\", 'Ain Fares', '28023'],\n",
       " ['Algeria', \"M'sila\", 'Bir Souid', '28023'],\n",
       " ['Spain', 'Madrid', 'Madrid', '28023'],\n",
       " ['France', 'Centre-Val De Loire', ' Eure-Et-Loir', 'Chartres', '28023 CEDEX'],\n",
       " ['Mexico', 'Colima', 'Jardines De Guadalupe', '28023'],\n",
       " ['Ukraine', 'Kirovohradska', ' Oleksandriiskyi', 'Pantañ\\x97Vka', '28023'],\n",
       " ['United States', 'North Carolina', ' Rowan', 'China Grove', '28023']]"
      ]
     },
     "execution_count": 33,
     "metadata": {},
     "output_type": "execute_result"
    }
   ],
   "source": [
    "resultScrapListed"
   ]
  },
  {
   "cell_type": "code",
   "execution_count": 34,
   "metadata": {},
   "outputs": [],
   "source": [
    "resultScrapRearr = [(element[0], element[1], element[-2], element[-1]) for element in resultScrapListed]"
   ]
  },
  {
   "cell_type": "code",
   "execution_count": 35,
   "metadata": {},
   "outputs": [
    {
     "data": {
      "text/plain": [
       "[('Algeria', \"M'sila\", 'Ain Laaleg', '28023'),\n",
       " ('Algeria', \"M'sila\", 'Saiat', '28023'),\n",
       " ('Algeria', \"M'sila\", 'Loug', '28023'),\n",
       " ('Algeria', \"M'sila\", 'El Bayadh', '28023'),\n",
       " ('Algeria', \"M'sila\", 'Ain Fares', '28023'),\n",
       " ('Algeria', \"M'sila\", 'Bir Souid', '28023'),\n",
       " ('Spain', 'Madrid', 'Madrid', '28023'),\n",
       " ('France', 'Centre-Val De Loire', 'Chartres', '28023 CEDEX'),\n",
       " ('Mexico', 'Colima', 'Jardines De Guadalupe', '28023'),\n",
       " ('Ukraine', 'Kirovohradska', 'Pantañ\\x97Vka', '28023'),\n",
       " ('United States', 'North Carolina', 'China Grove', '28023')]"
      ]
     },
     "execution_count": 35,
     "metadata": {},
     "output_type": "execute_result"
    }
   ],
   "source": [
    "resultScrapRearr"
   ]
  },
  {
   "cell_type": "code",
   "execution_count": 37,
   "metadata": {},
   "outputs": [
    {
     "ename": "IndexError",
     "evalue": "list index out of range",
     "output_type": "error",
     "traceback": [
      "\u001b[0;31m---------------------------------------------------------------------------\u001b[0m",
      "\u001b[0;31mIndexError\u001b[0m                                Traceback (most recent call last)",
      "\u001b[1;32m/var/home/alex/Documentos/Repos/Online/DatathonProject/src/Test_Scrapping copy.ipynb Cell 25'\u001b[0m in \u001b[0;36m<module>\u001b[0;34m\u001b[0m\n\u001b[1;32m      <a href='vscode-notebook-cell:/var/home/alex/Documentos/Repos/Online/DatathonProject/src/Test_Scrapping%20copy.ipynb#ch0000039?line=4'>5</a>\u001b[0m             resultZip\u001b[39m.\u001b[39mappend(element)\n\u001b[1;32m      <a href='vscode-notebook-cell:/var/home/alex/Documentos/Repos/Online/DatathonProject/src/Test_Scrapping%20copy.ipynb#ch0000039?line=5'>6</a>\u001b[0m             \u001b[39mbreak\u001b[39;00m\n\u001b[0;32m----> <a href='vscode-notebook-cell:/var/home/alex/Documentos/Repos/Online/DatathonProject/src/Test_Scrapping%20copy.ipynb#ch0000039?line=7'>8</a>\u001b[0m resultZip \u001b[39m=\u001b[39m resultZip[\u001b[39m0\u001b[39;49m]\n",
      "\u001b[0;31mIndexError\u001b[0m: list index out of range"
     ]
    }
   ],
   "source": [
    "resultZip = []\n",
    "for element in resultScrapRearr:\n",
    "    for element2  in CityCleaner(element[2]):\n",
    "        if element2 in CityCleaner(cityToAnalyze):\n",
    "            resultZip.append(element)\n",
    "            break\n",
    "\n",
    "resultZip = resultZip[0]  \n",
    "    "
   ]
  },
  {
   "cell_type": "code",
   "execution_count": 38,
   "metadata": {},
   "outputs": [
    {
     "data": {
      "text/plain": [
       "[]"
      ]
     },
     "execution_count": 38,
     "metadata": {},
     "output_type": "execute_result"
    }
   ],
   "source": [
    "resultZip"
   ]
  },
  {
   "cell_type": "code",
   "execution_count": 46,
   "metadata": {},
   "outputs": [
    {
     "name": "stdout",
     "output_type": "stream",
     "text": [
      "ain aravaca-madrid\n",
      "laaleg aravaca-madrid\n",
      "saiat aravaca-madrid\n",
      "loug aravaca-madrid\n",
      "bayadh aravaca-madrid\n",
      "ain aravaca-madrid\n",
      "fares aravaca-madrid\n",
      "bir aravaca-madrid\n",
      "souid aravaca-madrid\n",
      "madrid aravaca-madrid\n",
      "chartres aravaca-madrid\n",
      "jardines aravaca-madrid\n",
      "guadalupe aravaca-madrid\n",
      "pantañvka aravaca-madrid\n",
      "china aravaca-madrid\n",
      "grove aravaca-madrid\n"
     ]
    }
   ],
   "source": [
    "resultZip = []\n",
    "for element in resultScrapRearr:\n",
    "    for element2 in CityCleaner(element[2]):\n",
    "        for element3 in CityCleaner(cityToAnalyze):\n",
    "            print(element2,element3)\n",
    "            if element2.__contains__(element3):\n",
    "                resultZip.append(element)\n",
    "                break\n",
    "resultZip = resultZip"
   ]
  },
  {
   "cell_type": "code",
   "execution_count": 41,
   "metadata": {},
   "outputs": [
    {
     "data": {
      "text/plain": [
       "[]"
      ]
     },
     "execution_count": 41,
     "metadata": {},
     "output_type": "execute_result"
    }
   ],
   "source": [
    "resultZip"
   ]
  },
  {
   "cell_type": "code",
   "execution_count": 49,
   "metadata": {},
   "outputs": [
    {
     "name": "stdout",
     "output_type": "stream",
     "text": [
      "aravaca-madrid ain\n",
      "aravaca-madrid laaleg\n",
      "aravaca-madrid saiat\n",
      "aravaca-madrid loug\n",
      "aravaca-madrid bayadh\n",
      "aravaca-madrid ain\n",
      "aravaca-madrid fares\n",
      "aravaca-madrid bir\n",
      "aravaca-madrid souid\n",
      "aravaca-madrid madrid\n",
      "aravaca-madrid chartres\n",
      "aravaca-madrid jardines\n",
      "aravaca-madrid guadalupe\n",
      "aravaca-madrid pantañvka\n",
      "aravaca-madrid china\n",
      "aravaca-madrid grove\n"
     ]
    }
   ],
   "source": [
    "resultZip = []\n",
    "for element in resultScrapRearr:\n",
    "    for element2 in CityCleaner(element[2]):\n",
    "        for cityToAnalyze in CityCleaner(element3):\n",
    "            print(element3, element2)\n",
    "            if element3.__contains__(element2):\n",
    "                resultZip.append(element)\n",
    "                break\n",
    "resultZip = resultZip"
   ]
  },
  {
   "cell_type": "code",
   "execution_count": 59,
   "metadata": {},
   "outputs": [
    {
     "data": {
      "text/plain": [
       "('Spain', 'Madrid', 'Madrid', '28023')"
      ]
     },
     "execution_count": 59,
     "metadata": {},
     "output_type": "execute_result"
    }
   ],
   "source": [
    "resultZip = []\n",
    "for element in resultScrapRearr:\n",
    "    for element2  in CityCleaner(element[2]):\n",
    "        if element2 in CityCleaner(city):\n",
    "            resultZip.append(element)\n",
    "            break\n",
    "try:\n",
    "    resultZip = resultZip[0]\n",
    "except IndexError:\n",
    "    resultZip = []\n",
    "    for element in resultScrapRearr:\n",
    "        for element2 in CityCleaner(element[2]):\n",
    "            for element3 in CityCleaner(city):\n",
    "                if element2 .__contains__(element3):\n",
    "                    resultZip.append(element)\n",
    "                    break\n",
    "    try:\n",
    "        resultZip = resultZip[0]\n",
    "    except IndexError:\n",
    "        resultZip = []\n",
    "        for element in resultScrapRearr:\n",
    "            for element2 in CityCleaner(element[2]):\n",
    "                for city in CityCleaner(element3):\n",
    "                    if element3.__contains__(element2):\n",
    "                        resultZip.append(element)\n",
    "                        break\n",
    "        resultZip = resultZip[0]  \n",
    "\n",
    "resultZip"
   ]
  }
 ],
 "metadata": {
  "interpreter": {
   "hash": "f876c6d03db2a1b556a458eeb23dadf5ec8e4266298f30cdd70e3128597d8f66"
  },
  "kernelspec": {
   "display_name": "Python 3.10.2 ('penv': venv)",
   "language": "python",
   "name": "python3"
  },
  "language_info": {
   "codemirror_mode": {
    "name": "ipython",
    "version": 3
   },
   "file_extension": ".py",
   "mimetype": "text/x-python",
   "name": "python",
   "nbconvert_exporter": "python",
   "pygments_lexer": "ipython3",
   "version": "3.10.2"
  },
  "orig_nbformat": 4
 },
 "nbformat": 4,
 "nbformat_minor": 2
}
