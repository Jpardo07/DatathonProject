{
 "cells": [
  {
   "cell_type": "markdown",
   "metadata": {},
   "source": [
    "### Importación de librerías"
   ]
  },
  {
   "cell_type": "code",
   "execution_count": 13,
   "metadata": {},
   "outputs": [],
   "source": [
    "from selenium import webdriver # Webscrapping bot\n",
    "from selenium.webdriver.common.by import By\n",
    "from selenium.webdriver.common.keys import Keys\n",
    "from selenium.common.exceptions import NoSuchElementException\n",
    "\n",
    "from selenium.webdriver.firefox.options import Options as FirefoxOptions\n",
    "from selenium.webdriver.chrome.options import Options as ChromiumOptions\n",
    "\n",
    "from selenium.webdriver.common.by import By"
   ]
  },
  {
   "cell_type": "code",
   "execution_count": 14,
   "metadata": {},
   "outputs": [],
   "source": [
    "import logging # Para generar logs\n",
    "from logging.handlers import TimedRotatingFileHandler\n",
    "from logging import Formatter\n",
    "\n",
    "import datetime\n",
    "import os\n",
    "import time"
   ]
  },
  {
   "cell_type": "code",
   "execution_count": 15,
   "metadata": {},
   "outputs": [],
   "source": [
    "import pandas as pd #Manejo de dataframes"
   ]
  },
  {
   "cell_type": "markdown",
   "metadata": {},
   "source": [
    "### Variables a modificar para adaptar el código"
   ]
  },
  {
   "cell_type": "code",
   "execution_count": 16,
   "metadata": {},
   "outputs": [],
   "source": [
    "urlToScrap =\"https://images.google.com/\"\n",
    "deleteOldLogs = True\n",
    "\n",
    "pathToDF = \"../Outputs/\"\n",
    "fileToDF = \"ProdsToScrap.csv\"\n",
    "\n",
    "webdriverToUse = \"chromium\""
   ]
  },
  {
   "cell_type": "markdown",
   "metadata": {},
   "source": [
    "### Pequeñas funciones de apoyo"
   ]
  },
  {
   "cell_type": "code",
   "execution_count": 17,
   "metadata": {},
   "outputs": [],
   "source": [
    "# Esta función se ha creado para mejorar comprensión de código en la configuración de logs\n",
    "\n",
    "def UTCFormatter(logFormatter):\n",
    "    '''\n",
    "    Recibe un formatter de logeo\n",
    "    Devuelve el horario a tiempo GMT\n",
    "    '''\n",
    "    logFormatter.converter = time.gmtime\n",
    "    return logFormatter"
   ]
  },
  {
   "cell_type": "markdown",
   "metadata": {},
   "source": [
    "### Configuración de logs"
   ]
  },
  {
   "cell_type": "code",
   "execution_count": 18,
   "metadata": {},
   "outputs": [],
   "source": [
    "# Se inicia el proceso de registro de logs a nivel de INFO.\n",
    "logger = logging.getLogger('ScrapLog')\n",
    "logger.setLevel(logging.INFO)\n",
    "\n",
    "# Variables que determinan apartados posteriores\n",
    "timestamp = datetime.datetime.utcnow().strftime('%Y%m%d_%H-%M-%S')\n",
    "filename=f'ScrapImages{timestamp}.log'\n",
    "formatter = logging.Formatter('[%(asctime)s] %(name)s {%(filename)s:%(lineno)d} %(levelname)s - %(message)s')"
   ]
  },
  {
   "cell_type": "code",
   "execution_count": 19,
   "metadata": {},
   "outputs": [],
   "source": [
    "'''\n",
    "Indican como se debe crear el archivo de log\n",
    "Si \"deleteOldLogs\" es True, sólo se conservará el último archivo de log\n",
    "'''\n",
    "\n",
    "if deleteOldLogs ==True:\n",
    "    listFilesinCWD = os.listdir(os.getcwd())\n",
    "    for element in listFilesinCWD:\n",
    "        if element.endswith(\".log\"):\n",
    "            os.remove(os.path.join(os.getcwd(), element))\n",
    "\n",
    "fileHandler = logging.FileHandler(filename=filename)\n",
    "logging.Formatter.converter = time.gmtime\n",
    "\n",
    "fileHandler.setLevel(logging.INFO)\n",
    "fileHandler.setFormatter(UTCFormatter(formatter))\n",
    "logger.addHandler(fileHandler)"
   ]
  },
  {
   "cell_type": "markdown",
   "metadata": {},
   "source": [
    "### Importación de datos"
   ]
  },
  {
   "cell_type": "code",
   "execution_count": 20,
   "metadata": {},
   "outputs": [],
   "source": [
    "df = pd.read_csv(f\"{pathToDF}{fileToDF}\")\n",
    "df.drop(columns=df.columns[0], axis=1, inplace=True)"
   ]
  },
  {
   "cell_type": "code",
   "execution_count": 21,
   "metadata": {},
   "outputs": [
    {
     "name": "stdout",
     "output_type": "stream",
     "text": [
      "(19778, 3)\n"
     ]
    },
    {
     "data": {
      "text/html": [
       "<div>\n",
       "<style scoped>\n",
       "    .dataframe tbody tr th:only-of-type {\n",
       "        vertical-align: middle;\n",
       "    }\n",
       "\n",
       "    .dataframe tbody tr th {\n",
       "        vertical-align: top;\n",
       "    }\n",
       "\n",
       "    .dataframe thead th {\n",
       "        text-align: right;\n",
       "    }\n",
       "</style>\n",
       "<table border=\"1\" class=\"dataframe\">\n",
       "  <thead>\n",
       "    <tr style=\"text-align: right;\">\n",
       "      <th></th>\n",
       "      <th>id</th>\n",
       "      <th>product_id</th>\n",
       "      <th>name</th>\n",
       "    </tr>\n",
       "  </thead>\n",
       "  <tbody>\n",
       "    <tr>\n",
       "      <th>0</th>\n",
       "      <td>0</td>\n",
       "      <td>5645</td>\n",
       "      <td>Weleda Hombre Crema Hidratante</td>\n",
       "    </tr>\n",
       "    <tr>\n",
       "      <th>1</th>\n",
       "      <td>1</td>\n",
       "      <td>28743</td>\n",
       "      <td>Gynea Gestagyn Men</td>\n",
       "    </tr>\n",
       "  </tbody>\n",
       "</table>\n",
       "</div>"
      ],
      "text/plain": [
       "   id  product_id                            name\n",
       "0   0        5645  Weleda Hombre Crema Hidratante\n",
       "1   1       28743              Gynea Gestagyn Men"
      ]
     },
     "execution_count": 21,
     "metadata": {},
     "output_type": "execute_result"
    }
   ],
   "source": [
    "print(df.shape)\n",
    "df.head(2)"
   ]
  },
  {
   "cell_type": "markdown",
   "metadata": {},
   "source": [
    "### Lógica del Scrapping"
   ]
  },
  {
   "cell_type": "code",
   "execution_count": 22,
   "metadata": {},
   "outputs": [],
   "source": [
    "def ScrapFunction(prodToScrap, urlToScrap, webdriverUsed=\"chromium\"):\n",
    "\n",
    "    logger.info(f\"Started with: {prodToScrap}\")\n",
    "\n",
    "    if webdriverToUse != \"firefox\":\n",
    "        opts = ChromiumOptions()\n",
    "        opts.add_argument(\"--no-sandbox\")\n",
    "        opts.add_argument(\"--incognito\")\n",
    "        opts.add_argument(\"start-maximized\")\n",
    "        opts.add_argument(\"window-size=1920,1080\")\n",
    "        opts.add_argument(\"--headless\")\n",
    "        opts.add_experimental_option(\"excludeSwitches\", [\"enable-automation\"])\n",
    "        opts.add_experimental_option('useAutomationExtension', False)\n",
    "        driver = webdriver.Chrome(options=opts)\n",
    "    else:\n",
    "        opts = FirefoxOptions()\n",
    "        opts.add_argument(\"--headless\")\n",
    "        opts.add_argument(\"--no-sandbox\")\n",
    "        opts.add_argument(\"--incognito\")\n",
    "        opts.add_argument(\"window-size=1400,600\")\n",
    "        driver = webdriver.Firefox(options=opts)\n",
    "\n",
    "\n",
    "    driver.set_page_load_timeout(30)\n",
    "    driver.set_window_size(1920, 1080)\n",
    "\n",
    "    driver.get(urlToScrap)\n",
    "    driver.delete_all_cookies()\n",
    "\n",
    "    acceptCookie = driver.find_element(By.XPATH, \"/html/body/div[2]/div[2]/div[3]/span/div/div/div/div[3]/button[2]/div\")\n",
    "    acceptCookie.click()\n",
    "    driver.implicitly_wait(8)\n",
    "\n",
    "    selectImageBox = driver.find_element(By.XPATH, \"/html/body/div[1]/div[3]/form/div[1]/div[1]/div[1]/div/div[2]/input\")\n",
    "    driver.implicitly_wait(8)\n",
    "    selectImageBox.send_keys(prodToScrap)\n",
    "    selectImageBox.send_keys(Keys.ENTER)\n",
    "\n",
    "    selectImage = driver.find_element(By.XPATH, \"/html/body/div[2]/c-wiz/div[4]/div[1]/div/div/div/div[1]/div[1]/span/div[1]/div[1]/div[1]/a[1]/div[1]/img\")\n",
    "    selectImage.click()\n",
    "\n",
    "    driver.implicitly_wait(8)\n",
    "    driver.refresh()\n",
    "    driver.implicitly_wait(8)\n",
    "\n",
    "    urlImage = driver.find_element(By.XPATH, \"/html/body/div[2]/c-wiz/div[4]/div[2]/div[3]/div/div/div[3]/div[2]/c-wiz/div/div[1]/div[1]/div[2]/div/a/img\").get_attribute(\"src\")\n",
    "\n",
    "    print(urlImage)\n",
    "\n",
    "    logger.info(f\"Scrapped: {urlImage}\")\n",
    "    \n",
    "    driver.close()\n",
    "\n",
    "    return urlImage"
   ]
  },
  {
   "cell_type": "code",
   "execution_count": 24,
   "metadata": {},
   "outputs": [
    {
     "name": "stdout",
     "output_type": "stream",
     "text": [
      "Starting Webscrapping!\n"
     ]
    },
    {
     "ename": "WebDriverException",
     "evalue": "Message: unknown error: Chrome failed to start: exited abnormally.\n  (unknown error: DevToolsActivePort file doesn't exist)\n  (The process started from chrome location /usr/bin/chromium is no longer running, so ChromeDriver is assuming that Chrome has crashed.)\nStacktrace:\n#0 0x5590dbfadad3 <unknown>\n#1 0x5590dbd0d568 <unknown>\n#2 0x5590dbd30b37 <unknown>\n#3 0x5590dbd2c23a <unknown>\n#4 0x5590dbd672ba <unknown>\n#5 0x5590dbd614e3 <unknown>\n#6 0x5590dbd36d1a <unknown>\n#7 0x5590dbd37e75 <unknown>\n#8 0x5590dbfdbefd <unknown>\n#9 0x5590dbff519b <unknown>\n#10 0x5590dbfddc65 <unknown>\n#11 0x5590dbff5ec8 <unknown>\n#12 0x5590dbfd1360 <unknown>\n#13 0x5590dc011a68 <unknown>\n#14 0x5590dc011be8 <unknown>\n#15 0x5590dc02b7fd <unknown>\n#16 0x7fdcc2d1bea7 <unknown>\n",
     "output_type": "error",
     "traceback": [
      "\u001b[0;31m---------------------------------------------------------------------------\u001b[0m",
      "\u001b[0;31mWebDriverException\u001b[0m                        Traceback (most recent call last)",
      "\u001b[1;32m/workspaces/DatathonProject/src/Scrapping - Imagenes.ipynb Cell 17'\u001b[0m in \u001b[0;36m<cell line: 3>\u001b[0;34m()\u001b[0m\n\u001b[1;32m      <a href='vscode-notebook-cell://attached-container%2B7b22636f6e7461696e65724e616d65223a222f616666656374696f6e6174655f77696c627572227d/workspaces/DatathonProject/src/Scrapping%20-%20Imagenes.ipynb#ch0000016vscode-remote?line=0'>1</a>\u001b[0m \u001b[39mprint\u001b[39m(\u001b[39m\"\u001b[39m\u001b[39mStarting Webscrapping!\u001b[39m\u001b[39m\"\u001b[39m)\n\u001b[1;32m      <a href='vscode-notebook-cell://attached-container%2B7b22636f6e7461696e65724e616d65223a222f616666656374696f6e6174655f77696c627572227d/workspaces/DatathonProject/src/Scrapping%20-%20Imagenes.ipynb#ch0000016vscode-remote?line=2'>3</a>\u001b[0m \u001b[39mfor\u001b[39;00m position, element \u001b[39min\u001b[39;00m \u001b[39menumerate\u001b[39m(df[\u001b[39m\"\u001b[39m\u001b[39mname\u001b[39m\u001b[39m\"\u001b[39m]\u001b[39m.\u001b[39miloc[:\u001b[39m10\u001b[39m]\u001b[39m.\u001b[39mtolist()):\n\u001b[0;32m----> <a href='vscode-notebook-cell://attached-container%2B7b22636f6e7461696e65724e616d65223a222f616666656374696f6e6174655f77696c627572227d/workspaces/DatathonProject/src/Scrapping%20-%20Imagenes.ipynb#ch0000016vscode-remote?line=3'>4</a>\u001b[0m     urlScrapped \u001b[39m=\u001b[39m ScrapFunction(element,urlToScrap,webdriverUsed\u001b[39m=\u001b[39;49mwebdriverToUse)\n\u001b[1;32m      <a href='vscode-notebook-cell://attached-container%2B7b22636f6e7461696e65724e616d65223a222f616666656374696f6e6174655f77696c627572227d/workspaces/DatathonProject/src/Scrapping%20-%20Imagenes.ipynb#ch0000016vscode-remote?line=4'>5</a>\u001b[0m     df\u001b[39m.\u001b[39mloc[df\u001b[39m.\u001b[39mindex[position], \u001b[39m'\u001b[39m\u001b[39murl\u001b[39m\u001b[39m'\u001b[39m] \u001b[39m=\u001b[39m urlScrapped\n",
      "\u001b[1;32m/workspaces/DatathonProject/src/Scrapping - Imagenes.ipynb Cell 16'\u001b[0m in \u001b[0;36mScrapFunction\u001b[0;34m(prodToScrap, urlToScrap, webdriverUsed)\u001b[0m\n\u001b[1;32m     <a href='vscode-notebook-cell://attached-container%2B7b22636f6e7461696e65724e616d65223a222f616666656374696f6e6174655f77696c627572227d/workspaces/DatathonProject/src/Scrapping%20-%20Imagenes.ipynb#ch0000015vscode-remote?line=11'>12</a>\u001b[0m     opts\u001b[39m.\u001b[39madd_experimental_option(\u001b[39m\"\u001b[39m\u001b[39mexcludeSwitches\u001b[39m\u001b[39m\"\u001b[39m, [\u001b[39m\"\u001b[39m\u001b[39menable-automation\u001b[39m\u001b[39m\"\u001b[39m])\n\u001b[1;32m     <a href='vscode-notebook-cell://attached-container%2B7b22636f6e7461696e65724e616d65223a222f616666656374696f6e6174655f77696c627572227d/workspaces/DatathonProject/src/Scrapping%20-%20Imagenes.ipynb#ch0000015vscode-remote?line=12'>13</a>\u001b[0m     opts\u001b[39m.\u001b[39madd_experimental_option(\u001b[39m'\u001b[39m\u001b[39museAutomationExtension\u001b[39m\u001b[39m'\u001b[39m, \u001b[39mFalse\u001b[39;00m)\n\u001b[0;32m---> <a href='vscode-notebook-cell://attached-container%2B7b22636f6e7461696e65724e616d65223a222f616666656374696f6e6174655f77696c627572227d/workspaces/DatathonProject/src/Scrapping%20-%20Imagenes.ipynb#ch0000015vscode-remote?line=13'>14</a>\u001b[0m     driver \u001b[39m=\u001b[39m webdriver\u001b[39m.\u001b[39;49mChrome(options\u001b[39m=\u001b[39;49mopts)\n\u001b[1;32m     <a href='vscode-notebook-cell://attached-container%2B7b22636f6e7461696e65724e616d65223a222f616666656374696f6e6174655f77696c627572227d/workspaces/DatathonProject/src/Scrapping%20-%20Imagenes.ipynb#ch0000015vscode-remote?line=14'>15</a>\u001b[0m \u001b[39melse\u001b[39;00m:\n\u001b[1;32m     <a href='vscode-notebook-cell://attached-container%2B7b22636f6e7461696e65724e616d65223a222f616666656374696f6e6174655f77696c627572227d/workspaces/DatathonProject/src/Scrapping%20-%20Imagenes.ipynb#ch0000015vscode-remote?line=15'>16</a>\u001b[0m     opts \u001b[39m=\u001b[39m FirefoxOptions()\n",
      "File \u001b[0;32m/workspaces/DatathonProject/venv/lib/python3.10/site-packages/selenium/webdriver/chrome/webdriver.py:70\u001b[0m, in \u001b[0;36mWebDriver.__init__\u001b[0;34m(self, executable_path, port, options, service_args, desired_capabilities, service_log_path, chrome_options, service, keep_alive)\u001b[0m\n\u001b[1;32m     <a href='file:///workspaces/DatathonProject/venv/lib/python3.10/site-packages/selenium/webdriver/chrome/webdriver.py?line=66'>67</a>\u001b[0m \u001b[39mif\u001b[39;00m \u001b[39mnot\u001b[39;00m service:\n\u001b[1;32m     <a href='file:///workspaces/DatathonProject/venv/lib/python3.10/site-packages/selenium/webdriver/chrome/webdriver.py?line=67'>68</a>\u001b[0m     service \u001b[39m=\u001b[39m Service(executable_path, port, service_args, service_log_path)\n\u001b[0;32m---> <a href='file:///workspaces/DatathonProject/venv/lib/python3.10/site-packages/selenium/webdriver/chrome/webdriver.py?line=69'>70</a>\u001b[0m \u001b[39msuper\u001b[39;49m(WebDriver, \u001b[39mself\u001b[39;49m)\u001b[39m.\u001b[39;49m\u001b[39m__init__\u001b[39;49m(DesiredCapabilities\u001b[39m.\u001b[39;49mCHROME[\u001b[39m'\u001b[39;49m\u001b[39mbrowserName\u001b[39;49m\u001b[39m'\u001b[39;49m], \u001b[39m\"\u001b[39;49m\u001b[39mgoog\u001b[39;49m\u001b[39m\"\u001b[39;49m,\n\u001b[1;32m     <a href='file:///workspaces/DatathonProject/venv/lib/python3.10/site-packages/selenium/webdriver/chrome/webdriver.py?line=70'>71</a>\u001b[0m                                 port, options,\n\u001b[1;32m     <a href='file:///workspaces/DatathonProject/venv/lib/python3.10/site-packages/selenium/webdriver/chrome/webdriver.py?line=71'>72</a>\u001b[0m                                 service_args, desired_capabilities,\n\u001b[1;32m     <a href='file:///workspaces/DatathonProject/venv/lib/python3.10/site-packages/selenium/webdriver/chrome/webdriver.py?line=72'>73</a>\u001b[0m                                 service_log_path, service, keep_alive)\n",
      "File \u001b[0;32m/workspaces/DatathonProject/venv/lib/python3.10/site-packages/selenium/webdriver/chromium/webdriver.py:93\u001b[0m, in \u001b[0;36mChromiumDriver.__init__\u001b[0;34m(self, browser_name, vendor_prefix, port, options, service_args, desired_capabilities, service_log_path, service, keep_alive)\u001b[0m\n\u001b[1;32m     <a href='file:///workspaces/DatathonProject/venv/lib/python3.10/site-packages/selenium/webdriver/chromium/webdriver.py?line=89'>90</a>\u001b[0m \u001b[39mself\u001b[39m\u001b[39m.\u001b[39mservice\u001b[39m.\u001b[39mstart()\n\u001b[1;32m     <a href='file:///workspaces/DatathonProject/venv/lib/python3.10/site-packages/selenium/webdriver/chromium/webdriver.py?line=91'>92</a>\u001b[0m \u001b[39mtry\u001b[39;00m:\n\u001b[0;32m---> <a href='file:///workspaces/DatathonProject/venv/lib/python3.10/site-packages/selenium/webdriver/chromium/webdriver.py?line=92'>93</a>\u001b[0m     RemoteWebDriver\u001b[39m.\u001b[39;49m\u001b[39m__init__\u001b[39;49m(\n\u001b[1;32m     <a href='file:///workspaces/DatathonProject/venv/lib/python3.10/site-packages/selenium/webdriver/chromium/webdriver.py?line=93'>94</a>\u001b[0m         \u001b[39mself\u001b[39;49m,\n\u001b[1;32m     <a href='file:///workspaces/DatathonProject/venv/lib/python3.10/site-packages/selenium/webdriver/chromium/webdriver.py?line=94'>95</a>\u001b[0m         command_executor\u001b[39m=\u001b[39;49mChromiumRemoteConnection(\n\u001b[1;32m     <a href='file:///workspaces/DatathonProject/venv/lib/python3.10/site-packages/selenium/webdriver/chromium/webdriver.py?line=95'>96</a>\u001b[0m             remote_server_addr\u001b[39m=\u001b[39;49m\u001b[39mself\u001b[39;49m\u001b[39m.\u001b[39;49mservice\u001b[39m.\u001b[39;49mservice_url,\n\u001b[1;32m     <a href='file:///workspaces/DatathonProject/venv/lib/python3.10/site-packages/selenium/webdriver/chromium/webdriver.py?line=96'>97</a>\u001b[0m             browser_name\u001b[39m=\u001b[39;49mbrowser_name, vendor_prefix\u001b[39m=\u001b[39;49mvendor_prefix,\n\u001b[1;32m     <a href='file:///workspaces/DatathonProject/venv/lib/python3.10/site-packages/selenium/webdriver/chromium/webdriver.py?line=97'>98</a>\u001b[0m             keep_alive\u001b[39m=\u001b[39;49mkeep_alive, ignore_proxy\u001b[39m=\u001b[39;49m_ignore_proxy),\n\u001b[1;32m     <a href='file:///workspaces/DatathonProject/venv/lib/python3.10/site-packages/selenium/webdriver/chromium/webdriver.py?line=98'>99</a>\u001b[0m         options\u001b[39m=\u001b[39;49moptions)\n\u001b[1;32m    <a href='file:///workspaces/DatathonProject/venv/lib/python3.10/site-packages/selenium/webdriver/chromium/webdriver.py?line=99'>100</a>\u001b[0m \u001b[39mexcept\u001b[39;00m \u001b[39mException\u001b[39;00m:\n\u001b[1;32m    <a href='file:///workspaces/DatathonProject/venv/lib/python3.10/site-packages/selenium/webdriver/chromium/webdriver.py?line=100'>101</a>\u001b[0m     \u001b[39mself\u001b[39m\u001b[39m.\u001b[39mquit()\n",
      "File \u001b[0;32m/workspaces/DatathonProject/venv/lib/python3.10/site-packages/selenium/webdriver/remote/webdriver.py:269\u001b[0m, in \u001b[0;36mWebDriver.__init__\u001b[0;34m(self, command_executor, desired_capabilities, browser_profile, proxy, keep_alive, file_detector, options)\u001b[0m\n\u001b[1;32m    <a href='file:///workspaces/DatathonProject/venv/lib/python3.10/site-packages/selenium/webdriver/remote/webdriver.py?line=266'>267</a>\u001b[0m \u001b[39mself\u001b[39m\u001b[39m.\u001b[39mfile_detector \u001b[39m=\u001b[39m file_detector \u001b[39mor\u001b[39;00m LocalFileDetector()\n\u001b[1;32m    <a href='file:///workspaces/DatathonProject/venv/lib/python3.10/site-packages/selenium/webdriver/remote/webdriver.py?line=267'>268</a>\u001b[0m \u001b[39mself\u001b[39m\u001b[39m.\u001b[39mstart_client()\n\u001b[0;32m--> <a href='file:///workspaces/DatathonProject/venv/lib/python3.10/site-packages/selenium/webdriver/remote/webdriver.py?line=268'>269</a>\u001b[0m \u001b[39mself\u001b[39;49m\u001b[39m.\u001b[39;49mstart_session(capabilities, browser_profile)\n",
      "File \u001b[0;32m/workspaces/DatathonProject/venv/lib/python3.10/site-packages/selenium/webdriver/remote/webdriver.py:360\u001b[0m, in \u001b[0;36mWebDriver.start_session\u001b[0;34m(self, capabilities, browser_profile)\u001b[0m\n\u001b[1;32m    <a href='file:///workspaces/DatathonProject/venv/lib/python3.10/site-packages/selenium/webdriver/remote/webdriver.py?line=356'>357</a>\u001b[0m w3c_caps \u001b[39m=\u001b[39m _make_w3c_caps(capabilities)\n\u001b[1;32m    <a href='file:///workspaces/DatathonProject/venv/lib/python3.10/site-packages/selenium/webdriver/remote/webdriver.py?line=357'>358</a>\u001b[0m parameters \u001b[39m=\u001b[39m {\u001b[39m\"\u001b[39m\u001b[39mcapabilities\u001b[39m\u001b[39m\"\u001b[39m: w3c_caps,\n\u001b[1;32m    <a href='file:///workspaces/DatathonProject/venv/lib/python3.10/site-packages/selenium/webdriver/remote/webdriver.py?line=358'>359</a>\u001b[0m               \u001b[39m\"\u001b[39m\u001b[39mdesiredCapabilities\u001b[39m\u001b[39m\"\u001b[39m: capabilities}\n\u001b[0;32m--> <a href='file:///workspaces/DatathonProject/venv/lib/python3.10/site-packages/selenium/webdriver/remote/webdriver.py?line=359'>360</a>\u001b[0m response \u001b[39m=\u001b[39m \u001b[39mself\u001b[39;49m\u001b[39m.\u001b[39;49mexecute(Command\u001b[39m.\u001b[39;49mNEW_SESSION, parameters)\n\u001b[1;32m    <a href='file:///workspaces/DatathonProject/venv/lib/python3.10/site-packages/selenium/webdriver/remote/webdriver.py?line=360'>361</a>\u001b[0m \u001b[39mif\u001b[39;00m \u001b[39m'\u001b[39m\u001b[39msessionId\u001b[39m\u001b[39m'\u001b[39m \u001b[39mnot\u001b[39;00m \u001b[39min\u001b[39;00m response:\n\u001b[1;32m    <a href='file:///workspaces/DatathonProject/venv/lib/python3.10/site-packages/selenium/webdriver/remote/webdriver.py?line=361'>362</a>\u001b[0m     response \u001b[39m=\u001b[39m response[\u001b[39m'\u001b[39m\u001b[39mvalue\u001b[39m\u001b[39m'\u001b[39m]\n",
      "File \u001b[0;32m/workspaces/DatathonProject/venv/lib/python3.10/site-packages/selenium/webdriver/remote/webdriver.py:425\u001b[0m, in \u001b[0;36mWebDriver.execute\u001b[0;34m(self, driver_command, params)\u001b[0m\n\u001b[1;32m    <a href='file:///workspaces/DatathonProject/venv/lib/python3.10/site-packages/selenium/webdriver/remote/webdriver.py?line=422'>423</a>\u001b[0m response \u001b[39m=\u001b[39m \u001b[39mself\u001b[39m\u001b[39m.\u001b[39mcommand_executor\u001b[39m.\u001b[39mexecute(driver_command, params)\n\u001b[1;32m    <a href='file:///workspaces/DatathonProject/venv/lib/python3.10/site-packages/selenium/webdriver/remote/webdriver.py?line=423'>424</a>\u001b[0m \u001b[39mif\u001b[39;00m response:\n\u001b[0;32m--> <a href='file:///workspaces/DatathonProject/venv/lib/python3.10/site-packages/selenium/webdriver/remote/webdriver.py?line=424'>425</a>\u001b[0m     \u001b[39mself\u001b[39;49m\u001b[39m.\u001b[39;49merror_handler\u001b[39m.\u001b[39;49mcheck_response(response)\n\u001b[1;32m    <a href='file:///workspaces/DatathonProject/venv/lib/python3.10/site-packages/selenium/webdriver/remote/webdriver.py?line=425'>426</a>\u001b[0m     response[\u001b[39m'\u001b[39m\u001b[39mvalue\u001b[39m\u001b[39m'\u001b[39m] \u001b[39m=\u001b[39m \u001b[39mself\u001b[39m\u001b[39m.\u001b[39m_unwrap_value(\n\u001b[1;32m    <a href='file:///workspaces/DatathonProject/venv/lib/python3.10/site-packages/selenium/webdriver/remote/webdriver.py?line=426'>427</a>\u001b[0m         response\u001b[39m.\u001b[39mget(\u001b[39m'\u001b[39m\u001b[39mvalue\u001b[39m\u001b[39m'\u001b[39m, \u001b[39mNone\u001b[39;00m))\n\u001b[1;32m    <a href='file:///workspaces/DatathonProject/venv/lib/python3.10/site-packages/selenium/webdriver/remote/webdriver.py?line=427'>428</a>\u001b[0m     \u001b[39mreturn\u001b[39;00m response\n",
      "File \u001b[0;32m/workspaces/DatathonProject/venv/lib/python3.10/site-packages/selenium/webdriver/remote/errorhandler.py:247\u001b[0m, in \u001b[0;36mErrorHandler.check_response\u001b[0;34m(self, response)\u001b[0m\n\u001b[1;32m    <a href='file:///workspaces/DatathonProject/venv/lib/python3.10/site-packages/selenium/webdriver/remote/errorhandler.py?line=244'>245</a>\u001b[0m         alert_text \u001b[39m=\u001b[39m value[\u001b[39m'\u001b[39m\u001b[39malert\u001b[39m\u001b[39m'\u001b[39m]\u001b[39m.\u001b[39mget(\u001b[39m'\u001b[39m\u001b[39mtext\u001b[39m\u001b[39m'\u001b[39m)\n\u001b[1;32m    <a href='file:///workspaces/DatathonProject/venv/lib/python3.10/site-packages/selenium/webdriver/remote/errorhandler.py?line=245'>246</a>\u001b[0m     \u001b[39mraise\u001b[39;00m exception_class(message, screen, stacktrace, alert_text)  \u001b[39m# type: ignore[call-arg]  # mypy is not smart enough here\u001b[39;00m\n\u001b[0;32m--> <a href='file:///workspaces/DatathonProject/venv/lib/python3.10/site-packages/selenium/webdriver/remote/errorhandler.py?line=246'>247</a>\u001b[0m \u001b[39mraise\u001b[39;00m exception_class(message, screen, stacktrace)\n",
      "\u001b[0;31mWebDriverException\u001b[0m: Message: unknown error: Chrome failed to start: exited abnormally.\n  (unknown error: DevToolsActivePort file doesn't exist)\n  (The process started from chrome location /usr/bin/chromium is no longer running, so ChromeDriver is assuming that Chrome has crashed.)\nStacktrace:\n#0 0x5590dbfadad3 <unknown>\n#1 0x5590dbd0d568 <unknown>\n#2 0x5590dbd30b37 <unknown>\n#3 0x5590dbd2c23a <unknown>\n#4 0x5590dbd672ba <unknown>\n#5 0x5590dbd614e3 <unknown>\n#6 0x5590dbd36d1a <unknown>\n#7 0x5590dbd37e75 <unknown>\n#8 0x5590dbfdbefd <unknown>\n#9 0x5590dbff519b <unknown>\n#10 0x5590dbfddc65 <unknown>\n#11 0x5590dbff5ec8 <unknown>\n#12 0x5590dbfd1360 <unknown>\n#13 0x5590dc011a68 <unknown>\n#14 0x5590dc011be8 <unknown>\n#15 0x5590dc02b7fd <unknown>\n#16 0x7fdcc2d1bea7 <unknown>\n"
     ]
    }
   ],
   "source": [
    "print(\"Starting Webscrapping!\")\n",
    "\n",
    "for position, element in enumerate(df[\"name\"].iloc[:10].tolist()):\n",
    "    urlScrapped = ScrapFunction(element,urlToScrap,webdriverUsed=webdriverToUse)\n",
    "    df.loc[df.index[position], 'url'] = urlScrapped"
   ]
  },
  {
   "cell_type": "code",
   "execution_count": 16,
   "metadata": {},
   "outputs": [
    {
     "data": {
      "text/html": [
       "<div>\n",
       "<style scoped>\n",
       "    .dataframe tbody tr th:only-of-type {\n",
       "        vertical-align: middle;\n",
       "    }\n",
       "\n",
       "    .dataframe tbody tr th {\n",
       "        vertical-align: top;\n",
       "    }\n",
       "\n",
       "    .dataframe thead th {\n",
       "        text-align: right;\n",
       "    }\n",
       "</style>\n",
       "<table border=\"1\" class=\"dataframe\">\n",
       "  <thead>\n",
       "    <tr style=\"text-align: right;\">\n",
       "      <th></th>\n",
       "      <th>id</th>\n",
       "      <th>product_id</th>\n",
       "      <th>name</th>\n",
       "      <th>url</th>\n",
       "    </tr>\n",
       "  </thead>\n",
       "  <tbody>\n",
       "    <tr>\n",
       "      <th>0</th>\n",
       "      <td>0</td>\n",
       "      <td>5645</td>\n",
       "      <td>Weleda Hombre Crema Hidratante</td>\n",
       "      <td>https://weledaint-prod.global.ssl.fastly.net/b...</td>\n",
       "    </tr>\n",
       "    <tr>\n",
       "      <th>1</th>\n",
       "      <td>1</td>\n",
       "      <td>28743</td>\n",
       "      <td>Gynea Gestagyn Men</td>\n",
       "      <td>https://www.gynea.com/wp-content/uploads/2018/...</td>\n",
       "    </tr>\n",
       "    <tr>\n",
       "      <th>2</th>\n",
       "      <td>2</td>\n",
       "      <td>68986</td>\n",
       "      <td>Endocare Tensage Ampollas</td>\n",
       "      <td>https://www.cantabrialabs.es/wp-content/upload...</td>\n",
       "    </tr>\n",
       "    <tr>\n",
       "      <th>3</th>\n",
       "      <td>3</td>\n",
       "      <td>9692</td>\n",
       "      <td>Lacer Colutorio Fluor+Xilitol  Sabor Fresa</td>\n",
       "      <td>https://statics.promofarma.com/static/promofar...</td>\n",
       "    </tr>\n",
       "    <tr>\n",
       "      <th>4</th>\n",
       "      <td>4</td>\n",
       "      <td>81921</td>\n",
       "      <td>Age Protect Sérum Intensivo Multiacción Uriage</td>\n",
       "      <td>https://cdns3-2.primor.eu/62309-thickbox/age-p...</td>\n",
       "    </tr>\n",
       "  </tbody>\n",
       "</table>\n",
       "</div>"
      ],
      "text/plain": [
       "   id  product_id                                            name  \\\n",
       "0   0        5645                  Weleda Hombre Crema Hidratante   \n",
       "1   1       28743                              Gynea Gestagyn Men   \n",
       "2   2       68986                       Endocare Tensage Ampollas   \n",
       "3   3        9692      Lacer Colutorio Fluor+Xilitol  Sabor Fresa   \n",
       "4   4       81921  Age Protect Sérum Intensivo Multiacción Uriage   \n",
       "\n",
       "                                                 url  \n",
       "0  https://weledaint-prod.global.ssl.fastly.net/b...  \n",
       "1  https://www.gynea.com/wp-content/uploads/2018/...  \n",
       "2  https://www.cantabrialabs.es/wp-content/upload...  \n",
       "3  https://statics.promofarma.com/static/promofar...  \n",
       "4  https://cdns3-2.primor.eu/62309-thickbox/age-p...  "
      ]
     },
     "execution_count": 16,
     "metadata": {},
     "output_type": "execute_result"
    }
   ],
   "source": [
    "df.head()"
   ]
  },
  {
   "cell_type": "code",
   "execution_count": 17,
   "metadata": {},
   "outputs": [],
   "source": [
    "df.to_csv(\"Test1.csv\")"
   ]
  }
 ],
 "metadata": {
  "interpreter": {
   "hash": "bf572a60f2270a32a2287ee5441c31c3f27de4f092d16eee7937505d14960a51"
  },
  "kernelspec": {
   "display_name": "Python 3.10.4 ('venv': venv)",
   "language": "python",
   "name": "python3"
  },
  "language_info": {
   "codemirror_mode": {
    "name": "ipython",
    "version": 3
   },
   "file_extension": ".py",
   "mimetype": "text/x-python",
   "name": "python",
   "nbconvert_exporter": "python",
   "pygments_lexer": "ipython3",
   "version": "3.10.4"
  },
  "orig_nbformat": 4
 },
 "nbformat": 4,
 "nbformat_minor": 2
}
