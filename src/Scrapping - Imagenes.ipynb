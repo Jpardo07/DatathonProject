{
 "cells": [
  {
   "cell_type": "markdown",
   "metadata": {},
   "source": [
    "### Importación de librerías"
   ]
  },
  {
   "cell_type": "code",
   "execution_count": 1,
   "metadata": {},
   "outputs": [],
   "source": [
    "from selenium import webdriver # Webscrapping bot\n",
    "from selenium.webdriver.common.by import By\n",
    "from selenium.webdriver.common.keys import Keys\n",
    "from selenium.common.exceptions import NoSuchElementException\n",
    "from selenium.webdriver.chrome.options import Options\n",
    "\n",
    "from selenium.webdriver.common.by import By"
   ]
  },
  {
   "cell_type": "code",
   "execution_count": 2,
   "metadata": {},
   "outputs": [],
   "source": [
    "import logging # Para generar logs\n",
    "from logging.handlers import TimedRotatingFileHandler\n",
    "from logging import Formatter\n",
    "\n",
    "import datetime\n",
    "import os\n",
    "import time"
   ]
  },
  {
   "cell_type": "code",
   "execution_count": 3,
   "metadata": {},
   "outputs": [],
   "source": [
    "import pandas as pd #Manejo de dataframes\n",
    "import yaml\n",
    "import dropbox"
   ]
  },
  {
   "cell_type": "markdown",
   "metadata": {},
   "source": [
    "### Variables a modificar para adaptar el código"
   ]
  },
  {
   "cell_type": "code",
   "execution_count": 4,
   "metadata": {},
   "outputs": [],
   "source": [
    "urlToScrap = \"https://worldpostalcode.com/lookup\"\n",
    "deleteOldLogs = True\n",
    "\n",
    "pathToDF = \"../Outputs/\"\n",
    "fileToDF = \"ProdsToScrap.csv\"\n",
    "\n",
    "dropboxDir = '/test/'\n",
    "localDir = 'data/'"
   ]
  },
  {
   "cell_type": "markdown",
   "metadata": {},
   "source": [
    "### Importación de credenciales de API"
   ]
  },
  {
   "cell_type": "code",
   "execution_count": 5,
   "metadata": {},
   "outputs": [
    {
     "name": "stdout",
     "output_type": "stream",
     "text": [
      "Credenciales cargadas\n"
     ]
    }
   ],
   "source": [
    "try:\n",
    "    conf = yaml.safe_load(open('config.yml', \"r\"))\n",
    "    if conf:\n",
    "        print(\"Credenciales cargadas\")\n",
    "except FileNotFoundError:\n",
    "    raise Exception(\"Configuración no encontrada, ¿es correcta la ruta?\")"
   ]
  },
  {
   "cell_type": "code",
   "execution_count": 6,
   "metadata": {},
   "outputs": [
    {
     "name": "stdout",
     "output_type": "stream",
     "text": [
      "Credenciales guardadas\n"
     ]
    }
   ],
   "source": [
    "accessToken = conf[\"dropbox\"][\"accessToken\"]\n",
    "\n",
    "print(\"Credenciales guardadas\")"
   ]
  },
  {
   "cell_type": "markdown",
   "metadata": {},
   "source": [
    "### Activación de la API"
   ]
  },
  {
   "cell_type": "code",
   "execution_count": 7,
   "metadata": {},
   "outputs": [],
   "source": [
    "try:\n",
    "    dropboxApi = dropbox.Dropbox(accessToken)\n",
    "except dropbox.auth.AuthError as err:\n",
    "    print(err)"
   ]
  },
  {
   "cell_type": "markdown",
   "metadata": {},
   "source": [
    "### Pequeñas funciones de apoyo"
   ]
  },
  {
   "cell_type": "code",
   "execution_count": 8,
   "metadata": {},
   "outputs": [],
   "source": [
    "# Esta función se ha creado para mejorar comprensión de código en la configuración de logs\n",
    "\n",
    "def UTCFormatter(logFormatter):\n",
    "    '''\n",
    "    Recibe un formatter de logeo\n",
    "    Devuelve el horario a tiempo GMT\n",
    "    '''\n",
    "    logFormatter.converter = time.gmtime\n",
    "    return logFormatter"
   ]
  },
  {
   "cell_type": "code",
   "execution_count": 9,
   "metadata": {},
   "outputs": [],
   "source": [
    "# Esta función permite la subida de un archivo a dropbox\n",
    "\n",
    "def upDropbox():\n",
    "    try:\n",
    "        with open( file_path, 'rb' ) as f:\n",
    "            dbx.files_upload(f=f.read(), path=dest_path, mode=dropbox.files.WriteMode.overwrite, mute=True)\n",
    "            \n",
    "    except Exception as err:\n",
    "        print(\"La carga de {} falló: {}\".format(file, err))"
   ]
  },
  {
   "cell_type": "markdown",
   "metadata": {},
   "source": [
    "### Configuración de logs"
   ]
  },
  {
   "cell_type": "code",
   "execution_count": 10,
   "metadata": {},
   "outputs": [],
   "source": [
    "# Se inicia el proceso de registro de logs a nivel de INFO.\n",
    "logger = logging.getLogger('ScrapLog')\n",
    "logger.setLevel(logging.INFO)\n",
    "\n",
    "# Variables que determinan apartados posteriores\n",
    "timestamp = datetime.datetime.utcnow().strftime('%Y%m%d_%H-%M-%S')\n",
    "filename=f'ScrapImages{timestamp}.log'\n",
    "formatter = logging.Formatter('[%(asctime)s] %(name)s {%(filename)s:%(lineno)d} %(levelname)s - %(message)s')"
   ]
  },
  {
   "cell_type": "code",
   "execution_count": 11,
   "metadata": {},
   "outputs": [],
   "source": [
    "'''\n",
    "Indican como se debe crear el archivo de log\n",
    "Si \"deleteOldLogs\" es True, sólo se conservará el último archivo de log\n",
    "'''\n",
    "\n",
    "if deleteOldLogs ==True:\n",
    "    listFilesinCWD = os.listdir(os.getcwd())\n",
    "    for element in listFilesinCWD:\n",
    "        if element.endswith(\".log\"):\n",
    "            os.remove(os.path.join(os.getcwd(), element))\n",
    "\n",
    "fileHandler = logging.FileHandler(filename=filename)\n",
    "logging.Formatter.converter = time.gmtime\n",
    "\n",
    "fileHandler.setLevel(logging.INFO)\n",
    "fileHandler.setFormatter(UTCFormatter(formatter))\n",
    "logger.addHandler(fileHandler)"
   ]
  },
  {
   "cell_type": "markdown",
   "metadata": {},
   "source": [
    "### Importación de datos"
   ]
  },
  {
   "cell_type": "code",
   "execution_count": 12,
   "metadata": {},
   "outputs": [],
   "source": [
    "df = pd.read_csv(f\"{pathToDF}{fileToDF}\")\n",
    "df.drop(columns=df.columns[0], axis=1, inplace=True)"
   ]
  },
  {
   "cell_type": "code",
   "execution_count": 13,
   "metadata": {},
   "outputs": [
    {
     "name": "stdout",
     "output_type": "stream",
     "text": [
      "(19778, 3)\n"
     ]
    },
    {
     "data": {
      "text/html": [
       "<div>\n",
       "<style scoped>\n",
       "    .dataframe tbody tr th:only-of-type {\n",
       "        vertical-align: middle;\n",
       "    }\n",
       "\n",
       "    .dataframe tbody tr th {\n",
       "        vertical-align: top;\n",
       "    }\n",
       "\n",
       "    .dataframe thead th {\n",
       "        text-align: right;\n",
       "    }\n",
       "</style>\n",
       "<table border=\"1\" class=\"dataframe\">\n",
       "  <thead>\n",
       "    <tr style=\"text-align: right;\">\n",
       "      <th></th>\n",
       "      <th>id</th>\n",
       "      <th>product_id</th>\n",
       "      <th>name</th>\n",
       "    </tr>\n",
       "  </thead>\n",
       "  <tbody>\n",
       "    <tr>\n",
       "      <th>0</th>\n",
       "      <td>0</td>\n",
       "      <td>5645</td>\n",
       "      <td>Weleda Hombre Crema Hidratante</td>\n",
       "    </tr>\n",
       "    <tr>\n",
       "      <th>1</th>\n",
       "      <td>1</td>\n",
       "      <td>28743</td>\n",
       "      <td>Gynea Gestagyn Men</td>\n",
       "    </tr>\n",
       "  </tbody>\n",
       "</table>\n",
       "</div>"
      ],
      "text/plain": [
       "   id  product_id                            name\n",
       "0   0        5645  Weleda Hombre Crema Hidratante\n",
       "1   1       28743              Gynea Gestagyn Men"
      ]
     },
     "execution_count": 13,
     "metadata": {},
     "output_type": "execute_result"
    }
   ],
   "source": [
    "print(df.shape)\n",
    "df.head(2)"
   ]
  },
  {
   "cell_type": "markdown",
   "metadata": {},
   "source": [
    "### Lógica del Scrapping"
   ]
  },
  {
   "cell_type": "code",
   "execution_count": 14,
   "metadata": {},
   "outputs": [],
   "source": [
    "urlToScrap =\"https://images.google.com/\""
   ]
  },
  {
   "cell_type": "code",
   "execution_count": 25,
   "metadata": {},
   "outputs": [
    {
     "name": "stdout",
     "output_type": "stream",
     "text": [
      "https://images.google.com/\n",
      "https://www.google.com/search?q=ejemplo&tbm=isch&source=hp&biw=&bih=&ei=AY1QYszsMM34aMuws5AK&iflsig=AHkkrS4AAAAAYlCbEcS1Pugzs8QWOZz5Cjl8pfnxA25c\n"
     ]
    }
   ],
   "source": [
    "logger.info(\"Starting Webscrapping!\")\n",
    "\n",
    "opts = Options()\n",
    "opts.add_argument(\"--headless\")\n",
    "opts.add_argument(\"--no-sandbox\")\n",
    "opts.add_argument(\"−−incognito\")\n",
    "driver = webdriver.Chrome(options=opts)\n",
    "\n",
    "\n",
    "driver.get(urlToScrap)\n",
    "driver.set_page_load_timeout(5)\n",
    "\n",
    "acceptCookie = driver.find_element(By.XPATH, \"/html/body/div[2]/div[2]/div[3]/span/div/div/div/div[3]/button[2]/div\")\n",
    "acceptCookie.click()\n",
    "\n",
    "driver.set_page_load_timeout(5)\n",
    "print(driver.current_url)\n",
    "\n",
    "selectImageBox = driver.find_element(By.XPATH, \"/html/body/div[1]/div[3]/form/div[1]/div[1]/div[1]/div/div[2]/input\")\n",
    "selectImageBox.send_keys(\"ejemplo\")\n",
    "selectImageBox.send_keys(Keys.ENTER)\n",
    "\n",
    "driver.set_page_load_timeout(5)\n",
    "print(driver.current_url)\n",
    "\n",
    "selectImage = driver.find_element(By.XPATH, \"/html/body/div[2]/c-wiz/div[4]/div[1]/div/div/div/div[1]/div[1]/span/div[1]/div[1]/div[1]/a[1]/div[1]/img\")\n",
    "\n",
    "\n"
   ]
  },
  {
   "cell_type": "code",
   "execution_count": 26,
   "metadata": {},
   "outputs": [
    {
     "ename": "AttributeError",
     "evalue": "'WebElement' object has no attribute 'image'",
     "output_type": "error",
     "traceback": [
      "\u001b[0;31m---------------------------------------------------------------------------\u001b[0m",
      "\u001b[0;31mAttributeError\u001b[0m                            Traceback (most recent call last)",
      "\u001b[1;32m/workspaces/DatathonProject/src/Scrapping - Imagenes.ipynb Cell 24'\u001b[0m in \u001b[0;36m<cell line: 1>\u001b[0;34m()\u001b[0m\n\u001b[0;32m----> <a href='vscode-notebook-cell://attached-container%2B7b22636f6e7461696e65724e616d65223a222f616666656374696f6e6174655f77696c627572227d/workspaces/DatathonProject/src/Scrapping%20-%20Imagenes.ipynb#ch0000023vscode-remote?line=0'>1</a>\u001b[0m selectImage\u001b[39m.\u001b[39;49mimage\n",
      "\u001b[0;31mAttributeError\u001b[0m: 'WebElement' object has no attribute 'image'"
     ]
    }
   ],
   "source": [
    "selectImage.image"
   ]
  },
  {
   "cell_type": "code",
   "execution_count": 20,
   "metadata": {},
   "outputs": [
    {
     "data": {
      "text/plain": [
       "'data:image/png;base64,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'"
      ]
     },
     "execution_count": 20,
     "metadata": {},
     "output_type": "execute_result"
    }
   ],
   "source": [
    "selectImage.get_attribute(\"src\")"
   ]
  },
  {
   "cell_type": "code",
   "execution_count": null,
   "metadata": {},
   "outputs": [],
   "source": []
  }
 ],
 "metadata": {
  "interpreter": {
   "hash": "bf572a60f2270a32a2287ee5441c31c3f27de4f092d16eee7937505d14960a51"
  },
  "kernelspec": {
   "display_name": "Python 3.10.4 ('venv': venv)",
   "language": "python",
   "name": "python3"
  },
  "language_info": {
   "codemirror_mode": {
    "name": "ipython",
    "version": 3
   },
   "file_extension": ".py",
   "mimetype": "text/x-python",
   "name": "python",
   "nbconvert_exporter": "python",
   "pygments_lexer": "ipython3",
   "version": "3.10.4"
  },
  "orig_nbformat": 4
 },
 "nbformat": 4,
 "nbformat_minor": 2
}
