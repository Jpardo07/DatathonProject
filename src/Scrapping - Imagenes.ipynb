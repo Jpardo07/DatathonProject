{
 "cells": [
  {
   "cell_type": "markdown",
   "metadata": {},
   "source": [
    "### Importación de librerías"
   ]
  },
  {
   "cell_type": "code",
   "execution_count": 1,
   "metadata": {},
   "outputs": [],
   "source": [
    "from selenium import webdriver # Webscrapping bot\n",
    "from selenium.webdriver.common.by import By\n",
    "from selenium.webdriver.common.keys import Keys\n",
    "from selenium.common.exceptions import NoSuchElementException\n",
    "from selenium.webdriver.firefox.options import Options"
   ]
  },
  {
   "cell_type": "code",
   "execution_count": 26,
   "metadata": {},
   "outputs": [],
   "source": [
    "import logging # Para generar logs\n",
    "from logging.handlers import TimedRotatingFileHandler\n",
    "from logging import Formatter\n",
    "\n",
    "import datetime\n",
    "import os\n",
    "import time"
   ]
  },
  {
   "cell_type": "code",
   "execution_count": 35,
   "metadata": {},
   "outputs": [],
   "source": [
    "import pandas as pd #Manejo de dataframes"
   ]
  },
  {
   "cell_type": "markdown",
   "metadata": {},
   "source": [
    "### Variables a modificar para adaptar el código"
   ]
  },
  {
   "cell_type": "code",
   "execution_count": 11,
   "metadata": {},
   "outputs": [],
   "source": [
    "urlToScrap = \"https://worldpostalcode.com/lookup\"\n",
    "deleteOldLogs = True\n"
   ]
  },
  {
   "cell_type": "markdown",
   "metadata": {},
   "source": [
    "### Pequeñas funciones de apoyo"
   ]
  },
  {
   "cell_type": "code",
   "execution_count": 28,
   "metadata": {},
   "outputs": [],
   "source": [
    "# Esta función se ha creado para mejorar comprensión de código en la configuración de logs\n",
    "\n",
    "def UTCFormatter(logFormatter):\n",
    "    '''\n",
    "    Recibe un formatter de logeo\n",
    "    Devuelve el horario a tiempo GMT\n",
    "    '''\n",
    "    logFormatter.converter = time.gmtime\n",
    "    return logFormatter"
   ]
  },
  {
   "cell_type": "markdown",
   "metadata": {},
   "source": [
    "### Configuración de logs"
   ]
  },
  {
   "cell_type": "code",
   "execution_count": 33,
   "metadata": {},
   "outputs": [],
   "source": [
    "# Se inicia el proceso de registro de logs a nivel de INFO.\n",
    "logger = logging.getLogger('ScrapLog')\n",
    "logger.setLevel(logging.INFO)\n",
    "\n",
    "# Variables que determinan apartados posteriores\n",
    "timestamp = datetime.datetime.utcnow().strftime('%Y%m%d_%H-%M-%S')\n",
    "filename=f'ScrapImages{timestamp}.log'\n",
    "formatter = logging.Formatter('[%(asctime)s] %(name)s {%(filename)s:%(lineno)d} %(levelname)s - %(message)s')"
   ]
  },
  {
   "cell_type": "code",
   "execution_count": 34,
   "metadata": {},
   "outputs": [],
   "source": [
    "'''\n",
    "Indican como se debe crear el archivo de log\n",
    "Si \"deleteOldLogs\" es True, sólo se conservará el último archivo de log\n",
    "'''\n",
    "\n",
    "if deleteOldLogs ==True:\n",
    "    listFilesinCWD = os.listdir(os.getcwd())\n",
    "    for element in listFilesinCWD:\n",
    "        if element.endswith(\".log\"):\n",
    "            os.remove(os.path.join(os.getcwd(), element))\n",
    "\n",
    "fileHandler = logging.FileHandler(filename=filename)\n",
    "logging.Formatter.converter = time.gmtime\n",
    "\n",
    "fileHandler.setLevel(logging.INFO)\n",
    "fileHandler.setFormatter(UTCFormatter(formatter))\n",
    "logger.addHandler(fileHandler)"
   ]
  },
  {
   "cell_type": "markdown",
   "metadata": {},
   "source": [
    "### Importación de datos"
   ]
  },
  {
   "cell_type": "code",
   "execution_count": null,
   "metadata": {},
   "outputs": [],
   "source": []
  },
  {
   "cell_type": "markdown",
   "metadata": {},
   "source": [
    "### Lógica del Scrapping"
   ]
  },
  {
   "cell_type": "code",
   "execution_count": null,
   "metadata": {},
   "outputs": [],
   "source": []
  }
 ],
 "metadata": {
  "interpreter": {
   "hash": "bf572a60f2270a32a2287ee5441c31c3f27de4f092d16eee7937505d14960a51"
  },
  "kernelspec": {
   "display_name": "Python 3.10.4 ('venv': venv)",
   "language": "python",
   "name": "python3"
  },
  "language_info": {
   "codemirror_mode": {
    "name": "ipython",
    "version": 3
   },
   "file_extension": ".py",
   "mimetype": "text/x-python",
   "name": "python",
   "nbconvert_exporter": "python",
   "pygments_lexer": "ipython3",
   "version": "3.10.4"
  },
  "orig_nbformat": 4
 },
 "nbformat": 4,
 "nbformat_minor": 2
}
