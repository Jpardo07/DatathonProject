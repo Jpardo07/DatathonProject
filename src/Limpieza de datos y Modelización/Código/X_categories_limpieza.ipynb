{
 "cells": [
  {
   "cell_type": "code",
   "execution_count": 1,
   "id": "2afb646a",
   "metadata": {},
   "outputs": [],
   "source": [
    "import pandas as pd\n",
    "import numpy as np\n",
    "import re"
   ]
  },
  {
   "cell_type": "code",
   "execution_count": 2,
   "id": "779b6fef",
   "metadata": {},
   "outputs": [],
   "source": [
    "df_categories = pd.read_csv(\"products_categories.csv\", sep=\",\", encoding='latin-1')"
   ]
  },
  {
   "cell_type": "code",
   "execution_count": 3,
   "id": "8da433db",
   "metadata": {
    "scrolled": true
   },
   "outputs": [
    {
     "data": {
      "text/html": [
       "<div>\n",
       "<style scoped>\n",
       "    .dataframe tbody tr th:only-of-type {\n",
       "        vertical-align: middle;\n",
       "    }\n",
       "\n",
       "    .dataframe tbody tr th {\n",
       "        vertical-align: top;\n",
       "    }\n",
       "\n",
       "    .dataframe thead th {\n",
       "        text-align: right;\n",
       "    }\n",
       "</style>\n",
       "<table border=\"1\" class=\"dataframe\">\n",
       "  <thead>\n",
       "    <tr style=\"text-align: right;\">\n",
       "      <th></th>\n",
       "      <th>sku</th>\n",
       "      <th>cat1</th>\n",
       "      <th>cat2</th>\n",
       "      <th>cat3</th>\n",
       "    </tr>\n",
       "  </thead>\n",
       "  <tbody>\n",
       "    <tr>\n",
       "      <th>0</th>\n",
       "      <td>00.01.10.014</td>\n",
       "      <td>Cosmética y Belleza</td>\n",
       "      <td>Corporal</td>\n",
       "      <td>Hidratación</td>\n",
       "    </tr>\n",
       "    <tr>\n",
       "      <th>1</th>\n",
       "      <td>00.071697.000.000</td>\n",
       "      <td>Infantil</td>\n",
       "      <td>Juguetes</td>\n",
       "      <td>Mordedores</td>\n",
       "    </tr>\n",
       "    <tr>\n",
       "      <th>2</th>\n",
       "      <td>000133</td>\n",
       "      <td>Infantil</td>\n",
       "      <td>Higiene infantil</td>\n",
       "      <td>Canastillas y kits bebé</td>\n",
       "    </tr>\n",
       "    <tr>\n",
       "      <th>3</th>\n",
       "      <td>000147</td>\n",
       "      <td>Higiene y cuidado personal</td>\n",
       "      <td>Facial</td>\n",
       "      <td>Desmaquillantes y limpiadores</td>\n",
       "    </tr>\n",
       "    <tr>\n",
       "      <th>4</th>\n",
       "      <td>000148</td>\n",
       "      <td>Cosmética y Belleza</td>\n",
       "      <td>Manos</td>\n",
       "      <td>Crema de Manos</td>\n",
       "    </tr>\n",
       "  </tbody>\n",
       "</table>\n",
       "</div>"
      ],
      "text/plain": [
       "                 sku                        cat1              cat2  \\\n",
       "0       00.01.10.014         Cosmética y Belleza          Corporal   \n",
       "1  00.071697.000.000                    Infantil          Juguetes   \n",
       "2             000133                    Infantil  Higiene infantil   \n",
       "3             000147  Higiene y cuidado personal            Facial   \n",
       "4             000148         Cosmética y Belleza             Manos   \n",
       "\n",
       "                            cat3  \n",
       "0                    Hidratación  \n",
       "1                     Mordedores  \n",
       "2        Canastillas y kits bebé  \n",
       "3  Desmaquillantes y limpiadores  \n",
       "4                 Crema de Manos  "
      ]
     },
     "execution_count": 3,
     "metadata": {},
     "output_type": "execute_result"
    }
   ],
   "source": [
    "df_categories.head()"
   ]
  },
  {
   "cell_type": "code",
   "execution_count": 4,
   "id": "64c09338",
   "metadata": {},
   "outputs": [],
   "source": [
    "# df_categories[df_categories[\"cat1\"].isna()]"
   ]
  },
  {
   "cell_type": "code",
   "execution_count": 5,
   "id": "8ae6ea32",
   "metadata": {},
   "outputs": [
    {
     "name": "stdout",
     "output_type": "stream",
     "text": [
      "<class 'pandas.core.frame.DataFrame'>\n",
      "RangeIndex: 11159 entries, 0 to 11158\n",
      "Data columns (total 4 columns):\n",
      " #   Column  Non-Null Count  Dtype \n",
      "---  ------  --------------  ----- \n",
      " 0   sku     11159 non-null  object\n",
      " 1   cat1    10741 non-null  object\n",
      " 2   cat2    10721 non-null  object\n",
      " 3   cat3    10441 non-null  object\n",
      "dtypes: object(4)\n",
      "memory usage: 348.8+ KB\n"
     ]
    }
   ],
   "source": [
    "df_categories.info()"
   ]
  },
  {
   "cell_type": "code",
   "execution_count": 6,
   "id": "f9fa36d3",
   "metadata": {},
   "outputs": [],
   "source": [
    "categories_na = df_categories[df_categories[\"cat1\"].isna()]"
   ]
  },
  {
   "cell_type": "code",
   "execution_count": 8,
   "id": "7d1ce683",
   "metadata": {},
   "outputs": [
    {
     "data": {
      "text/html": [
       "<div>\n",
       "<style scoped>\n",
       "    .dataframe tbody tr th:only-of-type {\n",
       "        vertical-align: middle;\n",
       "    }\n",
       "\n",
       "    .dataframe tbody tr th {\n",
       "        vertical-align: top;\n",
       "    }\n",
       "\n",
       "    .dataframe thead th {\n",
       "        text-align: right;\n",
       "    }\n",
       "</style>\n",
       "<table border=\"1\" class=\"dataframe\">\n",
       "  <thead>\n",
       "    <tr style=\"text-align: right;\">\n",
       "      <th></th>\n",
       "      <th>sku</th>\n",
       "      <th>cat1</th>\n",
       "      <th>cat2</th>\n",
       "      <th>cat3</th>\n",
       "    </tr>\n",
       "  </thead>\n",
       "  <tbody>\n",
       "    <tr>\n",
       "      <th>30</th>\n",
       "      <td>001268,Salud,\"Huesos, articulaciones y músculo...</td>\n",
       "      <td>NaN</td>\n",
       "      <td>NaN</td>\n",
       "      <td>NaN</td>\n",
       "    </tr>\n",
       "    <tr>\n",
       "      <th>44</th>\n",
       "      <td>002655,Salud,Botiquín,\"Apósitos, tiritas y gasas\"</td>\n",
       "      <td>NaN</td>\n",
       "      <td>NaN</td>\n",
       "      <td>NaN</td>\n",
       "    </tr>\n",
       "    <tr>\n",
       "      <th>49</th>\n",
       "      <td>002870,Salud,\"Huesos, articulaciones y músculo...</td>\n",
       "      <td>NaN</td>\n",
       "      <td>NaN</td>\n",
       "      <td>NaN</td>\n",
       "    </tr>\n",
       "    <tr>\n",
       "      <th>50</th>\n",
       "      <td>002872,Salud,\"Huesos, articulaciones y músculo...</td>\n",
       "      <td>NaN</td>\n",
       "      <td>NaN</td>\n",
       "      <td>NaN</td>\n",
       "    </tr>\n",
       "    <tr>\n",
       "      <th>51</th>\n",
       "      <td>002873,Salud,\"Huesos, articulaciones y músculo...</td>\n",
       "      <td>NaN</td>\n",
       "      <td>NaN</td>\n",
       "      <td>NaN</td>\n",
       "    </tr>\n",
       "  </tbody>\n",
       "</table>\n",
       "</div>"
      ],
      "text/plain": [
       "                                                  sku cat1 cat2 cat3\n",
       "30  001268,Salud,\"Huesos, articulaciones y músculo...  NaN  NaN  NaN\n",
       "44  002655,Salud,Botiquín,\"Apósitos, tiritas y gasas\"  NaN  NaN  NaN\n",
       "49  002870,Salud,\"Huesos, articulaciones y músculo...  NaN  NaN  NaN\n",
       "50  002872,Salud,\"Huesos, articulaciones y músculo...  NaN  NaN  NaN\n",
       "51  002873,Salud,\"Huesos, articulaciones y músculo...  NaN  NaN  NaN"
      ]
     },
     "execution_count": 8,
     "metadata": {},
     "output_type": "execute_result"
    }
   ],
   "source": [
    "categories_na.head()"
   ]
  },
  {
   "cell_type": "code",
   "execution_count": 9,
   "id": "9723c11e",
   "metadata": {},
   "outputs": [
    {
     "name": "stdout",
     "output_type": "stream",
     "text": [
      "<class 'pandas.core.frame.DataFrame'>\n",
      "Int64Index: 418 entries, 30 to 11082\n",
      "Data columns (total 4 columns):\n",
      " #   Column  Non-Null Count  Dtype \n",
      "---  ------  --------------  ----- \n",
      " 0   sku     418 non-null    object\n",
      " 1   cat1    0 non-null      object\n",
      " 2   cat2    0 non-null      object\n",
      " 3   cat3    0 non-null      object\n",
      "dtypes: object(4)\n",
      "memory usage: 16.3+ KB\n"
     ]
    }
   ],
   "source": [
    "categories_na.info()"
   ]
  },
  {
   "cell_type": "code",
   "execution_count": 10,
   "id": "d21e93eb",
   "metadata": {},
   "outputs": [],
   "source": [
    "categories_sep = categories_na[\"sku\"].str.split(\",\", expand=True)"
   ]
  },
  {
   "cell_type": "code",
   "execution_count": 11,
   "id": "b329ae5b",
   "metadata": {},
   "outputs": [],
   "source": [
    "categories_sep = categories_sep.rename(columns={0: \"sku\", 1: \"cat1\"})"
   ]
  },
  {
   "cell_type": "code",
   "execution_count": 12,
   "id": "c70ab9fe",
   "metadata": {},
   "outputs": [],
   "source": [
    "categories_sep[\"cat2,3\"] = categories_sep[[2,3,4]].apply(\", \".join, axis=1)"
   ]
  },
  {
   "cell_type": "code",
   "execution_count": 13,
   "id": "72f972cf",
   "metadata": {},
   "outputs": [],
   "source": [
    "categories_sep = categories_sep.drop(labels=[2,3,4], axis=1)"
   ]
  },
  {
   "cell_type": "code",
   "execution_count": 14,
   "id": "c2dac66a",
   "metadata": {},
   "outputs": [
    {
     "data": {
      "text/html": [
       "<div>\n",
       "<style scoped>\n",
       "    .dataframe tbody tr th:only-of-type {\n",
       "        vertical-align: middle;\n",
       "    }\n",
       "\n",
       "    .dataframe tbody tr th {\n",
       "        vertical-align: top;\n",
       "    }\n",
       "\n",
       "    .dataframe thead th {\n",
       "        text-align: right;\n",
       "    }\n",
       "</style>\n",
       "<table border=\"1\" class=\"dataframe\">\n",
       "  <thead>\n",
       "    <tr style=\"text-align: right;\">\n",
       "      <th></th>\n",
       "      <th>sku</th>\n",
       "      <th>cat1</th>\n",
       "      <th>cat2,3</th>\n",
       "    </tr>\n",
       "  </thead>\n",
       "  <tbody>\n",
       "    <tr>\n",
       "      <th>30</th>\n",
       "      <td>001268</td>\n",
       "      <td>Salud</td>\n",
       "      <td>\"Huesos,  articulaciones y músculos\", Colágeno</td>\n",
       "    </tr>\n",
       "    <tr>\n",
       "      <th>44</th>\n",
       "      <td>002655</td>\n",
       "      <td>Salud</td>\n",
       "      <td>Botiquín, \"Apósitos,  tiritas y gasas\"</td>\n",
       "    </tr>\n",
       "    <tr>\n",
       "      <th>49</th>\n",
       "      <td>002870</td>\n",
       "      <td>Salud</td>\n",
       "      <td>\"Huesos,  articulaciones y músculos\", Colágeno</td>\n",
       "    </tr>\n",
       "    <tr>\n",
       "      <th>50</th>\n",
       "      <td>002872</td>\n",
       "      <td>Salud</td>\n",
       "      <td>\"Huesos,  articulaciones y músculos\", Colágeno</td>\n",
       "    </tr>\n",
       "    <tr>\n",
       "      <th>51</th>\n",
       "      <td>002873</td>\n",
       "      <td>Salud</td>\n",
       "      <td>\"Huesos,  articulaciones y músculos\", Colágeno</td>\n",
       "    </tr>\n",
       "  </tbody>\n",
       "</table>\n",
       "</div>"
      ],
      "text/plain": [
       "       sku   cat1                                          cat2,3\n",
       "30  001268  Salud  \"Huesos,  articulaciones y músculos\", Colágeno\n",
       "44  002655  Salud          Botiquín, \"Apósitos,  tiritas y gasas\"\n",
       "49  002870  Salud  \"Huesos,  articulaciones y músculos\", Colágeno\n",
       "50  002872  Salud  \"Huesos,  articulaciones y músculos\", Colágeno\n",
       "51  002873  Salud  \"Huesos,  articulaciones y músculos\", Colágeno"
      ]
     },
     "execution_count": 14,
     "metadata": {},
     "output_type": "execute_result"
    }
   ],
   "source": [
    "categories_sep.head()"
   ]
  },
  {
   "cell_type": "code",
   "execution_count": 15,
   "id": "36d416ad",
   "metadata": {},
   "outputs": [],
   "source": [
    "categories_sep_2_3 = categories_sep[\"cat2,3\"].str.split('\"', expand=True)"
   ]
  },
  {
   "cell_type": "code",
   "execution_count": 16,
   "id": "c5786727",
   "metadata": {},
   "outputs": [],
   "source": [
    "categories_sep_2_3 = categories_sep_2_3.rename(columns={0: \"cat2\", 1: \"cat3\"})"
   ]
  },
  {
   "cell_type": "code",
   "execution_count": 18,
   "id": "fc11f202",
   "metadata": {},
   "outputs": [
    {
     "data": {
      "text/html": [
       "<div>\n",
       "<style scoped>\n",
       "    .dataframe tbody tr th:only-of-type {\n",
       "        vertical-align: middle;\n",
       "    }\n",
       "\n",
       "    .dataframe tbody tr th {\n",
       "        vertical-align: top;\n",
       "    }\n",
       "\n",
       "    .dataframe thead th {\n",
       "        text-align: right;\n",
       "    }\n",
       "</style>\n",
       "<table border=\"1\" class=\"dataframe\">\n",
       "  <thead>\n",
       "    <tr style=\"text-align: right;\">\n",
       "      <th></th>\n",
       "      <th>cat2</th>\n",
       "      <th>cat3</th>\n",
       "      <th>2</th>\n",
       "    </tr>\n",
       "  </thead>\n",
       "  <tbody>\n",
       "    <tr>\n",
       "      <th>30</th>\n",
       "      <td></td>\n",
       "      <td>Huesos,  articulaciones y músculos</td>\n",
       "      <td>, Colágeno</td>\n",
       "    </tr>\n",
       "    <tr>\n",
       "      <th>44</th>\n",
       "      <td>Botiquín,</td>\n",
       "      <td>Apósitos,  tiritas y gasas</td>\n",
       "      <td></td>\n",
       "    </tr>\n",
       "    <tr>\n",
       "      <th>49</th>\n",
       "      <td></td>\n",
       "      <td>Huesos,  articulaciones y músculos</td>\n",
       "      <td>, Colágeno</td>\n",
       "    </tr>\n",
       "    <tr>\n",
       "      <th>50</th>\n",
       "      <td></td>\n",
       "      <td>Huesos,  articulaciones y músculos</td>\n",
       "      <td>, Colágeno</td>\n",
       "    </tr>\n",
       "    <tr>\n",
       "      <th>51</th>\n",
       "      <td></td>\n",
       "      <td>Huesos,  articulaciones y músculos</td>\n",
       "      <td>, Colágeno</td>\n",
       "    </tr>\n",
       "  </tbody>\n",
       "</table>\n",
       "</div>"
      ],
      "text/plain": [
       "          cat2                                cat3           2\n",
       "30              Huesos,  articulaciones y músculos  , Colágeno\n",
       "44  Botiquín,           Apósitos,  tiritas y gasas            \n",
       "49              Huesos,  articulaciones y músculos  , Colágeno\n",
       "50              Huesos,  articulaciones y músculos  , Colágeno\n",
       "51              Huesos,  articulaciones y músculos  , Colágeno"
      ]
     },
     "execution_count": 18,
     "metadata": {},
     "output_type": "execute_result"
    }
   ],
   "source": [
    "categories_sep_2_3.head()"
   ]
  },
  {
   "cell_type": "code",
   "execution_count": 20,
   "id": "fbf6cf25",
   "metadata": {},
   "outputs": [
    {
     "data": {
      "text/html": [
       "<div>\n",
       "<style scoped>\n",
       "    .dataframe tbody tr th:only-of-type {\n",
       "        vertical-align: middle;\n",
       "    }\n",
       "\n",
       "    .dataframe tbody tr th {\n",
       "        vertical-align: top;\n",
       "    }\n",
       "\n",
       "    .dataframe thead th {\n",
       "        text-align: right;\n",
       "    }\n",
       "</style>\n",
       "<table border=\"1\" class=\"dataframe\">\n",
       "  <thead>\n",
       "    <tr style=\"text-align: right;\">\n",
       "      <th></th>\n",
       "      <th>cat2</th>\n",
       "      <th>cat3</th>\n",
       "      <th>2</th>\n",
       "    </tr>\n",
       "  </thead>\n",
       "  <tbody>\n",
       "    <tr>\n",
       "      <th>30</th>\n",
       "      <td></td>\n",
       "      <td>Huesos,  articulaciones y músculos</td>\n",
       "      <td>, Colágeno</td>\n",
       "    </tr>\n",
       "    <tr>\n",
       "      <th>44</th>\n",
       "      <td>Botiquín,</td>\n",
       "      <td>Apósitos,  tiritas y gasas</td>\n",
       "      <td></td>\n",
       "    </tr>\n",
       "    <tr>\n",
       "      <th>49</th>\n",
       "      <td></td>\n",
       "      <td>Huesos,  articulaciones y músculos</td>\n",
       "      <td>, Colágeno</td>\n",
       "    </tr>\n",
       "    <tr>\n",
       "      <th>50</th>\n",
       "      <td></td>\n",
       "      <td>Huesos,  articulaciones y músculos</td>\n",
       "      <td>, Colágeno</td>\n",
       "    </tr>\n",
       "    <tr>\n",
       "      <th>51</th>\n",
       "      <td></td>\n",
       "      <td>Huesos,  articulaciones y músculos</td>\n",
       "      <td>, Colágeno</td>\n",
       "    </tr>\n",
       "  </tbody>\n",
       "</table>\n",
       "</div>"
      ],
      "text/plain": [
       "          cat2                                cat3           2\n",
       "30              Huesos,  articulaciones y músculos  , Colágeno\n",
       "44  Botiquín,           Apósitos,  tiritas y gasas            \n",
       "49              Huesos,  articulaciones y músculos  , Colágeno\n",
       "50              Huesos,  articulaciones y músculos  , Colágeno\n",
       "51              Huesos,  articulaciones y músculos  , Colágeno"
      ]
     },
     "execution_count": 20,
     "metadata": {},
     "output_type": "execute_result"
    }
   ],
   "source": [
    "categories_sep_2_3.head()"
   ]
  },
  {
   "cell_type": "code",
   "execution_count": 21,
   "id": "27cdf855",
   "metadata": {},
   "outputs": [],
   "source": [
    "for pos, na in enumerate(categories_sep_2_3[\"cat2\"]):\n",
    "    if na == \"\":\n",
    "        categories_sep_2_3[\"cat2\"].iloc[pos] = categories_sep_2_3[\"cat3\"].iloc[pos]\n",
    "        categories_sep_2_3[\"cat3\"].iloc[pos] = categories_sep_2_3[2].iloc[pos]\n",
    "\n",
    "categories_sep_2_3.drop(columns=[2], inplace=True)"
   ]
  },
  {
   "cell_type": "code",
   "execution_count": 22,
   "id": "7284e3d3",
   "metadata": {},
   "outputs": [],
   "source": [
    "categories_sep_2_3[\"cat3\"]=categories_sep_2_3[\"cat3\"].str.replace(\"^[,]\\s\", \"\", regex=True)\n",
    "categories_sep_2_3[\"cat2\"]=categories_sep_2_3[\"cat2\"].str.replace(\"[,]\\s$\", \"\", regex=True)"
   ]
  },
  {
   "cell_type": "code",
   "execution_count": 24,
   "id": "833c726e",
   "metadata": {},
   "outputs": [
    {
     "data": {
      "text/html": [
       "<div>\n",
       "<style scoped>\n",
       "    .dataframe tbody tr th:only-of-type {\n",
       "        vertical-align: middle;\n",
       "    }\n",
       "\n",
       "    .dataframe tbody tr th {\n",
       "        vertical-align: top;\n",
       "    }\n",
       "\n",
       "    .dataframe thead th {\n",
       "        text-align: right;\n",
       "    }\n",
       "</style>\n",
       "<table border=\"1\" class=\"dataframe\">\n",
       "  <thead>\n",
       "    <tr style=\"text-align: right;\">\n",
       "      <th></th>\n",
       "      <th>cat2</th>\n",
       "      <th>cat3</th>\n",
       "    </tr>\n",
       "  </thead>\n",
       "  <tbody>\n",
       "    <tr>\n",
       "      <th>30</th>\n",
       "      <td>Huesos,  articulaciones y músculos</td>\n",
       "      <td>Colágeno</td>\n",
       "    </tr>\n",
       "    <tr>\n",
       "      <th>44</th>\n",
       "      <td>Botiquín</td>\n",
       "      <td>Apósitos,  tiritas y gasas</td>\n",
       "    </tr>\n",
       "    <tr>\n",
       "      <th>49</th>\n",
       "      <td>Huesos,  articulaciones y músculos</td>\n",
       "      <td>Colágeno</td>\n",
       "    </tr>\n",
       "    <tr>\n",
       "      <th>50</th>\n",
       "      <td>Huesos,  articulaciones y músculos</td>\n",
       "      <td>Colágeno</td>\n",
       "    </tr>\n",
       "    <tr>\n",
       "      <th>51</th>\n",
       "      <td>Huesos,  articulaciones y músculos</td>\n",
       "      <td>Colágeno</td>\n",
       "    </tr>\n",
       "  </tbody>\n",
       "</table>\n",
       "</div>"
      ],
      "text/plain": [
       "                                  cat2                        cat3\n",
       "30  Huesos,  articulaciones y músculos                    Colágeno\n",
       "44                            Botiquín  Apósitos,  tiritas y gasas\n",
       "49  Huesos,  articulaciones y músculos                    Colágeno\n",
       "50  Huesos,  articulaciones y músculos                    Colágeno\n",
       "51  Huesos,  articulaciones y músculos                    Colágeno"
      ]
     },
     "execution_count": 24,
     "metadata": {},
     "output_type": "execute_result"
    }
   ],
   "source": [
    "categories_sep_2_3.head()"
   ]
  },
  {
   "cell_type": "code",
   "execution_count": 25,
   "id": "5e300709",
   "metadata": {},
   "outputs": [],
   "source": [
    "categories_sep_clean = pd.merge(categories_sep, categories_sep_2_3, left_index=True, right_index=True)\n",
    "categories_sep_clean.drop(columns=\"cat2,3\", inplace=True)"
   ]
  },
  {
   "cell_type": "code",
   "execution_count": 27,
   "id": "9c057192",
   "metadata": {},
   "outputs": [
    {
     "data": {
      "text/html": [
       "<div>\n",
       "<style scoped>\n",
       "    .dataframe tbody tr th:only-of-type {\n",
       "        vertical-align: middle;\n",
       "    }\n",
       "\n",
       "    .dataframe tbody tr th {\n",
       "        vertical-align: top;\n",
       "    }\n",
       "\n",
       "    .dataframe thead th {\n",
       "        text-align: right;\n",
       "    }\n",
       "</style>\n",
       "<table border=\"1\" class=\"dataframe\">\n",
       "  <thead>\n",
       "    <tr style=\"text-align: right;\">\n",
       "      <th></th>\n",
       "      <th>sku</th>\n",
       "      <th>cat1</th>\n",
       "      <th>cat2</th>\n",
       "      <th>cat3</th>\n",
       "    </tr>\n",
       "  </thead>\n",
       "  <tbody>\n",
       "    <tr>\n",
       "      <th>30</th>\n",
       "      <td>001268</td>\n",
       "      <td>Salud</td>\n",
       "      <td>Huesos,  articulaciones y músculos</td>\n",
       "      <td>Colágeno</td>\n",
       "    </tr>\n",
       "    <tr>\n",
       "      <th>44</th>\n",
       "      <td>002655</td>\n",
       "      <td>Salud</td>\n",
       "      <td>Botiquín</td>\n",
       "      <td>Apósitos,  tiritas y gasas</td>\n",
       "    </tr>\n",
       "    <tr>\n",
       "      <th>49</th>\n",
       "      <td>002870</td>\n",
       "      <td>Salud</td>\n",
       "      <td>Huesos,  articulaciones y músculos</td>\n",
       "      <td>Colágeno</td>\n",
       "    </tr>\n",
       "    <tr>\n",
       "      <th>50</th>\n",
       "      <td>002872</td>\n",
       "      <td>Salud</td>\n",
       "      <td>Huesos,  articulaciones y músculos</td>\n",
       "      <td>Colágeno</td>\n",
       "    </tr>\n",
       "    <tr>\n",
       "      <th>51</th>\n",
       "      <td>002873</td>\n",
       "      <td>Salud</td>\n",
       "      <td>Huesos,  articulaciones y músculos</td>\n",
       "      <td>Colágeno</td>\n",
       "    </tr>\n",
       "  </tbody>\n",
       "</table>\n",
       "</div>"
      ],
      "text/plain": [
       "       sku   cat1                                cat2  \\\n",
       "30  001268  Salud  Huesos,  articulaciones y músculos   \n",
       "44  002655  Salud                            Botiquín   \n",
       "49  002870  Salud  Huesos,  articulaciones y músculos   \n",
       "50  002872  Salud  Huesos,  articulaciones y músculos   \n",
       "51  002873  Salud  Huesos,  articulaciones y músculos   \n",
       "\n",
       "                          cat3  \n",
       "30                    Colágeno  \n",
       "44  Apósitos,  tiritas y gasas  \n",
       "49                    Colágeno  \n",
       "50                    Colágeno  \n",
       "51                    Colágeno  "
      ]
     },
     "execution_count": 27,
     "metadata": {},
     "output_type": "execute_result"
    }
   ],
   "source": [
    "categories_sep_clean.head()"
   ]
  },
  {
   "cell_type": "code",
   "execution_count": 28,
   "id": "909a0ccb",
   "metadata": {},
   "outputs": [],
   "source": [
    "df_categories.drop(df_categories[df_categories[\"cat1\"].isna()].index, inplace=True)"
   ]
  },
  {
   "cell_type": "code",
   "execution_count": 29,
   "id": "36498686",
   "metadata": {},
   "outputs": [
    {
     "name": "stdout",
     "output_type": "stream",
     "text": [
      "<class 'pandas.core.frame.DataFrame'>\n",
      "Int64Index: 10741 entries, 0 to 11158\n",
      "Data columns (total 4 columns):\n",
      " #   Column  Non-Null Count  Dtype \n",
      "---  ------  --------------  ----- \n",
      " 0   sku     10741 non-null  object\n",
      " 1   cat1    10741 non-null  object\n",
      " 2   cat2    10721 non-null  object\n",
      " 3   cat3    10441 non-null  object\n",
      "dtypes: object(4)\n",
      "memory usage: 419.6+ KB\n"
     ]
    }
   ],
   "source": [
    "df_categories.info()"
   ]
  },
  {
   "cell_type": "code",
   "execution_count": 30,
   "id": "749f84ef",
   "metadata": {},
   "outputs": [],
   "source": [
    "# for i in df_categories[\"cat1\"]:\n",
    "#     if i is na:\n",
    "#         df_categories[\"cat1\"][i].drop(axis=0, inplace=True)"
   ]
  },
  {
   "cell_type": "code",
   "execution_count": 31,
   "id": "291a7a27",
   "metadata": {},
   "outputs": [
    {
     "data": {
      "text/plain": [
       "0"
      ]
     },
     "execution_count": 31,
     "metadata": {},
     "output_type": "execute_result"
    }
   ],
   "source": [
    "df_categories[\"cat1\"].isna().sum()"
   ]
  },
  {
   "cell_type": "code",
   "execution_count": 32,
   "id": "fc135e53",
   "metadata": {},
   "outputs": [
    {
     "name": "stdout",
     "output_type": "stream",
     "text": [
      "<class 'pandas.core.frame.DataFrame'>\n",
      "Int64Index: 10741 entries, 0 to 11158\n",
      "Data columns (total 4 columns):\n",
      " #   Column  Non-Null Count  Dtype \n",
      "---  ------  --------------  ----- \n",
      " 0   sku     10741 non-null  object\n",
      " 1   cat1    10741 non-null  object\n",
      " 2   cat2    10721 non-null  object\n",
      " 3   cat3    10441 non-null  object\n",
      "dtypes: object(4)\n",
      "memory usage: 419.6+ KB\n"
     ]
    }
   ],
   "source": [
    "df_categories.info()"
   ]
  },
  {
   "cell_type": "code",
   "execution_count": 33,
   "id": "dca134c4",
   "metadata": {},
   "outputs": [],
   "source": [
    "df_categories_limpieza1 = pd.concat([df_categories, categories_sep_clean])"
   ]
  },
  {
   "cell_type": "code",
   "execution_count": 34,
   "id": "14b51ed9",
   "metadata": {},
   "outputs": [],
   "source": [
    "# df_categories_limpieza1 = df_categories.append(categories_sep_clean, ignore_index=True)"
   ]
  },
  {
   "cell_type": "code",
   "execution_count": 35,
   "id": "e4be2930",
   "metadata": {},
   "outputs": [
    {
     "name": "stdout",
     "output_type": "stream",
     "text": [
      "<class 'pandas.core.frame.DataFrame'>\n",
      "Int64Index: 11159 entries, 0 to 11082\n",
      "Data columns (total 4 columns):\n",
      " #   Column  Non-Null Count  Dtype \n",
      "---  ------  --------------  ----- \n",
      " 0   sku     11159 non-null  object\n",
      " 1   cat1    11159 non-null  object\n",
      " 2   cat2    11139 non-null  object\n",
      " 3   cat3    10859 non-null  object\n",
      "dtypes: object(4)\n",
      "memory usage: 435.9+ KB\n"
     ]
    }
   ],
   "source": [
    "df_categories_limpieza1.info()"
   ]
  },
  {
   "cell_type": "code",
   "execution_count": 37,
   "id": "74690c75",
   "metadata": {},
   "outputs": [
    {
     "data": {
      "text/html": [
       "<div>\n",
       "<style scoped>\n",
       "    .dataframe tbody tr th:only-of-type {\n",
       "        vertical-align: middle;\n",
       "    }\n",
       "\n",
       "    .dataframe tbody tr th {\n",
       "        vertical-align: top;\n",
       "    }\n",
       "\n",
       "    .dataframe thead th {\n",
       "        text-align: right;\n",
       "    }\n",
       "</style>\n",
       "<table border=\"1\" class=\"dataframe\">\n",
       "  <thead>\n",
       "    <tr style=\"text-align: right;\">\n",
       "      <th></th>\n",
       "      <th>sku</th>\n",
       "      <th>cat1</th>\n",
       "      <th>cat2</th>\n",
       "      <th>cat3</th>\n",
       "    </tr>\n",
       "  </thead>\n",
       "  <tbody>\n",
       "    <tr>\n",
       "      <th>31</th>\n",
       "      <td>001469</td>\n",
       "      <td>Veterinaria</td>\n",
       "      <td>NaN</td>\n",
       "      <td>NaN</td>\n",
       "    </tr>\n",
       "    <tr>\n",
       "      <th>743</th>\n",
       "      <td>113159=575349</td>\n",
       "      <td>Veterinaria</td>\n",
       "      <td>NaN</td>\n",
       "      <td>NaN</td>\n",
       "    </tr>\n",
       "    <tr>\n",
       "      <th>8172</th>\n",
       "      <td>570052</td>\n",
       "      <td>Veterinaria</td>\n",
       "      <td>NaN</td>\n",
       "      <td>NaN</td>\n",
       "    </tr>\n",
       "    <tr>\n",
       "      <th>8173</th>\n",
       "      <td>570235</td>\n",
       "      <td>Veterinaria</td>\n",
       "      <td>NaN</td>\n",
       "      <td>NaN</td>\n",
       "    </tr>\n",
       "    <tr>\n",
       "      <th>8174</th>\n",
       "      <td>570237</td>\n",
       "      <td>Veterinaria</td>\n",
       "      <td>NaN</td>\n",
       "      <td>NaN</td>\n",
       "    </tr>\n",
       "  </tbody>\n",
       "</table>\n",
       "</div>"
      ],
      "text/plain": [
       "                sku         cat1 cat2 cat3\n",
       "31           001469  Veterinaria  NaN  NaN\n",
       "743   113159=575349  Veterinaria  NaN  NaN\n",
       "8172         570052  Veterinaria  NaN  NaN\n",
       "8173         570235  Veterinaria  NaN  NaN\n",
       "8174         570237  Veterinaria  NaN  NaN"
      ]
     },
     "execution_count": 37,
     "metadata": {},
     "output_type": "execute_result"
    }
   ],
   "source": [
    "df_categories_limpieza1[df_categories_limpieza1[\"cat2\"].isna()].head()"
   ]
  },
  {
   "cell_type": "code",
   "execution_count": 38,
   "id": "9843bd5e",
   "metadata": {},
   "outputs": [],
   "source": [
    "df_categories[\"cat1\"] = df_categories[\"cat1\"].str.lower()\n",
    "df_categories[\"cat2\"] = df_categories[\"cat2\"].str.lower()\n",
    "df_categories[\"cat3\"] = df_categories[\"cat3\"].str.lower()\n"
   ]
  },
  {
   "cell_type": "code",
   "execution_count": 39,
   "id": "4a804d58",
   "metadata": {},
   "outputs": [],
   "source": [
    "df_categories_limpieza1.to_csv(\"categories_limpieza1.csv\")"
   ]
  },
  {
   "cell_type": "code",
   "execution_count": 40,
   "id": "2c4af85d",
   "metadata": {},
   "outputs": [],
   "source": [
    "# categories_na.to_csv(\"categories_na.csv\")"
   ]
  },
  {
   "cell_type": "code",
   "execution_count": 41,
   "id": "1fc5994d",
   "metadata": {},
   "outputs": [],
   "source": [
    "# categories_na_df = pd.read_csv(\"categories_na.csv\", sep=',')"
   ]
  },
  {
   "cell_type": "code",
   "execution_count": 42,
   "id": "259e5e62",
   "metadata": {},
   "outputs": [],
   "source": [
    "# categories_na_df"
   ]
  }
 ],
 "metadata": {
  "kernelspec": {
   "display_name": "Python 3 (ipykernel)",
   "language": "python",
   "name": "python3"
  },
  "language_info": {
   "codemirror_mode": {
    "name": "ipython",
    "version": 3
   },
   "file_extension": ".py",
   "mimetype": "text/x-python",
   "name": "python",
   "nbconvert_exporter": "python",
   "pygments_lexer": "ipython3",
   "version": "3.10.4"
  }
 },
 "nbformat": 4,
 "nbformat_minor": 5
}
