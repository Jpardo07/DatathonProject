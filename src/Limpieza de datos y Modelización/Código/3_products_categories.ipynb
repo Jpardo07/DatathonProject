{
 "cells": [
  {
   "cell_type": "markdown",
   "id": "a4495dfd",
   "metadata": {},
   "source": [
    "### Importación de librerías"
   ]
  },
  {
   "cell_type": "code",
   "execution_count": 1,
   "id": "1fac5234",
   "metadata": {},
   "outputs": [],
   "source": [
    "import pandas as pd\n",
    "import numpy as np\n",
    "import re"
   ]
  },
  {
   "cell_type": "markdown",
   "id": "180f9589",
   "metadata": {},
   "source": [
    "### Inicio de la depuración"
   ]
  },
  {
   "cell_type": "code",
   "execution_count": 3,
   "id": "d002157a",
   "metadata": {},
   "outputs": [],
   "source": [
    "products = pd.read_csv(\"products_limpieza1.csv\")\n",
    "df_categories = pd.read_csv(\"categories_limpieza1.csv\")"
   ]
  },
  {
   "cell_type": "code",
   "execution_count": 4,
   "id": "e0cd356c",
   "metadata": {},
   "outputs": [
    {
     "data": {
      "text/html": [
       "<div>\n",
       "<style scoped>\n",
       "    .dataframe tbody tr th:only-of-type {\n",
       "        vertical-align: middle;\n",
       "    }\n",
       "\n",
       "    .dataframe tbody tr th {\n",
       "        vertical-align: top;\n",
       "    }\n",
       "\n",
       "    .dataframe thead th {\n",
       "        text-align: right;\n",
       "    }\n",
       "</style>\n",
       "<table border=\"1\" class=\"dataframe\">\n",
       "  <thead>\n",
       "    <tr style=\"text-align: right;\">\n",
       "      <th></th>\n",
       "      <th>Unnamed: 0</th>\n",
       "      <th>product_id</th>\n",
       "      <th>sku</th>\n",
       "      <th>name</th>\n",
       "      <th>marca_value</th>\n",
       "      <th>short_description</th>\n",
       "      <th>analytic_category</th>\n",
       "      <th>picture</th>\n",
       "      <th>nombre_corto</th>\n",
       "    </tr>\n",
       "  </thead>\n",
       "  <tbody>\n",
       "    <tr>\n",
       "      <th>0</th>\n",
       "      <td>0</td>\n",
       "      <td>7349</td>\n",
       "      <td>165774</td>\n",
       "      <td>Pañales CHELINO LOVE Talla3 4-10 KG 36unidades</td>\n",
       "      <td>chelino</td>\n",
       "      <td>Los pañales Chelino, que presentan un novedoso...</td>\n",
       "      <td>Infantil</td>\n",
       "      <td>https://www.mifarma.es/media/catalog/product/1...</td>\n",
       "      <td>Pañales Chelino Love Talla3 4-10</td>\n",
       "    </tr>\n",
       "    <tr>\n",
       "      <th>1</th>\n",
       "      <td>1</td>\n",
       "      <td>7347</td>\n",
       "      <td>165776</td>\n",
       "      <td>Pañales CHELINO LOVE Talla5 13-18 KG 30unidades</td>\n",
       "      <td>chelino</td>\n",
       "      <td>Los pañales Chelino que presentan un novedoso ...</td>\n",
       "      <td>Infantil</td>\n",
       "      <td>https://www.mifarma.es/media/catalog/product/1...</td>\n",
       "      <td>Pañales Chelino Love Talla5 13-18</td>\n",
       "    </tr>\n",
       "    <tr>\n",
       "      <th>2</th>\n",
       "      <td>2</td>\n",
       "      <td>50282</td>\n",
       "      <td>230154</td>\n",
       "      <td>Pañales Pingo Maxi T4 40 uds</td>\n",
       "      <td>pingo</td>\n",
       "      <td>Pingo es el primer pañal ecológico con cuatro ...</td>\n",
       "      <td>Infantil</td>\n",
       "      <td>https://www.mifarma.es/media/catalog/product/2...</td>\n",
       "      <td>Pañales Pingo Maxi T4 40</td>\n",
       "    </tr>\n",
       "    <tr>\n",
       "      <th>3</th>\n",
       "      <td>3</td>\n",
       "      <td>7348</td>\n",
       "      <td>165775</td>\n",
       "      <td>Pañales CHELINO LOVE Talla4 9-15 KG 34unidades</td>\n",
       "      <td>chelino</td>\n",
       "      <td>Los pañales Chelino, que presentan un novedoso...</td>\n",
       "      <td>Infantil</td>\n",
       "      <td>https://www.mifarma.es/media/catalog/product/1...</td>\n",
       "      <td>Pañales Chelino Love Talla4 9-15</td>\n",
       "    </tr>\n",
       "    <tr>\n",
       "      <th>4</th>\n",
       "      <td>4</td>\n",
       "      <td>24517</td>\n",
       "      <td>011905</td>\n",
       "      <td>Dodot Pañal T4 9-15Kg 30unds</td>\n",
       "      <td>dodot</td>\n",
       "      <td>¿Qué le pides a un pañal? ¿Absorción máxima, q...</td>\n",
       "      <td>NaN</td>\n",
       "      <td>https://www.mifarma.es/media/catalog/product/0...</td>\n",
       "      <td>Dodot Pañal T4 9-15Kg 30Unds</td>\n",
       "    </tr>\n",
       "  </tbody>\n",
       "</table>\n",
       "</div>"
      ],
      "text/plain": [
       "   Unnamed: 0  product_id     sku  \\\n",
       "0           0        7349  165774   \n",
       "1           1        7347  165776   \n",
       "2           2       50282  230154   \n",
       "3           3        7348  165775   \n",
       "4           4       24517  011905   \n",
       "\n",
       "                                              name marca_value  \\\n",
       "0   Pañales CHELINO LOVE Talla3 4-10 KG 36unidades     chelino   \n",
       "1  Pañales CHELINO LOVE Talla5 13-18 KG 30unidades     chelino   \n",
       "2                     Pañales Pingo Maxi T4 40 uds       pingo   \n",
       "3   Pañales CHELINO LOVE Talla4 9-15 KG 34unidades     chelino   \n",
       "4                     Dodot Pañal T4 9-15Kg 30unds       dodot   \n",
       "\n",
       "                                   short_description analytic_category  \\\n",
       "0  Los pañales Chelino, que presentan un novedoso...          Infantil   \n",
       "1  Los pañales Chelino que presentan un novedoso ...          Infantil   \n",
       "2  Pingo es el primer pañal ecológico con cuatro ...          Infantil   \n",
       "3  Los pañales Chelino, que presentan un novedoso...          Infantil   \n",
       "4  ¿Qué le pides a un pañal? ¿Absorción máxima, q...               NaN   \n",
       "\n",
       "                                             picture  \\\n",
       "0  https://www.mifarma.es/media/catalog/product/1...   \n",
       "1  https://www.mifarma.es/media/catalog/product/1...   \n",
       "2  https://www.mifarma.es/media/catalog/product/2...   \n",
       "3  https://www.mifarma.es/media/catalog/product/1...   \n",
       "4  https://www.mifarma.es/media/catalog/product/0...   \n",
       "\n",
       "                        nombre_corto  \n",
       "0   Pañales Chelino Love Talla3 4-10  \n",
       "1  Pañales Chelino Love Talla5 13-18  \n",
       "2           Pañales Pingo Maxi T4 40  \n",
       "3   Pañales Chelino Love Talla4 9-15  \n",
       "4       Dodot Pañal T4 9-15Kg 30Unds  "
      ]
     },
     "execution_count": 4,
     "metadata": {},
     "output_type": "execute_result"
    }
   ],
   "source": [
    "products.head()"
   ]
  },
  {
   "cell_type": "code",
   "execution_count": 5,
   "id": "82485d87",
   "metadata": {
    "scrolled": true
   },
   "outputs": [
    {
     "data": {
      "text/html": [
       "<div>\n",
       "<style scoped>\n",
       "    .dataframe tbody tr th:only-of-type {\n",
       "        vertical-align: middle;\n",
       "    }\n",
       "\n",
       "    .dataframe tbody tr th {\n",
       "        vertical-align: top;\n",
       "    }\n",
       "\n",
       "    .dataframe thead th {\n",
       "        text-align: right;\n",
       "    }\n",
       "</style>\n",
       "<table border=\"1\" class=\"dataframe\">\n",
       "  <thead>\n",
       "    <tr style=\"text-align: right;\">\n",
       "      <th></th>\n",
       "      <th>Unnamed: 0</th>\n",
       "      <th>sku</th>\n",
       "      <th>cat1</th>\n",
       "      <th>cat2</th>\n",
       "      <th>cat3</th>\n",
       "    </tr>\n",
       "  </thead>\n",
       "  <tbody>\n",
       "    <tr>\n",
       "      <th>0</th>\n",
       "      <td>0</td>\n",
       "      <td>00.01.10.014</td>\n",
       "      <td>Cosmética y Belleza</td>\n",
       "      <td>Corporal</td>\n",
       "      <td>Hidratación</td>\n",
       "    </tr>\n",
       "    <tr>\n",
       "      <th>1</th>\n",
       "      <td>1</td>\n",
       "      <td>00.071697.000.000</td>\n",
       "      <td>Infantil</td>\n",
       "      <td>Juguetes</td>\n",
       "      <td>Mordedores</td>\n",
       "    </tr>\n",
       "    <tr>\n",
       "      <th>2</th>\n",
       "      <td>2</td>\n",
       "      <td>000133</td>\n",
       "      <td>Infantil</td>\n",
       "      <td>Higiene infantil</td>\n",
       "      <td>Canastillas y kits bebé</td>\n",
       "    </tr>\n",
       "    <tr>\n",
       "      <th>3</th>\n",
       "      <td>3</td>\n",
       "      <td>000147</td>\n",
       "      <td>Higiene y cuidado personal</td>\n",
       "      <td>Facial</td>\n",
       "      <td>Desmaquillantes y limpiadores</td>\n",
       "    </tr>\n",
       "    <tr>\n",
       "      <th>4</th>\n",
       "      <td>4</td>\n",
       "      <td>000148</td>\n",
       "      <td>Cosmética y Belleza</td>\n",
       "      <td>Manos</td>\n",
       "      <td>Crema de Manos</td>\n",
       "    </tr>\n",
       "    <tr>\n",
       "      <th>5</th>\n",
       "      <td>5</td>\n",
       "      <td>000200</td>\n",
       "      <td>Higiene y cuidado personal</td>\n",
       "      <td>Facial</td>\n",
       "      <td>Mascarillas</td>\n",
       "    </tr>\n",
       "  </tbody>\n",
       "</table>\n",
       "</div>"
      ],
      "text/plain": [
       "   Unnamed: 0                sku                        cat1  \\\n",
       "0           0       00.01.10.014         Cosmética y Belleza   \n",
       "1           1  00.071697.000.000                    Infantil   \n",
       "2           2             000133                    Infantil   \n",
       "3           3             000147  Higiene y cuidado personal   \n",
       "4           4             000148         Cosmética y Belleza   \n",
       "5           5             000200  Higiene y cuidado personal   \n",
       "\n",
       "               cat2                           cat3  \n",
       "0          Corporal                    Hidratación  \n",
       "1          Juguetes                     Mordedores  \n",
       "2  Higiene infantil        Canastillas y kits bebé  \n",
       "3            Facial  Desmaquillantes y limpiadores  \n",
       "4             Manos                 Crema de Manos  \n",
       "5            Facial                    Mascarillas  "
      ]
     },
     "execution_count": 5,
     "metadata": {},
     "output_type": "execute_result"
    }
   ],
   "source": [
    "df_categories.head(6)"
   ]
  },
  {
   "cell_type": "markdown",
   "id": "4b6cf82e",
   "metadata": {},
   "source": [
    "**Fusión de dataframes**"
   ]
  },
  {
   "cell_type": "code",
   "execution_count": 6,
   "id": "e6797797",
   "metadata": {},
   "outputs": [],
   "source": [
    "products_full = pd.merge(products, df_categories, on='sku', how='left')"
   ]
  },
  {
   "cell_type": "code",
   "execution_count": 8,
   "id": "e732c81d",
   "metadata": {},
   "outputs": [
    {
     "data": {
      "text/html": [
       "<div>\n",
       "<style scoped>\n",
       "    .dataframe tbody tr th:only-of-type {\n",
       "        vertical-align: middle;\n",
       "    }\n",
       "\n",
       "    .dataframe tbody tr th {\n",
       "        vertical-align: top;\n",
       "    }\n",
       "\n",
       "    .dataframe thead th {\n",
       "        text-align: right;\n",
       "    }\n",
       "</style>\n",
       "<table border=\"1\" class=\"dataframe\">\n",
       "  <thead>\n",
       "    <tr style=\"text-align: right;\">\n",
       "      <th></th>\n",
       "      <th>Unnamed: 0_x</th>\n",
       "      <th>product_id</th>\n",
       "      <th>sku</th>\n",
       "      <th>name</th>\n",
       "      <th>marca_value</th>\n",
       "      <th>short_description</th>\n",
       "      <th>analytic_category</th>\n",
       "      <th>picture</th>\n",
       "      <th>nombre_corto</th>\n",
       "      <th>Unnamed: 0_y</th>\n",
       "      <th>cat1</th>\n",
       "      <th>cat2</th>\n",
       "      <th>cat3</th>\n",
       "    </tr>\n",
       "  </thead>\n",
       "  <tbody>\n",
       "    <tr>\n",
       "      <th>0</th>\n",
       "      <td>0</td>\n",
       "      <td>7349</td>\n",
       "      <td>165774</td>\n",
       "      <td>Pañales CHELINO LOVE Talla3 4-10 KG 36unidades</td>\n",
       "      <td>chelino</td>\n",
       "      <td>Los pañales Chelino, que presentan un novedoso...</td>\n",
       "      <td>Infantil</td>\n",
       "      <td>https://www.mifarma.es/media/catalog/product/1...</td>\n",
       "      <td>Pañales Chelino Love Talla3 4-10</td>\n",
       "      <td>2491.0</td>\n",
       "      <td>Infantil</td>\n",
       "      <td>Cambio de pañal</td>\n",
       "      <td>Pañales</td>\n",
       "    </tr>\n",
       "    <tr>\n",
       "      <th>1</th>\n",
       "      <td>1</td>\n",
       "      <td>7347</td>\n",
       "      <td>165776</td>\n",
       "      <td>Pañales CHELINO LOVE Talla5 13-18 KG 30unidades</td>\n",
       "      <td>chelino</td>\n",
       "      <td>Los pañales Chelino que presentan un novedoso ...</td>\n",
       "      <td>Infantil</td>\n",
       "      <td>https://www.mifarma.es/media/catalog/product/1...</td>\n",
       "      <td>Pañales Chelino Love Talla5 13-18</td>\n",
       "      <td>2493.0</td>\n",
       "      <td>Infantil</td>\n",
       "      <td>Cambio de pañal</td>\n",
       "      <td>Pañales</td>\n",
       "    </tr>\n",
       "    <tr>\n",
       "      <th>2</th>\n",
       "      <td>2</td>\n",
       "      <td>50282</td>\n",
       "      <td>230154</td>\n",
       "      <td>Pañales Pingo Maxi T4 40 uds</td>\n",
       "      <td>pingo</td>\n",
       "      <td>Pingo es el primer pañal ecológico con cuatro ...</td>\n",
       "      <td>Infantil</td>\n",
       "      <td>https://www.mifarma.es/media/catalog/product/2...</td>\n",
       "      <td>Pañales Pingo Maxi T4 40</td>\n",
       "      <td>6201.0</td>\n",
       "      <td>Infantil</td>\n",
       "      <td>Cambio de pañal</td>\n",
       "      <td>Pañales</td>\n",
       "    </tr>\n",
       "    <tr>\n",
       "      <th>3</th>\n",
       "      <td>3</td>\n",
       "      <td>7348</td>\n",
       "      <td>165775</td>\n",
       "      <td>Pañales CHELINO LOVE Talla4 9-15 KG 34unidades</td>\n",
       "      <td>chelino</td>\n",
       "      <td>Los pañales Chelino, que presentan un novedoso...</td>\n",
       "      <td>Infantil</td>\n",
       "      <td>https://www.mifarma.es/media/catalog/product/1...</td>\n",
       "      <td>Pañales Chelino Love Talla4 9-15</td>\n",
       "      <td>2492.0</td>\n",
       "      <td>Infantil</td>\n",
       "      <td>Cambio de pañal</td>\n",
       "      <td>Pañales</td>\n",
       "    </tr>\n",
       "    <tr>\n",
       "      <th>4</th>\n",
       "      <td>4</td>\n",
       "      <td>24517</td>\n",
       "      <td>011905</td>\n",
       "      <td>Dodot Pañal T4 9-15Kg 30unds</td>\n",
       "      <td>dodot</td>\n",
       "      <td>¿Qué le pides a un pañal? ¿Absorción máxima, q...</td>\n",
       "      <td>NaN</td>\n",
       "      <td>https://www.mifarma.es/media/catalog/product/0...</td>\n",
       "      <td>Dodot Pañal T4 9-15Kg 30Unds</td>\n",
       "      <td>NaN</td>\n",
       "      <td>NaN</td>\n",
       "      <td>NaN</td>\n",
       "      <td>NaN</td>\n",
       "    </tr>\n",
       "    <tr>\n",
       "      <th>5</th>\n",
       "      <td>5</td>\n",
       "      <td>11938</td>\n",
       "      <td>011896</td>\n",
       "      <td>Dodot Activity T3 De 4 A 10 Kg 56 Unidades</td>\n",
       "      <td>dodot</td>\n",
       "      <td>Pañales que mantienen la piel del culito seca ...</td>\n",
       "      <td>NaN</td>\n",
       "      <td>https://www.mifarma.es/media/catalog/product/0...</td>\n",
       "      <td>Dodot Activity T3 De 4</td>\n",
       "      <td>199.0</td>\n",
       "      <td>Infantil</td>\n",
       "      <td>Cambio de pañal</td>\n",
       "      <td>Pañales</td>\n",
       "    </tr>\n",
       "  </tbody>\n",
       "</table>\n",
       "</div>"
      ],
      "text/plain": [
       "   Unnamed: 0_x  product_id     sku  \\\n",
       "0             0        7349  165774   \n",
       "1             1        7347  165776   \n",
       "2             2       50282  230154   \n",
       "3             3        7348  165775   \n",
       "4             4       24517  011905   \n",
       "5             5       11938  011896   \n",
       "\n",
       "                                              name marca_value  \\\n",
       "0   Pañales CHELINO LOVE Talla3 4-10 KG 36unidades     chelino   \n",
       "1  Pañales CHELINO LOVE Talla5 13-18 KG 30unidades     chelino   \n",
       "2                     Pañales Pingo Maxi T4 40 uds       pingo   \n",
       "3   Pañales CHELINO LOVE Talla4 9-15 KG 34unidades     chelino   \n",
       "4                     Dodot Pañal T4 9-15Kg 30unds       dodot   \n",
       "5       Dodot Activity T3 De 4 A 10 Kg 56 Unidades       dodot   \n",
       "\n",
       "                                   short_description analytic_category  \\\n",
       "0  Los pañales Chelino, que presentan un novedoso...          Infantil   \n",
       "1  Los pañales Chelino que presentan un novedoso ...          Infantil   \n",
       "2  Pingo es el primer pañal ecológico con cuatro ...          Infantil   \n",
       "3  Los pañales Chelino, que presentan un novedoso...          Infantil   \n",
       "4  ¿Qué le pides a un pañal? ¿Absorción máxima, q...               NaN   \n",
       "5  Pañales que mantienen la piel del culito seca ...               NaN   \n",
       "\n",
       "                                             picture  \\\n",
       "0  https://www.mifarma.es/media/catalog/product/1...   \n",
       "1  https://www.mifarma.es/media/catalog/product/1...   \n",
       "2  https://www.mifarma.es/media/catalog/product/2...   \n",
       "3  https://www.mifarma.es/media/catalog/product/1...   \n",
       "4  https://www.mifarma.es/media/catalog/product/0...   \n",
       "5  https://www.mifarma.es/media/catalog/product/0...   \n",
       "\n",
       "                        nombre_corto  Unnamed: 0_y      cat1             cat2  \\\n",
       "0   Pañales Chelino Love Talla3 4-10        2491.0  Infantil  Cambio de pañal   \n",
       "1  Pañales Chelino Love Talla5 13-18        2493.0  Infantil  Cambio de pañal   \n",
       "2           Pañales Pingo Maxi T4 40        6201.0  Infantil  Cambio de pañal   \n",
       "3   Pañales Chelino Love Talla4 9-15        2492.0  Infantil  Cambio de pañal   \n",
       "4       Dodot Pañal T4 9-15Kg 30Unds           NaN       NaN              NaN   \n",
       "5             Dodot Activity T3 De 4         199.0  Infantil  Cambio de pañal   \n",
       "\n",
       "      cat3  \n",
       "0  Pañales  \n",
       "1  Pañales  \n",
       "2  Pañales  \n",
       "3  Pañales  \n",
       "4      NaN  \n",
       "5  Pañales  "
      ]
     },
     "execution_count": 8,
     "metadata": {},
     "output_type": "execute_result"
    }
   ],
   "source": [
    "products_full.head(6)"
   ]
  },
  {
   "cell_type": "code",
   "execution_count": 9,
   "id": "7847928c",
   "metadata": {},
   "outputs": [
    {
     "data": {
      "text/plain": [
       "Cosmética y Belleza           3352\n",
       "Higiene y cuidado personal    2987\n",
       "Salud                         2842\n",
       "Infantil                      1298\n",
       "Nutrición                      615\n",
       "Veterinaria                     20\n",
       "salud                            3\n",
       "nutrición                        1\n",
       "Name: cat1, dtype: int64"
      ]
     },
     "execution_count": 9,
     "metadata": {},
     "output_type": "execute_result"
    }
   ],
   "source": [
    "products_full[\"cat1\"].value_counts()"
   ]
  },
  {
   "cell_type": "code",
   "execution_count": 10,
   "id": "b158aa3c",
   "metadata": {},
   "outputs": [
    {
     "data": {
      "text/plain": [
       "Cosmética y Belleza    6821\n",
       "Higiene                4334\n",
       "Infantil               3857\n",
       "Herbolario             2487\n",
       "Nutrición              1461\n",
       "Ortopedia               496\n",
       "Vida Íntima             259\n",
       "Óptica                  195\n",
       "Perfumeria              145\n",
       "Veterinaria              45\n",
       "Name: analytic_category, dtype: int64"
      ]
     },
     "execution_count": 10,
     "metadata": {},
     "output_type": "execute_result"
    }
   ],
   "source": [
    "products_full[\"analytic_category\"].value_counts()"
   ]
  },
  {
   "cell_type": "code",
   "execution_count": 11,
   "id": "f02fb659",
   "metadata": {},
   "outputs": [],
   "source": [
    "#Para unificar categorias pasamos a lower (minúsculas):\n",
    "products_full[\"analytic_category\"] = products_full[\"analytic_category\"].str.lower()"
   ]
  },
  {
   "cell_type": "code",
   "execution_count": 12,
   "id": "1d28d38c",
   "metadata": {},
   "outputs": [
    {
     "data": {
      "text/plain": [
       "0    infantil\n",
       "1    infantil\n",
       "2    infantil\n",
       "3    infantil\n",
       "4         NaN\n",
       "Name: analytic_category, dtype: object"
      ]
     },
     "execution_count": 12,
     "metadata": {},
     "output_type": "execute_result"
    }
   ],
   "source": [
    "products_full[\"analytic_category\"].head()"
   ]
  },
  {
   "cell_type": "code",
   "execution_count": 13,
   "id": "fb004072",
   "metadata": {},
   "outputs": [
    {
     "data": {
      "text/html": [
       "<div>\n",
       "<style scoped>\n",
       "    .dataframe tbody tr th:only-of-type {\n",
       "        vertical-align: middle;\n",
       "    }\n",
       "\n",
       "    .dataframe tbody tr th {\n",
       "        vertical-align: top;\n",
       "    }\n",
       "\n",
       "    .dataframe thead th {\n",
       "        text-align: right;\n",
       "    }\n",
       "</style>\n",
       "<table border=\"1\" class=\"dataframe\">\n",
       "  <thead>\n",
       "    <tr style=\"text-align: right;\">\n",
       "      <th></th>\n",
       "      <th>Unnamed: 0_x</th>\n",
       "      <th>product_id</th>\n",
       "      <th>sku</th>\n",
       "      <th>name</th>\n",
       "      <th>marca_value</th>\n",
       "      <th>short_description</th>\n",
       "      <th>analytic_category</th>\n",
       "      <th>picture</th>\n",
       "      <th>nombre_corto</th>\n",
       "      <th>Unnamed: 0_y</th>\n",
       "      <th>cat1</th>\n",
       "      <th>cat2</th>\n",
       "      <th>cat3</th>\n",
       "    </tr>\n",
       "  </thead>\n",
       "  <tbody>\n",
       "    <tr>\n",
       "      <th>4</th>\n",
       "      <td>4</td>\n",
       "      <td>24517</td>\n",
       "      <td>011905</td>\n",
       "      <td>Dodot Pañal T4 9-15Kg 30unds</td>\n",
       "      <td>dodot</td>\n",
       "      <td>¿Qué le pides a un pañal? ¿Absorción máxima, q...</td>\n",
       "      <td>NaN</td>\n",
       "      <td>https://www.mifarma.es/media/catalog/product/0...</td>\n",
       "      <td>Dodot Pañal T4 9-15Kg 30Unds</td>\n",
       "      <td>NaN</td>\n",
       "      <td>NaN</td>\n",
       "      <td>NaN</td>\n",
       "      <td>NaN</td>\n",
       "    </tr>\n",
       "    <tr>\n",
       "      <th>5</th>\n",
       "      <td>5</td>\n",
       "      <td>11938</td>\n",
       "      <td>011896</td>\n",
       "      <td>Dodot Activity T3 De 4 A 10 Kg 56 Unidades</td>\n",
       "      <td>dodot</td>\n",
       "      <td>Pañales que mantienen la piel del culito seca ...</td>\n",
       "      <td>NaN</td>\n",
       "      <td>https://www.mifarma.es/media/catalog/product/0...</td>\n",
       "      <td>Dodot Activity T3 De 4</td>\n",
       "      <td>199.0</td>\n",
       "      <td>Infantil</td>\n",
       "      <td>Cambio de pañal</td>\n",
       "      <td>Pañales</td>\n",
       "    </tr>\n",
       "    <tr>\n",
       "      <th>6</th>\n",
       "      <td>6</td>\n",
       "      <td>13109</td>\n",
       "      <td>011894</td>\n",
       "      <td>Dodot Pañal Sensitive T1 2-5Kg 30Unds</td>\n",
       "      <td>dodot</td>\n",
       "      <td>Pañales para recién nacido que evitan la irrit...</td>\n",
       "      <td>NaN</td>\n",
       "      <td>https://www.mifarma.es/media/catalog/product/0...</td>\n",
       "      <td>Dodot Pañal Sensitive T1 2-5Kg</td>\n",
       "      <td>198.0</td>\n",
       "      <td>Infantil</td>\n",
       "      <td>Cambio de pañal</td>\n",
       "      <td>Pañales</td>\n",
       "    </tr>\n",
       "    <tr>\n",
       "      <th>14</th>\n",
       "      <td>14</td>\n",
       "      <td>12051</td>\n",
       "      <td>013687</td>\n",
       "      <td>Dodot Sensitive Pañal Primeras Semanas T/0 Has...</td>\n",
       "      <td>dodot</td>\n",
       "      <td>Pañales Dodot para una máxima absorción de pip...</td>\n",
       "      <td>NaN</td>\n",
       "      <td>https://www.mifarma.es/media/catalog/product/0...</td>\n",
       "      <td>Dodot Sensitive Pañal Primeras Semanas</td>\n",
       "      <td>216.0</td>\n",
       "      <td>Infantil</td>\n",
       "      <td>Cambio de pañal</td>\n",
       "      <td>Pañales</td>\n",
       "    </tr>\n",
       "    <tr>\n",
       "      <th>31</th>\n",
       "      <td>31</td>\n",
       "      <td>13122</td>\n",
       "      <td>011907</td>\n",
       "      <td>Dodot Pañal Pack Semanal T/5 13-18kg 25ud</td>\n",
       "      <td>dodot</td>\n",
       "      <td>Pañales pack semanal\\n</td>\n",
       "      <td>NaN</td>\n",
       "      <td>https://www.mifarma.es/media/catalog/product/0...</td>\n",
       "      <td>Dodot Pañal Pack Semanal T/5</td>\n",
       "      <td>NaN</td>\n",
       "      <td>NaN</td>\n",
       "      <td>NaN</td>\n",
       "      <td>NaN</td>\n",
       "    </tr>\n",
       "  </tbody>\n",
       "</table>\n",
       "</div>"
      ],
      "text/plain": [
       "    Unnamed: 0_x  product_id     sku  \\\n",
       "4              4       24517  011905   \n",
       "5              5       11938  011896   \n",
       "6              6       13109  011894   \n",
       "14            14       12051  013687   \n",
       "31            31       13122  011907   \n",
       "\n",
       "                                                 name marca_value  \\\n",
       "4                        Dodot Pañal T4 9-15Kg 30unds       dodot   \n",
       "5          Dodot Activity T3 De 4 A 10 Kg 56 Unidades       dodot   \n",
       "6               Dodot Pañal Sensitive T1 2-5Kg 30Unds       dodot   \n",
       "14  Dodot Sensitive Pañal Primeras Semanas T/0 Has...       dodot   \n",
       "31          Dodot Pañal Pack Semanal T/5 13-18kg 25ud       dodot   \n",
       "\n",
       "                                    short_description analytic_category  \\\n",
       "4   ¿Qué le pides a un pañal? ¿Absorción máxima, q...               NaN   \n",
       "5   Pañales que mantienen la piel del culito seca ...               NaN   \n",
       "6   Pañales para recién nacido que evitan la irrit...               NaN   \n",
       "14  Pañales Dodot para una máxima absorción de pip...               NaN   \n",
       "31                             Pañales pack semanal\\n               NaN   \n",
       "\n",
       "                                              picture  \\\n",
       "4   https://www.mifarma.es/media/catalog/product/0...   \n",
       "5   https://www.mifarma.es/media/catalog/product/0...   \n",
       "6   https://www.mifarma.es/media/catalog/product/0...   \n",
       "14  https://www.mifarma.es/media/catalog/product/0...   \n",
       "31  https://www.mifarma.es/media/catalog/product/0...   \n",
       "\n",
       "                              nombre_corto  Unnamed: 0_y      cat1  \\\n",
       "4             Dodot Pañal T4 9-15Kg 30Unds           NaN       NaN   \n",
       "5                   Dodot Activity T3 De 4         199.0  Infantil   \n",
       "6           Dodot Pañal Sensitive T1 2-5Kg         198.0  Infantil   \n",
       "14  Dodot Sensitive Pañal Primeras Semanas         216.0  Infantil   \n",
       "31            Dodot Pañal Pack Semanal T/5           NaN       NaN   \n",
       "\n",
       "               cat2     cat3  \n",
       "4               NaN      NaN  \n",
       "5   Cambio de pañal  Pañales  \n",
       "6   Cambio de pañal  Pañales  \n",
       "14  Cambio de pañal  Pañales  \n",
       "31              NaN      NaN  "
      ]
     },
     "execution_count": 13,
     "metadata": {},
     "output_type": "execute_result"
    }
   ],
   "source": [
    "products_full[products_full[\"analytic_category\"].isna()].head()"
   ]
  },
  {
   "cell_type": "code",
   "execution_count": 14,
   "id": "2a2cd410",
   "metadata": {},
   "outputs": [
    {
     "name": "stdout",
     "output_type": "stream",
     "text": [
      "<class 'pandas.core.frame.DataFrame'>\n",
      "Int64Index: 23183 entries, 0 to 23182\n",
      "Data columns (total 13 columns):\n",
      " #   Column             Non-Null Count  Dtype  \n",
      "---  ------             --------------  -----  \n",
      " 0   Unnamed: 0_x       23183 non-null  int64  \n",
      " 1   product_id         23183 non-null  int64  \n",
      " 2   sku                23183 non-null  object \n",
      " 3   name               23183 non-null  object \n",
      " 4   marca_value        23181 non-null  object \n",
      " 5   short_description  23162 non-null  object \n",
      " 6   analytic_category  20100 non-null  object \n",
      " 7   picture            23177 non-null  object \n",
      " 8   nombre_corto       23183 non-null  object \n",
      " 9   Unnamed: 0_y       11118 non-null  float64\n",
      " 10  cat1               11118 non-null  object \n",
      " 11  cat2               11098 non-null  object \n",
      " 12  cat3               10819 non-null  object \n",
      "dtypes: float64(1), int64(2), object(10)\n",
      "memory usage: 2.5+ MB\n"
     ]
    }
   ],
   "source": [
    "products_full.info()"
   ]
  },
  {
   "cell_type": "code",
   "execution_count": 15,
   "id": "c174e5e5",
   "metadata": {},
   "outputs": [],
   "source": [
    "# Por qué esas variables unnamed:0_? Se eliminan..."
   ]
  },
  {
   "cell_type": "code",
   "execution_count": 16,
   "id": "1abfdc23",
   "metadata": {},
   "outputs": [
    {
     "data": {
      "text/html": [
       "<div>\n",
       "<style scoped>\n",
       "    .dataframe tbody tr th:only-of-type {\n",
       "        vertical-align: middle;\n",
       "    }\n",
       "\n",
       "    .dataframe tbody tr th {\n",
       "        vertical-align: top;\n",
       "    }\n",
       "\n",
       "    .dataframe thead th {\n",
       "        text-align: right;\n",
       "    }\n",
       "</style>\n",
       "<table border=\"1\" class=\"dataframe\">\n",
       "  <thead>\n",
       "    <tr style=\"text-align: right;\">\n",
       "      <th></th>\n",
       "      <th>product_id</th>\n",
       "      <th>sku</th>\n",
       "      <th>name</th>\n",
       "      <th>marca_value</th>\n",
       "      <th>short_description</th>\n",
       "      <th>analytic_category</th>\n",
       "      <th>picture</th>\n",
       "      <th>nombre_corto</th>\n",
       "      <th>cat1</th>\n",
       "      <th>cat2</th>\n",
       "      <th>cat3</th>\n",
       "    </tr>\n",
       "  </thead>\n",
       "  <tbody>\n",
       "    <tr>\n",
       "      <th>0</th>\n",
       "      <td>7349</td>\n",
       "      <td>165774</td>\n",
       "      <td>Pañales CHELINO LOVE Talla3 4-10 KG 36unidades</td>\n",
       "      <td>chelino</td>\n",
       "      <td>Los pañales Chelino, que presentan un novedoso...</td>\n",
       "      <td>infantil</td>\n",
       "      <td>https://www.mifarma.es/media/catalog/product/1...</td>\n",
       "      <td>Pañales Chelino Love Talla3 4-10</td>\n",
       "      <td>Infantil</td>\n",
       "      <td>Cambio de pañal</td>\n",
       "      <td>Pañales</td>\n",
       "    </tr>\n",
       "    <tr>\n",
       "      <th>1</th>\n",
       "      <td>7347</td>\n",
       "      <td>165776</td>\n",
       "      <td>Pañales CHELINO LOVE Talla5 13-18 KG 30unidades</td>\n",
       "      <td>chelino</td>\n",
       "      <td>Los pañales Chelino que presentan un novedoso ...</td>\n",
       "      <td>infantil</td>\n",
       "      <td>https://www.mifarma.es/media/catalog/product/1...</td>\n",
       "      <td>Pañales Chelino Love Talla5 13-18</td>\n",
       "      <td>Infantil</td>\n",
       "      <td>Cambio de pañal</td>\n",
       "      <td>Pañales</td>\n",
       "    </tr>\n",
       "    <tr>\n",
       "      <th>2</th>\n",
       "      <td>50282</td>\n",
       "      <td>230154</td>\n",
       "      <td>Pañales Pingo Maxi T4 40 uds</td>\n",
       "      <td>pingo</td>\n",
       "      <td>Pingo es el primer pañal ecológico con cuatro ...</td>\n",
       "      <td>infantil</td>\n",
       "      <td>https://www.mifarma.es/media/catalog/product/2...</td>\n",
       "      <td>Pañales Pingo Maxi T4 40</td>\n",
       "      <td>Infantil</td>\n",
       "      <td>Cambio de pañal</td>\n",
       "      <td>Pañales</td>\n",
       "    </tr>\n",
       "    <tr>\n",
       "      <th>3</th>\n",
       "      <td>7348</td>\n",
       "      <td>165775</td>\n",
       "      <td>Pañales CHELINO LOVE Talla4 9-15 KG 34unidades</td>\n",
       "      <td>chelino</td>\n",
       "      <td>Los pañales Chelino, que presentan un novedoso...</td>\n",
       "      <td>infantil</td>\n",
       "      <td>https://www.mifarma.es/media/catalog/product/1...</td>\n",
       "      <td>Pañales Chelino Love Talla4 9-15</td>\n",
       "      <td>Infantil</td>\n",
       "      <td>Cambio de pañal</td>\n",
       "      <td>Pañales</td>\n",
       "    </tr>\n",
       "    <tr>\n",
       "      <th>4</th>\n",
       "      <td>24517</td>\n",
       "      <td>011905</td>\n",
       "      <td>Dodot Pañal T4 9-15Kg 30unds</td>\n",
       "      <td>dodot</td>\n",
       "      <td>¿Qué le pides a un pañal? ¿Absorción máxima, q...</td>\n",
       "      <td>NaN</td>\n",
       "      <td>https://www.mifarma.es/media/catalog/product/0...</td>\n",
       "      <td>Dodot Pañal T4 9-15Kg 30Unds</td>\n",
       "      <td>NaN</td>\n",
       "      <td>NaN</td>\n",
       "      <td>NaN</td>\n",
       "    </tr>\n",
       "  </tbody>\n",
       "</table>\n",
       "</div>"
      ],
      "text/plain": [
       "   product_id     sku                                             name  \\\n",
       "0        7349  165774   Pañales CHELINO LOVE Talla3 4-10 KG 36unidades   \n",
       "1        7347  165776  Pañales CHELINO LOVE Talla5 13-18 KG 30unidades   \n",
       "2       50282  230154                     Pañales Pingo Maxi T4 40 uds   \n",
       "3        7348  165775   Pañales CHELINO LOVE Talla4 9-15 KG 34unidades   \n",
       "4       24517  011905                     Dodot Pañal T4 9-15Kg 30unds   \n",
       "\n",
       "  marca_value                                  short_description  \\\n",
       "0     chelino  Los pañales Chelino, que presentan un novedoso...   \n",
       "1     chelino  Los pañales Chelino que presentan un novedoso ...   \n",
       "2       pingo  Pingo es el primer pañal ecológico con cuatro ...   \n",
       "3     chelino  Los pañales Chelino, que presentan un novedoso...   \n",
       "4       dodot  ¿Qué le pides a un pañal? ¿Absorción máxima, q...   \n",
       "\n",
       "  analytic_category                                            picture  \\\n",
       "0          infantil  https://www.mifarma.es/media/catalog/product/1...   \n",
       "1          infantil  https://www.mifarma.es/media/catalog/product/1...   \n",
       "2          infantil  https://www.mifarma.es/media/catalog/product/2...   \n",
       "3          infantil  https://www.mifarma.es/media/catalog/product/1...   \n",
       "4               NaN  https://www.mifarma.es/media/catalog/product/0...   \n",
       "\n",
       "                        nombre_corto      cat1             cat2     cat3  \n",
       "0   Pañales Chelino Love Talla3 4-10  Infantil  Cambio de pañal  Pañales  \n",
       "1  Pañales Chelino Love Talla5 13-18  Infantil  Cambio de pañal  Pañales  \n",
       "2           Pañales Pingo Maxi T4 40  Infantil  Cambio de pañal  Pañales  \n",
       "3   Pañales Chelino Love Talla4 9-15  Infantil  Cambio de pañal  Pañales  \n",
       "4       Dodot Pañal T4 9-15Kg 30Unds       NaN              NaN      NaN  "
      ]
     },
     "execution_count": 16,
     "metadata": {},
     "output_type": "execute_result"
    }
   ],
   "source": [
    "products_full.drop(columns=[\"Unnamed: 0_x\", \"Unnamed: 0_y\"]).head()"
   ]
  },
  {
   "cell_type": "markdown",
   "id": "2f627419",
   "metadata": {},
   "source": [
    "### Es necesario que \"analytic_category\" tome lo que está en el mismo registro en \"cat1\""
   ]
  },
  {
   "cell_type": "code",
   "execution_count": 17,
   "id": "637322bc",
   "metadata": {},
   "outputs": [
    {
     "data": {
      "text/plain": [
       "3083"
      ]
     },
     "execution_count": 17,
     "metadata": {},
     "output_type": "execute_result"
    }
   ],
   "source": [
    "products_full[\"analytic_category\"].isna().sum()"
   ]
  },
  {
   "cell_type": "code",
   "execution_count": 18,
   "id": "69906135",
   "metadata": {},
   "outputs": [
    {
     "data": {
      "text/plain": [
       "0"
      ]
     },
     "execution_count": 18,
     "metadata": {},
     "output_type": "execute_result"
    }
   ],
   "source": [
    "(products_full[\"analytic_category\"] == None).sum()"
   ]
  },
  {
   "cell_type": "code",
   "execution_count": 19,
   "id": "b9fb7b11",
   "metadata": {},
   "outputs": [],
   "source": [
    "for pos, na in enumerate(products_full[\"analytic_category\"]): #no funciona... ¡?\n",
    "    if na == None:\n",
    "        products_full[\"analytic_category\"].iloc[pos] = products_full[\"cat1\"].iloc[pos]"
   ]
  },
  {
   "cell_type": "code",
   "execution_count": 20,
   "id": "724131d8",
   "metadata": {},
   "outputs": [
    {
     "name": "stdout",
     "output_type": "stream",
     "text": [
      "<class 'pandas.core.frame.DataFrame'>\n",
      "Int64Index: 23183 entries, 0 to 23182\n",
      "Data columns (total 13 columns):\n",
      " #   Column             Non-Null Count  Dtype  \n",
      "---  ------             --------------  -----  \n",
      " 0   Unnamed: 0_x       23183 non-null  int64  \n",
      " 1   product_id         23183 non-null  int64  \n",
      " 2   sku                23183 non-null  object \n",
      " 3   name               23183 non-null  object \n",
      " 4   marca_value        23181 non-null  object \n",
      " 5   short_description  23162 non-null  object \n",
      " 6   analytic_category  20100 non-null  object \n",
      " 7   picture            23177 non-null  object \n",
      " 8   nombre_corto       23183 non-null  object \n",
      " 9   Unnamed: 0_y       11118 non-null  float64\n",
      " 10  cat1               11118 non-null  object \n",
      " 11  cat2               11098 non-null  object \n",
      " 12  cat3               10819 non-null  object \n",
      "dtypes: float64(1), int64(2), object(10)\n",
      "memory usage: 2.5+ MB\n"
     ]
    }
   ],
   "source": [
    "products_full.info()"
   ]
  },
  {
   "cell_type": "code",
   "execution_count": 21,
   "id": "c6d0e366",
   "metadata": {},
   "outputs": [
    {
     "data": {
      "text/plain": [
       "3083"
      ]
     },
     "execution_count": 21,
     "metadata": {},
     "output_type": "execute_result"
    }
   ],
   "source": [
    "products_full[\"analytic_category\"].isna().sum()"
   ]
  },
  {
   "cell_type": "markdown",
   "id": "97de7fe6",
   "metadata": {},
   "source": [
    "**Revisión de tipos**"
   ]
  },
  {
   "cell_type": "code",
   "execution_count": 22,
   "id": "e1722c14",
   "metadata": {},
   "outputs": [
    {
     "name": "stdout",
     "output_type": "stream",
     "text": [
      "<class 'pandas.core.frame.DataFrame'>\n",
      "RangeIndex: 23183 entries, 0 to 23182\n",
      "Data columns (total 9 columns):\n",
      " #   Column             Non-Null Count  Dtype \n",
      "---  ------             --------------  ----- \n",
      " 0   Unnamed: 0         23183 non-null  int64 \n",
      " 1   product_id         23183 non-null  int64 \n",
      " 2   sku                23183 non-null  object\n",
      " 3   name               23183 non-null  object\n",
      " 4   marca_value        23181 non-null  object\n",
      " 5   short_description  23162 non-null  object\n",
      " 6   analytic_category  20100 non-null  object\n",
      " 7   picture            23177 non-null  object\n",
      " 8   nombre_corto       23183 non-null  object\n",
      "dtypes: int64(2), object(7)\n",
      "memory usage: 1.6+ MB\n"
     ]
    }
   ],
   "source": [
    "products.info()"
   ]
  },
  {
   "cell_type": "code",
   "execution_count": 23,
   "id": "056313c1",
   "metadata": {},
   "outputs": [
    {
     "name": "stdout",
     "output_type": "stream",
     "text": [
      "<class 'pandas.core.frame.DataFrame'>\n",
      "RangeIndex: 11159 entries, 0 to 11158\n",
      "Data columns (total 5 columns):\n",
      " #   Column      Non-Null Count  Dtype \n",
      "---  ------      --------------  ----- \n",
      " 0   Unnamed: 0  11159 non-null  int64 \n",
      " 1   sku         11159 non-null  object\n",
      " 2   cat1        11159 non-null  object\n",
      " 3   cat2        11139 non-null  object\n",
      " 4   cat3        10859 non-null  object\n",
      "dtypes: int64(1), object(4)\n",
      "memory usage: 436.0+ KB\n"
     ]
    }
   ],
   "source": [
    "df_categories.info()"
   ]
  },
  {
   "cell_type": "code",
   "execution_count": 24,
   "id": "a46c1be7",
   "metadata": {},
   "outputs": [],
   "source": [
    "#test2 = [re.search(\"([^;]*)\", element).group() for element in categories_sep[\"cat2,3\"]]"
   ]
  },
  {
   "cell_type": "markdown",
   "id": "b0cab523",
   "metadata": {},
   "source": [
    "**Eliminación de columnas no relevantes**"
   ]
  },
  {
   "cell_type": "code",
   "execution_count": 25,
   "id": "02af86bb",
   "metadata": {},
   "outputs": [],
   "source": [
    "products_full.drop(columns=[\"Unnamed: 0_x\", \"Unnamed: 0_y\"], inplace=True, axis=1)"
   ]
  },
  {
   "cell_type": "markdown",
   "id": "5ee0081b",
   "metadata": {},
   "source": [
    "**Exportación de resultados a CSV**"
   ]
  },
  {
   "cell_type": "code",
   "execution_count": 26,
   "id": "5379e905",
   "metadata": {},
   "outputs": [],
   "source": [
    "products_full.to_csv(\"df_products_dep.csv\")"
   ]
  }
 ],
 "metadata": {
  "kernelspec": {
   "display_name": "Python 3 (ipykernel)",
   "language": "python",
   "name": "python3"
  },
  "language_info": {
   "codemirror_mode": {
    "name": "ipython",
    "version": 3
   },
   "file_extension": ".py",
   "mimetype": "text/x-python",
   "name": "python",
   "nbconvert_exporter": "python",
   "pygments_lexer": "ipython3",
   "version": "3.10.4"
  }
 },
 "nbformat": 4,
 "nbformat_minor": 5
}
