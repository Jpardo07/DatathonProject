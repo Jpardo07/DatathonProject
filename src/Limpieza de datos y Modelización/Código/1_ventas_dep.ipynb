{
 "cells": [
  {
   "cell_type": "markdown",
   "id": "77f7cfc4",
   "metadata": {},
   "source": [
    "### Importación de librerías"
   ]
  },
  {
   "cell_type": "code",
   "execution_count": 3,
   "id": "4d32feb5-14f7-4c0c-80f0-170736ad5a8b",
   "metadata": {},
   "outputs": [],
   "source": [
    "import pandas as pd\n",
    "import numpy as np\n",
    "import re"
   ]
  },
  {
   "cell_type": "markdown",
   "id": "536330df",
   "metadata": {},
   "source": [
    "### Comienzo de la depuración"
   ]
  },
  {
   "cell_type": "code",
   "execution_count": 4,
   "id": "bc2bcbc8-4a09-4b52-bc50-76c762f56aa6",
   "metadata": {},
   "outputs": [],
   "source": [
    "df_ventas = pd.read_csv(\"items_ordered_2years.csv\", sep=\",\")"
   ]
  },
  {
   "cell_type": "markdown",
   "id": "8c52bbbb",
   "metadata": {},
   "source": [
    "En este dataframe los duplicados son valores que no tienen valor, puesto que no puede haber dos productos con el mismo item_id. Por tanto, son valores que hay que eliminar"
   ]
  },
  {
   "cell_type": "code",
   "execution_count": 5,
   "id": "27c812a3-27c0-4eae-83e1-9b7f147e8b06",
   "metadata": {},
   "outputs": [
    {
     "data": {
      "text/html": [
       "<div>\n",
       "<style scoped>\n",
       "    .dataframe tbody tr th:only-of-type {\n",
       "        vertical-align: middle;\n",
       "    }\n",
       "\n",
       "    .dataframe tbody tr th {\n",
       "        vertical-align: top;\n",
       "    }\n",
       "\n",
       "    .dataframe thead th {\n",
       "        text-align: right;\n",
       "    }\n",
       "</style>\n",
       "<table border=\"1\" class=\"dataframe\">\n",
       "  <thead>\n",
       "    <tr style=\"text-align: right;\">\n",
       "      <th></th>\n",
       "      <th>num_order</th>\n",
       "      <th>item_id</th>\n",
       "      <th>created_at</th>\n",
       "      <th>product_id</th>\n",
       "      <th>qty_ordered</th>\n",
       "      <th>base_cost</th>\n",
       "      <th>price</th>\n",
       "      <th>discount_percent</th>\n",
       "      <th>customer_id</th>\n",
       "      <th>city</th>\n",
       "      <th>zipcode</th>\n",
       "    </tr>\n",
       "  </thead>\n",
       "  <tbody>\n",
       "    <tr>\n",
       "      <th>0</th>\n",
       "      <td>ce30c2f02458457e3c7b563a636ae2a1</td>\n",
       "      <td>0916c05c5c3f65f59d813a78ac35c8d2</td>\n",
       "      <td>2018-11-06 16:52:13</td>\n",
       "      <td>86434</td>\n",
       "      <td>1.0</td>\n",
       "      <td>9.3750</td>\n",
       "      <td>15.38</td>\n",
       "      <td>8.0</td>\n",
       "      <td>eccbc87e4b5ce2fe28308fd9f2a7baf3</td>\n",
       "      <td>TARAZONA DE LA MANCHA</td>\n",
       "      <td>02100</td>\n",
       "    </tr>\n",
       "    <tr>\n",
       "      <th>1</th>\n",
       "      <td>ce30c2f02458457e3c7b563a636ae2a1</td>\n",
       "      <td>ff323b39ae36843396d2e53ce549fb10</td>\n",
       "      <td>2018-11-06 16:52:13</td>\n",
       "      <td>87652</td>\n",
       "      <td>1.0</td>\n",
       "      <td>7.0000</td>\n",
       "      <td>15.41</td>\n",
       "      <td>8.0</td>\n",
       "      <td>eccbc87e4b5ce2fe28308fd9f2a7baf3</td>\n",
       "      <td>TARAZONA DE LA MANCHA</td>\n",
       "      <td>02100</td>\n",
       "    </tr>\n",
       "    <tr>\n",
       "      <th>2</th>\n",
       "      <td>ce30c2f02458457e3c7b563a636ae2a1</td>\n",
       "      <td>199916dffc95259f4d2daab6664ca9c0</td>\n",
       "      <td>2018-11-06 16:52:13</td>\n",
       "      <td>2785</td>\n",
       "      <td>1.0</td>\n",
       "      <td>9.1587</td>\n",
       "      <td>12.23</td>\n",
       "      <td>8.0</td>\n",
       "      <td>eccbc87e4b5ce2fe28308fd9f2a7baf3</td>\n",
       "      <td>TARAZONA DE LA MANCHA</td>\n",
       "      <td>02100</td>\n",
       "    </tr>\n",
       "    <tr>\n",
       "      <th>3</th>\n",
       "      <td>83e75d608f11c8163599806420903ab9</td>\n",
       "      <td>8ca334ec2493501139327ce0165a1a84</td>\n",
       "      <td>2018-12-17 12:26:54</td>\n",
       "      <td>13000</td>\n",
       "      <td>5.0</td>\n",
       "      <td>13.7936</td>\n",
       "      <td>15.03</td>\n",
       "      <td>50.0</td>\n",
       "      <td>eccbc87e4b5ce2fe28308fd9f2a7baf3</td>\n",
       "      <td>TARAZONA DE LA MANCHA</td>\n",
       "      <td>02100</td>\n",
       "    </tr>\n",
       "    <tr>\n",
       "      <th>4</th>\n",
       "      <td>9b687270d8e7eed9717022af5961a190</td>\n",
       "      <td>ce0a1683c6b1a0248b330344ec592ddf</td>\n",
       "      <td>2017-01-12 14:19:03</td>\n",
       "      <td>41947</td>\n",
       "      <td>1.0</td>\n",
       "      <td>5.5924</td>\n",
       "      <td>7.00</td>\n",
       "      <td>5.0</td>\n",
       "      <td>1679091c5a880faf6fb5e6087eb1b2dc</td>\n",
       "      <td>Alboraya</td>\n",
       "      <td>46120</td>\n",
       "    </tr>\n",
       "  </tbody>\n",
       "</table>\n",
       "</div>"
      ],
      "text/plain": [
       "                          num_order                           item_id  \\\n",
       "0  ce30c2f02458457e3c7b563a636ae2a1  0916c05c5c3f65f59d813a78ac35c8d2   \n",
       "1  ce30c2f02458457e3c7b563a636ae2a1  ff323b39ae36843396d2e53ce549fb10   \n",
       "2  ce30c2f02458457e3c7b563a636ae2a1  199916dffc95259f4d2daab6664ca9c0   \n",
       "3  83e75d608f11c8163599806420903ab9  8ca334ec2493501139327ce0165a1a84   \n",
       "4  9b687270d8e7eed9717022af5961a190  ce0a1683c6b1a0248b330344ec592ddf   \n",
       "\n",
       "            created_at  product_id  qty_ordered  base_cost  price  \\\n",
       "0  2018-11-06 16:52:13       86434          1.0     9.3750  15.38   \n",
       "1  2018-11-06 16:52:13       87652          1.0     7.0000  15.41   \n",
       "2  2018-11-06 16:52:13        2785          1.0     9.1587  12.23   \n",
       "3  2018-12-17 12:26:54       13000          5.0    13.7936  15.03   \n",
       "4  2017-01-12 14:19:03       41947          1.0     5.5924   7.00   \n",
       "\n",
       "   discount_percent                       customer_id                   city  \\\n",
       "0               8.0  eccbc87e4b5ce2fe28308fd9f2a7baf3  TARAZONA DE LA MANCHA   \n",
       "1               8.0  eccbc87e4b5ce2fe28308fd9f2a7baf3  TARAZONA DE LA MANCHA   \n",
       "2               8.0  eccbc87e4b5ce2fe28308fd9f2a7baf3  TARAZONA DE LA MANCHA   \n",
       "3              50.0  eccbc87e4b5ce2fe28308fd9f2a7baf3  TARAZONA DE LA MANCHA   \n",
       "4               5.0  1679091c5a880faf6fb5e6087eb1b2dc               Alboraya   \n",
       "\n",
       "  zipcode  \n",
       "0   02100  \n",
       "1   02100  \n",
       "2   02100  \n",
       "3   02100  \n",
       "4   46120  "
      ]
     },
     "execution_count": 5,
     "metadata": {},
     "output_type": "execute_result"
    }
   ],
   "source": [
    "#Eliminación de duplicados\n",
    "df_ventas = df_ventas.drop_duplicates()\n",
    "\n",
    "df_ventas.head()"
   ]
  },
  {
   "cell_type": "code",
   "execution_count": 6,
   "id": "379a78b7-bbaa-4c46-ac6d-3f58d420dd27",
   "metadata": {},
   "outputs": [
    {
     "data": {
      "text/plain": [
       "num_order           278045\n",
       "item_id             906317\n",
       "created_at          277896\n",
       "product_id           26396\n",
       "qty_ordered             57\n",
       "base_cost            52202\n",
       "price                 5028\n",
       "discount_percent        45\n",
       "customer_id         118799\n",
       "city                 21012\n",
       "zipcode              11132\n",
       "dtype: int64"
      ]
     },
     "execution_count": 6,
     "metadata": {},
     "output_type": "execute_result"
    }
   ],
   "source": [
    "df_ventas.nunique()"
   ]
  },
  {
   "cell_type": "markdown",
   "id": "9fc39e48",
   "metadata": {},
   "source": [
    "Sigue habiendo mas registros que valores únicos en item_id, lo cual indica que hay que revisar qué puede estar generando esa duplicidad de id."
   ]
  },
  {
   "cell_type": "markdown",
   "id": "20493938-8fdf-4a9e-831b-b3f399d2a3ca",
   "metadata": {},
   "source": [
    "### Revisión de ITEM_ID"
   ]
  },
  {
   "cell_type": "code",
   "execution_count": 7,
   "id": "70f99a6b-f352-4f96-9a55-850c78a7a190",
   "metadata": {},
   "outputs": [
    {
     "data": {
      "text/plain": [
       "906317"
      ]
     },
     "execution_count": 7,
     "metadata": {},
     "output_type": "execute_result"
    }
   ],
   "source": [
    "df_ventas[\"item_id\"].nunique()"
   ]
  },
  {
   "cell_type": "code",
   "execution_count": 8,
   "id": "bdc2d1a6-c0c5-437e-a7fb-04c8ea2d58e8",
   "metadata": {},
   "outputs": [
    {
     "data": {
      "text/html": [
       "<div>\n",
       "<style scoped>\n",
       "    .dataframe tbody tr th:only-of-type {\n",
       "        vertical-align: middle;\n",
       "    }\n",
       "\n",
       "    .dataframe tbody tr th {\n",
       "        vertical-align: top;\n",
       "    }\n",
       "\n",
       "    .dataframe thead th {\n",
       "        text-align: right;\n",
       "    }\n",
       "</style>\n",
       "<table border=\"1\" class=\"dataframe\">\n",
       "  <thead>\n",
       "    <tr style=\"text-align: right;\">\n",
       "      <th></th>\n",
       "      <th>item_id</th>\n",
       "      <th>size</th>\n",
       "    </tr>\n",
       "  </thead>\n",
       "  <tbody>\n",
       "    <tr>\n",
       "      <th>111</th>\n",
       "      <td>000802dde903f8282df756d2aab8d024</td>\n",
       "      <td>2</td>\n",
       "    </tr>\n",
       "    <tr>\n",
       "      <th>135</th>\n",
       "      <td>000a8c9981c4dc672abd207bdc1b85f7</td>\n",
       "      <td>2</td>\n",
       "    </tr>\n",
       "    <tr>\n",
       "      <th>236</th>\n",
       "      <td>001183d1253fa3d736eda6c92c826360</td>\n",
       "      <td>2</td>\n",
       "    </tr>\n",
       "    <tr>\n",
       "      <th>375</th>\n",
       "      <td>001b62e0e6c6fcf7fd771422bc91cb12</td>\n",
       "      <td>2</td>\n",
       "    </tr>\n",
       "    <tr>\n",
       "      <th>385</th>\n",
       "      <td>001bd90aa12b86fc11c4a416b3495cd5</td>\n",
       "      <td>2</td>\n",
       "    </tr>\n",
       "  </tbody>\n",
       "</table>\n",
       "</div>"
      ],
      "text/plain": [
       "                              item_id  size\n",
       "111  000802dde903f8282df756d2aab8d024     2\n",
       "135  000a8c9981c4dc672abd207bdc1b85f7     2\n",
       "236  001183d1253fa3d736eda6c92c826360     2\n",
       "375  001b62e0e6c6fcf7fd771422bc91cb12     2\n",
       "385  001bd90aa12b86fc11c4a416b3495cd5     2"
      ]
     },
     "execution_count": 8,
     "metadata": {},
     "output_type": "execute_result"
    }
   ],
   "source": [
    "item_nu = df_ventas.groupby(\n",
    "    \"item_id\", as_index=False\n",
    ").size()\n",
    "\n",
    "mascara = item_nu.iloc[:,1] > 1\n",
    "\n",
    "item_repetidos = item_nu[mascara]\n",
    "\n",
    "item_repetidos.head()"
   ]
  },
  {
   "cell_type": "code",
   "execution_count": 9,
   "id": "9f234ada-b270-488e-a4f9-29f7c8928e27",
   "metadata": {},
   "outputs": [
    {
     "data": {
      "text/html": [
       "<div>\n",
       "<style scoped>\n",
       "    .dataframe tbody tr th:only-of-type {\n",
       "        vertical-align: middle;\n",
       "    }\n",
       "\n",
       "    .dataframe tbody tr th {\n",
       "        vertical-align: top;\n",
       "    }\n",
       "\n",
       "    .dataframe thead th {\n",
       "        text-align: right;\n",
       "    }\n",
       "</style>\n",
       "<table border=\"1\" class=\"dataframe\">\n",
       "  <thead>\n",
       "    <tr style=\"text-align: right;\">\n",
       "      <th></th>\n",
       "      <th>num_order</th>\n",
       "      <th>item_id</th>\n",
       "      <th>created_at</th>\n",
       "      <th>product_id</th>\n",
       "      <th>qty_ordered</th>\n",
       "      <th>base_cost</th>\n",
       "      <th>price</th>\n",
       "      <th>discount_percent</th>\n",
       "      <th>customer_id</th>\n",
       "      <th>city</th>\n",
       "      <th>zipcode</th>\n",
       "    </tr>\n",
       "  </thead>\n",
       "  <tbody>\n",
       "    <tr>\n",
       "      <th>649241</th>\n",
       "      <td>8051708bf244ba8518b5e5b61a74486b</td>\n",
       "      <td>000802dde903f8282df756d2aab8d024</td>\n",
       "      <td>2018-12-17 23:32:08</td>\n",
       "      <td>7647</td>\n",
       "      <td>1.0</td>\n",
       "      <td>2.5438</td>\n",
       "      <td>3.00</td>\n",
       "      <td>5.0</td>\n",
       "      <td>c2d3e675fedd5555ee14b6441f0a8568</td>\n",
       "      <td>CORRALES DE BUELNA</td>\n",
       "      <td>39400</td>\n",
       "    </tr>\n",
       "    <tr>\n",
       "      <th>649259</th>\n",
       "      <td>8051708bf244ba8518b5e5b61a74486b</td>\n",
       "      <td>000802dde903f8282df756d2aab8d024</td>\n",
       "      <td>2018-12-17 23:32:08</td>\n",
       "      <td>7647</td>\n",
       "      <td>1.0</td>\n",
       "      <td>2.5438</td>\n",
       "      <td>3.00</td>\n",
       "      <td>5.0</td>\n",
       "      <td>c2d3e675fedd5555ee14b6441f0a8568</td>\n",
       "      <td>Corrales de buelna</td>\n",
       "      <td>39400</td>\n",
       "    </tr>\n",
       "    <tr>\n",
       "      <th>447200</th>\n",
       "      <td>6d19dedf8710788ea7d774c3fc977a9b</td>\n",
       "      <td>000a8c9981c4dc672abd207bdc1b85f7</td>\n",
       "      <td>2018-09-02 16:35:36</td>\n",
       "      <td>3076</td>\n",
       "      <td>2.0</td>\n",
       "      <td>6.3986</td>\n",
       "      <td>12.71</td>\n",
       "      <td>15.0</td>\n",
       "      <td>9bd04a4cc151456b49c699624bb83084</td>\n",
       "      <td>Granada</td>\n",
       "      <td>18009</td>\n",
       "    </tr>\n",
       "    <tr>\n",
       "      <th>447182</th>\n",
       "      <td>6d19dedf8710788ea7d774c3fc977a9b</td>\n",
       "      <td>000a8c9981c4dc672abd207bdc1b85f7</td>\n",
       "      <td>2018-09-02 16:35:36</td>\n",
       "      <td>3076</td>\n",
       "      <td>2.0</td>\n",
       "      <td>6.3986</td>\n",
       "      <td>12.71</td>\n",
       "      <td>15.0</td>\n",
       "      <td>9bd04a4cc151456b49c699624bb83084</td>\n",
       "      <td>Granada</td>\n",
       "      <td>18009</td>\n",
       "    </tr>\n",
       "    <tr>\n",
       "      <th>766220</th>\n",
       "      <td>27df73640a5bbe494d1db3e3bf16b906</td>\n",
       "      <td>001183d1253fa3d736eda6c92c826360</td>\n",
       "      <td>2018-08-07 09:29:02</td>\n",
       "      <td>2021</td>\n",
       "      <td>1.0</td>\n",
       "      <td>10.2800</td>\n",
       "      <td>15.87</td>\n",
       "      <td>5.0</td>\n",
       "      <td>0a6f053fb763ab1d4b6bef36ce683e53</td>\n",
       "      <td>barcelona</td>\n",
       "      <td>08025</td>\n",
       "    </tr>\n",
       "  </tbody>\n",
       "</table>\n",
       "</div>"
      ],
      "text/plain": [
       "                               num_order                           item_id  \\\n",
       "649241  8051708bf244ba8518b5e5b61a74486b  000802dde903f8282df756d2aab8d024   \n",
       "649259  8051708bf244ba8518b5e5b61a74486b  000802dde903f8282df756d2aab8d024   \n",
       "447200  6d19dedf8710788ea7d774c3fc977a9b  000a8c9981c4dc672abd207bdc1b85f7   \n",
       "447182  6d19dedf8710788ea7d774c3fc977a9b  000a8c9981c4dc672abd207bdc1b85f7   \n",
       "766220  27df73640a5bbe494d1db3e3bf16b906  001183d1253fa3d736eda6c92c826360   \n",
       "\n",
       "                 created_at  product_id  qty_ordered  base_cost  price  \\\n",
       "649241  2018-12-17 23:32:08        7647          1.0     2.5438   3.00   \n",
       "649259  2018-12-17 23:32:08        7647          1.0     2.5438   3.00   \n",
       "447200  2018-09-02 16:35:36        3076          2.0     6.3986  12.71   \n",
       "447182  2018-09-02 16:35:36        3076          2.0     6.3986  12.71   \n",
       "766220  2018-08-07 09:29:02        2021          1.0    10.2800  15.87   \n",
       "\n",
       "        discount_percent                       customer_id  \\\n",
       "649241               5.0  c2d3e675fedd5555ee14b6441f0a8568   \n",
       "649259               5.0  c2d3e675fedd5555ee14b6441f0a8568   \n",
       "447200              15.0  9bd04a4cc151456b49c699624bb83084   \n",
       "447182              15.0  9bd04a4cc151456b49c699624bb83084   \n",
       "766220               5.0  0a6f053fb763ab1d4b6bef36ce683e53   \n",
       "\n",
       "                      city zipcode  \n",
       "649241  CORRALES DE BUELNA   39400  \n",
       "649259  Corrales de buelna   39400  \n",
       "447200            Granada    18009  \n",
       "447182             Granada   18009  \n",
       "766220           barcelona   08025  "
      ]
     },
     "execution_count": 9,
     "metadata": {},
     "output_type": "execute_result"
    }
   ],
   "source": [
    "mascara2 = df_ventas[\"item_id\"].isin(\n",
    "    item_repetidos[\"item_id\"].tolist()\n",
    ")\n",
    "\n",
    "df_ventas_repetido = df_ventas[mascara2].sort_values(\"item_id\")\n",
    "\n",
    "df_ventas_repetido.head()"
   ]
  },
  {
   "cell_type": "markdown",
   "id": "8e87d5fe",
   "metadata": {},
   "source": [
    "Las duplicidades del item_id aparecen debido a presumiblemente errores en el zipcode/city. Se tratará despues de corregir las columnas de city y zipcode"
   ]
  },
  {
   "cell_type": "markdown",
   "id": "03e98310",
   "metadata": {},
   "source": [
    "### Revisión de valores nulos"
   ]
  },
  {
   "cell_type": "code",
   "execution_count": 10,
   "id": "cb79f050-0d01-48e0-95a5-27cc83aa8a18",
   "metadata": {},
   "outputs": [
    {
     "data": {
      "text/plain": [
       "num_order              0\n",
       "item_id                0\n",
       "created_at             0\n",
       "product_id             0\n",
       "qty_ordered            0\n",
       "base_cost           2358\n",
       "price                  0\n",
       "discount_percent       0\n",
       "customer_id            0\n",
       "city                2910\n",
       "zipcode             2910\n",
       "dtype: int64"
      ]
     },
     "execution_count": 10,
     "metadata": {},
     "output_type": "execute_result"
    }
   ],
   "source": [
    "df_ventas.isna().sum()"
   ]
  },
  {
   "cell_type": "markdown",
   "id": "5527c046",
   "metadata": {},
   "source": [
    "Valores nulos en zipcode y city similares. Pueden ser coincidentes."
   ]
  },
  {
   "cell_type": "code",
   "execution_count": 11,
   "id": "c706df12",
   "metadata": {},
   "outputs": [
    {
     "data": {
      "text/plain": [
       "num_order              0\n",
       "item_id                0\n",
       "created_at             0\n",
       "product_id             0\n",
       "qty_ordered            0\n",
       "base_cost           2355\n",
       "price                  0\n",
       "discount_percent       0\n",
       "customer_id            0\n",
       "city                   0\n",
       "zipcode                0\n",
       "dtype: int64"
      ]
     },
     "execution_count": 11,
     "metadata": {},
     "output_type": "execute_result"
    }
   ],
   "source": [
    "mascara_na = df_ventas[\"zipcode\"].notna()\n",
    "df_ventas[mascara_na ].isna().sum()\n"
   ]
  },
  {
   "cell_type": "markdown",
   "id": "c8c1bf42",
   "metadata": {},
   "source": [
    "Efectivamente, al filtrar por zipcodes que no tuvieran na en la columa zipcode desaparecían los valores perdidos en la de city.\n",
    "Esos registros dificilmente pueden ser imputados por algoritmos como randomforest o knn, sin arriesgarse a estar añadiendo información de forma casi aleatoria.\n",
    "Por ello, se prescindirá de esos registros."
   ]
  },
  {
   "cell_type": "code",
   "execution_count": 12,
   "id": "53792d3a",
   "metadata": {},
   "outputs": [],
   "source": [
    "df_ventas = df_ventas[mascara_na]"
   ]
  },
  {
   "cell_type": "markdown",
   "id": "ad9666d4-9a96-4f92-8579-866f3f8acdde",
   "metadata": {},
   "source": [
    "### Revisión de zipcodes"
   ]
  },
  {
   "cell_type": "code",
   "execution_count": 13,
   "id": "685707d8-bd69-40a1-ba12-59bc317e9b2d",
   "metadata": {},
   "outputs": [
    {
     "data": {
      "text/plain": [
       "[5, 2, 8, 4, 6]"
      ]
     },
     "execution_count": 13,
     "metadata": {},
     "output_type": "execute_result"
    }
   ],
   "source": [
    "df_ventas[\"longitud_zip\"] = df_ventas[\"zipcode\"].dropna().apply(len)\n",
    "df_ventas[\"longitud_zip\"].unique().tolist()[0:5]"
   ]
  },
  {
   "cell_type": "markdown",
   "id": "f73eaf01",
   "metadata": {},
   "source": [
    "Funciones para limpieza de city y zipcode"
   ]
  },
  {
   "cell_type": "code",
   "execution_count": 14,
   "id": "52066026",
   "metadata": {},
   "outputs": [],
   "source": [
    "#Limpieza de zipcodes con RegEx\n",
    "def num_guion(string):\n",
    "    \"\"\" Get a string with the numbers and hyphens of another string\n",
    "    \n",
    "    Args:\n",
    "        df: string used to extract the string with numbers abd hyphens\n",
    "\n",
    "    Returns:\n",
    "        df: the string with numbers and hyphens\n",
    "    \"\"\"\n",
    "    aux = re.match(\"([\\d-]+)\", str(string))\n",
    "    try:\n",
    "        return str(aux.group())\n",
    "    except:\n",
    "        return string\n",
    "\n",
    "\n",
    "# Limpieza de nombres de ciudad\n",
    "\n",
    "# def AcentosLimpiador(text):\n",
    "# \tacentos = {'ñ':'n','á': 'a', 'é': 'e', 'í': 'i', 'ó': 'o', 'ú': 'u', 'à':'a'}\n",
    "# \tfor ele in acentos:\n",
    "# \t\tif ele in text:\n",
    "# \t\t\ttext = text.replace(ele, acentos[ele])\n",
    "# \treturn text\n",
    "\n",
    "# def CityCleaner(text):\n",
    "#     stopWordSpanish = set(stopwords.words('spanish'))\n",
    "#     wordTokens = word_tokenize(AcentosLimpiador(text.lower()).rstrip()) \n",
    "#     filteredSentence = [element for element in wordTokens if not element in stopWordSpanish] \n",
    "#     return filteredSentence\n",
    "\n",
    "    \n"
   ]
  },
  {
   "cell_type": "markdown",
   "id": "a6c0e868",
   "metadata": {},
   "source": [
    "Limpieza de ambas columnas para facilitar el merge con la tabla de zipcodes"
   ]
  },
  {
   "cell_type": "code",
   "execution_count": 15,
   "id": "b4bc29f8",
   "metadata": {},
   "outputs": [],
   "source": [
    "# Limpieza zipcode\n",
    "df_ventas[\"zipcode\"] = df_ventas[\"zipcode\"].apply(lambda x: num_guion(x))\n",
    "# df_ventas[\"city\"] = df_ventas[\"city\"].apply(lambda x: CityCleaner(x))\n",
    "# df_ventas[\"city\"] = df_ventas[\"city\"].apply(lambda x: \"\".join(x))"
   ]
  },
  {
   "cell_type": "markdown",
   "id": "bfdb8d5d",
   "metadata": {},
   "source": [
    "Se carga el dataframe con la información de privincias, países, zipcodes y ciudades."
   ]
  },
  {
   "cell_type": "code",
   "execution_count": 17,
   "id": "048ad60b",
   "metadata": {},
   "outputs": [],
   "source": [
    "zipcodes_csv = pd.read_csv(\"DataScrapped.csv\")\n",
    "zipcodes_csv.drop(\"Unnamed: 0\", axis=1, inplace=True)\n",
    "zipcodes_csv.drop_duplicates(inplace=True)\n"
   ]
  },
  {
   "cell_type": "code",
   "execution_count": 18,
   "id": "2f1adb7e",
   "metadata": {},
   "outputs": [
    {
     "data": {
      "text/html": [
       "<div>\n",
       "<style scoped>\n",
       "    .dataframe tbody tr th:only-of-type {\n",
       "        vertical-align: middle;\n",
       "    }\n",
       "\n",
       "    .dataframe tbody tr th {\n",
       "        vertical-align: top;\n",
       "    }\n",
       "\n",
       "    .dataframe thead th {\n",
       "        text-align: right;\n",
       "    }\n",
       "</style>\n",
       "<table border=\"1\" class=\"dataframe\">\n",
       "  <thead>\n",
       "    <tr style=\"text-align: right;\">\n",
       "      <th></th>\n",
       "      <th>Country</th>\n",
       "      <th>Region</th>\n",
       "      <th>City</th>\n",
       "      <th>Zipcode</th>\n",
       "    </tr>\n",
       "  </thead>\n",
       "  <tbody>\n",
       "    <tr>\n",
       "      <th>0</th>\n",
       "      <td>Spain</td>\n",
       "      <td>Castilla - La Mancha</td>\n",
       "      <td>Tarazona De La Mancha</td>\n",
       "      <td>02100</td>\n",
       "    </tr>\n",
       "    <tr>\n",
       "      <th>4</th>\n",
       "      <td>Spain</td>\n",
       "      <td>Comunidad Valenciana</td>\n",
       "      <td>Alboraya</td>\n",
       "      <td>46120</td>\n",
       "    </tr>\n",
       "    <tr>\n",
       "      <th>74</th>\n",
       "      <td>Spain</td>\n",
       "      <td>Comunidad Valenciana</td>\n",
       "      <td>Benidorm</td>\n",
       "      <td>03503</td>\n",
       "    </tr>\n",
       "    <tr>\n",
       "      <th>76</th>\n",
       "      <td>Spain</td>\n",
       "      <td>Castilla - La Mancha</td>\n",
       "      <td>Yunquera De Henares</td>\n",
       "      <td>19210</td>\n",
       "    </tr>\n",
       "    <tr>\n",
       "      <th>88</th>\n",
       "      <td>Spain</td>\n",
       "      <td>Cataluna</td>\n",
       "      <td>Cornella De Llobregat</td>\n",
       "      <td>08940</td>\n",
       "    </tr>\n",
       "  </tbody>\n",
       "</table>\n",
       "</div>"
      ],
      "text/plain": [
       "   Country                Region                   City Zipcode\n",
       "0    Spain  Castilla - La Mancha  Tarazona De La Mancha   02100\n",
       "4    Spain  Comunidad Valenciana               Alboraya   46120\n",
       "74   Spain  Comunidad Valenciana               Benidorm   03503\n",
       "76   Spain  Castilla - La Mancha    Yunquera De Henares   19210\n",
       "88   Spain              Cataluna  Cornella De Llobregat   08940"
      ]
     },
     "execution_count": 18,
     "metadata": {},
     "output_type": "execute_result"
    }
   ],
   "source": [
    "zipcodes_csv.head()"
   ]
  },
  {
   "cell_type": "markdown",
   "id": "639ae960",
   "metadata": {},
   "source": [
    "Se genera una copia del dataframe con las columnas city y zipcode para un primer join/merge"
   ]
  },
  {
   "cell_type": "code",
   "execution_count": 19,
   "id": "7cce0f0b",
   "metadata": {},
   "outputs": [],
   "source": [
    "# Nombres de las columnas a minuscula\n",
    "\n",
    "column_list = zipcodes_csv.columns.tolist()\n",
    "for i in range(len(column_list)):\n",
    "    column_list[i] = column_list[i].lower()\n",
    "zipcodes_csv.columns = column_list\n",
    "\n",
    "# Obtener dataframe con solo city y zipcode, y pasar city a minusculas para facilitar el match\n",
    "\n",
    "# zipcodes_to_join = zipcodes_csv.loc[:, [\"zipcode\", \"city\"]]\n",
    "# zipcodes_to_join[\"city\"] = zipcodes_to_join[\"city\"].apply(lambda x: CityCleaner(x))\n",
    "# zipcodes_to_join[\"city\"] = zipcodes_to_join[\"city\"].apply(lambda x: \"\".join(x))"
   ]
  },
  {
   "cell_type": "markdown",
   "id": "9c10a34e",
   "metadata": {},
   "source": [
    "Para obtener aquellos zipcodes que estén mal escritos pero que estén bien la ciudad, se realiza un primer merge por columna city"
   ]
  },
  {
   "cell_type": "code",
   "execution_count": 20,
   "id": "a47b9e4b",
   "metadata": {},
   "outputs": [],
   "source": [
    "\n",
    "df_ventas.drop(\"city\", inplace=True, axis=1)"
   ]
  },
  {
   "cell_type": "code",
   "execution_count": 21,
   "id": "9079ad14",
   "metadata": {},
   "outputs": [],
   "source": [
    "df_ventas_2 = df_ventas.merge(zipcodes_csv, how=\"left\", on=\"zipcode\")"
   ]
  },
  {
   "cell_type": "code",
   "execution_count": 22,
   "id": "f3792819",
   "metadata": {},
   "outputs": [
    {
     "data": {
      "text/html": [
       "<div>\n",
       "<style scoped>\n",
       "    .dataframe tbody tr th:only-of-type {\n",
       "        vertical-align: middle;\n",
       "    }\n",
       "\n",
       "    .dataframe tbody tr th {\n",
       "        vertical-align: top;\n",
       "    }\n",
       "\n",
       "    .dataframe thead th {\n",
       "        text-align: right;\n",
       "    }\n",
       "</style>\n",
       "<table border=\"1\" class=\"dataframe\">\n",
       "  <thead>\n",
       "    <tr style=\"text-align: right;\">\n",
       "      <th></th>\n",
       "      <th>num_order</th>\n",
       "      <th>item_id</th>\n",
       "      <th>created_at</th>\n",
       "      <th>product_id</th>\n",
       "      <th>qty_ordered</th>\n",
       "      <th>base_cost</th>\n",
       "      <th>price</th>\n",
       "      <th>discount_percent</th>\n",
       "      <th>customer_id</th>\n",
       "      <th>zipcode</th>\n",
       "      <th>longitud_zip</th>\n",
       "      <th>country</th>\n",
       "      <th>region</th>\n",
       "      <th>city</th>\n",
       "    </tr>\n",
       "  </thead>\n",
       "  <tbody>\n",
       "    <tr>\n",
       "      <th>0</th>\n",
       "      <td>ce30c2f02458457e3c7b563a636ae2a1</td>\n",
       "      <td>0916c05c5c3f65f59d813a78ac35c8d2</td>\n",
       "      <td>2018-11-06 16:52:13</td>\n",
       "      <td>86434</td>\n",
       "      <td>1.0</td>\n",
       "      <td>9.3750</td>\n",
       "      <td>15.38</td>\n",
       "      <td>8.0</td>\n",
       "      <td>eccbc87e4b5ce2fe28308fd9f2a7baf3</td>\n",
       "      <td>02100</td>\n",
       "      <td>5</td>\n",
       "      <td>Spain</td>\n",
       "      <td>Castilla - La Mancha</td>\n",
       "      <td>Tarazona De La Mancha</td>\n",
       "    </tr>\n",
       "    <tr>\n",
       "      <th>1</th>\n",
       "      <td>ce30c2f02458457e3c7b563a636ae2a1</td>\n",
       "      <td>ff323b39ae36843396d2e53ce549fb10</td>\n",
       "      <td>2018-11-06 16:52:13</td>\n",
       "      <td>87652</td>\n",
       "      <td>1.0</td>\n",
       "      <td>7.0000</td>\n",
       "      <td>15.41</td>\n",
       "      <td>8.0</td>\n",
       "      <td>eccbc87e4b5ce2fe28308fd9f2a7baf3</td>\n",
       "      <td>02100</td>\n",
       "      <td>5</td>\n",
       "      <td>Spain</td>\n",
       "      <td>Castilla - La Mancha</td>\n",
       "      <td>Tarazona De La Mancha</td>\n",
       "    </tr>\n",
       "    <tr>\n",
       "      <th>2</th>\n",
       "      <td>ce30c2f02458457e3c7b563a636ae2a1</td>\n",
       "      <td>199916dffc95259f4d2daab6664ca9c0</td>\n",
       "      <td>2018-11-06 16:52:13</td>\n",
       "      <td>2785</td>\n",
       "      <td>1.0</td>\n",
       "      <td>9.1587</td>\n",
       "      <td>12.23</td>\n",
       "      <td>8.0</td>\n",
       "      <td>eccbc87e4b5ce2fe28308fd9f2a7baf3</td>\n",
       "      <td>02100</td>\n",
       "      <td>5</td>\n",
       "      <td>Spain</td>\n",
       "      <td>Castilla - La Mancha</td>\n",
       "      <td>Tarazona De La Mancha</td>\n",
       "    </tr>\n",
       "    <tr>\n",
       "      <th>3</th>\n",
       "      <td>83e75d608f11c8163599806420903ab9</td>\n",
       "      <td>8ca334ec2493501139327ce0165a1a84</td>\n",
       "      <td>2018-12-17 12:26:54</td>\n",
       "      <td>13000</td>\n",
       "      <td>5.0</td>\n",
       "      <td>13.7936</td>\n",
       "      <td>15.03</td>\n",
       "      <td>50.0</td>\n",
       "      <td>eccbc87e4b5ce2fe28308fd9f2a7baf3</td>\n",
       "      <td>02100</td>\n",
       "      <td>5</td>\n",
       "      <td>Spain</td>\n",
       "      <td>Castilla - La Mancha</td>\n",
       "      <td>Tarazona De La Mancha</td>\n",
       "    </tr>\n",
       "    <tr>\n",
       "      <th>4</th>\n",
       "      <td>9b687270d8e7eed9717022af5961a190</td>\n",
       "      <td>ce0a1683c6b1a0248b330344ec592ddf</td>\n",
       "      <td>2017-01-12 14:19:03</td>\n",
       "      <td>41947</td>\n",
       "      <td>1.0</td>\n",
       "      <td>5.5924</td>\n",
       "      <td>7.00</td>\n",
       "      <td>5.0</td>\n",
       "      <td>1679091c5a880faf6fb5e6087eb1b2dc</td>\n",
       "      <td>46120</td>\n",
       "      <td>5</td>\n",
       "      <td>Spain</td>\n",
       "      <td>Comunidad Valenciana</td>\n",
       "      <td>Alboraya</td>\n",
       "    </tr>\n",
       "  </tbody>\n",
       "</table>\n",
       "</div>"
      ],
      "text/plain": [
       "                          num_order                           item_id  \\\n",
       "0  ce30c2f02458457e3c7b563a636ae2a1  0916c05c5c3f65f59d813a78ac35c8d2   \n",
       "1  ce30c2f02458457e3c7b563a636ae2a1  ff323b39ae36843396d2e53ce549fb10   \n",
       "2  ce30c2f02458457e3c7b563a636ae2a1  199916dffc95259f4d2daab6664ca9c0   \n",
       "3  83e75d608f11c8163599806420903ab9  8ca334ec2493501139327ce0165a1a84   \n",
       "4  9b687270d8e7eed9717022af5961a190  ce0a1683c6b1a0248b330344ec592ddf   \n",
       "\n",
       "            created_at  product_id  qty_ordered  base_cost  price  \\\n",
       "0  2018-11-06 16:52:13       86434          1.0     9.3750  15.38   \n",
       "1  2018-11-06 16:52:13       87652          1.0     7.0000  15.41   \n",
       "2  2018-11-06 16:52:13        2785          1.0     9.1587  12.23   \n",
       "3  2018-12-17 12:26:54       13000          5.0    13.7936  15.03   \n",
       "4  2017-01-12 14:19:03       41947          1.0     5.5924   7.00   \n",
       "\n",
       "   discount_percent                       customer_id zipcode  longitud_zip  \\\n",
       "0               8.0  eccbc87e4b5ce2fe28308fd9f2a7baf3   02100             5   \n",
       "1               8.0  eccbc87e4b5ce2fe28308fd9f2a7baf3   02100             5   \n",
       "2               8.0  eccbc87e4b5ce2fe28308fd9f2a7baf3   02100             5   \n",
       "3              50.0  eccbc87e4b5ce2fe28308fd9f2a7baf3   02100             5   \n",
       "4               5.0  1679091c5a880faf6fb5e6087eb1b2dc   46120             5   \n",
       "\n",
       "  country                region                   city  \n",
       "0   Spain  Castilla - La Mancha  Tarazona De La Mancha  \n",
       "1   Spain  Castilla - La Mancha  Tarazona De La Mancha  \n",
       "2   Spain  Castilla - La Mancha  Tarazona De La Mancha  \n",
       "3   Spain  Castilla - La Mancha  Tarazona De La Mancha  \n",
       "4   Spain  Comunidad Valenciana               Alboraya  "
      ]
     },
     "execution_count": 22,
     "metadata": {},
     "output_type": "execute_result"
    }
   ],
   "source": [
    "df_ventas_2.head()"
   ]
  },
  {
   "cell_type": "code",
   "execution_count": 23,
   "id": "ad28a065",
   "metadata": {},
   "outputs": [],
   "source": [
    "mascara_null_2 = df_ventas_2[\"city\"].notna()\n",
    "df_ventas_2 = df_ventas_2[mascara_null_2]\n"
   ]
  },
  {
   "cell_type": "code",
   "execution_count": 24,
   "id": "f399d8ee",
   "metadata": {},
   "outputs": [],
   "source": [
    "df_ventas_2.drop_duplicates(inplace=True)"
   ]
  },
  {
   "cell_type": "markdown",
   "id": "4504c6b1-a84a-4b6f-a1aa-abcdc4cdb29b",
   "metadata": {},
   "source": [
    "### Solucionar el problema de id duplicadas\n",
    "\n",
    "Se parte de la hipótesis de que son registros que se han duplicado al hacerse una corrección sobre la ubicación donde se mandaba el producto pero que no se eliminó el registro anerior. No se puede saber cual es el correcto, por lo que se decide tomar uno de los dos valores de forma alaetoria, que solo afectará a la ciudad/zipcode, mateniendose la comunidad y país de igual manera."
   ]
  },
  {
   "cell_type": "code",
   "execution_count": 25,
   "id": "ec516a75",
   "metadata": {},
   "outputs": [],
   "source": [
    "#Diccionario de la función de agregación por campo\n",
    "\n",
    "list_columns = df_ventas_2.drop(\"item_id\", axis = 1).columns.to_list()\n",
    "list_agg = [\"first\"] * len(list_columns)\n",
    "dict_agg = dict(zip(list_columns, list_agg))"
   ]
  },
  {
   "cell_type": "code",
   "execution_count": 26,
   "id": "8c5a356c",
   "metadata": {},
   "outputs": [
    {
     "data": {
      "text/html": [
       "<div>\n",
       "<style scoped>\n",
       "    .dataframe tbody tr th:only-of-type {\n",
       "        vertical-align: middle;\n",
       "    }\n",
       "\n",
       "    .dataframe tbody tr th {\n",
       "        vertical-align: top;\n",
       "    }\n",
       "\n",
       "    .dataframe thead th {\n",
       "        text-align: right;\n",
       "    }\n",
       "</style>\n",
       "<table border=\"1\" class=\"dataframe\">\n",
       "  <thead>\n",
       "    <tr style=\"text-align: right;\">\n",
       "      <th></th>\n",
       "      <th>item_id</th>\n",
       "      <th>num_order</th>\n",
       "      <th>created_at</th>\n",
       "      <th>product_id</th>\n",
       "      <th>qty_ordered</th>\n",
       "      <th>base_cost</th>\n",
       "      <th>price</th>\n",
       "      <th>discount_percent</th>\n",
       "      <th>customer_id</th>\n",
       "      <th>zipcode</th>\n",
       "      <th>longitud_zip</th>\n",
       "      <th>country</th>\n",
       "      <th>region</th>\n",
       "      <th>city</th>\n",
       "    </tr>\n",
       "  </thead>\n",
       "  <tbody>\n",
       "    <tr>\n",
       "      <th>0</th>\n",
       "      <td>000010d95384a6ba3d57dd870e7b337c</td>\n",
       "      <td>65717498f0771a49497d80f11160093c</td>\n",
       "      <td>2017-09-22 15:46:37</td>\n",
       "      <td>5645</td>\n",
       "      <td>1.0</td>\n",
       "      <td>7.4441</td>\n",
       "      <td>10.38</td>\n",
       "      <td>7.0</td>\n",
       "      <td>da5b59745c6a4699dee7684eba901bba</td>\n",
       "      <td>28028</td>\n",
       "      <td>5</td>\n",
       "      <td>Spain</td>\n",
       "      <td>Madrid</td>\n",
       "      <td>Madrid</td>\n",
       "    </tr>\n",
       "    <tr>\n",
       "      <th>1</th>\n",
       "      <td>00001a8fb0bd42b1e16ba731e30cc490</td>\n",
       "      <td>09b538e85ce396ecbb70695f91007830</td>\n",
       "      <td>2018-09-12 21:27:08</td>\n",
       "      <td>28743</td>\n",
       "      <td>2.0</td>\n",
       "      <td>35.3166</td>\n",
       "      <td>43.08</td>\n",
       "      <td>7.0</td>\n",
       "      <td>531a918355010bacbe506243a5f05c30</td>\n",
       "      <td>12194</td>\n",
       "      <td>5</td>\n",
       "      <td>Spain</td>\n",
       "      <td>Comunidad Valenciana</td>\n",
       "      <td>Vall D'alba</td>\n",
       "    </tr>\n",
       "    <tr>\n",
       "      <th>2</th>\n",
       "      <td>0000302bc9b9a670dfcb14381555ff45</td>\n",
       "      <td>bc150db52b5a565d31b1c70969638ca9</td>\n",
       "      <td>2018-11-19 16:36:10</td>\n",
       "      <td>9999</td>\n",
       "      <td>1.0</td>\n",
       "      <td>2.4673</td>\n",
       "      <td>3.29</td>\n",
       "      <td>20.0</td>\n",
       "      <td>e63460a423099250ab43fe0acb370ff5</td>\n",
       "      <td>11340</td>\n",
       "      <td>5</td>\n",
       "      <td>Spain</td>\n",
       "      <td>Andalucia</td>\n",
       "      <td>San Martin Del Tesorillo</td>\n",
       "    </tr>\n",
       "    <tr>\n",
       "      <th>3</th>\n",
       "      <td>000039147df4aacf0aa8b3a552e8ecdb</td>\n",
       "      <td>434cf1eaf255b367ce2d3343bb96b1fe</td>\n",
       "      <td>2017-09-06 12:08:44</td>\n",
       "      <td>68986</td>\n",
       "      <td>1.0</td>\n",
       "      <td>27.3680</td>\n",
       "      <td>33.88</td>\n",
       "      <td>5.0</td>\n",
       "      <td>14e6f6400d1c114d509844be3687cb19</td>\n",
       "      <td>48901</td>\n",
       "      <td>5</td>\n",
       "      <td>Spain</td>\n",
       "      <td>Pais Vasco</td>\n",
       "      <td>Barakaldo</td>\n",
       "    </tr>\n",
       "    <tr>\n",
       "      <th>4</th>\n",
       "      <td>000091029a220c2fdf12700f07f70b1d</td>\n",
       "      <td>f268c24275ad1d887925fca2909e2c2d</td>\n",
       "      <td>2018-09-29 09:45:14</td>\n",
       "      <td>9692</td>\n",
       "      <td>1.0</td>\n",
       "      <td>3.1200</td>\n",
       "      <td>3.81</td>\n",
       "      <td>5.0</td>\n",
       "      <td>872bd419dfb24caf4f996a2cd2b8a9b4</td>\n",
       "      <td>28008</td>\n",
       "      <td>5</td>\n",
       "      <td>Spain</td>\n",
       "      <td>Madrid</td>\n",
       "      <td>Madrid</td>\n",
       "    </tr>\n",
       "  </tbody>\n",
       "</table>\n",
       "</div>"
      ],
      "text/plain": [
       "                            item_id                         num_order  \\\n",
       "0  000010d95384a6ba3d57dd870e7b337c  65717498f0771a49497d80f11160093c   \n",
       "1  00001a8fb0bd42b1e16ba731e30cc490  09b538e85ce396ecbb70695f91007830   \n",
       "2  0000302bc9b9a670dfcb14381555ff45  bc150db52b5a565d31b1c70969638ca9   \n",
       "3  000039147df4aacf0aa8b3a552e8ecdb  434cf1eaf255b367ce2d3343bb96b1fe   \n",
       "4  000091029a220c2fdf12700f07f70b1d  f268c24275ad1d887925fca2909e2c2d   \n",
       "\n",
       "            created_at  product_id  qty_ordered  base_cost  price  \\\n",
       "0  2017-09-22 15:46:37        5645          1.0     7.4441  10.38   \n",
       "1  2018-09-12 21:27:08       28743          2.0    35.3166  43.08   \n",
       "2  2018-11-19 16:36:10        9999          1.0     2.4673   3.29   \n",
       "3  2017-09-06 12:08:44       68986          1.0    27.3680  33.88   \n",
       "4  2018-09-29 09:45:14        9692          1.0     3.1200   3.81   \n",
       "\n",
       "   discount_percent                       customer_id zipcode  longitud_zip  \\\n",
       "0               7.0  da5b59745c6a4699dee7684eba901bba   28028             5   \n",
       "1               7.0  531a918355010bacbe506243a5f05c30   12194             5   \n",
       "2              20.0  e63460a423099250ab43fe0acb370ff5   11340             5   \n",
       "3               5.0  14e6f6400d1c114d509844be3687cb19   48901             5   \n",
       "4               5.0  872bd419dfb24caf4f996a2cd2b8a9b4   28008             5   \n",
       "\n",
       "  country                region                      city  \n",
       "0   Spain                Madrid                    Madrid  \n",
       "1   Spain  Comunidad Valenciana               Vall D'alba  \n",
       "2   Spain             Andalucia  San Martin Del Tesorillo  \n",
       "3   Spain            Pais Vasco                 Barakaldo  \n",
       "4   Spain                Madrid                    Madrid  "
      ]
     },
     "execution_count": 26,
     "metadata": {},
     "output_type": "execute_result"
    }
   ],
   "source": [
    "# Nos deshacemos de los duplicados\n",
    "\n",
    "df_ventas_3 = df_ventas_2.groupby(\n",
    "    \"item_id\", as_index=False\n",
    ").agg(dict_agg)\n",
    "\n",
    "df_ventas_3.head()"
   ]
  },
  {
   "cell_type": "code",
   "execution_count": 27,
   "id": "4b4833c7",
   "metadata": {},
   "outputs": [],
   "source": [
    "#Exportación de ventas_1\n",
    "\n",
    "df_ventas_3.to_csv('df_ventas_1.csv')"
   ]
  }
 ],
 "metadata": {
  "kernelspec": {
   "display_name": "Python 3 (ipykernel)",
   "language": "python",
   "name": "python3"
  },
  "language_info": {
   "codemirror_mode": {
    "name": "ipython",
    "version": 3
   },
   "file_extension": ".py",
   "mimetype": "text/x-python",
   "name": "python",
   "nbconvert_exporter": "python",
   "pygments_lexer": "ipython3",
   "version": "3.10.4"
  }
 },
 "nbformat": 4,
 "nbformat_minor": 5
}
