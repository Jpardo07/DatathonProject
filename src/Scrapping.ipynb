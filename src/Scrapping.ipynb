{
 "cells": [
  {
   "cell_type": "markdown",
   "metadata": {},
   "source": [
    "### Libraries import"
   ]
  },
  {
   "cell_type": "code",
   "execution_count": 27,
   "metadata": {},
   "outputs": [],
   "source": [
    "import pandas as pd # Dataframes management\n",
    "from zipfile import ZipFile  # Files compressed management\n",
    "import os # Files management along OS\n",
    "import re"
   ]
  },
  {
   "cell_type": "code",
   "execution_count": 28,
   "metadata": {},
   "outputs": [],
   "source": [
    "from os import mkdir\n",
    "from os.path import exists"
   ]
  },
  {
   "cell_type": "code",
   "execution_count": 29,
   "metadata": {},
   "outputs": [],
   "source": [
    "from selenium import webdriver # Webscrapping bot\n",
    "from selenium.webdriver.common.by import By\n",
    "from selenium.webdriver.common.keys import Keys"
   ]
  },
  {
   "cell_type": "markdown",
   "metadata": {},
   "source": [
    "### Modules"
   ]
  },
  {
   "cell_type": "code",
   "execution_count": 30,
   "metadata": {},
   "outputs": [],
   "source": [
    "from db import *"
   ]
  },
  {
   "cell_type": "markdown",
   "metadata": {},
   "source": [
    "### Data import"
   ]
  },
  {
   "cell_type": "code",
   "execution_count": 31,
   "metadata": {},
   "outputs": [
    {
     "name": "stdout",
     "output_type": "stream",
     "text": [
      "File Name                                             Modified             Size\n",
      "items_ordered_2years_V2.csv                    2022-02-23 01:28:04    150372498\n",
      "extraction...\n",
      "Done!\n",
      "CSV imported to Pandas successfully\n",
      "Original CSV removed to preserve repo health\n"
     ]
    }
   ],
   "source": [
    "# Specifying the name of the zip file\n",
    "file = \"../Inputs/Modificados - Atmira_Pharma_Visualization/items_ordered_2years_V2.zip\"\n",
    "  \n",
    "# Open the zip file in read mode\n",
    "with ZipFile(file, 'r') as zip: \n",
    "    # List all the contents of the zip file\n",
    "    zip.printdir() \n",
    "  \n",
    "    # Extract all files\n",
    "    print('extraction...') \n",
    "    zip.extractall(\"../Inputs/Modificados - Atmira_Pharma_Visualization\") \n",
    "    print('Done!')\n",
    "\n",
    "#Import CSV to pandas\n",
    "itemsOrdered = pd.read_csv(\"../Inputs/Modificados - Atmira_Pharma_Visualization/items_ordered_2years_V2.csv\")\n",
    "print(\"CSV imported to Pandas successfully\")\n",
    "\n",
    "# Remove uncompressed CSV file\n",
    "os.remove(\"../Inputs/Modificados - Atmira_Pharma_Visualization/items_ordered_2years_V2.csv\")\n",
    "print(\"Original CSV removed to preserve repo health\")"
   ]
  },
  {
   "cell_type": "code",
   "execution_count": 32,
   "metadata": {},
   "outputs": [
    {
     "data": {
      "text/html": [
       "<div>\n",
       "<style scoped>\n",
       "    .dataframe tbody tr th:only-of-type {\n",
       "        vertical-align: middle;\n",
       "    }\n",
       "\n",
       "    .dataframe tbody tr th {\n",
       "        vertical-align: top;\n",
       "    }\n",
       "\n",
       "    .dataframe thead th {\n",
       "        text-align: right;\n",
       "    }\n",
       "</style>\n",
       "<table border=\"1\" class=\"dataframe\">\n",
       "  <thead>\n",
       "    <tr style=\"text-align: right;\">\n",
       "      <th></th>\n",
       "      <th>num_order</th>\n",
       "      <th>item_id</th>\n",
       "      <th>created_at</th>\n",
       "      <th>product_id</th>\n",
       "      <th>qty_ordered</th>\n",
       "      <th>base_cost</th>\n",
       "      <th>price</th>\n",
       "      <th>discount_percent</th>\n",
       "      <th>customer_id</th>\n",
       "      <th>city</th>\n",
       "      <th>zipcode</th>\n",
       "    </tr>\n",
       "  </thead>\n",
       "  <tbody>\n",
       "    <tr>\n",
       "      <th>0</th>\n",
       "      <td>562ba4ba9aaf2a1e926842deca19271d</td>\n",
       "      <td>2bca87c2ab10b07feef290a9be47f316</td>\n",
       "      <td>2017-01-01 00:20:33</td>\n",
       "      <td>6409.0</td>\n",
       "      <td>1.0</td>\n",
       "      <td>13.4204</td>\n",
       "      <td>17.17</td>\n",
       "      <td>8.0</td>\n",
       "      <td>50d7f99947b472cc889d58845b9d23e2</td>\n",
       "      <td>Valencia</td>\n",
       "      <td>46019</td>\n",
       "    </tr>\n",
       "    <tr>\n",
       "      <th>1</th>\n",
       "      <td>562ba4ba9aaf2a1e926842deca19271d</td>\n",
       "      <td>53e12ac4b579f0c4b1c4f77d50bf8792</td>\n",
       "      <td>2017-01-01 00:20:33</td>\n",
       "      <td>5133.0</td>\n",
       "      <td>1.0</td>\n",
       "      <td>18.5351</td>\n",
       "      <td>22.68</td>\n",
       "      <td>8.0</td>\n",
       "      <td>50d7f99947b472cc889d58845b9d23e2</td>\n",
       "      <td>Valencia</td>\n",
       "      <td>46019</td>\n",
       "    </tr>\n",
       "    <tr>\n",
       "      <th>2</th>\n",
       "      <td>562ba4ba9aaf2a1e926842deca19271d</td>\n",
       "      <td>d19d6df5cd6a1e741408b70aa2767bf4</td>\n",
       "      <td>2017-01-01 00:20:33</td>\n",
       "      <td>5125.0</td>\n",
       "      <td>1.0</td>\n",
       "      <td>18.5260</td>\n",
       "      <td>22.68</td>\n",
       "      <td>8.0</td>\n",
       "      <td>50d7f99947b472cc889d58845b9d23e2</td>\n",
       "      <td>Valencia</td>\n",
       "      <td>46019</td>\n",
       "    </tr>\n",
       "  </tbody>\n",
       "</table>\n",
       "</div>"
      ],
      "text/plain": [
       "                          num_order                           item_id  \\\n",
       "0  562ba4ba9aaf2a1e926842deca19271d  2bca87c2ab10b07feef290a9be47f316   \n",
       "1  562ba4ba9aaf2a1e926842deca19271d  53e12ac4b579f0c4b1c4f77d50bf8792   \n",
       "2  562ba4ba9aaf2a1e926842deca19271d  d19d6df5cd6a1e741408b70aa2767bf4   \n",
       "\n",
       "            created_at  product_id  qty_ordered  base_cost  price  \\\n",
       "0  2017-01-01 00:20:33      6409.0          1.0    13.4204  17.17   \n",
       "1  2017-01-01 00:20:33      5133.0          1.0    18.5351  22.68   \n",
       "2  2017-01-01 00:20:33      5125.0          1.0    18.5260  22.68   \n",
       "\n",
       "   discount_percent                       customer_id      city zipcode  \n",
       "0               8.0  50d7f99947b472cc889d58845b9d23e2  Valencia   46019  \n",
       "1               8.0  50d7f99947b472cc889d58845b9d23e2  Valencia   46019  \n",
       "2               8.0  50d7f99947b472cc889d58845b9d23e2  Valencia   46019  "
      ]
     },
     "execution_count": 32,
     "metadata": {},
     "output_type": "execute_result"
    }
   ],
   "source": [
    "itemsOrdered.head(3)"
   ]
  },
  {
   "cell_type": "code",
   "execution_count": 33,
   "metadata": {},
   "outputs": [],
   "source": [
    "del zip"
   ]
  },
  {
   "cell_type": "markdown",
   "metadata": {},
   "source": [
    "### Arreglos para facilitar el webscrapping"
   ]
  },
  {
   "cell_type": "code",
   "execution_count": 34,
   "metadata": {},
   "outputs": [],
   "source": [
    "itemsOrdered[\"city\"].replace(to_replace={'San Vicente del Raspeig':'Sant Vicent del Raspeig'}, inplace=True)"
   ]
  },
  {
   "cell_type": "code",
   "execution_count": 35,
   "metadata": {},
   "outputs": [],
   "source": [
    "itemsOrdered.loc[itemsOrdered['zipcode'].eq('30139') & itemsOrdered['city'].eq('Murcia'), \"city\"] = \"EL RAAL\""
   ]
  },
  {
   "cell_type": "code",
   "execution_count": 36,
   "metadata": {},
   "outputs": [],
   "source": [
    "itemsOrdered['zipcode'] = itemsOrdered['zipcode'].replace(\"29039\", \"28039\")"
   ]
  },
  {
   "cell_type": "code",
   "execution_count": 37,
   "metadata": {},
   "outputs": [],
   "source": [
    "itemsOrdered['zipcode'] = itemsOrdered['zipcode'].replace(\"29039\", \"28039\")"
   ]
  },
  {
   "cell_type": "code",
   "execution_count": 38,
   "metadata": {},
   "outputs": [],
   "source": [
    "# itemsOrdered[\"city\"].replace(to_replace={'Pamplona':'Pamplona/Iruna'}, inplace=True)"
   ]
  },
  {
   "cell_type": "code",
   "execution_count": 39,
   "metadata": {},
   "outputs": [],
   "source": [
    "# itemsOrdered[\"city\"].replace(to_replace={'Aravaca-Madrid':'Madrid'}, inplace=True)"
   ]
  },
  {
   "cell_type": "code",
   "execution_count": 40,
   "metadata": {},
   "outputs": [],
   "source": [
    "itemsOrdered.loc[itemsOrdered['zipcode'].eq('33195') & itemsOrdered['city'].eq('Oviedo '), \"city\"] = \"Morente\""
   ]
  },
  {
   "cell_type": "markdown",
   "metadata": {},
   "source": [
    "### USO DE WEBSCRAPPING PARA CÓDIGO POSTAL"
   ]
  },
  {
   "cell_type": "markdown",
   "metadata": {},
   "source": [
    "Creación de Base de Datos para almacenamiento de resultados formateados del WebScrapping"
   ]
  },
  {
   "cell_type": "code",
   "execution_count": 41,
   "metadata": {},
   "outputs": [],
   "source": [
    "def IntroDB():\n",
    "    try:\n",
    "        pathDB = \"../databases/\"\n",
    "        nameDB= \"scrapedZips.db\"\n",
    "        if exists(pathDB):\n",
    "            print(f\"Carpeta {pathDB} encontrada\")\n",
    "        else:\n",
    "            mkdir(pathDB)\n",
    "            print (f\"Creada carpeta {pathDB}\")\n",
    "    except OSError:\n",
    "        print (f\"Creación de carpeta {pathDB} falló\")\n",
    "        \n",
    "    if exists(f\"{pathDB}{nameDB}\"):\n",
    "        print(\"Database existe\")\n",
    "        con, cur = SqlConnection(f\"{pathDB}{nameDB}\")\n",
    "        return con, cur\n",
    "    else:\n",
    "        print(\"Database no existe\")\n",
    "        CreateCon(f\"{pathDB}{nameDB}\")\n",
    "        con, cur = SqlConnection(f\"{pathDB}{nameDB}\")\n",
    "        PrepareCon(con, cur, option=\"insert\",\n",
    "            values=(\"Test\",\"Test\",\"Test\",\"Test\"))\n",
    "        return con, cur\n"
   ]
  },
  {
   "cell_type": "code",
   "execution_count": 42,
   "metadata": {},
   "outputs": [
    {
     "name": "stdout",
     "output_type": "stream",
     "text": [
      "Carpeta ../databases/ encontrada\n",
      "Database existe\n",
      "Conexión establecida\n"
     ]
    }
   ],
   "source": [
    "con, cur = IntroDB()"
   ]
  },
  {
   "cell_type": "code",
   "execution_count": 43,
   "metadata": {},
   "outputs": [
    {
     "data": {
      "text/plain": [
       "'\\nCheck the next query if something perturbe your mind\\nSELECT * FROM `sqlite_sequence`;\\n'"
      ]
     },
     "execution_count": 43,
     "metadata": {},
     "output_type": "execute_result"
    }
   ],
   "source": [
    "try:\n",
    "    if GetThings(cur, selection=\"Country,Region,City,Zipcode\", where=[\"ID\", 1], limit=1)[0][0] == \"Test\":\n",
    "        PrepareCon(con,cur,where=[\"ID\",1],option=\"delete\")\n",
    "        cur.execute(\"UPDATE `sqlite_sequence` SET `seq` = 0 WHERE `name` = 'ZipsInfo';\")\n",
    "except IndexError:\n",
    "    pass\n",
    "\n",
    "'''\n",
    "Check the next query if something perturbe your mind\n",
    "SELECT * FROM `sqlite_sequence`;\n",
    "'''"
   ]
  },
  {
   "cell_type": "code",
   "execution_count": 44,
   "metadata": {},
   "outputs": [
    {
     "data": {
      "text/plain": [
       "[('Spain', 'Comunidad Valenciana', 'Valencia', '46019')]"
      ]
     },
     "execution_count": 44,
     "metadata": {},
     "output_type": "execute_result"
    }
   ],
   "source": [
    "GetThings(cur, selection=\"Country,Region,City,Zipcode\", where=[\"ID\", 1], limit=1)"
   ]
  },
  {
   "cell_type": "markdown",
   "metadata": {},
   "source": [
    "A continuación se genera una lista compuesta de tuplas compuestas de la siguiente forma: (\"Ciudad\", \"Zipcode\")"
   ]
  },
  {
   "cell_type": "code",
   "execution_count": 45,
   "metadata": {},
   "outputs": [],
   "source": [
    "rawDataZipcode = list(zip(itemsOrdered[\"city\"].tolist(), itemsOrdered[\"zipcode\"].tolist()))\n",
    "rawDataZipcode = rawDataZipcode[:int(len(rawDataZipcode)/30)]"
   ]
  },
  {
   "cell_type": "code",
   "execution_count": 46,
   "metadata": {},
   "outputs": [
    {
     "data": {
      "text/plain": [
       "('Valencia', '46019')"
      ]
     },
     "execution_count": 46,
     "metadata": {},
     "output_type": "execute_result"
    }
   ],
   "source": [
    "rawDataZipcode[0]"
   ]
  },
  {
   "cell_type": "markdown",
   "metadata": {},
   "source": [
    "**Funciones destacadas**"
   ]
  },
  {
   "cell_type": "markdown",
   "metadata": {},
   "source": [
    "Función que limpia zipcodes"
   ]
  },
  {
   "cell_type": "code",
   "execution_count": 47,
   "metadata": {},
   "outputs": [],
   "source": [
    "#Limpieza de zipcodes con RegEx\n",
    "def num_guion(string):\n",
    "    \"\"\" Get a string with the numbers and hyphens of another string\n",
    "    \n",
    "    Args:\n",
    "        df: string used to extract the string with numbers abd hyphens\n",
    "\n",
    "    Returns:\n",
    "        df: the string with numbers and hyphens\n",
    "    \"\"\"\n",
    "    aux = re.match(\"([\\d-]+)\", str(string))\n",
    "    try:\n",
    "        return str(aux.group())\n",
    "    except:\n",
    "        return string\n",
    "\n",
    "\n",
    "itemsOrdered[\"zipcode\"] = itemsOrdered[\"zipcode\"].apply(lambda x: num_guion(x))"
   ]
  },
  {
   "cell_type": "markdown",
   "metadata": {},
   "source": [
    "Función que limpia los acentos con el fin de homogeneizar"
   ]
  },
  {
   "cell_type": "code",
   "execution_count": 48,
   "metadata": {},
   "outputs": [],
   "source": [
    "def AcentosLimpiador(text):\n",
    "\tacentos = {'á': 'a', 'é': 'e', 'í': 'i', 'ó': 'o', 'ú': 'u', 'Á': 'A', 'E': 'E', 'Í': 'I', 'Ó': 'O', 'Ú': 'U'}\n",
    "\tfor ele in acentos:\n",
    "\t\tif ele in text:\n",
    "\t\t\ttext = text.replace(ele, acentos[ele])\n",
    "\treturn text"
   ]
  },
  {
   "cell_type": "markdown",
   "metadata": {},
   "source": [
    "Función que formatea los resultados del webscrapping de forma adecuada a los requerimientos necesarios"
   ]
  },
  {
   "cell_type": "code",
   "execution_count": 49,
   "metadata": {},
   "outputs": [],
   "source": [
    "def zipCodeManipulation(city, zipcode, queryResult=\"\", saved = False):\n",
    "  \n",
    "    # This conditional checks if the zipcode info was scrapped and stored succesfully\n",
    "    if saved == False:\n",
    "\n",
    "        listTestingZipcode = queryResult.split(\"\\n\")\n",
    "        indexMatchRegex = list(map(lambda x: [(m.start(0), m.end(0)) for m in re.finditer(r\"[a-z][A-Z0-9]\", x)], listTestingZipcode))\n",
    "\n",
    "        resultScrapClean = []\n",
    "        for pas,resultScrap in enumerate(listTestingZipcode):\n",
    "            for pos,ele in enumerate(indexMatchRegex[pas]):\n",
    "                if len(indexMatchRegex[pas])==2:\n",
    "                    if pos ==0:\n",
    "                        txt = resultScrap[:ele[0]+1]+\",\"+resultScrap[ele[1]-1:]\n",
    "                    elif pos ==1:\n",
    "                        txt = txt[:ele[0]+2]+\",\"+txt[ele[1]:]\n",
    "                        resultScrapClean.append(txt)\n",
    "                elif len(indexMatchRegex[pas])==3:\n",
    "                    if pos ==0:\n",
    "                        txt = resultScrap[:ele[0]+1]+\",\"+resultScrap[ele[1]-1:]\n",
    "                    elif pos ==1:\n",
    "                        txt = txt[:ele[0]+2]+\",\"+txt[ele[1]:]\n",
    "                    elif pos ==2:\n",
    "                        txt = txt[:ele[0]+3]+\",\"+txt[ele[1]+1:]\n",
    "                        resultScrapClean.append(txt)\n",
    "\n",
    "        resultScrapListed = [element.split(\",\") for element in resultScrapClean]\n",
    "        resultScrapRearr = [(element[0], element[1], element[-2], element[-1]) for element in resultScrapListed]\n",
    "\n",
    "        resultZip = []\n",
    "        for element in resultScrapRearr:\n",
    "            if (AcentosLimpiador(element[2].lower()).rstrip().__contains__(AcentosLimpiador(city.lower()).rstrip())):\n",
    "                resultZip.append(element)\n",
    "                break   \n",
    "        resultZip = resultZip[0]\n",
    "\n",
    "    elif saved == True:\n",
    "        resultZip = GetThings(cur, selection=\"Country,Region,City,Zipcode\", where=[\"Zipcode\", zipcode], limit=1, simplify = True)\n",
    "\n",
    "    return resultZip"
   ]
  },
  {
   "cell_type": "markdown",
   "metadata": {},
   "source": [
    "**Webscrapping!**"
   ]
  },
  {
   "cell_type": "code",
   "execution_count": 50,
   "metadata": {},
   "outputs": [
    {
     "ename": "Exception",
     "evalue": "El fallo se ha producido con ciudad: CARIDAD, LA (EL FRANCO), zipcode: 33750",
     "output_type": "error",
     "traceback": [
      "\u001b[0;31m---------------------------------------------------------------------------\u001b[0m",
      "\u001b[0;31mIndexError\u001b[0m                                Traceback (most recent call last)",
      "\u001b[1;32m/var/home/alex/Documentos/Repos/Online/DatathonProject/src/Scrapping.ipynb Cell 36'\u001b[0m in \u001b[0;36m<module>\u001b[0;34m\u001b[0m\n\u001b[1;32m     <a href='vscode-notebook-cell:/var/home/alex/Documentos/Repos/Online/DatathonProject/src/Scrapping.ipynb#ch0000022?line=18'>19</a>\u001b[0m     saveGeoInfo \u001b[39m=\u001b[39m getGeoInfo\u001b[39m.\u001b[39mtext\n\u001b[0;32m---> <a href='vscode-notebook-cell:/var/home/alex/Documentos/Repos/Online/DatathonProject/src/Scrapping.ipynb#ch0000022?line=19'>20</a>\u001b[0m     zipCodeDef \u001b[39m=\u001b[39m zipCodeManipulation(element[\u001b[39m0\u001b[39;49m], element[\u001b[39m1\u001b[39;49m], queryResult\u001b[39m=\u001b[39;49msaveGeoInfo)\n\u001b[1;32m     <a href='vscode-notebook-cell:/var/home/alex/Documentos/Repos/Online/DatathonProject/src/Scrapping.ipynb#ch0000022?line=20'>21</a>\u001b[0m \u001b[39melse\u001b[39;00m:\n",
      "\u001b[1;32m/var/home/alex/Documentos/Repos/Online/DatathonProject/src/Scrapping.ipynb Cell 34'\u001b[0m in \u001b[0;36mzipCodeManipulation\u001b[0;34m(city, zipcode, queryResult, saved)\u001b[0m\n\u001b[1;32m     <a href='vscode-notebook-cell:/var/home/alex/Documentos/Repos/Online/DatathonProject/src/Scrapping.ipynb#ch0000020?line=33'>34</a>\u001b[0m             \u001b[39mbreak\u001b[39;00m   \n\u001b[0;32m---> <a href='vscode-notebook-cell:/var/home/alex/Documentos/Repos/Online/DatathonProject/src/Scrapping.ipynb#ch0000020?line=34'>35</a>\u001b[0m     resultZip \u001b[39m=\u001b[39m resultZip[\u001b[39m0\u001b[39;49m]\n\u001b[1;32m     <a href='vscode-notebook-cell:/var/home/alex/Documentos/Repos/Online/DatathonProject/src/Scrapping.ipynb#ch0000020?line=36'>37</a>\u001b[0m \u001b[39melif\u001b[39;00m saved \u001b[39m==\u001b[39m \u001b[39mTrue\u001b[39;00m:\n",
      "\u001b[0;31mIndexError\u001b[0m: list index out of range",
      "\nDuring handling of the above exception, another exception occurred:\n",
      "\u001b[0;31mException\u001b[0m                                 Traceback (most recent call last)",
      "\u001b[1;32m/var/home/alex/Documentos/Repos/Online/DatathonProject/src/Scrapping.ipynb Cell 36'\u001b[0m in \u001b[0;36m<module>\u001b[0;34m\u001b[0m\n\u001b[1;32m     <a href='vscode-notebook-cell:/var/home/alex/Documentos/Repos/Online/DatathonProject/src/Scrapping.ipynb#ch0000022?line=28'>29</a>\u001b[0m \u001b[39mexcept\u001b[39;00m \u001b[39mIndexError\u001b[39;00m:\n\u001b[1;32m     <a href='vscode-notebook-cell:/var/home/alex/Documentos/Repos/Online/DatathonProject/src/Scrapping.ipynb#ch0000022?line=29'>30</a>\u001b[0m     driver\u001b[39m.\u001b[39mclose()\n\u001b[0;32m---> <a href='vscode-notebook-cell:/var/home/alex/Documentos/Repos/Online/DatathonProject/src/Scrapping.ipynb#ch0000022?line=30'>31</a>\u001b[0m     \u001b[39mraise\u001b[39;00m \u001b[39mException\u001b[39;00m(\u001b[39mf\u001b[39m\u001b[39m\"\u001b[39m\u001b[39mEl fallo se ha producido con ciudad: \u001b[39m\u001b[39m{\u001b[39;00melement[\u001b[39m0\u001b[39m]\u001b[39m}\u001b[39;00m\u001b[39m, zipcode: \u001b[39m\u001b[39m{\u001b[39;00melement[\u001b[39m1\u001b[39m]\u001b[39m}\u001b[39;00m\u001b[39m\"\u001b[39m)\n",
      "\u001b[0;31mException\u001b[0m: El fallo se ha producido con ciudad: CARIDAD, LA (EL FRANCO), zipcode: 33750"
     ]
    }
   ],
   "source": [
    "try:\n",
    "    \n",
    "    driver = webdriver.Firefox()\n",
    "    \n",
    "    driver.get(\"https://worldpostalcode.com/lookup\")\n",
    "    driver.set_page_load_timeout(5)\n",
    "\n",
    "    for element in rawDataZipcode:\n",
    "\n",
    "        if GetThings(cur, selection=\"Zipcode\", where=[\"Zipcode\", element[1]], limit=1, simplify=True) == None:\n",
    "            insertZipcode =driver.find_element(By.ID,\"search\")\n",
    "            insertZipcode.clear()\n",
    "            insertZipcode.send_keys(element[1])\n",
    "            clickButtonZipcode =driver.find_element(By.CLASS_NAME,\"submit\")\n",
    "            clickButtonZipcode.click()\n",
    "            driver.set_page_load_timeout(5)\n",
    "\n",
    "            getGeoInfo = driver.find_element(By.CLASS_NAME,\"search_units\")\n",
    "            saveGeoInfo = getGeoInfo.text\n",
    "            zipCodeDef = zipCodeManipulation(element[0], element[1], queryResult=saveGeoInfo)\n",
    "        else:\n",
    "            zipCodeDef = zipCodeManipulation(city=element[0], zipcode=element[1], saved = True)\n",
    "\n",
    "        PrepareCon(con, cur, values=zipCodeDef, option=\"insert\", verbose=False)\n",
    "\n",
    "    driver.close()\n",
    "    con.close()\n",
    "\n",
    "except IndexError:\n",
    "    driver.close()\n",
    "    raise Exception(f\"El fallo se ha producido con ciudad: {element[0]}, zipcode: {element[1]}\")"
   ]
  },
  {
   "cell_type": "markdown",
   "metadata": {},
   "source": [
    "**Comprobaciones del scrapping y formateo posterior realizado**"
   ]
  },
  {
   "cell_type": "code",
   "execution_count": null,
   "metadata": {},
   "outputs": [
    {
     "data": {
      "text/plain": [
       "False"
      ]
     },
     "execution_count": 22,
     "metadata": {},
     "output_type": "execute_result"
    }
   ],
   "source": [
    "AcentosLimpiador(\"Requena\".lower()) == AcentosLimpiador(\"Requena \".lower())"
   ]
  },
  {
   "cell_type": "markdown",
   "metadata": {},
   "source": [
    "**Transformación del scrapeo formateado a dataframe de Pandas**"
   ]
  },
  {
   "cell_type": "code",
   "execution_count": null,
   "metadata": {},
   "outputs": [
    {
     "data": {
      "text/html": [
       "<div>\n",
       "<style scoped>\n",
       "    .dataframe tbody tr th:only-of-type {\n",
       "        vertical-align: middle;\n",
       "    }\n",
       "\n",
       "    .dataframe tbody tr th {\n",
       "        vertical-align: top;\n",
       "    }\n",
       "\n",
       "    .dataframe thead th {\n",
       "        text-align: right;\n",
       "    }\n",
       "</style>\n",
       "<table border=\"1\" class=\"dataframe\">\n",
       "  <thead>\n",
       "    <tr style=\"text-align: right;\">\n",
       "      <th></th>\n",
       "      <th>Country</th>\n",
       "      <th>Region</th>\n",
       "      <th>City</th>\n",
       "      <th>Zipcode</th>\n",
       "    </tr>\n",
       "  </thead>\n",
       "  <tbody>\n",
       "  </tbody>\n",
       "</table>\n",
       "</div>"
      ],
      "text/plain": [
       "Empty DataFrame\n",
       "Columns: [Country, Region, City, Zipcode]\n",
       "Index: []"
      ]
     },
     "execution_count": 28,
     "metadata": {},
     "output_type": "execute_result"
    }
   ],
   "source": [
    "asd = pd.DataFrame(masterScrapping, columns=[\"Country\",\"Region\",\"City\",\"Zipcode\"])\n",
    "asd.head(3)"
   ]
  }
 ],
 "metadata": {
  "interpreter": {
   "hash": "f876c6d03db2a1b556a458eeb23dadf5ec8e4266298f30cdd70e3128597d8f66"
  },
  "kernelspec": {
   "display_name": "Python 3.10.2 ('penv': venv)",
   "language": "python",
   "name": "python3"
  },
  "language_info": {
   "codemirror_mode": {
    "name": "ipython",
    "version": 3
   },
   "file_extension": ".py",
   "mimetype": "text/x-python",
   "name": "python",
   "nbconvert_exporter": "python",
   "pygments_lexer": "ipython3",
   "version": "3.10.2"
  },
  "orig_nbformat": 4
 },
 "nbformat": 4,
 "nbformat_minor": 2
}
