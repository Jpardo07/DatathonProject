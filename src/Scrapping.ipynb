{
 "cells": [
  {
   "cell_type": "markdown",
   "metadata": {},
   "source": [
    "### Libraries import"
   ]
  },
  {
   "cell_type": "code",
   "execution_count": 1,
   "metadata": {},
   "outputs": [],
   "source": [
    "import pandas as pd # Dataframes management\n",
    "from zipfile import ZipFile  # Files compressed management\n",
    "import os # Files management along OS\n",
    "import re"
   ]
  },
  {
   "cell_type": "code",
   "execution_count": 2,
   "metadata": {},
   "outputs": [],
   "source": [
    "from os import mkdir\n",
    "from os.path import exists"
   ]
  },
  {
   "cell_type": "code",
   "execution_count": 3,
   "metadata": {},
   "outputs": [],
   "source": [
    "from selenium import webdriver # Webscrapping bot\n",
    "from selenium.webdriver.common.by import By\n",
    "from selenium.webdriver.common.keys import Keys\n",
    "from selenium.common.exceptions import NoSuchElementException\n",
    "from selenium.webdriver.firefox.options import Options"
   ]
  },
  {
   "cell_type": "code",
   "execution_count": 4,
   "metadata": {},
   "outputs": [],
   "source": [
    "import nltk\n",
    "from nltk.tokenize import word_tokenize, sent_tokenize\n",
    "from nltk.corpus import stopwords"
   ]
  },
  {
   "cell_type": "code",
   "execution_count": 5,
   "metadata": {},
   "outputs": [],
   "source": [
    "import logging\n",
    "import datetime\n",
    "import sys"
   ]
  },
  {
   "cell_type": "markdown",
   "metadata": {},
   "source": [
    "### Modules"
   ]
  },
  {
   "cell_type": "code",
   "execution_count": 6,
   "metadata": {},
   "outputs": [],
   "source": [
    "from db import *"
   ]
  },
  {
   "cell_type": "markdown",
   "metadata": {},
   "source": [
    "### Data import"
   ]
  },
  {
   "cell_type": "code",
   "execution_count": 7,
   "metadata": {},
   "outputs": [
    {
     "name": "stdout",
     "output_type": "stream",
     "text": [
      "File Name                                             Modified             Size\n",
      "items_ordered_2years_V2.csv                    2022-02-23 01:28:04    150372498\n",
      "extraction...\n",
      "Done!\n",
      "CSV imported to Pandas successfully\n",
      "Original CSV removed to preserve repo health\n"
     ]
    }
   ],
   "source": [
    "# Specifying the name of the zip file\n",
    "fileZIP = \"/items_ordered_2years_V2.zip\"\n",
    "fileCSV = \"/items_ordered_2years_V2.csv\"\n",
    "\n",
    "path = \"../Inputs/Modificados - Atmira_Pharma_Visualization\"\n",
    "  \n",
    "# Open the zip file in read mode\n",
    "with ZipFile(f\"{path}{fileZIP}\", 'r') as zip: \n",
    "    # List all the contents of the zip file\n",
    "    zip.printdir() \n",
    "  \n",
    "    # Extract all files\n",
    "    print('extraction...') \n",
    "    zip.extractall(path) \n",
    "    print('Done!')\n",
    "\n",
    "#Import CSV to pandas\n",
    "itemsOrdered = pd.read_csv(f\"{path}{fileCSV}\")\n",
    "print(\"CSV imported to Pandas successfully\")\n",
    "\n",
    "# Remove uncompressed CSV file\n",
    "os.remove(f\"{path}{fileCSV}\")\n",
    "print(\"Original CSV removed to preserve repo health\")"
   ]
  },
  {
   "cell_type": "code",
   "execution_count": 8,
   "metadata": {},
   "outputs": [
    {
     "data": {
      "text/html": [
       "<div>\n",
       "<style scoped>\n",
       "    .dataframe tbody tr th:only-of-type {\n",
       "        vertical-align: middle;\n",
       "    }\n",
       "\n",
       "    .dataframe tbody tr th {\n",
       "        vertical-align: top;\n",
       "    }\n",
       "\n",
       "    .dataframe thead th {\n",
       "        text-align: right;\n",
       "    }\n",
       "</style>\n",
       "<table border=\"1\" class=\"dataframe\">\n",
       "  <thead>\n",
       "    <tr style=\"text-align: right;\">\n",
       "      <th></th>\n",
       "      <th>num_order</th>\n",
       "      <th>item_id</th>\n",
       "      <th>created_at</th>\n",
       "      <th>product_id</th>\n",
       "      <th>qty_ordered</th>\n",
       "      <th>base_cost</th>\n",
       "      <th>price</th>\n",
       "      <th>discount_percent</th>\n",
       "      <th>customer_id</th>\n",
       "      <th>city</th>\n",
       "      <th>zipcode</th>\n",
       "    </tr>\n",
       "  </thead>\n",
       "  <tbody>\n",
       "    <tr>\n",
       "      <th>0</th>\n",
       "      <td>562ba4ba9aaf2a1e926842deca19271d</td>\n",
       "      <td>2bca87c2ab10b07feef290a9be47f316</td>\n",
       "      <td>2017-01-01 00:20:33</td>\n",
       "      <td>6409.0</td>\n",
       "      <td>1.0</td>\n",
       "      <td>13.4204</td>\n",
       "      <td>17.17</td>\n",
       "      <td>8.0</td>\n",
       "      <td>50d7f99947b472cc889d58845b9d23e2</td>\n",
       "      <td>Valencia</td>\n",
       "      <td>46019</td>\n",
       "    </tr>\n",
       "    <tr>\n",
       "      <th>1</th>\n",
       "      <td>562ba4ba9aaf2a1e926842deca19271d</td>\n",
       "      <td>53e12ac4b579f0c4b1c4f77d50bf8792</td>\n",
       "      <td>2017-01-01 00:20:33</td>\n",
       "      <td>5133.0</td>\n",
       "      <td>1.0</td>\n",
       "      <td>18.5351</td>\n",
       "      <td>22.68</td>\n",
       "      <td>8.0</td>\n",
       "      <td>50d7f99947b472cc889d58845b9d23e2</td>\n",
       "      <td>Valencia</td>\n",
       "      <td>46019</td>\n",
       "    </tr>\n",
       "    <tr>\n",
       "      <th>2</th>\n",
       "      <td>562ba4ba9aaf2a1e926842deca19271d</td>\n",
       "      <td>d19d6df5cd6a1e741408b70aa2767bf4</td>\n",
       "      <td>2017-01-01 00:20:33</td>\n",
       "      <td>5125.0</td>\n",
       "      <td>1.0</td>\n",
       "      <td>18.5260</td>\n",
       "      <td>22.68</td>\n",
       "      <td>8.0</td>\n",
       "      <td>50d7f99947b472cc889d58845b9d23e2</td>\n",
       "      <td>Valencia</td>\n",
       "      <td>46019</td>\n",
       "    </tr>\n",
       "  </tbody>\n",
       "</table>\n",
       "</div>"
      ],
      "text/plain": [
       "                          num_order                           item_id  \\\n",
       "0  562ba4ba9aaf2a1e926842deca19271d  2bca87c2ab10b07feef290a9be47f316   \n",
       "1  562ba4ba9aaf2a1e926842deca19271d  53e12ac4b579f0c4b1c4f77d50bf8792   \n",
       "2  562ba4ba9aaf2a1e926842deca19271d  d19d6df5cd6a1e741408b70aa2767bf4   \n",
       "\n",
       "            created_at  product_id  qty_ordered  base_cost  price  \\\n",
       "0  2017-01-01 00:20:33      6409.0          1.0    13.4204  17.17   \n",
       "1  2017-01-01 00:20:33      5133.0          1.0    18.5351  22.68   \n",
       "2  2017-01-01 00:20:33      5125.0          1.0    18.5260  22.68   \n",
       "\n",
       "   discount_percent                       customer_id      city zipcode  \n",
       "0               8.0  50d7f99947b472cc889d58845b9d23e2  Valencia   46019  \n",
       "1               8.0  50d7f99947b472cc889d58845b9d23e2  Valencia   46019  \n",
       "2               8.0  50d7f99947b472cc889d58845b9d23e2  Valencia   46019  "
      ]
     },
     "execution_count": 8,
     "metadata": {},
     "output_type": "execute_result"
    }
   ],
   "source": [
    "itemsOrdered.head(3)"
   ]
  },
  {
   "cell_type": "code",
   "execution_count": 9,
   "metadata": {},
   "outputs": [
    {
     "data": {
      "text/plain": [
       "(321671, 11)"
      ]
     },
     "execution_count": 9,
     "metadata": {},
     "output_type": "execute_result"
    }
   ],
   "source": [
    "itemsOrdered.shape"
   ]
  },
  {
   "cell_type": "code",
   "execution_count": 10,
   "metadata": {},
   "outputs": [],
   "source": [
    "del zip"
   ]
  },
  {
   "cell_type": "markdown",
   "metadata": {},
   "source": [
    "### Arreglos para facilitar el webscrapping"
   ]
  },
  {
   "cell_type": "code",
   "execution_count": 11,
   "metadata": {},
   "outputs": [],
   "source": [
    "%%capture\n",
    "'''\n",
    "Temas Portugueses\n",
    "itemsOrdered['zipcode'] = itemsOrdered['zipcode'].replace(\"4575-049\", \"4575-001\")\n",
    "itemsOrdered['zipcode'] = itemsOrdered['zipcode'].replace(\"1750\", \"1750-001\")\n",
    "'''"
   ]
  },
  {
   "cell_type": "code",
   "execution_count": 12,
   "metadata": {},
   "outputs": [],
   "source": [
    "\n",
    "itemsOrdered.loc[itemsOrdered['zipcode'].eq('30139') & itemsOrdered['city'].eq('Murcia'), \"city\"] = \"EL RAAL\"\n",
    "itemsOrdered['zipcode'] = itemsOrdered['zipcode'].replace(\"29039\", \"28039\")\n",
    "itemsOrdered.loc[itemsOrdered['zipcode'].eq('33195') & itemsOrdered['city'].eq('Oviedo '), \"city\"] = \"Morente\"\n",
    "itemsOrdered[\"city\"].replace(to_replace={'Cangas Del Narcea':\"Cerezaliz\"}, inplace=True)\n",
    "itemsOrdered['zipcode'] = itemsOrdered['zipcode'].replace(\"O88oo\", \"08800\")\n",
    "itemsOrdered.loc[itemsOrdered['zipcode'].eq('43890') & itemsOrdered['city'].eq('TARRAGONA'), \"city\"] = \"Hospitalet\"\n",
    "itemsOrdered.loc[itemsOrdered['zipcode'].eq('07700') & itemsOrdered['city'].eq('MAHON'), \"city\"] = \"Grau\"\n",
    "itemsOrdered['zipcode'] = itemsOrdered['zipcode'].replace(\"47021\", \"46021\")\n",
    "itemsOrdered.loc[itemsOrdered['zipcode'].eq('33405'), \"city\"] = \"Raices Nuevo\"\n",
    "itemsOrdered.loc[itemsOrdered['zipcode'].eq('29720') & itemsOrdered['city'].eq('MALAGA'), \"city\"] = \"La Arana\"\n",
    "itemsOrdered.loc[itemsOrdered['zipcode'].eq('08222'), \"city\"] = \"Terrassa\"\n",
    "itemsOrdered.loc[itemsOrdered['zipcode'].eq('03195'), \"city\"] = \"Los Arenales Del Sol\"\n",
    "itemsOrdered.loc[itemsOrdered['zipcode'].eq('08780'), \"city\"] = \"Palleja\"\n",
    "itemsOrdered.loc[itemsOrdered['zipcode'].eq('33405'), \"city\"] = \"Raices Nuevo\"\n",
    "itemsOrdered['zipcode'] = itemsOrdered['zipcode'].replace(\"347007\", \"37007\")\n",
    "itemsOrdered.loc[itemsOrdered['zipcode'].eq('36194'), \"city\"] = \"Perdecanai\"\n",
    "itemsOrdered.loc[itemsOrdered['zipcode'].eq('29631'), \"city\"] = \"Arroyo De La Miel\"\n",
    "itemsOrdered.loc[itemsOrdered['zipcode'].eq('27810'), \"city\"] = \"Sancobade\"\n",
    "itemsOrdered['zipcode'] = itemsOrdered['zipcode'].replace(\"-39840\", \"39840\")\n",
    "\n",
    "itemsOrdered.loc[itemsOrdered['zipcode'].eq('50620'), \"city\"] = \"Casetas\"\n",
    "\n",
    "itemsOrdered.loc[itemsOrdered['zipcode'].eq('50620'), \"city\"] = \"Casetas\""
   ]
  },
  {
   "cell_type": "code",
   "execution_count": 13,
   "metadata": {},
   "outputs": [
    {
     "data": {
      "text/html": [
       "<div>\n",
       "<style scoped>\n",
       "    .dataframe tbody tr th:only-of-type {\n",
       "        vertical-align: middle;\n",
       "    }\n",
       "\n",
       "    .dataframe tbody tr th {\n",
       "        vertical-align: top;\n",
       "    }\n",
       "\n",
       "    .dataframe thead th {\n",
       "        text-align: right;\n",
       "    }\n",
       "</style>\n",
       "<table border=\"1\" class=\"dataframe\">\n",
       "  <thead>\n",
       "    <tr style=\"text-align: right;\">\n",
       "      <th></th>\n",
       "      <th>num_order</th>\n",
       "      <th>item_id</th>\n",
       "      <th>created_at</th>\n",
       "      <th>product_id</th>\n",
       "      <th>qty_ordered</th>\n",
       "      <th>base_cost</th>\n",
       "      <th>price</th>\n",
       "      <th>discount_percent</th>\n",
       "      <th>customer_id</th>\n",
       "      <th>city</th>\n",
       "      <th>zipcode</th>\n",
       "    </tr>\n",
       "  </thead>\n",
       "  <tbody>\n",
       "    <tr>\n",
       "      <th>1900</th>\n",
       "      <td>1133bd26dc28c6ee87798d00ae7166b9</td>\n",
       "      <td>35672b13aa794e7d56f59327d1bf4af8</td>\n",
       "      <td>2017-01-01 23:26:29</td>\n",
       "      <td>3726.0</td>\n",
       "      <td>1.0</td>\n",
       "      <td>16.3320</td>\n",
       "      <td>21.78</td>\n",
       "      <td>8.0</td>\n",
       "      <td>68e3029766c319b18533206bed2ef83f</td>\n",
       "      <td>Lisboa</td>\n",
       "      <td>1750 341 Lisboa</td>\n",
       "    </tr>\n",
       "    <tr>\n",
       "      <th>1901</th>\n",
       "      <td>1133bd26dc28c6ee87798d00ae7166b9</td>\n",
       "      <td>3f58086a75e4e96c3c24f3ce45e4d9fa</td>\n",
       "      <td>2017-01-01 23:26:29</td>\n",
       "      <td>11628.0</td>\n",
       "      <td>1.0</td>\n",
       "      <td>6.4432</td>\n",
       "      <td>8.40</td>\n",
       "      <td>8.0</td>\n",
       "      <td>68e3029766c319b18533206bed2ef83f</td>\n",
       "      <td>Lisboa</td>\n",
       "      <td>1750 341 Lisboa</td>\n",
       "    </tr>\n",
       "  </tbody>\n",
       "</table>\n",
       "</div>"
      ],
      "text/plain": [
       "                             num_order                           item_id  \\\n",
       "1900  1133bd26dc28c6ee87798d00ae7166b9  35672b13aa794e7d56f59327d1bf4af8   \n",
       "1901  1133bd26dc28c6ee87798d00ae7166b9  3f58086a75e4e96c3c24f3ce45e4d9fa   \n",
       "\n",
       "               created_at  product_id  qty_ordered  base_cost  price  \\\n",
       "1900  2017-01-01 23:26:29      3726.0          1.0    16.3320  21.78   \n",
       "1901  2017-01-01 23:26:29     11628.0          1.0     6.4432   8.40   \n",
       "\n",
       "      discount_percent                       customer_id    city  \\\n",
       "1900               8.0  68e3029766c319b18533206bed2ef83f  Lisboa   \n",
       "1901               8.0  68e3029766c319b18533206bed2ef83f  Lisboa   \n",
       "\n",
       "              zipcode  \n",
       "1900  1750 341 Lisboa  \n",
       "1901  1750 341 Lisboa  "
      ]
     },
     "execution_count": 13,
     "metadata": {},
     "output_type": "execute_result"
    }
   ],
   "source": [
    "itemsOrdered[itemsOrdered[\"city\"]==\"Lisboa\"].head(2)"
   ]
  },
  {
   "cell_type": "markdown",
   "metadata": {},
   "source": [
    "### USO DE WEBSCRAPPING PARA CÓDIGO POSTAL"
   ]
  },
  {
   "cell_type": "markdown",
   "metadata": {},
   "source": [
    "Creación de Base de Datos para almacenamiento de resultados formateados del WebScrapping"
   ]
  },
  {
   "cell_type": "code",
   "execution_count": 14,
   "metadata": {},
   "outputs": [],
   "source": [
    "def IntroDB():\n",
    "    try:\n",
    "        pathDB = \"../databases/\"\n",
    "        nameDB= \"scrapedZips.db\"\n",
    "        if exists(pathDB):\n",
    "            print(f\"Carpeta {pathDB} encontrada\")\n",
    "        else:\n",
    "            mkdir(pathDB)\n",
    "            print (f\"Creada carpeta {pathDB}\")\n",
    "    except OSError:\n",
    "        print (f\"Creación de carpeta {pathDB} falló\")\n",
    "        \n",
    "    if exists(f\"{pathDB}{nameDB}\"):\n",
    "        print(\"Database existe\")\n",
    "        con, cur = SqlConnection(f\"{pathDB}{nameDB}\")\n",
    "        return con, cur\n",
    "    else:\n",
    "        print(\"Database no existe\")\n",
    "        CreateCon(f\"{pathDB}{nameDB}\")\n",
    "        con, cur = SqlConnection(f\"{pathDB}{nameDB}\")\n",
    "        PrepareCon(con, cur, option=\"insert\",\n",
    "            values=(\"Test\",\"Test\",\"Test\",\"Test\"))\n",
    "        return con, cur\n"
   ]
  },
  {
   "cell_type": "code",
   "execution_count": 15,
   "metadata": {},
   "outputs": [
    {
     "name": "stdout",
     "output_type": "stream",
     "text": [
      "Creada carpeta ../databases/\n",
      "Database no existe\n",
      "Database creado\n",
      "Conexión NO establecida\n",
      "Realizando reparaciones\n",
      "Creando tabla...\n",
      "OK\n",
      "Reparación completada\n",
      "Conexión establecida\n",
      "Insertando datos...\n",
      "OK\n"
     ]
    }
   ],
   "source": [
    "con, cur = IntroDB()"
   ]
  },
  {
   "cell_type": "code",
   "execution_count": 16,
   "metadata": {},
   "outputs": [],
   "source": [
    "%%capture\n",
    "try:\n",
    "    if GetThings(cur, selection=\"Country,Region,City,Zipcode\", where=[\"ID\", 1], limit=1)[0][0] == \"Test\":\n",
    "        PrepareCon(con,cur,where=[\"ID\",1],option=\"delete\")\n",
    "        cur.execute(\"UPDATE `sqlite_sequence` SET `seq` = 0 WHERE `name` = 'ZipsInfo';\")\n",
    "except IndexError:\n",
    "    pass\n",
    "\n",
    "'''\n",
    "Check the next query if something perturbe your mind\n",
    "SELECT * FROM `sqlite_sequence`;\n",
    "'''"
   ]
  },
  {
   "cell_type": "code",
   "execution_count": 17,
   "metadata": {},
   "outputs": [
    {
     "data": {
      "text/plain": [
       "[]"
      ]
     },
     "execution_count": 17,
     "metadata": {},
     "output_type": "execute_result"
    }
   ],
   "source": [
    "GetThings(cur, selection=\"Country,Region,City,Zipcode\", where=[\"ID\", 1], limit=1)"
   ]
  },
  {
   "cell_type": "markdown",
   "metadata": {},
   "source": [
    "A continuación se genera una lista compuesta de tuplas compuestas de la siguiente forma: (\"Ciudad\", \"Zipcode\")"
   ]
  },
  {
   "cell_type": "code",
   "execution_count": 18,
   "metadata": {},
   "outputs": [],
   "source": [
    "rawDataZipcode = list(zip(itemsOrdered[\"city\"].tolist(), itemsOrdered[\"zipcode\"].tolist()))\n",
    "rawDataZipcode = rawDataZipcode[:int(len(rawDataZipcode)/30)]"
   ]
  },
  {
   "cell_type": "code",
   "execution_count": 19,
   "metadata": {},
   "outputs": [
    {
     "data": {
      "text/plain": [
       "('Valencia', '46019')"
      ]
     },
     "execution_count": 19,
     "metadata": {},
     "output_type": "execute_result"
    }
   ],
   "source": [
    "rawDataZipcode[0]"
   ]
  },
  {
   "cell_type": "markdown",
   "metadata": {},
   "source": [
    "**Funciones destacadas**"
   ]
  },
  {
   "cell_type": "markdown",
   "metadata": {},
   "source": [
    "Genera un ratio que compara similitud entre palabras"
   ]
  },
  {
   "cell_type": "code",
   "execution_count": 20,
   "metadata": {},
   "outputs": [],
   "source": [
    "def similar(a, b):\n",
    "    return SequenceMatcher(None, a, b).ratio()"
   ]
  },
  {
   "cell_type": "markdown",
   "metadata": {},
   "source": [
    "Función que \"limpia\" los nombres de ciudades para mejorar su emparejamiento automático"
   ]
  },
  {
   "cell_type": "code",
   "execution_count": 21,
   "metadata": {},
   "outputs": [],
   "source": [
    "def CityCleaner(text):\n",
    "    stopWordSpanish = set(stopwords.words('spanish'))\n",
    "    wordTokens = word_tokenize(AcentosLimpiador(text.lower()).rstrip()) \n",
    "    filteredSentence = [element for element in wordTokens if not element in stopWordSpanish] \n",
    "    return filteredSentence\n",
    " "
   ]
  },
  {
   "cell_type": "markdown",
   "metadata": {},
   "source": [
    "Función que limpia zipcodes"
   ]
  },
  {
   "cell_type": "code",
   "execution_count": 22,
   "metadata": {},
   "outputs": [],
   "source": [
    "#Limpieza de zipcodes con RegEx\n",
    "def num_guion(string):\n",
    "    \"\"\" Get a string with the numbers and hyphens of another string\n",
    "    \n",
    "    Args:\n",
    "        df: string used to extract the string with numbers abd hyphens\n",
    "\n",
    "    Returns:\n",
    "        df: the string with numbers and hyphens\n",
    "    \"\"\"\n",
    "    aux = re.match(\"([\\d-]+)\", str(string))\n",
    "    try:\n",
    "        return str(aux.group())\n",
    "    except:\n",
    "        return string\n",
    "\n",
    "\n",
    "itemsOrdered[\"zipcode\"] = itemsOrdered[\"zipcode\"].apply(lambda x: num_guion(x))"
   ]
  },
  {
   "cell_type": "markdown",
   "metadata": {},
   "source": [
    "Función que limpia los acentos con el fin de homogeneizar"
   ]
  },
  {
   "cell_type": "code",
   "execution_count": 23,
   "metadata": {},
   "outputs": [],
   "source": [
    "def AcentosLimpiador(text):\n",
    "\tacentos = {'ñ':'n','á': 'a', 'é': 'e', 'í': 'i', 'ó': 'o', 'ú': 'u', 'à':'a'}\n",
    "\tfor ele in acentos:\n",
    "\t\tif ele in text:\n",
    "\t\t\ttext = text.replace(ele, acentos[ele])\n",
    "\treturn text"
   ]
  },
  {
   "cell_type": "markdown",
   "metadata": {},
   "source": [
    "Configuración de logging del scrapeo"
   ]
  },
  {
   "cell_type": "code",
   "execution_count": 24,
   "metadata": {},
   "outputs": [],
   "source": [
    "logger = logging.getLogger('ScrapLog')\n",
    "logger.setLevel(logging.INFO)\n",
    "# logger.setLevel(logging.ERROR)\n",
    "\n",
    "timestamp = datetime.datetime.utcnow().strftime('%Y%m%d_%H-%M-%S')\n",
    "filename=f'Scrapping{timestamp}.log'\n",
    "formatter = logging.Formatter('[%(asctime)s] %(name)s {%(filename)s:%(lineno)d} %(levelname)s - %(message)s')"
   ]
  },
  {
   "cell_type": "code",
   "execution_count": 25,
   "metadata": {},
   "outputs": [],
   "source": [
    "file_handler = logging.FileHandler(filename=filename)\n",
    "file_handler.setLevel(logging.INFO)\n",
    "# file_handler.setLevel(logging.ERROR)\n",
    "file_handler.setFormatter(formatter)\n",
    "logger.addHandler(file_handler)\n",
    "\n",
    "# stream_handler = logging.StreamHandler(sys.stdout)\n",
    "# stream_handler.setLevel(logging.INFO)"
   ]
  },
  {
   "cell_type": "code",
   "execution_count": 26,
   "metadata": {},
   "outputs": [],
   "source": [
    "logging.basicConfig(\n",
    "    filename=filename,\n",
    "    level=logging.INFO,\n",
    "    format='[{%(filename)s:%(lineno)d} %(levelname)s - %(message)s',\n",
    "    #  handlers=[\n",
    "    #      file_handler,\n",
    "    #      stream_handler\n",
    "    # ]\n",
    ")\n"
   ]
  },
  {
   "cell_type": "markdown",
   "metadata": {},
   "source": [
    "Función que formatea los resultados del webscrapping de forma adecuada a los requerimientos necesarios"
   ]
  },
  {
   "cell_type": "code",
   "execution_count": 27,
   "metadata": {},
   "outputs": [],
   "source": [
    "def zipCodeManipulation(city, zipcode, queryResult=\"\", saved = False):\n",
    "  \n",
    "    # This conditional checks if the zipcode info was scrapped and stored succesfully\n",
    "    if saved == False:\n",
    "\n",
    "        listTestingZipcode = queryResult.split(\"\\n\")\n",
    "        indexMatchRegex = list(map(lambda x: [(m.start(0), m.end(0)) for m in re.finditer(r\"[a-z][A-Z0-9]\", x)], listTestingZipcode))\n",
    "\n",
    "        resultScrapClean = []\n",
    "        for pas,resultScrap in enumerate(listTestingZipcode):\n",
    "            for pos,ele in enumerate(indexMatchRegex[pas]):\n",
    "                if len(indexMatchRegex[pas])==2:\n",
    "                    if pos ==0:\n",
    "                        txt = resultScrap[:ele[0]+1]+\",\"+resultScrap[ele[1]-1:]\n",
    "                    elif pos ==1:\n",
    "                        txt = txt[:ele[0]+2]+\",\"+txt[ele[1]:]\n",
    "                        resultScrapClean.append(txt)\n",
    "                elif len(indexMatchRegex[pas])==3:\n",
    "                    if pos ==0:\n",
    "                        txt = resultScrap[:ele[0]+1]+\",\"+resultScrap[ele[1]-1:]\n",
    "                    elif pos ==1:\n",
    "                        txt = txt[:ele[0]+2]+\",\"+txt[ele[1]:]\n",
    "                    elif pos ==2:\n",
    "                        txt = txt[:ele[0]+3]+\",\"+txt[ele[1]+1:]\n",
    "                        resultScrapClean.append(txt)\n",
    "\n",
    "        resultScrapListed = [element.split(\",\") for element in resultScrapClean]\n",
    "        resultScrapRearr = [(element[0], element[1], element[-2], element[-1]) for element in resultScrapListed]\n",
    "\n",
    "        resultZip = []\n",
    "        for element in resultScrapRearr:\n",
    "            for element2  in CityCleaner(element[2]):\n",
    "                if element2 in CityCleaner(city):\n",
    "                    resultZip.append(element)\n",
    "                    break\n",
    "        try:\n",
    "            resultZip = resultZip[0]\n",
    "        except IndexError:\n",
    "            resultZip = []\n",
    "            for element in resultScrapRearr:\n",
    "                for element2 in CityCleaner(element[2]):\n",
    "                    for element3 in CityCleaner(city):\n",
    "                        if element2 .__contains__(element3):\n",
    "                            resultZip.append(element)\n",
    "                            break\n",
    "            try:\n",
    "                resultZip = resultZip[0]\n",
    "            except IndexError:\n",
    "                resultZip = []\n",
    "                for element in resultScrapRearr:\n",
    "                    for element2 in CityCleaner(element[2]):\n",
    "                        for city in CityCleaner(element3):\n",
    "                            if element3.__contains__(element2):\n",
    "                                resultZip.append(element)\n",
    "                                break\n",
    "                if resultZip != []:\n",
    "                    resultZip = resultZip[0]\n",
    "                elif resultZip ==[] : #ELIMINAR ESTA LÍNEA PARA PODER VERIFICAR ERRORES\n",
    "                    resultZip = (\"ERROR\",\"ERROR\",\"ERROR\",zipcode)\n",
    "                    \n",
    "                    \n",
    "\n",
    "    elif saved == True:\n",
    "        resultZip = GetThings(cur, selection=\"Country,Region,City,Zipcode\", where=[\"Zipcode\", zipcode], limit=1, simplify = True)\n",
    "\n",
    "    if resultZip[3].startswith(\" L'\"):\n",
    "        resultZip = [resultZip[0],resultZip[1],resultZip[2],resultZip[3][3:]]\n",
    "    \n",
    "    if len(resultZip[3]) >= 20 and resultZip[0]==\"Portugal\":\n",
    "        resultZip = [resultZip[0],resultZip[1],resultZip[2],zipcode]\n",
    "\n",
    "    i = (resultZip[3]+resultZip[3]).find(resultZip[3], 1, -1)\n",
    "    return resultZip if i == -1 else [resultZip[0],resultZip[1],resultZip[2],resultZip[3][:i]]\n",
    "\n"
   ]
  },
  {
   "cell_type": "markdown",
   "metadata": {},
   "source": [
    "**Webscrapping!**"
   ]
  },
  {
   "cell_type": "code",
   "execution_count": 28,
   "metadata": {},
   "outputs": [],
   "source": [
    "# %%capture cap --no-stderr\n",
    "\n",
    "try:\n",
    "    logger.info(\"Starting Webscrapping!\")\n",
    "\n",
    "    opts = Options()\n",
    "    opts.add_argument(\"--headless\")\n",
    "    driver = webdriver.Firefox(options=opts)\n",
    "    \n",
    "    driver.get(\"https://worldpostalcode.com/lookup\")\n",
    "    driver.set_page_load_timeout(5)\n",
    "\n",
    "    for pos, element in enumerate(rawDataZipcode):\n",
    "\n",
    "        if element[1]==\"323903\":\n",
    "            \n",
    "            if pos in [ele[0]-1 for ele in GetThings(cur, selection=\"ID\", where=[\"Zipcode\", element[1].rstrip()])]:\n",
    "                logger.info(f\"SP - Sin procesar |City: {element[0]} | Zipcode: {element[1]} | Orden del dataframe: {pos}\")\n",
    "                # logger.info(\"--------------------------------------------\")\n",
    "\n",
    "            else:\n",
    "                if GetThings(cur, selection=\"Zipcode\", where=[\"Zipcode\", element[1].rstrip()], limit=1, simplify=True) == None:\n",
    "                    PrepareCon(con, cur, values=[\"China\", \"Zhejiang\", \"Lishui\", \"323903\"], option=\"insert\", verbose=False)\n",
    "                    logger.info(f\"SP - Insertado | City: {element[0]} | Zipcode: {element[1]} | Orden del dataframe: {pos}\")\n",
    "                    # logger.info(\"--------------------------------------------\")\n",
    "    \n",
    "                else:\n",
    "                    zipCodeDef = zipCodeManipulation(city=element[0], zipcode=element[1].rstrip(), saved = True)\n",
    "                    logger.info(f\"SP - Ya guardado en BBDD | City: {element[0]} | Zipcode: {element[1]} | Orden del dataframe: {pos}\")\n",
    "                    logger.info(f\"Devuelto de query: {zipCodeDef}\")\n",
    "                    # logger.info(\"--------------------------------------------\")    \n",
    "            \n",
    "            \n",
    "        if GetThings(cur, selection=\"Zipcode\", where=[\"Zipcode\", element[1].rstrip()], limit=1, simplify=True) == None:\n",
    "            try:   \n",
    "                logger.info(f\"Para scrapear |Ciudad: {element[0]} | Zipcode: {element[1]} | Orden del dataframe: {pos}\")\n",
    "                insertZipcode =driver.find_element(By.ID,\"search\")\n",
    "                insertZipcode.clear()\n",
    "                insertZipcode.send_keys(element[1])\n",
    "                clickButtonZipcode =driver.find_element(By.CLASS_NAME,\"submit\")\n",
    "                clickButtonZipcode.click()\n",
    "                driver.set_page_load_timeout(5)\n",
    "                getGeoInfo = driver.find_element(By.CLASS_NAME,\"search_units\")\n",
    "                saveGeoInfo = getGeoInfo.text\n",
    "                zipCodeDef = zipCodeManipulation(element[0], element[1], queryResult=saveGeoInfo)\n",
    "                logger.info(f\"Scrapeado: {zipCodeDef}\")\n",
    "                # logger.info(\"--------------------------------------------\")\n",
    "            except NoSuchElementException:\n",
    "                # logger.exception(f\"No encontrado nada en ciudad: {element[0]}, zipcode: {element[1]}\")\n",
    "                logger.info(f\"No encontrado nada en ciudad: {element[0]}, zipcode: {element[1]}\")\n",
    "                logger.info(\"--------------------------------------------\")\n",
    "                PrepareCon(con, cur, values=(\"ERROR\",\"ERROR\",\"ERROR\",\"ERROR\"), option=\"insert\", verbose=False)\n",
    "            \n",
    "\n",
    "        else:\n",
    "            if pos in [ele[0]-1 for ele in GetThings(cur, selection=\"ID\", where=[\"Zipcode\", element[1].rstrip()])]:\n",
    "                logger.info(f\"Sin procesar |City: {element[0]} |Zipcode: {element[1]} | Orden del dataframe: {pos}\")\n",
    "                # logger.info(\"--------------------------------------------\")\n",
    "                continue\n",
    "            else:\n",
    "                logger.info(f\"Ya guardado en BBDD  | City: {element[0]} | Zipcode: {element[1]} | Orden del dataframe: {pos}\")\n",
    "                zipCodeDef = zipCodeManipulation(city=element[0], zipcode=element[1].rstrip(), saved = True)\n",
    "                logger.info(f\"Devuelto de query: {zipCodeDef}\")\n",
    "                # logger.info(\"--------------------------------------------\")\n",
    "\n",
    "        \n",
    "\n",
    "        PrepareCon(con, cur, values=zipCodeDef, option=\"insert\", verbose=False)\n",
    "\n",
    "    driver.close()\n",
    "    # con.close()\n",
    "\n",
    "except IndexError:\n",
    "    # driver.close()\n",
    "    # raise Exception(f\"El fallo se ha producido con ciudad: {element[0]}, zipcode: {element[1]}\")\n",
    "    # logger.exception(f\"El fallo se ha producido con ciudad: {element[0]}, zipcode: {element[1]}\")\n",
    "    logger.info(f\"El fallo se ha producido con ciudad: {element[0]}, zipcode: {element[1]}\")\n",
    "    logger.info(\"--------------------------------------------\")\n",
    "    pass"
   ]
  },
  {
   "cell_type": "markdown",
   "metadata": {},
   "source": [
    "Añadidos manuales a la base de datos"
   ]
  },
  {
   "cell_type": "code",
   "execution_count": 29,
   "metadata": {},
   "outputs": [],
   "source": [
    "GetThings(cur, selection=\"ID,Country,Region,City,Zipcode\", where=[\"Zipcode\", \"28915 \"], limit=1, simplify=True)\n"
   ]
  },
  {
   "cell_type": "markdown",
   "metadata": {},
   "source": [
    "**Comprobaciones del scrapping y formateo posterior realizado**"
   ]
  },
  {
   "cell_type": "code",
   "execution_count": 30,
   "metadata": {},
   "outputs": [],
   "source": [
    "tableMain = \"ZipsInfo\""
   ]
  },
  {
   "cell_type": "code",
   "execution_count": 31,
   "metadata": {},
   "outputs": [
    {
     "data": {
      "text/plain": [
       "10722"
      ]
     },
     "execution_count": 31,
     "metadata": {},
     "output_type": "execute_result"
    }
   ],
   "source": [
    "cur.execute(f\"SELECT (select count() from {tableMain}) as count FROM {tableMain} LIMIT 1\").fetchone()[0]"
   ]
  },
  {
   "cell_type": "markdown",
   "metadata": {},
   "source": [
    "**Transformación del scrapeo formateado a dataframe de Pandas**"
   ]
  },
  {
   "cell_type": "code",
   "execution_count": 32,
   "metadata": {},
   "outputs": [],
   "source": [
    "sqlToList = cur.execute(f\"SELECT Country,Region,City,Zipcode FROM {tableMain}\").fetchall()\n"
   ]
  },
  {
   "cell_type": "code",
   "execution_count": 33,
   "metadata": {},
   "outputs": [
    {
     "data": {
      "text/html": [
       "<div>\n",
       "<style scoped>\n",
       "    .dataframe tbody tr th:only-of-type {\n",
       "        vertical-align: middle;\n",
       "    }\n",
       "\n",
       "    .dataframe tbody tr th {\n",
       "        vertical-align: top;\n",
       "    }\n",
       "\n",
       "    .dataframe thead th {\n",
       "        text-align: right;\n",
       "    }\n",
       "</style>\n",
       "<table border=\"1\" class=\"dataframe\">\n",
       "  <thead>\n",
       "    <tr style=\"text-align: right;\">\n",
       "      <th></th>\n",
       "      <th>Country</th>\n",
       "      <th>Region</th>\n",
       "      <th>City</th>\n",
       "      <th>Zipcode</th>\n",
       "    </tr>\n",
       "  </thead>\n",
       "  <tbody>\n",
       "    <tr>\n",
       "      <th>0</th>\n",
       "      <td>Spain</td>\n",
       "      <td>Comunidad Valenciana</td>\n",
       "      <td>Valencia</td>\n",
       "      <td>46019</td>\n",
       "    </tr>\n",
       "    <tr>\n",
       "      <th>1</th>\n",
       "      <td>Spain</td>\n",
       "      <td>Comunidad Valenciana</td>\n",
       "      <td>Valencia</td>\n",
       "      <td>46019</td>\n",
       "    </tr>\n",
       "    <tr>\n",
       "      <th>2</th>\n",
       "      <td>Spain</td>\n",
       "      <td>Comunidad Valenciana</td>\n",
       "      <td>Valencia</td>\n",
       "      <td>46019</td>\n",
       "    </tr>\n",
       "    <tr>\n",
       "      <th>3</th>\n",
       "      <td>Spain</td>\n",
       "      <td>Andalucia</td>\n",
       "      <td>Almeria</td>\n",
       "      <td>04009</td>\n",
       "    </tr>\n",
       "    <tr>\n",
       "      <th>4</th>\n",
       "      <td>Spain</td>\n",
       "      <td>Andalucia</td>\n",
       "      <td>Almeria</td>\n",
       "      <td>04009</td>\n",
       "    </tr>\n",
       "    <tr>\n",
       "      <th>...</th>\n",
       "      <td>...</td>\n",
       "      <td>...</td>\n",
       "      <td>...</td>\n",
       "      <td>...</td>\n",
       "    </tr>\n",
       "    <tr>\n",
       "      <th>10717</th>\n",
       "      <td>Spain</td>\n",
       "      <td>Andalucia</td>\n",
       "      <td>Dos Hermanas</td>\n",
       "      <td>41701</td>\n",
       "    </tr>\n",
       "    <tr>\n",
       "      <th>10718</th>\n",
       "      <td>Spain</td>\n",
       "      <td>Andalucia</td>\n",
       "      <td>Dos Hermanas</td>\n",
       "      <td>41701</td>\n",
       "    </tr>\n",
       "    <tr>\n",
       "      <th>10719</th>\n",
       "      <td>Spain</td>\n",
       "      <td>Andalucia</td>\n",
       "      <td>Dos Hermanas</td>\n",
       "      <td>41701</td>\n",
       "    </tr>\n",
       "    <tr>\n",
       "      <th>10720</th>\n",
       "      <td>Spain</td>\n",
       "      <td>Galicia</td>\n",
       "      <td>Pontevedra</td>\n",
       "      <td>36002</td>\n",
       "    </tr>\n",
       "    <tr>\n",
       "      <th>10721</th>\n",
       "      <td>Spain</td>\n",
       "      <td>Galicia</td>\n",
       "      <td>Pontevedra</td>\n",
       "      <td>36002</td>\n",
       "    </tr>\n",
       "  </tbody>\n",
       "</table>\n",
       "<p>10722 rows × 4 columns</p>\n",
       "</div>"
      ],
      "text/plain": [
       "      Country                Region          City Zipcode\n",
       "0       Spain  Comunidad Valenciana      Valencia   46019\n",
       "1       Spain  Comunidad Valenciana      Valencia   46019\n",
       "2       Spain  Comunidad Valenciana      Valencia   46019\n",
       "3       Spain             Andalucia       Almeria   04009\n",
       "4       Spain             Andalucia       Almeria   04009\n",
       "...       ...                   ...           ...     ...\n",
       "10717   Spain             Andalucia  Dos Hermanas   41701\n",
       "10718   Spain             Andalucia  Dos Hermanas   41701\n",
       "10719   Spain             Andalucia  Dos Hermanas   41701\n",
       "10720   Spain               Galicia    Pontevedra   36002\n",
       "10721   Spain               Galicia    Pontevedra   36002\n",
       "\n",
       "[10722 rows x 4 columns]"
      ]
     },
     "execution_count": 33,
     "metadata": {},
     "output_type": "execute_result"
    }
   ],
   "source": [
    "df = pd.DataFrame(sqlToList, columns=[\"Country\",\"Region\",\"City\",\"Zipcode\"])\n",
    "df"
   ]
  },
  {
   "cell_type": "code",
   "execution_count": 34,
   "metadata": {},
   "outputs": [
    {
     "data": {
      "text/plain": [
       "Spain       10129\n",
       "ERROR         499\n",
       "Portugal       75\n",
       "Mexico          9\n",
       "Peru            6\n",
       "China           4\n",
       "Name: Country, dtype: int64"
      ]
     },
     "execution_count": 34,
     "metadata": {},
     "output_type": "execute_result"
    }
   ],
   "source": [
    "df[\"Country\"].value_counts()"
   ]
  },
  {
   "cell_type": "code",
   "execution_count": 35,
   "metadata": {},
   "outputs": [],
   "source": [
    "con.close()"
   ]
  }
 ],
 "metadata": {
  "interpreter": {
   "hash": "f876c6d03db2a1b556a458eeb23dadf5ec8e4266298f30cdd70e3128597d8f66"
  },
  "kernelspec": {
   "display_name": "Python 3.10.2 ('penv': venv)",
   "language": "python",
   "name": "python3"
  },
  "language_info": {
   "codemirror_mode": {
    "name": "ipython",
    "version": 3
   },
   "file_extension": ".py",
   "mimetype": "text/x-python",
   "name": "python",
   "nbconvert_exporter": "python",
   "pygments_lexer": "ipython3",
   "version": "3.10.2"
  },
  "orig_nbformat": 4
 },
 "nbformat": 4,
 "nbformat_minor": 2
}
