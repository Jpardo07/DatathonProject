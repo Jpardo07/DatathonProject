{
 "cells": [
  {
   "cell_type": "markdown",
   "metadata": {},
   "source": [
    "### Libraries import"
   ]
  },
  {
   "cell_type": "code",
   "execution_count": 1,
   "metadata": {},
   "outputs": [],
   "source": [
    "import pandas as pd # Dataframes management\n",
    "from zipfile import ZipFile  # Files compressed management\n",
    "import os # Files management along OS\n",
    "import re"
   ]
  },
  {
   "cell_type": "code",
   "execution_count": 2,
   "metadata": {},
   "outputs": [],
   "source": [
    "from os import mkdir\n",
    "from os.path import exists"
   ]
  },
  {
   "cell_type": "code",
   "execution_count": 3,
   "metadata": {},
   "outputs": [],
   "source": [
    "from selenium import webdriver # Webscrapping bot\n",
    "from selenium.webdriver.common.by import By\n",
    "from selenium.webdriver.common.keys import Keys\n",
    "from selenium.common.exceptions import NoSuchElementException\n",
    "from selenium.webdriver.firefox.options import Options"
   ]
  },
  {
   "cell_type": "code",
   "execution_count": 4,
   "metadata": {},
   "outputs": [],
   "source": [
    "import nltk\n",
    "from nltk.tokenize import word_tokenize, sent_tokenize\n",
    "from nltk.corpus import stopwords"
   ]
  },
  {
   "cell_type": "markdown",
   "metadata": {},
   "source": [
    "### Modules"
   ]
  },
  {
   "cell_type": "code",
   "execution_count": 5,
   "metadata": {},
   "outputs": [],
   "source": [
    "from db import *"
   ]
  },
  {
   "cell_type": "markdown",
   "metadata": {},
   "source": [
    "### Data import"
   ]
  },
  {
   "cell_type": "code",
   "execution_count": 6,
   "metadata": {},
   "outputs": [
    {
     "name": "stdout",
     "output_type": "stream",
     "text": [
      "File Name                                             Modified             Size\n",
      "items_ordered_2years_V2.csv                    2022-02-23 01:28:04    150372498\n",
      "extraction...\n",
      "Done!\n",
      "CSV imported to Pandas successfully\n",
      "Original CSV removed to preserve repo health\n"
     ]
    }
   ],
   "source": [
    "# Specifying the name of the zip file\n",
    "fileZIP = \"/items_ordered_2years_V2.zip\"\n",
    "fileCSV = \"/items_ordered_2years_V2.csv\"\n",
    "\n",
    "path = \"../Inputs/Modificados - Atmira_Pharma_Visualization\"\n",
    "  \n",
    "# Open the zip file in read mode\n",
    "with ZipFile(f\"{path}{fileZIP}\", 'r') as zip: \n",
    "    # List all the contents of the zip file\n",
    "    zip.printdir() \n",
    "  \n",
    "    # Extract all files\n",
    "    print('extraction...') \n",
    "    zip.extractall(path) \n",
    "    print('Done!')\n",
    "\n",
    "#Import CSV to pandas\n",
    "itemsOrdered = pd.read_csv(f\"{path}{fileCSV}\")\n",
    "print(\"CSV imported to Pandas successfully\")\n",
    "\n",
    "# Remove uncompressed CSV file\n",
    "os.remove(f\"{path}{fileCSV}\")\n",
    "print(\"Original CSV removed to preserve repo health\")"
   ]
  },
  {
   "cell_type": "code",
   "execution_count": 7,
   "metadata": {},
   "outputs": [
    {
     "data": {
      "text/html": [
       "<div>\n",
       "<style scoped>\n",
       "    .dataframe tbody tr th:only-of-type {\n",
       "        vertical-align: middle;\n",
       "    }\n",
       "\n",
       "    .dataframe tbody tr th {\n",
       "        vertical-align: top;\n",
       "    }\n",
       "\n",
       "    .dataframe thead th {\n",
       "        text-align: right;\n",
       "    }\n",
       "</style>\n",
       "<table border=\"1\" class=\"dataframe\">\n",
       "  <thead>\n",
       "    <tr style=\"text-align: right;\">\n",
       "      <th></th>\n",
       "      <th>num_order</th>\n",
       "      <th>item_id</th>\n",
       "      <th>created_at</th>\n",
       "      <th>product_id</th>\n",
       "      <th>qty_ordered</th>\n",
       "      <th>base_cost</th>\n",
       "      <th>price</th>\n",
       "      <th>discount_percent</th>\n",
       "      <th>customer_id</th>\n",
       "      <th>city</th>\n",
       "      <th>zipcode</th>\n",
       "    </tr>\n",
       "  </thead>\n",
       "  <tbody>\n",
       "    <tr>\n",
       "      <th>0</th>\n",
       "      <td>562ba4ba9aaf2a1e926842deca19271d</td>\n",
       "      <td>2bca87c2ab10b07feef290a9be47f316</td>\n",
       "      <td>2017-01-01 00:20:33</td>\n",
       "      <td>6409.0</td>\n",
       "      <td>1.0</td>\n",
       "      <td>13.4204</td>\n",
       "      <td>17.17</td>\n",
       "      <td>8.0</td>\n",
       "      <td>50d7f99947b472cc889d58845b9d23e2</td>\n",
       "      <td>Valencia</td>\n",
       "      <td>46019</td>\n",
       "    </tr>\n",
       "    <tr>\n",
       "      <th>1</th>\n",
       "      <td>562ba4ba9aaf2a1e926842deca19271d</td>\n",
       "      <td>53e12ac4b579f0c4b1c4f77d50bf8792</td>\n",
       "      <td>2017-01-01 00:20:33</td>\n",
       "      <td>5133.0</td>\n",
       "      <td>1.0</td>\n",
       "      <td>18.5351</td>\n",
       "      <td>22.68</td>\n",
       "      <td>8.0</td>\n",
       "      <td>50d7f99947b472cc889d58845b9d23e2</td>\n",
       "      <td>Valencia</td>\n",
       "      <td>46019</td>\n",
       "    </tr>\n",
       "    <tr>\n",
       "      <th>2</th>\n",
       "      <td>562ba4ba9aaf2a1e926842deca19271d</td>\n",
       "      <td>d19d6df5cd6a1e741408b70aa2767bf4</td>\n",
       "      <td>2017-01-01 00:20:33</td>\n",
       "      <td>5125.0</td>\n",
       "      <td>1.0</td>\n",
       "      <td>18.5260</td>\n",
       "      <td>22.68</td>\n",
       "      <td>8.0</td>\n",
       "      <td>50d7f99947b472cc889d58845b9d23e2</td>\n",
       "      <td>Valencia</td>\n",
       "      <td>46019</td>\n",
       "    </tr>\n",
       "  </tbody>\n",
       "</table>\n",
       "</div>"
      ],
      "text/plain": [
       "                          num_order                           item_id  \\\n",
       "0  562ba4ba9aaf2a1e926842deca19271d  2bca87c2ab10b07feef290a9be47f316   \n",
       "1  562ba4ba9aaf2a1e926842deca19271d  53e12ac4b579f0c4b1c4f77d50bf8792   \n",
       "2  562ba4ba9aaf2a1e926842deca19271d  d19d6df5cd6a1e741408b70aa2767bf4   \n",
       "\n",
       "            created_at  product_id  qty_ordered  base_cost  price  \\\n",
       "0  2017-01-01 00:20:33      6409.0          1.0    13.4204  17.17   \n",
       "1  2017-01-01 00:20:33      5133.0          1.0    18.5351  22.68   \n",
       "2  2017-01-01 00:20:33      5125.0          1.0    18.5260  22.68   \n",
       "\n",
       "   discount_percent                       customer_id      city zipcode  \n",
       "0               8.0  50d7f99947b472cc889d58845b9d23e2  Valencia   46019  \n",
       "1               8.0  50d7f99947b472cc889d58845b9d23e2  Valencia   46019  \n",
       "2               8.0  50d7f99947b472cc889d58845b9d23e2  Valencia   46019  "
      ]
     },
     "execution_count": 7,
     "metadata": {},
     "output_type": "execute_result"
    }
   ],
   "source": [
    "itemsOrdered.head(3)"
   ]
  },
  {
   "cell_type": "code",
   "execution_count": 8,
   "metadata": {},
   "outputs": [
    {
     "data": {
      "text/plain": [
       "(321671, 11)"
      ]
     },
     "execution_count": 8,
     "metadata": {},
     "output_type": "execute_result"
    }
   ],
   "source": [
    "itemsOrdered.shape"
   ]
  },
  {
   "cell_type": "code",
   "execution_count": 9,
   "metadata": {},
   "outputs": [],
   "source": [
    "del zip"
   ]
  },
  {
   "cell_type": "markdown",
   "metadata": {},
   "source": [
    "### Arreglos para facilitar el webscrapping"
   ]
  },
  {
   "cell_type": "code",
   "execution_count": 10,
   "metadata": {},
   "outputs": [],
   "source": [
    "itemsOrdered.loc[itemsOrdered['zipcode'].eq('30139') & itemsOrdered['city'].eq('Murcia'), \"city\"] = \"EL RAAL\"\n",
    "itemsOrdered['zipcode'] = itemsOrdered['zipcode'].replace(\"29039\", \"28039\")\n",
    "itemsOrdered.loc[itemsOrdered['zipcode'].eq('33195') & itemsOrdered['city'].eq('Oviedo '), \"city\"] = \"Morente\"\n",
    "itemsOrdered[\"city\"].replace(to_replace={'Cangas Del Narcea':\"Cerezaliz\"}, inplace=True)\n",
    "itemsOrdered['zipcode'] = itemsOrdered['zipcode'].replace(\"O88oo\", \"08800\")\n",
    "itemsOrdered.loc[itemsOrdered['zipcode'].eq('43890') & itemsOrdered['city'].eq('TARRAGONA'), \"city\"] = \"Hospitalet\"\n",
    "itemsOrdered.loc[itemsOrdered['zipcode'].eq('07700') & itemsOrdered['city'].eq('MAHON'), \"city\"] = \"Grau\"\n",
    "itemsOrdered['zipcode'] = itemsOrdered['zipcode'].replace(\"47021\", \"46021\")\n",
    "itemsOrdered.loc[itemsOrdered['zipcode'].eq('33405'), \"city\"] = \"Raices Nuevo\"\n",
    "itemsOrdered.loc[itemsOrdered['zipcode'].eq('29720') & itemsOrdered['city'].eq('MALAGA'), \"city\"] = \"La Arana\"\n",
    "itemsOrdered.loc[itemsOrdered['zipcode'].eq('08222'), \"city\"] = \"Terrassa\"\n",
    "itemsOrdered.loc[itemsOrdered['zipcode'].eq('03195'), \"city\"] = \"Los Arenales Del Sol\"\n",
    "itemsOrdered.loc[itemsOrdered['zipcode'].eq('08780'), \"city\"] = \"Palleja\"\n",
    "itemsOrdered.loc[itemsOrdered['zipcode'].eq('33405'), \"city\"] = \"Raices Nuevo\"\n",
    "itemsOrdered['zipcode'] = itemsOrdered['zipcode'].replace(\"347007\", \"37007\")\n",
    "itemsOrdered.loc[itemsOrdered['zipcode'].eq('36194'), \"city\"] = \"Perdecanai\"\n",
    "itemsOrdered.loc[itemsOrdered['zipcode'].eq('29631'), \"city\"] = \"Arroyo De La Miel\"\n",
    "itemsOrdered.loc[itemsOrdered['zipcode'].eq('27810'), \"city\"] = \"Sancobade\"\n"
   ]
  },
  {
   "cell_type": "code",
   "execution_count": 11,
   "metadata": {},
   "outputs": [
    {
     "data": {
      "text/html": [
       "<div>\n",
       "<style scoped>\n",
       "    .dataframe tbody tr th:only-of-type {\n",
       "        vertical-align: middle;\n",
       "    }\n",
       "\n",
       "    .dataframe tbody tr th {\n",
       "        vertical-align: top;\n",
       "    }\n",
       "\n",
       "    .dataframe thead th {\n",
       "        text-align: right;\n",
       "    }\n",
       "</style>\n",
       "<table border=\"1\" class=\"dataframe\">\n",
       "  <thead>\n",
       "    <tr style=\"text-align: right;\">\n",
       "      <th></th>\n",
       "      <th>num_order</th>\n",
       "      <th>item_id</th>\n",
       "      <th>created_at</th>\n",
       "      <th>product_id</th>\n",
       "      <th>qty_ordered</th>\n",
       "      <th>base_cost</th>\n",
       "      <th>price</th>\n",
       "      <th>discount_percent</th>\n",
       "      <th>customer_id</th>\n",
       "      <th>city</th>\n",
       "      <th>zipcode</th>\n",
       "    </tr>\n",
       "  </thead>\n",
       "  <tbody>\n",
       "    <tr>\n",
       "      <th>1354</th>\n",
       "      <td>43a0ce9b2ae7c87215cfe328c1faa93e</td>\n",
       "      <td>c06ab38bf2bdf501fffb726215a037cd</td>\n",
       "      <td>2017-01-01 21:24:29</td>\n",
       "      <td>51532.0</td>\n",
       "      <td>1.0</td>\n",
       "      <td>2.8524</td>\n",
       "      <td>5.41</td>\n",
       "      <td>8.0</td>\n",
       "      <td>3dfc23ebf1585f2ed1a3475ce2bb356e</td>\n",
       "      <td>Terrassa</td>\n",
       "      <td>08222</td>\n",
       "    </tr>\n",
       "    <tr>\n",
       "      <th>1355</th>\n",
       "      <td>43a0ce9b2ae7c87215cfe328c1faa93e</td>\n",
       "      <td>8f671a29f42fd40655f6d47b8fa2b90b</td>\n",
       "      <td>2017-01-01 21:24:30</td>\n",
       "      <td>7081.0</td>\n",
       "      <td>1.0</td>\n",
       "      <td>0.5100</td>\n",
       "      <td>0.91</td>\n",
       "      <td>8.0</td>\n",
       "      <td>3dfc23ebf1585f2ed1a3475ce2bb356e</td>\n",
       "      <td>Terrassa</td>\n",
       "      <td>08222</td>\n",
       "    </tr>\n",
       "  </tbody>\n",
       "</table>\n",
       "</div>"
      ],
      "text/plain": [
       "                             num_order                           item_id  \\\n",
       "1354  43a0ce9b2ae7c87215cfe328c1faa93e  c06ab38bf2bdf501fffb726215a037cd   \n",
       "1355  43a0ce9b2ae7c87215cfe328c1faa93e  8f671a29f42fd40655f6d47b8fa2b90b   \n",
       "\n",
       "               created_at  product_id  qty_ordered  base_cost  price  \\\n",
       "1354  2017-01-01 21:24:29     51532.0          1.0     2.8524   5.41   \n",
       "1355  2017-01-01 21:24:30      7081.0          1.0     0.5100   0.91   \n",
       "\n",
       "      discount_percent                       customer_id      city zipcode  \n",
       "1354               8.0  3dfc23ebf1585f2ed1a3475ce2bb356e  Terrassa   08222  \n",
       "1355               8.0  3dfc23ebf1585f2ed1a3475ce2bb356e  Terrassa   08222  "
      ]
     },
     "execution_count": 11,
     "metadata": {},
     "output_type": "execute_result"
    }
   ],
   "source": [
    "itemsOrdered[itemsOrdered[\"zipcode\"]==\"08222\"].head(2)"
   ]
  },
  {
   "cell_type": "markdown",
   "metadata": {},
   "source": [
    "### USO DE WEBSCRAPPING PARA CÓDIGO POSTAL"
   ]
  },
  {
   "cell_type": "markdown",
   "metadata": {},
   "source": [
    "Creación de Base de Datos para almacenamiento de resultados formateados del WebScrapping"
   ]
  },
  {
   "cell_type": "code",
   "execution_count": 12,
   "metadata": {},
   "outputs": [],
   "source": [
    "def IntroDB():\n",
    "    try:\n",
    "        pathDB = \"../databases/\"\n",
    "        nameDB= \"scrapedZips.db\"\n",
    "        if exists(pathDB):\n",
    "            print(f\"Carpeta {pathDB} encontrada\")\n",
    "        else:\n",
    "            mkdir(pathDB)\n",
    "            print (f\"Creada carpeta {pathDB}\")\n",
    "    except OSError:\n",
    "        print (f\"Creación de carpeta {pathDB} falló\")\n",
    "        \n",
    "    if exists(f\"{pathDB}{nameDB}\"):\n",
    "        print(\"Database existe\")\n",
    "        con, cur = SqlConnection(f\"{pathDB}{nameDB}\")\n",
    "        return con, cur\n",
    "    else:\n",
    "        print(\"Database no existe\")\n",
    "        CreateCon(f\"{pathDB}{nameDB}\")\n",
    "        con, cur = SqlConnection(f\"{pathDB}{nameDB}\")\n",
    "        PrepareCon(con, cur, option=\"insert\",\n",
    "            values=(\"Test\",\"Test\",\"Test\",\"Test\"))\n",
    "        return con, cur\n"
   ]
  },
  {
   "cell_type": "code",
   "execution_count": 13,
   "metadata": {},
   "outputs": [
    {
     "name": "stdout",
     "output_type": "stream",
     "text": [
      "Carpeta ../databases/ encontrada\n",
      "Database existe\n",
      "Conexión establecida\n"
     ]
    }
   ],
   "source": [
    "con, cur = IntroDB()"
   ]
  },
  {
   "cell_type": "code",
   "execution_count": 14,
   "metadata": {},
   "outputs": [
    {
     "name": "stdout",
     "output_type": "stream",
     "text": [
      "Borrando fila...\n",
      "OK\n"
     ]
    },
    {
     "data": {
      "text/plain": [
       "'\\nCheck the next query if something perturbe your mind\\nSELECT * FROM `sqlite_sequence`;\\n'"
      ]
     },
     "execution_count": 14,
     "metadata": {},
     "output_type": "execute_result"
    }
   ],
   "source": [
    "try:\n",
    "    if GetThings(cur, selection=\"Country,Region,City,Zipcode\", where=[\"ID\", 1], limit=1)[0][0] == \"Test\":\n",
    "        PrepareCon(con,cur,where=[\"ID\",1],option=\"delete\")\n",
    "        cur.execute(\"UPDATE `sqlite_sequence` SET `seq` = 0 WHERE `name` = 'ZipsInfo';\")\n",
    "except IndexError:\n",
    "    pass\n",
    "\n",
    "'''\n",
    "Check the next query if something perturbe your mind\n",
    "SELECT * FROM `sqlite_sequence`;\n",
    "'''"
   ]
  },
  {
   "cell_type": "code",
   "execution_count": 15,
   "metadata": {},
   "outputs": [
    {
     "data": {
      "text/plain": [
       "[]"
      ]
     },
     "execution_count": 15,
     "metadata": {},
     "output_type": "execute_result"
    }
   ],
   "source": [
    "GetThings(cur, selection=\"Country,Region,City,Zipcode\", where=[\"ID\", 1], limit=1)"
   ]
  },
  {
   "cell_type": "markdown",
   "metadata": {},
   "source": [
    "A continuación se genera una lista compuesta de tuplas compuestas de la siguiente forma: (\"Ciudad\", \"Zipcode\")"
   ]
  },
  {
   "cell_type": "code",
   "execution_count": 16,
   "metadata": {},
   "outputs": [],
   "source": [
    "rawDataZipcode = list(zip(itemsOrdered[\"city\"].tolist(), itemsOrdered[\"zipcode\"].tolist()))\n",
    "rawDataZipcode = rawDataZipcode[:int(len(rawDataZipcode)/30)]"
   ]
  },
  {
   "cell_type": "code",
   "execution_count": 17,
   "metadata": {},
   "outputs": [
    {
     "data": {
      "text/plain": [
       "('Valencia', '46019')"
      ]
     },
     "execution_count": 17,
     "metadata": {},
     "output_type": "execute_result"
    }
   ],
   "source": [
    "rawDataZipcode[0]"
   ]
  },
  {
   "cell_type": "markdown",
   "metadata": {},
   "source": [
    "**Funciones destacadas**"
   ]
  },
  {
   "cell_type": "markdown",
   "metadata": {},
   "source": [
    "Función que \"limpia\" los nombres de ciudades para mejorar su emparejamiento automático"
   ]
  },
  {
   "cell_type": "code",
   "execution_count": 18,
   "metadata": {},
   "outputs": [],
   "source": [
    "def CityCleaner(text):\n",
    "    stopWordSpanish = set(stopwords.words('spanish'))\n",
    "    wordTokens = word_tokenize(AcentosLimpiador(text.lower()).rstrip()) \n",
    "    filteredSentence = [element for element in wordTokens if not element in stopWordSpanish] \n",
    "    return filteredSentence\n",
    " "
   ]
  },
  {
   "cell_type": "markdown",
   "metadata": {},
   "source": [
    "Función que limpia zipcodes"
   ]
  },
  {
   "cell_type": "code",
   "execution_count": 19,
   "metadata": {},
   "outputs": [],
   "source": [
    "#Limpieza de zipcodes con RegEx\n",
    "def num_guion(string):\n",
    "    \"\"\" Get a string with the numbers and hyphens of another string\n",
    "    \n",
    "    Args:\n",
    "        df: string used to extract the string with numbers abd hyphens\n",
    "\n",
    "    Returns:\n",
    "        df: the string with numbers and hyphens\n",
    "    \"\"\"\n",
    "    aux = re.match(\"([\\d-]+)\", str(string))\n",
    "    try:\n",
    "        return str(aux.group())\n",
    "    except:\n",
    "        return string\n",
    "\n",
    "\n",
    "itemsOrdered[\"zipcode\"] = itemsOrdered[\"zipcode\"].apply(lambda x: num_guion(x))"
   ]
  },
  {
   "cell_type": "markdown",
   "metadata": {},
   "source": [
    "Función que limpia los acentos con el fin de homogeneizar"
   ]
  },
  {
   "cell_type": "code",
   "execution_count": 20,
   "metadata": {},
   "outputs": [],
   "source": [
    "def AcentosLimpiador(text):\n",
    "\tacentos = {'ñ':'n','á': 'a', 'é': 'e', 'í': 'i', 'ó': 'o', 'ú': 'u', 'à':'a'}\n",
    "\tfor ele in acentos:\n",
    "\t\tif ele in text:\n",
    "\t\t\ttext = text.replace(ele, acentos[ele])\n",
    "\treturn text"
   ]
  },
  {
   "cell_type": "markdown",
   "metadata": {},
   "source": [
    "Función que formatea los resultados del webscrapping de forma adecuada a los requerimientos necesarios"
   ]
  },
  {
   "cell_type": "code",
   "execution_count": 21,
   "metadata": {},
   "outputs": [],
   "source": [
    "def zipCodeManipulation(city, zipcode, queryResult=\"\", saved = False):\n",
    "  \n",
    "    # This conditional checks if the zipcode info was scrapped and stored succesfully\n",
    "    if saved == False:\n",
    "\n",
    "        listTestingZipcode = queryResult.split(\"\\n\")\n",
    "        indexMatchRegex = list(map(lambda x: [(m.start(0), m.end(0)) for m in re.finditer(r\"[a-z][A-Z0-9]\", x)], listTestingZipcode))\n",
    "\n",
    "        resultScrapClean = []\n",
    "        for pas,resultScrap in enumerate(listTestingZipcode):\n",
    "            for pos,ele in enumerate(indexMatchRegex[pas]):\n",
    "                if len(indexMatchRegex[pas])==2:\n",
    "                    if pos ==0:\n",
    "                        txt = resultScrap[:ele[0]+1]+\",\"+resultScrap[ele[1]-1:]\n",
    "                    elif pos ==1:\n",
    "                        txt = txt[:ele[0]+2]+\",\"+txt[ele[1]:]\n",
    "                        resultScrapClean.append(txt)\n",
    "                elif len(indexMatchRegex[pas])==3:\n",
    "                    if pos ==0:\n",
    "                        txt = resultScrap[:ele[0]+1]+\",\"+resultScrap[ele[1]-1:]\n",
    "                    elif pos ==1:\n",
    "                        txt = txt[:ele[0]+2]+\",\"+txt[ele[1]:]\n",
    "                    elif pos ==2:\n",
    "                        txt = txt[:ele[0]+3]+\",\"+txt[ele[1]+1:]\n",
    "                        resultScrapClean.append(txt)\n",
    "\n",
    "        resultScrapListed = [element.split(\",\") for element in resultScrapClean]\n",
    "        resultScrapRearr = [(element[0], element[1], element[-2], element[-1]) for element in resultScrapListed]\n",
    "\n",
    "        resultZip = []\n",
    "        for element in resultScrapRearr:\n",
    "            for element2  in CityCleaner(element[2]):\n",
    "                if element2 in CityCleaner(city):\n",
    "                    resultZip.append(element)\n",
    "                    break\n",
    "        try:\n",
    "            resultZip = resultZip[0]\n",
    "        except IndexError:\n",
    "            resultZip = []\n",
    "            for element in resultScrapRearr:\n",
    "                for element2 in CityCleaner(element[2]):\n",
    "                    for element3 in CityCleaner(city):\n",
    "                        if element2 .__contains__(element3):\n",
    "                            resultZip.append(element)\n",
    "                            break\n",
    "            try:\n",
    "                resultZip = resultZip[0]\n",
    "            except IndexError:\n",
    "                resultZip = []\n",
    "                for element in resultScrapRearr:\n",
    "                    for element2 in CityCleaner(element[2]):\n",
    "                        for city in CityCleaner(element3):\n",
    "                            if element3.__contains__(element2):\n",
    "                                resultZip.append(element)\n",
    "                                break\n",
    "                resultZip = resultZip[0]  \n",
    "\n",
    "    elif saved == True:\n",
    "        resultZip = GetThings(cur, selection=\"Country,Region,City,Zipcode\", where=[\"Zipcode\", zipcode], limit=1, simplify = True)\n",
    "\n",
    "\n",
    "    i = (resultZip[3]+resultZip[3]).find(resultZip[3], 1, -1)\n",
    "    return resultZip if i == -1 else resultZip[3][:i]"
   ]
  },
  {
   "cell_type": "markdown",
   "metadata": {},
   "source": [
    "**Webscrapping!**"
   ]
  },
  {
   "cell_type": "code",
   "execution_count": 24,
   "metadata": {},
   "outputs": [
    {
     "name": "stdout",
     "output_type": "stream",
     "text": [
      "AK Valencia 46019 0\n"
     ]
    },
    {
     "ename": "WebDriverException",
     "evalue": "Message: Failed to decode response from marionette\n",
     "output_type": "error",
     "traceback": [
      "\u001b[0;31m---------------------------------------------------------------------------\u001b[0m",
      "\u001b[0;31mWebDriverException\u001b[0m                        Traceback (most recent call last)",
      "\u001b[1;32m/var/home/alex/Documentos/Repos/Online/DatathonProject/src/Scrapping.ipynb Cell 35'\u001b[0m in \u001b[0;36m<module>\u001b[0;34m\u001b[0m\n\u001b[1;32m     <a href='vscode-notebook-cell:/var/home/alex/Documentos/Repos/Online/DatathonProject/src/Scrapping.ipynb#ch0000035?line=13'>14</a>\u001b[0m \u001b[39mif\u001b[39;00m GetThings(cur, selection\u001b[39m=\u001b[39m\u001b[39m\"\u001b[39m\u001b[39mZipcode\u001b[39m\u001b[39m\"\u001b[39m, where\u001b[39m=\u001b[39m[\u001b[39m\"\u001b[39m\u001b[39mZipcode\u001b[39m\u001b[39m\"\u001b[39m, element[\u001b[39m1\u001b[39m]], limit\u001b[39m=\u001b[39m\u001b[39m1\u001b[39m, simplify\u001b[39m=\u001b[39m\u001b[39mTrue\u001b[39;00m) \u001b[39m==\u001b[39m \u001b[39mNone\u001b[39;00m:\n\u001b[1;32m     <a href='vscode-notebook-cell:/var/home/alex/Documentos/Repos/Online/DatathonProject/src/Scrapping.ipynb#ch0000035?line=14'>15</a>\u001b[0m     \u001b[39mprint\u001b[39m(\u001b[39m\"\u001b[39m\u001b[39mAK\u001b[39m\u001b[39m\"\u001b[39m, element[\u001b[39m0\u001b[39m], element[\u001b[39m1\u001b[39m], pos)\n\u001b[0;32m---> <a href='vscode-notebook-cell:/var/home/alex/Documentos/Repos/Online/DatathonProject/src/Scrapping.ipynb#ch0000035?line=15'>16</a>\u001b[0m     insertZipcode \u001b[39m=\u001b[39mdriver\u001b[39m.\u001b[39;49mfind_element(By\u001b[39m.\u001b[39;49mID,\u001b[39m\"\u001b[39;49m\u001b[39msearch\u001b[39;49m\u001b[39m\"\u001b[39;49m)\n\u001b[1;32m     <a href='vscode-notebook-cell:/var/home/alex/Documentos/Repos/Online/DatathonProject/src/Scrapping.ipynb#ch0000035?line=16'>17</a>\u001b[0m     insertZipcode\u001b[39m.\u001b[39mclear()\n\u001b[1;32m     <a href='vscode-notebook-cell:/var/home/alex/Documentos/Repos/Online/DatathonProject/src/Scrapping.ipynb#ch0000035?line=17'>18</a>\u001b[0m     insertZipcode\u001b[39m.\u001b[39msend_keys(element[\u001b[39m1\u001b[39m])\n",
      "File \u001b[0;32m~/Documentos/Repos/Online/DatathonProject/penv/lib/python3.10/site-packages/selenium/webdriver/remote/webdriver.py:1248\u001b[0m, in \u001b[0;36mWebDriver.find_element\u001b[0;34m(self, by, value)\u001b[0m\n\u001b[1;32m   <a href='file:///var/home/alex/Documentos/Repos/Online/DatathonProject/penv/lib/python3.10/site-packages/selenium/webdriver/remote/webdriver.py?line=1244'>1245</a>\u001b[0m     by \u001b[39m=\u001b[39m By\u001b[39m.\u001b[39mCSS_SELECTOR\n\u001b[1;32m   <a href='file:///var/home/alex/Documentos/Repos/Online/DatathonProject/penv/lib/python3.10/site-packages/selenium/webdriver/remote/webdriver.py?line=1245'>1246</a>\u001b[0m     value \u001b[39m=\u001b[39m \u001b[39m'\u001b[39m\u001b[39m[name=\u001b[39m\u001b[39m\"\u001b[39m\u001b[39m%s\u001b[39;00m\u001b[39m\"\u001b[39m\u001b[39m]\u001b[39m\u001b[39m'\u001b[39m \u001b[39m%\u001b[39m value\n\u001b[0;32m-> <a href='file:///var/home/alex/Documentos/Repos/Online/DatathonProject/penv/lib/python3.10/site-packages/selenium/webdriver/remote/webdriver.py?line=1247'>1248</a>\u001b[0m \u001b[39mreturn\u001b[39;00m \u001b[39mself\u001b[39;49m\u001b[39m.\u001b[39;49mexecute(Command\u001b[39m.\u001b[39;49mFIND_ELEMENT, {\n\u001b[1;32m   <a href='file:///var/home/alex/Documentos/Repos/Online/DatathonProject/penv/lib/python3.10/site-packages/selenium/webdriver/remote/webdriver.py?line=1248'>1249</a>\u001b[0m     \u001b[39m'\u001b[39;49m\u001b[39musing\u001b[39;49m\u001b[39m'\u001b[39;49m: by,\n\u001b[1;32m   <a href='file:///var/home/alex/Documentos/Repos/Online/DatathonProject/penv/lib/python3.10/site-packages/selenium/webdriver/remote/webdriver.py?line=1249'>1250</a>\u001b[0m     \u001b[39m'\u001b[39;49m\u001b[39mvalue\u001b[39;49m\u001b[39m'\u001b[39;49m: value})[\u001b[39m'\u001b[39m\u001b[39mvalue\u001b[39m\u001b[39m'\u001b[39m]\n",
      "File \u001b[0;32m~/Documentos/Repos/Online/DatathonProject/penv/lib/python3.10/site-packages/selenium/webdriver/remote/webdriver.py:425\u001b[0m, in \u001b[0;36mWebDriver.execute\u001b[0;34m(self, driver_command, params)\u001b[0m\n\u001b[1;32m    <a href='file:///var/home/alex/Documentos/Repos/Online/DatathonProject/penv/lib/python3.10/site-packages/selenium/webdriver/remote/webdriver.py?line=422'>423</a>\u001b[0m response \u001b[39m=\u001b[39m \u001b[39mself\u001b[39m\u001b[39m.\u001b[39mcommand_executor\u001b[39m.\u001b[39mexecute(driver_command, params)\n\u001b[1;32m    <a href='file:///var/home/alex/Documentos/Repos/Online/DatathonProject/penv/lib/python3.10/site-packages/selenium/webdriver/remote/webdriver.py?line=423'>424</a>\u001b[0m \u001b[39mif\u001b[39;00m response:\n\u001b[0;32m--> <a href='file:///var/home/alex/Documentos/Repos/Online/DatathonProject/penv/lib/python3.10/site-packages/selenium/webdriver/remote/webdriver.py?line=424'>425</a>\u001b[0m     \u001b[39mself\u001b[39;49m\u001b[39m.\u001b[39;49merror_handler\u001b[39m.\u001b[39;49mcheck_response(response)\n\u001b[1;32m    <a href='file:///var/home/alex/Documentos/Repos/Online/DatathonProject/penv/lib/python3.10/site-packages/selenium/webdriver/remote/webdriver.py?line=425'>426</a>\u001b[0m     response[\u001b[39m'\u001b[39m\u001b[39mvalue\u001b[39m\u001b[39m'\u001b[39m] \u001b[39m=\u001b[39m \u001b[39mself\u001b[39m\u001b[39m.\u001b[39m_unwrap_value(\n\u001b[1;32m    <a href='file:///var/home/alex/Documentos/Repos/Online/DatathonProject/penv/lib/python3.10/site-packages/selenium/webdriver/remote/webdriver.py?line=426'>427</a>\u001b[0m         response\u001b[39m.\u001b[39mget(\u001b[39m'\u001b[39m\u001b[39mvalue\u001b[39m\u001b[39m'\u001b[39m, \u001b[39mNone\u001b[39;00m))\n\u001b[1;32m    <a href='file:///var/home/alex/Documentos/Repos/Online/DatathonProject/penv/lib/python3.10/site-packages/selenium/webdriver/remote/webdriver.py?line=427'>428</a>\u001b[0m     \u001b[39mreturn\u001b[39;00m response\n",
      "File \u001b[0;32m~/Documentos/Repos/Online/DatathonProject/penv/lib/python3.10/site-packages/selenium/webdriver/remote/errorhandler.py:247\u001b[0m, in \u001b[0;36mErrorHandler.check_response\u001b[0;34m(self, response)\u001b[0m\n\u001b[1;32m    <a href='file:///var/home/alex/Documentos/Repos/Online/DatathonProject/penv/lib/python3.10/site-packages/selenium/webdriver/remote/errorhandler.py?line=244'>245</a>\u001b[0m         alert_text \u001b[39m=\u001b[39m value[\u001b[39m'\u001b[39m\u001b[39malert\u001b[39m\u001b[39m'\u001b[39m]\u001b[39m.\u001b[39mget(\u001b[39m'\u001b[39m\u001b[39mtext\u001b[39m\u001b[39m'\u001b[39m)\n\u001b[1;32m    <a href='file:///var/home/alex/Documentos/Repos/Online/DatathonProject/penv/lib/python3.10/site-packages/selenium/webdriver/remote/errorhandler.py?line=245'>246</a>\u001b[0m     \u001b[39mraise\u001b[39;00m exception_class(message, screen, stacktrace, alert_text)  \u001b[39m# type: ignore[call-arg]  # mypy is not smart enough here\u001b[39;00m\n\u001b[0;32m--> <a href='file:///var/home/alex/Documentos/Repos/Online/DatathonProject/penv/lib/python3.10/site-packages/selenium/webdriver/remote/errorhandler.py?line=246'>247</a>\u001b[0m \u001b[39mraise\u001b[39;00m exception_class(message, screen, stacktrace)\n",
      "\u001b[0;31mWebDriverException\u001b[0m: Message: Failed to decode response from marionette\n"
     ]
    }
   ],
   "source": [
    "try:\n",
    "    opts = Options()\n",
    "    # opts.add_argument(\"--headless\")\n",
    "    driver = webdriver.Firefox(options=opts)\n",
    "    \n",
    "    driver.get(\"https://worldpostalcode.com/lookup\")\n",
    "    driver.set_page_load_timeout(5)\n",
    "\n",
    "    for pos, element in enumerate(rawDataZipcode):\n",
    "\n",
    "        if element[1]==\"323903\":\n",
    "            PrepareCon(con, cur, values=[\"China\", \"Zhejiang\", \"Lishui\", \"323903\"], option=\"insert\", verbose=False)\n",
    "            continue\n",
    "        if GetThings(cur, selection=\"Zipcode\", where=[\"Zipcode\", element[1]], limit=1, simplify=True) == None:\n",
    "            print(\"AK\", element[0], element[1], pos)\n",
    "            insertZipcode =driver.find_element(By.ID,\"search\")\n",
    "            insertZipcode.clear()\n",
    "            insertZipcode.send_keys(element[1])\n",
    "            clickButtonZipcode =driver.find_element(By.CLASS_NAME,\"submit\")\n",
    "            clickButtonZipcode.click()\n",
    "            driver.set_page_load_timeout(5)\n",
    "\n",
    "            getGeoInfo = driver.find_element(By.CLASS_NAME,\"search_units\")\n",
    "            saveGeoInfo = getGeoInfo.text\n",
    "            zipCodeDef = zipCodeManipulation(element[0], element[1], queryResult=saveGeoInfo)\n",
    "            print(zipCodeDef)\n",
    "            \n",
    "\n",
    "        else:\n",
    "            if pos == (int(GetThings(cur, selection=\"ID\", where=[\"Zipcode\", element[1]], limit=1, simplify=True)[0])-1):\n",
    "                print(\"OK\", element[1])\n",
    "                continue\n",
    "            else:\n",
    "                zipCodeDef = zipCodeManipulation(city=element[0], zipcode=element[1], saved = True)\n",
    "\n",
    "        PrepareCon(con, cur, values=zipCodeDef, option=\"insert\", verbose=False)\n",
    "\n",
    "    driver.close()\n",
    "    con.close()\n",
    "\n",
    "except IndexError:\n",
    "    driver.close()\n",
    "    raise Exception(f\"El fallo se ha producido con ciudad: {element[0]}, zipcode: {element[1]}\")\n",
    "\n",
    "except NoSuchElementException:\n",
    "    print(f\"No encontrado nada en ciudad: {element[0]}, zipcode: {element[1]}\")\n",
    "\n"
   ]
  },
  {
   "cell_type": "markdown",
   "metadata": {},
   "source": [
    "Añadidos manuales a la base de datos"
   ]
  },
  {
   "cell_type": "code",
   "execution_count": null,
   "metadata": {},
   "outputs": [],
   "source": [
    "GetThings(cur, selection=\"ID, Zipcode\", where=[\"city\", \"La Eliana\"], limit=1, simplify=True)\n"
   ]
  },
  {
   "cell_type": "markdown",
   "metadata": {},
   "source": [
    "**Comprobaciones del scrapping y formateo posterior realizado**"
   ]
  },
  {
   "cell_type": "code",
   "execution_count": null,
   "metadata": {},
   "outputs": [],
   "source": [
    "tableMain = \"ZipsInfo\""
   ]
  },
  {
   "cell_type": "code",
   "execution_count": null,
   "metadata": {},
   "outputs": [
    {
     "data": {
      "text/plain": [
       "3907"
      ]
     },
     "execution_count": 25,
     "metadata": {},
     "output_type": "execute_result"
    }
   ],
   "source": [
    "cur.execute(f\"SELECT (select count() from {tableMain}) as count FROM {tableMain} LIMIT 1\").fetchone()[0]"
   ]
  },
  {
   "cell_type": "markdown",
   "metadata": {},
   "source": [
    "**Transformación del scrapeo formateado a dataframe de Pandas**"
   ]
  },
  {
   "cell_type": "code",
   "execution_count": null,
   "metadata": {},
   "outputs": [],
   "source": [
    "sqlToList = cur.execute(f\"SELECT Country,Region,City,Zipcode FROM {tableMain}\").fetchall()\n"
   ]
  },
  {
   "cell_type": "code",
   "execution_count": null,
   "metadata": {},
   "outputs": [
    {
     "data": {
      "text/html": [
       "<div>\n",
       "<style scoped>\n",
       "    .dataframe tbody tr th:only-of-type {\n",
       "        vertical-align: middle;\n",
       "    }\n",
       "\n",
       "    .dataframe tbody tr th {\n",
       "        vertical-align: top;\n",
       "    }\n",
       "\n",
       "    .dataframe thead th {\n",
       "        text-align: right;\n",
       "    }\n",
       "</style>\n",
       "<table border=\"1\" class=\"dataframe\">\n",
       "  <thead>\n",
       "    <tr style=\"text-align: right;\">\n",
       "      <th></th>\n",
       "      <th>Country</th>\n",
       "      <th>Region</th>\n",
       "      <th>City</th>\n",
       "      <th>Zipcode</th>\n",
       "    </tr>\n",
       "  </thead>\n",
       "  <tbody>\n",
       "    <tr>\n",
       "      <th>0</th>\n",
       "      <td>Spain</td>\n",
       "      <td>Comunidad Valenciana</td>\n",
       "      <td>Valencia</td>\n",
       "      <td>46019</td>\n",
       "    </tr>\n",
       "    <tr>\n",
       "      <th>1</th>\n",
       "      <td>Spain</td>\n",
       "      <td>Comunidad Valenciana</td>\n",
       "      <td>Valencia</td>\n",
       "      <td>46019</td>\n",
       "    </tr>\n",
       "    <tr>\n",
       "      <th>2</th>\n",
       "      <td>Spain</td>\n",
       "      <td>Comunidad Valenciana</td>\n",
       "      <td>Valencia</td>\n",
       "      <td>46019</td>\n",
       "    </tr>\n",
       "    <tr>\n",
       "      <th>3</th>\n",
       "      <td>Spain</td>\n",
       "      <td>Andalucia</td>\n",
       "      <td>Almeria</td>\n",
       "      <td>04009</td>\n",
       "    </tr>\n",
       "    <tr>\n",
       "      <th>4</th>\n",
       "      <td>Spain</td>\n",
       "      <td>Andalucia</td>\n",
       "      <td>Almeria</td>\n",
       "      <td>04009</td>\n",
       "    </tr>\n",
       "    <tr>\n",
       "      <th>...</th>\n",
       "      <td>...</td>\n",
       "      <td>...</td>\n",
       "      <td>...</td>\n",
       "      <td>...</td>\n",
       "    </tr>\n",
       "    <tr>\n",
       "      <th>2145</th>\n",
       "      <td>Spain</td>\n",
       "      <td>Andalucia</td>\n",
       "      <td>Sevilla</td>\n",
       "      <td>41018</td>\n",
       "    </tr>\n",
       "    <tr>\n",
       "      <th>2146</th>\n",
       "      <td>Spain</td>\n",
       "      <td>Andalucia</td>\n",
       "      <td>Sevilla</td>\n",
       "      <td>41018</td>\n",
       "    </tr>\n",
       "    <tr>\n",
       "      <th>2147</th>\n",
       "      <td>Spain</td>\n",
       "      <td>Andalucia</td>\n",
       "      <td>Sevilla</td>\n",
       "      <td>41018</td>\n",
       "    </tr>\n",
       "    <tr>\n",
       "      <th>2148</th>\n",
       "      <td>Spain</td>\n",
       "      <td>Andalucia</td>\n",
       "      <td>Sevilla</td>\n",
       "      <td>41018</td>\n",
       "    </tr>\n",
       "    <tr>\n",
       "      <th>2149</th>\n",
       "      <td>Spain</td>\n",
       "      <td>Andalucia</td>\n",
       "      <td>Sevilla</td>\n",
       "      <td>41018</td>\n",
       "    </tr>\n",
       "  </tbody>\n",
       "</table>\n",
       "<p>2150 rows × 4 columns</p>\n",
       "</div>"
      ],
      "text/plain": [
       "     Country                Region      City Zipcode\n",
       "0      Spain  Comunidad Valenciana  Valencia   46019\n",
       "1      Spain  Comunidad Valenciana  Valencia   46019\n",
       "2      Spain  Comunidad Valenciana  Valencia   46019\n",
       "3      Spain             Andalucia   Almeria   04009\n",
       "4      Spain             Andalucia   Almeria   04009\n",
       "...      ...                   ...       ...     ...\n",
       "2145   Spain             Andalucia   Sevilla   41018\n",
       "2146   Spain             Andalucia   Sevilla   41018\n",
       "2147   Spain             Andalucia   Sevilla   41018\n",
       "2148   Spain             Andalucia   Sevilla   41018\n",
       "2149   Spain             Andalucia   Sevilla   41018\n",
       "\n",
       "[2150 rows x 4 columns]"
      ]
     },
     "execution_count": 26,
     "metadata": {},
     "output_type": "execute_result"
    }
   ],
   "source": [
    "df = pd.DataFrame(sqlToList, columns=[\"Country\",\"Region\",\"City\",\"Zipcode\"])\n",
    "df"
   ]
  },
  {
   "cell_type": "code",
   "execution_count": null,
   "metadata": {},
   "outputs": [],
   "source": [
    "AK Altafulla 43893 327"
   ]
  },
  {
   "cell_type": "code",
   "execution_count": null,
   "metadata": {},
   "outputs": [
    {
     "data": {
      "text/plain": [
       "'43893'"
      ]
     },
     "execution_count": 38,
     "metadata": {},
     "output_type": "execute_result"
    }
   ],
   "source": [
    "i = (\"4389343893\"+\"4389343893\").find(\"4389343893\", 1, -1)\n",
    "\"OK\" if i == -1 else \"4389343893\"[:i]"
   ]
  }
 ],
 "metadata": {
  "interpreter": {
   "hash": "f876c6d03db2a1b556a458eeb23dadf5ec8e4266298f30cdd70e3128597d8f66"
  },
  "kernelspec": {
   "display_name": "Python 3.10.2 ('penv': venv)",
   "language": "python",
   "name": "python3"
  },
  "language_info": {
   "codemirror_mode": {
    "name": "ipython",
    "version": 3
   },
   "file_extension": ".py",
   "mimetype": "text/x-python",
   "name": "python",
   "nbconvert_exporter": "python",
   "pygments_lexer": "ipython3",
   "version": "3.10.2"
  },
  "orig_nbformat": 4
 },
 "nbformat": 4,
 "nbformat_minor": 2
}
