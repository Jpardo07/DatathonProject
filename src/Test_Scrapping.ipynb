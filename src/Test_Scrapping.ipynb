{
 "cells": [
  {
   "cell_type": "markdown",
   "metadata": {},
   "source": [
    "### Libraries import"
   ]
  },
  {
   "cell_type": "code",
   "execution_count": 17,
   "metadata": {},
   "outputs": [],
   "source": [
    "import pandas as pd # Dataframes management\n",
    "from zipfile import ZipFile  # Files compressed management\n",
    "import os # Files management along OS\n",
    "import re\n"
   ]
  },
  {
   "cell_type": "code",
   "execution_count": 18,
   "metadata": {},
   "outputs": [],
   "source": [
    "from selenium import webdriver # Webscrapping bot\n",
    "from selenium.webdriver.chrome.options import Options\n",
    "from selenium.webdriver.common.by import By\n",
    "from selenium.webdriver.common.keys import Keys\n",
    "import time"
   ]
  },
  {
   "cell_type": "code",
   "execution_count": 19,
   "metadata": {},
   "outputs": [],
   "source": [
    "import nltk\n",
    "from nltk.tokenize import word_tokenize, sent_tokenize\n",
    "from nltk.corpus import stopwords"
   ]
  },
  {
   "cell_type": "markdown",
   "metadata": {},
   "source": [
    "### Data import"
   ]
  },
  {
   "cell_type": "code",
   "execution_count": 22,
   "metadata": {},
   "outputs": [
    {
     "name": "stdout",
     "output_type": "stream",
     "text": [
      "File Name                                             Modified             Size\n",
      "items_ordered_2years_V2.csv                    2022-02-23 01:28:04    150372498\n",
      "extraction...\n",
      "Done!\n",
      "CSV imported to Pandas successfully\n",
      "Original CSV removed to preserve repo health\n"
     ]
    }
   ],
   "source": [
    "# Specifying the name of the zip file\n",
    "fileZIP = \"/items_ordered_2years_V2.zip\"\n",
    "fileCSV = \"/items_ordered_2years_V2.csv\"\n",
    "\n",
    "path = \"../Inputs/Modificados - Atmira_Pharma_Visualization\"\n",
    "  \n",
    "# Open the zip file in read mode\n",
    "with ZipFile(f\"{path}{fileZIP}\", 'r') as zip: \n",
    "    # List all the contents of the zip file\n",
    "    zip.printdir() \n",
    "  \n",
    "    # Extract all files\n",
    "    print('extraction...') \n",
    "    zip.extractall(path) \n",
    "    print('Done!')\n",
    "\n",
    "#Import CSV to pandas\n",
    "itemsOrdered = pd.read_csv(f\"{path}{fileCSV}\")\n",
    "print(\"CSV imported to Pandas successfully\")\n",
    "\n",
    "# Remove uncompressed CSV file\n",
    "os.remove(f\"{path}{fileCSV}\")\n",
    "print(\"Original CSV removed to preserve repo health\")"
   ]
  },
  {
   "cell_type": "code",
   "execution_count": 23,
   "metadata": {},
   "outputs": [
    {
     "data": {
      "text/html": [
       "<div>\n",
       "<style scoped>\n",
       "    .dataframe tbody tr th:only-of-type {\n",
       "        vertical-align: middle;\n",
       "    }\n",
       "\n",
       "    .dataframe tbody tr th {\n",
       "        vertical-align: top;\n",
       "    }\n",
       "\n",
       "    .dataframe thead th {\n",
       "        text-align: right;\n",
       "    }\n",
       "</style>\n",
       "<table border=\"1\" class=\"dataframe\">\n",
       "  <thead>\n",
       "    <tr style=\"text-align: right;\">\n",
       "      <th></th>\n",
       "      <th>num_order</th>\n",
       "      <th>item_id</th>\n",
       "      <th>created_at</th>\n",
       "      <th>product_id</th>\n",
       "      <th>qty_ordered</th>\n",
       "      <th>base_cost</th>\n",
       "      <th>price</th>\n",
       "      <th>discount_percent</th>\n",
       "      <th>customer_id</th>\n",
       "      <th>city</th>\n",
       "      <th>zipcode</th>\n",
       "    </tr>\n",
       "  </thead>\n",
       "  <tbody>\n",
       "    <tr>\n",
       "      <th>0</th>\n",
       "      <td>562ba4ba9aaf2a1e926842deca19271d</td>\n",
       "      <td>2bca87c2ab10b07feef290a9be47f316</td>\n",
       "      <td>2017-01-01 00:20:33</td>\n",
       "      <td>6409.0</td>\n",
       "      <td>1.0</td>\n",
       "      <td>13.4204</td>\n",
       "      <td>17.17</td>\n",
       "      <td>8.0</td>\n",
       "      <td>50d7f99947b472cc889d58845b9d23e2</td>\n",
       "      <td>Valencia</td>\n",
       "      <td>46019</td>\n",
       "    </tr>\n",
       "    <tr>\n",
       "      <th>1</th>\n",
       "      <td>562ba4ba9aaf2a1e926842deca19271d</td>\n",
       "      <td>53e12ac4b579f0c4b1c4f77d50bf8792</td>\n",
       "      <td>2017-01-01 00:20:33</td>\n",
       "      <td>5133.0</td>\n",
       "      <td>1.0</td>\n",
       "      <td>18.5351</td>\n",
       "      <td>22.68</td>\n",
       "      <td>8.0</td>\n",
       "      <td>50d7f99947b472cc889d58845b9d23e2</td>\n",
       "      <td>Valencia</td>\n",
       "      <td>46019</td>\n",
       "    </tr>\n",
       "    <tr>\n",
       "      <th>2</th>\n",
       "      <td>562ba4ba9aaf2a1e926842deca19271d</td>\n",
       "      <td>d19d6df5cd6a1e741408b70aa2767bf4</td>\n",
       "      <td>2017-01-01 00:20:33</td>\n",
       "      <td>5125.0</td>\n",
       "      <td>1.0</td>\n",
       "      <td>18.5260</td>\n",
       "      <td>22.68</td>\n",
       "      <td>8.0</td>\n",
       "      <td>50d7f99947b472cc889d58845b9d23e2</td>\n",
       "      <td>Valencia</td>\n",
       "      <td>46019</td>\n",
       "    </tr>\n",
       "  </tbody>\n",
       "</table>\n",
       "</div>"
      ],
      "text/plain": [
       "                          num_order                           item_id  \\\n",
       "0  562ba4ba9aaf2a1e926842deca19271d  2bca87c2ab10b07feef290a9be47f316   \n",
       "1  562ba4ba9aaf2a1e926842deca19271d  53e12ac4b579f0c4b1c4f77d50bf8792   \n",
       "2  562ba4ba9aaf2a1e926842deca19271d  d19d6df5cd6a1e741408b70aa2767bf4   \n",
       "\n",
       "            created_at  product_id  qty_ordered  base_cost  price  \\\n",
       "0  2017-01-01 00:20:33      6409.0          1.0    13.4204  17.17   \n",
       "1  2017-01-01 00:20:33      5133.0          1.0    18.5351  22.68   \n",
       "2  2017-01-01 00:20:33      5125.0          1.0    18.5260  22.68   \n",
       "\n",
       "   discount_percent                       customer_id      city zipcode  \n",
       "0               8.0  50d7f99947b472cc889d58845b9d23e2  Valencia   46019  \n",
       "1               8.0  50d7f99947b472cc889d58845b9d23e2  Valencia   46019  \n",
       "2               8.0  50d7f99947b472cc889d58845b9d23e2  Valencia   46019  "
      ]
     },
     "execution_count": 23,
     "metadata": {},
     "output_type": "execute_result"
    }
   ],
   "source": [
    "itemsOrdered.head(3)"
   ]
  },
  {
   "cell_type": "code",
   "execution_count": null,
   "metadata": {},
   "outputs": [
    {
     "data": {
      "text/html": [
       "<div>\n",
       "<style scoped>\n",
       "    .dataframe tbody tr th:only-of-type {\n",
       "        vertical-align: middle;\n",
       "    }\n",
       "\n",
       "    .dataframe tbody tr th {\n",
       "        vertical-align: top;\n",
       "    }\n",
       "\n",
       "    .dataframe thead th {\n",
       "        text-align: right;\n",
       "    }\n",
       "</style>\n",
       "<table border=\"1\" class=\"dataframe\">\n",
       "  <thead>\n",
       "    <tr style=\"text-align: right;\">\n",
       "      <th></th>\n",
       "      <th>num_order</th>\n",
       "      <th>item_id</th>\n",
       "      <th>created_at</th>\n",
       "      <th>product_id</th>\n",
       "      <th>qty_ordered</th>\n",
       "      <th>base_cost</th>\n",
       "      <th>price</th>\n",
       "      <th>discount_percent</th>\n",
       "      <th>customer_id</th>\n",
       "      <th>city</th>\n",
       "      <th>zipcode</th>\n",
       "    </tr>\n",
       "  </thead>\n",
       "  <tbody>\n",
       "    <tr>\n",
       "      <th>203989</th>\n",
       "      <td>10a97b452a0d8de97e406d7faadbb7dc</td>\n",
       "      <td>516473bbbe47cbcbd090bed79f835ac0</td>\n",
       "      <td>2017-09-03 20:24:31</td>\n",
       "      <td>5578.0</td>\n",
       "      <td>1.0</td>\n",
       "      <td>2.4551</td>\n",
       "      <td>4.08</td>\n",
       "      <td>5.0</td>\n",
       "      <td>df5602637d380293696349f08f91fa57</td>\n",
       "      <td>les botigues de sitges</td>\n",
       "      <td>08860</td>\n",
       "    </tr>\n",
       "  </tbody>\n",
       "</table>\n",
       "</div>"
      ],
      "text/plain": [
       "                               num_order                           item_id  \\\n",
       "203989  10a97b452a0d8de97e406d7faadbb7dc  516473bbbe47cbcbd090bed79f835ac0   \n",
       "\n",
       "                 created_at  product_id  qty_ordered  base_cost  price  \\\n",
       "203989  2017-09-03 20:24:31      5578.0          1.0     2.4551   4.08   \n",
       "\n",
       "        discount_percent                       customer_id  \\\n",
       "203989               5.0  df5602637d380293696349f08f91fa57   \n",
       "\n",
       "                          city zipcode  \n",
       "203989  les botigues de sitges   08860  "
      ]
     },
     "execution_count": 7,
     "metadata": {},
     "output_type": "execute_result"
    }
   ],
   "source": [
    "itemsOrdered[itemsOrdered[\"city\"]==\"les botigues de sitges\"]"
   ]
  },
  {
   "cell_type": "markdown",
   "metadata": {},
   "source": [
    "**Inviable**"
   ]
  },
  {
   "cell_type": "markdown",
   "metadata": {},
   "source": [
    "**Se extrae la columna de código postal**"
   ]
  },
  {
   "cell_type": "code",
   "execution_count": null,
   "metadata": {},
   "outputs": [
    {
     "name": "stdout",
     "output_type": "stream",
     "text": [
      "(321671,)\n"
     ]
    },
    {
     "data": {
      "text/plain": [
       "0    46019\n",
       "1    46019\n",
       "Name: zipcode, dtype: object"
      ]
     },
     "execution_count": 8,
     "metadata": {},
     "output_type": "execute_result"
    }
   ],
   "source": [
    "zipSerie = itemsOrdered[\"zipcode\"]\n",
    "print(zipSerie.shape)\n",
    "zipSerie.head(2)"
   ]
  },
  {
   "cell_type": "markdown",
   "metadata": {},
   "source": [
    "**Se analizan las condiciones de zipcode**"
   ]
  },
  {
   "cell_type": "code",
   "execution_count": null,
   "metadata": {},
   "outputs": [
    {
     "data": {
      "text/plain": [
       "array(['46019', '04009', '08225', ..., '4445-151', '43765', '3515-383'],\n",
       "      dtype=object)"
      ]
     },
     "execution_count": 9,
     "metadata": {},
     "output_type": "execute_result"
    }
   ],
   "source": [
    "zipSerie.unique()"
   ]
  },
  {
   "cell_type": "code",
   "execution_count": null,
   "metadata": {},
   "outputs": [
    {
     "data": {
      "text/plain": [
       "1198"
      ]
     },
     "execution_count": 10,
     "metadata": {},
     "output_type": "execute_result"
    }
   ],
   "source": [
    "zipSerie.isna().sum()"
   ]
  },
  {
   "cell_type": "markdown",
   "metadata": {},
   "source": [
    "**Se comprueba que zipcode tiene valores nulos, se indaga en esta cuestión**"
   ]
  },
  {
   "cell_type": "code",
   "execution_count": null,
   "metadata": {},
   "outputs": [
    {
     "data": {
      "text/plain": [
       "103273    NaN\n",
       "103274    NaN\n",
       "103275    NaN\n",
       "103276    NaN\n",
       "103492    NaN\n",
       "         ... \n",
       "319351    NaN\n",
       "319352    NaN\n",
       "319476    NaN\n",
       "319477    NaN\n",
       "319478    NaN\n",
       "Name: zipcode, Length: 1198, dtype: object"
      ]
     },
     "execution_count": 11,
     "metadata": {},
     "output_type": "execute_result"
    }
   ],
   "source": [
    "zipSerie[zipSerie.isna()]"
   ]
  },
  {
   "cell_type": "markdown",
   "metadata": {},
   "source": []
  },
  {
   "cell_type": "code",
   "execution_count": null,
   "metadata": {},
   "outputs": [
    {
     "data": {
      "text/plain": [
       "320473"
      ]
     },
     "execution_count": 12,
     "metadata": {},
     "output_type": "execute_result"
    }
   ],
   "source": [
    "zipSerie.shape[0]-len(zipSerie[zipSerie.isna()].index)"
   ]
  },
  {
   "cell_type": "code",
   "execution_count": null,
   "metadata": {},
   "outputs": [
    {
     "data": {
      "text/plain": [
       "0.37"
      ]
     },
     "execution_count": 13,
     "metadata": {},
     "output_type": "execute_result"
    }
   ],
   "source": [
    "round((len(zipSerie[zipSerie.isna()].index)/zipSerie.shape[0])*100, 2)"
   ]
  },
  {
   "cell_type": "markdown",
   "metadata": {},
   "source": [
    "**Hay un 37% de valores nulos en la variable. De momento se eliminan con el fin de probar la API para los zipcodes, pero deberá valorarse a futuro**"
   ]
  },
  {
   "cell_type": "code",
   "execution_count": null,
   "metadata": {},
   "outputs": [
    {
     "data": {
      "text/plain": [
       "320473"
      ]
     },
     "execution_count": 14,
     "metadata": {},
     "output_type": "execute_result"
    }
   ],
   "source": [
    "zipSerie.dropna(inplace=True)\n",
    "zipSerie.shape[0]"
   ]
  },
  {
   "cell_type": "code",
   "execution_count": null,
   "metadata": {},
   "outputs": [
    {
     "data": {
      "text/html": [
       "<div>\n",
       "<style scoped>\n",
       "    .dataframe tbody tr th:only-of-type {\n",
       "        vertical-align: middle;\n",
       "    }\n",
       "\n",
       "    .dataframe tbody tr th {\n",
       "        vertical-align: top;\n",
       "    }\n",
       "\n",
       "    .dataframe thead th {\n",
       "        text-align: right;\n",
       "    }\n",
       "</style>\n",
       "<table border=\"1\" class=\"dataframe\">\n",
       "  <thead>\n",
       "    <tr style=\"text-align: right;\">\n",
       "      <th></th>\n",
       "      <th>num_order</th>\n",
       "      <th>item_id</th>\n",
       "      <th>created_at</th>\n",
       "      <th>product_id</th>\n",
       "      <th>qty_ordered</th>\n",
       "      <th>base_cost</th>\n",
       "      <th>price</th>\n",
       "      <th>discount_percent</th>\n",
       "      <th>customer_id</th>\n",
       "      <th>city</th>\n",
       "      <th>zipcode</th>\n",
       "    </tr>\n",
       "  </thead>\n",
       "  <tbody>\n",
       "    <tr>\n",
       "      <th>30</th>\n",
       "      <td>5992c1625cc4b93264594f98c0c88db3</td>\n",
       "      <td>7fcbb601cef70f0fced43efe096bd879</td>\n",
       "      <td>2017-01-01 08:31:58</td>\n",
       "      <td>41884.0</td>\n",
       "      <td>1.0</td>\n",
       "      <td>8.6242</td>\n",
       "      <td>14.50</td>\n",
       "      <td>8.0</td>\n",
       "      <td>528041acb3b5ddddc51f42c95a78c21a</td>\n",
       "      <td>Murcia</td>\n",
       "      <td>30139</td>\n",
       "    </tr>\n",
       "    <tr>\n",
       "      <th>31</th>\n",
       "      <td>5992c1625cc4b93264594f98c0c88db3</td>\n",
       "      <td>9c7846d8386f7191de9640a4115dcb73</td>\n",
       "      <td>2017-01-01 08:31:58</td>\n",
       "      <td>6159.0</td>\n",
       "      <td>1.0</td>\n",
       "      <td>4.9140</td>\n",
       "      <td>7.40</td>\n",
       "      <td>8.0</td>\n",
       "      <td>528041acb3b5ddddc51f42c95a78c21a</td>\n",
       "      <td>Murcia</td>\n",
       "      <td>30139</td>\n",
       "    </tr>\n",
       "    <tr>\n",
       "      <th>32</th>\n",
       "      <td>5992c1625cc4b93264594f98c0c88db3</td>\n",
       "      <td>8f29bf49f01d7e6b2d516f8bd6cfe435</td>\n",
       "      <td>2017-01-01 08:31:58</td>\n",
       "      <td>9048.0</td>\n",
       "      <td>1.0</td>\n",
       "      <td>2.3900</td>\n",
       "      <td>2.60</td>\n",
       "      <td>8.0</td>\n",
       "      <td>528041acb3b5ddddc51f42c95a78c21a</td>\n",
       "      <td>Murcia</td>\n",
       "      <td>30139</td>\n",
       "    </tr>\n",
       "    <tr>\n",
       "      <th>33</th>\n",
       "      <td>5992c1625cc4b93264594f98c0c88db3</td>\n",
       "      <td>8a4653d26eac38f05519dc529e5b4639</td>\n",
       "      <td>2017-01-01 08:31:58</td>\n",
       "      <td>24172.0</td>\n",
       "      <td>1.0</td>\n",
       "      <td>9.5160</td>\n",
       "      <td>12.14</td>\n",
       "      <td>8.0</td>\n",
       "      <td>528041acb3b5ddddc51f42c95a78c21a</td>\n",
       "      <td>Murcia</td>\n",
       "      <td>30139</td>\n",
       "    </tr>\n",
       "    <tr>\n",
       "      <th>34</th>\n",
       "      <td>5992c1625cc4b93264594f98c0c88db3</td>\n",
       "      <td>8a4653d26eac38f05519dc529e5b4639</td>\n",
       "      <td>2017-01-01 08:31:58</td>\n",
       "      <td>24172.0</td>\n",
       "      <td>1.0</td>\n",
       "      <td>9.5160</td>\n",
       "      <td>12.14</td>\n",
       "      <td>8.0</td>\n",
       "      <td>528041acb3b5ddddc51f42c95a78c21a</td>\n",
       "      <td>Murcia</td>\n",
       "      <td>30139</td>\n",
       "    </tr>\n",
       "    <tr>\n",
       "      <th>...</th>\n",
       "      <td>...</td>\n",
       "      <td>...</td>\n",
       "      <td>...</td>\n",
       "      <td>...</td>\n",
       "      <td>...</td>\n",
       "      <td>...</td>\n",
       "      <td>...</td>\n",
       "      <td>...</td>\n",
       "      <td>...</td>\n",
       "      <td>...</td>\n",
       "      <td>...</td>\n",
       "    </tr>\n",
       "    <tr>\n",
       "      <th>218241</th>\n",
       "      <td>30531d416799775c5c880b6e62784471</td>\n",
       "      <td>1a7bfe6e3a2f4cf5c1e889fbd068e952</td>\n",
       "      <td>2017-09-19 16:33:47</td>\n",
       "      <td>8181.0</td>\n",
       "      <td>1.0</td>\n",
       "      <td>17.4809</td>\n",
       "      <td>20.80</td>\n",
       "      <td>7.0</td>\n",
       "      <td>3e8818a695464113ae8f8cc2780eabf3</td>\n",
       "      <td>EL RAAL</td>\n",
       "      <td>30139</td>\n",
       "    </tr>\n",
       "    <tr>\n",
       "      <th>218242</th>\n",
       "      <td>30531d416799775c5c880b6e62784471</td>\n",
       "      <td>8f5504de4dc183ad328ae722e2e0c861</td>\n",
       "      <td>2017-09-19 16:33:47</td>\n",
       "      <td>11788.0</td>\n",
       "      <td>1.0</td>\n",
       "      <td>2.6300</td>\n",
       "      <td>4.09</td>\n",
       "      <td>7.0</td>\n",
       "      <td>3e8818a695464113ae8f8cc2780eabf3</td>\n",
       "      <td>EL RAAL</td>\n",
       "      <td>30139</td>\n",
       "    </tr>\n",
       "    <tr>\n",
       "      <th>218243</th>\n",
       "      <td>30531d416799775c5c880b6e62784471</td>\n",
       "      <td>880141d0d213ba805a6c1fb5d39960c1</td>\n",
       "      <td>2017-09-19 16:33:47</td>\n",
       "      <td>30165.0</td>\n",
       "      <td>1.0</td>\n",
       "      <td>5.1800</td>\n",
       "      <td>5.91</td>\n",
       "      <td>7.0</td>\n",
       "      <td>3e8818a695464113ae8f8cc2780eabf3</td>\n",
       "      <td>EL RAAL</td>\n",
       "      <td>30139</td>\n",
       "    </tr>\n",
       "    <tr>\n",
       "      <th>218244</th>\n",
       "      <td>30531d416799775c5c880b6e62784471</td>\n",
       "      <td>f039c4a3a5738dceea2c9e940bdb9726</td>\n",
       "      <td>2017-09-19 16:33:47</td>\n",
       "      <td>6368.0</td>\n",
       "      <td>1.0</td>\n",
       "      <td>21.6370</td>\n",
       "      <td>25.74</td>\n",
       "      <td>7.0</td>\n",
       "      <td>3e8818a695464113ae8f8cc2780eabf3</td>\n",
       "      <td>EL RAAL</td>\n",
       "      <td>30139</td>\n",
       "    </tr>\n",
       "    <tr>\n",
       "      <th>218245</th>\n",
       "      <td>30531d416799775c5c880b6e62784471</td>\n",
       "      <td>106d02472a0a7f6bfeab1d4823538e04</td>\n",
       "      <td>2017-09-19 16:33:47</td>\n",
       "      <td>5147.0</td>\n",
       "      <td>1.0</td>\n",
       "      <td>8.8096</td>\n",
       "      <td>10.71</td>\n",
       "      <td>7.0</td>\n",
       "      <td>3e8818a695464113ae8f8cc2780eabf3</td>\n",
       "      <td>EL RAAL</td>\n",
       "      <td>30139</td>\n",
       "    </tr>\n",
       "  </tbody>\n",
       "</table>\n",
       "<p>86 rows × 11 columns</p>\n",
       "</div>"
      ],
      "text/plain": [
       "                               num_order                           item_id  \\\n",
       "30      5992c1625cc4b93264594f98c0c88db3  7fcbb601cef70f0fced43efe096bd879   \n",
       "31      5992c1625cc4b93264594f98c0c88db3  9c7846d8386f7191de9640a4115dcb73   \n",
       "32      5992c1625cc4b93264594f98c0c88db3  8f29bf49f01d7e6b2d516f8bd6cfe435   \n",
       "33      5992c1625cc4b93264594f98c0c88db3  8a4653d26eac38f05519dc529e5b4639   \n",
       "34      5992c1625cc4b93264594f98c0c88db3  8a4653d26eac38f05519dc529e5b4639   \n",
       "...                                  ...                               ...   \n",
       "218241  30531d416799775c5c880b6e62784471  1a7bfe6e3a2f4cf5c1e889fbd068e952   \n",
       "218242  30531d416799775c5c880b6e62784471  8f5504de4dc183ad328ae722e2e0c861   \n",
       "218243  30531d416799775c5c880b6e62784471  880141d0d213ba805a6c1fb5d39960c1   \n",
       "218244  30531d416799775c5c880b6e62784471  f039c4a3a5738dceea2c9e940bdb9726   \n",
       "218245  30531d416799775c5c880b6e62784471  106d02472a0a7f6bfeab1d4823538e04   \n",
       "\n",
       "                 created_at  product_id  qty_ordered  base_cost  price  \\\n",
       "30      2017-01-01 08:31:58     41884.0          1.0     8.6242  14.50   \n",
       "31      2017-01-01 08:31:58      6159.0          1.0     4.9140   7.40   \n",
       "32      2017-01-01 08:31:58      9048.0          1.0     2.3900   2.60   \n",
       "33      2017-01-01 08:31:58     24172.0          1.0     9.5160  12.14   \n",
       "34      2017-01-01 08:31:58     24172.0          1.0     9.5160  12.14   \n",
       "...                     ...         ...          ...        ...    ...   \n",
       "218241  2017-09-19 16:33:47      8181.0          1.0    17.4809  20.80   \n",
       "218242  2017-09-19 16:33:47     11788.0          1.0     2.6300   4.09   \n",
       "218243  2017-09-19 16:33:47     30165.0          1.0     5.1800   5.91   \n",
       "218244  2017-09-19 16:33:47      6368.0          1.0    21.6370  25.74   \n",
       "218245  2017-09-19 16:33:47      5147.0          1.0     8.8096  10.71   \n",
       "\n",
       "        discount_percent                       customer_id     city zipcode  \n",
       "30                   8.0  528041acb3b5ddddc51f42c95a78c21a   Murcia   30139  \n",
       "31                   8.0  528041acb3b5ddddc51f42c95a78c21a   Murcia   30139  \n",
       "32                   8.0  528041acb3b5ddddc51f42c95a78c21a   Murcia   30139  \n",
       "33                   8.0  528041acb3b5ddddc51f42c95a78c21a   Murcia   30139  \n",
       "34                   8.0  528041acb3b5ddddc51f42c95a78c21a   Murcia   30139  \n",
       "...                  ...                               ...      ...     ...  \n",
       "218241               7.0  3e8818a695464113ae8f8cc2780eabf3  EL RAAL   30139  \n",
       "218242               7.0  3e8818a695464113ae8f8cc2780eabf3  EL RAAL   30139  \n",
       "218243               7.0  3e8818a695464113ae8f8cc2780eabf3  EL RAAL   30139  \n",
       "218244               7.0  3e8818a695464113ae8f8cc2780eabf3  EL RAAL   30139  \n",
       "218245               7.0  3e8818a695464113ae8f8cc2780eabf3  EL RAAL   30139  \n",
       "\n",
       "[86 rows x 11 columns]"
      ]
     },
     "execution_count": 15,
     "metadata": {},
     "output_type": "execute_result"
    }
   ],
   "source": [
    "itemsOrdered[itemsOrdered[\"zipcode\"]==\"30139\"]"
   ]
  },
  {
   "cell_type": "markdown",
   "metadata": {},
   "source": [
    "### USO DE API PARA CÓDIGO POSTAL"
   ]
  },
  {
   "cell_type": "markdown",
   "metadata": {},
   "source": [
    "Descartado por inviabilidad económica y de tiempo"
   ]
  },
  {
   "cell_type": "markdown",
   "metadata": {},
   "source": [
    "### USO DE WEBSCRAPPING PARA CÓDIGO POSTAL"
   ]
  },
  {
   "cell_type": "code",
   "execution_count": null,
   "metadata": {},
   "outputs": [],
   "source": [
    "def AcentosLimpiador(text):\n",
    "\tacentos = {'á': 'a', 'é': 'e', 'í': 'i', 'ó': 'o', 'ú': 'u', 'Á': 'A', 'E': 'E', 'Í': 'I', 'Ó': 'O', 'Ú': 'U'}\n",
    "\tfor ele in acentos:\n",
    "\t\tif ele in text:\n",
    "\t\t\ttext = text.replace(ele, acentos[ele])\n",
    "\treturn text"
   ]
  },
  {
   "cell_type": "code",
   "execution_count": null,
   "metadata": {},
   "outputs": [],
   "source": [
    "def CityCleaner(text):\n",
    "    stopWordSpanish = set(stopwords.words('spanish'))\n",
    "    wordTokens = word_tokenize(AcentosLimpiador(text.lower()).rstrip()) \n",
    "    filteredSentence = [element for element in wordTokens if not element in stopWordSpanish] \n",
    "    return filteredSentence"
   ]
  },
  {
   "cell_type": "code",
   "execution_count": null,
   "metadata": {},
   "outputs": [
    {
     "ename": "NameError",
     "evalue": "name 'itemsOrdered' is not defined",
     "output_type": "error",
     "traceback": [
      "\u001b[0;31m---------------------------------------------------------------------------\u001b[0m",
      "\u001b[0;31mNameError\u001b[0m                                 Traceback (most recent call last)",
      "\u001b[1;32m/var/home/alex/Documentos/Repos/Online/DatathonProject/src/Test_Scrapping.ipynb Cell 28'\u001b[0m in \u001b[0;36m<module>\u001b[0;34m\u001b[0m\n\u001b[1;32m     <a href='vscode-notebook-cell:/var/home/alex/Documentos/Repos/Online/DatathonProject/src/Test_Scrapping.ipynb#ch0000049?line=13'>14</a>\u001b[0m     \u001b[39mexcept\u001b[39;00m:\n\u001b[1;32m     <a href='vscode-notebook-cell:/var/home/alex/Documentos/Repos/Online/DatathonProject/src/Test_Scrapping.ipynb#ch0000049?line=14'>15</a>\u001b[0m         \u001b[39mreturn\u001b[39;00m string\n\u001b[0;32m---> <a href='vscode-notebook-cell:/var/home/alex/Documentos/Repos/Online/DatathonProject/src/Test_Scrapping.ipynb#ch0000049?line=17'>18</a>\u001b[0m itemsOrdered[\u001b[39m\"\u001b[39m\u001b[39mzipcode\u001b[39m\u001b[39m\"\u001b[39m] \u001b[39m=\u001b[39m itemsOrdered[\u001b[39m\"\u001b[39m\u001b[39mzipcode\u001b[39m\u001b[39m\"\u001b[39m]\u001b[39m.\u001b[39mapply(\u001b[39mlambda\u001b[39;00m x: num_guion(x))\n",
      "\u001b[0;31mNameError\u001b[0m: name 'itemsOrdered' is not defined"
     ]
    }
   ],
   "source": [
    "#Limpieza de zipcodes con RegEx\n",
    "def num_guion(string):\n",
    "    \"\"\" Get a string with the numbers and hyphens of another string\n",
    "    \n",
    "    Args:\n",
    "        df: string used to extract the string with numbers abd hyphens\n",
    "\n",
    "    Returns:\n",
    "        df: the string with numbers and hyphens\n",
    "    \"\"\"\n",
    "    aux = re.match(\"([\\d-]+)\", str(string))\n",
    "    try:\n",
    "        return str(aux.group())\n",
    "    except:\n",
    "        return string\n",
    "\n",
    "\n",
    "itemsOrdered[\"zipcode\"] = itemsOrdered[\"zipcode\"].apply(lambda x: num_guion(x))"
   ]
  },
  {
   "cell_type": "code",
   "execution_count": null,
   "metadata": {},
   "outputs": [],
   "source": [
    "cityToAnalyze = \"CARIDAD, LA (EL FRANCO)\"\n",
    "zipToAnalyze = \"33750\""
   ]
  },
  {
   "cell_type": "code",
   "execution_count": null,
   "metadata": {},
   "outputs": [],
   "source": [
    "driver = webdriver.Firefox()\n",
    "    \n",
    "driver.get(\"https://worldpostalcode.com/lookup\")\n",
    "driver.set_page_load_timeout(5)\n",
    "\n",
    "insertZipcode =driver.find_element(By.ID,\"search\")\n",
    "insertZipcode.clear()\n",
    "insertZipcode.send_keys(zipToAnalyze)\n",
    "clickButtonZipcode =driver.find_element(By.CLASS_NAME,\"submit\")\n",
    "clickButtonZipcode.click()\n",
    "driver.set_page_load_timeout(5)\n",
    "\n",
    "getGeoInfo = driver.find_element(By.CLASS_NAME,\"search_units\")\n",
    "saveGeoInfo = getGeoInfo.text\n",
    "\n",
    "driver.close()"
   ]
  },
  {
   "cell_type": "code",
   "execution_count": null,
   "metadata": {},
   "outputs": [
    {
     "data": {
      "text/plain": [
       "['SpainAsturiasLa Caridad33750',\n",
       " 'SpainAsturiasViavelez33750',\n",
       " 'SpainAsturiasLongara33750',\n",
       " 'FranceNouvelle-Aquitaine, GirondeCroignon33750',\n",
       " 'FranceNouvelle-Aquitaine, GirondeCamarsac33750',\n",
       " 'FranceNouvelle-Aquitaine, GirondeBeychac33750',\n",
       " 'FranceNouvelle-Aquitaine, GirondeNerigean33750',\n",
       " 'FranceNouvelle-Aquitaine, GirondeSaint-Quentin-De-Baron33750',\n",
       " 'FranceNouvelle-Aquitaine, GirondeBaron33750',\n",
       " 'FranceNouvelle-Aquitaine, GirondeSaint-Germain-Du-Puch33750',\n",
       " 'FranceNouvelle-Aquitaine, GirondeCadarsac33750',\n",
       " 'MexicoChihuahuaAgricola Industrial33750',\n",
       " 'TurkeyMersin, ErdemliAyas33750']"
      ]
     },
     "execution_count": 67,
     "metadata": {},
     "output_type": "execute_result"
    }
   ],
   "source": [
    "listTestingZipcode = saveGeoInfo.split(\"\\n\")\n",
    "listTestingZipcode"
   ]
  },
  {
   "cell_type": "code",
   "execution_count": null,
   "metadata": {},
   "outputs": [],
   "source": [
    "indexMatchRegex = list(map(lambda x: [(m.start(0), m.end(0)) for m in re.finditer(r\"[a-z][A-Z0-9]\", x)], listTestingZipcode))"
   ]
  },
  {
   "cell_type": "code",
   "execution_count": null,
   "metadata": {},
   "outputs": [
    {
     "data": {
      "text/plain": [
       "3"
      ]
     },
     "execution_count": 69,
     "metadata": {},
     "output_type": "execute_result"
    }
   ],
   "source": [
    "len(indexMatchRegex[1])"
   ]
  },
  {
   "cell_type": "code",
   "execution_count": null,
   "metadata": {},
   "outputs": [],
   "source": [
    "resultScrapClean = []\n",
    "for pas,resultScrap in enumerate(listTestingZipcode):\n",
    "    for pos,ele in enumerate(indexMatchRegex[pas]):\n",
    "        if len(indexMatchRegex[pas])==2:\n",
    "            if pos ==0:\n",
    "                txt = resultScrap[:ele[0]+1]+\",\"+resultScrap[ele[1]-1:]\n",
    "            elif pos ==1:\n",
    "                txt = txt[:ele[0]+2]+\",\"+txt[ele[1]:]\n",
    "                resultScrapClean.append(txt)\n",
    "        elif len(indexMatchRegex[pas])==3:\n",
    "            if pos ==0:\n",
    "                txt = resultScrap[:ele[0]+1]+\",\"+resultScrap[ele[1]-1:]\n",
    "            elif pos ==1:\n",
    "                txt = txt[:ele[0]+2]+\",\"+txt[ele[1]:]\n",
    "            elif pos ==2:\n",
    "                txt = txt[:ele[0]+3]+\",\"+txt[ele[1]+1:]\n",
    "                resultScrapClean.append(txt)\n",
    "\n"
   ]
  },
  {
   "cell_type": "code",
   "execution_count": null,
   "metadata": {},
   "outputs": [
    {
     "data": {
      "text/plain": [
       "['Spain,Asturias,La Caridad,33750',\n",
       " 'Spain,Asturias,Viavelez,33750',\n",
       " 'Spain,Asturias,Longara,33750',\n",
       " 'France,Nouvelle-Aquitaine, Gironde,Croignon,33750',\n",
       " 'France,Nouvelle-Aquitaine, Gironde,Camarsac,33750',\n",
       " 'France,Nouvelle-Aquitaine, Gironde,Beychac,33750',\n",
       " 'France,Nouvelle-Aquitaine, Gironde,Nerigean,33750',\n",
       " 'France,Nouvelle-Aquitaine, Gironde,Saint-Quentin-De-Baron,33750',\n",
       " 'France,Nouvelle-Aquitaine, Gironde,Baron,33750',\n",
       " 'France,Nouvelle-Aquitaine, Gironde,Saint-Germain-Du-Puch,33750',\n",
       " 'France,Nouvelle-Aquitaine, Gironde,Cadarsac,33750',\n",
       " 'Mexico,Chihuahua,Agricola Industrial,33750',\n",
       " 'Turkey,Mersin, Erdemli,Ayas,33750']"
      ]
     },
     "execution_count": 71,
     "metadata": {},
     "output_type": "execute_result"
    }
   ],
   "source": [
    "resultScrapClean"
   ]
  },
  {
   "cell_type": "code",
   "execution_count": null,
   "metadata": {},
   "outputs": [],
   "source": [
    "resultScrapListed = []\n",
    "for element in resultScrapClean:\n",
    "    resultScrapListed.append(element.split(\",\"))"
   ]
  },
  {
   "cell_type": "code",
   "execution_count": null,
   "metadata": {},
   "outputs": [
    {
     "data": {
      "text/plain": [
       "[['Spain', 'Asturias', 'La Caridad', '33750'],\n",
       " ['Spain', 'Asturias', 'Viavelez', '33750'],\n",
       " ['Spain', 'Asturias', 'Longara', '33750'],\n",
       " ['France', 'Nouvelle-Aquitaine', ' Gironde', 'Croignon', '33750'],\n",
       " ['France', 'Nouvelle-Aquitaine', ' Gironde', 'Camarsac', '33750'],\n",
       " ['France', 'Nouvelle-Aquitaine', ' Gironde', 'Beychac', '33750'],\n",
       " ['France', 'Nouvelle-Aquitaine', ' Gironde', 'Nerigean', '33750'],\n",
       " ['France',\n",
       "  'Nouvelle-Aquitaine',\n",
       "  ' Gironde',\n",
       "  'Saint-Quentin-De-Baron',\n",
       "  '33750'],\n",
       " ['France', 'Nouvelle-Aquitaine', ' Gironde', 'Baron', '33750'],\n",
       " ['France',\n",
       "  'Nouvelle-Aquitaine',\n",
       "  ' Gironde',\n",
       "  'Saint-Germain-Du-Puch',\n",
       "  '33750'],\n",
       " ['France', 'Nouvelle-Aquitaine', ' Gironde', 'Cadarsac', '33750'],\n",
       " ['Mexico', 'Chihuahua', 'Agricola Industrial', '33750'],\n",
       " ['Turkey', 'Mersin', ' Erdemli', 'Ayas', '33750']]"
      ]
     },
     "execution_count": 73,
     "metadata": {},
     "output_type": "execute_result"
    }
   ],
   "source": [
    "resultScrapListed"
   ]
  },
  {
   "cell_type": "code",
   "execution_count": null,
   "metadata": {},
   "outputs": [],
   "source": [
    "resultScrapRearr = [(element[0], element[1], element[-2], element[-1]) for element in resultScrapListed]"
   ]
  },
  {
   "cell_type": "code",
   "execution_count": null,
   "metadata": {},
   "outputs": [
    {
     "data": {
      "text/plain": [
       "[('Spain', 'Asturias', 'La Caridad', '33750'),\n",
       " ('Spain', 'Asturias', 'Viavelez', '33750'),\n",
       " ('Spain', 'Asturias', 'Longara', '33750'),\n",
       " ('France', 'Nouvelle-Aquitaine', 'Croignon', '33750'),\n",
       " ('France', 'Nouvelle-Aquitaine', 'Camarsac', '33750'),\n",
       " ('France', 'Nouvelle-Aquitaine', 'Beychac', '33750'),\n",
       " ('France', 'Nouvelle-Aquitaine', 'Nerigean', '33750'),\n",
       " ('France', 'Nouvelle-Aquitaine', 'Saint-Quentin-De-Baron', '33750'),\n",
       " ('France', 'Nouvelle-Aquitaine', 'Baron', '33750'),\n",
       " ('France', 'Nouvelle-Aquitaine', 'Saint-Germain-Du-Puch', '33750'),\n",
       " ('France', 'Nouvelle-Aquitaine', 'Cadarsac', '33750'),\n",
       " ('Mexico', 'Chihuahua', 'Agricola Industrial', '33750'),\n",
       " ('Turkey', 'Mersin', 'Ayas', '33750')]"
      ]
     },
     "execution_count": 75,
     "metadata": {},
     "output_type": "execute_result"
    }
   ],
   "source": [
    "resultScrapRearr"
   ]
  },
  {
   "cell_type": "code",
   "execution_count": null,
   "metadata": {},
   "outputs": [
    {
     "ename": "NameError",
     "evalue": "name 'resultScrapRearr' is not defined",
     "output_type": "error",
     "traceback": [
      "\u001b[0;31m---------------------------------------------------------------------------\u001b[0m",
      "\u001b[0;31mNameError\u001b[0m                                 Traceback (most recent call last)",
      "\u001b[1;32m/var/home/alex/Documentos/Repos/Online/DatathonProject/src/Test_Scrapping.ipynb Cell 39'\u001b[0m in \u001b[0;36m<module>\u001b[0;34m\u001b[0m\n\u001b[1;32m      <a href='vscode-notebook-cell:/var/home/alex/Documentos/Repos/Online/DatathonProject/src/Test_Scrapping.ipynb#ch0000037?line=0'>1</a>\u001b[0m resultZip \u001b[39m=\u001b[39m []\n\u001b[0;32m----> <a href='vscode-notebook-cell:/var/home/alex/Documentos/Repos/Online/DatathonProject/src/Test_Scrapping.ipynb#ch0000037?line=1'>2</a>\u001b[0m \u001b[39mfor\u001b[39;00m element \u001b[39min\u001b[39;00m resultScrapRearr:\n\u001b[1;32m      <a href='vscode-notebook-cell:/var/home/alex/Documentos/Repos/Online/DatathonProject/src/Test_Scrapping.ipynb#ch0000037?line=2'>3</a>\u001b[0m     \u001b[39mfor\u001b[39;00m element2  \u001b[39min\u001b[39;00m CityCleaner(element[\u001b[39m2\u001b[39m]):\n\u001b[1;32m      <a href='vscode-notebook-cell:/var/home/alex/Documentos/Repos/Online/DatathonProject/src/Test_Scrapping.ipynb#ch0000037?line=3'>4</a>\u001b[0m         \u001b[39mif\u001b[39;00m element2 \u001b[39min\u001b[39;00m CityCleaner(cityToAnalyze):\n",
      "\u001b[0;31mNameError\u001b[0m: name 'resultScrapRearr' is not defined"
     ]
    }
   ],
   "source": [
    "resultZip = []\n",
    "for element in resultScrapRearr:\n",
    "    for element2  in CityCleaner(element[2]):\n",
    "        if element2 in CityCleaner(cityToAnalyze):\n",
    "            resultZip.append(element)\n",
    "            break\n",
    "try:\n",
    "    resultZip = resultZip[0]\n",
    "except IndexError:\n",
    "    resultZip = []\n",
    "    for element in resultScrapRearr:\n",
    "        for element2 in CityCleaner(element[2]):\n",
    "            for element3 in CityCleaner(cityToAnalyze):\n",
    "                if element2.__contains__(element3):\n",
    "                    resultZip.append(element)\n",
    "                    break\n",
    "    resultZip = resultZip[0]"
   ]
  },
  {
   "cell_type": "code",
   "execution_count": null,
   "metadata": {},
   "outputs": [],
   "source": []
  }
 ],
 "metadata": {
  "interpreter": {
   "hash": "f876c6d03db2a1b556a458eeb23dadf5ec8e4266298f30cdd70e3128597d8f66"
  },
  "kernelspec": {
   "display_name": "Python 3.10.2 ('penv': venv)",
   "language": "python",
   "name": "python3"
  },
  "language_info": {
   "codemirror_mode": {
    "name": "ipython",
    "version": 3
   },
   "file_extension": ".py",
   "mimetype": "text/x-python",
   "name": "python",
   "nbconvert_exporter": "python",
   "pygments_lexer": "ipython3",
   "version": "3.10.2"
  },
  "orig_nbformat": 4
 },
 "nbformat": 4,
 "nbformat_minor": 2
}
