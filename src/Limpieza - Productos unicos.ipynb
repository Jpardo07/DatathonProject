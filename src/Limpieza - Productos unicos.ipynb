{
 "cells": [
  {
   "cell_type": "markdown",
   "metadata": {},
   "source": [
    "### Importación de librerías"
   ]
  },
  {
   "cell_type": "code",
   "execution_count": 1,
   "metadata": {},
   "outputs": [],
   "source": [
    "import pandas as pd\n",
    "import re"
   ]
  },
  {
   "cell_type": "code",
   "execution_count": 13,
   "metadata": {},
   "outputs": [],
   "source": [
    "from multiprocessing import Pool, cpu_count, Queue, Process\n",
    "import time"
   ]
  },
  {
   "cell_type": "code",
   "execution_count": 3,
   "metadata": {},
   "outputs": [
    {
     "name": "stdout",
     "output_type": "stream",
     "text": [
      "Number of cpu :  8\n"
     ]
    }
   ],
   "source": [
    "print(\"Number of cpu : \", cpu_count())\n"
   ]
  },
  {
   "cell_type": "markdown",
   "metadata": {},
   "source": [
    "### Variables destacadas"
   ]
  },
  {
   "cell_type": "code",
   "execution_count": 5,
   "metadata": {},
   "outputs": [],
   "source": [
    "pathToDF = \"../Inputs/Creados/\"\n",
    "fileToDF = \"dfVentasDefinitivo.csv\""
   ]
  },
  {
   "cell_type": "markdown",
   "metadata": {},
   "source": [
    "### Importación de datos"
   ]
  },
  {
   "cell_type": "code",
   "execution_count": 27,
   "metadata": {},
   "outputs": [],
   "source": [
    "df = pd.read_csv(f\"{pathToDF}{fileToDF}\")\n",
    "df.drop(columns=df.columns[0], axis=1, inplace=True)"
   ]
  },
  {
   "cell_type": "code",
   "execution_count": 35,
   "metadata": {},
   "outputs": [
    {
     "name": "stdout",
     "output_type": "stream",
     "text": [
      "(810167, 26)\n"
     ]
    },
    {
     "data": {
      "text/html": [
       "<div>\n",
       "<style scoped>\n",
       "    .dataframe tbody tr th:only-of-type {\n",
       "        vertical-align: middle;\n",
       "    }\n",
       "\n",
       "    .dataframe tbody tr th {\n",
       "        vertical-align: top;\n",
       "    }\n",
       "\n",
       "    .dataframe thead th {\n",
       "        text-align: right;\n",
       "    }\n",
       "</style>\n",
       "<table border=\"1\" class=\"dataframe\">\n",
       "  <thead>\n",
       "    <tr style=\"text-align: right;\">\n",
       "      <th></th>\n",
       "      <th>item_id</th>\n",
       "      <th>num_order</th>\n",
       "      <th>created_at</th>\n",
       "      <th>product_id</th>\n",
       "      <th>qty_ordered</th>\n",
       "      <th>base_cost</th>\n",
       "      <th>price</th>\n",
       "      <th>discount_percent</th>\n",
       "      <th>customer_id</th>\n",
       "      <th>Zipcode</th>\n",
       "      <th>...</th>\n",
       "      <th>hour</th>\n",
       "      <th>week</th>\n",
       "      <th>day</th>\n",
       "      <th>margin_total</th>\n",
       "      <th>price_total</th>\n",
       "      <th>name</th>\n",
       "      <th>marca_value</th>\n",
       "      <th>analytic_category</th>\n",
       "      <th>nombre_corto</th>\n",
       "      <th>num_compras</th>\n",
       "    </tr>\n",
       "  </thead>\n",
       "  <tbody>\n",
       "    <tr>\n",
       "      <th>19778</th>\n",
       "      <td>0652a757b155706a505da78c72be4a5b</td>\n",
       "      <td>1b5ea606a15f57240e5b66263b382156</td>\n",
       "      <td>2018-03-13 23:09:44</td>\n",
       "      <td>50939</td>\n",
       "      <td>1</td>\n",
       "      <td>4.43</td>\n",
       "      <td>8.23</td>\n",
       "      <td>5.0</td>\n",
       "      <td>b5bac3664df06aece363a410ab49f7cf</td>\n",
       "      <td>28232</td>\n",
       "      <td>...</td>\n",
       "      <td>23</td>\n",
       "      <td>63</td>\n",
       "      <td>Tuesday</td>\n",
       "      <td>3.8</td>\n",
       "      <td>8.23</td>\n",
       "      <td>Aceite Árbol del Té Prisma Natural 50 ml Spray</td>\n",
       "      <td>prisma natural</td>\n",
       "      <td>higiene</td>\n",
       "      <td>Aceite Árbol Del Té Prisma</td>\n",
       "      <td>1</td>\n",
       "    </tr>\n",
       "  </tbody>\n",
       "</table>\n",
       "<p>1 rows × 26 columns</p>\n",
       "</div>"
      ],
      "text/plain": [
       "                                item_id                         num_order  \\\n",
       "19778  0652a757b155706a505da78c72be4a5b  1b5ea606a15f57240e5b66263b382156   \n",
       "\n",
       "                created_at  product_id  qty_ordered  base_cost  price  \\\n",
       "19778  2018-03-13 23:09:44       50939            1       4.43   8.23   \n",
       "\n",
       "       discount_percent                       customer_id Zipcode  ...  hour  \\\n",
       "19778               5.0  b5bac3664df06aece363a410ab49f7cf   28232  ...    23   \n",
       "\n",
       "      week      day margin_total price_total  \\\n",
       "19778   63  Tuesday          3.8        8.23   \n",
       "\n",
       "                                                 name     marca_value  \\\n",
       "19778  Aceite Árbol del Té Prisma Natural 50 ml Spray  prisma natural   \n",
       "\n",
       "       analytic_category                nombre_corto  num_compras  \n",
       "19778            higiene  Aceite Árbol Del Té Prisma            1  \n",
       "\n",
       "[1 rows x 26 columns]"
      ]
     },
     "execution_count": 35,
     "metadata": {},
     "output_type": "execute_result"
    }
   ],
   "source": [
    "print(df.shape)\n",
    "df.iloc[[19778]]"
   ]
  },
  {
   "cell_type": "markdown",
   "metadata": {},
   "source": [
    "### Depuración de datos"
   ]
  },
  {
   "cell_type": "code",
   "execution_count": 8,
   "metadata": {},
   "outputs": [
    {
     "name": "stdout",
     "output_type": "stream",
     "text": [
      "(810167, 2)\n"
     ]
    },
    {
     "data": {
      "text/html": [
       "<div>\n",
       "<style scoped>\n",
       "    .dataframe tbody tr th:only-of-type {\n",
       "        vertical-align: middle;\n",
       "    }\n",
       "\n",
       "    .dataframe tbody tr th {\n",
       "        vertical-align: top;\n",
       "    }\n",
       "\n",
       "    .dataframe thead th {\n",
       "        text-align: right;\n",
       "    }\n",
       "</style>\n",
       "<table border=\"1\" class=\"dataframe\">\n",
       "  <thead>\n",
       "    <tr style=\"text-align: right;\">\n",
       "      <th></th>\n",
       "      <th>product_id</th>\n",
       "      <th>name</th>\n",
       "    </tr>\n",
       "  </thead>\n",
       "  <tbody>\n",
       "    <tr>\n",
       "      <th>0</th>\n",
       "      <td>5645</td>\n",
       "      <td>Weleda Hombre Crema Hidratante 30 ml</td>\n",
       "    </tr>\n",
       "    <tr>\n",
       "      <th>1</th>\n",
       "      <td>28743</td>\n",
       "      <td>Gynea Gestagyn Men 60 Capsulas</td>\n",
       "    </tr>\n",
       "  </tbody>\n",
       "</table>\n",
       "</div>"
      ],
      "text/plain": [
       "   product_id                                  name\n",
       "0        5645  Weleda Hombre Crema Hidratante 30 ml\n",
       "1       28743       Gynea Gestagyn Men 60 Capsulas "
      ]
     },
     "execution_count": 8,
     "metadata": {},
     "output_type": "execute_result"
    }
   ],
   "source": [
    "df = df[[\"product_id\",\"name\"]]\n",
    "\n",
    "print(df.shape)\n",
    "df.head(2)"
   ]
  },
  {
   "cell_type": "code",
   "execution_count": 9,
   "metadata": {},
   "outputs": [
    {
     "name": "stdout",
     "output_type": "stream",
     "text": [
      "19787\n"
     ]
    },
    {
     "data": {
      "text/plain": [
       "19778"
      ]
     },
     "execution_count": 9,
     "metadata": {},
     "output_type": "execute_result"
    }
   ],
   "source": [
    "print(len(df[\"product_id\"].unique()))\n",
    "len(df[\"name\"].unique())"
   ]
  },
  {
   "cell_type": "code",
   "execution_count": 12,
   "metadata": {},
   "outputs": [
    {
     "name": "stdout",
     "output_type": "stream",
     "text": [
      "Hello, John\n"
     ]
    }
   ],
   "source": [
    "# from multiprocessing import Process, Queue\n",
    "\n",
    "# Q = Queue()\n",
    "\n",
    "# def my_func():\n",
    "#     Q.put([element for element in df[\"product_id\"].tolist() if df[\"name\"]]\n",
    "\n",
    "# p1 = Process(target=my_func)\n",
    "# p1.start()\n",
    "# asd = Q.get()\n",
    "# p1.join()\n",
    "# print(asd)"
   ]
  },
  {
   "cell_type": "markdown",
   "metadata": {},
   "source": [
    "### Eliminación de cantidades en Productos"
   ]
  },
  {
   "cell_type": "code",
   "execution_count": 15,
   "metadata": {},
   "outputs": [],
   "source": [
    "productoToMod = df[\"name\"].unique().tolist()"
   ]
  },
  {
   "cell_type": "markdown",
   "metadata": {},
   "source": [
    "### Lógica"
   ]
  },
  {
   "cell_type": "code",
   "execution_count": 19,
   "metadata": {},
   "outputs": [],
   "source": [
    "productModded = df[\"product_id\"].unique().tolist()[:19778]\n",
    "nameModded =[ele.rstrip() for ele in list(map(lambda x: re.sub(\"\\d+\\s*\\S*\\w+\\s*\\S*\\w\", \"\", x),productoToMod))]"
   ]
  },
  {
   "cell_type": "code",
   "execution_count": 36,
   "metadata": {},
   "outputs": [
    {
     "data": {
      "text/plain": [
       "(80144, 'Saro Soporte Baño Anatomico Abatible Rojo')"
      ]
     },
     "execution_count": 36,
     "metadata": {},
     "output_type": "execute_result"
    }
   ],
   "source": [
    "zipProducts = list(zip(productModded,nameModded))\n",
    "zipProducts[-1]"
   ]
  },
  {
   "cell_type": "code",
   "execution_count": 37,
   "metadata": {},
   "outputs": [
    {
     "data": {
      "text/html": [
       "<div>\n",
       "<style scoped>\n",
       "    .dataframe tbody tr th:only-of-type {\n",
       "        vertical-align: middle;\n",
       "    }\n",
       "\n",
       "    .dataframe tbody tr th {\n",
       "        vertical-align: top;\n",
       "    }\n",
       "\n",
       "    .dataframe thead th {\n",
       "        text-align: right;\n",
       "    }\n",
       "</style>\n",
       "<table border=\"1\" class=\"dataframe\">\n",
       "  <thead>\n",
       "    <tr style=\"text-align: right;\">\n",
       "      <th></th>\n",
       "      <th>item_id</th>\n",
       "      <th>num_order</th>\n",
       "      <th>created_at</th>\n",
       "      <th>product_id</th>\n",
       "      <th>qty_ordered</th>\n",
       "      <th>base_cost</th>\n",
       "      <th>price</th>\n",
       "      <th>discount_percent</th>\n",
       "      <th>customer_id</th>\n",
       "      <th>Zipcode</th>\n",
       "      <th>...</th>\n",
       "      <th>hour</th>\n",
       "      <th>week</th>\n",
       "      <th>day</th>\n",
       "      <th>margin_total</th>\n",
       "      <th>price_total</th>\n",
       "      <th>name</th>\n",
       "      <th>marca_value</th>\n",
       "      <th>analytic_category</th>\n",
       "      <th>nombre_corto</th>\n",
       "      <th>num_compras</th>\n",
       "    </tr>\n",
       "  </thead>\n",
       "  <tbody>\n",
       "    <tr>\n",
       "      <th>802771</th>\n",
       "      <td>fda5981ffe174e1adf0443bf68f7ce19</td>\n",
       "      <td>0c9c9493a21a4d83ad30cb4d52d25cfb</td>\n",
       "      <td>2018-05-17 19:04:30</td>\n",
       "      <td>80144</td>\n",
       "      <td>1</td>\n",
       "      <td>4.13</td>\n",
       "      <td>5.37</td>\n",
       "      <td>6.0</td>\n",
       "      <td>d75023457f15a4b90e11d08598978c87</td>\n",
       "      <td>15142</td>\n",
       "      <td>...</td>\n",
       "      <td>19</td>\n",
       "      <td>72</td>\n",
       "      <td>Thursday</td>\n",
       "      <td>1.24</td>\n",
       "      <td>5.37</td>\n",
       "      <td>Fitoextract Avena Sativa Eladiet 50ml</td>\n",
       "      <td>eladiet</td>\n",
       "      <td>herbolario</td>\n",
       "      <td>Fitoextract Avena Sativa Eladiet 50Ml</td>\n",
       "      <td>1</td>\n",
       "    </tr>\n",
       "  </tbody>\n",
       "</table>\n",
       "<p>1 rows × 26 columns</p>\n",
       "</div>"
      ],
      "text/plain": [
       "                                 item_id                         num_order  \\\n",
       "802771  fda5981ffe174e1adf0443bf68f7ce19  0c9c9493a21a4d83ad30cb4d52d25cfb   \n",
       "\n",
       "                 created_at  product_id  qty_ordered  base_cost  price  \\\n",
       "802771  2018-05-17 19:04:30       80144            1       4.13   5.37   \n",
       "\n",
       "        discount_percent                       customer_id Zipcode  ...  hour  \\\n",
       "802771               6.0  d75023457f15a4b90e11d08598978c87   15142  ...    19   \n",
       "\n",
       "       week       day margin_total price_total  \\\n",
       "802771   72  Thursday         1.24        5.37   \n",
       "\n",
       "                                         name  marca_value  analytic_category  \\\n",
       "802771  Fitoextract Avena Sativa Eladiet 50ml      eladiet         herbolario   \n",
       "\n",
       "                                 nombre_corto  num_compras  \n",
       "802771  Fitoextract Avena Sativa Eladiet 50Ml            1  \n",
       "\n",
       "[1 rows x 26 columns]"
      ]
     },
     "execution_count": 37,
     "metadata": {},
     "output_type": "execute_result"
    }
   ],
   "source": [
    "df[df[\"product_id\"]==80144]"
   ]
  }
 ],
 "metadata": {
  "interpreter": {
   "hash": "bf572a60f2270a32a2287ee5441c31c3f27de4f092d16eee7937505d14960a51"
  },
  "kernelspec": {
   "display_name": "Python 3.10.4 ('venv': venv)",
   "language": "python",
   "name": "python3"
  },
  "language_info": {
   "codemirror_mode": {
    "name": "ipython",
    "version": 3
   },
   "file_extension": ".py",
   "mimetype": "text/x-python",
   "name": "python",
   "nbconvert_exporter": "python",
   "pygments_lexer": "ipython3",
   "version": "3.10.4"
  },
  "orig_nbformat": 4
 },
 "nbformat": 4,
 "nbformat_minor": 2
}
