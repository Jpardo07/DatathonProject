{
 "cells": [
  {
   "cell_type": "markdown",
   "metadata": {},
   "source": [
    "### Importación de librerías"
   ]
  },
  {
   "cell_type": "code",
   "execution_count": 8,
   "metadata": {},
   "outputs": [],
   "source": [
    "import pandas as pd\n",
    "import re"
   ]
  },
  {
   "cell_type": "markdown",
   "metadata": {},
   "source": [
    "### Variables destacadas"
   ]
  },
  {
   "cell_type": "code",
   "execution_count": 3,
   "metadata": {},
   "outputs": [],
   "source": [
    "pathToDF = \"../\"\n",
    "fileToDF = \"dfVentasDefinitivo.csv\""
   ]
  },
  {
   "cell_type": "markdown",
   "metadata": {},
   "source": [
    "### Importación de datos"
   ]
  },
  {
   "cell_type": "code",
   "execution_count": 4,
   "metadata": {},
   "outputs": [],
   "source": [
    "df = pd.read_csv(f\"{pathToDF}{fileToDF}\")\n",
    "df.drop(columns=df.columns[0], axis=1, inplace=True)"
   ]
  },
  {
   "cell_type": "code",
   "execution_count": 24,
   "metadata": {},
   "outputs": [
    {
     "name": "stdout",
     "output_type": "stream",
     "text": [
      "19778\n"
     ]
    },
    {
     "data": {
      "text/plain": [
       "['VITIS Cepillo Dental Duro Access Cabezal pequeño de dureza fuerte',\n",
       " 'Pañales CHELINO LOVE Talla 6 17-28 KG 27unidades',\n",
       " 'Noxzema Espuma Roja Piel Sensible 300 ml',\n",
       " 'Corpore Sano Desodorante Mineral Spray 75ml',\n",
       " 'Flores de Bach Mustard 20 ml',\n",
       " 'BiManan Copa de Chocolate 210 Gramos',\n",
       " 'Pañales CHELINO LOVE Talla4 9-15 KG 34unidades',\n",
       " 'Sensilis Ritual Care Crema Balsamo Limpiador Pieles Secas y Sensibles 75ml',\n",
       " 'Visibly Clear Spot Proofing Crema Hidratante Oil Free Neutrogena 50ml',\n",
       " 'Eucerin PH5 Crema Tarro 100ml + 75ml de Regalo',\n",
       " 'Interapothek Gel Aloe Vera 1000 ml',\n",
       " 'Isdin Foto Ultra 100 Active Unify Fusion Fluid Sin Color 50 ml',\n",
       " 'Gel Mucus Lubricante Intimo Cumlaude Rilastil 30ml',\n",
       " 'SESDERMA Estryses Crema Antiestrías 200ml',\n",
       " 'Triptofano con Melatonina Ana Maria LaJusticia 60 Comprimidos']"
      ]
     },
     "execution_count": 24,
     "metadata": {},
     "output_type": "execute_result"
    }
   ],
   "source": [
    "productoToMod = df[\"name\"].unique().tolist()\n",
    "print(len(productoToMod))\n",
    "productoToMod[5:20]"
   ]
  },
  {
   "cell_type": "markdown",
   "metadata": {},
   "source": [
    "### Lógica"
   ]
  },
  {
   "cell_type": "code",
   "execution_count": 25,
   "metadata": {},
   "outputs": [],
   "source": [
    "productModded =[ele.rstrip() for ele in list(map(lambda x: re.sub(\"\\d+\\s*\\S*\\w+\\s*\\S*\\w\", \"\", x),productoToMod))]"
   ]
  },
  {
   "cell_type": "code",
   "execution_count": 26,
   "metadata": {},
   "outputs": [
    {
     "data": {
      "text/plain": [
       "['VITIS Cepillo Dental Duro Access Cabezal pequeño de dureza fuerte',\n",
       " 'Pañales CHELINO LOVE Talla',\n",
       " 'Noxzema Espuma Roja Piel Sensible',\n",
       " 'Corpore Sano Desodorante Mineral Spray',\n",
       " 'Flores de Bach Mustard',\n",
       " 'BiManan Copa de Chocolate',\n",
       " 'Pañales CHELINO LOVE Talla',\n",
       " 'Sensilis Ritual Care Crema Balsamo Limpiador Pieles Secas y Sensibles',\n",
       " 'Visibly Clear Spot Proofing Crema Hidratante Oil Free Neutrogena',\n",
       " 'Eucerin PH  +  Regalo',\n",
       " 'Interapothek Gel Aloe Vera',\n",
       " 'Isdin Foto Ultra  Fusion Fluid Sin Color',\n",
       " 'Gel Mucus Lubricante Intimo Cumlaude Rilastil',\n",
       " 'SESDERMA Estryses Crema Antiestrías',\n",
       " 'Triptofano con Melatonina Ana Maria LaJusticia']"
      ]
     },
     "execution_count": 26,
     "metadata": {},
     "output_type": "execute_result"
    }
   ],
   "source": [
    "productModded[5:20]"
   ]
  },
  {
   "cell_type": "code",
   "execution_count": 27,
   "metadata": {},
   "outputs": [],
   "source": [
    "productModdedUnique = set(productModded)"
   ]
  },
  {
   "cell_type": "code",
   "execution_count": 28,
   "metadata": {},
   "outputs": [
    {
     "data": {
      "text/plain": [
       "1697"
      ]
     },
     "execution_count": 28,
     "metadata": {},
     "output_type": "execute_result"
    }
   ],
   "source": [
    "len(productoToMod)-len(productModdedUnique)"
   ]
  }
 ],
 "metadata": {
  "interpreter": {
   "hash": "bf572a60f2270a32a2287ee5441c31c3f27de4f092d16eee7937505d14960a51"
  },
  "kernelspec": {
   "display_name": "Python 3.10.4 ('venv': venv)",
   "language": "python",
   "name": "python3"
  },
  "language_info": {
   "codemirror_mode": {
    "name": "ipython",
    "version": 3
   },
   "file_extension": ".py",
   "mimetype": "text/x-python",
   "name": "python",
   "nbconvert_exporter": "python",
   "pygments_lexer": "ipython3",
   "version": "3.10.4"
  },
  "orig_nbformat": 4
 },
 "nbformat": 4,
 "nbformat_minor": 2
}
