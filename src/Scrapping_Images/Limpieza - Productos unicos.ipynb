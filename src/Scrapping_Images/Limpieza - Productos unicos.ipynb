{
 "cells": [
  {
   "cell_type": "markdown",
   "metadata": {},
   "source": [
    "### Importación de librerías"
   ]
  },
  {
   "cell_type": "code",
   "execution_count": 2,
   "metadata": {},
   "outputs": [],
   "source": [
    "import pandas as pd\n",
    "import re"
   ]
  },
  {
   "cell_type": "markdown",
   "metadata": {},
   "source": [
    "### Variables destacadas"
   ]
  },
  {
   "cell_type": "code",
   "execution_count": 5,
   "metadata": {},
   "outputs": [],
   "source": [
    "pathToDF = \"../Inputs/Creados/\"\n",
    "fileToDF = \"dfVentasDefinitivo.csv\"\n",
    "\n",
    "pathToExport = \"../Outputs/\"\n",
    "fileToExport = \"ProdsToScrap.csv\""
   ]
  },
  {
   "cell_type": "markdown",
   "metadata": {},
   "source": [
    "### Importación de datos"
   ]
  },
  {
   "cell_type": "code",
   "execution_count": 6,
   "metadata": {},
   "outputs": [],
   "source": [
    "df = pd.read_csv(f\"{pathToDF}{fileToDF}\")"
   ]
  },
  {
   "cell_type": "code",
   "execution_count": null,
   "metadata": {},
   "outputs": [],
   "source": [
    "#Sólo ejecutar una vez, elimina primera columna si la exportación de dicho CSV no se realizó con el parámetro \"index=False\"\n",
    "df.drop(columns=df.columns[0], axis=1, inplace=True)"
   ]
  },
  {
   "cell_type": "markdown",
   "metadata": {},
   "source": [
    "Comprobación preliminar de los datos (tamaño y composición del dataframe)"
   ]
  },
  {
   "cell_type": "code",
   "execution_count": 7,
   "metadata": {},
   "outputs": [
    {
     "name": "stdout",
     "output_type": "stream",
     "text": [
      "(810167, 26)\n"
     ]
    },
    {
     "data": {
      "text/html": [
       "<div>\n",
       "<style scoped>\n",
       "    .dataframe tbody tr th:only-of-type {\n",
       "        vertical-align: middle;\n",
       "    }\n",
       "\n",
       "    .dataframe tbody tr th {\n",
       "        vertical-align: top;\n",
       "    }\n",
       "\n",
       "    .dataframe thead th {\n",
       "        text-align: right;\n",
       "    }\n",
       "</style>\n",
       "<table border=\"1\" class=\"dataframe\">\n",
       "  <thead>\n",
       "    <tr style=\"text-align: right;\">\n",
       "      <th></th>\n",
       "      <th>item_id</th>\n",
       "      <th>num_order</th>\n",
       "      <th>created_at</th>\n",
       "      <th>product_id</th>\n",
       "      <th>qty_ordered</th>\n",
       "      <th>base_cost</th>\n",
       "      <th>price</th>\n",
       "      <th>discount_percent</th>\n",
       "      <th>customer_id</th>\n",
       "      <th>Zipcode</th>\n",
       "      <th>...</th>\n",
       "      <th>hour</th>\n",
       "      <th>week</th>\n",
       "      <th>day</th>\n",
       "      <th>margin_total</th>\n",
       "      <th>price_total</th>\n",
       "      <th>name</th>\n",
       "      <th>marca_value</th>\n",
       "      <th>analytic_category</th>\n",
       "      <th>nombre_corto</th>\n",
       "      <th>num_compras</th>\n",
       "    </tr>\n",
       "  </thead>\n",
       "  <tbody>\n",
       "    <tr>\n",
       "      <th>809559</th>\n",
       "      <td>ffcca82d7cf99085286c8b609b5986bb</td>\n",
       "      <td>d95c0ceef2ad6902e57f2b8a00c3f57c</td>\n",
       "      <td>2018-09-30 06:31:41</td>\n",
       "      <td>12708</td>\n",
       "      <td>1</td>\n",
       "      <td>24.9</td>\n",
       "      <td>32.41</td>\n",
       "      <td>5.0</td>\n",
       "      <td>8789d366ed0ea24c30340835036ac3b0</td>\n",
       "      <td>11202</td>\n",
       "      <td>...</td>\n",
       "      <td>6</td>\n",
       "      <td>91</td>\n",
       "      <td>Sunday</td>\n",
       "      <td>7.51</td>\n",
       "      <td>32.41</td>\n",
       "      <td>Saro Soporte Baño Anatomico Abatible Rojo</td>\n",
       "      <td>saro</td>\n",
       "      <td>infantil</td>\n",
       "      <td>Saro Soporte Baño Anatomico Abatible</td>\n",
       "      <td>1</td>\n",
       "    </tr>\n",
       "  </tbody>\n",
       "</table>\n",
       "<p>1 rows × 26 columns</p>\n",
       "</div>"
      ],
      "text/plain": [
       "                                 item_id                         num_order  \\\n",
       "809559  ffcca82d7cf99085286c8b609b5986bb  d95c0ceef2ad6902e57f2b8a00c3f57c   \n",
       "\n",
       "                 created_at  product_id  qty_ordered  base_cost  price  \\\n",
       "809559  2018-09-30 06:31:41       12708            1       24.9  32.41   \n",
       "\n",
       "        discount_percent                       customer_id Zipcode  ...  hour  \\\n",
       "809559               5.0  8789d366ed0ea24c30340835036ac3b0   11202  ...     6   \n",
       "\n",
       "       week     day margin_total price_total  \\\n",
       "809559   91  Sunday         7.51       32.41   \n",
       "\n",
       "                                             name  marca_value  \\\n",
       "809559  Saro Soporte Baño Anatomico Abatible Rojo         saro   \n",
       "\n",
       "        analytic_category                          nombre_corto  num_compras  \n",
       "809559           infantil  Saro Soporte Baño Anatomico Abatible            1  \n",
       "\n",
       "[1 rows x 26 columns]"
      ]
     },
     "execution_count": 7,
     "metadata": {},
     "output_type": "execute_result"
    }
   ],
   "source": [
    "print(df.shape)\n",
    "df.loc[df[\"product_id\"]==12708]"
   ]
  },
  {
   "cell_type": "markdown",
   "metadata": {},
   "source": [
    "### Depuración de datos"
   ]
  },
  {
   "cell_type": "markdown",
   "metadata": {},
   "source": [
    "Sólo se escogen las columnas referidas a los productos en sí."
   ]
  },
  {
   "cell_type": "code",
   "execution_count": 8,
   "metadata": {},
   "outputs": [
    {
     "name": "stdout",
     "output_type": "stream",
     "text": [
      "(810167, 2)\n"
     ]
    },
    {
     "data": {
      "text/html": [
       "<div>\n",
       "<style scoped>\n",
       "    .dataframe tbody tr th:only-of-type {\n",
       "        vertical-align: middle;\n",
       "    }\n",
       "\n",
       "    .dataframe tbody tr th {\n",
       "        vertical-align: top;\n",
       "    }\n",
       "\n",
       "    .dataframe thead th {\n",
       "        text-align: right;\n",
       "    }\n",
       "</style>\n",
       "<table border=\"1\" class=\"dataframe\">\n",
       "  <thead>\n",
       "    <tr style=\"text-align: right;\">\n",
       "      <th></th>\n",
       "      <th>product_id</th>\n",
       "      <th>name</th>\n",
       "    </tr>\n",
       "  </thead>\n",
       "  <tbody>\n",
       "    <tr>\n",
       "      <th>0</th>\n",
       "      <td>5645</td>\n",
       "      <td>Weleda Hombre Crema Hidratante 30 ml</td>\n",
       "    </tr>\n",
       "    <tr>\n",
       "      <th>1</th>\n",
       "      <td>28743</td>\n",
       "      <td>Gynea Gestagyn Men 60 Capsulas</td>\n",
       "    </tr>\n",
       "  </tbody>\n",
       "</table>\n",
       "</div>"
      ],
      "text/plain": [
       "   product_id                                  name\n",
       "0        5645  Weleda Hombre Crema Hidratante 30 ml\n",
       "1       28743       Gynea Gestagyn Men 60 Capsulas "
      ]
     },
     "execution_count": 8,
     "metadata": {},
     "output_type": "execute_result"
    }
   ],
   "source": [
    "df = df[[\"product_id\",\"name\"]]\n",
    "\n",
    "print(df.shape)\n",
    "df.head(2)"
   ]
  },
  {
   "cell_type": "markdown",
   "metadata": {},
   "source": [
    "Se comprueba que los tamaños de ambas columnas en sus valores únicos no coincide."
   ]
  },
  {
   "cell_type": "code",
   "execution_count": 9,
   "metadata": {},
   "outputs": [
    {
     "name": "stdout",
     "output_type": "stream",
     "text": [
      "19787\n"
     ]
    },
    {
     "data": {
      "text/plain": [
       "19778"
      ]
     },
     "execution_count": 9,
     "metadata": {},
     "output_type": "execute_result"
    }
   ],
   "source": [
    "print(len(df[\"product_id\"].unique()))\n",
    "len(df[\"name\"].unique())"
   ]
  },
  {
   "cell_type": "markdown",
   "metadata": {},
   "source": [
    "Por tanto, se de toma como referencia la variable con menor número de únicos para generar el dataframe preliminar para tratar.\n",
    "\n",
    "Las comprobaciones de que los valores no se hubieran descuadrado, se realizó en el documento de testeo."
   ]
  },
  {
   "cell_type": "code",
   "execution_count": 11,
   "metadata": {},
   "outputs": [
    {
     "name": "stdout",
     "output_type": "stream",
     "text": [
      "(19778, 2)\n"
     ]
    },
    {
     "data": {
      "text/html": [
       "<div>\n",
       "<style scoped>\n",
       "    .dataframe tbody tr th:only-of-type {\n",
       "        vertical-align: middle;\n",
       "    }\n",
       "\n",
       "    .dataframe tbody tr th {\n",
       "        vertical-align: top;\n",
       "    }\n",
       "\n",
       "    .dataframe thead th {\n",
       "        text-align: right;\n",
       "    }\n",
       "</style>\n",
       "<table border=\"1\" class=\"dataframe\">\n",
       "  <thead>\n",
       "    <tr style=\"text-align: right;\">\n",
       "      <th></th>\n",
       "      <th>product_id</th>\n",
       "      <th>name</th>\n",
       "    </tr>\n",
       "  </thead>\n",
       "  <tbody>\n",
       "    <tr>\n",
       "      <th>1</th>\n",
       "      <td>28743</td>\n",
       "      <td>Gynea Gestagyn Men 60 Capsulas</td>\n",
       "    </tr>\n",
       "  </tbody>\n",
       "</table>\n",
       "</div>"
      ],
      "text/plain": [
       "   product_id                             name\n",
       "1       28743  Gynea Gestagyn Men 60 Capsulas "
      ]
     },
     "execution_count": 11,
     "metadata": {},
     "output_type": "execute_result"
    }
   ],
   "source": [
    "df = df.drop_duplicates(subset=['name'])\n",
    "print(df.shape)\n",
    "df.iloc[[1]]"
   ]
  },
  {
   "cell_type": "markdown",
   "metadata": {},
   "source": [
    "### Eliminación de cantidades en Productos"
   ]
  },
  {
   "cell_type": "markdown",
   "metadata": {},
   "source": [
    "Cada columna del dataframe resultante se transforma a lista, lo más reseñable es la aplicación de REGEX para limpiar los nombres de los productos únicos y así obtener un resultado más consistente.\n",
    "\n",
    "La aplicación de dicha expresión regular también se aplicó para intentar reducir el número de nombres de productos únicos y así mejorar la eficiencia del WebScrapping posterior."
   ]
  },
  {
   "cell_type": "code",
   "execution_count": 13,
   "metadata": {},
   "outputs": [],
   "source": [
    "idModded = df.index.tolist()\n",
    "productModded = df[\"product_id\"].unique().tolist()\n",
    "nameModded =[ele.rstrip() for ele in list(map(lambda x: re.sub(\"\\d+\\s*\\S*\\w+\\s*\\S*\\w\", \"\", x),df[\"name\"]))]"
   ]
  },
  {
   "cell_type": "markdown",
   "metadata": {},
   "source": [
    "### Creación de CSV con los datos tratados"
   ]
  },
  {
   "cell_type": "markdown",
   "metadata": {},
   "source": [
    "Con las listas ya depuradas en el apartado anterior, se genera y comprueba el dataframe final."
   ]
  },
  {
   "cell_type": "code",
   "execution_count": 18,
   "metadata": {},
   "outputs": [
    {
     "name": "stdout",
     "output_type": "stream",
     "text": [
      "(19778, 3)\n"
     ]
    },
    {
     "data": {
      "text/html": [
       "<div>\n",
       "<style scoped>\n",
       "    .dataframe tbody tr th:only-of-type {\n",
       "        vertical-align: middle;\n",
       "    }\n",
       "\n",
       "    .dataframe tbody tr th {\n",
       "        vertical-align: top;\n",
       "    }\n",
       "\n",
       "    .dataframe thead th {\n",
       "        text-align: right;\n",
       "    }\n",
       "</style>\n",
       "<table border=\"1\" class=\"dataframe\">\n",
       "  <thead>\n",
       "    <tr style=\"text-align: right;\">\n",
       "      <th></th>\n",
       "      <th>id</th>\n",
       "      <th>product_id</th>\n",
       "      <th>name</th>\n",
       "    </tr>\n",
       "  </thead>\n",
       "  <tbody>\n",
       "    <tr>\n",
       "      <th>0</th>\n",
       "      <td>0</td>\n",
       "      <td>5645</td>\n",
       "      <td>Weleda Hombre Crema Hidratante</td>\n",
       "    </tr>\n",
       "    <tr>\n",
       "      <th>1</th>\n",
       "      <td>1</td>\n",
       "      <td>28743</td>\n",
       "      <td>Gynea Gestagyn Men</td>\n",
       "    </tr>\n",
       "  </tbody>\n",
       "</table>\n",
       "</div>"
      ],
      "text/plain": [
       "   id  product_id                            name\n",
       "0   0        5645  Weleda Hombre Crema Hidratante\n",
       "1   1       28743              Gynea Gestagyn Men"
      ]
     },
     "execution_count": 18,
     "metadata": {},
     "output_type": "execute_result"
    }
   ],
   "source": [
    "dfDef = pd.DataFrame({\"id\":idModded,\"product_id\":productModded,\"name\":nameModded})\n",
    "dfDef[\"name\"].drop_duplicates()\n",
    "print(dfDef.shape)\n",
    "dfDef.head(2)"
   ]
  },
  {
   "cell_type": "markdown",
   "metadata": {},
   "source": [
    "### Exportación de resultados"
   ]
  },
  {
   "cell_type": "code",
   "execution_count": 15,
   "metadata": {},
   "outputs": [],
   "source": [
    "# Importante conservar el \"index=False\" para evitar inconsistencias en importaciones siguientes del CSV generado.\n",
    "dfDef.to_csv(f\"{pathToExport}{fileToExport}\", index=False)"
   ]
  }
 ],
 "metadata": {
  "interpreter": {
   "hash": "bf572a60f2270a32a2287ee5441c31c3f27de4f092d16eee7937505d14960a51"
  },
  "kernelspec": {
   "display_name": "Python 3.10.4 ('venv': venv)",
   "language": "python",
   "name": "python3"
  },
  "language_info": {
   "codemirror_mode": {
    "name": "ipython",
    "version": 3
   },
   "file_extension": ".py",
   "mimetype": "text/x-python",
   "name": "python",
   "nbconvert_exporter": "python",
   "pygments_lexer": "ipython3",
   "version": "3.10.4"
  },
  "orig_nbformat": 4
 },
 "nbformat": 4,
 "nbformat_minor": 2
}
