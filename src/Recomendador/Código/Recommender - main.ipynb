{
 "cells": [
  {
   "cell_type": "markdown",
   "metadata": {},
   "source": [
    "### Instalaciones necesarias"
   ]
  },
  {
   "cell_type": "code",
   "execution_count": 6,
   "metadata": {},
   "outputs": [],
   "source": [
    "# !pip install tensorflow\n",
    "# !pip install -q tensorflow-recommenders\n",
    "# !pip install -q --upgrade tensorflow-datasets"
   ]
  },
  {
   "cell_type": "markdown",
   "metadata": {},
   "source": [
    "### Importación de librerías"
   ]
  },
  {
   "cell_type": "code",
   "execution_count": 7,
   "metadata": {},
   "outputs": [],
   "source": [
    "# Importación de Tensorflow \n",
    "from typing import Dict, Text\n",
    "\n",
    "import numpy as np\n",
    "import tensorflow as tf\n",
    "\n",
    "import tensorflow_recommenders as tfrs"
   ]
  },
  {
   "cell_type": "code",
   "execution_count": 8,
   "metadata": {},
   "outputs": [],
   "source": [
    "# Importación de pandas para el manejo de dataframes, además de expresiones regulares (re)\n",
    "import pandas as pd\n",
    "import re"
   ]
  },
  {
   "cell_type": "markdown",
   "metadata": {},
   "source": [
    "### Variables generales"
   ]
  },
  {
   "cell_type": "markdown",
   "metadata": {},
   "source": [
    "Se establecen para facilitar el cambio de variables recurrentes y/o cambiantes de forma sencilla"
   ]
  },
  {
   "cell_type": "code",
   "execution_count": 12,
   "metadata": {},
   "outputs": [],
   "source": [
    "pathToDF = \"../../../Inputs/Creados - Proyecto/\"\n",
    "fileToDF = \"dfVentasDefinitivo.csv\"\n",
    "\n",
    "byColumn = \"product_id\""
   ]
  },
  {
   "cell_type": "markdown",
   "metadata": {},
   "source": [
    "### Importación de datos"
   ]
  },
  {
   "cell_type": "code",
   "execution_count": 13,
   "metadata": {},
   "outputs": [],
   "source": [
    "df = pd.read_csv(f\"{pathToDF}{fileToDF}\")"
   ]
  },
  {
   "cell_type": "code",
   "execution_count": 14,
   "metadata": {},
   "outputs": [],
   "source": [
    "#Sólo ejecutar una vez, elimina primera columna si la exportación de dicho CSV no se realizó con el parámetro \"index=False\"\n",
    "df.drop(columns=df.columns[0], axis=1, inplace=True)"
   ]
  },
  {
   "cell_type": "code",
   "execution_count": 16,
   "metadata": {},
   "outputs": [
    {
     "data": {
      "text/html": [
       "<div>\n",
       "<style scoped>\n",
       "    .dataframe tbody tr th:only-of-type {\n",
       "        vertical-align: middle;\n",
       "    }\n",
       "\n",
       "    .dataframe tbody tr th {\n",
       "        vertical-align: top;\n",
       "    }\n",
       "\n",
       "    .dataframe thead th {\n",
       "        text-align: right;\n",
       "    }\n",
       "</style>\n",
       "<table border=\"1\" class=\"dataframe\">\n",
       "  <thead>\n",
       "    <tr style=\"text-align: right;\">\n",
       "      <th></th>\n",
       "      <th>item_id</th>\n",
       "      <th>num_order</th>\n",
       "      <th>created_at</th>\n",
       "      <th>product_id</th>\n",
       "      <th>qty_ordered</th>\n",
       "      <th>base_cost</th>\n",
       "      <th>price</th>\n",
       "      <th>discount_percent</th>\n",
       "      <th>customer_id</th>\n",
       "      <th>Zipcode</th>\n",
       "      <th>...</th>\n",
       "      <th>hour</th>\n",
       "      <th>week</th>\n",
       "      <th>day</th>\n",
       "      <th>margin_total</th>\n",
       "      <th>price_total</th>\n",
       "      <th>name</th>\n",
       "      <th>marca_value</th>\n",
       "      <th>analytic_category</th>\n",
       "      <th>nombre_corto</th>\n",
       "      <th>num_compras</th>\n",
       "    </tr>\n",
       "  </thead>\n",
       "  <tbody>\n",
       "    <tr>\n",
       "      <th>0</th>\n",
       "      <td>000010d95384a6ba3d57dd870e7b337c</td>\n",
       "      <td>65717498f0771a49497d80f11160093c</td>\n",
       "      <td>2017-09-22 15:46:37</td>\n",
       "      <td>5645</td>\n",
       "      <td>1</td>\n",
       "      <td>7.4441</td>\n",
       "      <td>10.38</td>\n",
       "      <td>7.0</td>\n",
       "      <td>da5b59745c6a4699dee7684eba901bba</td>\n",
       "      <td>28028</td>\n",
       "      <td>...</td>\n",
       "      <td>15</td>\n",
       "      <td>38</td>\n",
       "      <td>Friday</td>\n",
       "      <td>2.9359</td>\n",
       "      <td>10.38</td>\n",
       "      <td>Weleda Hombre Crema Hidratante 30 ml</td>\n",
       "      <td>weleda</td>\n",
       "      <td>cosmética y belleza</td>\n",
       "      <td>Weleda Hombre Crema Hidratante 30</td>\n",
       "      <td>1</td>\n",
       "    </tr>\n",
       "    <tr>\n",
       "      <th>1</th>\n",
       "      <td>00001a8fb0bd42b1e16ba731e30cc490</td>\n",
       "      <td>09b538e85ce396ecbb70695f91007830</td>\n",
       "      <td>2018-09-12 21:27:08</td>\n",
       "      <td>28743</td>\n",
       "      <td>2</td>\n",
       "      <td>35.3166</td>\n",
       "      <td>43.08</td>\n",
       "      <td>7.0</td>\n",
       "      <td>531a918355010bacbe506243a5f05c30</td>\n",
       "      <td>12194</td>\n",
       "      <td>...</td>\n",
       "      <td>21</td>\n",
       "      <td>89</td>\n",
       "      <td>Wednesday</td>\n",
       "      <td>15.5268</td>\n",
       "      <td>86.16</td>\n",
       "      <td>Gynea Gestagyn Men 60 Capsulas</td>\n",
       "      <td>gynea</td>\n",
       "      <td>vida íntima</td>\n",
       "      <td>Gynea Gestagyn Men 60 Capsulas</td>\n",
       "      <td>1</td>\n",
       "    </tr>\n",
       "  </tbody>\n",
       "</table>\n",
       "<p>2 rows × 26 columns</p>\n",
       "</div>"
      ],
      "text/plain": [
       "                            item_id                         num_order  \\\n",
       "0  000010d95384a6ba3d57dd870e7b337c  65717498f0771a49497d80f11160093c   \n",
       "1  00001a8fb0bd42b1e16ba731e30cc490  09b538e85ce396ecbb70695f91007830   \n",
       "\n",
       "            created_at  product_id  qty_ordered  base_cost  price  \\\n",
       "0  2017-09-22 15:46:37        5645            1     7.4441  10.38   \n",
       "1  2018-09-12 21:27:08       28743            2    35.3166  43.08   \n",
       "\n",
       "   discount_percent                       customer_id Zipcode  ...  hour week  \\\n",
       "0               7.0  da5b59745c6a4699dee7684eba901bba   28028  ...    15   38   \n",
       "1               7.0  531a918355010bacbe506243a5f05c30   12194  ...    21   89   \n",
       "\n",
       "         day margin_total price_total                                  name  \\\n",
       "0     Friday       2.9359       10.38  Weleda Hombre Crema Hidratante 30 ml   \n",
       "1  Wednesday      15.5268       86.16       Gynea Gestagyn Men 60 Capsulas    \n",
       "\n",
       "   marca_value    analytic_category                       nombre_corto  \\\n",
       "0       weleda  cosmética y belleza  Weleda Hombre Crema Hidratante 30   \n",
       "1        gynea          vida íntima     Gynea Gestagyn Men 60 Capsulas   \n",
       "\n",
       "   num_compras  \n",
       "0            1  \n",
       "1            1  \n",
       "\n",
       "[2 rows x 26 columns]"
      ]
     },
     "execution_count": 16,
     "metadata": {},
     "output_type": "execute_result"
    }
   ],
   "source": [
    "df.head(2)"
   ]
  },
  {
   "cell_type": "markdown",
   "metadata": {},
   "source": [
    "### Depuración de datos"
   ]
  },
  {
   "cell_type": "markdown",
   "metadata": {},
   "source": [
    "Aplicación de expresión regular que elimina cantidades de los nombres originales de los productos, con el fin de mejorar la legilibilidad y posterior reducción."
   ]
  },
  {
   "cell_type": "code",
   "execution_count": 17,
   "metadata": {},
   "outputs": [],
   "source": [
    "df[\"name\"] = df[\"name\"].apply(lambda x: re.sub(\"\\d+\\s*\\S*\\w+\\s*\\S*\\w\", \"\", x))"
   ]
  },
  {
   "cell_type": "markdown",
   "metadata": {},
   "source": [
    "**Creación de dataset de ventas**"
   ]
  },
  {
   "cell_type": "code",
   "execution_count": 18,
   "metadata": {},
   "outputs": [],
   "source": [
    "df2 = df[[\"customer_id\", byColumn]]"
   ]
  },
  {
   "cell_type": "code",
   "execution_count": 19,
   "metadata": {},
   "outputs": [
    {
     "name": "stderr",
     "output_type": "stream",
     "text": [
      "/tmp/ipykernel_120782/1398491429.py:3: SettingWithCopyWarning: \n",
      "A value is trying to be set on a copy of a slice from a DataFrame\n",
      "\n",
      "See the caveats in the documentation: https://pandas.pydata.org/pandas-docs/stable/user_guide/indexing.html#returning-a-view-versus-a-copy\n",
      "  df3.drop(df3.columns[[0]], axis=1, inplace=True)\n"
     ]
    },
    {
     "name": "stdout",
     "output_type": "stream",
     "text": [
      "(810167, 2)\n",
      "customer_id    object\n",
      "product_id     object\n",
      "dtype: object\n"
     ]
    },
    {
     "data": {
      "text/html": [
       "<div>\n",
       "<style scoped>\n",
       "    .dataframe tbody tr th:only-of-type {\n",
       "        vertical-align: middle;\n",
       "    }\n",
       "\n",
       "    .dataframe tbody tr th {\n",
       "        vertical-align: top;\n",
       "    }\n",
       "\n",
       "    .dataframe thead th {\n",
       "        text-align: right;\n",
       "    }\n",
       "</style>\n",
       "<table border=\"1\" class=\"dataframe\">\n",
       "  <thead>\n",
       "    <tr style=\"text-align: right;\">\n",
       "      <th></th>\n",
       "      <th>customer_id</th>\n",
       "      <th>product_id</th>\n",
       "    </tr>\n",
       "  </thead>\n",
       "  <tbody>\n",
       "    <tr>\n",
       "      <th>0</th>\n",
       "      <td>0</td>\n",
       "      <td>5645</td>\n",
       "    </tr>\n",
       "    <tr>\n",
       "      <th>1</th>\n",
       "      <td>0</td>\n",
       "      <td>36943</td>\n",
       "    </tr>\n",
       "    <tr>\n",
       "      <th>2</th>\n",
       "      <td>0</td>\n",
       "      <td>5645</td>\n",
       "    </tr>\n",
       "    <tr>\n",
       "      <th>3</th>\n",
       "      <td>0</td>\n",
       "      <td>8635</td>\n",
       "    </tr>\n",
       "    <tr>\n",
       "      <th>4</th>\n",
       "      <td>0</td>\n",
       "      <td>4629</td>\n",
       "    </tr>\n",
       "  </tbody>\n",
       "</table>\n",
       "</div>"
      ],
      "text/plain": [
       "  customer_id product_id\n",
       "0           0       5645\n",
       "1           0      36943\n",
       "2           0       5645\n",
       "3           0       8635\n",
       "4           0       4629"
      ]
     },
     "execution_count": 19,
     "metadata": {},
     "output_type": "execute_result"
    }
   ],
   "source": [
    "df3 = df2.drop_duplicates(subset=['customer_id'])\n",
    "df3.reset_index(inplace=True)\n",
    "df3.drop(df3.columns[[0]], axis=1, inplace=True)\n",
    "df3.reset_index(inplace=True)\n",
    "df3 = df3[[\"index\", \"customer_id\"]]\n",
    "\n",
    "df4 = df2\n",
    "df4 = pd.merge(df3, df4, how=\"inner\", on=[\"customer_id\"])\n",
    "df4 =df4[[\"index\",byColumn]]\n",
    "df4['index'] = df4['index'].astype(str)\n",
    "df4.rename(columns = {'index':'customer_id'}, inplace = True)\n",
    "df4[byColumn] = df4[byColumn].astype(\"str\")\n",
    "\n",
    "print(df4.shape)\n",
    "print(df4.dtypes)\n",
    "df4.head()"
   ]
  },
  {
   "cell_type": "code",
   "execution_count": 24,
   "metadata": {},
   "outputs": [],
   "source": [
    "# Conversión de dataframe de pandas para uso en Tensorflow\n",
    "sales = tf.data.Dataset.from_tensor_slices(dict(df4))"
   ]
  },
  {
   "cell_type": "markdown",
   "metadata": {},
   "source": [
    "Comprobación de conversión"
   ]
  },
  {
   "cell_type": "code",
   "execution_count": 25,
   "metadata": {},
   "outputs": [
    {
     "name": "stdout",
     "output_type": "stream",
     "text": [
      "{'customer_id': <tf.Tensor: shape=(), dtype=string, numpy=b'0'>, 'product_id': <tf.Tensor: shape=(), dtype=string, numpy=b'5645'>}\n",
      "{'customer_id': <tf.Tensor: shape=(), dtype=string, numpy=b'0'>, 'product_id': <tf.Tensor: shape=(), dtype=string, numpy=b'36943'>}\n",
      "{'customer_id': <tf.Tensor: shape=(), dtype=string, numpy=b'0'>, 'product_id': <tf.Tensor: shape=(), dtype=string, numpy=b'5645'>}\n",
      "{'customer_id': <tf.Tensor: shape=(), dtype=string, numpy=b'0'>, 'product_id': <tf.Tensor: shape=(), dtype=string, numpy=b'8635'>}\n",
      "{'customer_id': <tf.Tensor: shape=(), dtype=string, numpy=b'0'>, 'product_id': <tf.Tensor: shape=(), dtype=string, numpy=b'4629'>}\n"
     ]
    }
   ],
   "source": [
    "for row in sales.take(5):\n",
    "  print(row)"
   ]
  },
  {
   "cell_type": "markdown",
   "metadata": {},
   "source": [
    "**Creación de dataset de productos**"
   ]
  },
  {
   "cell_type": "code",
   "execution_count": 26,
   "metadata": {},
   "outputs": [
    {
     "name": "stdout",
     "output_type": "stream",
     "text": [
      "(19787, 1)\n"
     ]
    },
    {
     "data": {
      "text/html": [
       "<div>\n",
       "<style scoped>\n",
       "    .dataframe tbody tr th:only-of-type {\n",
       "        vertical-align: middle;\n",
       "    }\n",
       "\n",
       "    .dataframe tbody tr th {\n",
       "        vertical-align: top;\n",
       "    }\n",
       "\n",
       "    .dataframe thead th {\n",
       "        text-align: right;\n",
       "    }\n",
       "</style>\n",
       "<table border=\"1\" class=\"dataframe\">\n",
       "  <thead>\n",
       "    <tr style=\"text-align: right;\">\n",
       "      <th></th>\n",
       "      <th>product_id</th>\n",
       "    </tr>\n",
       "  </thead>\n",
       "  <tbody>\n",
       "    <tr>\n",
       "      <th>0</th>\n",
       "      <td>5645</td>\n",
       "    </tr>\n",
       "    <tr>\n",
       "      <th>1</th>\n",
       "      <td>28743</td>\n",
       "    </tr>\n",
       "    <tr>\n",
       "      <th>2</th>\n",
       "      <td>68986</td>\n",
       "    </tr>\n",
       "    <tr>\n",
       "      <th>3</th>\n",
       "      <td>9692</td>\n",
       "    </tr>\n",
       "    <tr>\n",
       "      <th>4</th>\n",
       "      <td>81921</td>\n",
       "    </tr>\n",
       "  </tbody>\n",
       "</table>\n",
       "</div>"
      ],
      "text/plain": [
       "  product_id\n",
       "0       5645\n",
       "1      28743\n",
       "2      68986\n",
       "3       9692\n",
       "4      81921"
      ]
     },
     "execution_count": 26,
     "metadata": {},
     "output_type": "execute_result"
    }
   ],
   "source": [
    "dfProduct = df2[byColumn].unique().tolist()\n",
    "dfProduct = pd.DataFrame(dfProduct, columns=[byColumn])\n",
    "dfProduct[byColumn] = dfProduct[byColumn].astype(\"str\")\n",
    "print(dfProduct.shape)\n",
    "dfProduct.head(5)"
   ]
  },
  {
   "cell_type": "code",
   "execution_count": 27,
   "metadata": {},
   "outputs": [],
   "source": [
    "# Conversión de dataframe de pandas para uso en Tensorflow\n",
    "products = tf.data.Dataset.from_tensor_slices(dict(dfProduct))"
   ]
  },
  {
   "cell_type": "markdown",
   "metadata": {},
   "source": [
    "Comprobación de conversión"
   ]
  },
  {
   "cell_type": "code",
   "execution_count": 28,
   "metadata": {},
   "outputs": [
    {
     "name": "stdout",
     "output_type": "stream",
     "text": [
      "{'product_id': <tf.Tensor: shape=(), dtype=string, numpy=b'5645'>}\n",
      "{'product_id': <tf.Tensor: shape=(), dtype=string, numpy=b'28743'>}\n",
      "{'product_id': <tf.Tensor: shape=(), dtype=string, numpy=b'68986'>}\n"
     ]
    }
   ],
   "source": [
    "for row in products.take(3):\n",
    "  print(row)"
   ]
  },
  {
   "cell_type": "markdown",
   "metadata": {},
   "source": [
    "### Aplicación de TensorFlow"
   ]
  },
  {
   "cell_type": "markdown",
   "metadata": {},
   "source": [
    "Se define el alcance de las variables"
   ]
  },
  {
   "cell_type": "code",
   "execution_count": 30,
   "metadata": {},
   "outputs": [],
   "source": [
    "sales = sales.map(lambda x: {\n",
    "    byColumn: x[byColumn],\n",
    "    \"customer_id\": x[\"customer_id\"],\n",
    "})\n",
    "products = products.map(lambda x: x[byColumn])"
   ]
  },
  {
   "cell_type": "code",
   "execution_count": 31,
   "metadata": {},
   "outputs": [
    {
     "data": {
      "text/plain": [
       "<MapDataset element_spec={'product_id': TensorSpec(shape=(), dtype=tf.string, name=None), 'customer_id': TensorSpec(shape=(), dtype=tf.string, name=None)}>"
      ]
     },
     "execution_count": 31,
     "metadata": {},
     "output_type": "execute_result"
    }
   ],
   "source": [
    "sales"
   ]
  },
  {
   "cell_type": "code",
   "execution_count": 33,
   "metadata": {},
   "outputs": [],
   "source": [
    "sales_vocabulary = tf.keras.layers.StringLookup(mask_token=None)\n",
    "sales_vocabulary.adapt(sales.map(lambda x: x[\"customer_id\"]))\n",
    "\n",
    "products_vocabulary = tf.keras.layers.StringLookup(mask_token=None)\n",
    "products_vocabulary.adapt(products)"
   ]
  },
  {
   "cell_type": "code",
   "execution_count": 62,
   "metadata": {},
   "outputs": [],
   "source": [
    "class RecomendatorModel(tfrs.Model):\n",
    "\n",
    "  def __init__(\n",
    "      self,\n",
    "      sales_model: tf.keras.Model,\n",
    "      products_model: tf.keras.Model,\n",
    "      task: tfrs.tasks.Retrieval):\n",
    "    super().__init__()\n",
    "\n",
    "    self.sales_model = sales_model\n",
    "    self.products_model = products_model\n",
    "\n",
    "    self.task = task\n",
    "\n",
    "\n",
    "  def compute_loss(self, features: Dict[Text, tf.Tensor], training=False) -> tf.Tensor:\n",
    "\n",
    "    sales_embeddings = self.sales_model(features[\"customer_id\"])\n",
    "    products_embeddings = self.products_model(features[byColumn])\n",
    "\n",
    "    return self.task(sales_embeddings, products_embeddings)"
   ]
  },
  {
   "cell_type": "code",
   "execution_count": 60,
   "metadata": {},
   "outputs": [],
   "source": [
    "# Define capas modelos de ventas y productos\n",
    "sales_model = tf.keras.Sequential([\n",
    "    sales_vocabulary,\n",
    "    tf.keras.layers.Embedding(sales_vocabulary.vocabulary_size(), 64)\n",
    "])\n",
    "\n",
    "products_model = tf.keras.Sequential([\n",
    "    products_vocabulary,\n",
    "    tf.keras.layers.Embedding(products_vocabulary.vocabulary_size(), 64)\n",
    "])\n",
    "\n",
    "# Define los objetivos\n",
    "task = tfrs.tasks.Retrieval(metrics=tfrs.metrics.FactorizedTopK(\n",
    "    products.batch(128).map(products_model)\n",
    "  )\n",
    ")\n"
   ]
  },
  {
   "cell_type": "code",
   "execution_count": 63,
   "metadata": {},
   "outputs": [
    {
     "name": "stdout",
     "output_type": "stream",
     "text": [
      "Epoch 1/3\n",
      "198/198 [==============================] - 355s 2s/step - factorized_top_k/top_1_categorical_accuracy: 2.2341e-04 - factorized_top_k/top_5_categorical_accuracy: 0.0018 - factorized_top_k/top_10_categorical_accuracy: 0.0036 - factorized_top_k/top_50_categorical_accuracy: 0.0154 - factorized_top_k/top_100_categorical_accuracy: 0.0270 - loss: 34014.5863 - regularization_loss: 0.0000e+00 - total_loss: 34014.5863\n",
      "Epoch 2/3\n",
      "198/198 [==============================] - 404s 2s/step - factorized_top_k/top_1_categorical_accuracy: 0.0418 - factorized_top_k/top_5_categorical_accuracy: 0.1447 - factorized_top_k/top_10_categorical_accuracy: 0.1779 - factorized_top_k/top_50_categorical_accuracy: 0.2639 - factorized_top_k/top_100_categorical_accuracy: 0.3080 - loss: 29515.8075 - regularization_loss: 0.0000e+00 - total_loss: 29515.8075\n",
      "Epoch 3/3\n",
      "198/198 [==============================] - 405s 2s/step - factorized_top_k/top_1_categorical_accuracy: 0.0917 - factorized_top_k/top_5_categorical_accuracy: 0.2419 - factorized_top_k/top_10_categorical_accuracy: 0.2969 - factorized_top_k/top_50_categorical_accuracy: 0.4274 - factorized_top_k/top_100_categorical_accuracy: 0.4890 - loss: 23852.8232 - regularization_loss: 0.0000e+00 - total_loss: 23852.8232\n"
     ]
    },
    {
     "data": {
      "text/plain": [
       "<keras.callbacks.History at 0x7f4ce374a920>"
      ]
     },
     "execution_count": 63,
     "metadata": {},
     "output_type": "execute_result"
    }
   ],
   "source": [
    "# Creación del modelo\n",
    "model = RecomendatorModel(sales_model, products_model, task)\n",
    "model.compile(optimizer=tf.keras.optimizers.Adagrad(0.5))\n",
    "\n",
    "# Entrenamiento para tres 'epochs'\n",
    "model.fit(ratings.batch(4096), epochs=3)"
   ]
  },
  {
   "cell_type": "code",
   "execution_count": 67,
   "metadata": {},
   "outputs": [
    {
     "data": {
      "text/plain": [
       "<tensorflow_recommenders.layers.factorized_top_k.BruteForce at 0x7f4ce374bd30>"
      ]
     },
     "execution_count": 67,
     "metadata": {},
     "output_type": "execute_result"
    }
   ],
   "source": [
    "# Uso de fuerza bruta\n",
    "index = tfrs.layers.factorized_top_k.BruteForce(model.sales_model)\n",
    "index.index_from_dataset(\n",
    "    products.batch(100).map(lambda title: (title, model.products_model(title))))"
   ]
  },
  {
   "cell_type": "markdown",
   "metadata": {},
   "source": [
    "**Guardado de modelo**"
   ]
  },
  {
   "cell_type": "code",
   "execution_count": 68,
   "metadata": {},
   "outputs": [],
   "source": [
    "#model.save_weights(\"checkpoint\")\n",
    "#model.save('my_model.tf')\n",
    "#model.summary()"
   ]
  },
  {
   "cell_type": "markdown",
   "metadata": {},
   "source": [
    "**Chequeo preliminar de resultados**"
   ]
  },
  {
   "cell_type": "code",
   "execution_count": 69,
   "metadata": {},
   "outputs": [
    {
     "name": "stdout",
     "output_type": "stream",
     "text": [
      "Top 3 recommendations for User40: [b'8362' b'62785' b'10906' b'88497' b'9537']\n"
     ]
    }
   ],
   "source": [
    "numCustomer = \"40\"\n",
    "_, titles = index(np.array([numCustomer]))\n",
    "print(f\"Top 3 recommendations for User{numCustomer}: {titles[0, :5]}\")"
   ]
  },
  {
   "cell_type": "code",
   "execution_count": 70,
   "metadata": {},
   "outputs": [
    {
     "name": "stdout",
     "output_type": "stream",
     "text": [
      "Top 3 recommendations for User1: [b'81348' b'56981' b'9972' b'91125' b'94992']\n"
     ]
    }
   ],
   "source": [
    "numCustomer = \"1\"\n",
    "_, titles = index(np.array([numCustomer]))\n",
    "print(f\"Top 3 recommendations for User{numCustomer}: {titles[0, :5]}\")"
   ]
  },
  {
   "cell_type": "markdown",
   "metadata": {},
   "source": [
    "### Depuración de resultados para dataframe final"
   ]
  },
  {
   "cell_type": "code",
   "execution_count": 71,
   "metadata": {},
   "outputs": [
    {
     "name": "stdout",
     "output_type": "stream",
     "text": [
      "(810167, 2)\n"
     ]
    },
    {
     "data": {
      "text/html": [
       "<div>\n",
       "<style scoped>\n",
       "    .dataframe tbody tr th:only-of-type {\n",
       "        vertical-align: middle;\n",
       "    }\n",
       "\n",
       "    .dataframe tbody tr th {\n",
       "        vertical-align: top;\n",
       "    }\n",
       "\n",
       "    .dataframe thead th {\n",
       "        text-align: right;\n",
       "    }\n",
       "</style>\n",
       "<table border=\"1\" class=\"dataframe\">\n",
       "  <thead>\n",
       "    <tr style=\"text-align: right;\">\n",
       "      <th></th>\n",
       "      <th>customer_id</th>\n",
       "      <th>product_id</th>\n",
       "    </tr>\n",
       "  </thead>\n",
       "  <tbody>\n",
       "    <tr>\n",
       "      <th>0</th>\n",
       "      <td>0</td>\n",
       "      <td>5645</td>\n",
       "    </tr>\n",
       "    <tr>\n",
       "      <th>1</th>\n",
       "      <td>0</td>\n",
       "      <td>36943</td>\n",
       "    </tr>\n",
       "    <tr>\n",
       "      <th>2</th>\n",
       "      <td>0</td>\n",
       "      <td>5645</td>\n",
       "    </tr>\n",
       "    <tr>\n",
       "      <th>3</th>\n",
       "      <td>0</td>\n",
       "      <td>8635</td>\n",
       "    </tr>\n",
       "    <tr>\n",
       "      <th>4</th>\n",
       "      <td>0</td>\n",
       "      <td>4629</td>\n",
       "    </tr>\n",
       "  </tbody>\n",
       "</table>\n",
       "</div>"
      ],
      "text/plain": [
       "  customer_id product_id\n",
       "0           0       5645\n",
       "1           0      36943\n",
       "2           0       5645\n",
       "3           0       8635\n",
       "4           0       4629"
      ]
     },
     "execution_count": 71,
     "metadata": {},
     "output_type": "execute_result"
    }
   ],
   "source": [
    "df5=df4\n",
    "print(df5.shape)\n",
    "df5.head()"
   ]
  },
  {
   "cell_type": "code",
   "execution_count": 72,
   "metadata": {},
   "outputs": [
    {
     "data": {
      "text/html": [
       "<div>\n",
       "<style scoped>\n",
       "    .dataframe tbody tr th:only-of-type {\n",
       "        vertical-align: middle;\n",
       "    }\n",
       "\n",
       "    .dataframe tbody tr th {\n",
       "        vertical-align: top;\n",
       "    }\n",
       "\n",
       "    .dataframe thead th {\n",
       "        text-align: right;\n",
       "    }\n",
       "</style>\n",
       "<table border=\"1\" class=\"dataframe\">\n",
       "  <thead>\n",
       "    <tr style=\"text-align: right;\">\n",
       "      <th></th>\n",
       "      <th>customer_id</th>\n",
       "      <th>product_id</th>\n",
       "      <th>recomendation1</th>\n",
       "      <th>recomendation2</th>\n",
       "      <th>recomendation3</th>\n",
       "    </tr>\n",
       "  </thead>\n",
       "  <tbody>\n",
       "    <tr>\n",
       "      <th>0</th>\n",
       "      <td>0</td>\n",
       "      <td>5645</td>\n",
       "      <td>NaN</td>\n",
       "      <td>NaN</td>\n",
       "      <td>NaN</td>\n",
       "    </tr>\n",
       "    <tr>\n",
       "      <th>1</th>\n",
       "      <td>0</td>\n",
       "      <td>36943</td>\n",
       "      <td>NaN</td>\n",
       "      <td>NaN</td>\n",
       "      <td>NaN</td>\n",
       "    </tr>\n",
       "    <tr>\n",
       "      <th>2</th>\n",
       "      <td>0</td>\n",
       "      <td>5645</td>\n",
       "      <td>NaN</td>\n",
       "      <td>NaN</td>\n",
       "      <td>NaN</td>\n",
       "    </tr>\n",
       "    <tr>\n",
       "      <th>3</th>\n",
       "      <td>0</td>\n",
       "      <td>8635</td>\n",
       "      <td>NaN</td>\n",
       "      <td>NaN</td>\n",
       "      <td>NaN</td>\n",
       "    </tr>\n",
       "    <tr>\n",
       "      <th>4</th>\n",
       "      <td>0</td>\n",
       "      <td>4629</td>\n",
       "      <td>NaN</td>\n",
       "      <td>NaN</td>\n",
       "      <td>NaN</td>\n",
       "    </tr>\n",
       "  </tbody>\n",
       "</table>\n",
       "</div>"
      ],
      "text/plain": [
       "  customer_id product_id  recomendation1  recomendation2  recomendation3\n",
       "0           0       5645             NaN             NaN             NaN\n",
       "1           0      36943             NaN             NaN             NaN\n",
       "2           0       5645             NaN             NaN             NaN\n",
       "3           0       8635             NaN             NaN             NaN\n",
       "4           0       4629             NaN             NaN             NaN"
      ]
     },
     "execution_count": 72,
     "metadata": {},
     "output_type": "execute_result"
    }
   ],
   "source": [
    "df5['recomendation1'] = np.nan\n",
    "df5['recomendation2'] = np.nan\n",
    "df5['recomendation3'] = np.nan\n",
    "df5.head()"
   ]
  },
  {
   "cell_type": "markdown",
   "metadata": {},
   "source": [
    "A continuación se trasladan las recomendaciones del modelo a un dataframe de Pandas"
   ]
  },
  {
   "cell_type": "code",
   "execution_count": null,
   "metadata": {},
   "outputs": [],
   "source": [
    "for element in range(df5.shape[0]):\n",
    "    _, titles = index(np.array([str(element)]))\n",
    "    result = [element2.decode('utf-8') for element2 in titles.numpy()[0]][:3]\n",
    "    df5.iloc[element, df5.columns.get_loc('recomendation1')] = result[0]\n",
    "    df5.iloc[element, df5.columns.get_loc('recomendation2')] = result[1]\n",
    "    df5.iloc[element, df5.columns.get_loc('recomendation3')] = result[2]\n",
    "    if element%10000==0:\n",
    "        print(element)\n",
    "df5.head()"
   ]
  },
  {
   "cell_type": "markdown",
   "metadata": {},
   "source": [
    "En este punto, se prepara el dataframe de Pandas obtenido para su uso en el Recomendador"
   ]
  },
  {
   "cell_type": "code",
   "execution_count": 75,
   "metadata": {},
   "outputs": [],
   "source": [
    "df6 = df5"
   ]
  },
  {
   "cell_type": "code",
   "execution_count": 76,
   "metadata": {},
   "outputs": [
    {
     "data": {
      "text/html": [
       "<div>\n",
       "<style scoped>\n",
       "    .dataframe tbody tr th:only-of-type {\n",
       "        vertical-align: middle;\n",
       "    }\n",
       "\n",
       "    .dataframe tbody tr th {\n",
       "        vertical-align: top;\n",
       "    }\n",
       "\n",
       "    .dataframe thead th {\n",
       "        text-align: right;\n",
       "    }\n",
       "</style>\n",
       "<table border=\"1\" class=\"dataframe\">\n",
       "  <thead>\n",
       "    <tr style=\"text-align: right;\">\n",
       "      <th></th>\n",
       "      <th>customer_id</th>\n",
       "      <th>product_id_y</th>\n",
       "      <th>recomendation1</th>\n",
       "      <th>recomendation2</th>\n",
       "      <th>recomendation3</th>\n",
       "    </tr>\n",
       "  </thead>\n",
       "  <tbody>\n",
       "    <tr>\n",
       "      <th>0</th>\n",
       "      <td>da5b59745c6a4699dee7684eba901bba</td>\n",
       "      <td>5645</td>\n",
       "      <td>36943</td>\n",
       "      <td>5645</td>\n",
       "      <td>72324</td>\n",
       "    </tr>\n",
       "    <tr>\n",
       "      <th>1</th>\n",
       "      <td>531a918355010bacbe506243a5f05c30</td>\n",
       "      <td>28743</td>\n",
       "      <td>81348</td>\n",
       "      <td>56981</td>\n",
       "      <td>9972</td>\n",
       "    </tr>\n",
       "    <tr>\n",
       "      <th>2</th>\n",
       "      <td>14e6f6400d1c114d509844be3687cb19</td>\n",
       "      <td>68986</td>\n",
       "      <td>72920</td>\n",
       "      <td>95729</td>\n",
       "      <td>9070</td>\n",
       "    </tr>\n",
       "    <tr>\n",
       "      <th>3</th>\n",
       "      <td>872bd419dfb24caf4f996a2cd2b8a9b4</td>\n",
       "      <td>9692</td>\n",
       "      <td>10504</td>\n",
       "      <td>72240</td>\n",
       "      <td>12493</td>\n",
       "    </tr>\n",
       "    <tr>\n",
       "      <th>4</th>\n",
       "      <td>8a1b78fb0503a964a7fb19135d429b78</td>\n",
       "      <td>81921</td>\n",
       "      <td>81921</td>\n",
       "      <td>62707</td>\n",
       "      <td>17647</td>\n",
       "    </tr>\n",
       "  </tbody>\n",
       "</table>\n",
       "</div>"
      ],
      "text/plain": [
       "                        customer_id  product_id_y recomendation1  \\\n",
       "0  da5b59745c6a4699dee7684eba901bba          5645          36943   \n",
       "1  531a918355010bacbe506243a5f05c30         28743          81348   \n",
       "2  14e6f6400d1c114d509844be3687cb19         68986          72920   \n",
       "3  872bd419dfb24caf4f996a2cd2b8a9b4          9692          10504   \n",
       "4  8a1b78fb0503a964a7fb19135d429b78         81921          81921   \n",
       "\n",
       "  recomendation2 recomendation3  \n",
       "0           5645          72324  \n",
       "1          56981           9972  \n",
       "2          95729           9070  \n",
       "3          72240          12493  \n",
       "4          62707          17647  "
      ]
     },
     "execution_count": 76,
     "metadata": {},
     "output_type": "execute_result"
    }
   ],
   "source": [
    "df7 = pd.merge(df6, df2, right_index=True, left_index=True)\n",
    "df7=df7[[\"customer_id_y\", f\"{byColumn}_y\", \"recomendation1\", \"recomendation2\", \"recomendation3\"]]\n",
    "df7.rename(columns = {'customer_id_y':'customer_id',\"name_y\":\"name\"}, inplace = True)\n",
    "df7.head()"
   ]
  },
  {
   "cell_type": "code",
   "execution_count": 80,
   "metadata": {},
   "outputs": [
    {
     "name": "stdout",
     "output_type": "stream",
     "text": [
      "(113522, 5)\n"
     ]
    },
    {
     "data": {
      "text/html": [
       "<div>\n",
       "<style scoped>\n",
       "    .dataframe tbody tr th:only-of-type {\n",
       "        vertical-align: middle;\n",
       "    }\n",
       "\n",
       "    .dataframe tbody tr th {\n",
       "        vertical-align: top;\n",
       "    }\n",
       "\n",
       "    .dataframe thead th {\n",
       "        text-align: right;\n",
       "    }\n",
       "</style>\n",
       "<table border=\"1\" class=\"dataframe\">\n",
       "  <thead>\n",
       "    <tr style=\"text-align: right;\">\n",
       "      <th></th>\n",
       "      <th>customer_id</th>\n",
       "      <th>product_id_y</th>\n",
       "      <th>recomendation1</th>\n",
       "      <th>recomendation2</th>\n",
       "      <th>recomendation3</th>\n",
       "    </tr>\n",
       "  </thead>\n",
       "  <tbody>\n",
       "    <tr>\n",
       "      <th>113517</th>\n",
       "      <td>fffc9e0a62f07e67ff85803a8b5f30cf</td>\n",
       "      <td>12137</td>\n",
       "      <td>2605</td>\n",
       "      <td>3714</td>\n",
       "      <td>12576</td>\n",
       "    </tr>\n",
       "    <tr>\n",
       "      <th>113518</th>\n",
       "      <td>fffe0497986df50816e428af728f8900</td>\n",
       "      <td>76271</td>\n",
       "      <td>10463</td>\n",
       "      <td>24945</td>\n",
       "      <td>25566</td>\n",
       "    </tr>\n",
       "    <tr>\n",
       "      <th>113519</th>\n",
       "      <td>fffed4187f3b5f17cb58536f7fac8dee</td>\n",
       "      <td>9964</td>\n",
       "      <td>10692</td>\n",
       "      <td>23410</td>\n",
       "      <td>53173</td>\n",
       "    </tr>\n",
       "    <tr>\n",
       "      <th>113520</th>\n",
       "      <td>ffff748a7ac35759d9fef57a34fd4a21</td>\n",
       "      <td>8153</td>\n",
       "      <td>27765</td>\n",
       "      <td>134</td>\n",
       "      <td>9744</td>\n",
       "    </tr>\n",
       "    <tr>\n",
       "      <th>113521</th>\n",
       "      <td>ffffb88e89a23a34d3d98282bad3889a</td>\n",
       "      <td>33997</td>\n",
       "      <td>10692</td>\n",
       "      <td>23410</td>\n",
       "      <td>53173</td>\n",
       "    </tr>\n",
       "  </tbody>\n",
       "</table>\n",
       "</div>"
      ],
      "text/plain": [
       "                             customer_id  product_id_y recomendation1  \\\n",
       "113517  fffc9e0a62f07e67ff85803a8b5f30cf         12137           2605   \n",
       "113518  fffe0497986df50816e428af728f8900         76271          10463   \n",
       "113519  fffed4187f3b5f17cb58536f7fac8dee          9964          10692   \n",
       "113520  ffff748a7ac35759d9fef57a34fd4a21          8153          27765   \n",
       "113521  ffffb88e89a23a34d3d98282bad3889a         33997          10692   \n",
       "\n",
       "       recomendation2 recomendation3  \n",
       "113517           3714          12576  \n",
       "113518          24945          25566  \n",
       "113519          23410          53173  \n",
       "113520            134           9744  \n",
       "113521          23410          53173  "
      ]
     },
     "execution_count": 80,
     "metadata": {},
     "output_type": "execute_result"
    }
   ],
   "source": [
    "df8=df7\n",
    "df8 = df8.groupby(by=\"customer_id\", dropna=False).first().reset_index()\n",
    "\n",
    "print(df8.shape)\n",
    "df8.tail()"
   ]
  },
  {
   "cell_type": "markdown",
   "metadata": {},
   "source": [
    "### Exportación de resultados"
   ]
  },
  {
   "cell_type": "code",
   "execution_count": 82,
   "metadata": {},
   "outputs": [],
   "source": [
    "df8.to_csv(f\"recomendations({byColumn})_V7.csv\", index=False)"
   ]
  }
 ],
 "metadata": {
  "interpreter": {
   "hash": "bf572a60f2270a32a2287ee5441c31c3f27de4f092d16eee7937505d14960a51"
  },
  "kernelspec": {
   "display_name": "Python 3.10.4 ('venv': venv)",
   "language": "python",
   "name": "python3"
  },
  "language_info": {
   "codemirror_mode": {
    "name": "ipython",
    "version": 3
   },
   "file_extension": ".py",
   "mimetype": "text/x-python",
   "name": "python",
   "nbconvert_exporter": "python",
   "pygments_lexer": "ipython3",
   "version": "3.10.4"
  },
  "orig_nbformat": 4
 },
 "nbformat": 4,
 "nbformat_minor": 2
}
