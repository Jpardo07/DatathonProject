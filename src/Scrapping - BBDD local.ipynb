{
 "cells": [
  {
   "cell_type": "markdown",
   "metadata": {},
   "source": [
    "### Libraries import"
   ]
  },
  {
   "cell_type": "code",
   "execution_count": 1,
   "metadata": {},
   "outputs": [],
   "source": [
    "import pandas as pd # Dataframes management\n",
    "from zipfile import ZipFile  # Files compressed management\n",
    "import os # Files management along OS\n",
    "import re"
   ]
  },
  {
   "cell_type": "code",
   "execution_count": 2,
   "metadata": {},
   "outputs": [],
   "source": [
    "from os import mkdir\n",
    "from os.path import exists"
   ]
  },
  {
   "cell_type": "code",
   "execution_count": 3,
   "metadata": {},
   "outputs": [],
   "source": [
    "from selenium import webdriver # Webscrapping bot\n",
    "from selenium.webdriver.common.by import By\n",
    "from selenium.webdriver.common.keys import Keys\n",
    "from selenium.common.exceptions import NoSuchElementException\n",
    "from selenium.webdriver.firefox.options import Options"
   ]
  },
  {
   "cell_type": "code",
   "execution_count": 4,
   "metadata": {},
   "outputs": [],
   "source": [
    "import nltk\n",
    "from nltk.tokenize import word_tokenize, sent_tokenize\n",
    "from nltk.corpus import stopwords"
   ]
  },
  {
   "cell_type": "code",
   "execution_count": 5,
   "metadata": {},
   "outputs": [],
   "source": [
    "import logging\n",
    "import datetime\n",
    "import sys"
   ]
  },
  {
   "cell_type": "markdown",
   "metadata": {},
   "source": [
    "### Modules"
   ]
  },
  {
   "cell_type": "code",
   "execution_count": 6,
   "metadata": {},
   "outputs": [],
   "source": [
    "from db import *"
   ]
  },
  {
   "cell_type": "markdown",
   "metadata": {},
   "source": [
    "### Data import"
   ]
  },
  {
   "cell_type": "code",
   "execution_count": 7,
   "metadata": {},
   "outputs": [
    {
     "name": "stdout",
     "output_type": "stream",
     "text": [
      "File Name                                             Modified             Size\n",
      "items_ordered_2years_V2.csv                    2022-01-10 08:27:40    167020440\n",
      "extraction...\n",
      "Done!\n",
      "CSV imported to Pandas successfully\n",
      "Original CSV removed to preserve repo health\n"
     ]
    }
   ],
   "source": [
    "# Specifying the name of the zip file\n",
    "fileZIP = \"/items_ordered_2years_V2.zip\"\n",
    "fileCSV = \"/items_ordered_2years_V2.csv\"\n",
    "\n",
    "path = \"../Inputs/Modificados - Atmira_Pharma_Visualization\"\n",
    "  \n",
    "# Open the zip file in read mode\n",
    "with ZipFile(f\"{path}{fileZIP}\", 'r') as zip: \n",
    "    # List all the contents of the zip file\n",
    "    zip.printdir() \n",
    "  \n",
    "    # Extract all files\n",
    "    print('extraction...') \n",
    "    zip.extractall(path) \n",
    "    print('Done!')\n",
    "\n",
    "#Import CSV to pandas\n",
    "itemsOrdered = pd.read_csv(f\"{path}{fileCSV}\")\n",
    "print(\"CSV imported to Pandas successfully\")\n",
    "\n",
    "# Remove uncompressed CSV file\n",
    "os.remove(f\"{path}{fileCSV}\")\n",
    "print(\"Original CSV removed to preserve repo health\")"
   ]
  },
  {
   "cell_type": "code",
   "execution_count": 8,
   "metadata": {},
   "outputs": [
    {
     "data": {
      "text/html": [
       "<div>\n",
       "<style scoped>\n",
       "    .dataframe tbody tr th:only-of-type {\n",
       "        vertical-align: middle;\n",
       "    }\n",
       "\n",
       "    .dataframe tbody tr th {\n",
       "        vertical-align: top;\n",
       "    }\n",
       "\n",
       "    .dataframe thead th {\n",
       "        text-align: right;\n",
       "    }\n",
       "</style>\n",
       "<table border=\"1\" class=\"dataframe\">\n",
       "  <thead>\n",
       "    <tr style=\"text-align: right;\">\n",
       "      <th></th>\n",
       "      <th>num_order</th>\n",
       "      <th>item_id</th>\n",
       "      <th>created_at</th>\n",
       "      <th>product_id</th>\n",
       "      <th>qty_ordered</th>\n",
       "      <th>base_cost</th>\n",
       "      <th>price</th>\n",
       "      <th>discount_percent</th>\n",
       "      <th>customer_id</th>\n",
       "      <th>city</th>\n",
       "      <th>zipcode</th>\n",
       "    </tr>\n",
       "  </thead>\n",
       "  <tbody>\n",
       "    <tr>\n",
       "      <th>0</th>\n",
       "      <td>ce30c2f02458457e3c7b563a636ae2a1</td>\n",
       "      <td>0916c05c5c3f65f59d813a78ac35c8d2</td>\n",
       "      <td>2018-11-06 16:52:13</td>\n",
       "      <td>86434</td>\n",
       "      <td>1.0</td>\n",
       "      <td>9.3750</td>\n",
       "      <td>15.38</td>\n",
       "      <td>8.0</td>\n",
       "      <td>eccbc87e4b5ce2fe28308fd9f2a7baf3</td>\n",
       "      <td>TARAZONA DE LA MANCHA</td>\n",
       "      <td>02100</td>\n",
       "    </tr>\n",
       "    <tr>\n",
       "      <th>1</th>\n",
       "      <td>ce30c2f02458457e3c7b563a636ae2a1</td>\n",
       "      <td>ff323b39ae36843396d2e53ce549fb10</td>\n",
       "      <td>2018-11-06 16:52:13</td>\n",
       "      <td>87652</td>\n",
       "      <td>1.0</td>\n",
       "      <td>7.0000</td>\n",
       "      <td>15.41</td>\n",
       "      <td>8.0</td>\n",
       "      <td>eccbc87e4b5ce2fe28308fd9f2a7baf3</td>\n",
       "      <td>TARAZONA DE LA MANCHA</td>\n",
       "      <td>02100</td>\n",
       "    </tr>\n",
       "    <tr>\n",
       "      <th>2</th>\n",
       "      <td>ce30c2f02458457e3c7b563a636ae2a1</td>\n",
       "      <td>199916dffc95259f4d2daab6664ca9c0</td>\n",
       "      <td>2018-11-06 16:52:13</td>\n",
       "      <td>2785</td>\n",
       "      <td>1.0</td>\n",
       "      <td>9.1587</td>\n",
       "      <td>12.23</td>\n",
       "      <td>8.0</td>\n",
       "      <td>eccbc87e4b5ce2fe28308fd9f2a7baf3</td>\n",
       "      <td>TARAZONA DE LA MANCHA</td>\n",
       "      <td>02100</td>\n",
       "    </tr>\n",
       "  </tbody>\n",
       "</table>\n",
       "</div>"
      ],
      "text/plain": [
       "                          num_order                           item_id  \\\n",
       "0  ce30c2f02458457e3c7b563a636ae2a1  0916c05c5c3f65f59d813a78ac35c8d2   \n",
       "1  ce30c2f02458457e3c7b563a636ae2a1  ff323b39ae36843396d2e53ce549fb10   \n",
       "2  ce30c2f02458457e3c7b563a636ae2a1  199916dffc95259f4d2daab6664ca9c0   \n",
       "\n",
       "            created_at  product_id  qty_ordered  base_cost  price  \\\n",
       "0  2018-11-06 16:52:13       86434          1.0     9.3750  15.38   \n",
       "1  2018-11-06 16:52:13       87652          1.0     7.0000  15.41   \n",
       "2  2018-11-06 16:52:13        2785          1.0     9.1587  12.23   \n",
       "\n",
       "   discount_percent                       customer_id                   city  \\\n",
       "0               8.0  eccbc87e4b5ce2fe28308fd9f2a7baf3  TARAZONA DE LA MANCHA   \n",
       "1               8.0  eccbc87e4b5ce2fe28308fd9f2a7baf3  TARAZONA DE LA MANCHA   \n",
       "2               8.0  eccbc87e4b5ce2fe28308fd9f2a7baf3  TARAZONA DE LA MANCHA   \n",
       "\n",
       "  zipcode  \n",
       "0   02100  \n",
       "1   02100  \n",
       "2   02100  "
      ]
     },
     "execution_count": 8,
     "metadata": {},
     "output_type": "execute_result"
    }
   ],
   "source": [
    "itemsOrdered.head(3)"
   ]
  },
  {
   "cell_type": "code",
   "execution_count": 9,
   "metadata": {},
   "outputs": [
    {
     "data": {
      "text/plain": [
       "(930960, 11)"
      ]
     },
     "execution_count": 9,
     "metadata": {},
     "output_type": "execute_result"
    }
   ],
   "source": [
    "itemsOrdered.shape"
   ]
  },
  {
   "cell_type": "code",
   "execution_count": 11,
   "metadata": {},
   "outputs": [],
   "source": [
    "del zip"
   ]
  },
  {
   "cell_type": "markdown",
   "metadata": {},
   "source": [
    "### Arreglos para facilitar el webscrapping"
   ]
  },
  {
   "cell_type": "code",
   "execution_count": 12,
   "metadata": {},
   "outputs": [],
   "source": [
    "%%capture\n",
    "'''\n",
    "Temas Portugueses\n",
    "itemsOrdered['zipcode'] = itemsOrdered['zipcode'].replace(\"4575-049\", \"4575-001\")\n",
    "itemsOrdered['zipcode'] = itemsOrdered['zipcode'].replace(\"1750\", \"1750-001\")\n",
    "'''"
   ]
  },
  {
   "cell_type": "code",
   "execution_count": 13,
   "metadata": {},
   "outputs": [],
   "source": [
    "\n",
    "itemsOrdered.loc[itemsOrdered['zipcode'].eq('30139') & itemsOrdered['city'].eq('Murcia'), \"city\"] = \"EL RAAL\"\n",
    "itemsOrdered['zipcode'] = itemsOrdered['zipcode'].replace(\"29039\", \"28039\")\n",
    "itemsOrdered.loc[itemsOrdered['zipcode'].eq('33195') & itemsOrdered['city'].eq('Oviedo '), \"city\"] = \"Morente\"\n",
    "itemsOrdered[\"city\"].replace(to_replace={'Cangas Del Narcea':\"Cerezaliz\"}, inplace=True)\n",
    "itemsOrdered['zipcode'] = itemsOrdered['zipcode'].replace(\"O88oo\", \"08800\")\n",
    "itemsOrdered.loc[itemsOrdered['zipcode'].eq('43890') & itemsOrdered['city'].eq('TARRAGONA'), \"city\"] = \"Hospitalet\"\n",
    "itemsOrdered.loc[itemsOrdered['zipcode'].eq('07700') & itemsOrdered['city'].eq('MAHON'), \"city\"] = \"Grau\"\n",
    "itemsOrdered['zipcode'] = itemsOrdered['zipcode'].replace(\"47021\", \"46021\")\n",
    "itemsOrdered.loc[itemsOrdered['zipcode'].eq('33405'), \"city\"] = \"Raices Nuevo\"\n",
    "itemsOrdered.loc[itemsOrdered['zipcode'].eq('29720') & itemsOrdered['city'].eq('MALAGA'), \"city\"] = \"La Arana\"\n",
    "itemsOrdered.loc[itemsOrdered['zipcode'].eq('08222'), \"city\"] = \"Terrassa\"\n",
    "itemsOrdered.loc[itemsOrdered['zipcode'].eq('03195'), \"city\"] = \"Los Arenales Del Sol\"\n",
    "itemsOrdered.loc[itemsOrdered['zipcode'].eq('08780'), \"city\"] = \"Palleja\"\n",
    "itemsOrdered.loc[itemsOrdered['zipcode'].eq('33405'), \"city\"] = \"Raices Nuevo\"\n",
    "itemsOrdered['zipcode'] = itemsOrdered['zipcode'].replace(\"347007\", \"37007\")\n",
    "itemsOrdered.loc[itemsOrdered['zipcode'].eq('36194'), \"city\"] = \"Perdecanai\"\n",
    "itemsOrdered.loc[itemsOrdered['zipcode'].eq('29631'), \"city\"] = \"Arroyo De La Miel\"\n",
    "itemsOrdered.loc[itemsOrdered['zipcode'].eq('27810'), \"city\"] = \"Sancobade\"\n",
    "itemsOrdered['zipcode'] = itemsOrdered['zipcode'].replace(\"-39840\", \"39840\")\n",
    "\n",
    "itemsOrdered.loc[itemsOrdered['zipcode'].eq('50620'), \"city\"] = \"Casetas\"\n",
    "\n",
    "itemsOrdered.loc[itemsOrdered['zipcode'].eq('50620'), \"city\"] = \"Casetas\""
   ]
  },
  {
   "cell_type": "markdown",
   "metadata": {},
   "source": [
    "### USO DE SCRAPPING PARA CÓDIGO POSTAL"
   ]
  },
  {
   "cell_type": "markdown",
   "metadata": {},
   "source": [
    "Creación de Base de Datos para almacenamiento de resultados formateados del Scrapping"
   ]
  },
  {
   "cell_type": "code",
   "execution_count": 15,
   "metadata": {},
   "outputs": [],
   "source": [
    "def IntroDB():\n",
    "    try:\n",
    "        pathDB = \"../databases/\"\n",
    "        nameDB= \"scrapedZips.db\"\n",
    "        if exists(pathDB):\n",
    "            print(f\"Carpeta {pathDB} encontrada\")\n",
    "        else:\n",
    "            mkdir(pathDB)\n",
    "            print (f\"Creada carpeta {pathDB}\")\n",
    "    except OSError:\n",
    "        print (f\"Creación de carpeta {pathDB} falló\")\n",
    "        \n",
    "    if exists(f\"{pathDB}{nameDB}\"):\n",
    "        print(\"Database existe\")\n",
    "        con, cur = SqlConnection(f\"{pathDB}{nameDB}\")\n",
    "        return con, cur\n",
    "    else:\n",
    "        print(\"Database no existe\")\n",
    "        CreateCon(f\"{pathDB}{nameDB}\")\n",
    "        con, cur = SqlConnection(f\"{pathDB}{nameDB}\")\n",
    "        PrepareCon(con, cur, option=\"insert\",\n",
    "            values=(\"Test\",\"Test\",\"Test\",\"Test\",\"Test\"))\n",
    "        return con, cur\n"
   ]
  },
  {
   "cell_type": "code",
   "execution_count": 16,
   "metadata": {},
   "outputs": [
    {
     "name": "stdout",
     "output_type": "stream",
     "text": [
      "Carpeta ../databases/ encontrada\n",
      "Database existe\n",
      "Conexión establecida\n"
     ]
    }
   ],
   "source": [
    "con, cur = IntroDB()"
   ]
  },
  {
   "cell_type": "code",
   "execution_count": 17,
   "metadata": {},
   "outputs": [],
   "source": [
    "%%capture\n",
    "try:\n",
    "    if GetThings(cur, selection=\"id_ori,Country,Region,City,Zipcode\", where=[\"ID\", 1], limit=1)[0][0] == \"Test\":\n",
    "        PrepareCon(con,cur,where=[\"ID\",1],option=\"delete\")\n",
    "        cur.execute(\"UPDATE `sqlite_sequence` SET `seq` = 0 WHERE `name` = 'ZipsInfo';\")\n",
    "except IndexError:\n",
    "    pass\n",
    "\n",
    "'''\n",
    "Check the next query if something perturbe your mind\n",
    "SELECT * FROM `sqlite_sequence`;\n",
    "'''"
   ]
  },
  {
   "cell_type": "code",
   "execution_count": 18,
   "metadata": {},
   "outputs": [
    {
     "data": {
      "text/plain": [
       "[('Spain', 'Comunidad Valenciana', 'Valencia', '46019')]"
      ]
     },
     "execution_count": 18,
     "metadata": {},
     "output_type": "execute_result"
    }
   ],
   "source": [
    "GetThings(cur, selection=\"Country,Region,City,Zipcode\", where=[\"ID\", 1], limit=1)"
   ]
  },
  {
   "cell_type": "markdown",
   "metadata": {},
   "source": [
    "A continuación se genera una lista compuesta de tuplas compuestas de la siguiente forma: (\"Ciudad\", \"Zipcode\")"
   ]
  },
  {
   "cell_type": "code",
   "execution_count": 33,
   "metadata": {},
   "outputs": [],
   "source": [
    "rawDataZipcode = list(zip(itemsOrdered[\"city\"].tolist(), itemsOrdered[\"zipcode\"].tolist()))\n",
    "# rawDataZipcode = rawDataZipcode[:int(len(rawDataZipcode)/30)]"
   ]
  },
  {
   "cell_type": "code",
   "execution_count": 34,
   "metadata": {},
   "outputs": [
    {
     "data": {
      "text/plain": [
       "930960"
      ]
     },
     "execution_count": 34,
     "metadata": {},
     "output_type": "execute_result"
    }
   ],
   "source": [
    "len(rawDataZipcode)"
   ]
  },
  {
   "cell_type": "markdown",
   "metadata": {},
   "source": [
    "**Funciones destacadas**"
   ]
  },
  {
   "cell_type": "markdown",
   "metadata": {},
   "source": [
    "Función que \"limpia\" los nombres de ciudades para mejorar su emparejamiento automático"
   ]
  },
  {
   "cell_type": "code",
   "execution_count": 29,
   "metadata": {},
   "outputs": [],
   "source": [
    "def CityCleaner(text):\n",
    "    stopWordSpanish = set(stopwords.words('spanish'))\n",
    "    wordTokens = word_tokenize(AcentosLimpiador(text.lower()).rstrip()) \n",
    "    filteredSentence = [element for element in wordTokens if not element in stopWordSpanish] \n",
    "    return filteredSentence"
   ]
  },
  {
   "cell_type": "markdown",
   "metadata": {},
   "source": [
    "Función que limpia zipcodes"
   ]
  },
  {
   "cell_type": "code",
   "execution_count": 30,
   "metadata": {},
   "outputs": [],
   "source": [
    "#Limpieza de zipcodes con RegEx\n",
    "def num_guion(string):\n",
    "    \"\"\" Get a string with the numbers and hyphens of another string\n",
    "    \n",
    "    Args:\n",
    "        df: string used to extract the string with numbers abd hyphens\n",
    "\n",
    "    Returns:\n",
    "        df: the string with numbers and hyphens\n",
    "    \"\"\"\n",
    "    aux = re.match(\"([\\d-]+)\", str(string))\n",
    "    try:\n",
    "        return str(aux.group())\n",
    "    except:\n",
    "        return string\n",
    "\n",
    "\n",
    "itemsOrdered[\"zipcode\"] = itemsOrdered[\"zipcode\"].apply(lambda x: num_guion(x))"
   ]
  },
  {
   "cell_type": "markdown",
   "metadata": {},
   "source": [
    "Función que limpia los acentos con el fin de homogeneizar"
   ]
  },
  {
   "cell_type": "code",
   "execution_count": 31,
   "metadata": {},
   "outputs": [],
   "source": [
    "def AcentosLimpiador(text):\n",
    "\tacentos = {'ñ':'n','á': 'a', 'é': 'e', 'í': 'i', 'ó': 'o', 'ú': 'u', 'à':'a'}\n",
    "\tfor ele in acentos:\n",
    "\t\tif ele in text:\n",
    "\t\t\ttext = text.replace(ele, acentos[ele])\n",
    "\treturn text"
   ]
  },
  {
   "cell_type": "markdown",
   "metadata": {},
   "source": [
    "Configuración de logging del scrapeo"
   ]
  },
  {
   "cell_type": "code",
   "execution_count": 32,
   "metadata": {},
   "outputs": [],
   "source": [
    "logger = logging.getLogger('ScrapLog')\n",
    "logger.setLevel(logging.INFO)\n",
    "# logger.setLevel(logging.ERROR)\n",
    "\n",
    "timestamp = datetime.datetime.utcnow().strftime('%Y%m%d_%H-%M-%S')\n",
    "filename=f'Scrapping{timestamp}.log'\n",
    "formatter = logging.Formatter('[%(asctime)s] %(name)s {%(filename)s:%(lineno)d} %(levelname)s - %(message)s')"
   ]
  },
  {
   "cell_type": "code",
   "execution_count": 33,
   "metadata": {},
   "outputs": [],
   "source": [
    "file_handler = logging.FileHandler(filename=filename)\n",
    "file_handler.setLevel(logging.INFO)\n",
    "file_handler.setFormatter(formatter)\n",
    "logger.addHandler(file_handler)"
   ]
  },
  {
   "cell_type": "code",
   "execution_count": 34,
   "metadata": {},
   "outputs": [],
   "source": [
    "logging.basicConfig(\n",
    "    filename=filename,\n",
    "    level=logging.INFO,\n",
    "    format='[{%(filename)s:%(lineno)d} %(levelname)s - %(message)s',\n",
    ")"
   ]
  },
  {
   "cell_type": "markdown",
   "metadata": {},
   "source": [
    "Función que formatea los resultados del webscrapping de forma adecuada a los requerimientos necesarios"
   ]
  },
  {
   "cell_type": "code",
   "execution_count": 35,
   "metadata": {},
   "outputs": [],
   "source": [
    "def zipCodeManipulation(city, zipcode, queryResult=\"\", saved = False):\n",
    "  \n",
    "    # This conditional checks if the zipcode info was scrapped and stored succesfully\n",
    "    if saved == False:\n",
    "\n",
    "        listTestingZipcode = queryResult.split(\"\\n\")\n",
    "        indexMatchRegex = list(map(lambda x: [(m.start(0), m.end(0)) for m in re.finditer(r\"[a-z][A-Z0-9]\", x)], listTestingZipcode))\n",
    "\n",
    "        resultScrapClean = []\n",
    "        for pas,resultScrap in enumerate(listTestingZipcode):\n",
    "            for pos,ele in enumerate(indexMatchRegex[pas]):\n",
    "                if len(indexMatchRegex[pas])==2:\n",
    "                    if pos ==0:\n",
    "                        txt = resultScrap[:ele[0]+1]+\",\"+resultScrap[ele[1]-1:]\n",
    "                    elif pos ==1:\n",
    "                        txt = txt[:ele[0]+2]+\",\"+txt[ele[1]:]\n",
    "                        resultScrapClean.append(txt)\n",
    "                elif len(indexMatchRegex[pas])==3:\n",
    "                    if pos ==0:\n",
    "                        txt = resultScrap[:ele[0]+1]+\",\"+resultScrap[ele[1]-1:]\n",
    "                    elif pos ==1:\n",
    "                        txt = txt[:ele[0]+2]+\",\"+txt[ele[1]:]\n",
    "                    elif pos ==2:\n",
    "                        txt = txt[:ele[0]+3]+\",\"+txt[ele[1]+1:]\n",
    "                        resultScrapClean.append(txt)\n",
    "\n",
    "        resultScrapListed = [element.split(\",\") for element in resultScrapClean]\n",
    "        resultScrapRearr = [(element[0], element[1], element[-2], element[-1]) for element in resultScrapListed]\n",
    "\n",
    "        resultZip = []\n",
    "        for element in resultScrapRearr:\n",
    "            for element2  in CityCleaner(element[2]):\n",
    "                if element2 in CityCleaner(city):\n",
    "                    resultZip.append(element)\n",
    "                    break\n",
    "        try:\n",
    "            resultZip = resultZip[0]\n",
    "            resultZip = [resultZip[0],resultZip[1],resultZip[2],zipcode]\n",
    "        except IndexError:\n",
    "            resultZip = []\n",
    "            for element in resultScrapRearr:\n",
    "                for element2 in CityCleaner(element[2]):\n",
    "                    for element3 in CityCleaner(city):\n",
    "                        if element2 .__contains__(element3):\n",
    "                            resultZip.append(element)\n",
    "                            break\n",
    "            try:\n",
    "                resultZip = resultZip[0]\n",
    "                resultZip = [resultZip[0],resultZip[1],resultZip[2],zipcode]\n",
    "            except IndexError:\n",
    "                resultZip = []\n",
    "                for element in resultScrapRearr:\n",
    "                    for element2 in CityCleaner(element[2]):\n",
    "                        for city in CityCleaner(element3):\n",
    "                            if element3.__contains__(element2):\n",
    "                                resultZip.append(element)\n",
    "                                break\n",
    "                if resultZip != []:\n",
    "                    resultZip = resultZip[0]\n",
    "                    resultZip = [resultZip[0],resultZip[1],resultZip[2],zipcode]\n",
    "                elif resultZip ==[] : #ELIMINAR ESTA LÍNEA PARA PODER VERIFICAR ERRORES\n",
    "                    resultZip = [\"ERROR1\",\"ERROR\",\"ERROR\",zipcode]\n",
    "                    \n",
    "                    \n",
    "\n",
    "    elif saved == True:\n",
    "        resultZip = GetThings(cur, selection=\"Country,Region,City,Zipcode\", where=[\"Zipcode\", zipcode], limit=1, simplify = True)\n",
    "\n",
    "    if resultZip[3].startswith(\" L'\"):\n",
    "        resultZip = [resultZip[0],resultZip[1],resultZip[2],zipcode]\n",
    "    \n",
    "    if len(resultZip[3]) >= 20 and resultZip[0]==\"Portugal\":\n",
    "        resultZip = [resultZip[0],resultZip[1],resultZip[2],zipcode]\n",
    "\n",
    "    i = (resultZip[3]+resultZip[3]).find(resultZip[3], 1, -1)\n",
    "    return resultZip if i == -1 else [resultZip[0],resultZip[1],resultZip[2],zipcode]\n"
   ]
  },
  {
   "cell_type": "markdown",
   "metadata": {},
   "source": [
    "**Webscrapping!**"
   ]
  },
  {
   "cell_type": "code",
   "execution_count": 36,
   "metadata": {},
   "outputs": [],
   "source": [
    "# %%capture cap --no-stderr\n",
    "\n",
    "logger.info(\"Starting Webscrapping!\")\n",
    "\n",
    "for pos, element in enumerate(rawDataZipcode):\n",
    "    try:\n",
    "\n",
    "        if element[1]==\"323903\":\n",
    "            \n",
    "            if pos in [ele[0]-1 for ele in GetThings(cur, selection=\"ID\", where=[\"Zipcode\", element[1].rstrip()])]:\n",
    "                logger.info(f\"SP - Sin procesar |City: {element[0]} | Zipcode: {element[1]} | Orden del dataframe: {pos}\")\n",
    "\n",
    "            else:\n",
    "                if GetThings(cur, selection=\"Zipcode\", where=[\"Zipcode\", element[1].rstrip()], limit=1, simplify=True) == None:\n",
    "                    PrepareCon(con, cur, values=[\"China\", \"Zhejiang\", \"Lishui\", \"323903\",pos], option=\"insert\", verbose=False)\n",
    "                    logger.info(f\"SP - Insertado | City: {element[0]} | Zipcode: {element[1]} | Orden del dataframe: {pos}\")\n",
    "    \n",
    "                else:\n",
    "                    zipCodeDef = zipCodeManipulation(city=element[0], zipcode=element[1].rstrip(), saved = True)\n",
    "                    logger.info(f\"SP - Ya guardado en BBDD | City: {element[0]} | Zipcode: {element[1]} | Orden del dataframe: {pos}\")\n",
    "                    logger.info(f\"Devuelto de query: {zipCodeDef}\")\n",
    "\n",
    "        if GetThings(cur, selection=\"Zipcode\", where=[\"Zipcode\", element[1].rstrip()], limit=1, simplify=True) == None:  \n",
    "                \n",
    "                logger.info(f\"Para scrapear |Ciudad: {element[0]} | Zipcode: {element[1]} | Orden del dataframe: {pos}\")\n",
    "    \n",
    "                zipCodeDef = [\"ERROR2\",\"ERROR\",\"ERROR\",element[1],pos]\n",
    "                logger.info(f\"No Scrapeado: {zipCodeDef}\")\n",
    "\n",
    "        else:\n",
    "            if pos in [ele[0]-1 for ele in GetThings(cur, selection=\"ID\", where=[\"Zipcode\", element[1].rstrip()])]:\n",
    "                logger.info(f\"Sin procesar |City: {element[0]} |Zipcode: {element[1]} | Orden del dataframe: {pos}\")\n",
    "                continue\n",
    "            else:\n",
    "                logger.info(f\"Ya guardado en BBDD  | City: {element[0]} | Zipcode: {element[1]} | Orden del dataframe: {pos}\")\n",
    "                zipCodeDef = zipCodeManipulation(city=element[0], zipcode=element[1].rstrip(), saved = True)\n",
    "                logger.info(f\"Devuelto de query: {zipCodeDef}\")\n",
    "\n",
    "        PrepareCon(con, cur, values=[zipCodeDef[0],zipCodeDef[1],zipCodeDef[2],zipCodeDef[3],pos], option=\"insert\", verbose=False)\n",
    "\n",
    "    except:\n",
    "        logger.info(f\"No encontrado nada en ciudad: {element[0]}, zipcode: {element[1]}\")\n",
    "        logger.info(\"--------------------------------------------\")\n",
    "        zipCodeDef= [\"ERROR3\",\"ERROR\",\"ERROR\",element[1]]\n",
    "        PrepareCon(con, cur, values=[zipCodeDef[0],zipCodeDef[1],zipCodeDef[2],zipCodeDef[3],pos], option=\"insert\", verbose=False)\n",
    "        continue\n",
    "\n",
    "\n",
    "driver.close()"
   ]
  },
  {
   "cell_type": "markdown",
   "metadata": {},
   "source": [
    "**Comprobaciones del scrapping y formateo posterior realizado**"
   ]
  },
  {
   "cell_type": "code",
   "execution_count": 23,
   "metadata": {},
   "outputs": [],
   "source": [
    "tableMain = \"ZipsInfo\""
   ]
  },
  {
   "cell_type": "code",
   "execution_count": 45,
   "metadata": {},
   "outputs": [
    {
     "data": {
      "text/plain": [
       "321671"
      ]
     },
     "execution_count": 45,
     "metadata": {},
     "output_type": "execute_result"
    }
   ],
   "source": [
    "cur.execute(f\"SELECT (select count() from {tableMain}) as count FROM {tableMain} LIMIT 1\").fetchone()[0]"
   ]
  },
  {
   "cell_type": "markdown",
   "metadata": {},
   "source": [
    "**Transformación del scrapeo formateado a dataframe de Pandas**"
   ]
  },
  {
   "cell_type": "code",
   "execution_count": 47,
   "metadata": {},
   "outputs": [],
   "source": [
    "sqlToList = cur.execute(f\"SELECT Country,Region,City,Zipcode FROM {tableMain}\").fetchall()"
   ]
  },
  {
   "cell_type": "code",
   "execution_count": 48,
   "metadata": {},
   "outputs": [
    {
     "data": {
      "text/html": [
       "<div>\n",
       "<style scoped>\n",
       "    .dataframe tbody tr th:only-of-type {\n",
       "        vertical-align: middle;\n",
       "    }\n",
       "\n",
       "    .dataframe tbody tr th {\n",
       "        vertical-align: top;\n",
       "    }\n",
       "\n",
       "    .dataframe thead th {\n",
       "        text-align: right;\n",
       "    }\n",
       "</style>\n",
       "<table border=\"1\" class=\"dataframe\">\n",
       "  <thead>\n",
       "    <tr style=\"text-align: right;\">\n",
       "      <th></th>\n",
       "      <th>Country</th>\n",
       "      <th>Region</th>\n",
       "      <th>City</th>\n",
       "      <th>Zipcode</th>\n",
       "    </tr>\n",
       "  </thead>\n",
       "  <tbody>\n",
       "    <tr>\n",
       "      <th>0</th>\n",
       "      <td>Spain</td>\n",
       "      <td>Comunidad Valenciana</td>\n",
       "      <td>Valencia</td>\n",
       "      <td>46019</td>\n",
       "    </tr>\n",
       "    <tr>\n",
       "      <th>1</th>\n",
       "      <td>Spain</td>\n",
       "      <td>Comunidad Valenciana</td>\n",
       "      <td>Valencia</td>\n",
       "      <td>46019</td>\n",
       "    </tr>\n",
       "    <tr>\n",
       "      <th>2</th>\n",
       "      <td>Spain</td>\n",
       "      <td>Comunidad Valenciana</td>\n",
       "      <td>Valencia</td>\n",
       "      <td>46019</td>\n",
       "    </tr>\n",
       "    <tr>\n",
       "      <th>3</th>\n",
       "      <td>Spain</td>\n",
       "      <td>Andalucia</td>\n",
       "      <td>Almeria</td>\n",
       "      <td>04009</td>\n",
       "    </tr>\n",
       "    <tr>\n",
       "      <th>4</th>\n",
       "      <td>Spain</td>\n",
       "      <td>Andalucia</td>\n",
       "      <td>Almeria</td>\n",
       "      <td>04009</td>\n",
       "    </tr>\n",
       "  </tbody>\n",
       "</table>\n",
       "</div>"
      ],
      "text/plain": [
       "  Country                Region      City Zipcode\n",
       "0   Spain  Comunidad Valenciana  Valencia   46019\n",
       "1   Spain  Comunidad Valenciana  Valencia   46019\n",
       "2   Spain  Comunidad Valenciana  Valencia   46019\n",
       "3   Spain             Andalucia   Almeria   04009\n",
       "4   Spain             Andalucia   Almeria   04009"
      ]
     },
     "execution_count": 48,
     "metadata": {},
     "output_type": "execute_result"
    }
   ],
   "source": [
    "df = pd.DataFrame(sqlToList, columns=[\"Country\",\"Region\",\"City\",\"Zipcode\"])\n",
    "df.head()"
   ]
  },
  {
   "cell_type": "code",
   "execution_count": 49,
   "metadata": {},
   "outputs": [
    {
     "data": {
      "text/plain": [
       "Spain                 297191\n",
       "ERROR                  18948\n",
       "Portugal                4421\n",
       "Mexico                   525\n",
       "France                   141\n",
       "Peru                     104\n",
       "United States             58\n",
       "Italy                     43\n",
       "Colombia                  39\n",
       "Czech Republic            33\n",
       "Puerto Rico               30\n",
       "Germany                   25\n",
       "India                     25\n",
       "Russian Federation        21\n",
       "United Kingdom            16\n",
       "Poland                    14\n",
       "Belgium                    6\n",
       "Canada                     5\n",
       "Argentina                  5\n",
       "Switzerland                4\n",
       "China                      4\n",
       "Denmark                    4\n",
       "Croatia                    3\n",
       "Chile                      2\n",
       "Austria                    2\n",
       "Algeria                    1\n",
       "Thailand                   1\n",
       "Name: Country, dtype: int64"
      ]
     },
     "execution_count": 49,
     "metadata": {},
     "output_type": "execute_result"
    }
   ],
   "source": [
    "df[\"Country\"].value_counts()"
   ]
  },
  {
   "cell_type": "code",
   "execution_count": 50,
   "metadata": {},
   "outputs": [
    {
     "data": {
      "text/plain": [
       "(321671, 4)"
      ]
     },
     "execution_count": 50,
     "metadata": {},
     "output_type": "execute_result"
    }
   ],
   "source": [
    "df.shape"
   ]
  },
  {
   "cell_type": "code",
   "execution_count": 35,
   "metadata": {},
   "outputs": [],
   "source": [
    "# Cierre de la base de datos\n",
    "con.close()"
   ]
  },
  {
   "cell_type": "markdown",
   "metadata": {},
   "source": [
    "**Exportación del dataframe a csv para su conservación**"
   ]
  },
  {
   "cell_type": "code",
   "execution_count": 37,
   "metadata": {},
   "outputs": [],
   "source": [
    "\n",
    "df.to_csv('DataScrapped.csv')"
   ]
  },
  {
   "cell_type": "code",
   "execution_count": 38,
   "metadata": {},
   "outputs": [],
   "source": [
    "df2 = pd.read_csv(\"../Inputs/Modificados - Atmira_Pharma_Visualization/DataScrapped.csv\")"
   ]
  },
  {
   "cell_type": "code",
   "execution_count": 39,
   "metadata": {},
   "outputs": [
    {
     "data": {
      "text/html": [
       "<div>\n",
       "<style scoped>\n",
       "    .dataframe tbody tr th:only-of-type {\n",
       "        vertical-align: middle;\n",
       "    }\n",
       "\n",
       "    .dataframe tbody tr th {\n",
       "        vertical-align: top;\n",
       "    }\n",
       "\n",
       "    .dataframe thead th {\n",
       "        text-align: right;\n",
       "    }\n",
       "</style>\n",
       "<table border=\"1\" class=\"dataframe\">\n",
       "  <thead>\n",
       "    <tr style=\"text-align: right;\">\n",
       "      <th></th>\n",
       "      <th>Unnamed: 0</th>\n",
       "      <th>Country</th>\n",
       "      <th>Region</th>\n",
       "      <th>City</th>\n",
       "      <th>Zipcode</th>\n",
       "    </tr>\n",
       "  </thead>\n",
       "  <tbody>\n",
       "    <tr>\n",
       "      <th>0</th>\n",
       "      <td>0</td>\n",
       "      <td>Spain</td>\n",
       "      <td>Comunidad Valenciana</td>\n",
       "      <td>Valencia</td>\n",
       "      <td>46019</td>\n",
       "    </tr>\n",
       "    <tr>\n",
       "      <th>1</th>\n",
       "      <td>1</td>\n",
       "      <td>Spain</td>\n",
       "      <td>Comunidad Valenciana</td>\n",
       "      <td>Valencia</td>\n",
       "      <td>46019</td>\n",
       "    </tr>\n",
       "    <tr>\n",
       "      <th>2</th>\n",
       "      <td>2</td>\n",
       "      <td>Spain</td>\n",
       "      <td>Comunidad Valenciana</td>\n",
       "      <td>Valencia</td>\n",
       "      <td>46019</td>\n",
       "    </tr>\n",
       "    <tr>\n",
       "      <th>3</th>\n",
       "      <td>3</td>\n",
       "      <td>Spain</td>\n",
       "      <td>Andalucia</td>\n",
       "      <td>Almeria</td>\n",
       "      <td>04009</td>\n",
       "    </tr>\n",
       "    <tr>\n",
       "      <th>4</th>\n",
       "      <td>4</td>\n",
       "      <td>Spain</td>\n",
       "      <td>Andalucia</td>\n",
       "      <td>Almeria</td>\n",
       "      <td>04009</td>\n",
       "    </tr>\n",
       "  </tbody>\n",
       "</table>\n",
       "</div>"
      ],
      "text/plain": [
       "   Unnamed: 0 Country                Region      City Zipcode\n",
       "0           0   Spain  Comunidad Valenciana  Valencia   46019\n",
       "1           1   Spain  Comunidad Valenciana  Valencia   46019\n",
       "2           2   Spain  Comunidad Valenciana  Valencia   46019\n",
       "3           3   Spain             Andalucia   Almeria   04009\n",
       "4           4   Spain             Andalucia   Almeria   04009"
      ]
     },
     "execution_count": 39,
     "metadata": {},
     "output_type": "execute_result"
    }
   ],
   "source": [
    "df2.head()"
   ]
  }
 ],
 "metadata": {
  "interpreter": {
   "hash": "f876c6d03db2a1b556a458eeb23dadf5ec8e4266298f30cdd70e3128597d8f66"
  },
  "kernelspec": {
   "display_name": "Python 3.10.2 ('penv': venv)",
   "language": "python",
   "name": "python3"
  },
  "language_info": {
   "codemirror_mode": {
    "name": "ipython",
    "version": 3
   },
   "file_extension": ".py",
   "mimetype": "text/x-python",
   "name": "python",
   "nbconvert_exporter": "python",
   "pygments_lexer": "ipython3",
   "version": "3.10.2"
  },
  "orig_nbformat": 4
 },
 "nbformat": 4,
 "nbformat_minor": 2
}
