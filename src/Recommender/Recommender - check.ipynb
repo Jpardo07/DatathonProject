{
 "cells": [
  {
   "cell_type": "markdown",
   "metadata": {},
   "source": [
    "### Importación de librerías"
   ]
  },
  {
   "cell_type": "code",
   "execution_count": 2,
   "metadata": {},
   "outputs": [],
   "source": [
    "import pandas as pd"
   ]
  },
  {
   "cell_type": "markdown",
   "metadata": {},
   "source": [
    "### Variables generales"
   ]
  },
  {
   "cell_type": "code",
   "execution_count": 12,
   "metadata": {},
   "outputs": [],
   "source": [
    "pathToDF = \"../../Outputs/Recommender/\"\n",
    "fileToDF = \"RecomendationsDF.csv\"\n",
    "\n",
    "fileToOutput = \"RecomendationsDF_V2.csv\""
   ]
  },
  {
   "cell_type": "markdown",
   "metadata": {},
   "source": [
    "### Importación de datos"
   ]
  },
  {
   "cell_type": "code",
   "execution_count": 9,
   "metadata": {},
   "outputs": [
    {
     "data": {
      "text/html": [
       "<div>\n",
       "<style scoped>\n",
       "    .dataframe tbody tr th:only-of-type {\n",
       "        vertical-align: middle;\n",
       "    }\n",
       "\n",
       "    .dataframe tbody tr th {\n",
       "        vertical-align: top;\n",
       "    }\n",
       "\n",
       "    .dataframe thead th {\n",
       "        text-align: right;\n",
       "    }\n",
       "</style>\n",
       "<table border=\"1\" class=\"dataframe\">\n",
       "  <thead>\n",
       "    <tr style=\"text-align: right;\">\n",
       "      <th></th>\n",
       "      <th>customer_id</th>\n",
       "      <th>name</th>\n",
       "      <th>recomendation1</th>\n",
       "      <th>recomendation2</th>\n",
       "      <th>recomendation3</th>\n",
       "    </tr>\n",
       "  </thead>\n",
       "  <tbody>\n",
       "    <tr>\n",
       "      <th>0</th>\n",
       "      <td>0001c82eb924a3dca30593bf7d8f2227</td>\n",
       "      <td>Ducray Creastim Loción</td>\n",
       "      <td>Ducray Creastim Loción</td>\n",
       "      <td>Orthomol Natal</td>\n",
       "      <td>Tena Pañal Anatómico Flexible Super Noche T/G</td>\n",
       "    </tr>\n",
       "    <tr>\n",
       "      <th>1</th>\n",
       "      <td>0003883910709aa39bf38b05c51c03a3</td>\n",
       "      <td>Fullmarks Solucion Pediculicida</td>\n",
       "      <td>Fullmarks Solucion Pediculicida</td>\n",
       "      <td>Multilind 0,2% Micro Plata Párpados</td>\n",
       "      <td>Chupete Latex Antómico</td>\n",
       "    </tr>\n",
       "    <tr>\n",
       "      <th>2</th>\n",
       "      <td>0003a36a46798bafcc69637f52f75e95</td>\n",
       "      <td>Endocare C Ampollas</td>\n",
       "      <td>Fotoprotector Wet Skin Spray Transparente SPF5...</td>\n",
       "      <td>Dercos Champú Mineral Suave</td>\n",
       "      <td>ActiveComplex Fish Oil</td>\n",
       "    </tr>\n",
       "    <tr>\n",
       "      <th>3</th>\n",
       "      <td>0004a12374b272a1c591fd5122cde6a1</td>\n",
       "      <td>Apivita Lip Care Cuidado Labial con Grosella N...</td>\n",
       "      <td>Berocca Boost</td>\n",
       "      <td>Muñequera Estabilizadora Reversible Adaptable</td>\n",
       "      <td>Jabon Artesano de Argan Bio Essenze</td>\n",
       "    </tr>\n",
       "    <tr>\n",
       "      <th>4</th>\n",
       "      <td>00056bd193d90d603e73ce086364a165</td>\n",
       "      <td>Avene Cuidado Calmante Contorno de Ojos</td>\n",
       "      <td>Suavinex Biberon Vidrio Tetina Redonda</td>\n",
       "      <td>Chupete Suavinex Evolution Silicona Osito Blan...</td>\n",
       "      <td>Chupete Suavinex Fusion Tetina Anatómica  uds ...</td>\n",
       "    </tr>\n",
       "  </tbody>\n",
       "</table>\n",
       "</div>"
      ],
      "text/plain": [
       "                        customer_id  \\\n",
       "0  0001c82eb924a3dca30593bf7d8f2227   \n",
       "1  0003883910709aa39bf38b05c51c03a3   \n",
       "2  0003a36a46798bafcc69637f52f75e95   \n",
       "3  0004a12374b272a1c591fd5122cde6a1   \n",
       "4  00056bd193d90d603e73ce086364a165   \n",
       "\n",
       "                                                name  \\\n",
       "0                            Ducray Creastim Loción    \n",
       "1                   Fullmarks Solucion Pediculicida    \n",
       "2                                Endocare C Ampollas   \n",
       "3  Apivita Lip Care Cuidado Labial con Grosella N...   \n",
       "4           Avene Cuidado Calmante Contorno de Ojos    \n",
       "\n",
       "                                      recomendation1  \\\n",
       "0                            Ducray Creastim Loción    \n",
       "1                   Fullmarks Solucion Pediculicida    \n",
       "2  Fotoprotector Wet Skin Spray Transparente SPF5...   \n",
       "3                                     Berocca Boost    \n",
       "4           Suavinex Biberon Vidrio Tetina Redonda     \n",
       "\n",
       "                                      recomendation2  \\\n",
       "0                                    Orthomol Natal    \n",
       "1               Multilind 0,2% Micro Plata Párpados    \n",
       "2                       Dercos Champú Mineral Suave    \n",
       "3     Muñequera Estabilizadora Reversible Adaptable    \n",
       "4  Chupete Suavinex Evolution Silicona Osito Blan...   \n",
       "\n",
       "                                      recomendation3  \n",
       "0     Tena Pañal Anatómico Flexible Super Noche T/G   \n",
       "1                           Chupete Latex Antómico    \n",
       "2                            ActiveComplex Fish Oil   \n",
       "3               Jabon Artesano de Argan Bio Essenze   \n",
       "4  Chupete Suavinex Fusion Tetina Anatómica  uds ...  "
      ]
     },
     "execution_count": 9,
     "metadata": {},
     "output_type": "execute_result"
    }
   ],
   "source": [
    "df = pd.read_csv(f\"{pathToDF}{fileToDF}\")\n",
    "df.head()"
   ]
  },
  {
   "cell_type": "markdown",
   "metadata": {},
   "source": [
    "### Manipulación de datos"
   ]
  },
  {
   "cell_type": "code",
   "execution_count": 10,
   "metadata": {},
   "outputs": [
    {
     "data": {
      "text/html": [
       "<div>\n",
       "<style scoped>\n",
       "    .dataframe tbody tr th:only-of-type {\n",
       "        vertical-align: middle;\n",
       "    }\n",
       "\n",
       "    .dataframe tbody tr th {\n",
       "        vertical-align: top;\n",
       "    }\n",
       "\n",
       "    .dataframe thead th {\n",
       "        text-align: right;\n",
       "    }\n",
       "</style>\n",
       "<table border=\"1\" class=\"dataframe\">\n",
       "  <thead>\n",
       "    <tr style=\"text-align: right;\">\n",
       "      <th></th>\n",
       "      <th>customer_id</th>\n",
       "      <th>recomendation1</th>\n",
       "      <th>recomendation2</th>\n",
       "      <th>recomendation3</th>\n",
       "    </tr>\n",
       "  </thead>\n",
       "  <tbody>\n",
       "    <tr>\n",
       "      <th>0</th>\n",
       "      <td>0001c82eb924a3dca30593bf7d8f2227</td>\n",
       "      <td>Ducray Creastim Loción</td>\n",
       "      <td>Orthomol Natal</td>\n",
       "      <td>Tena Pañal Anatómico Flexible Super Noche T/G</td>\n",
       "    </tr>\n",
       "    <tr>\n",
       "      <th>1</th>\n",
       "      <td>0003883910709aa39bf38b05c51c03a3</td>\n",
       "      <td>Fullmarks Solucion Pediculicida</td>\n",
       "      <td>Multilind 0,2% Micro Plata Párpados</td>\n",
       "      <td>Chupete Latex Antómico</td>\n",
       "    </tr>\n",
       "    <tr>\n",
       "      <th>2</th>\n",
       "      <td>0003a36a46798bafcc69637f52f75e95</td>\n",
       "      <td>Fotoprotector Wet Skin Spray Transparente SPF5...</td>\n",
       "      <td>Dercos Champú Mineral Suave</td>\n",
       "      <td>ActiveComplex Fish Oil</td>\n",
       "    </tr>\n",
       "    <tr>\n",
       "      <th>3</th>\n",
       "      <td>0004a12374b272a1c591fd5122cde6a1</td>\n",
       "      <td>Berocca Boost</td>\n",
       "      <td>Muñequera Estabilizadora Reversible Adaptable</td>\n",
       "      <td>Jabon Artesano de Argan Bio Essenze</td>\n",
       "    </tr>\n",
       "    <tr>\n",
       "      <th>4</th>\n",
       "      <td>00056bd193d90d603e73ce086364a165</td>\n",
       "      <td>Suavinex Biberon Vidrio Tetina Redonda</td>\n",
       "      <td>Chupete Suavinex Evolution Silicona Osito Blan...</td>\n",
       "      <td>Chupete Suavinex Fusion Tetina Anatómica  uds ...</td>\n",
       "    </tr>\n",
       "  </tbody>\n",
       "</table>\n",
       "</div>"
      ],
      "text/plain": [
       "                        customer_id  \\\n",
       "0  0001c82eb924a3dca30593bf7d8f2227   \n",
       "1  0003883910709aa39bf38b05c51c03a3   \n",
       "2  0003a36a46798bafcc69637f52f75e95   \n",
       "3  0004a12374b272a1c591fd5122cde6a1   \n",
       "4  00056bd193d90d603e73ce086364a165   \n",
       "\n",
       "                                      recomendation1  \\\n",
       "0                            Ducray Creastim Loción    \n",
       "1                   Fullmarks Solucion Pediculicida    \n",
       "2  Fotoprotector Wet Skin Spray Transparente SPF5...   \n",
       "3                                     Berocca Boost    \n",
       "4           Suavinex Biberon Vidrio Tetina Redonda     \n",
       "\n",
       "                                      recomendation2  \\\n",
       "0                                    Orthomol Natal    \n",
       "1               Multilind 0,2% Micro Plata Párpados    \n",
       "2                       Dercos Champú Mineral Suave    \n",
       "3     Muñequera Estabilizadora Reversible Adaptable    \n",
       "4  Chupete Suavinex Evolution Silicona Osito Blan...   \n",
       "\n",
       "                                      recomendation3  \n",
       "0     Tena Pañal Anatómico Flexible Super Noche T/G   \n",
       "1                           Chupete Latex Antómico    \n",
       "2                            ActiveComplex Fish Oil   \n",
       "3               Jabon Artesano de Argan Bio Essenze   \n",
       "4  Chupete Suavinex Fusion Tetina Anatómica  uds ...  "
      ]
     },
     "execution_count": 10,
     "metadata": {},
     "output_type": "execute_result"
    }
   ],
   "source": [
    "df = df.drop(columns=[\"name\"])\n",
    "df.head()"
   ]
  },
  {
   "cell_type": "markdown",
   "metadata": {},
   "source": [
    "### Exportación de datos"
   ]
  },
  {
   "cell_type": "code",
   "execution_count": 13,
   "metadata": {},
   "outputs": [],
   "source": [
    "df.to_csv(f\"{pathToDF}{fileToOutput}\")"
   ]
  }
 ],
 "metadata": {
  "interpreter": {
   "hash": "bf572a60f2270a32a2287ee5441c31c3f27de4f092d16eee7937505d14960a51"
  },
  "kernelspec": {
   "display_name": "Python 3.10.4 ('venv': venv)",
   "language": "python",
   "name": "python3"
  },
  "language_info": {
   "codemirror_mode": {
    "name": "ipython",
    "version": 3
   },
   "file_extension": ".py",
   "mimetype": "text/x-python",
   "name": "python",
   "nbconvert_exporter": "python",
   "pygments_lexer": "ipython3",
   "version": "3.10.4"
  },
  "orig_nbformat": 4
 },
 "nbformat": 4,
 "nbformat_minor": 2
}
