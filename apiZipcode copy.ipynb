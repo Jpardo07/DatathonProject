{
 "cells": [
  {
   "cell_type": "markdown",
   "metadata": {},
   "source": [
    "### Libraries import"
   ]
  },
  {
   "cell_type": "code",
   "execution_count": 1,
   "metadata": {},
   "outputs": [],
   "source": [
    "import pandas as pd # Dataframes management\n",
    "from zipfile import ZipFile  # Files compressed management\n",
    "import os # Files management along OS\n",
    "import re"
   ]
  },
  {
   "cell_type": "code",
   "execution_count": 17,
   "metadata": {},
   "outputs": [],
   "source": [
    "from selenium import webdriver # Webscrapping bot\n",
    "from selenium.webdriver.common.by import By\n",
    "from selenium.webdriver.common.keys import Keys"
   ]
  },
  {
   "cell_type": "markdown",
   "metadata": {},
   "source": [
    "### Data import"
   ]
  },
  {
   "cell_type": "code",
   "execution_count": 3,
   "metadata": {},
   "outputs": [
    {
     "name": "stdout",
     "output_type": "stream",
     "text": [
      "File Name                                             Modified             Size\n",
      "items_ordered_2years_V2.csv                    2022-02-23 01:28:04    150372498\n",
      "extraction...\n",
      "Done!\n",
      "CSV imported to Pandas successfully\n",
      "Original CSV removed to preserve repo health\n"
     ]
    }
   ],
   "source": [
    "# Specifying the name of the zip file\n",
    "file = \"Inputs/Modificados - Atmira_Pharma_Visualization/items_ordered_2years_V2.zip\"\n",
    "  \n",
    "# Open the zip file in read mode\n",
    "with ZipFile(file, 'r') as zip: \n",
    "    # List all the contents of the zip file\n",
    "    zip.printdir() \n",
    "  \n",
    "    # Extract all files\n",
    "    print('extraction...') \n",
    "    zip.extractall(\"Inputs/Modificados - Atmira_Pharma_Visualization\") \n",
    "    print('Done!')\n",
    "\n",
    "#Import CSV to pandas\n",
    "itemsOrdered = pd.read_csv(\"Inputs/Modificados - Atmira_Pharma_Visualization/items_ordered_2years_V2.csv\")\n",
    "print(\"CSV imported to Pandas successfully\")\n",
    "\n",
    "# Remove uncompressed CSV file\n",
    "os.remove(\"Inputs/Modificados - Atmira_Pharma_Visualization/items_ordered_2years_V2.csv\")\n",
    "print(\"Original CSV removed to preserve repo health\")"
   ]
  },
  {
   "cell_type": "code",
   "execution_count": 4,
   "metadata": {},
   "outputs": [
    {
     "data": {
      "text/html": [
       "<div>\n",
       "<style scoped>\n",
       "    .dataframe tbody tr th:only-of-type {\n",
       "        vertical-align: middle;\n",
       "    }\n",
       "\n",
       "    .dataframe tbody tr th {\n",
       "        vertical-align: top;\n",
       "    }\n",
       "\n",
       "    .dataframe thead th {\n",
       "        text-align: right;\n",
       "    }\n",
       "</style>\n",
       "<table border=\"1\" class=\"dataframe\">\n",
       "  <thead>\n",
       "    <tr style=\"text-align: right;\">\n",
       "      <th></th>\n",
       "      <th>num_order</th>\n",
       "      <th>item_id</th>\n",
       "      <th>created_at</th>\n",
       "      <th>product_id</th>\n",
       "      <th>qty_ordered</th>\n",
       "      <th>base_cost</th>\n",
       "      <th>price</th>\n",
       "      <th>discount_percent</th>\n",
       "      <th>customer_id</th>\n",
       "      <th>city</th>\n",
       "      <th>zipcode</th>\n",
       "    </tr>\n",
       "  </thead>\n",
       "  <tbody>\n",
       "    <tr>\n",
       "      <th>0</th>\n",
       "      <td>562ba4ba9aaf2a1e926842deca19271d</td>\n",
       "      <td>2bca87c2ab10b07feef290a9be47f316</td>\n",
       "      <td>2017-01-01 00:20:33</td>\n",
       "      <td>6409.0</td>\n",
       "      <td>1.0</td>\n",
       "      <td>13.4204</td>\n",
       "      <td>17.17</td>\n",
       "      <td>8.0</td>\n",
       "      <td>50d7f99947b472cc889d58845b9d23e2</td>\n",
       "      <td>Valencia</td>\n",
       "      <td>46019</td>\n",
       "    </tr>\n",
       "    <tr>\n",
       "      <th>1</th>\n",
       "      <td>562ba4ba9aaf2a1e926842deca19271d</td>\n",
       "      <td>53e12ac4b579f0c4b1c4f77d50bf8792</td>\n",
       "      <td>2017-01-01 00:20:33</td>\n",
       "      <td>5133.0</td>\n",
       "      <td>1.0</td>\n",
       "      <td>18.5351</td>\n",
       "      <td>22.68</td>\n",
       "      <td>8.0</td>\n",
       "      <td>50d7f99947b472cc889d58845b9d23e2</td>\n",
       "      <td>Valencia</td>\n",
       "      <td>46019</td>\n",
       "    </tr>\n",
       "    <tr>\n",
       "      <th>2</th>\n",
       "      <td>562ba4ba9aaf2a1e926842deca19271d</td>\n",
       "      <td>d19d6df5cd6a1e741408b70aa2767bf4</td>\n",
       "      <td>2017-01-01 00:20:33</td>\n",
       "      <td>5125.0</td>\n",
       "      <td>1.0</td>\n",
       "      <td>18.5260</td>\n",
       "      <td>22.68</td>\n",
       "      <td>8.0</td>\n",
       "      <td>50d7f99947b472cc889d58845b9d23e2</td>\n",
       "      <td>Valencia</td>\n",
       "      <td>46019</td>\n",
       "    </tr>\n",
       "  </tbody>\n",
       "</table>\n",
       "</div>"
      ],
      "text/plain": [
       "                          num_order                           item_id  \\\n",
       "0  562ba4ba9aaf2a1e926842deca19271d  2bca87c2ab10b07feef290a9be47f316   \n",
       "1  562ba4ba9aaf2a1e926842deca19271d  53e12ac4b579f0c4b1c4f77d50bf8792   \n",
       "2  562ba4ba9aaf2a1e926842deca19271d  d19d6df5cd6a1e741408b70aa2767bf4   \n",
       "\n",
       "            created_at  product_id  qty_ordered  base_cost  price  \\\n",
       "0  2017-01-01 00:20:33      6409.0          1.0    13.4204  17.17   \n",
       "1  2017-01-01 00:20:33      5133.0          1.0    18.5351  22.68   \n",
       "2  2017-01-01 00:20:33      5125.0          1.0    18.5260  22.68   \n",
       "\n",
       "   discount_percent                       customer_id      city zipcode  \n",
       "0               8.0  50d7f99947b472cc889d58845b9d23e2  Valencia   46019  \n",
       "1               8.0  50d7f99947b472cc889d58845b9d23e2  Valencia   46019  \n",
       "2               8.0  50d7f99947b472cc889d58845b9d23e2  Valencia   46019  "
      ]
     },
     "execution_count": 4,
     "metadata": {},
     "output_type": "execute_result"
    }
   ],
   "source": [
    "itemsOrdered.head(3)"
   ]
  },
  {
   "cell_type": "code",
   "execution_count": 5,
   "metadata": {},
   "outputs": [],
   "source": [
    "del zip"
   ]
  },
  {
   "cell_type": "markdown",
   "metadata": {},
   "source": [
    "### Arreglos para facilitar el webscrapping"
   ]
  },
  {
   "cell_type": "code",
   "execution_count": 6,
   "metadata": {},
   "outputs": [],
   "source": [
    "itemsOrdered[\"city\"].replace(to_replace={'San Vicente del Raspeig':'Sant Vicent del Raspeig'}, inplace=True)"
   ]
  },
  {
   "cell_type": "code",
   "execution_count": 7,
   "metadata": {},
   "outputs": [],
   "source": [
    "itemsOrdered.loc[itemsOrdered['zipcode'].eq('30139') & itemsOrdered['city'].eq('Murcia'), \"city\"] = \"EL RAAL\""
   ]
  },
  {
   "cell_type": "code",
   "execution_count": 8,
   "metadata": {},
   "outputs": [],
   "source": [
    "itemsOrdered.loc[itemsOrdered['zipcode'].eq('29039')] = \"28039\""
   ]
  },
  {
   "cell_type": "markdown",
   "metadata": {},
   "source": [
    "### USO DE WEBSCRAPPING PARA CÓDIGO POSTAL"
   ]
  },
  {
   "cell_type": "markdown",
   "metadata": {},
   "source": [
    "Guardado de resultados formateados del scrapping"
   ]
  },
  {
   "cell_type": "code",
   "execution_count": 9,
   "metadata": {},
   "outputs": [],
   "source": [
    "masterScrapping = []"
   ]
  },
  {
   "cell_type": "markdown",
   "metadata": {},
   "source": [
    "A continuación se genera una lista compuesta de tuplas compuestas de la siguiente forma: (\"Ciudad\", \"Zipcode\")"
   ]
  },
  {
   "cell_type": "code",
   "execution_count": 10,
   "metadata": {},
   "outputs": [],
   "source": [
    "rawDataZipcode = list(zip(itemsOrdered[\"city\"].tolist(), itemsOrdered[\"zipcode\"].tolist()))\n",
    "rawDataZipcode = rawDataZipcode[:int(len(rawDataZipcode)/30)]"
   ]
  },
  {
   "cell_type": "markdown",
   "metadata": {},
   "source": [
    "**Funciones destacadas**"
   ]
  },
  {
   "cell_type": "markdown",
   "metadata": {},
   "source": [
    "Función que limpia los acentos con el fin de homogeneizar"
   ]
  },
  {
   "cell_type": "code",
   "execution_count": 11,
   "metadata": {},
   "outputs": [],
   "source": [
    "def AcentosLimpiador(text):\n",
    "\tacentos = {'á': 'a', 'é': 'e', 'í': 'i', 'ó': 'o', 'ú': 'u', 'Á': 'A', 'E': 'E', 'Í': 'I', 'Ó': 'O', 'Ú': 'U'}\n",
    "\tfor ele in acentos:\n",
    "\t\tif ele in text:\n",
    "\t\t\ttext = text.replace(ele, acentos[ele])\n",
    "\treturn text"
   ]
  },
  {
   "cell_type": "markdown",
   "metadata": {},
   "source": [
    "Función que formatea los resultados del webscrapping de forma adecuada a los requerimientos necesarios"
   ]
  },
  {
   "cell_type": "code",
   "execution_count": 12,
   "metadata": {},
   "outputs": [],
   "source": [
    "def zipCodeManipulation(city, zipcode, query, saved = False):\n",
    "  \n",
    "    # This conditional checks if the zipcode info was scrapped and stored succesfully\n",
    "    if saved == False:\n",
    "        listTestingZipcode = saveGeoInfo.split(\"\\n\")\n",
    "        indexMatchRegex = list(map(lambda x: [(m.start(0), m.end(0)) for m in re.finditer(r\"[a-z][A-Z0-9]\", x)], listTestingZipcode))\n",
    "\n",
    "        resultScrapClean = []\n",
    "        for pas,resultScrap in enumerate(listTestingZipcode):\n",
    "            for pos,ele in enumerate(indexMatchRegex[pas]):\n",
    "                if len(indexMatchRegex[pas])==2:\n",
    "                    if pos ==0:\n",
    "                        txt = resultScrap[:ele[0]+1]+\",\"+resultScrap[ele[1]-1:]\n",
    "                    elif pos ==1:\n",
    "                        txt = txt[:ele[0]+2]+\",\"+txt[ele[1]:]\n",
    "                        resultScrapClean.append(txt)\n",
    "                elif len(indexMatchRegex[pas])==3:\n",
    "                    if pos ==0:\n",
    "                        txt = resultScrap[:ele[0]+1]+\",\"+resultScrap[ele[1]-1:]\n",
    "                    elif pos ==1:\n",
    "                        txt = txt[:ele[0]+2]+\",\"+txt[ele[1]:]\n",
    "                    elif pos ==2:\n",
    "                        txt = txt[:ele[0]+3]+\",\"+txt[ele[1]+1:]\n",
    "                        resultScrapClean.append(txt)\n",
    "\n",
    "        resultScrapListed = [element.split(\",\") for element in resultScrapClean]\n",
    "        resultScrapRearr = [(element[0], element[1], element[-2], element[-1]) for element in resultScrapListed]\n",
    "        \n",
    "        resultZip = []\n",
    "        for element in resultScrapRearr:\n",
    "            if element[2].lower() == AcentosLimpiador(city.lower()):\n",
    "                resultZip.append(element)\n",
    "                break\n",
    "\n",
    "    elif saved ==False:\n",
    "        None\n",
    "\n",
    "    return resultZip[0]"
   ]
  },
  {
   "cell_type": "markdown",
   "metadata": {},
   "source": [
    "**Webscrapping!**"
   ]
  },
  {
   "cell_type": "code",
   "execution_count": 19,
   "metadata": {},
   "outputs": [
    {
     "ename": "NoSuchWindowException",
     "evalue": "Message: Browsing context has been discarded\nStacktrace:\nWebDriverError@chrome://remote/content/shared/webdriver/Errors.jsm:183:5\nNoSuchWindowError@chrome://remote/content/shared/webdriver/Errors.jsm:437:5\nassert.that/<@chrome://remote/content/shared/webdriver/Assert.jsm:435:13\nassert.open@chrome://remote/content/shared/webdriver/Assert.jsm:143:4\nGeckoDriver.prototype.findElement@chrome://remote/content/marionette/driver.js:1378:10\ndespatch@chrome://remote/content/marionette/server.js:306:40\nexecute@chrome://remote/content/marionette/server.js:279:16\nonPacket/<@chrome://remote/content/marionette/server.js:252:20\nonPacket@chrome://remote/content/marionette/server.js:253:9\n_onJSONObjectReady/<@chrome://remote/content/marionette/transport.js:500:20\n",
     "output_type": "error",
     "traceback": [
      "\u001b[0;31m---------------------------------------------------------------------------\u001b[0m",
      "\u001b[0;31mNoSuchWindowException\u001b[0m                     Traceback (most recent call last)",
      "\u001b[1;32m/var/home/alex/Documentos/Repos/Online/DatathonProject/apiZipcode copy.ipynb Cell 23'\u001b[0m in \u001b[0;36m<module>\u001b[0;34m\u001b[0m\n\u001b[1;32m      <a href='vscode-notebook-cell:/var/home/alex/Documentos/Repos/Online/DatathonProject/apiZipcode%20copy.ipynb#ch0000016?line=6'>7</a>\u001b[0m driver\u001b[39m.\u001b[39mset_page_load_timeout(\u001b[39m5\u001b[39m)\n\u001b[1;32m      <a href='vscode-notebook-cell:/var/home/alex/Documentos/Repos/Online/DatathonProject/apiZipcode%20copy.ipynb#ch0000016?line=8'>9</a>\u001b[0m \u001b[39mfor\u001b[39;00m element \u001b[39min\u001b[39;00m rawDataZipcode:\n\u001b[0;32m---> <a href='vscode-notebook-cell:/var/home/alex/Documentos/Repos/Online/DatathonProject/apiZipcode%20copy.ipynb#ch0000016?line=9'>10</a>\u001b[0m     insertZipcode \u001b[39m=\u001b[39mdriver\u001b[39m.\u001b[39;49mfind_element(By\u001b[39m.\u001b[39;49mID,\u001b[39m\"\u001b[39;49m\u001b[39msearch\u001b[39;49m\u001b[39m\"\u001b[39;49m)\n\u001b[1;32m     <a href='vscode-notebook-cell:/var/home/alex/Documentos/Repos/Online/DatathonProject/apiZipcode%20copy.ipynb#ch0000016?line=10'>11</a>\u001b[0m     insertZipcode\u001b[39m.\u001b[39mclear()\n\u001b[1;32m     <a href='vscode-notebook-cell:/var/home/alex/Documentos/Repos/Online/DatathonProject/apiZipcode%20copy.ipynb#ch0000016?line=11'>12</a>\u001b[0m     insertZipcode\u001b[39m.\u001b[39msend_keys(element[\u001b[39m1\u001b[39m])\n",
      "File \u001b[0;32m~/Documentos/Repos/Online/DatathonProject/penv/lib/python3.10/site-packages/selenium/webdriver/remote/webdriver.py:1248\u001b[0m, in \u001b[0;36mWebDriver.find_element\u001b[0;34m(self, by, value)\u001b[0m\n\u001b[1;32m   <a href='file:///var/home/alex/Documentos/Repos/Online/DatathonProject/penv/lib/python3.10/site-packages/selenium/webdriver/remote/webdriver.py?line=1244'>1245</a>\u001b[0m     by \u001b[39m=\u001b[39m By\u001b[39m.\u001b[39mCSS_SELECTOR\n\u001b[1;32m   <a href='file:///var/home/alex/Documentos/Repos/Online/DatathonProject/penv/lib/python3.10/site-packages/selenium/webdriver/remote/webdriver.py?line=1245'>1246</a>\u001b[0m     value \u001b[39m=\u001b[39m \u001b[39m'\u001b[39m\u001b[39m[name=\u001b[39m\u001b[39m\"\u001b[39m\u001b[39m%s\u001b[39;00m\u001b[39m\"\u001b[39m\u001b[39m]\u001b[39m\u001b[39m'\u001b[39m \u001b[39m%\u001b[39m value\n\u001b[0;32m-> <a href='file:///var/home/alex/Documentos/Repos/Online/DatathonProject/penv/lib/python3.10/site-packages/selenium/webdriver/remote/webdriver.py?line=1247'>1248</a>\u001b[0m \u001b[39mreturn\u001b[39;00m \u001b[39mself\u001b[39;49m\u001b[39m.\u001b[39;49mexecute(Command\u001b[39m.\u001b[39;49mFIND_ELEMENT, {\n\u001b[1;32m   <a href='file:///var/home/alex/Documentos/Repos/Online/DatathonProject/penv/lib/python3.10/site-packages/selenium/webdriver/remote/webdriver.py?line=1248'>1249</a>\u001b[0m     \u001b[39m'\u001b[39;49m\u001b[39musing\u001b[39;49m\u001b[39m'\u001b[39;49m: by,\n\u001b[1;32m   <a href='file:///var/home/alex/Documentos/Repos/Online/DatathonProject/penv/lib/python3.10/site-packages/selenium/webdriver/remote/webdriver.py?line=1249'>1250</a>\u001b[0m     \u001b[39m'\u001b[39;49m\u001b[39mvalue\u001b[39;49m\u001b[39m'\u001b[39;49m: value})[\u001b[39m'\u001b[39m\u001b[39mvalue\u001b[39m\u001b[39m'\u001b[39m]\n",
      "File \u001b[0;32m~/Documentos/Repos/Online/DatathonProject/penv/lib/python3.10/site-packages/selenium/webdriver/remote/webdriver.py:425\u001b[0m, in \u001b[0;36mWebDriver.execute\u001b[0;34m(self, driver_command, params)\u001b[0m\n\u001b[1;32m    <a href='file:///var/home/alex/Documentos/Repos/Online/DatathonProject/penv/lib/python3.10/site-packages/selenium/webdriver/remote/webdriver.py?line=422'>423</a>\u001b[0m response \u001b[39m=\u001b[39m \u001b[39mself\u001b[39m\u001b[39m.\u001b[39mcommand_executor\u001b[39m.\u001b[39mexecute(driver_command, params)\n\u001b[1;32m    <a href='file:///var/home/alex/Documentos/Repos/Online/DatathonProject/penv/lib/python3.10/site-packages/selenium/webdriver/remote/webdriver.py?line=423'>424</a>\u001b[0m \u001b[39mif\u001b[39;00m response:\n\u001b[0;32m--> <a href='file:///var/home/alex/Documentos/Repos/Online/DatathonProject/penv/lib/python3.10/site-packages/selenium/webdriver/remote/webdriver.py?line=424'>425</a>\u001b[0m     \u001b[39mself\u001b[39;49m\u001b[39m.\u001b[39;49merror_handler\u001b[39m.\u001b[39;49mcheck_response(response)\n\u001b[1;32m    <a href='file:///var/home/alex/Documentos/Repos/Online/DatathonProject/penv/lib/python3.10/site-packages/selenium/webdriver/remote/webdriver.py?line=425'>426</a>\u001b[0m     response[\u001b[39m'\u001b[39m\u001b[39mvalue\u001b[39m\u001b[39m'\u001b[39m] \u001b[39m=\u001b[39m \u001b[39mself\u001b[39m\u001b[39m.\u001b[39m_unwrap_value(\n\u001b[1;32m    <a href='file:///var/home/alex/Documentos/Repos/Online/DatathonProject/penv/lib/python3.10/site-packages/selenium/webdriver/remote/webdriver.py?line=426'>427</a>\u001b[0m         response\u001b[39m.\u001b[39mget(\u001b[39m'\u001b[39m\u001b[39mvalue\u001b[39m\u001b[39m'\u001b[39m, \u001b[39mNone\u001b[39;00m))\n\u001b[1;32m    <a href='file:///var/home/alex/Documentos/Repos/Online/DatathonProject/penv/lib/python3.10/site-packages/selenium/webdriver/remote/webdriver.py?line=427'>428</a>\u001b[0m     \u001b[39mreturn\u001b[39;00m response\n",
      "File \u001b[0;32m~/Documentos/Repos/Online/DatathonProject/penv/lib/python3.10/site-packages/selenium/webdriver/remote/errorhandler.py:247\u001b[0m, in \u001b[0;36mErrorHandler.check_response\u001b[0;34m(self, response)\u001b[0m\n\u001b[1;32m    <a href='file:///var/home/alex/Documentos/Repos/Online/DatathonProject/penv/lib/python3.10/site-packages/selenium/webdriver/remote/errorhandler.py?line=244'>245</a>\u001b[0m         alert_text \u001b[39m=\u001b[39m value[\u001b[39m'\u001b[39m\u001b[39malert\u001b[39m\u001b[39m'\u001b[39m]\u001b[39m.\u001b[39mget(\u001b[39m'\u001b[39m\u001b[39mtext\u001b[39m\u001b[39m'\u001b[39m)\n\u001b[1;32m    <a href='file:///var/home/alex/Documentos/Repos/Online/DatathonProject/penv/lib/python3.10/site-packages/selenium/webdriver/remote/errorhandler.py?line=245'>246</a>\u001b[0m     \u001b[39mraise\u001b[39;00m exception_class(message, screen, stacktrace, alert_text)  \u001b[39m# type: ignore[call-arg]  # mypy is not smart enough here\u001b[39;00m\n\u001b[0;32m--> <a href='file:///var/home/alex/Documentos/Repos/Online/DatathonProject/penv/lib/python3.10/site-packages/selenium/webdriver/remote/errorhandler.py?line=246'>247</a>\u001b[0m \u001b[39mraise\u001b[39;00m exception_class(message, screen, stacktrace)\n",
      "\u001b[0;31mNoSuchWindowException\u001b[0m: Message: Browsing context has been discarded\nStacktrace:\nWebDriverError@chrome://remote/content/shared/webdriver/Errors.jsm:183:5\nNoSuchWindowError@chrome://remote/content/shared/webdriver/Errors.jsm:437:5\nassert.that/<@chrome://remote/content/shared/webdriver/Assert.jsm:435:13\nassert.open@chrome://remote/content/shared/webdriver/Assert.jsm:143:4\nGeckoDriver.prototype.findElement@chrome://remote/content/marionette/driver.js:1378:10\ndespatch@chrome://remote/content/marionette/server.js:306:40\nexecute@chrome://remote/content/marionette/server.js:279:16\nonPacket/<@chrome://remote/content/marionette/server.js:252:20\nonPacket@chrome://remote/content/marionette/server.js:253:9\n_onJSONObjectReady/<@chrome://remote/content/marionette/transport.js:500:20\n"
     ]
    }
   ],
   "source": [
    "try:\n",
    "    \n",
    "    driver = webdriver.Firefox()\n",
    "\n",
    "    driver.set_page_load_timeout(5)\n",
    "    driver.get(\"https://worldpostalcode.com/lookup\")\n",
    "    driver.set_page_load_timeout(5)\n",
    "\n",
    "    for element in rawDataZipcode:\n",
    "        insertZipcode =driver.find_element(By.ID,\"search\")\n",
    "        insertZipcode.clear()\n",
    "        insertZipcode.send_keys(element[1])\n",
    "        clickButtonZipcode =driver.find_element(By.CLASS_NAME,\"submit\")\n",
    "        clickButtonZipcode.click()\n",
    "        driver.set_page_load_timeout(5)\n",
    "\n",
    "        getGeoInfo = driver.find_element(By.CLASS_NAME,\"search_units\")\n",
    "        saveGeoInfo = getGeoInfo.text\n",
    "\n",
    "        if element[0] not in masterScrapping:\n",
    "            zipCodeDef = zipCodeManipulation(element[0], element[1], saveGeoInfo)\n",
    "        else:\n",
    "            zipCodeDef = zipCodeManipulation(element[0], element[1], saveGeoInfo, saved = True)\n",
    "\n",
    "        masterScrapping.append(zipCodeDef)\n",
    "\n",
    "    driver.close()\n",
    "\n",
    "except IndexError:\n",
    "    driver.close()\n",
    "    raise Exception(f\"El fallo se ha producido con ciudad: {element[0]}, zipcode: {element[1]}\")"
   ]
  },
  {
   "cell_type": "markdown",
   "metadata": {},
   "source": [
    "**Comprobaciones del scrapping y formateo posterior realizado**"
   ]
  },
  {
   "cell_type": "code",
   "execution_count": null,
   "metadata": {},
   "outputs": [
    {
     "data": {
      "text/plain": [
       "0"
      ]
     },
     "execution_count": 27,
     "metadata": {},
     "output_type": "execute_result"
    }
   ],
   "source": [
    "len(masterScrapping)"
   ]
  },
  {
   "cell_type": "markdown",
   "metadata": {},
   "source": [
    "**Transformación del scrapeo formateado a dataframe de Pandas**"
   ]
  },
  {
   "cell_type": "code",
   "execution_count": null,
   "metadata": {},
   "outputs": [
    {
     "data": {
      "text/html": [
       "<div>\n",
       "<style scoped>\n",
       "    .dataframe tbody tr th:only-of-type {\n",
       "        vertical-align: middle;\n",
       "    }\n",
       "\n",
       "    .dataframe tbody tr th {\n",
       "        vertical-align: top;\n",
       "    }\n",
       "\n",
       "    .dataframe thead th {\n",
       "        text-align: right;\n",
       "    }\n",
       "</style>\n",
       "<table border=\"1\" class=\"dataframe\">\n",
       "  <thead>\n",
       "    <tr style=\"text-align: right;\">\n",
       "      <th></th>\n",
       "      <th>Country</th>\n",
       "      <th>Region</th>\n",
       "      <th>City</th>\n",
       "      <th>Zipcode</th>\n",
       "    </tr>\n",
       "  </thead>\n",
       "  <tbody>\n",
       "  </tbody>\n",
       "</table>\n",
       "</div>"
      ],
      "text/plain": [
       "Empty DataFrame\n",
       "Columns: [Country, Region, City, Zipcode]\n",
       "Index: []"
      ]
     },
     "execution_count": 28,
     "metadata": {},
     "output_type": "execute_result"
    }
   ],
   "source": [
    "asd = pd.DataFrame(masterScrapping, columns=[\"Country\",\"Region\",\"City\",\"Zipcode\"])\n",
    "asd.head(3)"
   ]
  }
 ],
 "metadata": {
  "interpreter": {
   "hash": "f876c6d03db2a1b556a458eeb23dadf5ec8e4266298f30cdd70e3128597d8f66"
  },
  "kernelspec": {
   "display_name": "Python 3.10.2 ('penv': venv)",
   "language": "python",
   "name": "python3"
  },
  "language_info": {
   "codemirror_mode": {
    "name": "ipython",
    "version": 3
   },
   "file_extension": ".py",
   "mimetype": "text/x-python",
   "name": "python",
   "nbconvert_exporter": "python",
   "pygments_lexer": "ipython3",
   "version": "3.10.2"
  },
  "orig_nbformat": 4
 },
 "nbformat": 4,
 "nbformat_minor": 2
}
