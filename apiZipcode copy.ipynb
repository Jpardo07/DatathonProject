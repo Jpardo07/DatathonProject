{
 "cells": [
  {
   "cell_type": "markdown",
   "metadata": {},
   "source": [
    "### Libraries import"
   ]
  },
  {
   "cell_type": "code",
   "execution_count": 1,
   "metadata": {},
   "outputs": [],
   "source": [
    "import pandas as pd # Dataframes management\n",
    "from zipfile import ZipFile  # Files compressed management\n",
    "import os # Files management along OS\n",
    "import re"
   ]
  },
  {
   "cell_type": "code",
   "execution_count": 2,
   "metadata": {},
   "outputs": [],
   "source": [
    "from selenium import webdriver # Webscrapping bot\n",
    "from selenium.webdriver.chrome.options import Options\n",
    "from selenium.webdriver.common.by import By\n",
    "from selenium.webdriver.common.keys import Keys"
   ]
  },
  {
   "cell_type": "markdown",
   "metadata": {},
   "source": [
    "### Data import"
   ]
  },
  {
   "cell_type": "code",
   "execution_count": 3,
   "metadata": {},
   "outputs": [
    {
     "name": "stdout",
     "output_type": "stream",
     "text": [
      "File Name                                             Modified             Size\n",
      "items_ordered_2years_V2.csv                    2022-02-23 01:28:04    150372498\n",
      "extraction...\n",
      "Done!\n",
      "CSV imported to Pandas successfully\n",
      "Original CSV removed to preserve repo health\n"
     ]
    }
   ],
   "source": [
    "# Specifying the name of the zip file\n",
    "file = \"Inputs/Modificados - Atmira_Pharma_Visualization/items_ordered_2years_V2.zip\"\n",
    "  \n",
    "# Open the zip file in read mode\n",
    "with ZipFile(file, 'r') as zip: \n",
    "    # List all the contents of the zip file\n",
    "    zip.printdir() \n",
    "  \n",
    "    # Extract all files\n",
    "    print('extraction...') \n",
    "    zip.extractall(\"Inputs/Modificados - Atmira_Pharma_Visualization\") \n",
    "    print('Done!')\n",
    "\n",
    "#Import CSV to pandas\n",
    "itemsOrdered = pd.read_csv(\"Inputs/Modificados - Atmira_Pharma_Visualization/items_ordered_2years_V2.csv\")\n",
    "print(\"CSV imported to Pandas successfully\")\n",
    "\n",
    "# Remove uncompressed CSV file\n",
    "os.remove(\"Inputs/Modificados - Atmira_Pharma_Visualization/items_ordered_2years_V2.csv\")\n",
    "print(\"Original CSV removed to preserve repo health\")"
   ]
  },
  {
   "cell_type": "code",
   "execution_count": 4,
   "metadata": {},
   "outputs": [
    {
     "data": {
      "text/html": [
       "<div>\n",
       "<style scoped>\n",
       "    .dataframe tbody tr th:only-of-type {\n",
       "        vertical-align: middle;\n",
       "    }\n",
       "\n",
       "    .dataframe tbody tr th {\n",
       "        vertical-align: top;\n",
       "    }\n",
       "\n",
       "    .dataframe thead th {\n",
       "        text-align: right;\n",
       "    }\n",
       "</style>\n",
       "<table border=\"1\" class=\"dataframe\">\n",
       "  <thead>\n",
       "    <tr style=\"text-align: right;\">\n",
       "      <th></th>\n",
       "      <th>num_order</th>\n",
       "      <th>item_id</th>\n",
       "      <th>created_at</th>\n",
       "      <th>product_id</th>\n",
       "      <th>qty_ordered</th>\n",
       "      <th>base_cost</th>\n",
       "      <th>price</th>\n",
       "      <th>discount_percent</th>\n",
       "      <th>customer_id</th>\n",
       "      <th>city</th>\n",
       "      <th>zipcode</th>\n",
       "    </tr>\n",
       "  </thead>\n",
       "  <tbody>\n",
       "    <tr>\n",
       "      <th>0</th>\n",
       "      <td>562ba4ba9aaf2a1e926842deca19271d</td>\n",
       "      <td>2bca87c2ab10b07feef290a9be47f316</td>\n",
       "      <td>2017-01-01 00:20:33</td>\n",
       "      <td>6409.0</td>\n",
       "      <td>1.0</td>\n",
       "      <td>13.4204</td>\n",
       "      <td>17.17</td>\n",
       "      <td>8.0</td>\n",
       "      <td>50d7f99947b472cc889d58845b9d23e2</td>\n",
       "      <td>Valencia</td>\n",
       "      <td>46019</td>\n",
       "    </tr>\n",
       "    <tr>\n",
       "      <th>1</th>\n",
       "      <td>562ba4ba9aaf2a1e926842deca19271d</td>\n",
       "      <td>53e12ac4b579f0c4b1c4f77d50bf8792</td>\n",
       "      <td>2017-01-01 00:20:33</td>\n",
       "      <td>5133.0</td>\n",
       "      <td>1.0</td>\n",
       "      <td>18.5351</td>\n",
       "      <td>22.68</td>\n",
       "      <td>8.0</td>\n",
       "      <td>50d7f99947b472cc889d58845b9d23e2</td>\n",
       "      <td>Valencia</td>\n",
       "      <td>46019</td>\n",
       "    </tr>\n",
       "    <tr>\n",
       "      <th>2</th>\n",
       "      <td>562ba4ba9aaf2a1e926842deca19271d</td>\n",
       "      <td>d19d6df5cd6a1e741408b70aa2767bf4</td>\n",
       "      <td>2017-01-01 00:20:33</td>\n",
       "      <td>5125.0</td>\n",
       "      <td>1.0</td>\n",
       "      <td>18.5260</td>\n",
       "      <td>22.68</td>\n",
       "      <td>8.0</td>\n",
       "      <td>50d7f99947b472cc889d58845b9d23e2</td>\n",
       "      <td>Valencia</td>\n",
       "      <td>46019</td>\n",
       "    </tr>\n",
       "  </tbody>\n",
       "</table>\n",
       "</div>"
      ],
      "text/plain": [
       "                          num_order                           item_id  \\\n",
       "0  562ba4ba9aaf2a1e926842deca19271d  2bca87c2ab10b07feef290a9be47f316   \n",
       "1  562ba4ba9aaf2a1e926842deca19271d  53e12ac4b579f0c4b1c4f77d50bf8792   \n",
       "2  562ba4ba9aaf2a1e926842deca19271d  d19d6df5cd6a1e741408b70aa2767bf4   \n",
       "\n",
       "            created_at  product_id  qty_ordered  base_cost  price  \\\n",
       "0  2017-01-01 00:20:33      6409.0          1.0    13.4204  17.17   \n",
       "1  2017-01-01 00:20:33      5133.0          1.0    18.5351  22.68   \n",
       "2  2017-01-01 00:20:33      5125.0          1.0    18.5260  22.68   \n",
       "\n",
       "   discount_percent                       customer_id      city zipcode  \n",
       "0               8.0  50d7f99947b472cc889d58845b9d23e2  Valencia   46019  \n",
       "1               8.0  50d7f99947b472cc889d58845b9d23e2  Valencia   46019  \n",
       "2               8.0  50d7f99947b472cc889d58845b9d23e2  Valencia   46019  "
      ]
     },
     "execution_count": 4,
     "metadata": {},
     "output_type": "execute_result"
    }
   ],
   "source": [
    "itemsOrdered.head(3)"
   ]
  },
  {
   "cell_type": "code",
   "execution_count": 5,
   "metadata": {},
   "outputs": [],
   "source": [
    "del zip"
   ]
  },
  {
   "cell_type": "markdown",
   "metadata": {},
   "source": [
    "### Arreglos para facilitar el webscrapping"
   ]
  },
  {
   "cell_type": "code",
   "execution_count": 6,
   "metadata": {},
   "outputs": [],
   "source": [
    "itemsOrdered[\"city\"].replace(to_replace={'San Vicente del Raspeig':'Sant Vicent del Raspeig'}, inplace=True)"
   ]
  },
  {
   "cell_type": "code",
   "execution_count": 7,
   "metadata": {},
   "outputs": [],
   "source": [
    "itemsOrdered.loc[itemsOrdered['zipcode'].eq('30139') & itemsOrdered['city'].eq('Murcia'), \"city\"] = \"EL RAAL\""
   ]
  },
  {
   "cell_type": "code",
   "execution_count": 8,
   "metadata": {},
   "outputs": [],
   "source": [
    "itemsOrdered.loc[itemsOrdered['zipcode'].eq('29039')] = \"28039\""
   ]
  },
  {
   "cell_type": "markdown",
   "metadata": {},
   "source": [
    "### USO DE WEBSCRAPPING PARA CÓDIGO POSTAL"
   ]
  },
  {
   "cell_type": "code",
   "execution_count": 9,
   "metadata": {},
   "outputs": [],
   "source": [
    "masterScrapping = []"
   ]
  },
  {
   "cell_type": "code",
   "execution_count": 10,
   "metadata": {},
   "outputs": [],
   "source": [
    "rawDataZipcode = list(zip(itemsOrdered[\"city\"].tolist(), itemsOrdered[\"zipcode\"].tolist()))\n",
    "rawDataZipcode = rawDataZipcode[:int(len(rawDataZipcode)/30)]"
   ]
  },
  {
   "cell_type": "code",
   "execution_count": 11,
   "metadata": {},
   "outputs": [],
   "source": [
    "def AcentosLimpiador(text):\n",
    "\tacentos = {'á': 'a', 'é': 'e', 'í': 'i', 'ó': 'o', 'ú': 'u', 'Á': 'A', 'E': 'E', 'Í': 'I', 'Ó': 'O', 'Ú': 'U'}\n",
    "\tfor ele in acentos:\n",
    "\t\tif ele in text:\n",
    "\t\t\ttext = text.replace(ele, acentos[ele])\n",
    "\treturn text"
   ]
  },
  {
   "cell_type": "code",
   "execution_count": 14,
   "metadata": {},
   "outputs": [],
   "source": [
    "def zipCodeManipulation(city, zipcode, query, saved = False):\n",
    "  \n",
    "    if saved == False:\n",
    "        listTestingZipcode = saveGeoInfo.split(\"\\n\")\n",
    "        indexMatchRegex = list(map(lambda x: [(m.start(0), m.end(0)) for m in re.finditer(r\"[a-z][A-Z0-9]\", x)], listTestingZipcode))\n",
    "\n",
    "        resultScrapClean = []\n",
    "        for pas,resultScrap in enumerate(listTestingZipcode):\n",
    "            for pos,ele in enumerate(indexMatchRegex[pas]):\n",
    "                if len(indexMatchRegex[pas])==2:\n",
    "                    if pos ==0:\n",
    "                        txt = resultScrap[:ele[0]+1]+\",\"+resultScrap[ele[1]-1:]\n",
    "                    elif pos ==1:\n",
    "                        txt = txt[:ele[0]+2]+\",\"+txt[ele[1]:]\n",
    "                        resultScrapClean.append(txt)\n",
    "                elif len(indexMatchRegex[pas])==3:\n",
    "                    if pos ==0:\n",
    "                        txt = resultScrap[:ele[0]+1]+\",\"+resultScrap[ele[1]-1:]\n",
    "                    elif pos ==1:\n",
    "                        txt = txt[:ele[0]+2]+\",\"+txt[ele[1]:]\n",
    "                    elif pos ==2:\n",
    "                        txt = txt[:ele[0]+3]+\",\"+txt[ele[1]+1:]\n",
    "                        resultScrapClean.append(txt)\n",
    "\n",
    "        resultScrapListed = []\n",
    "        for element in resultScrapClean:\n",
    "            resultScrapListed.append(element.split(\",\"))\n",
    "\n",
    "        resultScrapRearr = [(element[0], element[1], element[-2], element[-1]) for element in resultScrapListed]\n",
    "        \n",
    "        resultZip = []\n",
    "        for element in resultScrapRearr:\n",
    "            if element[2].lower() == AcentosLimpiador(city.lower()):\n",
    "                resultZip.append(element)\n",
    "                break\n",
    "\n",
    "\n",
    "    return resultZip[0]"
   ]
  },
  {
   "cell_type": "code",
   "execution_count": 27,
   "metadata": {},
   "outputs": [
    {
     "ename": "SessionNotCreatedException",
     "evalue": "Message: session not created\nfrom disconnected: received Inspector.detached event\n  (Session info: chrome=96.0.4664.110)\nStacktrace:\n#0 0x5627fc40aee3 <unknown>\n#1 0x5627fbed8608 <unknown>\n#2 0x5627fbec4fa5 <unknown>\n#3 0x5627fbec4a05 <unknown>\n#4 0x5627fbec3f35 <unknown>\n#5 0x5627fbec2d43 <unknown>\n#6 0x5627fbec3093 <unknown>\n#7 0x5627fbec26c1 <unknown>\n#8 0x5627fbed1d30 <unknown>\n#9 0x5627fbec2663 <unknown>\n#10 0x5627fbec39d9 <unknown>\n#11 0x5627fbec2d43 <unknown>\n#12 0x5627fbec3093 <unknown>\n#13 0x5627fbec26c1 <unknown>\n#14 0x5627fbecf59d <unknown>\n#15 0x5627fbec2663 <unknown>\n#16 0x5627fbec39d9 <unknown>\n#17 0x5627fbec2d43 <unknown>\n#18 0x5627fbec3093 <unknown>\n#19 0x5627fbec26c1 <unknown>\n#20 0x5627fbecaecb <unknown>\n#21 0x5627fbec2663 <unknown>\n#22 0x5627fbec39d9 <unknown>\n#23 0x5627fbec2d43 <unknown>\n#24 0x5627fbec3093 <unknown>\n#25 0x5627fbec26c1 <unknown>\n#26 0x5627fbec9efa <unknown>\n#27 0x5627fbec2663 <unknown>\n#28 0x5627fbec39d9 <unknown>\n#29 0x5627fbec2d43 <unknown>\n#30 0x5627fbec3093 <unknown>\n#31 0x5627fbec26c1 <unknown>\n#32 0x5627fbebd15a <unknown>\n#33 0x5627fbec2663 <unknown>\n#34 0x5627fbec2555 <unknown>\n#35 0x5627fbec1ff0 <unknown>\n#36 0x5627fbed9a02 <unknown>\n#37 0x5627fbf333ea <unknown>\n#38 0x5627fbf2c163 <unknown>\n#39 0x5627fbf01bfc <unknown>\n#40 0x5627fbf02c05 <unknown>\n#41 0x5627fc43cbaa <unknown>\n#42 0x5627fc452651 <unknown>\n#43 0x5627fc43db05 <unknown>\n#44 0x5627fc453a68 <unknown>\n#45 0x5627fc43205f <unknown>\n#46 0x5627fc46e818 <unknown>\n#47 0x5627fc46e998 <unknown>\n#48 0x5627fc489eed <unknown>\n#49 0x7f55037ddb1a <unknown>\n",
     "output_type": "error",
     "traceback": [
      "\u001b[0;31m---------------------------------------------------------------------------\u001b[0m",
      "\u001b[0;31mSessionNotCreatedException\u001b[0m                Traceback (most recent call last)",
      "\u001b[1;32m/var/home/alex/Documentos/Repos/Online/DatathonProject/apiZipcode copy.ipynb Cell 17'\u001b[0m in \u001b[0;36m<module>\u001b[0;34m\u001b[0m\n\u001b[1;32m      <a href='vscode-notebook-cell:/var/home/alex/Documentos/Repos/Online/DatathonProject/apiZipcode%20copy.ipynb#ch0000016?line=1'>2</a>\u001b[0m opts \u001b[39m=\u001b[39m Options()\n\u001b[1;32m      <a href='vscode-notebook-cell:/var/home/alex/Documentos/Repos/Online/DatathonProject/apiZipcode%20copy.ipynb#ch0000016?line=2'>3</a>\u001b[0m opts\u001b[39m.\u001b[39mbinary_location \u001b[39m=\u001b[39m \u001b[39m\"\u001b[39m\u001b[39m/usr/bin/chromium-browser\u001b[39m\u001b[39m\"\u001b[39m\n\u001b[0;32m----> <a href='vscode-notebook-cell:/var/home/alex/Documentos/Repos/Online/DatathonProject/apiZipcode%20copy.ipynb#ch0000016?line=3'>4</a>\u001b[0m driver \u001b[39m=\u001b[39m webdriver\u001b[39m.\u001b[39;49mChrome(options\u001b[39m=\u001b[39;49mopts)\n\u001b[1;32m      <a href='vscode-notebook-cell:/var/home/alex/Documentos/Repos/Online/DatathonProject/apiZipcode%20copy.ipynb#ch0000016?line=5'>6</a>\u001b[0m driver\u001b[39m.\u001b[39mget(\u001b[39m\"\u001b[39m\u001b[39mhttps://worldpostalcode.com/lookup\u001b[39m\u001b[39m\"\u001b[39m)\n\u001b[1;32m      <a href='vscode-notebook-cell:/var/home/alex/Documentos/Repos/Online/DatathonProject/apiZipcode%20copy.ipynb#ch0000016?line=6'>7</a>\u001b[0m driver\u001b[39m.\u001b[39mset_page_load_timeout(\u001b[39m5\u001b[39m)\n",
      "File \u001b[0;32m~/Documentos/Repos/Online/DatathonProject/penv/lib/python3.10/site-packages/selenium/webdriver/chrome/webdriver.py:70\u001b[0m, in \u001b[0;36mWebDriver.__init__\u001b[0;34m(self, executable_path, port, options, service_args, desired_capabilities, service_log_path, chrome_options, service, keep_alive)\u001b[0m\n\u001b[1;32m     <a href='file:///var/home/alex/Documentos/Repos/Online/DatathonProject/penv/lib/python3.10/site-packages/selenium/webdriver/chrome/webdriver.py?line=66'>67</a>\u001b[0m \u001b[39mif\u001b[39;00m \u001b[39mnot\u001b[39;00m service:\n\u001b[1;32m     <a href='file:///var/home/alex/Documentos/Repos/Online/DatathonProject/penv/lib/python3.10/site-packages/selenium/webdriver/chrome/webdriver.py?line=67'>68</a>\u001b[0m     service \u001b[39m=\u001b[39m Service(executable_path, port, service_args, service_log_path)\n\u001b[0;32m---> <a href='file:///var/home/alex/Documentos/Repos/Online/DatathonProject/penv/lib/python3.10/site-packages/selenium/webdriver/chrome/webdriver.py?line=69'>70</a>\u001b[0m \u001b[39msuper\u001b[39;49m(WebDriver, \u001b[39mself\u001b[39;49m)\u001b[39m.\u001b[39;49m\u001b[39m__init__\u001b[39;49m(DesiredCapabilities\u001b[39m.\u001b[39;49mCHROME[\u001b[39m'\u001b[39;49m\u001b[39mbrowserName\u001b[39;49m\u001b[39m'\u001b[39;49m], \u001b[39m\"\u001b[39;49m\u001b[39mgoog\u001b[39;49m\u001b[39m\"\u001b[39;49m,\n\u001b[1;32m     <a href='file:///var/home/alex/Documentos/Repos/Online/DatathonProject/penv/lib/python3.10/site-packages/selenium/webdriver/chrome/webdriver.py?line=70'>71</a>\u001b[0m                                 port, options,\n\u001b[1;32m     <a href='file:///var/home/alex/Documentos/Repos/Online/DatathonProject/penv/lib/python3.10/site-packages/selenium/webdriver/chrome/webdriver.py?line=71'>72</a>\u001b[0m                                 service_args, desired_capabilities,\n\u001b[1;32m     <a href='file:///var/home/alex/Documentos/Repos/Online/DatathonProject/penv/lib/python3.10/site-packages/selenium/webdriver/chrome/webdriver.py?line=72'>73</a>\u001b[0m                                 service_log_path, service, keep_alive)\n",
      "File \u001b[0;32m~/Documentos/Repos/Online/DatathonProject/penv/lib/python3.10/site-packages/selenium/webdriver/chromium/webdriver.py:93\u001b[0m, in \u001b[0;36mChromiumDriver.__init__\u001b[0;34m(self, browser_name, vendor_prefix, port, options, service_args, desired_capabilities, service_log_path, service, keep_alive)\u001b[0m\n\u001b[1;32m     <a href='file:///var/home/alex/Documentos/Repos/Online/DatathonProject/penv/lib/python3.10/site-packages/selenium/webdriver/chromium/webdriver.py?line=89'>90</a>\u001b[0m \u001b[39mself\u001b[39m\u001b[39m.\u001b[39mservice\u001b[39m.\u001b[39mstart()\n\u001b[1;32m     <a href='file:///var/home/alex/Documentos/Repos/Online/DatathonProject/penv/lib/python3.10/site-packages/selenium/webdriver/chromium/webdriver.py?line=91'>92</a>\u001b[0m \u001b[39mtry\u001b[39;00m:\n\u001b[0;32m---> <a href='file:///var/home/alex/Documentos/Repos/Online/DatathonProject/penv/lib/python3.10/site-packages/selenium/webdriver/chromium/webdriver.py?line=92'>93</a>\u001b[0m     RemoteWebDriver\u001b[39m.\u001b[39;49m\u001b[39m__init__\u001b[39;49m(\n\u001b[1;32m     <a href='file:///var/home/alex/Documentos/Repos/Online/DatathonProject/penv/lib/python3.10/site-packages/selenium/webdriver/chromium/webdriver.py?line=93'>94</a>\u001b[0m         \u001b[39mself\u001b[39;49m,\n\u001b[1;32m     <a href='file:///var/home/alex/Documentos/Repos/Online/DatathonProject/penv/lib/python3.10/site-packages/selenium/webdriver/chromium/webdriver.py?line=94'>95</a>\u001b[0m         command_executor\u001b[39m=\u001b[39;49mChromiumRemoteConnection(\n\u001b[1;32m     <a href='file:///var/home/alex/Documentos/Repos/Online/DatathonProject/penv/lib/python3.10/site-packages/selenium/webdriver/chromium/webdriver.py?line=95'>96</a>\u001b[0m             remote_server_addr\u001b[39m=\u001b[39;49m\u001b[39mself\u001b[39;49m\u001b[39m.\u001b[39;49mservice\u001b[39m.\u001b[39;49mservice_url,\n\u001b[1;32m     <a href='file:///var/home/alex/Documentos/Repos/Online/DatathonProject/penv/lib/python3.10/site-packages/selenium/webdriver/chromium/webdriver.py?line=96'>97</a>\u001b[0m             browser_name\u001b[39m=\u001b[39;49mbrowser_name, vendor_prefix\u001b[39m=\u001b[39;49mvendor_prefix,\n\u001b[1;32m     <a href='file:///var/home/alex/Documentos/Repos/Online/DatathonProject/penv/lib/python3.10/site-packages/selenium/webdriver/chromium/webdriver.py?line=97'>98</a>\u001b[0m             keep_alive\u001b[39m=\u001b[39;49mkeep_alive, ignore_proxy\u001b[39m=\u001b[39;49m_ignore_proxy),\n\u001b[1;32m     <a href='file:///var/home/alex/Documentos/Repos/Online/DatathonProject/penv/lib/python3.10/site-packages/selenium/webdriver/chromium/webdriver.py?line=98'>99</a>\u001b[0m         options\u001b[39m=\u001b[39;49moptions)\n\u001b[1;32m    <a href='file:///var/home/alex/Documentos/Repos/Online/DatathonProject/penv/lib/python3.10/site-packages/selenium/webdriver/chromium/webdriver.py?line=99'>100</a>\u001b[0m \u001b[39mexcept\u001b[39;00m \u001b[39mException\u001b[39;00m:\n\u001b[1;32m    <a href='file:///var/home/alex/Documentos/Repos/Online/DatathonProject/penv/lib/python3.10/site-packages/selenium/webdriver/chromium/webdriver.py?line=100'>101</a>\u001b[0m     \u001b[39mself\u001b[39m\u001b[39m.\u001b[39mquit()\n",
      "File \u001b[0;32m~/Documentos/Repos/Online/DatathonProject/penv/lib/python3.10/site-packages/selenium/webdriver/remote/webdriver.py:269\u001b[0m, in \u001b[0;36mWebDriver.__init__\u001b[0;34m(self, command_executor, desired_capabilities, browser_profile, proxy, keep_alive, file_detector, options)\u001b[0m\n\u001b[1;32m    <a href='file:///var/home/alex/Documentos/Repos/Online/DatathonProject/penv/lib/python3.10/site-packages/selenium/webdriver/remote/webdriver.py?line=266'>267</a>\u001b[0m \u001b[39mself\u001b[39m\u001b[39m.\u001b[39mfile_detector \u001b[39m=\u001b[39m file_detector \u001b[39mor\u001b[39;00m LocalFileDetector()\n\u001b[1;32m    <a href='file:///var/home/alex/Documentos/Repos/Online/DatathonProject/penv/lib/python3.10/site-packages/selenium/webdriver/remote/webdriver.py?line=267'>268</a>\u001b[0m \u001b[39mself\u001b[39m\u001b[39m.\u001b[39mstart_client()\n\u001b[0;32m--> <a href='file:///var/home/alex/Documentos/Repos/Online/DatathonProject/penv/lib/python3.10/site-packages/selenium/webdriver/remote/webdriver.py?line=268'>269</a>\u001b[0m \u001b[39mself\u001b[39;49m\u001b[39m.\u001b[39;49mstart_session(capabilities, browser_profile)\n",
      "File \u001b[0;32m~/Documentos/Repos/Online/DatathonProject/penv/lib/python3.10/site-packages/selenium/webdriver/remote/webdriver.py:360\u001b[0m, in \u001b[0;36mWebDriver.start_session\u001b[0;34m(self, capabilities, browser_profile)\u001b[0m\n\u001b[1;32m    <a href='file:///var/home/alex/Documentos/Repos/Online/DatathonProject/penv/lib/python3.10/site-packages/selenium/webdriver/remote/webdriver.py?line=356'>357</a>\u001b[0m w3c_caps \u001b[39m=\u001b[39m _make_w3c_caps(capabilities)\n\u001b[1;32m    <a href='file:///var/home/alex/Documentos/Repos/Online/DatathonProject/penv/lib/python3.10/site-packages/selenium/webdriver/remote/webdriver.py?line=357'>358</a>\u001b[0m parameters \u001b[39m=\u001b[39m {\u001b[39m\"\u001b[39m\u001b[39mcapabilities\u001b[39m\u001b[39m\"\u001b[39m: w3c_caps,\n\u001b[1;32m    <a href='file:///var/home/alex/Documentos/Repos/Online/DatathonProject/penv/lib/python3.10/site-packages/selenium/webdriver/remote/webdriver.py?line=358'>359</a>\u001b[0m               \u001b[39m\"\u001b[39m\u001b[39mdesiredCapabilities\u001b[39m\u001b[39m\"\u001b[39m: capabilities}\n\u001b[0;32m--> <a href='file:///var/home/alex/Documentos/Repos/Online/DatathonProject/penv/lib/python3.10/site-packages/selenium/webdriver/remote/webdriver.py?line=359'>360</a>\u001b[0m response \u001b[39m=\u001b[39m \u001b[39mself\u001b[39;49m\u001b[39m.\u001b[39;49mexecute(Command\u001b[39m.\u001b[39;49mNEW_SESSION, parameters)\n\u001b[1;32m    <a href='file:///var/home/alex/Documentos/Repos/Online/DatathonProject/penv/lib/python3.10/site-packages/selenium/webdriver/remote/webdriver.py?line=360'>361</a>\u001b[0m \u001b[39mif\u001b[39;00m \u001b[39m'\u001b[39m\u001b[39msessionId\u001b[39m\u001b[39m'\u001b[39m \u001b[39mnot\u001b[39;00m \u001b[39min\u001b[39;00m response:\n\u001b[1;32m    <a href='file:///var/home/alex/Documentos/Repos/Online/DatathonProject/penv/lib/python3.10/site-packages/selenium/webdriver/remote/webdriver.py?line=361'>362</a>\u001b[0m     response \u001b[39m=\u001b[39m response[\u001b[39m'\u001b[39m\u001b[39mvalue\u001b[39m\u001b[39m'\u001b[39m]\n",
      "File \u001b[0;32m~/Documentos/Repos/Online/DatathonProject/penv/lib/python3.10/site-packages/selenium/webdriver/remote/webdriver.py:425\u001b[0m, in \u001b[0;36mWebDriver.execute\u001b[0;34m(self, driver_command, params)\u001b[0m\n\u001b[1;32m    <a href='file:///var/home/alex/Documentos/Repos/Online/DatathonProject/penv/lib/python3.10/site-packages/selenium/webdriver/remote/webdriver.py?line=422'>423</a>\u001b[0m response \u001b[39m=\u001b[39m \u001b[39mself\u001b[39m\u001b[39m.\u001b[39mcommand_executor\u001b[39m.\u001b[39mexecute(driver_command, params)\n\u001b[1;32m    <a href='file:///var/home/alex/Documentos/Repos/Online/DatathonProject/penv/lib/python3.10/site-packages/selenium/webdriver/remote/webdriver.py?line=423'>424</a>\u001b[0m \u001b[39mif\u001b[39;00m response:\n\u001b[0;32m--> <a href='file:///var/home/alex/Documentos/Repos/Online/DatathonProject/penv/lib/python3.10/site-packages/selenium/webdriver/remote/webdriver.py?line=424'>425</a>\u001b[0m     \u001b[39mself\u001b[39;49m\u001b[39m.\u001b[39;49merror_handler\u001b[39m.\u001b[39;49mcheck_response(response)\n\u001b[1;32m    <a href='file:///var/home/alex/Documentos/Repos/Online/DatathonProject/penv/lib/python3.10/site-packages/selenium/webdriver/remote/webdriver.py?line=425'>426</a>\u001b[0m     response[\u001b[39m'\u001b[39m\u001b[39mvalue\u001b[39m\u001b[39m'\u001b[39m] \u001b[39m=\u001b[39m \u001b[39mself\u001b[39m\u001b[39m.\u001b[39m_unwrap_value(\n\u001b[1;32m    <a href='file:///var/home/alex/Documentos/Repos/Online/DatathonProject/penv/lib/python3.10/site-packages/selenium/webdriver/remote/webdriver.py?line=426'>427</a>\u001b[0m         response\u001b[39m.\u001b[39mget(\u001b[39m'\u001b[39m\u001b[39mvalue\u001b[39m\u001b[39m'\u001b[39m, \u001b[39mNone\u001b[39;00m))\n\u001b[1;32m    <a href='file:///var/home/alex/Documentos/Repos/Online/DatathonProject/penv/lib/python3.10/site-packages/selenium/webdriver/remote/webdriver.py?line=427'>428</a>\u001b[0m     \u001b[39mreturn\u001b[39;00m response\n",
      "File \u001b[0;32m~/Documentos/Repos/Online/DatathonProject/penv/lib/python3.10/site-packages/selenium/webdriver/remote/errorhandler.py:247\u001b[0m, in \u001b[0;36mErrorHandler.check_response\u001b[0;34m(self, response)\u001b[0m\n\u001b[1;32m    <a href='file:///var/home/alex/Documentos/Repos/Online/DatathonProject/penv/lib/python3.10/site-packages/selenium/webdriver/remote/errorhandler.py?line=244'>245</a>\u001b[0m         alert_text \u001b[39m=\u001b[39m value[\u001b[39m'\u001b[39m\u001b[39malert\u001b[39m\u001b[39m'\u001b[39m]\u001b[39m.\u001b[39mget(\u001b[39m'\u001b[39m\u001b[39mtext\u001b[39m\u001b[39m'\u001b[39m)\n\u001b[1;32m    <a href='file:///var/home/alex/Documentos/Repos/Online/DatathonProject/penv/lib/python3.10/site-packages/selenium/webdriver/remote/errorhandler.py?line=245'>246</a>\u001b[0m     \u001b[39mraise\u001b[39;00m exception_class(message, screen, stacktrace, alert_text)  \u001b[39m# type: ignore[call-arg]  # mypy is not smart enough here\u001b[39;00m\n\u001b[0;32m--> <a href='file:///var/home/alex/Documentos/Repos/Online/DatathonProject/penv/lib/python3.10/site-packages/selenium/webdriver/remote/errorhandler.py?line=246'>247</a>\u001b[0m \u001b[39mraise\u001b[39;00m exception_class(message, screen, stacktrace)\n",
      "\u001b[0;31mSessionNotCreatedException\u001b[0m: Message: session not created\nfrom disconnected: received Inspector.detached event\n  (Session info: chrome=96.0.4664.110)\nStacktrace:\n#0 0x5627fc40aee3 <unknown>\n#1 0x5627fbed8608 <unknown>\n#2 0x5627fbec4fa5 <unknown>\n#3 0x5627fbec4a05 <unknown>\n#4 0x5627fbec3f35 <unknown>\n#5 0x5627fbec2d43 <unknown>\n#6 0x5627fbec3093 <unknown>\n#7 0x5627fbec26c1 <unknown>\n#8 0x5627fbed1d30 <unknown>\n#9 0x5627fbec2663 <unknown>\n#10 0x5627fbec39d9 <unknown>\n#11 0x5627fbec2d43 <unknown>\n#12 0x5627fbec3093 <unknown>\n#13 0x5627fbec26c1 <unknown>\n#14 0x5627fbecf59d <unknown>\n#15 0x5627fbec2663 <unknown>\n#16 0x5627fbec39d9 <unknown>\n#17 0x5627fbec2d43 <unknown>\n#18 0x5627fbec3093 <unknown>\n#19 0x5627fbec26c1 <unknown>\n#20 0x5627fbecaecb <unknown>\n#21 0x5627fbec2663 <unknown>\n#22 0x5627fbec39d9 <unknown>\n#23 0x5627fbec2d43 <unknown>\n#24 0x5627fbec3093 <unknown>\n#25 0x5627fbec26c1 <unknown>\n#26 0x5627fbec9efa <unknown>\n#27 0x5627fbec2663 <unknown>\n#28 0x5627fbec39d9 <unknown>\n#29 0x5627fbec2d43 <unknown>\n#30 0x5627fbec3093 <unknown>\n#31 0x5627fbec26c1 <unknown>\n#32 0x5627fbebd15a <unknown>\n#33 0x5627fbec2663 <unknown>\n#34 0x5627fbec2555 <unknown>\n#35 0x5627fbec1ff0 <unknown>\n#36 0x5627fbed9a02 <unknown>\n#37 0x5627fbf333ea <unknown>\n#38 0x5627fbf2c163 <unknown>\n#39 0x5627fbf01bfc <unknown>\n#40 0x5627fbf02c05 <unknown>\n#41 0x5627fc43cbaa <unknown>\n#42 0x5627fc452651 <unknown>\n#43 0x5627fc43db05 <unknown>\n#44 0x5627fc453a68 <unknown>\n#45 0x5627fc43205f <unknown>\n#46 0x5627fc46e818 <unknown>\n#47 0x5627fc46e998 <unknown>\n#48 0x5627fc489eed <unknown>\n#49 0x7f55037ddb1a <unknown>\n"
     ]
    }
   ],
   "source": [
    "try:\n",
    "    opts = Options()\n",
    "    opts.binary_location = \"/usr/bin/chromium-browser\"\n",
    "    driver = webdriver.Chrome(options=opts)\n",
    "\n",
    "    driver.get(\"https://worldpostalcode.com/lookup\")\n",
    "    driver.set_page_load_timeout(5)\n",
    "\n",
    "    for element in rawDataZipcode:\n",
    "        insertZipcode =driver.find_element(By.ID,\"search\")\n",
    "        insertZipcode.clear()\n",
    "        insertZipcode.send_keys(element[1])\n",
    "        clickButtonZipcode =driver.find_element(By.CLASS_NAME,\"submit\")\n",
    "        clickButtonZipcode.click()\n",
    "        driver.set_page_load_timeout(5)\n",
    "\n",
    "        getGeoInfo = driver.find_element(By.CLASS_NAME,\"search_units\")\n",
    "        saveGeoInfo = getGeoInfo.text\n",
    "\n",
    "        if element[0] not in masterScrapping:\n",
    "            zipCodeDef = zipCodeManipulation(element[0], element[1], saveGeoInfo)\n",
    "        else:\n",
    "            zipCodeDef = zipCodeManipulation(element[0], element[1], saveGeoInfo, saved = True)\n",
    "\n",
    "        masterScrapping.append(zipCodeDef)\n",
    "\n",
    "    driver.close()\n",
    "\n",
    "except IndexError:\n",
    "    driver.close()\n",
    "    raise Exception(f\"El fallo se ha producido con ciudad: {element[0]}, zipcode: {element[1]}\")"
   ]
  },
  {
   "cell_type": "code",
   "execution_count": 17,
   "metadata": {},
   "outputs": [
    {
     "data": {
      "text/plain": [
       "9"
      ]
     },
     "execution_count": 17,
     "metadata": {},
     "output_type": "execute_result"
    }
   ],
   "source": [
    "len(masterScrapping)"
   ]
  },
  {
   "cell_type": "code",
   "execution_count": 30,
   "metadata": {},
   "outputs": [],
   "source": [
    "asd = pd.DataFrame(masterScrapping, columns=[\"Country\",\"Region\",\"City\",\"Zipcode\"])"
   ]
  },
  {
   "cell_type": "code",
   "execution_count": 32,
   "metadata": {},
   "outputs": [
    {
     "data": {
      "text/html": [
       "<div>\n",
       "<style scoped>\n",
       "    .dataframe tbody tr th:only-of-type {\n",
       "        vertical-align: middle;\n",
       "    }\n",
       "\n",
       "    .dataframe tbody tr th {\n",
       "        vertical-align: top;\n",
       "    }\n",
       "\n",
       "    .dataframe thead th {\n",
       "        text-align: right;\n",
       "    }\n",
       "</style>\n",
       "<table border=\"1\" class=\"dataframe\">\n",
       "  <thead>\n",
       "    <tr style=\"text-align: right;\">\n",
       "      <th></th>\n",
       "      <th>Country</th>\n",
       "      <th>Region</th>\n",
       "      <th>City</th>\n",
       "      <th>Zipcode</th>\n",
       "    </tr>\n",
       "  </thead>\n",
       "  <tbody>\n",
       "    <tr>\n",
       "      <th>0</th>\n",
       "      <td>Spain</td>\n",
       "      <td>Comunidad Valenciana</td>\n",
       "      <td>Valencia</td>\n",
       "      <td>46019</td>\n",
       "    </tr>\n",
       "    <tr>\n",
       "      <th>1</th>\n",
       "      <td>Spain</td>\n",
       "      <td>Comunidad Valenciana</td>\n",
       "      <td>Valencia</td>\n",
       "      <td>46019</td>\n",
       "    </tr>\n",
       "    <tr>\n",
       "      <th>2</th>\n",
       "      <td>Spain</td>\n",
       "      <td>Comunidad Valenciana</td>\n",
       "      <td>Valencia</td>\n",
       "      <td>46019</td>\n",
       "    </tr>\n",
       "    <tr>\n",
       "      <th>3</th>\n",
       "      <td>Spain</td>\n",
       "      <td>Andalucia</td>\n",
       "      <td>Almeria</td>\n",
       "      <td>04009</td>\n",
       "    </tr>\n",
       "    <tr>\n",
       "      <th>4</th>\n",
       "      <td>Spain</td>\n",
       "      <td>Andalucia</td>\n",
       "      <td>Almeria</td>\n",
       "      <td>04009</td>\n",
       "    </tr>\n",
       "    <tr>\n",
       "      <th>5</th>\n",
       "      <td>Spain</td>\n",
       "      <td>Comunidad Valenciana</td>\n",
       "      <td>Valencia</td>\n",
       "      <td>46019</td>\n",
       "    </tr>\n",
       "    <tr>\n",
       "      <th>6</th>\n",
       "      <td>Spain</td>\n",
       "      <td>Comunidad Valenciana</td>\n",
       "      <td>Valencia</td>\n",
       "      <td>46019</td>\n",
       "    </tr>\n",
       "    <tr>\n",
       "      <th>7</th>\n",
       "      <td>Spain</td>\n",
       "      <td>Comunidad Valenciana</td>\n",
       "      <td>Valencia</td>\n",
       "      <td>46019</td>\n",
       "    </tr>\n",
       "    <tr>\n",
       "      <th>8</th>\n",
       "      <td>Spain</td>\n",
       "      <td>Andalucia</td>\n",
       "      <td>Almeria</td>\n",
       "      <td>04009</td>\n",
       "    </tr>\n",
       "    <tr>\n",
       "      <th>9</th>\n",
       "      <td>Spain</td>\n",
       "      <td>Comunidad Valenciana</td>\n",
       "      <td>Valencia</td>\n",
       "      <td>46019</td>\n",
       "    </tr>\n",
       "    <tr>\n",
       "      <th>10</th>\n",
       "      <td>Spain</td>\n",
       "      <td>Comunidad Valenciana</td>\n",
       "      <td>Valencia</td>\n",
       "      <td>46019</td>\n",
       "    </tr>\n",
       "    <tr>\n",
       "      <th>11</th>\n",
       "      <td>Spain</td>\n",
       "      <td>Comunidad Valenciana</td>\n",
       "      <td>Valencia</td>\n",
       "      <td>46019</td>\n",
       "    </tr>\n",
       "    <tr>\n",
       "      <th>12</th>\n",
       "      <td>Spain</td>\n",
       "      <td>Andalucia</td>\n",
       "      <td>Almeria</td>\n",
       "      <td>04009</td>\n",
       "    </tr>\n",
       "    <tr>\n",
       "      <th>13</th>\n",
       "      <td>Spain</td>\n",
       "      <td>Andalucia</td>\n",
       "      <td>Almeria</td>\n",
       "      <td>04009</td>\n",
       "    </tr>\n",
       "    <tr>\n",
       "      <th>14</th>\n",
       "      <td>Spain</td>\n",
       "      <td>Andalucia</td>\n",
       "      <td>Almeria</td>\n",
       "      <td>04009</td>\n",
       "    </tr>\n",
       "    <tr>\n",
       "      <th>15</th>\n",
       "      <td>Spain</td>\n",
       "      <td>Cataluna</td>\n",
       "      <td>Terrassa</td>\n",
       "      <td>08225</td>\n",
       "    </tr>\n",
       "    <tr>\n",
       "      <th>16</th>\n",
       "      <td>Spain</td>\n",
       "      <td>Cataluna</td>\n",
       "      <td>Terrassa</td>\n",
       "      <td>08225</td>\n",
       "    </tr>\n",
       "    <tr>\n",
       "      <th>17</th>\n",
       "      <td>Spain</td>\n",
       "      <td>Cataluna</td>\n",
       "      <td>Terrassa</td>\n",
       "      <td>08225</td>\n",
       "    </tr>\n",
       "    <tr>\n",
       "      <th>18</th>\n",
       "      <td>Spain</td>\n",
       "      <td>Cataluna</td>\n",
       "      <td>Terrassa</td>\n",
       "      <td>08225</td>\n",
       "    </tr>\n",
       "    <tr>\n",
       "      <th>19</th>\n",
       "      <td>Spain</td>\n",
       "      <td>Madrid</td>\n",
       "      <td>Madrid</td>\n",
       "      <td>28005</td>\n",
       "    </tr>\n",
       "    <tr>\n",
       "      <th>20</th>\n",
       "      <td>Spain</td>\n",
       "      <td>Madrid</td>\n",
       "      <td>Madrid</td>\n",
       "      <td>28005</td>\n",
       "    </tr>\n",
       "    <tr>\n",
       "      <th>21</th>\n",
       "      <td>Spain</td>\n",
       "      <td>Cataluna</td>\n",
       "      <td>Esplugues De Llobregat</td>\n",
       "      <td>08950</td>\n",
       "    </tr>\n",
       "    <tr>\n",
       "      <th>22</th>\n",
       "      <td>Spain</td>\n",
       "      <td>Cataluna</td>\n",
       "      <td>Esplugues De Llobregat</td>\n",
       "      <td>08950</td>\n",
       "    </tr>\n",
       "    <tr>\n",
       "      <th>23</th>\n",
       "      <td>Spain</td>\n",
       "      <td>Cataluna</td>\n",
       "      <td>Esplugues De Llobregat</td>\n",
       "      <td>08950</td>\n",
       "    </tr>\n",
       "    <tr>\n",
       "      <th>24</th>\n",
       "      <td>Spain</td>\n",
       "      <td>Cataluna</td>\n",
       "      <td>Esplugues De Llobregat</td>\n",
       "      <td>08950</td>\n",
       "    </tr>\n",
       "    <tr>\n",
       "      <th>25</th>\n",
       "      <td>Spain</td>\n",
       "      <td>Cataluna</td>\n",
       "      <td>Esplugues De Llobregat</td>\n",
       "      <td>08950</td>\n",
       "    </tr>\n",
       "    <tr>\n",
       "      <th>26</th>\n",
       "      <td>Spain</td>\n",
       "      <td>Cataluna</td>\n",
       "      <td>Esplugues De Llobregat</td>\n",
       "      <td>08950</td>\n",
       "    </tr>\n",
       "    <tr>\n",
       "      <th>27</th>\n",
       "      <td>Spain</td>\n",
       "      <td>Cataluna</td>\n",
       "      <td>Esplugues De Llobregat</td>\n",
       "      <td>08950</td>\n",
       "    </tr>\n",
       "    <tr>\n",
       "      <th>28</th>\n",
       "      <td>Spain</td>\n",
       "      <td>Cataluna</td>\n",
       "      <td>Esplugues De Llobregat</td>\n",
       "      <td>08950</td>\n",
       "    </tr>\n",
       "    <tr>\n",
       "      <th>29</th>\n",
       "      <td>Spain</td>\n",
       "      <td>Baleares</td>\n",
       "      <td>Palma De Mallorca</td>\n",
       "      <td>07007</td>\n",
       "    </tr>\n",
       "    <tr>\n",
       "      <th>30</th>\n",
       "      <td>Spain</td>\n",
       "      <td>Baleares</td>\n",
       "      <td>Palma De Mallorca</td>\n",
       "      <td>07007</td>\n",
       "    </tr>\n",
       "    <tr>\n",
       "      <th>31</th>\n",
       "      <td>Spain</td>\n",
       "      <td>Baleares</td>\n",
       "      <td>Palma De Mallorca</td>\n",
       "      <td>07007</td>\n",
       "    </tr>\n",
       "    <tr>\n",
       "      <th>32</th>\n",
       "      <td>Spain</td>\n",
       "      <td>Baleares</td>\n",
       "      <td>Palma De Mallorca</td>\n",
       "      <td>07007</td>\n",
       "    </tr>\n",
       "    <tr>\n",
       "      <th>33</th>\n",
       "      <td>Spain</td>\n",
       "      <td>Baleares</td>\n",
       "      <td>Palma De Mallorca</td>\n",
       "      <td>07007</td>\n",
       "    </tr>\n",
       "  </tbody>\n",
       "</table>\n",
       "</div>"
      ],
      "text/plain": [
       "   Country                Region                    City Zipcode\n",
       "0    Spain  Comunidad Valenciana                Valencia   46019\n",
       "1    Spain  Comunidad Valenciana                Valencia   46019\n",
       "2    Spain  Comunidad Valenciana                Valencia   46019\n",
       "3    Spain             Andalucia                 Almeria   04009\n",
       "4    Spain             Andalucia                 Almeria   04009\n",
       "5    Spain  Comunidad Valenciana                Valencia   46019\n",
       "6    Spain  Comunidad Valenciana                Valencia   46019\n",
       "7    Spain  Comunidad Valenciana                Valencia   46019\n",
       "8    Spain             Andalucia                 Almeria   04009\n",
       "9    Spain  Comunidad Valenciana                Valencia   46019\n",
       "10   Spain  Comunidad Valenciana                Valencia   46019\n",
       "11   Spain  Comunidad Valenciana                Valencia   46019\n",
       "12   Spain             Andalucia                 Almeria   04009\n",
       "13   Spain             Andalucia                 Almeria   04009\n",
       "14   Spain             Andalucia                 Almeria   04009\n",
       "15   Spain              Cataluna                Terrassa   08225\n",
       "16   Spain              Cataluna                Terrassa   08225\n",
       "17   Spain              Cataluna                Terrassa   08225\n",
       "18   Spain              Cataluna                Terrassa   08225\n",
       "19   Spain                Madrid                  Madrid   28005\n",
       "20   Spain                Madrid                  Madrid   28005\n",
       "21   Spain              Cataluna  Esplugues De Llobregat   08950\n",
       "22   Spain              Cataluna  Esplugues De Llobregat   08950\n",
       "23   Spain              Cataluna  Esplugues De Llobregat   08950\n",
       "24   Spain              Cataluna  Esplugues De Llobregat   08950\n",
       "25   Spain              Cataluna  Esplugues De Llobregat   08950\n",
       "26   Spain              Cataluna  Esplugues De Llobregat   08950\n",
       "27   Spain              Cataluna  Esplugues De Llobregat   08950\n",
       "28   Spain              Cataluna  Esplugues De Llobregat   08950\n",
       "29   Spain              Baleares       Palma De Mallorca   07007\n",
       "30   Spain              Baleares       Palma De Mallorca   07007\n",
       "31   Spain              Baleares       Palma De Mallorca   07007\n",
       "32   Spain              Baleares       Palma De Mallorca   07007\n",
       "33   Spain              Baleares       Palma De Mallorca   07007"
      ]
     },
     "execution_count": 32,
     "metadata": {},
     "output_type": "execute_result"
    }
   ],
   "source": [
    "asd.head(50)"
   ]
  },
  {
   "cell_type": "code",
   "execution_count": 46,
   "metadata": {},
   "outputs": [],
   "source": [
    "qwerty = '\"Huesos, articulaciones y músculos, Colágeno'"
   ]
  },
  {
   "cell_type": "code",
   "execution_count": 47,
   "metadata": {},
   "outputs": [],
   "source": [
    "asd =  [element for element in [rowex for rowex in qwerty] if '\"' in element]"
   ]
  },
  {
   "cell_type": "code",
   "execution_count": 48,
   "metadata": {},
   "outputs": [
    {
     "data": {
      "text/plain": [
       "['\"']"
      ]
     },
     "execution_count": 48,
     "metadata": {},
     "output_type": "execute_result"
    }
   ],
   "source": [
    "asd"
   ]
  },
  {
   "cell_type": "code",
   "execution_count": null,
   "metadata": {},
   "outputs": [],
   "source": []
  },
  {
   "cell_type": "code",
   "execution_count": 25,
   "metadata": {},
   "outputs": [],
   "source": [
    "import re"
   ]
  },
  {
   "cell_type": "code",
   "execution_count": 55,
   "metadata": {},
   "outputs": [],
   "source": [
    "test2 = re.findall(\"([^;]*)\", element)"
   ]
  },
  {
   "cell_type": "code",
   "execution_count": 57,
   "metadata": {},
   "outputs": [
    {
     "data": {
      "text/plain": [
       "['Colágeno', '']"
      ]
     },
     "execution_count": 57,
     "metadata": {},
     "output_type": "execute_result"
    }
   ],
   "source": [
    "test2"
   ]
  },
  {
   "cell_type": "code",
   "execution_count": null,
   "metadata": {},
   "outputs": [],
   "source": [
    "mask = categories_sep[['cat2', 'cat3', '2']].isna().all(axis=1)"
   ]
  },
  {
   "cell_type": "code",
   "execution_count": null,
   "metadata": {},
   "outputs": [],
   "source": [
    "categories_sep[mask, ['cat2', 'cat3', '2']] = categories_sep[mask, ['cat2', 'cat3', '2']].shift(1, axis=1)"
   ]
  },
  {
   "cell_type": "code",
   "execution_count": null,
   "metadata": {},
   "outputs": [],
   "source": [
    "categories_sep_2_3.iloc[lambda x: x == None]"
   ]
  }
 ],
 "metadata": {
  "interpreter": {
   "hash": "f876c6d03db2a1b556a458eeb23dadf5ec8e4266298f30cdd70e3128597d8f66"
  },
  "kernelspec": {
   "display_name": "Python 3.10.2 ('penv': venv)",
   "language": "python",
   "name": "python3"
  },
  "language_info": {
   "codemirror_mode": {
    "name": "ipython",
    "version": 3
   },
   "file_extension": ".py",
   "mimetype": "text/x-python",
   "name": "python",
   "nbconvert_exporter": "python",
   "pygments_lexer": "ipython3",
   "version": "3.10.2"
  },
  "orig_nbformat": 4
 },
 "nbformat": 4,
 "nbformat_minor": 2
}
