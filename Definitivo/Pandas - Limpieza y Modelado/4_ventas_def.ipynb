{
 "cells": [
  {
   "cell_type": "markdown",
   "id": "cc0c7e3f",
   "metadata": {},
   "source": [
    "### Importación de librerías"
   ]
  },
  {
   "cell_type": "code",
   "execution_count": 1,
   "id": "5ae4cc0b",
   "metadata": {},
   "outputs": [],
   "source": [
    "import pandas as pd\n",
    "import numpy as np\n",
    "import sys"
   ]
  },
  {
   "cell_type": "markdown",
   "id": "a46d74e4",
   "metadata": {},
   "source": [
    "## Inicio de la depuración"
   ]
  },
  {
   "cell_type": "code",
   "execution_count": null,
   "id": "737ef3fb",
   "metadata": {},
   "outputs": [],
   "source": [
    "# Carga de df\n",
    "df_ventas = pd.read_csv(\"df_ventas_2.csv\")\n",
    "df_zipcodes = pd.read_csv(\"df_products_dep.csv\")"
   ]
  },
  {
   "cell_type": "code",
   "execution_count": null,
   "id": "55340a96",
   "metadata": {},
   "outputs": [],
   "source": [
    "# Se elimina la columna derivada de los indices\n",
    "df_ventas.drop(columns=\"Unnamed: 0\",inplace=True)\n",
    "df_zipcodes.drop(columns=\"Unnamed: 0\",inplace=True)"
   ]
  },
  {
   "cell_type": "code",
   "execution_count": null,
   "id": "02129b5e",
   "metadata": {},
   "outputs": [],
   "source": [
    "df_ventas_full = df_ventas.merge(df_zipcodes, how=\"left\", on=\"product_id\")"
   ]
  },
  {
   "cell_type": "markdown",
   "id": "4cfe0493",
   "metadata": {},
   "source": [
    "Se hace drop de las categorías, ya que la dos y tres contienen muchos valores perdidos, y la cat1 se encuentra recogida en analytic_category"
   ]
  },
  {
   "cell_type": "code",
   "execution_count": null,
   "id": "50145ddb",
   "metadata": {},
   "outputs": [],
   "source": [
    "# \n",
    "df_ventas_full.drop(columns = df_ventas_full.loc[:, [\"cat1\", \"cat2\", \"cat3\"]], inplace=True, axis=1)"
   ]
  },
  {
   "cell_type": "code",
   "execution_count": null,
   "id": "86340a1c",
   "metadata": {},
   "outputs": [
    {
     "data": {
      "text/plain": [
       "item_id                  0\n",
       "num_order                0\n",
       "created_at               0\n",
       "product_id               0\n",
       "qty_ordered              0\n",
       "base_cost             2330\n",
       "price                    0\n",
       "discount_percent         0\n",
       "customer_id              0\n",
       "zipcode                  0\n",
       "longitud_zip             0\n",
       "country                  0\n",
       "region                   0\n",
       "city                     0\n",
       "date                     0\n",
       "year                     0\n",
       "hour                     0\n",
       "week                     0\n",
       "day                      0\n",
       "margin_total          2330\n",
       "price_total              0\n",
       "sku                  27125\n",
       "name                 27125\n",
       "marca_value          27127\n",
       "short_description    27286\n",
       "analytic_category    90727\n",
       "picture              27267\n",
       "nombre_corto         27125\n",
       "dtype: int64"
      ]
     },
     "execution_count": 8,
     "metadata": {},
     "output_type": "execute_result"
    }
   ],
   "source": [
    "df_ventas_full.isna().sum()"
   ]
  },
  {
   "cell_type": "code",
   "execution_count": null,
   "id": "cd0d8b27",
   "metadata": {},
   "outputs": [],
   "source": [
    "df_ventas_full[\"product_id\"] = df_ventas_full[\"product_id\"].astype(\"float\", errors=\"ignore\")"
   ]
  },
  {
   "cell_type": "markdown",
   "id": "c6241fb6",
   "metadata": {},
   "source": [
    "Borramos columnas con poco valor para visualización y modelización que además contienen valores perdidos y que su imputación estaría expuesta a ser de forma semi aleatoria."
   ]
  },
  {
   "cell_type": "code",
   "execution_count": null,
   "id": "04b847b5",
   "metadata": {},
   "outputs": [],
   "source": [
    "df_ventas_full.drop(columns = df_ventas_full.loc[:, [\"sku\", \"short_description\", \"picture\"]], inplace=True, axis=1)"
   ]
  },
  {
   "cell_type": "markdown",
   "id": "bb01ef25",
   "metadata": {},
   "source": [
    "**Exportación final de resultados**"
   ]
  },
  {
   "cell_type": "code",
   "execution_count": null,
   "id": "c466041c",
   "metadata": {},
   "outputs": [],
   "source": [
    "df_ventas_full.to_csv(\"df_ventas_3.csv\")"
   ]
  },
  {
   "cell_type": "markdown",
   "id": "f0da89fc",
   "metadata": {},
   "source": [
    "Imputación por randomforest de los valores perdidos mediante la librería de missingpy"
   ]
  }
 ],
 "metadata": {
  "kernelspec": {
   "display_name": "Python 3 (ipykernel)",
   "language": "python",
   "name": "python3"
  },
  "language_info": {
   "codemirror_mode": {
    "name": "ipython",
    "version": 3
   },
   "file_extension": ".py",
   "mimetype": "text/x-python",
   "name": "python",
   "nbconvert_exporter": "python",
   "pygments_lexer": "ipython3",
   "version": "3.10.1"
  }
 },
 "nbformat": 4,
 "nbformat_minor": 5
}
