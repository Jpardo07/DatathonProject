{
 "cells": [
  {
   "cell_type": "markdown",
   "metadata": {},
   "source": [
    "### Libraries import"
   ]
  },
  {
   "cell_type": "code",
   "execution_count": 150,
   "metadata": {},
   "outputs": [],
   "source": [
    "import pandas as pd # Dataframes management\n",
    "from zipfile import ZipFile  # Files compressed management\n",
    "import os # Files management along OS\n",
    "\n",
    "from selenium import webdriver # Webscrapping bot\n",
    "from selenium.webdriver.chrome.options import Options\n",
    "from selenium.webdriver.common.by import By\n",
    "import time\n"
   ]
  },
  {
   "cell_type": "markdown",
   "metadata": {},
   "source": [
    "### Data import"
   ]
  },
  {
   "cell_type": "code",
   "execution_count": 105,
   "metadata": {},
   "outputs": [
    {
     "name": "stdout",
     "output_type": "stream",
     "text": [
      "File Name                                             Modified             Size\n",
      "items_ordered_2years_V2.csv                    2022-02-23 01:28:04    150372498\n",
      "extraction...\n",
      "Done!\n",
      "CSV imported to Pandas successfully\n",
      "Original CSV removed to preserve repo health\n"
     ]
    }
   ],
   "source": [
    "# Specifying the name of the zip file\n",
    "file = \"Inputs/Modificados - Atmira_Pharma_Visualization/items_ordered_2years_V2.zip\"\n",
    "  \n",
    "# Open the zip file in read mode\n",
    "with ZipFile(file, 'r') as zip: \n",
    "    # List all the contents of the zip file\n",
    "    zip.printdir() \n",
    "  \n",
    "    # Extract all files\n",
    "    print('extraction...') \n",
    "    zip.extractall(\"Inputs/Modificados - Atmira_Pharma_Visualization\") \n",
    "    print('Done!')\n",
    "\n",
    "#Import CSV to pandas\n",
    "itemsOrdered = pd.read_csv(\"Inputs/Modificados - Atmira_Pharma_Visualization/items_ordered_2years_V2.csv\")\n",
    "print(\"CSV imported to Pandas successfully\")\n",
    "\n",
    "# Remove uncompressed CSV file\n",
    "os.remove(\"Inputs/Modificados - Atmira_Pharma_Visualization/items_ordered_2years_V2.csv\")\n",
    "print(\"Original CSV removed to preserve repo health\")"
   ]
  },
  {
   "cell_type": "code",
   "execution_count": 106,
   "metadata": {},
   "outputs": [
    {
     "data": {
      "text/html": [
       "<div>\n",
       "<style scoped>\n",
       "    .dataframe tbody tr th:only-of-type {\n",
       "        vertical-align: middle;\n",
       "    }\n",
       "\n",
       "    .dataframe tbody tr th {\n",
       "        vertical-align: top;\n",
       "    }\n",
       "\n",
       "    .dataframe thead th {\n",
       "        text-align: right;\n",
       "    }\n",
       "</style>\n",
       "<table border=\"1\" class=\"dataframe\">\n",
       "  <thead>\n",
       "    <tr style=\"text-align: right;\">\n",
       "      <th></th>\n",
       "      <th>num_order</th>\n",
       "      <th>item_id</th>\n",
       "      <th>created_at</th>\n",
       "      <th>product_id</th>\n",
       "      <th>qty_ordered</th>\n",
       "      <th>base_cost</th>\n",
       "      <th>price</th>\n",
       "      <th>discount_percent</th>\n",
       "      <th>customer_id</th>\n",
       "      <th>city</th>\n",
       "      <th>zipcode</th>\n",
       "    </tr>\n",
       "  </thead>\n",
       "  <tbody>\n",
       "    <tr>\n",
       "      <th>0</th>\n",
       "      <td>562ba4ba9aaf2a1e926842deca19271d</td>\n",
       "      <td>2bca87c2ab10b07feef290a9be47f316</td>\n",
       "      <td>2017-01-01 00:20:33</td>\n",
       "      <td>6409.0</td>\n",
       "      <td>1.0</td>\n",
       "      <td>13.4204</td>\n",
       "      <td>17.17</td>\n",
       "      <td>8.0</td>\n",
       "      <td>50d7f99947b472cc889d58845b9d23e2</td>\n",
       "      <td>Valencia</td>\n",
       "      <td>46019</td>\n",
       "    </tr>\n",
       "    <tr>\n",
       "      <th>1</th>\n",
       "      <td>562ba4ba9aaf2a1e926842deca19271d</td>\n",
       "      <td>53e12ac4b579f0c4b1c4f77d50bf8792</td>\n",
       "      <td>2017-01-01 00:20:33</td>\n",
       "      <td>5133.0</td>\n",
       "      <td>1.0</td>\n",
       "      <td>18.5351</td>\n",
       "      <td>22.68</td>\n",
       "      <td>8.0</td>\n",
       "      <td>50d7f99947b472cc889d58845b9d23e2</td>\n",
       "      <td>Valencia</td>\n",
       "      <td>46019</td>\n",
       "    </tr>\n",
       "    <tr>\n",
       "      <th>2</th>\n",
       "      <td>562ba4ba9aaf2a1e926842deca19271d</td>\n",
       "      <td>d19d6df5cd6a1e741408b70aa2767bf4</td>\n",
       "      <td>2017-01-01 00:20:33</td>\n",
       "      <td>5125.0</td>\n",
       "      <td>1.0</td>\n",
       "      <td>18.5260</td>\n",
       "      <td>22.68</td>\n",
       "      <td>8.0</td>\n",
       "      <td>50d7f99947b472cc889d58845b9d23e2</td>\n",
       "      <td>Valencia</td>\n",
       "      <td>46019</td>\n",
       "    </tr>\n",
       "  </tbody>\n",
       "</table>\n",
       "</div>"
      ],
      "text/plain": [
       "                          num_order                           item_id  \\\n",
       "0  562ba4ba9aaf2a1e926842deca19271d  2bca87c2ab10b07feef290a9be47f316   \n",
       "1  562ba4ba9aaf2a1e926842deca19271d  53e12ac4b579f0c4b1c4f77d50bf8792   \n",
       "2  562ba4ba9aaf2a1e926842deca19271d  d19d6df5cd6a1e741408b70aa2767bf4   \n",
       "\n",
       "            created_at  product_id  qty_ordered  base_cost  price  \\\n",
       "0  2017-01-01 00:20:33      6409.0          1.0    13.4204  17.17   \n",
       "1  2017-01-01 00:20:33      5133.0          1.0    18.5351  22.68   \n",
       "2  2017-01-01 00:20:33      5125.0          1.0    18.5260  22.68   \n",
       "\n",
       "   discount_percent                       customer_id      city zipcode  \n",
       "0               8.0  50d7f99947b472cc889d58845b9d23e2  Valencia   46019  \n",
       "1               8.0  50d7f99947b472cc889d58845b9d23e2  Valencia   46019  \n",
       "2               8.0  50d7f99947b472cc889d58845b9d23e2  Valencia   46019  "
      ]
     },
     "execution_count": 106,
     "metadata": {},
     "output_type": "execute_result"
    }
   ],
   "source": [
    "itemsOrdered.head(3)"
   ]
  },
  {
   "cell_type": "code",
   "execution_count": 107,
   "metadata": {},
   "outputs": [
    {
     "data": {
      "text/html": [
       "<div>\n",
       "<style scoped>\n",
       "    .dataframe tbody tr th:only-of-type {\n",
       "        vertical-align: middle;\n",
       "    }\n",
       "\n",
       "    .dataframe tbody tr th {\n",
       "        vertical-align: top;\n",
       "    }\n",
       "\n",
       "    .dataframe thead th {\n",
       "        text-align: right;\n",
       "    }\n",
       "</style>\n",
       "<table border=\"1\" class=\"dataframe\">\n",
       "  <thead>\n",
       "    <tr style=\"text-align: right;\">\n",
       "      <th></th>\n",
       "      <th>num_order</th>\n",
       "      <th>item_id</th>\n",
       "      <th>created_at</th>\n",
       "      <th>product_id</th>\n",
       "      <th>qty_ordered</th>\n",
       "      <th>base_cost</th>\n",
       "      <th>price</th>\n",
       "      <th>discount_percent</th>\n",
       "      <th>customer_id</th>\n",
       "      <th>city</th>\n",
       "      <th>zipcode</th>\n",
       "    </tr>\n",
       "  </thead>\n",
       "  <tbody>\n",
       "    <tr>\n",
       "      <th>203989</th>\n",
       "      <td>10a97b452a0d8de97e406d7faadbb7dc</td>\n",
       "      <td>516473bbbe47cbcbd090bed79f835ac0</td>\n",
       "      <td>2017-09-03 20:24:31</td>\n",
       "      <td>5578.0</td>\n",
       "      <td>1.0</td>\n",
       "      <td>2.4551</td>\n",
       "      <td>4.08</td>\n",
       "      <td>5.0</td>\n",
       "      <td>df5602637d380293696349f08f91fa57</td>\n",
       "      <td>les botigues de sitges</td>\n",
       "      <td>08860</td>\n",
       "    </tr>\n",
       "  </tbody>\n",
       "</table>\n",
       "</div>"
      ],
      "text/plain": [
       "                               num_order                           item_id  \\\n",
       "203989  10a97b452a0d8de97e406d7faadbb7dc  516473bbbe47cbcbd090bed79f835ac0   \n",
       "\n",
       "                 created_at  product_id  qty_ordered  base_cost  price  \\\n",
       "203989  2017-09-03 20:24:31      5578.0          1.0     2.4551   4.08   \n",
       "\n",
       "        discount_percent                       customer_id  \\\n",
       "203989               5.0  df5602637d380293696349f08f91fa57   \n",
       "\n",
       "                          city zipcode  \n",
       "203989  les botigues de sitges   08860  "
      ]
     },
     "execution_count": 107,
     "metadata": {},
     "output_type": "execute_result"
    }
   ],
   "source": [
    "itemsOrdered[itemsOrdered[\"city\"]==\"les botigues de sitges\"]"
   ]
  },
  {
   "cell_type": "markdown",
   "metadata": {},
   "source": [
    "**Inviable**"
   ]
  },
  {
   "cell_type": "markdown",
   "metadata": {},
   "source": [
    "**Se extrae la columna de código postal**"
   ]
  },
  {
   "cell_type": "code",
   "execution_count": 108,
   "metadata": {},
   "outputs": [
    {
     "name": "stdout",
     "output_type": "stream",
     "text": [
      "(321671,)\n"
     ]
    },
    {
     "data": {
      "text/plain": [
       "0    46019\n",
       "1    46019\n",
       "Name: zipcode, dtype: object"
      ]
     },
     "execution_count": 108,
     "metadata": {},
     "output_type": "execute_result"
    }
   ],
   "source": [
    "zipSerie = itemsOrdered[\"zipcode\"]\n",
    "print(zipSerie.shape)\n",
    "zipSerie.head(2)"
   ]
  },
  {
   "cell_type": "markdown",
   "metadata": {},
   "source": [
    "**Se analizan las condiciones de zipcode**"
   ]
  },
  {
   "cell_type": "code",
   "execution_count": 109,
   "metadata": {},
   "outputs": [
    {
     "data": {
      "text/plain": [
       "array(['46019', '04009', '08225', ..., '4445-151', '43765', '3515-383'],\n",
       "      dtype=object)"
      ]
     },
     "execution_count": 109,
     "metadata": {},
     "output_type": "execute_result"
    }
   ],
   "source": [
    "zipSerie.unique()"
   ]
  },
  {
   "cell_type": "code",
   "execution_count": 110,
   "metadata": {},
   "outputs": [
    {
     "data": {
      "text/plain": [
       "1198"
      ]
     },
     "execution_count": 110,
     "metadata": {},
     "output_type": "execute_result"
    }
   ],
   "source": [
    "zipSerie.isna().sum()"
   ]
  },
  {
   "cell_type": "markdown",
   "metadata": {},
   "source": [
    "**Se comprueba que zipcode tiene valores nulos, se indaga en esta cuestión**"
   ]
  },
  {
   "cell_type": "code",
   "execution_count": 111,
   "metadata": {},
   "outputs": [
    {
     "data": {
      "text/plain": [
       "103273    NaN\n",
       "103274    NaN\n",
       "103275    NaN\n",
       "103276    NaN\n",
       "103492    NaN\n",
       "         ... \n",
       "319351    NaN\n",
       "319352    NaN\n",
       "319476    NaN\n",
       "319477    NaN\n",
       "319478    NaN\n",
       "Name: zipcode, Length: 1198, dtype: object"
      ]
     },
     "execution_count": 111,
     "metadata": {},
     "output_type": "execute_result"
    }
   ],
   "source": [
    "zipSerie[zipSerie.isna()]"
   ]
  },
  {
   "cell_type": "markdown",
   "metadata": {},
   "source": []
  },
  {
   "cell_type": "code",
   "execution_count": 112,
   "metadata": {},
   "outputs": [
    {
     "data": {
      "text/plain": [
       "320473"
      ]
     },
     "execution_count": 112,
     "metadata": {},
     "output_type": "execute_result"
    }
   ],
   "source": [
    "zipSerie.shape[0]-len(zipSerie[zipSerie.isna()].index)"
   ]
  },
  {
   "cell_type": "code",
   "execution_count": 113,
   "metadata": {},
   "outputs": [
    {
     "data": {
      "text/plain": [
       "0.37"
      ]
     },
     "execution_count": 113,
     "metadata": {},
     "output_type": "execute_result"
    }
   ],
   "source": [
    "round((len(zipSerie[zipSerie.isna()].index)/zipSerie.shape[0])*100, 2)"
   ]
  },
  {
   "cell_type": "markdown",
   "metadata": {},
   "source": [
    "**Hay un 37% de valores nulos en la variable. De momento se eliminan con el fin de probar la API para los zipcodes, pero deberá valorarse a futuro**"
   ]
  },
  {
   "cell_type": "code",
   "execution_count": 114,
   "metadata": {},
   "outputs": [
    {
     "data": {
      "text/plain": [
       "320473"
      ]
     },
     "execution_count": 114,
     "metadata": {},
     "output_type": "execute_result"
    }
   ],
   "source": [
    "zipSerie.dropna(inplace=True)\n",
    "zipSerie.shape[0]"
   ]
  },
  {
   "cell_type": "markdown",
   "metadata": {},
   "source": [
    "### USO DE API PARA CÓDIGO POSTAL"
   ]
  },
  {
   "cell_type": "markdown",
   "metadata": {},
   "source": [
    "Descartado por inviabilidad económica y de tiempo"
   ]
  },
  {
   "cell_type": "markdown",
   "metadata": {},
   "source": [
    "### USO DE WEBSCRAPPING PARA CÓDIGO POSTAL"
   ]
  },
  {
   "cell_type": "code",
   "execution_count": 154,
   "metadata": {},
   "outputs": [
    {
     "name": "stderr",
     "output_type": "stream",
     "text": [
      "/tmp/ipykernel_9535/3767679384.py:11: DeprecationWarning: find_element_by_class_name is deprecated. Please use find_element(by=By.CLASS_NAME, value=name) instead\n",
      "  clickButtonZipcode =driver.find_element_by_class_name('submit')\n"
     ]
    }
   ],
   "source": [
    "opts = Options()\n",
    "opts.binary_location = \"/usr/bin/chromium-browser\"\n",
    "driver = webdriver.Chrome(options=opts)\n",
    "\n",
    "mainUrl = \"https://worldpostalcode.com/lookup\"\n",
    "driver.get(mainUrl)\n",
    "\n",
    "insertZipcode =driver.find_element(By.ID,\"search\")\n",
    "insertZipcode.send_keys(\"Selenium\")\n",
    "\n",
    "clickButtonZipcode =driver.find_element_by_class_name('submit')\n",
    "clickButtonZipcode.click()\n",
    "\n",
    "# driver.close()\n",
    "\n",
    "\n",
    "#insertZipcode = driver.find_element_by_id(\"subscriber-count\").text"
   ]
  },
  {
   "cell_type": "markdown",
   "metadata": {},
   "source": []
  }
 ],
 "metadata": {
  "interpreter": {
   "hash": "f876c6d03db2a1b556a458eeb23dadf5ec8e4266298f30cdd70e3128597d8f66"
  },
  "kernelspec": {
   "display_name": "Python 3.10.2 ('penv': venv)",
   "language": "python",
   "name": "python3"
  },
  "language_info": {
   "codemirror_mode": {
    "name": "ipython",
    "version": 3
   },
   "file_extension": ".py",
   "mimetype": "text/x-python",
   "name": "python",
   "nbconvert_exporter": "python",
   "pygments_lexer": "ipython3",
   "version": "3.10.2"
  },
  "orig_nbformat": 4
 },
 "nbformat": 4,
 "nbformat_minor": 2
}
